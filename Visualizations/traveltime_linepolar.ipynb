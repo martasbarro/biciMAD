{
 "cells": [
  {
   "cell_type": "markdown",
   "id": "34aa8768",
   "metadata": {},
   "source": [
    "# Line polar of the travel time by station"
   ]
  },
  {
   "cell_type": "markdown",
   "id": "b54c33ed",
   "metadata": {},
   "source": [
    "### Import libraries"
   ]
  },
  {
   "cell_type": "code",
   "execution_count": 1,
   "id": "e98fa3be",
   "metadata": {},
   "outputs": [],
   "source": [
    "import pandas as pd\n",
    "import plotly.express as px"
   ]
  },
  {
   "cell_type": "markdown",
   "id": "f9c641cd",
   "metadata": {},
   "source": [
    "### Import data"
   ]
  },
  {
   "cell_type": "code",
   "execution_count": 2,
   "id": "03eafbc7",
   "metadata": {},
   "outputs": [
    {
     "data": {
      "text/plain": [
       "idplug_base                   int64\n",
       "user_type                     int64\n",
       "idunplug_base                 int64\n",
       "travel_time                   int64\n",
       "idunplug_station              int64\n",
       "ageRange                      int64\n",
       "idplug_station                int64\n",
       "unplug_hourTime              object\n",
       "zip_code                     object\n",
       "return_date                  object\n",
       "status                       object\n",
       "Origen_destino               object\n",
       "Número_Salida                 int64\n",
       "Distrito_Salida              object\n",
       "Barrio_Salida                object\n",
       "Número de Plazas_Salida     float64\n",
       "Latitud_Salida              float64\n",
       "Longitud_Salida             float64\n",
       "Número_Llegada                int64\n",
       "Distrito_Llegada             object\n",
       "Barrio_Llegada               object\n",
       "Número de Plazas_Llegada    float64\n",
       "Latitud_Llegada             float64\n",
       "Longitud_Llegada            float64\n",
       "dtype: object"
      ]
     },
     "execution_count": 2,
     "metadata": {},
     "output_type": "execute_result"
    }
   ],
   "source": [
    "itinerarios_bases = pd.read_csv('../Data/Itinerarios/itinerarios_bases.csv',index_col=0, dtype={'zip_code': 'str'})\n",
    "itinerarios_bases.dtypes"
   ]
  },
  {
   "cell_type": "code",
   "execution_count": 38,
   "id": "314463a4",
   "metadata": {},
   "outputs": [
    {
     "data": {
      "text/html": [
       "<div>\n",
       "<style scoped>\n",
       "    .dataframe tbody tr th:only-of-type {\n",
       "        vertical-align: middle;\n",
       "    }\n",
       "\n",
       "    .dataframe tbody tr th {\n",
       "        vertical-align: top;\n",
       "    }\n",
       "\n",
       "    .dataframe thead th {\n",
       "        text-align: right;\n",
       "    }\n",
       "</style>\n",
       "<table border=\"1\" class=\"dataframe\">\n",
       "  <thead>\n",
       "    <tr style=\"text-align: right;\">\n",
       "      <th></th>\n",
       "      <th>idplug_base</th>\n",
       "      <th>user_type</th>\n",
       "      <th>idunplug_base</th>\n",
       "      <th>travel_time</th>\n",
       "      <th>idunplug_station</th>\n",
       "      <th>ageRange</th>\n",
       "      <th>idplug_station</th>\n",
       "      <th>unplug_hourTime</th>\n",
       "      <th>zip_code</th>\n",
       "      <th>return_date</th>\n",
       "      <th>status</th>\n",
       "      <th>Origen_destino</th>\n",
       "    </tr>\n",
       "  </thead>\n",
       "  <tbody>\n",
       "    <tr>\n",
       "      <th>0</th>\n",
       "      <td>5</td>\n",
       "      <td>1</td>\n",
       "      <td>20</td>\n",
       "      <td>154</td>\n",
       "      <td>44</td>\n",
       "      <td>5</td>\n",
       "      <td>40</td>\n",
       "      <td>2019-07-01 00:00:00+00:00</td>\n",
       "      <td>28007</td>\n",
       "      <td>2019-07-01 02:33:59.999961600+00:00</td>\n",
       "      <td>short_rental</td>\n",
       "      <td>44-40</td>\n",
       "    </tr>\n",
       "    <tr>\n",
       "      <th>1</th>\n",
       "      <td>8</td>\n",
       "      <td>1</td>\n",
       "      <td>17</td>\n",
       "      <td>184</td>\n",
       "      <td>57</td>\n",
       "      <td>4</td>\n",
       "      <td>129</td>\n",
       "      <td>2019-07-01 00:00:00+00:00</td>\n",
       "      <td>28045</td>\n",
       "      <td>2019-07-01 03:04:00.000019200+00:00</td>\n",
       "      <td>short_rental</td>\n",
       "      <td>57-129</td>\n",
       "    </tr>\n",
       "    <tr>\n",
       "      <th>2</th>\n",
       "      <td>15</td>\n",
       "      <td>1</td>\n",
       "      <td>16</td>\n",
       "      <td>282</td>\n",
       "      <td>53</td>\n",
       "      <td>4</td>\n",
       "      <td>43</td>\n",
       "      <td>2019-07-01 00:00:00+00:00</td>\n",
       "      <td>NaN</td>\n",
       "      <td>2019-07-01 04:41:59.999971200+00:00</td>\n",
       "      <td>short_rental</td>\n",
       "      <td>53-43</td>\n",
       "    </tr>\n",
       "    <tr>\n",
       "      <th>3</th>\n",
       "      <td>18</td>\n",
       "      <td>1</td>\n",
       "      <td>18</td>\n",
       "      <td>388</td>\n",
       "      <td>56</td>\n",
       "      <td>0</td>\n",
       "      <td>13</td>\n",
       "      <td>2019-07-01 00:00:00+00:00</td>\n",
       "      <td>NaN</td>\n",
       "      <td>2019-07-01 06:27:59.999961600+00:00</td>\n",
       "      <td>short_rental</td>\n",
       "      <td>56-13</td>\n",
       "    </tr>\n",
       "    <tr>\n",
       "      <th>4</th>\n",
       "      <td>1</td>\n",
       "      <td>1</td>\n",
       "      <td>20</td>\n",
       "      <td>254</td>\n",
       "      <td>105</td>\n",
       "      <td>0</td>\n",
       "      <td>75</td>\n",
       "      <td>2019-07-01 00:00:00+00:00</td>\n",
       "      <td>NaN</td>\n",
       "      <td>2019-07-01 04:14:00.000009600+00:00</td>\n",
       "      <td>short_rental</td>\n",
       "      <td>105-75</td>\n",
       "    </tr>\n",
       "    <tr>\n",
       "      <th>...</th>\n",
       "      <td>...</td>\n",
       "      <td>...</td>\n",
       "      <td>...</td>\n",
       "      <td>...</td>\n",
       "      <td>...</td>\n",
       "      <td>...</td>\n",
       "      <td>...</td>\n",
       "      <td>...</td>\n",
       "      <td>...</td>\n",
       "      <td>...</td>\n",
       "      <td>...</td>\n",
       "      <td>...</td>\n",
       "    </tr>\n",
       "    <tr>\n",
       "      <th>1862976</th>\n",
       "      <td>17</td>\n",
       "      <td>1</td>\n",
       "      <td>24</td>\n",
       "      <td>1433</td>\n",
       "      <td>204</td>\n",
       "      <td>4</td>\n",
       "      <td>180</td>\n",
       "      <td>2019-12-31 23:00:00+00:00</td>\n",
       "      <td>28045</td>\n",
       "      <td>2020-01-01 22:53:00.000009600+00:00</td>\n",
       "      <td>short_rental</td>\n",
       "      <td>204-180</td>\n",
       "    </tr>\n",
       "    <tr>\n",
       "      <th>1862977</th>\n",
       "      <td>1</td>\n",
       "      <td>1</td>\n",
       "      <td>8</td>\n",
       "      <td>2727</td>\n",
       "      <td>4</td>\n",
       "      <td>0</td>\n",
       "      <td>99</td>\n",
       "      <td>2019-12-31 23:00:00+00:00</td>\n",
       "      <td>NaN</td>\n",
       "      <td>2020-01-02 20:27:00+00:00</td>\n",
       "      <td>long_rental</td>\n",
       "      <td>4-99</td>\n",
       "    </tr>\n",
       "    <tr>\n",
       "      <th>1862978</th>\n",
       "      <td>6</td>\n",
       "      <td>1</td>\n",
       "      <td>9</td>\n",
       "      <td>898</td>\n",
       "      <td>77</td>\n",
       "      <td>4</td>\n",
       "      <td>174</td>\n",
       "      <td>2019-12-31 23:00:00+00:00</td>\n",
       "      <td>28012</td>\n",
       "      <td>2020-01-01 13:57:59.999990400+00:00</td>\n",
       "      <td>short_rental</td>\n",
       "      <td>77-174</td>\n",
       "    </tr>\n",
       "    <tr>\n",
       "      <th>1862979</th>\n",
       "      <td>24</td>\n",
       "      <td>1</td>\n",
       "      <td>18</td>\n",
       "      <td>15890</td>\n",
       "      <td>216</td>\n",
       "      <td>4</td>\n",
       "      <td>216</td>\n",
       "      <td>2019-12-31 23:00:00+00:00</td>\n",
       "      <td>28005</td>\n",
       "      <td>2020-01-11 23:49:59.999980799+00:00</td>\n",
       "      <td>long_rental</td>\n",
       "      <td>216-216</td>\n",
       "    </tr>\n",
       "    <tr>\n",
       "      <th>1862980</th>\n",
       "      <td>17</td>\n",
       "      <td>1</td>\n",
       "      <td>24</td>\n",
       "      <td>452</td>\n",
       "      <td>170</td>\n",
       "      <td>0</td>\n",
       "      <td>208</td>\n",
       "      <td>2019-12-31 23:00:00+00:00</td>\n",
       "      <td>NaN</td>\n",
       "      <td>2020-01-01 06:32:00.000009600+00:00</td>\n",
       "      <td>short_rental</td>\n",
       "      <td>170-208</td>\n",
       "    </tr>\n",
       "  </tbody>\n",
       "</table>\n",
       "<p>1862981 rows × 12 columns</p>\n",
       "</div>"
      ],
      "text/plain": [
       "         idplug_base  user_type  idunplug_base  travel_time  idunplug_station  \\\n",
       "0                  5          1             20          154                44   \n",
       "1                  8          1             17          184                57   \n",
       "2                 15          1             16          282                53   \n",
       "3                 18          1             18          388                56   \n",
       "4                  1          1             20          254               105   \n",
       "...              ...        ...            ...          ...               ...   \n",
       "1862976           17          1             24         1433               204   \n",
       "1862977            1          1              8         2727                 4   \n",
       "1862978            6          1              9          898                77   \n",
       "1862979           24          1             18        15890               216   \n",
       "1862980           17          1             24          452               170   \n",
       "\n",
       "         ageRange  idplug_station            unplug_hourTime zip_code  \\\n",
       "0               5              40  2019-07-01 00:00:00+00:00    28007   \n",
       "1               4             129  2019-07-01 00:00:00+00:00    28045   \n",
       "2               4              43  2019-07-01 00:00:00+00:00      NaN   \n",
       "3               0              13  2019-07-01 00:00:00+00:00      NaN   \n",
       "4               0              75  2019-07-01 00:00:00+00:00      NaN   \n",
       "...           ...             ...                        ...      ...   \n",
       "1862976         4             180  2019-12-31 23:00:00+00:00    28045   \n",
       "1862977         0              99  2019-12-31 23:00:00+00:00      NaN   \n",
       "1862978         4             174  2019-12-31 23:00:00+00:00    28012   \n",
       "1862979         4             216  2019-12-31 23:00:00+00:00    28005   \n",
       "1862980         0             208  2019-12-31 23:00:00+00:00      NaN   \n",
       "\n",
       "                                 return_date        status Origen_destino  \n",
       "0        2019-07-01 02:33:59.999961600+00:00  short_rental          44-40  \n",
       "1        2019-07-01 03:04:00.000019200+00:00  short_rental         57-129  \n",
       "2        2019-07-01 04:41:59.999971200+00:00  short_rental          53-43  \n",
       "3        2019-07-01 06:27:59.999961600+00:00  short_rental          56-13  \n",
       "4        2019-07-01 04:14:00.000009600+00:00  short_rental         105-75  \n",
       "...                                      ...           ...            ...  \n",
       "1862976  2020-01-01 22:53:00.000009600+00:00  short_rental        204-180  \n",
       "1862977            2020-01-02 20:27:00+00:00   long_rental           4-99  \n",
       "1862978  2020-01-01 13:57:59.999990400+00:00  short_rental         77-174  \n",
       "1862979  2020-01-11 23:49:59.999980799+00:00   long_rental        216-216  \n",
       "1862980  2020-01-01 06:32:00.000009600+00:00  short_rental        170-208  \n",
       "\n",
       "[1862981 rows x 12 columns]"
      ]
     },
     "execution_count": 38,
     "metadata": {},
     "output_type": "execute_result"
    }
   ],
   "source": [
    "bases = pd.read_csv('../Data/Itinerarios/itinerarios.csv',index_col=0, dtype={'zip_code': 'str'})\n",
    "bases"
   ]
  },
  {
   "cell_type": "markdown",
   "id": "1562cf0f",
   "metadata": {},
   "source": [
    "### Reshape data"
   ]
  },
  {
   "cell_type": "markdown",
   "id": "cd0752f5",
   "metadata": {},
   "source": [
    "Only take into consideration short rentals (we dont't want to consider lost or erroneous movements) and user_type == 1 or 2 (no bicimad employees movements)"
   ]
  },
  {
   "cell_type": "markdown",
   "id": "3a333f01",
   "metadata": {},
   "source": [
    "Filter station to explore"
   ]
  },
  {
   "cell_type": "code",
   "execution_count": 16,
   "id": "74f7b508",
   "metadata": {},
   "outputs": [],
   "source": [
    "itinerarios1 = itinerarios_bases[(itinerarios_bases[\"user_type\"].isin([1,2]))&(itinerarios_bases[\"status\"]==\"short_rental\")]"
   ]
  },
  {
   "cell_type": "code",
   "execution_count": 20,
   "id": "4fdbca0a",
   "metadata": {},
   "outputs": [
    {
     "name": "stdout",
     "output_type": "stream",
     "text": [
      "¿Qué estación quieres explorar?: 175\n",
      "175\n"
     ]
    }
   ],
   "source": [
    "N_station = int(input(\"¿Qué estación quieres explorar?: \"))\n",
    "itinerarios1 = itinerarios1[itinerarios1[\"idunplug_station\"] == N_station].reset_index(drop=True)\n",
    "print(N_station)"
   ]
  },
  {
   "cell_type": "code",
   "execution_count": 30,
   "id": "05c0d41a",
   "metadata": {},
   "outputs": [
    {
     "data": {
      "text/html": [
       "<div>\n",
       "<style scoped>\n",
       "    .dataframe tbody tr th:only-of-type {\n",
       "        vertical-align: middle;\n",
       "    }\n",
       "\n",
       "    .dataframe tbody tr th {\n",
       "        vertical-align: top;\n",
       "    }\n",
       "\n",
       "    .dataframe thead th {\n",
       "        text-align: right;\n",
       "    }\n",
       "</style>\n",
       "<table border=\"1\" class=\"dataframe\">\n",
       "  <thead>\n",
       "    <tr style=\"text-align: right;\">\n",
       "      <th></th>\n",
       "      <th>idplug_station</th>\n",
       "      <th>travel_time</th>\n",
       "    </tr>\n",
       "  </thead>\n",
       "  <tbody>\n",
       "    <tr>\n",
       "      <th>0</th>\n",
       "      <td>1</td>\n",
       "      <td>484.487850</td>\n",
       "    </tr>\n",
       "    <tr>\n",
       "      <th>1</th>\n",
       "      <td>2</td>\n",
       "      <td>488.880952</td>\n",
       "    </tr>\n",
       "    <tr>\n",
       "      <th>2</th>\n",
       "      <td>3</td>\n",
       "      <td>650.369427</td>\n",
       "    </tr>\n",
       "    <tr>\n",
       "      <th>3</th>\n",
       "      <td>4</td>\n",
       "      <td>1001.116279</td>\n",
       "    </tr>\n",
       "    <tr>\n",
       "      <th>4</th>\n",
       "      <td>5</td>\n",
       "      <td>841.702830</td>\n",
       "    </tr>\n",
       "    <tr>\n",
       "      <th>...</th>\n",
       "      <td>...</td>\n",
       "      <td>...</td>\n",
       "    </tr>\n",
       "    <tr>\n",
       "      <th>190</th>\n",
       "      <td>211</td>\n",
       "      <td>1022.033898</td>\n",
       "    </tr>\n",
       "    <tr>\n",
       "      <th>191</th>\n",
       "      <td>212</td>\n",
       "      <td>1311.000000</td>\n",
       "    </tr>\n",
       "    <tr>\n",
       "      <th>192</th>\n",
       "      <td>213</td>\n",
       "      <td>1271.681818</td>\n",
       "    </tr>\n",
       "    <tr>\n",
       "      <th>193</th>\n",
       "      <td>218</td>\n",
       "      <td>594.729730</td>\n",
       "    </tr>\n",
       "    <tr>\n",
       "      <th>194</th>\n",
       "      <td>219</td>\n",
       "      <td>666.648438</td>\n",
       "    </tr>\n",
       "  </tbody>\n",
       "</table>\n",
       "<p>195 rows × 2 columns</p>\n",
       "</div>"
      ],
      "text/plain": [
       "     idplug_station  travel_time\n",
       "0                 1   484.487850\n",
       "1                 2   488.880952\n",
       "2                 3   650.369427\n",
       "3                 4  1001.116279\n",
       "4                 5   841.702830\n",
       "..              ...          ...\n",
       "190             211  1022.033898\n",
       "191             212  1311.000000\n",
       "192             213  1271.681818\n",
       "193             218   594.729730\n",
       "194             219   666.648438\n",
       "\n",
       "[195 rows x 2 columns]"
      ]
     },
     "execution_count": 30,
     "metadata": {},
     "output_type": "execute_result"
    }
   ],
   "source": [
    "itinerarios1.groupby(itinerarios1[\"idplug_station\"]).agg({'travel_time':'mean'}).reset_index()"
   ]
  },
  {
   "cell_type": "code",
   "execution_count": 35,
   "id": "cfcda9bb",
   "metadata": {},
   "outputs": [
    {
     "name": "stderr",
     "output_type": "stream",
     "text": [
      "C:\\Users\\Marta\\anaconda3\\lib\\site-packages\\plotly\\express\\_core.py:271: FutureWarning:\n",
      "\n",
      "The frame.append method is deprecated and will be removed from pandas in a future version. Use pandas.concat instead.\n",
      "\n"
     ]
    },
    {
     "data": {
      "application/vnd.plotly.v1+json": {
       "config": {
        "plotlyServerURL": "https://plot.ly"
       },
       "data": [
        {
         "hovertemplate": "travel_time=%{r}<br>idplug_station=%{theta}<extra></extra>",
         "legendgroup": "",
         "line": {
          "color": "#636efa",
          "dash": "solid"
         },
         "marker": {
          "symbol": "circle"
         },
         "mode": "lines",
         "name": "",
         "r": [
          484.4878504672897,
          488.8809523809524,
          650.3694267515923,
          1001.1162790697674,
          841.7028301886793,
          811.2803738317757,
          972.3875,
          809.68,
          897.8225806451613,
          349.59859154929575,
          1059.6153846153845,
          858.2816901408451,
          769.7432432432432,
          787.6575342465753,
          639.5625,
          608.969696969697,
          601.4593301435407,
          679.1810344827586,
          810.3407407407408,
          920.24,
          518.1410256410256,
          477.841726618705,
          368.6723259762309,
          443.8541666666667,
          478.37333333333333,
          944.8787878787879,
          653.1605504587156,
          635.9802955665025,
          405.4318181818182,
          425.3061889250814,
          423.98173515981733,
          499.9216216216216,
          495.3460837887067,
          318.5655737704918,
          372.2369942196532,
          327.1145038167939,
          344.2437810945274,
          377.36300417246173,
          448.1786941580756,
          544.8346613545817,
          562.0539419087137,
          497.2704402515723,
          509.7608695652174,
          420.49415204678365,
          469.03208556149735,
          578.7006369426751,
          597.6556603773585,
          649.4662576687117,
          678.0540540540541,
          744.3451327433628,
          527.9280821917808,
          628.5457516339869,
          830.5,
          798.6844262295082,
          527.1574803149606,
          818.8787878787879,
          740.4120603015075,
          692.457627118644,
          1087.2333333333333,
          1179.9411764705883,
          840.3870967741935,
          737.489932885906,
          824.6428571428571,
          882.6296296296297,
          1202.45,
          1147.4117647058824,
          1230.6120689655172,
          1186.8,
          1119.5,
          1023.32,
          1136.5714285714287,
          1032.4444444444443,
          1182.7226277372263,
          964.8407079646017,
          700.5454545454545,
          758.1129032258065,
          919.53125,
          1306.2857142857142,
          1138.0625,
          981.008695652174,
          875.728813559322,
          1158.4,
          1043.1875,
          1253.2,
          1080.3333333333333,
          1155.278350515464,
          1090.5454545454545,
          1118,
          880.1647058823529,
          922.9368421052632,
          937.5106382978723,
          1013.375,
          1176.9333333333334,
          1142.9333333333334,
          1140,
          1194,
          1064.4736842105262,
          1151.1724137931035,
          1142.5882352941176,
          1090.6,
          1050.090909090909,
          1028.904761904762,
          954.1875,
          1279.2631578947369,
          1258.7777777777778,
          835.0333333333333,
          887.448275862069,
          1027.6701030927834,
          909.9285714285714,
          796.5294117647059,
          828.008,
          751.0769230769231,
          629.9323671497584,
          622.5747126436781,
          885.3888888888889,
          973.3023255813954,
          996.25,
          804.1630434782609,
          722.4538745387454,
          1050.137254901961,
          863.560606060606,
          385.1565557729941,
          448.15064102564105,
          586.9611111111111,
          830.9826923076923,
          824.3939393939394,
          1194.25,
          1335.1764705882354,
          1357.6923076923076,
          1348.3333333333333,
          1349.4166666666667,
          1350.7777777777778,
          1376.6,
          1344,
          1291,
          1239,
          1184.2,
          1292,
          1335,
          1288.6363636363637,
          1191.576923076923,
          1214.6666666666667,
          1156.5116279069769,
          1257.5,
          1362.5,
          1060.6436781609195,
          1106.0666666666666,
          1291.5333333333333,
          1023.8737864077669,
          1192.125,
          1234,
          1256.5714285714287,
          1036.0405405405406,
          920.7762237762238,
          956.1025641025641,
          1266.909090909091,
          1171.3333333333333,
          237.9274924471299,
          805.3745173745174,
          630.3333333333334,
          539.7105263157895,
          619.0714285714286,
          776.15,
          890.8875,
          659.64,
          657.6831683168317,
          833.0849056603773,
          881.5454545454545,
          944.8910891089109,
          1097.659574468085,
          1263.3333333333333,
          1143.2368421052631,
          1273.3125,
          1380,
          1341.2,
          1165.9,
          1357.5,
          1321.6,
          1089,
          1250.3333333333333,
          1425,
          1369.75,
          1340,
          1360,
          1289.357142857143,
          1151.7,
          1063.642857142857,
          898.8571428571429,
          1146,
          1118.8461538461538,
          1022.0338983050848,
          1311,
          1271.6818181818182,
          594.7297297297297,
          666.6484375,
          484.4878504672897
         ],
         "showlegend": false,
         "subplot": "polar",
         "theta": [
          1,
          2,
          3,
          4,
          5,
          6,
          7,
          8,
          9,
          10,
          11,
          12,
          13,
          14,
          15,
          16,
          17,
          18,
          19,
          20,
          25,
          26,
          27,
          28,
          29,
          30,
          31,
          33,
          34,
          35,
          36,
          37,
          38,
          39,
          40,
          41,
          42,
          43,
          44,
          45,
          46,
          47,
          48,
          49,
          50,
          51,
          52,
          53,
          54,
          55,
          56,
          57,
          58,
          59,
          60,
          61,
          62,
          63,
          65,
          67,
          69,
          71,
          72,
          73,
          74,
          75,
          76,
          77,
          78,
          79,
          80,
          81,
          82,
          83,
          84,
          85,
          86,
          87,
          89,
          90,
          91,
          92,
          93,
          94,
          95,
          96,
          97,
          98,
          99,
          100,
          101,
          102,
          103,
          104,
          105,
          106,
          107,
          108,
          109,
          110,
          111,
          112,
          113,
          114,
          115,
          116,
          117,
          118,
          119,
          120,
          121,
          122,
          123,
          124,
          125,
          126,
          127,
          128,
          129,
          130,
          131,
          132,
          133,
          134,
          135,
          136,
          137,
          138,
          139,
          142,
          143,
          145,
          146,
          147,
          148,
          149,
          151,
          152,
          153,
          154,
          155,
          156,
          157,
          158,
          159,
          160,
          161,
          162,
          163,
          164,
          165,
          166,
          167,
          168,
          169,
          170,
          171,
          174,
          175,
          176,
          177,
          178,
          179,
          180,
          181,
          182,
          183,
          184,
          185,
          187,
          188,
          189,
          190,
          191,
          192,
          193,
          194,
          195,
          196,
          198,
          200,
          201,
          202,
          203,
          204,
          206,
          207,
          208,
          209,
          210,
          211,
          212,
          213,
          218,
          219,
          1
         ],
         "type": "scatterpolar"
        }
       ],
       "layout": {
        "legend": {
         "tracegroupgap": 0
        },
        "margin": {
         "t": 60
        },
        "polar": {
         "angularaxis": {
          "direction": "clockwise",
          "rotation": 90
         },
         "domain": {
          "x": [
           0,
           1
          ],
          "y": [
           0,
           1
          ]
         }
        },
        "template": {
         "data": {
          "bar": [
           {
            "error_x": {
             "color": "#2a3f5f"
            },
            "error_y": {
             "color": "#2a3f5f"
            },
            "marker": {
             "line": {
              "color": "#E5ECF6",
              "width": 0.5
             },
             "pattern": {
              "fillmode": "overlay",
              "size": 10,
              "solidity": 0.2
             }
            },
            "type": "bar"
           }
          ],
          "barpolar": [
           {
            "marker": {
             "line": {
              "color": "#E5ECF6",
              "width": 0.5
             },
             "pattern": {
              "fillmode": "overlay",
              "size": 10,
              "solidity": 0.2
             }
            },
            "type": "barpolar"
           }
          ],
          "carpet": [
           {
            "aaxis": {
             "endlinecolor": "#2a3f5f",
             "gridcolor": "white",
             "linecolor": "white",
             "minorgridcolor": "white",
             "startlinecolor": "#2a3f5f"
            },
            "baxis": {
             "endlinecolor": "#2a3f5f",
             "gridcolor": "white",
             "linecolor": "white",
             "minorgridcolor": "white",
             "startlinecolor": "#2a3f5f"
            },
            "type": "carpet"
           }
          ],
          "choropleth": [
           {
            "colorbar": {
             "outlinewidth": 0,
             "ticks": ""
            },
            "type": "choropleth"
           }
          ],
          "contour": [
           {
            "colorbar": {
             "outlinewidth": 0,
             "ticks": ""
            },
            "colorscale": [
             [
              0,
              "#0d0887"
             ],
             [
              0.1111111111111111,
              "#46039f"
             ],
             [
              0.2222222222222222,
              "#7201a8"
             ],
             [
              0.3333333333333333,
              "#9c179e"
             ],
             [
              0.4444444444444444,
              "#bd3786"
             ],
             [
              0.5555555555555556,
              "#d8576b"
             ],
             [
              0.6666666666666666,
              "#ed7953"
             ],
             [
              0.7777777777777778,
              "#fb9f3a"
             ],
             [
              0.8888888888888888,
              "#fdca26"
             ],
             [
              1,
              "#f0f921"
             ]
            ],
            "type": "contour"
           }
          ],
          "contourcarpet": [
           {
            "colorbar": {
             "outlinewidth": 0,
             "ticks": ""
            },
            "type": "contourcarpet"
           }
          ],
          "heatmap": [
           {
            "colorbar": {
             "outlinewidth": 0,
             "ticks": ""
            },
            "colorscale": [
             [
              0,
              "#0d0887"
             ],
             [
              0.1111111111111111,
              "#46039f"
             ],
             [
              0.2222222222222222,
              "#7201a8"
             ],
             [
              0.3333333333333333,
              "#9c179e"
             ],
             [
              0.4444444444444444,
              "#bd3786"
             ],
             [
              0.5555555555555556,
              "#d8576b"
             ],
             [
              0.6666666666666666,
              "#ed7953"
             ],
             [
              0.7777777777777778,
              "#fb9f3a"
             ],
             [
              0.8888888888888888,
              "#fdca26"
             ],
             [
              1,
              "#f0f921"
             ]
            ],
            "type": "heatmap"
           }
          ],
          "heatmapgl": [
           {
            "colorbar": {
             "outlinewidth": 0,
             "ticks": ""
            },
            "colorscale": [
             [
              0,
              "#0d0887"
             ],
             [
              0.1111111111111111,
              "#46039f"
             ],
             [
              0.2222222222222222,
              "#7201a8"
             ],
             [
              0.3333333333333333,
              "#9c179e"
             ],
             [
              0.4444444444444444,
              "#bd3786"
             ],
             [
              0.5555555555555556,
              "#d8576b"
             ],
             [
              0.6666666666666666,
              "#ed7953"
             ],
             [
              0.7777777777777778,
              "#fb9f3a"
             ],
             [
              0.8888888888888888,
              "#fdca26"
             ],
             [
              1,
              "#f0f921"
             ]
            ],
            "type": "heatmapgl"
           }
          ],
          "histogram": [
           {
            "marker": {
             "pattern": {
              "fillmode": "overlay",
              "size": 10,
              "solidity": 0.2
             }
            },
            "type": "histogram"
           }
          ],
          "histogram2d": [
           {
            "colorbar": {
             "outlinewidth": 0,
             "ticks": ""
            },
            "colorscale": [
             [
              0,
              "#0d0887"
             ],
             [
              0.1111111111111111,
              "#46039f"
             ],
             [
              0.2222222222222222,
              "#7201a8"
             ],
             [
              0.3333333333333333,
              "#9c179e"
             ],
             [
              0.4444444444444444,
              "#bd3786"
             ],
             [
              0.5555555555555556,
              "#d8576b"
             ],
             [
              0.6666666666666666,
              "#ed7953"
             ],
             [
              0.7777777777777778,
              "#fb9f3a"
             ],
             [
              0.8888888888888888,
              "#fdca26"
             ],
             [
              1,
              "#f0f921"
             ]
            ],
            "type": "histogram2d"
           }
          ],
          "histogram2dcontour": [
           {
            "colorbar": {
             "outlinewidth": 0,
             "ticks": ""
            },
            "colorscale": [
             [
              0,
              "#0d0887"
             ],
             [
              0.1111111111111111,
              "#46039f"
             ],
             [
              0.2222222222222222,
              "#7201a8"
             ],
             [
              0.3333333333333333,
              "#9c179e"
             ],
             [
              0.4444444444444444,
              "#bd3786"
             ],
             [
              0.5555555555555556,
              "#d8576b"
             ],
             [
              0.6666666666666666,
              "#ed7953"
             ],
             [
              0.7777777777777778,
              "#fb9f3a"
             ],
             [
              0.8888888888888888,
              "#fdca26"
             ],
             [
              1,
              "#f0f921"
             ]
            ],
            "type": "histogram2dcontour"
           }
          ],
          "mesh3d": [
           {
            "colorbar": {
             "outlinewidth": 0,
             "ticks": ""
            },
            "type": "mesh3d"
           }
          ],
          "parcoords": [
           {
            "line": {
             "colorbar": {
              "outlinewidth": 0,
              "ticks": ""
             }
            },
            "type": "parcoords"
           }
          ],
          "pie": [
           {
            "automargin": true,
            "type": "pie"
           }
          ],
          "scatter": [
           {
            "fillpattern": {
             "fillmode": "overlay",
             "size": 10,
             "solidity": 0.2
            },
            "type": "scatter"
           }
          ],
          "scatter3d": [
           {
            "line": {
             "colorbar": {
              "outlinewidth": 0,
              "ticks": ""
             }
            },
            "marker": {
             "colorbar": {
              "outlinewidth": 0,
              "ticks": ""
             }
            },
            "type": "scatter3d"
           }
          ],
          "scattercarpet": [
           {
            "marker": {
             "colorbar": {
              "outlinewidth": 0,
              "ticks": ""
             }
            },
            "type": "scattercarpet"
           }
          ],
          "scattergeo": [
           {
            "marker": {
             "colorbar": {
              "outlinewidth": 0,
              "ticks": ""
             }
            },
            "type": "scattergeo"
           }
          ],
          "scattergl": [
           {
            "marker": {
             "colorbar": {
              "outlinewidth": 0,
              "ticks": ""
             }
            },
            "type": "scattergl"
           }
          ],
          "scattermapbox": [
           {
            "marker": {
             "colorbar": {
              "outlinewidth": 0,
              "ticks": ""
             }
            },
            "type": "scattermapbox"
           }
          ],
          "scatterpolar": [
           {
            "marker": {
             "colorbar": {
              "outlinewidth": 0,
              "ticks": ""
             }
            },
            "type": "scatterpolar"
           }
          ],
          "scatterpolargl": [
           {
            "marker": {
             "colorbar": {
              "outlinewidth": 0,
              "ticks": ""
             }
            },
            "type": "scatterpolargl"
           }
          ],
          "scatterternary": [
           {
            "marker": {
             "colorbar": {
              "outlinewidth": 0,
              "ticks": ""
             }
            },
            "type": "scatterternary"
           }
          ],
          "surface": [
           {
            "colorbar": {
             "outlinewidth": 0,
             "ticks": ""
            },
            "colorscale": [
             [
              0,
              "#0d0887"
             ],
             [
              0.1111111111111111,
              "#46039f"
             ],
             [
              0.2222222222222222,
              "#7201a8"
             ],
             [
              0.3333333333333333,
              "#9c179e"
             ],
             [
              0.4444444444444444,
              "#bd3786"
             ],
             [
              0.5555555555555556,
              "#d8576b"
             ],
             [
              0.6666666666666666,
              "#ed7953"
             ],
             [
              0.7777777777777778,
              "#fb9f3a"
             ],
             [
              0.8888888888888888,
              "#fdca26"
             ],
             [
              1,
              "#f0f921"
             ]
            ],
            "type": "surface"
           }
          ],
          "table": [
           {
            "cells": {
             "fill": {
              "color": "#EBF0F8"
             },
             "line": {
              "color": "white"
             }
            },
            "header": {
             "fill": {
              "color": "#C8D4E3"
             },
             "line": {
              "color": "white"
             }
            },
            "type": "table"
           }
          ]
         },
         "layout": {
          "annotationdefaults": {
           "arrowcolor": "#2a3f5f",
           "arrowhead": 0,
           "arrowwidth": 1
          },
          "autotypenumbers": "strict",
          "coloraxis": {
           "colorbar": {
            "outlinewidth": 0,
            "ticks": ""
           }
          },
          "colorscale": {
           "diverging": [
            [
             0,
             "#8e0152"
            ],
            [
             0.1,
             "#c51b7d"
            ],
            [
             0.2,
             "#de77ae"
            ],
            [
             0.3,
             "#f1b6da"
            ],
            [
             0.4,
             "#fde0ef"
            ],
            [
             0.5,
             "#f7f7f7"
            ],
            [
             0.6,
             "#e6f5d0"
            ],
            [
             0.7,
             "#b8e186"
            ],
            [
             0.8,
             "#7fbc41"
            ],
            [
             0.9,
             "#4d9221"
            ],
            [
             1,
             "#276419"
            ]
           ],
           "sequential": [
            [
             0,
             "#0d0887"
            ],
            [
             0.1111111111111111,
             "#46039f"
            ],
            [
             0.2222222222222222,
             "#7201a8"
            ],
            [
             0.3333333333333333,
             "#9c179e"
            ],
            [
             0.4444444444444444,
             "#bd3786"
            ],
            [
             0.5555555555555556,
             "#d8576b"
            ],
            [
             0.6666666666666666,
             "#ed7953"
            ],
            [
             0.7777777777777778,
             "#fb9f3a"
            ],
            [
             0.8888888888888888,
             "#fdca26"
            ],
            [
             1,
             "#f0f921"
            ]
           ],
           "sequentialminus": [
            [
             0,
             "#0d0887"
            ],
            [
             0.1111111111111111,
             "#46039f"
            ],
            [
             0.2222222222222222,
             "#7201a8"
            ],
            [
             0.3333333333333333,
             "#9c179e"
            ],
            [
             0.4444444444444444,
             "#bd3786"
            ],
            [
             0.5555555555555556,
             "#d8576b"
            ],
            [
             0.6666666666666666,
             "#ed7953"
            ],
            [
             0.7777777777777778,
             "#fb9f3a"
            ],
            [
             0.8888888888888888,
             "#fdca26"
            ],
            [
             1,
             "#f0f921"
            ]
           ]
          },
          "colorway": [
           "#636efa",
           "#EF553B",
           "#00cc96",
           "#ab63fa",
           "#FFA15A",
           "#19d3f3",
           "#FF6692",
           "#B6E880",
           "#FF97FF",
           "#FECB52"
          ],
          "font": {
           "color": "#2a3f5f"
          },
          "geo": {
           "bgcolor": "white",
           "lakecolor": "white",
           "landcolor": "#E5ECF6",
           "showlakes": true,
           "showland": true,
           "subunitcolor": "white"
          },
          "hoverlabel": {
           "align": "left"
          },
          "hovermode": "closest",
          "mapbox": {
           "style": "light"
          },
          "paper_bgcolor": "white",
          "plot_bgcolor": "#E5ECF6",
          "polar": {
           "angularaxis": {
            "gridcolor": "white",
            "linecolor": "white",
            "ticks": ""
           },
           "bgcolor": "#E5ECF6",
           "radialaxis": {
            "gridcolor": "white",
            "linecolor": "white",
            "ticks": ""
           }
          },
          "scene": {
           "xaxis": {
            "backgroundcolor": "#E5ECF6",
            "gridcolor": "white",
            "gridwidth": 2,
            "linecolor": "white",
            "showbackground": true,
            "ticks": "",
            "zerolinecolor": "white"
           },
           "yaxis": {
            "backgroundcolor": "#E5ECF6",
            "gridcolor": "white",
            "gridwidth": 2,
            "linecolor": "white",
            "showbackground": true,
            "ticks": "",
            "zerolinecolor": "white"
           },
           "zaxis": {
            "backgroundcolor": "#E5ECF6",
            "gridcolor": "white",
            "gridwidth": 2,
            "linecolor": "white",
            "showbackground": true,
            "ticks": "",
            "zerolinecolor": "white"
           }
          },
          "shapedefaults": {
           "line": {
            "color": "#2a3f5f"
           }
          },
          "ternary": {
           "aaxis": {
            "gridcolor": "white",
            "linecolor": "white",
            "ticks": ""
           },
           "baxis": {
            "gridcolor": "white",
            "linecolor": "white",
            "ticks": ""
           },
           "bgcolor": "#E5ECF6",
           "caxis": {
            "gridcolor": "white",
            "linecolor": "white",
            "ticks": ""
           }
          },
          "title": {
           "x": 0.05
          },
          "xaxis": {
           "automargin": true,
           "gridcolor": "white",
           "linecolor": "white",
           "ticks": "",
           "title": {
            "standoff": 15
           },
           "zerolinecolor": "white",
           "zerolinewidth": 2
          },
          "yaxis": {
           "automargin": true,
           "gridcolor": "white",
           "linecolor": "white",
           "ticks": "",
           "title": {
            "standoff": 15
           },
           "zerolinecolor": "white",
           "zerolinewidth": 2
          }
         }
        }
       }
      },
      "text/html": [
       "<div>                            <div id=\"de3ba19c-c306-4762-8481-419d3b8d4399\" class=\"plotly-graph-div\" style=\"height:525px; width:100%;\"></div>            <script type=\"text/javascript\">                require([\"plotly\"], function(Plotly) {                    window.PLOTLYENV=window.PLOTLYENV || {};                                    if (document.getElementById(\"de3ba19c-c306-4762-8481-419d3b8d4399\")) {                    Plotly.newPlot(                        \"de3ba19c-c306-4762-8481-419d3b8d4399\",                        [{\"hovertemplate\":\"travel_time=%{r}<br>idplug_station=%{theta}<extra></extra>\",\"legendgroup\":\"\",\"line\":{\"color\":\"#636efa\",\"dash\":\"solid\"},\"marker\":{\"symbol\":\"circle\"},\"mode\":\"lines\",\"name\":\"\",\"r\":[484.4878504672897,488.8809523809524,650.3694267515923,1001.1162790697674,841.7028301886793,811.2803738317757,972.3875,809.68,897.8225806451613,349.59859154929575,1059.6153846153845,858.2816901408451,769.7432432432432,787.6575342465753,639.5625,608.969696969697,601.4593301435407,679.1810344827586,810.3407407407408,920.24,518.1410256410256,477.841726618705,368.6723259762309,443.8541666666667,478.37333333333333,944.8787878787879,653.1605504587156,635.9802955665025,405.4318181818182,425.3061889250814,423.98173515981733,499.9216216216216,495.3460837887067,318.5655737704918,372.2369942196532,327.1145038167939,344.2437810945274,377.36300417246173,448.1786941580756,544.8346613545817,562.0539419087137,497.2704402515723,509.7608695652174,420.49415204678365,469.03208556149735,578.7006369426751,597.6556603773585,649.4662576687117,678.0540540540541,744.3451327433628,527.9280821917808,628.5457516339869,830.5,798.6844262295082,527.1574803149606,818.8787878787879,740.4120603015075,692.457627118644,1087.2333333333333,1179.9411764705883,840.3870967741935,737.489932885906,824.6428571428571,882.6296296296297,1202.45,1147.4117647058824,1230.6120689655172,1186.8,1119.5,1023.32,1136.5714285714287,1032.4444444444443,1182.7226277372263,964.8407079646017,700.5454545454545,758.1129032258065,919.53125,1306.2857142857142,1138.0625,981.008695652174,875.728813559322,1158.4,1043.1875,1253.2,1080.3333333333333,1155.278350515464,1090.5454545454545,1118.0,880.1647058823529,922.9368421052632,937.5106382978723,1013.375,1176.9333333333334,1142.9333333333334,1140.0,1194.0,1064.4736842105262,1151.1724137931035,1142.5882352941176,1090.6,1050.090909090909,1028.904761904762,954.1875,1279.2631578947369,1258.7777777777778,835.0333333333333,887.448275862069,1027.6701030927834,909.9285714285714,796.5294117647059,828.008,751.0769230769231,629.9323671497584,622.5747126436781,885.3888888888889,973.3023255813954,996.25,804.1630434782609,722.4538745387454,1050.137254901961,863.560606060606,385.1565557729941,448.15064102564105,586.9611111111111,830.9826923076923,824.3939393939394,1194.25,1335.1764705882354,1357.6923076923076,1348.3333333333333,1349.4166666666667,1350.7777777777778,1376.6,1344.0,1291.0,1239.0,1184.2,1292.0,1335.0,1288.6363636363637,1191.576923076923,1214.6666666666667,1156.5116279069769,1257.5,1362.5,1060.6436781609195,1106.0666666666666,1291.5333333333333,1023.8737864077669,1192.125,1234.0,1256.5714285714287,1036.0405405405406,920.7762237762238,956.1025641025641,1266.909090909091,1171.3333333333333,237.9274924471299,805.3745173745174,630.3333333333334,539.7105263157895,619.0714285714286,776.15,890.8875,659.64,657.6831683168317,833.0849056603773,881.5454545454545,944.8910891089109,1097.659574468085,1263.3333333333333,1143.2368421052631,1273.3125,1380.0,1341.2,1165.9,1357.5,1321.6,1089.0,1250.3333333333333,1425.0,1369.75,1340.0,1360.0,1289.357142857143,1151.7,1063.642857142857,898.8571428571429,1146.0,1118.8461538461538,1022.0338983050848,1311.0,1271.6818181818182,594.7297297297297,666.6484375,484.4878504672897],\"showlegend\":false,\"subplot\":\"polar\",\"theta\":[1.0,2.0,3.0,4.0,5.0,6.0,7.0,8.0,9.0,10.0,11.0,12.0,13.0,14.0,15.0,16.0,17.0,18.0,19.0,20.0,25.0,26.0,27.0,28.0,29.0,30.0,31.0,33.0,34.0,35.0,36.0,37.0,38.0,39.0,40.0,41.0,42.0,43.0,44.0,45.0,46.0,47.0,48.0,49.0,50.0,51.0,52.0,53.0,54.0,55.0,56.0,57.0,58.0,59.0,60.0,61.0,62.0,63.0,65.0,67.0,69.0,71.0,72.0,73.0,74.0,75.0,76.0,77.0,78.0,79.0,80.0,81.0,82.0,83.0,84.0,85.0,86.0,87.0,89.0,90.0,91.0,92.0,93.0,94.0,95.0,96.0,97.0,98.0,99.0,100.0,101.0,102.0,103.0,104.0,105.0,106.0,107.0,108.0,109.0,110.0,111.0,112.0,113.0,114.0,115.0,116.0,117.0,118.0,119.0,120.0,121.0,122.0,123.0,124.0,125.0,126.0,127.0,128.0,129.0,130.0,131.0,132.0,133.0,134.0,135.0,136.0,137.0,138.0,139.0,142.0,143.0,145.0,146.0,147.0,148.0,149.0,151.0,152.0,153.0,154.0,155.0,156.0,157.0,158.0,159.0,160.0,161.0,162.0,163.0,164.0,165.0,166.0,167.0,168.0,169.0,170.0,171.0,174.0,175.0,176.0,177.0,178.0,179.0,180.0,181.0,182.0,183.0,184.0,185.0,187.0,188.0,189.0,190.0,191.0,192.0,193.0,194.0,195.0,196.0,198.0,200.0,201.0,202.0,203.0,204.0,206.0,207.0,208.0,209.0,210.0,211.0,212.0,213.0,218.0,219.0,1.0],\"type\":\"scatterpolar\"}],                        {\"template\":{\"data\":{\"histogram2dcontour\":[{\"type\":\"histogram2dcontour\",\"colorbar\":{\"outlinewidth\":0,\"ticks\":\"\"},\"colorscale\":[[0.0,\"#0d0887\"],[0.1111111111111111,\"#46039f\"],[0.2222222222222222,\"#7201a8\"],[0.3333333333333333,\"#9c179e\"],[0.4444444444444444,\"#bd3786\"],[0.5555555555555556,\"#d8576b\"],[0.6666666666666666,\"#ed7953\"],[0.7777777777777778,\"#fb9f3a\"],[0.8888888888888888,\"#fdca26\"],[1.0,\"#f0f921\"]]}],\"choropleth\":[{\"type\":\"choropleth\",\"colorbar\":{\"outlinewidth\":0,\"ticks\":\"\"}}],\"histogram2d\":[{\"type\":\"histogram2d\",\"colorbar\":{\"outlinewidth\":0,\"ticks\":\"\"},\"colorscale\":[[0.0,\"#0d0887\"],[0.1111111111111111,\"#46039f\"],[0.2222222222222222,\"#7201a8\"],[0.3333333333333333,\"#9c179e\"],[0.4444444444444444,\"#bd3786\"],[0.5555555555555556,\"#d8576b\"],[0.6666666666666666,\"#ed7953\"],[0.7777777777777778,\"#fb9f3a\"],[0.8888888888888888,\"#fdca26\"],[1.0,\"#f0f921\"]]}],\"heatmap\":[{\"type\":\"heatmap\",\"colorbar\":{\"outlinewidth\":0,\"ticks\":\"\"},\"colorscale\":[[0.0,\"#0d0887\"],[0.1111111111111111,\"#46039f\"],[0.2222222222222222,\"#7201a8\"],[0.3333333333333333,\"#9c179e\"],[0.4444444444444444,\"#bd3786\"],[0.5555555555555556,\"#d8576b\"],[0.6666666666666666,\"#ed7953\"],[0.7777777777777778,\"#fb9f3a\"],[0.8888888888888888,\"#fdca26\"],[1.0,\"#f0f921\"]]}],\"heatmapgl\":[{\"type\":\"heatmapgl\",\"colorbar\":{\"outlinewidth\":0,\"ticks\":\"\"},\"colorscale\":[[0.0,\"#0d0887\"],[0.1111111111111111,\"#46039f\"],[0.2222222222222222,\"#7201a8\"],[0.3333333333333333,\"#9c179e\"],[0.4444444444444444,\"#bd3786\"],[0.5555555555555556,\"#d8576b\"],[0.6666666666666666,\"#ed7953\"],[0.7777777777777778,\"#fb9f3a\"],[0.8888888888888888,\"#fdca26\"],[1.0,\"#f0f921\"]]}],\"contourcarpet\":[{\"type\":\"contourcarpet\",\"colorbar\":{\"outlinewidth\":0,\"ticks\":\"\"}}],\"contour\":[{\"type\":\"contour\",\"colorbar\":{\"outlinewidth\":0,\"ticks\":\"\"},\"colorscale\":[[0.0,\"#0d0887\"],[0.1111111111111111,\"#46039f\"],[0.2222222222222222,\"#7201a8\"],[0.3333333333333333,\"#9c179e\"],[0.4444444444444444,\"#bd3786\"],[0.5555555555555556,\"#d8576b\"],[0.6666666666666666,\"#ed7953\"],[0.7777777777777778,\"#fb9f3a\"],[0.8888888888888888,\"#fdca26\"],[1.0,\"#f0f921\"]]}],\"surface\":[{\"type\":\"surface\",\"colorbar\":{\"outlinewidth\":0,\"ticks\":\"\"},\"colorscale\":[[0.0,\"#0d0887\"],[0.1111111111111111,\"#46039f\"],[0.2222222222222222,\"#7201a8\"],[0.3333333333333333,\"#9c179e\"],[0.4444444444444444,\"#bd3786\"],[0.5555555555555556,\"#d8576b\"],[0.6666666666666666,\"#ed7953\"],[0.7777777777777778,\"#fb9f3a\"],[0.8888888888888888,\"#fdca26\"],[1.0,\"#f0f921\"]]}],\"mesh3d\":[{\"type\":\"mesh3d\",\"colorbar\":{\"outlinewidth\":0,\"ticks\":\"\"}}],\"scatter\":[{\"fillpattern\":{\"fillmode\":\"overlay\",\"size\":10,\"solidity\":0.2},\"type\":\"scatter\"}],\"parcoords\":[{\"type\":\"parcoords\",\"line\":{\"colorbar\":{\"outlinewidth\":0,\"ticks\":\"\"}}}],\"scatterpolargl\":[{\"type\":\"scatterpolargl\",\"marker\":{\"colorbar\":{\"outlinewidth\":0,\"ticks\":\"\"}}}],\"bar\":[{\"error_x\":{\"color\":\"#2a3f5f\"},\"error_y\":{\"color\":\"#2a3f5f\"},\"marker\":{\"line\":{\"color\":\"#E5ECF6\",\"width\":0.5},\"pattern\":{\"fillmode\":\"overlay\",\"size\":10,\"solidity\":0.2}},\"type\":\"bar\"}],\"scattergeo\":[{\"type\":\"scattergeo\",\"marker\":{\"colorbar\":{\"outlinewidth\":0,\"ticks\":\"\"}}}],\"scatterpolar\":[{\"type\":\"scatterpolar\",\"marker\":{\"colorbar\":{\"outlinewidth\":0,\"ticks\":\"\"}}}],\"histogram\":[{\"marker\":{\"pattern\":{\"fillmode\":\"overlay\",\"size\":10,\"solidity\":0.2}},\"type\":\"histogram\"}],\"scattergl\":[{\"type\":\"scattergl\",\"marker\":{\"colorbar\":{\"outlinewidth\":0,\"ticks\":\"\"}}}],\"scatter3d\":[{\"type\":\"scatter3d\",\"line\":{\"colorbar\":{\"outlinewidth\":0,\"ticks\":\"\"}},\"marker\":{\"colorbar\":{\"outlinewidth\":0,\"ticks\":\"\"}}}],\"scattermapbox\":[{\"type\":\"scattermapbox\",\"marker\":{\"colorbar\":{\"outlinewidth\":0,\"ticks\":\"\"}}}],\"scatterternary\":[{\"type\":\"scatterternary\",\"marker\":{\"colorbar\":{\"outlinewidth\":0,\"ticks\":\"\"}}}],\"scattercarpet\":[{\"type\":\"scattercarpet\",\"marker\":{\"colorbar\":{\"outlinewidth\":0,\"ticks\":\"\"}}}],\"carpet\":[{\"aaxis\":{\"endlinecolor\":\"#2a3f5f\",\"gridcolor\":\"white\",\"linecolor\":\"white\",\"minorgridcolor\":\"white\",\"startlinecolor\":\"#2a3f5f\"},\"baxis\":{\"endlinecolor\":\"#2a3f5f\",\"gridcolor\":\"white\",\"linecolor\":\"white\",\"minorgridcolor\":\"white\",\"startlinecolor\":\"#2a3f5f\"},\"type\":\"carpet\"}],\"table\":[{\"cells\":{\"fill\":{\"color\":\"#EBF0F8\"},\"line\":{\"color\":\"white\"}},\"header\":{\"fill\":{\"color\":\"#C8D4E3\"},\"line\":{\"color\":\"white\"}},\"type\":\"table\"}],\"barpolar\":[{\"marker\":{\"line\":{\"color\":\"#E5ECF6\",\"width\":0.5},\"pattern\":{\"fillmode\":\"overlay\",\"size\":10,\"solidity\":0.2}},\"type\":\"barpolar\"}],\"pie\":[{\"automargin\":true,\"type\":\"pie\"}]},\"layout\":{\"autotypenumbers\":\"strict\",\"colorway\":[\"#636efa\",\"#EF553B\",\"#00cc96\",\"#ab63fa\",\"#FFA15A\",\"#19d3f3\",\"#FF6692\",\"#B6E880\",\"#FF97FF\",\"#FECB52\"],\"font\":{\"color\":\"#2a3f5f\"},\"hovermode\":\"closest\",\"hoverlabel\":{\"align\":\"left\"},\"paper_bgcolor\":\"white\",\"plot_bgcolor\":\"#E5ECF6\",\"polar\":{\"bgcolor\":\"#E5ECF6\",\"angularaxis\":{\"gridcolor\":\"white\",\"linecolor\":\"white\",\"ticks\":\"\"},\"radialaxis\":{\"gridcolor\":\"white\",\"linecolor\":\"white\",\"ticks\":\"\"}},\"ternary\":{\"bgcolor\":\"#E5ECF6\",\"aaxis\":{\"gridcolor\":\"white\",\"linecolor\":\"white\",\"ticks\":\"\"},\"baxis\":{\"gridcolor\":\"white\",\"linecolor\":\"white\",\"ticks\":\"\"},\"caxis\":{\"gridcolor\":\"white\",\"linecolor\":\"white\",\"ticks\":\"\"}},\"coloraxis\":{\"colorbar\":{\"outlinewidth\":0,\"ticks\":\"\"}},\"colorscale\":{\"sequential\":[[0.0,\"#0d0887\"],[0.1111111111111111,\"#46039f\"],[0.2222222222222222,\"#7201a8\"],[0.3333333333333333,\"#9c179e\"],[0.4444444444444444,\"#bd3786\"],[0.5555555555555556,\"#d8576b\"],[0.6666666666666666,\"#ed7953\"],[0.7777777777777778,\"#fb9f3a\"],[0.8888888888888888,\"#fdca26\"],[1.0,\"#f0f921\"]],\"sequentialminus\":[[0.0,\"#0d0887\"],[0.1111111111111111,\"#46039f\"],[0.2222222222222222,\"#7201a8\"],[0.3333333333333333,\"#9c179e\"],[0.4444444444444444,\"#bd3786\"],[0.5555555555555556,\"#d8576b\"],[0.6666666666666666,\"#ed7953\"],[0.7777777777777778,\"#fb9f3a\"],[0.8888888888888888,\"#fdca26\"],[1.0,\"#f0f921\"]],\"diverging\":[[0,\"#8e0152\"],[0.1,\"#c51b7d\"],[0.2,\"#de77ae\"],[0.3,\"#f1b6da\"],[0.4,\"#fde0ef\"],[0.5,\"#f7f7f7\"],[0.6,\"#e6f5d0\"],[0.7,\"#b8e186\"],[0.8,\"#7fbc41\"],[0.9,\"#4d9221\"],[1,\"#276419\"]]},\"xaxis\":{\"gridcolor\":\"white\",\"linecolor\":\"white\",\"ticks\":\"\",\"title\":{\"standoff\":15},\"zerolinecolor\":\"white\",\"automargin\":true,\"zerolinewidth\":2},\"yaxis\":{\"gridcolor\":\"white\",\"linecolor\":\"white\",\"ticks\":\"\",\"title\":{\"standoff\":15},\"zerolinecolor\":\"white\",\"automargin\":true,\"zerolinewidth\":2},\"scene\":{\"xaxis\":{\"backgroundcolor\":\"#E5ECF6\",\"gridcolor\":\"white\",\"linecolor\":\"white\",\"showbackground\":true,\"ticks\":\"\",\"zerolinecolor\":\"white\",\"gridwidth\":2},\"yaxis\":{\"backgroundcolor\":\"#E5ECF6\",\"gridcolor\":\"white\",\"linecolor\":\"white\",\"showbackground\":true,\"ticks\":\"\",\"zerolinecolor\":\"white\",\"gridwidth\":2},\"zaxis\":{\"backgroundcolor\":\"#E5ECF6\",\"gridcolor\":\"white\",\"linecolor\":\"white\",\"showbackground\":true,\"ticks\":\"\",\"zerolinecolor\":\"white\",\"gridwidth\":2}},\"shapedefaults\":{\"line\":{\"color\":\"#2a3f5f\"}},\"annotationdefaults\":{\"arrowcolor\":\"#2a3f5f\",\"arrowhead\":0,\"arrowwidth\":1},\"geo\":{\"bgcolor\":\"white\",\"landcolor\":\"#E5ECF6\",\"subunitcolor\":\"white\",\"showland\":true,\"showlakes\":true,\"lakecolor\":\"white\"},\"title\":{\"x\":0.05},\"mapbox\":{\"style\":\"light\"}}},\"polar\":{\"domain\":{\"x\":[0.0,1.0],\"y\":[0.0,1.0]},\"angularaxis\":{\"direction\":\"clockwise\",\"rotation\":90}},\"legend\":{\"tracegroupgap\":0},\"margin\":{\"t\":60}},                        {\"responsive\": true}                    ).then(function(){\n",
       "                            \n",
       "var gd = document.getElementById('de3ba19c-c306-4762-8481-419d3b8d4399');\n",
       "var x = new MutationObserver(function (mutations, observer) {{\n",
       "        var display = window.getComputedStyle(gd).display;\n",
       "        if (!display || display === 'none') {{\n",
       "            console.log([gd, 'removed!']);\n",
       "            Plotly.purge(gd);\n",
       "            observer.disconnect();\n",
       "        }}\n",
       "}});\n",
       "\n",
       "// Listen for the removal of the full notebook cells\n",
       "var notebookContainer = gd.closest('#notebook-container');\n",
       "if (notebookContainer) {{\n",
       "    x.observe(notebookContainer, {childList: true});\n",
       "}}\n",
       "\n",
       "// Listen for the clearing of the current output cell\n",
       "var outputEl = gd.closest('.output');\n",
       "if (outputEl) {{\n",
       "    x.observe(outputEl, {childList: true});\n",
       "}}\n",
       "\n",
       "                        })                };                });            </script>        </div>"
      ]
     },
     "metadata": {},
     "output_type": "display_data"
    }
   ],
   "source": [
    "fig = px.line_polar(itinerarios1.groupby(itinerarios1[\"Barrio_Llegada\"]).agg({'travel_time':'mean'}).reset_index(),\\\n",
    "                                         r='travel_time', theta=str('idplug_station'), line_close=True)\n",
    "fig.show()"
   ]
  }
 ],
 "metadata": {
  "kernelspec": {
   "display_name": "Python 3",
   "language": "python",
   "name": "python3"
  },
  "language_info": {
   "codemirror_mode": {
    "name": "ipython",
    "version": 3
   },
   "file_extension": ".py",
   "mimetype": "text/x-python",
   "name": "python",
   "nbconvert_exporter": "python",
   "pygments_lexer": "ipython3",
   "version": "3.8.5"
  }
 },
 "nbformat": 4,
 "nbformat_minor": 5
}
