{
 "cells": [
  {
   "cell_type": "code",
   "execution_count": 22,
   "metadata": {},
   "outputs": [],
   "source": [
    "import pandas as pd \n",
    "import numpy as np \n",
    "from plotly.subplots import make_subplots\n",
    "import plotly.graph_objects as go\n",
    "import plotly.figure_factory as FF\n",
    "from wordcloud import WordCloud\n",
    "import plotly.express as px"
   ]
  },
  {
   "cell_type": "code",
   "execution_count": 23,
   "metadata": {},
   "outputs": [
    {
     "name": "stderr",
     "output_type": "stream",
     "text": [
      "<ipython-input-23-6017489434ab>:1: DtypeWarning:\n",
      "\n",
      "Columns (9) have mixed types. Specify dtype option on import or set low_memory=False.\n",
      "\n"
     ]
    },
    {
     "data": {
      "text/html": [
       "<div>\n",
       "<style scoped>\n",
       "    .dataframe tbody tr th:only-of-type {\n",
       "        vertical-align: middle;\n",
       "    }\n",
       "\n",
       "    .dataframe tbody tr th {\n",
       "        vertical-align: top;\n",
       "    }\n",
       "\n",
       "    .dataframe thead th {\n",
       "        text-align: right;\n",
       "    }\n",
       "</style>\n",
       "<table border=\"1\" class=\"dataframe\">\n",
       "  <thead>\n",
       "    <tr style=\"text-align: right;\">\n",
       "      <th></th>\n",
       "      <th>Unnamed: 0</th>\n",
       "      <th>idplug_base</th>\n",
       "      <th>user_type</th>\n",
       "      <th>idunplug_base</th>\n",
       "      <th>travel_time</th>\n",
       "      <th>idunplug_station</th>\n",
       "      <th>ageRange</th>\n",
       "      <th>idplug_station</th>\n",
       "      <th>unplug_hourTime</th>\n",
       "      <th>zip_code</th>\n",
       "      <th>...</th>\n",
       "      <th>Barrio_Salida</th>\n",
       "      <th>Número de Plazas_Salida</th>\n",
       "      <th>Latitud_Salida</th>\n",
       "      <th>Longitud_Salida</th>\n",
       "      <th>Número_Llegada</th>\n",
       "      <th>Distrito_Llegada</th>\n",
       "      <th>Barrio_Llegada</th>\n",
       "      <th>Número de Plazas_Llegada</th>\n",
       "      <th>Latitud_Llegada</th>\n",
       "      <th>Longitud_Llegada</th>\n",
       "    </tr>\n",
       "  </thead>\n",
       "  <tbody>\n",
       "    <tr>\n",
       "      <th>0</th>\n",
       "      <td>0</td>\n",
       "      <td>5</td>\n",
       "      <td>1</td>\n",
       "      <td>20</td>\n",
       "      <td>154</td>\n",
       "      <td>44</td>\n",
       "      <td>5</td>\n",
       "      <td>40</td>\n",
       "      <td>2019-07-01 00:00:00+00:00</td>\n",
       "      <td>28007</td>\n",
       "      <td>...</td>\n",
       "      <td>01-02 EMBAJADORES</td>\n",
       "      <td>21.0</td>\n",
       "      <td>40.409816</td>\n",
       "      <td>-3.703914</td>\n",
       "      <td>40</td>\n",
       "      <td>01  CENTRO</td>\n",
       "      <td>01-02 EMBAJADORES</td>\n",
       "      <td>24.0</td>\n",
       "      <td>40.413787</td>\n",
       "      <td>-3.704746</td>\n",
       "    </tr>\n",
       "    <tr>\n",
       "      <th>1</th>\n",
       "      <td>1</td>\n",
       "      <td>8</td>\n",
       "      <td>1</td>\n",
       "      <td>17</td>\n",
       "      <td>184</td>\n",
       "      <td>57</td>\n",
       "      <td>4</td>\n",
       "      <td>129</td>\n",
       "      <td>2019-07-01 00:00:00+00:00</td>\n",
       "      <td>28045</td>\n",
       "      <td>...</td>\n",
       "      <td>01-05 UNIVERSIDAD</td>\n",
       "      <td>24.0</td>\n",
       "      <td>40.429636</td>\n",
       "      <td>-3.712818</td>\n",
       "      <td>129</td>\n",
       "      <td>07  CHAMBERÍ</td>\n",
       "      <td>07-05 RÍOS ROSAS</td>\n",
       "      <td>24.0</td>\n",
       "      <td>40.438468</td>\n",
       "      <td>-3.698282</td>\n",
       "    </tr>\n",
       "    <tr>\n",
       "      <th>2</th>\n",
       "      <td>2</td>\n",
       "      <td>15</td>\n",
       "      <td>1</td>\n",
       "      <td>16</td>\n",
       "      <td>282</td>\n",
       "      <td>53</td>\n",
       "      <td>4</td>\n",
       "      <td>43</td>\n",
       "      <td>2019-07-01 00:00:00+00:00</td>\n",
       "      <td>NaN</td>\n",
       "      <td>...</td>\n",
       "      <td>01-02 EMBAJADORES</td>\n",
       "      <td>24.0</td>\n",
       "      <td>40.408280</td>\n",
       "      <td>-3.700730</td>\n",
       "      <td>43</td>\n",
       "      <td>01  CENTRO</td>\n",
       "      <td>01-02 EMBAJADORES</td>\n",
       "      <td>24.0</td>\n",
       "      <td>40.410089</td>\n",
       "      <td>-3.702545</td>\n",
       "    </tr>\n",
       "    <tr>\n",
       "      <th>3</th>\n",
       "      <td>3</td>\n",
       "      <td>18</td>\n",
       "      <td>1</td>\n",
       "      <td>18</td>\n",
       "      <td>388</td>\n",
       "      <td>56</td>\n",
       "      <td>0</td>\n",
       "      <td>13</td>\n",
       "      <td>2019-07-01 00:00:00+00:00</td>\n",
       "      <td>NaN</td>\n",
       "      <td>...</td>\n",
       "      <td>01-06 SOL</td>\n",
       "      <td>24.0</td>\n",
       "      <td>40.418484</td>\n",
       "      <td>-3.703288</td>\n",
       "      <td>13</td>\n",
       "      <td>01  CENTRO</td>\n",
       "      <td>01-05 UNIVERSIDAD</td>\n",
       "      <td>24.0</td>\n",
       "      <td>40.427365</td>\n",
       "      <td>-3.710473</td>\n",
       "    </tr>\n",
       "    <tr>\n",
       "      <th>4</th>\n",
       "      <td>4</td>\n",
       "      <td>1</td>\n",
       "      <td>1</td>\n",
       "      <td>20</td>\n",
       "      <td>254</td>\n",
       "      <td>105</td>\n",
       "      <td>0</td>\n",
       "      <td>75</td>\n",
       "      <td>2019-07-01 00:00:00+00:00</td>\n",
       "      <td>NaN</td>\n",
       "      <td>...</td>\n",
       "      <td>04-01 RECOLETOS</td>\n",
       "      <td>24.0</td>\n",
       "      <td>40.427068</td>\n",
       "      <td>-3.687474</td>\n",
       "      <td>75</td>\n",
       "      <td>03  RETIRO</td>\n",
       "      <td>03-05 JERÓNIMOS</td>\n",
       "      <td>24.0</td>\n",
       "      <td>40.408339</td>\n",
       "      <td>-3.678415</td>\n",
       "    </tr>\n",
       "  </tbody>\n",
       "</table>\n",
       "<p>5 rows × 25 columns</p>\n",
       "</div>"
      ],
      "text/plain": [
       "   Unnamed: 0  idplug_base  user_type  idunplug_base  travel_time  \\\n",
       "0           0            5          1             20          154   \n",
       "1           1            8          1             17          184   \n",
       "2           2           15          1             16          282   \n",
       "3           3           18          1             18          388   \n",
       "4           4            1          1             20          254   \n",
       "\n",
       "   idunplug_station  ageRange  idplug_station            unplug_hourTime  \\\n",
       "0                44         5              40  2019-07-01 00:00:00+00:00   \n",
       "1                57         4             129  2019-07-01 00:00:00+00:00   \n",
       "2                53         4              43  2019-07-01 00:00:00+00:00   \n",
       "3                56         0              13  2019-07-01 00:00:00+00:00   \n",
       "4               105         0              75  2019-07-01 00:00:00+00:00   \n",
       "\n",
       "  zip_code  ...      Barrio_Salida Número de Plazas_Salida Latitud_Salida  \\\n",
       "0    28007  ...  01-02 EMBAJADORES                    21.0      40.409816   \n",
       "1    28045  ...  01-05 UNIVERSIDAD                    24.0      40.429636   \n",
       "2      NaN  ...  01-02 EMBAJADORES                    24.0      40.408280   \n",
       "3      NaN  ...          01-06 SOL                    24.0      40.418484   \n",
       "4      NaN  ...    04-01 RECOLETOS                    24.0      40.427068   \n",
       "\n",
       "   Longitud_Salida Número_Llegada Distrito_Llegada     Barrio_Llegada  \\\n",
       "0        -3.703914             40       01  CENTRO  01-02 EMBAJADORES   \n",
       "1        -3.712818            129     07  CHAMBERÍ   07-05 RÍOS ROSAS   \n",
       "2        -3.700730             43       01  CENTRO  01-02 EMBAJADORES   \n",
       "3        -3.703288             13       01  CENTRO  01-05 UNIVERSIDAD   \n",
       "4        -3.687474             75       03  RETIRO    03-05 JERÓNIMOS   \n",
       "\n",
       "   Número de Plazas_Llegada  Latitud_Llegada  Longitud_Llegada  \n",
       "0                      24.0        40.413787         -3.704746  \n",
       "1                      24.0        40.438468         -3.698282  \n",
       "2                      24.0        40.410089         -3.702545  \n",
       "3                      24.0        40.427365         -3.710473  \n",
       "4                      24.0        40.408339         -3.678415  \n",
       "\n",
       "[5 rows x 25 columns]"
      ]
     },
     "execution_count": 23,
     "metadata": {},
     "output_type": "execute_result"
    }
   ],
   "source": [
    "itinerarios_bases= pd.read_csv('../Data/Itinerarios/itinerarios_bases.csv')\n",
    "itinerarios_bases.head()"
   ]
  },
  {
   "cell_type": "code",
   "execution_count": 24,
   "metadata": {},
   "outputs": [
    {
     "data": {
      "text/html": [
       "<div>\n",
       "<style scoped>\n",
       "    .dataframe tbody tr th:only-of-type {\n",
       "        vertical-align: middle;\n",
       "    }\n",
       "\n",
       "    .dataframe tbody tr th {\n",
       "        vertical-align: top;\n",
       "    }\n",
       "\n",
       "    .dataframe thead th {\n",
       "        text-align: right;\n",
       "    }\n",
       "</style>\n",
       "<table border=\"1\" class=\"dataframe\">\n",
       "  <thead>\n",
       "    <tr style=\"text-align: right;\">\n",
       "      <th></th>\n",
       "      <th>ruta</th>\n",
       "      <th>Latitud_Salida</th>\n",
       "      <th>Longitud_Salida</th>\n",
       "      <th>Latitud_Llegada</th>\n",
       "      <th>Longitud_Llegada</th>\n",
       "      <th>viajes</th>\n",
       "    </tr>\n",
       "  </thead>\n",
       "  <tbody>\n",
       "    <tr>\n",
       "      <th>0</th>\n",
       "      <td>-3.6983033 -3.6928901 40.3962687 40.4414845</td>\n",
       "      <td>40.441485</td>\n",
       "      <td>-3.692890</td>\n",
       "      <td>40.396269</td>\n",
       "      <td>-3.698303</td>\n",
       "      <td>1277.0</td>\n",
       "    </tr>\n",
       "    <tr>\n",
       "      <th>1</th>\n",
       "      <td>-3.6983033 -3.6955803 40.3962687 40.4132831</td>\n",
       "      <td>40.396269</td>\n",
       "      <td>-3.698303</td>\n",
       "      <td>40.413283</td>\n",
       "      <td>-3.695580</td>\n",
       "      <td>1528.0</td>\n",
       "    </tr>\n",
       "    <tr>\n",
       "      <th>2</th>\n",
       "      <td>-3.6992427 -3.6928901 40.4060497 40.4414845</td>\n",
       "      <td>40.441485</td>\n",
       "      <td>-3.692890</td>\n",
       "      <td>40.406050</td>\n",
       "      <td>-3.699243</td>\n",
       "      <td>1270.0</td>\n",
       "    </tr>\n",
       "    <tr>\n",
       "      <th>3</th>\n",
       "      <td>-3.7017071 -3.6878512 40.4417195 40.4498448</td>\n",
       "      <td>40.441719</td>\n",
       "      <td>-3.701707</td>\n",
       "      <td>40.449845</td>\n",
       "      <td>-3.687851</td>\n",
       "      <td>1424.0</td>\n",
       "    </tr>\n",
       "    <tr>\n",
       "      <th>4</th>\n",
       "      <td>-3.7017071 -3.6893305 40.4417195 40.459282</td>\n",
       "      <td>40.459282</td>\n",
       "      <td>-3.689331</td>\n",
       "      <td>40.441719</td>\n",
       "      <td>-3.701707</td>\n",
       "      <td>613.0</td>\n",
       "    </tr>\n",
       "    <tr>\n",
       "      <th>5</th>\n",
       "      <td>-3.7025446 -3.6983033 40.3962687 40.4100889</td>\n",
       "      <td>40.396269</td>\n",
       "      <td>-3.698303</td>\n",
       "      <td>40.410089</td>\n",
       "      <td>-3.702545</td>\n",
       "      <td>1385.0</td>\n",
       "    </tr>\n",
       "    <tr>\n",
       "      <th>6</th>\n",
       "      <td>-3.7035911 -3.6983033 40.3962687 40.4463889</td>\n",
       "      <td>40.446389</td>\n",
       "      <td>-3.703591</td>\n",
       "      <td>40.396269</td>\n",
       "      <td>-3.698303</td>\n",
       "      <td>769.0</td>\n",
       "    </tr>\n",
       "    <tr>\n",
       "      <th>7</th>\n",
       "      <td>-3.7094093 -3.6878512 40.4156134 40.4498448</td>\n",
       "      <td>40.415613</td>\n",
       "      <td>-3.709409</td>\n",
       "      <td>40.449845</td>\n",
       "      <td>-3.687851</td>\n",
       "      <td>1940.0</td>\n",
       "    </tr>\n",
       "    <tr>\n",
       "      <th>8</th>\n",
       "      <td>-3.7094093 -3.6893305 40.4156134 40.459282</td>\n",
       "      <td>40.415613</td>\n",
       "      <td>-3.709409</td>\n",
       "      <td>40.459282</td>\n",
       "      <td>-3.689331</td>\n",
       "      <td>615.0</td>\n",
       "    </tr>\n",
       "    <tr>\n",
       "      <th>9</th>\n",
       "      <td>-3.7128181 -3.7114443 40.4112961 40.4296363</td>\n",
       "      <td>40.429636</td>\n",
       "      <td>-3.712818</td>\n",
       "      <td>40.411296</td>\n",
       "      <td>-3.711444</td>\n",
       "      <td>656.0</td>\n",
       "    </tr>\n",
       "  </tbody>\n",
       "</table>\n",
       "</div>"
      ],
      "text/plain": [
       "                                          ruta  Latitud_Salida  \\\n",
       "0  -3.6983033 -3.6928901 40.3962687 40.4414845       40.441485   \n",
       "1  -3.6983033 -3.6955803 40.3962687 40.4132831       40.396269   \n",
       "2  -3.6992427 -3.6928901 40.4060497 40.4414845       40.441485   \n",
       "3  -3.7017071 -3.6878512 40.4417195 40.4498448       40.441719   \n",
       "4   -3.7017071 -3.6893305 40.4417195 40.459282       40.459282   \n",
       "5  -3.7025446 -3.6983033 40.3962687 40.4100889       40.396269   \n",
       "6  -3.7035911 -3.6983033 40.3962687 40.4463889       40.446389   \n",
       "7  -3.7094093 -3.6878512 40.4156134 40.4498448       40.415613   \n",
       "8   -3.7094093 -3.6893305 40.4156134 40.459282       40.415613   \n",
       "9  -3.7128181 -3.7114443 40.4112961 40.4296363       40.429636   \n",
       "\n",
       "   Longitud_Salida  Latitud_Llegada  Longitud_Llegada  viajes  \n",
       "0        -3.692890        40.396269         -3.698303  1277.0  \n",
       "1        -3.698303        40.413283         -3.695580  1528.0  \n",
       "2        -3.692890        40.406050         -3.699243  1270.0  \n",
       "3        -3.701707        40.449845         -3.687851  1424.0  \n",
       "4        -3.689331        40.441719         -3.701707   613.0  \n",
       "5        -3.698303        40.410089         -3.702545  1385.0  \n",
       "6        -3.703591        40.396269         -3.698303   769.0  \n",
       "7        -3.709409        40.449845         -3.687851  1940.0  \n",
       "8        -3.709409        40.459282         -3.689331   615.0  \n",
       "9        -3.712818        40.411296         -3.711444   656.0  "
      ]
     },
     "execution_count": 24,
     "metadata": {},
     "output_type": "execute_result"
    }
   ],
   "source": [
    "cols_rutas=['Origen_destino','Latitud_Salida','Longitud_Salida','Distrito_Salida','Latitud_Llegada','Longitud_Llegada','Distrito_Llegada', 'idplug_station', 'idunplug_station' ]\n",
    "df_rutas=itinerarios_bases[itinerarios_bases['idplug_station']!=itinerarios_bases['idunplug_station'] ].groupby(cols_rutas)['idplug_base'].count().to_frame().reset_index().sort_values('idplug_base', ascending=False)\n",
    "df_rutas.rename(columns={'idplug_base': 'viajes'}, inplace=True)\n",
    "\n",
    "topRutas=df_rutas.head(16)\n",
    "topRutas['ruta']=topRutas.apply(lambda x: sorted([x.Longitud_Salida, x.Latitud_Salida, x.Longitud_Llegada, x.Latitud_Llegada]), axis=1)\n",
    "topRutas['ruta']=topRutas['ruta'].apply(lambda x: ' '.join([str(word) for word in x]))\n",
    "cols_rutas=['Latitud_Salida','Longitud_Salida','Latitud_Llegada','Longitud_Llegada', 'ruta']\n",
    "def rutas(df): \n",
    "    \n",
    "    \n",
    "    long_llegada=df['Longitud_Llegada'].iloc[0]\n",
    "    lat_llegada=df['Latitud_Llegada'].iloc[0]\n",
    "    long_salida=df['Longitud_Salida'].iloc[0]\n",
    "    lat_salida=df['Latitud_Salida'].iloc[0]\n",
    "    num_viajes=df['viajes'].sum()\n",
    "    cols= ['Latitud_Salida','Longitud_Salida','Latitud_Llegada','Longitud_Llegada', 'viajes']\n",
    "    datos=[lat_salida, long_salida,lat_llegada, long_llegada, num_viajes ]\n",
    "    return pd.Series(dict(zip(cols,datos)))\n",
    "             \n",
    "topRutasUnicas= topRutas.groupby('ruta').apply(rutas).reset_index()\n",
    "topRutasUnicas"
   ]
  },
  {
   "cell_type": "code",
   "execution_count": 25,
   "metadata": {},
   "outputs": [
    {
     "data": {
      "text/html": [
       "<div>\n",
       "<style scoped>\n",
       "    .dataframe tbody tr th:only-of-type {\n",
       "        vertical-align: middle;\n",
       "    }\n",
       "\n",
       "    .dataframe tbody tr th {\n",
       "        vertical-align: top;\n",
       "    }\n",
       "\n",
       "    .dataframe thead th {\n",
       "        text-align: right;\n",
       "    }\n",
       "</style>\n",
       "<table border=\"1\" class=\"dataframe\">\n",
       "  <thead>\n",
       "    <tr style=\"text-align: right;\">\n",
       "      <th></th>\n",
       "      <th>Longitud</th>\n",
       "      <th>Latitud</th>\n",
       "      <th>Distrito</th>\n",
       "      <th>count</th>\n",
       "    </tr>\n",
       "  </thead>\n",
       "  <tbody>\n",
       "    <tr>\n",
       "      <th>0</th>\n",
       "      <td>-3.712818</td>\n",
       "      <td>40.429636</td>\n",
       "      <td>01  CENTRO</td>\n",
       "      <td>1</td>\n",
       "    </tr>\n",
       "    <tr>\n",
       "      <th>1</th>\n",
       "      <td>-3.711444</td>\n",
       "      <td>40.411296</td>\n",
       "      <td>01  CENTRO</td>\n",
       "      <td>1</td>\n",
       "    </tr>\n",
       "    <tr>\n",
       "      <th>2</th>\n",
       "      <td>-3.709409</td>\n",
       "      <td>40.415613</td>\n",
       "      <td>01  CENTRO</td>\n",
       "      <td>3</td>\n",
       "    </tr>\n",
       "    <tr>\n",
       "      <th>3</th>\n",
       "      <td>-3.703591</td>\n",
       "      <td>40.446389</td>\n",
       "      <td>07  CHAMBERÍ</td>\n",
       "      <td>1</td>\n",
       "    </tr>\n",
       "    <tr>\n",
       "      <th>4</th>\n",
       "      <td>-3.702545</td>\n",
       "      <td>40.410089</td>\n",
       "      <td>01  CENTRO</td>\n",
       "      <td>2</td>\n",
       "    </tr>\n",
       "    <tr>\n",
       "      <th>5</th>\n",
       "      <td>-3.701707</td>\n",
       "      <td>40.441719</td>\n",
       "      <td>07  CHAMBERÍ</td>\n",
       "      <td>3</td>\n",
       "    </tr>\n",
       "    <tr>\n",
       "      <th>6</th>\n",
       "      <td>-3.699243</td>\n",
       "      <td>40.406050</td>\n",
       "      <td>01  CENTRO</td>\n",
       "      <td>2</td>\n",
       "    </tr>\n",
       "    <tr>\n",
       "      <th>7</th>\n",
       "      <td>-3.698303</td>\n",
       "      <td>40.396269</td>\n",
       "      <td>02  ARGANZUELA</td>\n",
       "      <td>7</td>\n",
       "    </tr>\n",
       "    <tr>\n",
       "      <th>8</th>\n",
       "      <td>-3.695580</td>\n",
       "      <td>40.413283</td>\n",
       "      <td>01  CENTRO</td>\n",
       "      <td>2</td>\n",
       "    </tr>\n",
       "    <tr>\n",
       "      <th>9</th>\n",
       "      <td>-3.692890</td>\n",
       "      <td>40.441485</td>\n",
       "      <td>07  CHAMBERÍ</td>\n",
       "      <td>4</td>\n",
       "    </tr>\n",
       "    <tr>\n",
       "      <th>10</th>\n",
       "      <td>-3.689331</td>\n",
       "      <td>40.459282</td>\n",
       "      <td>05  CHAMARTÍN</td>\n",
       "      <td>2</td>\n",
       "    </tr>\n",
       "    <tr>\n",
       "      <th>11</th>\n",
       "      <td>-3.687851</td>\n",
       "      <td>40.449845</td>\n",
       "      <td>05  CHAMARTÍN</td>\n",
       "      <td>4</td>\n",
       "    </tr>\n",
       "  </tbody>\n",
       "</table>\n",
       "</div>"
      ],
      "text/plain": [
       "    Longitud    Latitud        Distrito  count\n",
       "0  -3.712818  40.429636      01  CENTRO      1\n",
       "1  -3.711444  40.411296      01  CENTRO      1\n",
       "2  -3.709409  40.415613      01  CENTRO      3\n",
       "3  -3.703591  40.446389    07  CHAMBERÍ      1\n",
       "4  -3.702545  40.410089      01  CENTRO      2\n",
       "5  -3.701707  40.441719    07  CHAMBERÍ      3\n",
       "6  -3.699243  40.406050      01  CENTRO      2\n",
       "7  -3.698303  40.396269  02  ARGANZUELA      7\n",
       "8  -3.695580  40.413283      01  CENTRO      2\n",
       "9  -3.692890  40.441485    07  CHAMBERÍ      4\n",
       "10 -3.689331  40.459282   05  CHAMARTÍN      2\n",
       "11 -3.687851  40.449845   05  CHAMARTÍN      4"
      ]
     },
     "execution_count": 25,
     "metadata": {},
     "output_type": "execute_result"
    }
   ],
   "source": [
    "cols_llegada_estacion=['Longitud_Llegada','Latitud_Llegada', 'Distrito_Llegada' ]\n",
    "cols_salida_estacion=['Longitud_Salida', 'Latitud_Salida','Distrito_Salida']\n",
    "cols_estaciones=['Longitud','Latitud', 'Distrito']\n",
    "\n",
    "estaciones_llegada=topRutas[cols_llegada_estacion]\n",
    "estaciones_salida=topRutas[cols_salida_estacion]\n",
    "estaciones_llegada.rename(columns=dict(zip(cols_llegada_estacion,cols_estaciones)) , inplace=True)\n",
    "estaciones_salida.rename(columns=dict(zip(cols_salida_estacion,cols_estaciones)) , inplace=True)\n",
    "\n",
    "top10estaciones0=pd.concat([estaciones_salida, estaciones_llegada], axis=0, ignore_index=True )\n",
    "top10estaciones0['count']=1\n",
    "def top_estaciones(df): \n",
    "    distrito= df['Distrito'].iloc[0]\n",
    "    count=df['count'].sum()\n",
    "    cols=['Distrito', 'count']\n",
    "    datos=[distrito, count]\n",
    "    return(pd.Series(dict(zip(cols,datos))))\n",
    "topEstaciones=top10estaciones0.groupby(['Longitud','Latitud']).apply(top_estaciones).reset_index()\n",
    "\n",
    "topEstaciones"
   ]
  },
  {
   "cell_type": "code",
   "execution_count": 26,
   "metadata": {},
   "outputs": [
    {
     "data": {
      "application/vnd.plotly.v1+json": {
       "config": {
        "plotlyServerURL": "https://plot.ly"
       },
       "data": [
        {
         "hovertemplate": "Distrito=01  CENTRO<br>count=%{marker.size}<br>Latitud=%{lat}<br>Longitud=%{lon}<extra></extra>",
         "lat": [
          40.4296363,
          40.4112961,
          40.4156134,
          40.4100889,
          40.4060497,
          40.4132831
         ],
         "legendgroup": "01  CENTRO",
         "lon": [
          -3.7128181,
          -3.7114443,
          -3.7094093,
          -3.7025446,
          -3.6992427,
          -3.6955803
         ],
         "marker": {
          "color": "#636efa",
          "size": [
           1,
           1,
           3,
           2,
           2,
           2
          ],
          "sizemode": "area",
          "sizeref": 0.0175
         },
         "mode": "markers",
         "name": "01  CENTRO",
         "showlegend": true,
         "subplot": "mapbox",
         "type": "scattermapbox"
        },
        {
         "hovertemplate": "Distrito=07  CHAMBERÍ<br>count=%{marker.size}<br>Latitud=%{lat}<br>Longitud=%{lon}<extra></extra>",
         "lat": [
          40.4463889,
          40.4417195,
          40.4414845
         ],
         "legendgroup": "07  CHAMBERÍ",
         "lon": [
          -3.7035911,
          -3.7017071,
          -3.6928901
         ],
         "marker": {
          "color": "#EF553B",
          "size": [
           1,
           3,
           4
          ],
          "sizemode": "area",
          "sizeref": 0.0175
         },
         "mode": "markers",
         "name": "07  CHAMBERÍ",
         "showlegend": true,
         "subplot": "mapbox",
         "type": "scattermapbox"
        },
        {
         "hovertemplate": "Distrito=02  ARGANZUELA<br>count=%{marker.size}<br>Latitud=%{lat}<br>Longitud=%{lon}<extra></extra>",
         "lat": [
          40.3962687
         ],
         "legendgroup": "02  ARGANZUELA",
         "lon": [
          -3.6983033
         ],
         "marker": {
          "color": "#00cc96",
          "size": [
           7
          ],
          "sizemode": "area",
          "sizeref": 0.0175
         },
         "mode": "markers",
         "name": "02  ARGANZUELA",
         "showlegend": true,
         "subplot": "mapbox",
         "type": "scattermapbox"
        },
        {
         "hovertemplate": "Distrito=05  CHAMARTÍN<br>count=%{marker.size}<br>Latitud=%{lat}<br>Longitud=%{lon}<extra></extra>",
         "lat": [
          40.459282,
          40.4498448
         ],
         "legendgroup": "05  CHAMARTÍN",
         "lon": [
          -3.6893305,
          -3.6878512
         ],
         "marker": {
          "color": "#ab63fa",
          "size": [
           2,
           4
          ],
          "sizemode": "area",
          "sizeref": 0.0175
         },
         "mode": "markers",
         "name": "05  CHAMARTÍN",
         "showlegend": true,
         "subplot": "mapbox",
         "type": "scattermapbox"
        },
        {
         "lat": [
          40.4414845,
          40.3962687
         ],
         "line": {
          "width": 6.385
         },
         "lon": [
          -3.6928901,
          -3.6983033
         ],
         "mode": "markers+lines",
         "name": "Ruta 1",
         "type": "scattermapbox"
        },
        {
         "lat": [
          40.3962687,
          40.4132831
         ],
         "line": {
          "width": 7.640000000000001
         },
         "lon": [
          -3.6983033,
          -3.6955803
         ],
         "mode": "markers+lines",
         "name": "Ruta 2",
         "type": "scattermapbox"
        },
        {
         "lat": [
          40.4414845,
          40.4060497
         ],
         "line": {
          "width": 6.3500000000000005
         },
         "lon": [
          -3.6928901,
          -3.6992427
         ],
         "mode": "markers+lines",
         "name": "Ruta 3",
         "type": "scattermapbox"
        },
        {
         "lat": [
          40.4417195,
          40.4498448
         ],
         "line": {
          "width": 7.12
         },
         "lon": [
          -3.7017071,
          -3.6878512
         ],
         "mode": "markers+lines",
         "name": "Ruta 4",
         "type": "scattermapbox"
        },
        {
         "lat": [
          40.459282,
          40.4417195
         ],
         "line": {
          "width": 3.065
         },
         "lon": [
          -3.6893305,
          -3.7017071
         ],
         "mode": "markers+lines",
         "name": "Ruta 5",
         "type": "scattermapbox"
        },
        {
         "lat": [
          40.3962687,
          40.4100889
         ],
         "line": {
          "width": 6.925
         },
         "lon": [
          -3.6983033,
          -3.7025446
         ],
         "mode": "markers+lines",
         "name": "Ruta 6",
         "type": "scattermapbox"
        },
        {
         "lat": [
          40.4463889,
          40.3962687
         ],
         "line": {
          "width": 3.845
         },
         "lon": [
          -3.7035911,
          -3.6983033
         ],
         "mode": "markers+lines",
         "name": "Ruta 7",
         "type": "scattermapbox"
        },
        {
         "lat": [
          40.4156134,
          40.4498448
         ],
         "line": {
          "width": 9.700000000000001
         },
         "lon": [
          -3.7094093,
          -3.6878512
         ],
         "mode": "markers+lines",
         "name": "Ruta 8",
         "type": "scattermapbox"
        },
        {
         "lat": [
          40.4156134,
          40.459282
         ],
         "line": {
          "width": 3.075
         },
         "lon": [
          -3.7094093,
          -3.6893305
         ],
         "mode": "markers+lines",
         "name": "Ruta 9",
         "type": "scattermapbox"
        },
        {
         "lat": [
          40.4296363,
          40.4112961
         ],
         "line": {
          "width": 3.2800000000000002
         },
         "lon": [
          -3.7128181,
          -3.7114443
         ],
         "mode": "markers+lines",
         "name": "Ruta 10",
         "type": "scattermapbox"
        }
       ],
       "layout": {
        "autosize": true,
        "height": 1000,
        "hovermode": "closest",
        "legend": {
         "itemsizing": "constant",
         "title": {
          "text": "Distrito"
         },
         "tracegroupgap": 0
        },
        "mapbox": {
         "bearing": 0,
         "center": {
          "lat": 40.435,
          "lon": -3.69
         },
         "domain": {
          "x": [
           0,
           1
          ],
          "y": [
           0,
           1
          ]
         },
         "style": "carto-positron",
         "zoom": 12.5
        },
        "margin": {
         "t": 60
        },
        "showlegend": true,
        "template": {
         "data": {
          "bar": [
           {
            "error_x": {
             "color": "#2a3f5f"
            },
            "error_y": {
             "color": "#2a3f5f"
            },
            "marker": {
             "line": {
              "color": "#E5ECF6",
              "width": 0.5
             },
             "pattern": {
              "fillmode": "overlay",
              "size": 10,
              "solidity": 0.2
             }
            },
            "type": "bar"
           }
          ],
          "barpolar": [
           {
            "marker": {
             "line": {
              "color": "#E5ECF6",
              "width": 0.5
             },
             "pattern": {
              "fillmode": "overlay",
              "size": 10,
              "solidity": 0.2
             }
            },
            "type": "barpolar"
           }
          ],
          "carpet": [
           {
            "aaxis": {
             "endlinecolor": "#2a3f5f",
             "gridcolor": "white",
             "linecolor": "white",
             "minorgridcolor": "white",
             "startlinecolor": "#2a3f5f"
            },
            "baxis": {
             "endlinecolor": "#2a3f5f",
             "gridcolor": "white",
             "linecolor": "white",
             "minorgridcolor": "white",
             "startlinecolor": "#2a3f5f"
            },
            "type": "carpet"
           }
          ],
          "choropleth": [
           {
            "colorbar": {
             "outlinewidth": 0,
             "ticks": ""
            },
            "type": "choropleth"
           }
          ],
          "contour": [
           {
            "colorbar": {
             "outlinewidth": 0,
             "ticks": ""
            },
            "colorscale": [
             [
              0,
              "#0d0887"
             ],
             [
              0.1111111111111111,
              "#46039f"
             ],
             [
              0.2222222222222222,
              "#7201a8"
             ],
             [
              0.3333333333333333,
              "#9c179e"
             ],
             [
              0.4444444444444444,
              "#bd3786"
             ],
             [
              0.5555555555555556,
              "#d8576b"
             ],
             [
              0.6666666666666666,
              "#ed7953"
             ],
             [
              0.7777777777777778,
              "#fb9f3a"
             ],
             [
              0.8888888888888888,
              "#fdca26"
             ],
             [
              1,
              "#f0f921"
             ]
            ],
            "type": "contour"
           }
          ],
          "contourcarpet": [
           {
            "colorbar": {
             "outlinewidth": 0,
             "ticks": ""
            },
            "type": "contourcarpet"
           }
          ],
          "heatmap": [
           {
            "colorbar": {
             "outlinewidth": 0,
             "ticks": ""
            },
            "colorscale": [
             [
              0,
              "#0d0887"
             ],
             [
              0.1111111111111111,
              "#46039f"
             ],
             [
              0.2222222222222222,
              "#7201a8"
             ],
             [
              0.3333333333333333,
              "#9c179e"
             ],
             [
              0.4444444444444444,
              "#bd3786"
             ],
             [
              0.5555555555555556,
              "#d8576b"
             ],
             [
              0.6666666666666666,
              "#ed7953"
             ],
             [
              0.7777777777777778,
              "#fb9f3a"
             ],
             [
              0.8888888888888888,
              "#fdca26"
             ],
             [
              1,
              "#f0f921"
             ]
            ],
            "type": "heatmap"
           }
          ],
          "heatmapgl": [
           {
            "colorbar": {
             "outlinewidth": 0,
             "ticks": ""
            },
            "colorscale": [
             [
              0,
              "#0d0887"
             ],
             [
              0.1111111111111111,
              "#46039f"
             ],
             [
              0.2222222222222222,
              "#7201a8"
             ],
             [
              0.3333333333333333,
              "#9c179e"
             ],
             [
              0.4444444444444444,
              "#bd3786"
             ],
             [
              0.5555555555555556,
              "#d8576b"
             ],
             [
              0.6666666666666666,
              "#ed7953"
             ],
             [
              0.7777777777777778,
              "#fb9f3a"
             ],
             [
              0.8888888888888888,
              "#fdca26"
             ],
             [
              1,
              "#f0f921"
             ]
            ],
            "type": "heatmapgl"
           }
          ],
          "histogram": [
           {
            "marker": {
             "pattern": {
              "fillmode": "overlay",
              "size": 10,
              "solidity": 0.2
             }
            },
            "type": "histogram"
           }
          ],
          "histogram2d": [
           {
            "colorbar": {
             "outlinewidth": 0,
             "ticks": ""
            },
            "colorscale": [
             [
              0,
              "#0d0887"
             ],
             [
              0.1111111111111111,
              "#46039f"
             ],
             [
              0.2222222222222222,
              "#7201a8"
             ],
             [
              0.3333333333333333,
              "#9c179e"
             ],
             [
              0.4444444444444444,
              "#bd3786"
             ],
             [
              0.5555555555555556,
              "#d8576b"
             ],
             [
              0.6666666666666666,
              "#ed7953"
             ],
             [
              0.7777777777777778,
              "#fb9f3a"
             ],
             [
              0.8888888888888888,
              "#fdca26"
             ],
             [
              1,
              "#f0f921"
             ]
            ],
            "type": "histogram2d"
           }
          ],
          "histogram2dcontour": [
           {
            "colorbar": {
             "outlinewidth": 0,
             "ticks": ""
            },
            "colorscale": [
             [
              0,
              "#0d0887"
             ],
             [
              0.1111111111111111,
              "#46039f"
             ],
             [
              0.2222222222222222,
              "#7201a8"
             ],
             [
              0.3333333333333333,
              "#9c179e"
             ],
             [
              0.4444444444444444,
              "#bd3786"
             ],
             [
              0.5555555555555556,
              "#d8576b"
             ],
             [
              0.6666666666666666,
              "#ed7953"
             ],
             [
              0.7777777777777778,
              "#fb9f3a"
             ],
             [
              0.8888888888888888,
              "#fdca26"
             ],
             [
              1,
              "#f0f921"
             ]
            ],
            "type": "histogram2dcontour"
           }
          ],
          "mesh3d": [
           {
            "colorbar": {
             "outlinewidth": 0,
             "ticks": ""
            },
            "type": "mesh3d"
           }
          ],
          "parcoords": [
           {
            "line": {
             "colorbar": {
              "outlinewidth": 0,
              "ticks": ""
             }
            },
            "type": "parcoords"
           }
          ],
          "pie": [
           {
            "automargin": true,
            "type": "pie"
           }
          ],
          "scatter": [
           {
            "fillpattern": {
             "fillmode": "overlay",
             "size": 10,
             "solidity": 0.2
            },
            "type": "scatter"
           }
          ],
          "scatter3d": [
           {
            "line": {
             "colorbar": {
              "outlinewidth": 0,
              "ticks": ""
             }
            },
            "marker": {
             "colorbar": {
              "outlinewidth": 0,
              "ticks": ""
             }
            },
            "type": "scatter3d"
           }
          ],
          "scattercarpet": [
           {
            "marker": {
             "colorbar": {
              "outlinewidth": 0,
              "ticks": ""
             }
            },
            "type": "scattercarpet"
           }
          ],
          "scattergeo": [
           {
            "marker": {
             "colorbar": {
              "outlinewidth": 0,
              "ticks": ""
             }
            },
            "type": "scattergeo"
           }
          ],
          "scattergl": [
           {
            "marker": {
             "colorbar": {
              "outlinewidth": 0,
              "ticks": ""
             }
            },
            "type": "scattergl"
           }
          ],
          "scattermapbox": [
           {
            "marker": {
             "colorbar": {
              "outlinewidth": 0,
              "ticks": ""
             }
            },
            "type": "scattermapbox"
           }
          ],
          "scatterpolar": [
           {
            "marker": {
             "colorbar": {
              "outlinewidth": 0,
              "ticks": ""
             }
            },
            "type": "scatterpolar"
           }
          ],
          "scatterpolargl": [
           {
            "marker": {
             "colorbar": {
              "outlinewidth": 0,
              "ticks": ""
             }
            },
            "type": "scatterpolargl"
           }
          ],
          "scatterternary": [
           {
            "marker": {
             "colorbar": {
              "outlinewidth": 0,
              "ticks": ""
             }
            },
            "type": "scatterternary"
           }
          ],
          "surface": [
           {
            "colorbar": {
             "outlinewidth": 0,
             "ticks": ""
            },
            "colorscale": [
             [
              0,
              "#0d0887"
             ],
             [
              0.1111111111111111,
              "#46039f"
             ],
             [
              0.2222222222222222,
              "#7201a8"
             ],
             [
              0.3333333333333333,
              "#9c179e"
             ],
             [
              0.4444444444444444,
              "#bd3786"
             ],
             [
              0.5555555555555556,
              "#d8576b"
             ],
             [
              0.6666666666666666,
              "#ed7953"
             ],
             [
              0.7777777777777778,
              "#fb9f3a"
             ],
             [
              0.8888888888888888,
              "#fdca26"
             ],
             [
              1,
              "#f0f921"
             ]
            ],
            "type": "surface"
           }
          ],
          "table": [
           {
            "cells": {
             "fill": {
              "color": "#EBF0F8"
             },
             "line": {
              "color": "white"
             }
            },
            "header": {
             "fill": {
              "color": "#C8D4E3"
             },
             "line": {
              "color": "white"
             }
            },
            "type": "table"
           }
          ]
         },
         "layout": {
          "annotationdefaults": {
           "arrowcolor": "#2a3f5f",
           "arrowhead": 0,
           "arrowwidth": 1
          },
          "autotypenumbers": "strict",
          "coloraxis": {
           "colorbar": {
            "outlinewidth": 0,
            "ticks": ""
           }
          },
          "colorscale": {
           "diverging": [
            [
             0,
             "#8e0152"
            ],
            [
             0.1,
             "#c51b7d"
            ],
            [
             0.2,
             "#de77ae"
            ],
            [
             0.3,
             "#f1b6da"
            ],
            [
             0.4,
             "#fde0ef"
            ],
            [
             0.5,
             "#f7f7f7"
            ],
            [
             0.6,
             "#e6f5d0"
            ],
            [
             0.7,
             "#b8e186"
            ],
            [
             0.8,
             "#7fbc41"
            ],
            [
             0.9,
             "#4d9221"
            ],
            [
             1,
             "#276419"
            ]
           ],
           "sequential": [
            [
             0,
             "#0d0887"
            ],
            [
             0.1111111111111111,
             "#46039f"
            ],
            [
             0.2222222222222222,
             "#7201a8"
            ],
            [
             0.3333333333333333,
             "#9c179e"
            ],
            [
             0.4444444444444444,
             "#bd3786"
            ],
            [
             0.5555555555555556,
             "#d8576b"
            ],
            [
             0.6666666666666666,
             "#ed7953"
            ],
            [
             0.7777777777777778,
             "#fb9f3a"
            ],
            [
             0.8888888888888888,
             "#fdca26"
            ],
            [
             1,
             "#f0f921"
            ]
           ],
           "sequentialminus": [
            [
             0,
             "#0d0887"
            ],
            [
             0.1111111111111111,
             "#46039f"
            ],
            [
             0.2222222222222222,
             "#7201a8"
            ],
            [
             0.3333333333333333,
             "#9c179e"
            ],
            [
             0.4444444444444444,
             "#bd3786"
            ],
            [
             0.5555555555555556,
             "#d8576b"
            ],
            [
             0.6666666666666666,
             "#ed7953"
            ],
            [
             0.7777777777777778,
             "#fb9f3a"
            ],
            [
             0.8888888888888888,
             "#fdca26"
            ],
            [
             1,
             "#f0f921"
            ]
           ]
          },
          "colorway": [
           "#636efa",
           "#EF553B",
           "#00cc96",
           "#ab63fa",
           "#FFA15A",
           "#19d3f3",
           "#FF6692",
           "#B6E880",
           "#FF97FF",
           "#FECB52"
          ],
          "font": {
           "color": "#2a3f5f"
          },
          "geo": {
           "bgcolor": "white",
           "lakecolor": "white",
           "landcolor": "#E5ECF6",
           "showlakes": true,
           "showland": true,
           "subunitcolor": "white"
          },
          "hoverlabel": {
           "align": "left"
          },
          "hovermode": "closest",
          "mapbox": {
           "style": "light"
          },
          "paper_bgcolor": "white",
          "plot_bgcolor": "#E5ECF6",
          "polar": {
           "angularaxis": {
            "gridcolor": "white",
            "linecolor": "white",
            "ticks": ""
           },
           "bgcolor": "#E5ECF6",
           "radialaxis": {
            "gridcolor": "white",
            "linecolor": "white",
            "ticks": ""
           }
          },
          "scene": {
           "xaxis": {
            "backgroundcolor": "#E5ECF6",
            "gridcolor": "white",
            "gridwidth": 2,
            "linecolor": "white",
            "showbackground": true,
            "ticks": "",
            "zerolinecolor": "white"
           },
           "yaxis": {
            "backgroundcolor": "#E5ECF6",
            "gridcolor": "white",
            "gridwidth": 2,
            "linecolor": "white",
            "showbackground": true,
            "ticks": "",
            "zerolinecolor": "white"
           },
           "zaxis": {
            "backgroundcolor": "#E5ECF6",
            "gridcolor": "white",
            "gridwidth": 2,
            "linecolor": "white",
            "showbackground": true,
            "ticks": "",
            "zerolinecolor": "white"
           }
          },
          "shapedefaults": {
           "line": {
            "color": "#2a3f5f"
           }
          },
          "ternary": {
           "aaxis": {
            "gridcolor": "white",
            "linecolor": "white",
            "ticks": ""
           },
           "baxis": {
            "gridcolor": "white",
            "linecolor": "white",
            "ticks": ""
           },
           "bgcolor": "#E5ECF6",
           "caxis": {
            "gridcolor": "white",
            "linecolor": "white",
            "ticks": ""
           }
          },
          "title": {
           "x": 0.05
          },
          "xaxis": {
           "automargin": true,
           "gridcolor": "white",
           "linecolor": "white",
           "ticks": "",
           "title": {
            "standoff": 15
           },
           "zerolinecolor": "white",
           "zerolinewidth": 2
          },
          "yaxis": {
           "automargin": true,
           "gridcolor": "white",
           "linecolor": "white",
           "ticks": "",
           "title": {
            "standoff": 15
           },
           "zerolinecolor": "white",
           "zerolinewidth": 2
          }
         }
        },
        "title": {
         "text": "Rutas más concurridas"
        },
        "width": 1000
       }
      },
      "text/html": [
       "<div>                            <div id=\"4088bd8a-41a8-47dc-93d1-8ea5fee91387\" class=\"plotly-graph-div\" style=\"height:1000px; width:1000px;\"></div>            <script type=\"text/javascript\">                require([\"plotly\"], function(Plotly) {                    window.PLOTLYENV=window.PLOTLYENV || {};                                    if (document.getElementById(\"4088bd8a-41a8-47dc-93d1-8ea5fee91387\")) {                    Plotly.newPlot(                        \"4088bd8a-41a8-47dc-93d1-8ea5fee91387\",                        [{\"hovertemplate\":\"Distrito=01 \\u00a0CENTRO<br>count=%{marker.size}<br>Latitud=%{lat}<br>Longitud=%{lon}<extra></extra>\",\"lat\":[40.4296363,40.4112961,40.4156134,40.4100889,40.4060497,40.4132831],\"legendgroup\":\"01 \\u00a0CENTRO\",\"lon\":[-3.7128181,-3.7114443,-3.7094093,-3.7025446,-3.6992427,-3.6955803],\"marker\":{\"color\":\"#636efa\",\"size\":[1,1,3,2,2,2],\"sizemode\":\"area\",\"sizeref\":0.0175},\"mode\":\"markers\",\"name\":\"01 \\u00a0CENTRO\",\"showlegend\":true,\"subplot\":\"mapbox\",\"type\":\"scattermapbox\"},{\"hovertemplate\":\"Distrito=07 \\u00a0CHAMBER\\u00cd<br>count=%{marker.size}<br>Latitud=%{lat}<br>Longitud=%{lon}<extra></extra>\",\"lat\":[40.4463889,40.4417195,40.4414845],\"legendgroup\":\"07 \\u00a0CHAMBER\\u00cd\",\"lon\":[-3.7035911,-3.7017071,-3.6928901],\"marker\":{\"color\":\"#EF553B\",\"size\":[1,3,4],\"sizemode\":\"area\",\"sizeref\":0.0175},\"mode\":\"markers\",\"name\":\"07 \\u00a0CHAMBER\\u00cd\",\"showlegend\":true,\"subplot\":\"mapbox\",\"type\":\"scattermapbox\"},{\"hovertemplate\":\"Distrito=02 \\u00a0ARGANZUELA<br>count=%{marker.size}<br>Latitud=%{lat}<br>Longitud=%{lon}<extra></extra>\",\"lat\":[40.3962687],\"legendgroup\":\"02 \\u00a0ARGANZUELA\",\"lon\":[-3.6983033],\"marker\":{\"color\":\"#00cc96\",\"size\":[7],\"sizemode\":\"area\",\"sizeref\":0.0175},\"mode\":\"markers\",\"name\":\"02 \\u00a0ARGANZUELA\",\"showlegend\":true,\"subplot\":\"mapbox\",\"type\":\"scattermapbox\"},{\"hovertemplate\":\"Distrito=05 \\u00a0CHAMART\\u00cdN<br>count=%{marker.size}<br>Latitud=%{lat}<br>Longitud=%{lon}<extra></extra>\",\"lat\":[40.459282,40.4498448],\"legendgroup\":\"05 \\u00a0CHAMART\\u00cdN\",\"lon\":[-3.6893305,-3.6878512],\"marker\":{\"color\":\"#ab63fa\",\"size\":[2,4],\"sizemode\":\"area\",\"sizeref\":0.0175},\"mode\":\"markers\",\"name\":\"05 \\u00a0CHAMART\\u00cdN\",\"showlegend\":true,\"subplot\":\"mapbox\",\"type\":\"scattermapbox\"},{\"lat\":[40.4414845,40.3962687],\"line\":{\"width\":6.385},\"lon\":[-3.6928901,-3.6983033],\"mode\":\"markers+lines\",\"name\":\"Ruta 1\",\"type\":\"scattermapbox\"},{\"lat\":[40.3962687,40.4132831],\"line\":{\"width\":7.640000000000001},\"lon\":[-3.6983033,-3.6955803],\"mode\":\"markers+lines\",\"name\":\"Ruta 2\",\"type\":\"scattermapbox\"},{\"lat\":[40.4414845,40.4060497],\"line\":{\"width\":6.3500000000000005},\"lon\":[-3.6928901,-3.6992427],\"mode\":\"markers+lines\",\"name\":\"Ruta 3\",\"type\":\"scattermapbox\"},{\"lat\":[40.4417195,40.4498448],\"line\":{\"width\":7.12},\"lon\":[-3.7017071,-3.6878512],\"mode\":\"markers+lines\",\"name\":\"Ruta 4\",\"type\":\"scattermapbox\"},{\"lat\":[40.459282,40.4417195],\"line\":{\"width\":3.065},\"lon\":[-3.6893305,-3.7017071],\"mode\":\"markers+lines\",\"name\":\"Ruta 5\",\"type\":\"scattermapbox\"},{\"lat\":[40.3962687,40.4100889],\"line\":{\"width\":6.925},\"lon\":[-3.6983033,-3.7025446],\"mode\":\"markers+lines\",\"name\":\"Ruta 6\",\"type\":\"scattermapbox\"},{\"lat\":[40.4463889,40.3962687],\"line\":{\"width\":3.845},\"lon\":[-3.7035911,-3.6983033],\"mode\":\"markers+lines\",\"name\":\"Ruta 7\",\"type\":\"scattermapbox\"},{\"lat\":[40.4156134,40.4498448],\"line\":{\"width\":9.700000000000001},\"lon\":[-3.7094093,-3.6878512],\"mode\":\"markers+lines\",\"name\":\"Ruta 8\",\"type\":\"scattermapbox\"},{\"lat\":[40.4156134,40.459282],\"line\":{\"width\":3.075},\"lon\":[-3.7094093,-3.6893305],\"mode\":\"markers+lines\",\"name\":\"Ruta 9\",\"type\":\"scattermapbox\"},{\"lat\":[40.4296363,40.4112961],\"line\":{\"width\":3.2800000000000002},\"lon\":[-3.7128181,-3.7114443],\"mode\":\"markers+lines\",\"name\":\"Ruta 10\",\"type\":\"scattermapbox\"}],                        {\"template\":{\"data\":{\"histogram2dcontour\":[{\"type\":\"histogram2dcontour\",\"colorbar\":{\"outlinewidth\":0,\"ticks\":\"\"},\"colorscale\":[[0.0,\"#0d0887\"],[0.1111111111111111,\"#46039f\"],[0.2222222222222222,\"#7201a8\"],[0.3333333333333333,\"#9c179e\"],[0.4444444444444444,\"#bd3786\"],[0.5555555555555556,\"#d8576b\"],[0.6666666666666666,\"#ed7953\"],[0.7777777777777778,\"#fb9f3a\"],[0.8888888888888888,\"#fdca26\"],[1.0,\"#f0f921\"]]}],\"choropleth\":[{\"type\":\"choropleth\",\"colorbar\":{\"outlinewidth\":0,\"ticks\":\"\"}}],\"histogram2d\":[{\"type\":\"histogram2d\",\"colorbar\":{\"outlinewidth\":0,\"ticks\":\"\"},\"colorscale\":[[0.0,\"#0d0887\"],[0.1111111111111111,\"#46039f\"],[0.2222222222222222,\"#7201a8\"],[0.3333333333333333,\"#9c179e\"],[0.4444444444444444,\"#bd3786\"],[0.5555555555555556,\"#d8576b\"],[0.6666666666666666,\"#ed7953\"],[0.7777777777777778,\"#fb9f3a\"],[0.8888888888888888,\"#fdca26\"],[1.0,\"#f0f921\"]]}],\"heatmap\":[{\"type\":\"heatmap\",\"colorbar\":{\"outlinewidth\":0,\"ticks\":\"\"},\"colorscale\":[[0.0,\"#0d0887\"],[0.1111111111111111,\"#46039f\"],[0.2222222222222222,\"#7201a8\"],[0.3333333333333333,\"#9c179e\"],[0.4444444444444444,\"#bd3786\"],[0.5555555555555556,\"#d8576b\"],[0.6666666666666666,\"#ed7953\"],[0.7777777777777778,\"#fb9f3a\"],[0.8888888888888888,\"#fdca26\"],[1.0,\"#f0f921\"]]}],\"heatmapgl\":[{\"type\":\"heatmapgl\",\"colorbar\":{\"outlinewidth\":0,\"ticks\":\"\"},\"colorscale\":[[0.0,\"#0d0887\"],[0.1111111111111111,\"#46039f\"],[0.2222222222222222,\"#7201a8\"],[0.3333333333333333,\"#9c179e\"],[0.4444444444444444,\"#bd3786\"],[0.5555555555555556,\"#d8576b\"],[0.6666666666666666,\"#ed7953\"],[0.7777777777777778,\"#fb9f3a\"],[0.8888888888888888,\"#fdca26\"],[1.0,\"#f0f921\"]]}],\"contourcarpet\":[{\"type\":\"contourcarpet\",\"colorbar\":{\"outlinewidth\":0,\"ticks\":\"\"}}],\"contour\":[{\"type\":\"contour\",\"colorbar\":{\"outlinewidth\":0,\"ticks\":\"\"},\"colorscale\":[[0.0,\"#0d0887\"],[0.1111111111111111,\"#46039f\"],[0.2222222222222222,\"#7201a8\"],[0.3333333333333333,\"#9c179e\"],[0.4444444444444444,\"#bd3786\"],[0.5555555555555556,\"#d8576b\"],[0.6666666666666666,\"#ed7953\"],[0.7777777777777778,\"#fb9f3a\"],[0.8888888888888888,\"#fdca26\"],[1.0,\"#f0f921\"]]}],\"surface\":[{\"type\":\"surface\",\"colorbar\":{\"outlinewidth\":0,\"ticks\":\"\"},\"colorscale\":[[0.0,\"#0d0887\"],[0.1111111111111111,\"#46039f\"],[0.2222222222222222,\"#7201a8\"],[0.3333333333333333,\"#9c179e\"],[0.4444444444444444,\"#bd3786\"],[0.5555555555555556,\"#d8576b\"],[0.6666666666666666,\"#ed7953\"],[0.7777777777777778,\"#fb9f3a\"],[0.8888888888888888,\"#fdca26\"],[1.0,\"#f0f921\"]]}],\"mesh3d\":[{\"type\":\"mesh3d\",\"colorbar\":{\"outlinewidth\":0,\"ticks\":\"\"}}],\"scatter\":[{\"fillpattern\":{\"fillmode\":\"overlay\",\"size\":10,\"solidity\":0.2},\"type\":\"scatter\"}],\"parcoords\":[{\"type\":\"parcoords\",\"line\":{\"colorbar\":{\"outlinewidth\":0,\"ticks\":\"\"}}}],\"scatterpolargl\":[{\"type\":\"scatterpolargl\",\"marker\":{\"colorbar\":{\"outlinewidth\":0,\"ticks\":\"\"}}}],\"bar\":[{\"error_x\":{\"color\":\"#2a3f5f\"},\"error_y\":{\"color\":\"#2a3f5f\"},\"marker\":{\"line\":{\"color\":\"#E5ECF6\",\"width\":0.5},\"pattern\":{\"fillmode\":\"overlay\",\"size\":10,\"solidity\":0.2}},\"type\":\"bar\"}],\"scattergeo\":[{\"type\":\"scattergeo\",\"marker\":{\"colorbar\":{\"outlinewidth\":0,\"ticks\":\"\"}}}],\"scatterpolar\":[{\"type\":\"scatterpolar\",\"marker\":{\"colorbar\":{\"outlinewidth\":0,\"ticks\":\"\"}}}],\"histogram\":[{\"marker\":{\"pattern\":{\"fillmode\":\"overlay\",\"size\":10,\"solidity\":0.2}},\"type\":\"histogram\"}],\"scattergl\":[{\"type\":\"scattergl\",\"marker\":{\"colorbar\":{\"outlinewidth\":0,\"ticks\":\"\"}}}],\"scatter3d\":[{\"type\":\"scatter3d\",\"line\":{\"colorbar\":{\"outlinewidth\":0,\"ticks\":\"\"}},\"marker\":{\"colorbar\":{\"outlinewidth\":0,\"ticks\":\"\"}}}],\"scattermapbox\":[{\"type\":\"scattermapbox\",\"marker\":{\"colorbar\":{\"outlinewidth\":0,\"ticks\":\"\"}}}],\"scatterternary\":[{\"type\":\"scatterternary\",\"marker\":{\"colorbar\":{\"outlinewidth\":0,\"ticks\":\"\"}}}],\"scattercarpet\":[{\"type\":\"scattercarpet\",\"marker\":{\"colorbar\":{\"outlinewidth\":0,\"ticks\":\"\"}}}],\"carpet\":[{\"aaxis\":{\"endlinecolor\":\"#2a3f5f\",\"gridcolor\":\"white\",\"linecolor\":\"white\",\"minorgridcolor\":\"white\",\"startlinecolor\":\"#2a3f5f\"},\"baxis\":{\"endlinecolor\":\"#2a3f5f\",\"gridcolor\":\"white\",\"linecolor\":\"white\",\"minorgridcolor\":\"white\",\"startlinecolor\":\"#2a3f5f\"},\"type\":\"carpet\"}],\"table\":[{\"cells\":{\"fill\":{\"color\":\"#EBF0F8\"},\"line\":{\"color\":\"white\"}},\"header\":{\"fill\":{\"color\":\"#C8D4E3\"},\"line\":{\"color\":\"white\"}},\"type\":\"table\"}],\"barpolar\":[{\"marker\":{\"line\":{\"color\":\"#E5ECF6\",\"width\":0.5},\"pattern\":{\"fillmode\":\"overlay\",\"size\":10,\"solidity\":0.2}},\"type\":\"barpolar\"}],\"pie\":[{\"automargin\":true,\"type\":\"pie\"}]},\"layout\":{\"autotypenumbers\":\"strict\",\"colorway\":[\"#636efa\",\"#EF553B\",\"#00cc96\",\"#ab63fa\",\"#FFA15A\",\"#19d3f3\",\"#FF6692\",\"#B6E880\",\"#FF97FF\",\"#FECB52\"],\"font\":{\"color\":\"#2a3f5f\"},\"hovermode\":\"closest\",\"hoverlabel\":{\"align\":\"left\"},\"paper_bgcolor\":\"white\",\"plot_bgcolor\":\"#E5ECF6\",\"polar\":{\"bgcolor\":\"#E5ECF6\",\"angularaxis\":{\"gridcolor\":\"white\",\"linecolor\":\"white\",\"ticks\":\"\"},\"radialaxis\":{\"gridcolor\":\"white\",\"linecolor\":\"white\",\"ticks\":\"\"}},\"ternary\":{\"bgcolor\":\"#E5ECF6\",\"aaxis\":{\"gridcolor\":\"white\",\"linecolor\":\"white\",\"ticks\":\"\"},\"baxis\":{\"gridcolor\":\"white\",\"linecolor\":\"white\",\"ticks\":\"\"},\"caxis\":{\"gridcolor\":\"white\",\"linecolor\":\"white\",\"ticks\":\"\"}},\"coloraxis\":{\"colorbar\":{\"outlinewidth\":0,\"ticks\":\"\"}},\"colorscale\":{\"sequential\":[[0.0,\"#0d0887\"],[0.1111111111111111,\"#46039f\"],[0.2222222222222222,\"#7201a8\"],[0.3333333333333333,\"#9c179e\"],[0.4444444444444444,\"#bd3786\"],[0.5555555555555556,\"#d8576b\"],[0.6666666666666666,\"#ed7953\"],[0.7777777777777778,\"#fb9f3a\"],[0.8888888888888888,\"#fdca26\"],[1.0,\"#f0f921\"]],\"sequentialminus\":[[0.0,\"#0d0887\"],[0.1111111111111111,\"#46039f\"],[0.2222222222222222,\"#7201a8\"],[0.3333333333333333,\"#9c179e\"],[0.4444444444444444,\"#bd3786\"],[0.5555555555555556,\"#d8576b\"],[0.6666666666666666,\"#ed7953\"],[0.7777777777777778,\"#fb9f3a\"],[0.8888888888888888,\"#fdca26\"],[1.0,\"#f0f921\"]],\"diverging\":[[0,\"#8e0152\"],[0.1,\"#c51b7d\"],[0.2,\"#de77ae\"],[0.3,\"#f1b6da\"],[0.4,\"#fde0ef\"],[0.5,\"#f7f7f7\"],[0.6,\"#e6f5d0\"],[0.7,\"#b8e186\"],[0.8,\"#7fbc41\"],[0.9,\"#4d9221\"],[1,\"#276419\"]]},\"xaxis\":{\"gridcolor\":\"white\",\"linecolor\":\"white\",\"ticks\":\"\",\"title\":{\"standoff\":15},\"zerolinecolor\":\"white\",\"automargin\":true,\"zerolinewidth\":2},\"yaxis\":{\"gridcolor\":\"white\",\"linecolor\":\"white\",\"ticks\":\"\",\"title\":{\"standoff\":15},\"zerolinecolor\":\"white\",\"automargin\":true,\"zerolinewidth\":2},\"scene\":{\"xaxis\":{\"backgroundcolor\":\"#E5ECF6\",\"gridcolor\":\"white\",\"linecolor\":\"white\",\"showbackground\":true,\"ticks\":\"\",\"zerolinecolor\":\"white\",\"gridwidth\":2},\"yaxis\":{\"backgroundcolor\":\"#E5ECF6\",\"gridcolor\":\"white\",\"linecolor\":\"white\",\"showbackground\":true,\"ticks\":\"\",\"zerolinecolor\":\"white\",\"gridwidth\":2},\"zaxis\":{\"backgroundcolor\":\"#E5ECF6\",\"gridcolor\":\"white\",\"linecolor\":\"white\",\"showbackground\":true,\"ticks\":\"\",\"zerolinecolor\":\"white\",\"gridwidth\":2}},\"shapedefaults\":{\"line\":{\"color\":\"#2a3f5f\"}},\"annotationdefaults\":{\"arrowcolor\":\"#2a3f5f\",\"arrowhead\":0,\"arrowwidth\":1},\"geo\":{\"bgcolor\":\"white\",\"landcolor\":\"#E5ECF6\",\"subunitcolor\":\"white\",\"showland\":true,\"showlakes\":true,\"lakecolor\":\"white\"},\"title\":{\"x\":0.05},\"mapbox\":{\"style\":\"light\"}}},\"mapbox\":{\"domain\":{\"x\":[0.0,1.0],\"y\":[0.0,1.0]},\"center\":{\"lat\":40.435,\"lon\":-3.69},\"zoom\":12.5,\"bearing\":0,\"style\":\"carto-positron\"},\"legend\":{\"title\":{\"text\":\"Distrito\"},\"tracegroupgap\":0,\"itemsizing\":\"constant\"},\"margin\":{\"t\":60},\"height\":1000,\"width\":1000,\"title\":{\"text\":\"Rutas m\\u00e1s concurridas\"},\"autosize\":true,\"hovermode\":\"closest\",\"showlegend\":true},                        {\"responsive\": true}                    ).then(function(){\n",
       "                            \n",
       "var gd = document.getElementById('4088bd8a-41a8-47dc-93d1-8ea5fee91387');\n",
       "var x = new MutationObserver(function (mutations, observer) {{\n",
       "        var display = window.getComputedStyle(gd).display;\n",
       "        if (!display || display === 'none') {{\n",
       "            console.log([gd, 'removed!']);\n",
       "            Plotly.purge(gd);\n",
       "            observer.disconnect();\n",
       "        }}\n",
       "}});\n",
       "\n",
       "// Listen for the removal of the full notebook cells\n",
       "var notebookContainer = gd.closest('#notebook-container');\n",
       "if (notebookContainer) {{\n",
       "    x.observe(notebookContainer, {childList: true});\n",
       "}}\n",
       "\n",
       "// Listen for the clearing of the current output cell\n",
       "var outputEl = gd.closest('.output');\n",
       "if (outputEl) {{\n",
       "    x.observe(outputEl, {childList: true});\n",
       "}}\n",
       "\n",
       "                        })                };                });            </script>        </div>"
      ]
     },
     "metadata": {},
     "output_type": "display_data"
    }
   ],
   "source": [
    "fig = px.scatter_mapbox(top10estaciones, lat=\"Latitud\", lon=\"Longitud\", size='count',color='Distrito', width = 1000, height = 900, zoom = 50)\n",
    "# fig.add_trace(go.Scattermapbox(\n",
    "#         lat = top10estaciones[\"Latitud\"],\n",
    "#         lon=top10estaciones[\"Longitud\"],\n",
    "#         mode='markers',\n",
    "#         showlegend=False,\n",
    "#         marker=go.scattermapbox.Marker(\n",
    "#             size=top10estaciones[\"count\"],\n",
    "#             color='blue', \n",
    "#             opacity=0.7,\n",
    "#             #size=50,\n",
    "#              )\n",
    "#     ))\n",
    "for i in range(topRutasUnicas.shape[0]): \n",
    "    valores=topRutasUnicas.iloc[i,:]\n",
    "\n",
    "    fig.add_trace(\n",
    "        go.Scattermapbox(\n",
    "        mode = \"markers+lines\",\n",
    "        lon = [valores['Longitud_Salida'], valores['Longitud_Llegada']],\n",
    "        lat = [valores['Latitud_Salida'], valores['Latitud_Llegada']],\n",
    "        line= {'width':valores['viajes']*0.005} ,\n",
    "        name= 'Ruta '+str(1+i)\n",
    "\n",
    "        ))\n",
    "hover_header = 'Estacion: %{text} '\n",
    "\n",
    "fig.update_layout(\n",
    "    title='Rutas más concurridas',\n",
    "    autosize=True,\n",
    "    hovermode='closest',\n",
    "    showlegend=True,\n",
    "    width = 1000,\n",
    "    height = 1000,\n",
    "    mapbox=dict(\n",
    "        bearing=0,\n",
    "        center=dict(\n",
    "            lat=40.435,\n",
    "            lon=-3.69\n",
    "        ),\n",
    "        zoom=12.5,\n",
    "        style= 'carto-positron' # 'open-street-map'\n",
    "        \n",
    "    )\n",
    ")\n",
    "fig.show()"
   ]
  },
  {
   "cell_type": "markdown",
   "metadata": {},
   "source": [
    "#### Rutas Mapa"
   ]
  },
  {
   "cell_type": "code",
   "execution_count": 29,
   "metadata": {},
   "outputs": [],
   "source": [
    "rutas_175=df_rutas[df_rutas['idplug_station']== 175]\n",
    "rutas_175_top=rutas_175.head(10)"
   ]
  },
  {
   "cell_type": "code",
   "execution_count": 31,
   "metadata": {},
   "outputs": [],
   "source": [
    "rutas_175_top.rename(columns={'_id': 'viajes'}, inplace=True)"
   ]
  },
  {
   "cell_type": "code",
   "execution_count": 32,
   "metadata": {},
   "outputs": [
    {
     "data": {
      "text/html": [
       "<div>\n",
       "<style scoped>\n",
       "    .dataframe tbody tr th:only-of-type {\n",
       "        vertical-align: middle;\n",
       "    }\n",
       "\n",
       "    .dataframe tbody tr th {\n",
       "        vertical-align: top;\n",
       "    }\n",
       "\n",
       "    .dataframe thead th {\n",
       "        text-align: right;\n",
       "    }\n",
       "</style>\n",
       "<table border=\"1\" class=\"dataframe\">\n",
       "  <thead>\n",
       "    <tr style=\"text-align: right;\">\n",
       "      <th></th>\n",
       "      <th>Origen_destino</th>\n",
       "      <th>Latitud_Salida</th>\n",
       "      <th>Longitud_Salida</th>\n",
       "      <th>Distrito_Salida</th>\n",
       "      <th>Latitud_Llegada</th>\n",
       "      <th>Longitud_Llegada</th>\n",
       "      <th>Distrito_Llegada</th>\n",
       "      <th>idplug_station</th>\n",
       "      <th>idunplug_station</th>\n",
       "      <th>viajes</th>\n",
       "    </tr>\n",
       "  </thead>\n",
       "  <tbody>\n",
       "    <tr>\n",
       "      <th>7663</th>\n",
       "      <td>132-175</td>\n",
       "      <td>40.446389</td>\n",
       "      <td>-3.703591</td>\n",
       "      <td>07  CHAMBERÍ</td>\n",
       "      <td>40.396269</td>\n",
       "      <td>-3.698303</td>\n",
       "      <td>02  ARGANZUELA</td>\n",
       "      <td>175</td>\n",
       "      <td>132</td>\n",
       "      <td>769</td>\n",
       "    </tr>\n",
       "    <tr>\n",
       "      <th>27301</th>\n",
       "      <td>27-175</td>\n",
       "      <td>40.413283</td>\n",
       "      <td>-3.695580</td>\n",
       "      <td>01  CENTRO</td>\n",
       "      <td>40.396269</td>\n",
       "      <td>-3.698303</td>\n",
       "      <td>02  ARGANZUELA</td>\n",
       "      <td>175</td>\n",
       "      <td>27</td>\n",
       "      <td>677</td>\n",
       "    </tr>\n",
       "    <tr>\n",
       "      <th>8277</th>\n",
       "      <td>135-175</td>\n",
       "      <td>40.441485</td>\n",
       "      <td>-3.692890</td>\n",
       "      <td>07  CHAMBERÍ</td>\n",
       "      <td>40.396269</td>\n",
       "      <td>-3.698303</td>\n",
       "      <td>02  ARGANZUELA</td>\n",
       "      <td>175</td>\n",
       "      <td>135</td>\n",
       "      <td>661</td>\n",
       "    </tr>\n",
       "    <tr>\n",
       "      <th>30732</th>\n",
       "      <td>43-175</td>\n",
       "      <td>40.410089</td>\n",
       "      <td>-3.702545</td>\n",
       "      <td>01  CENTRO</td>\n",
       "      <td>40.396269</td>\n",
       "      <td>-3.698303</td>\n",
       "      <td>02  ARGANZUELA</td>\n",
       "      <td>175</td>\n",
       "      <td>43</td>\n",
       "      <td>631</td>\n",
       "    </tr>\n",
       "    <tr>\n",
       "      <th>29516</th>\n",
       "      <td>38-175</td>\n",
       "      <td>40.411296</td>\n",
       "      <td>-3.711444</td>\n",
       "      <td>01  CENTRO</td>\n",
       "      <td>40.396269</td>\n",
       "      <td>-3.698303</td>\n",
       "      <td>02  ARGANZUELA</td>\n",
       "      <td>175</td>\n",
       "      <td>38</td>\n",
       "      <td>605</td>\n",
       "    </tr>\n",
       "    <tr>\n",
       "      <th>83</th>\n",
       "      <td>1-175</td>\n",
       "      <td>40.417111</td>\n",
       "      <td>-3.701998</td>\n",
       "      <td>01  CENTRO</td>\n",
       "      <td>40.396269</td>\n",
       "      <td>-3.698303</td>\n",
       "      <td>02  ARGANZUELA</td>\n",
       "      <td>175</td>\n",
       "      <td>1</td>\n",
       "      <td>554</td>\n",
       "    </tr>\n",
       "    <tr>\n",
       "      <th>27095</th>\n",
       "      <td>26-175</td>\n",
       "      <td>40.423831</td>\n",
       "      <td>-3.694542</td>\n",
       "      <td>01  CENTRO</td>\n",
       "      <td>40.396269</td>\n",
       "      <td>-3.698303</td>\n",
       "      <td>02  ARGANZUELA</td>\n",
       "      <td>175</td>\n",
       "      <td>26</td>\n",
       "      <td>496</td>\n",
       "    </tr>\n",
       "    <tr>\n",
       "      <th>32798</th>\n",
       "      <td>52-175</td>\n",
       "      <td>40.414518</td>\n",
       "      <td>-3.700784</td>\n",
       "      <td>01  CENTRO</td>\n",
       "      <td>40.396269</td>\n",
       "      <td>-3.698303</td>\n",
       "      <td>02  ARGANZUELA</td>\n",
       "      <td>175</td>\n",
       "      <td>52</td>\n",
       "      <td>384</td>\n",
       "    </tr>\n",
       "    <tr>\n",
       "      <th>33629</th>\n",
       "      <td>56-175</td>\n",
       "      <td>40.418484</td>\n",
       "      <td>-3.703288</td>\n",
       "      <td>01  CENTRO</td>\n",
       "      <td>40.396269</td>\n",
       "      <td>-3.698303</td>\n",
       "      <td>02  ARGANZUELA</td>\n",
       "      <td>175</td>\n",
       "      <td>56</td>\n",
       "      <td>381</td>\n",
       "    </tr>\n",
       "    <tr>\n",
       "      <th>31148</th>\n",
       "      <td>45-175</td>\n",
       "      <td>40.406949</td>\n",
       "      <td>-3.711138</td>\n",
       "      <td>01  CENTRO</td>\n",
       "      <td>40.396269</td>\n",
       "      <td>-3.698303</td>\n",
       "      <td>02  ARGANZUELA</td>\n",
       "      <td>175</td>\n",
       "      <td>45</td>\n",
       "      <td>375</td>\n",
       "    </tr>\n",
       "  </tbody>\n",
       "</table>\n",
       "</div>"
      ],
      "text/plain": [
       "      Origen_destino  Latitud_Salida  Longitud_Salida Distrito_Salida  \\\n",
       "7663         132-175       40.446389        -3.703591    07  CHAMBERÍ   \n",
       "27301         27-175       40.413283        -3.695580      01  CENTRO   \n",
       "8277         135-175       40.441485        -3.692890    07  CHAMBERÍ   \n",
       "30732         43-175       40.410089        -3.702545      01  CENTRO   \n",
       "29516         38-175       40.411296        -3.711444      01  CENTRO   \n",
       "83             1-175       40.417111        -3.701998      01  CENTRO   \n",
       "27095         26-175       40.423831        -3.694542      01  CENTRO   \n",
       "32798         52-175       40.414518        -3.700784      01  CENTRO   \n",
       "33629         56-175       40.418484        -3.703288      01  CENTRO   \n",
       "31148         45-175       40.406949        -3.711138      01  CENTRO   \n",
       "\n",
       "       Latitud_Llegada  Longitud_Llegada Distrito_Llegada  idplug_station  \\\n",
       "7663         40.396269         -3.698303   02  ARGANZUELA             175   \n",
       "27301        40.396269         -3.698303   02  ARGANZUELA             175   \n",
       "8277         40.396269         -3.698303   02  ARGANZUELA             175   \n",
       "30732        40.396269         -3.698303   02  ARGANZUELA             175   \n",
       "29516        40.396269         -3.698303   02  ARGANZUELA             175   \n",
       "83           40.396269         -3.698303   02  ARGANZUELA             175   \n",
       "27095        40.396269         -3.698303   02  ARGANZUELA             175   \n",
       "32798        40.396269         -3.698303   02  ARGANZUELA             175   \n",
       "33629        40.396269         -3.698303   02  ARGANZUELA             175   \n",
       "31148        40.396269         -3.698303   02  ARGANZUELA             175   \n",
       "\n",
       "       idunplug_station  viajes  \n",
       "7663                132     769  \n",
       "27301                27     677  \n",
       "8277                135     661  \n",
       "30732                43     631  \n",
       "29516                38     605  \n",
       "83                    1     554  \n",
       "27095                26     496  \n",
       "32798                52     384  \n",
       "33629                56     381  \n",
       "31148                45     375  "
      ]
     },
     "execution_count": 32,
     "metadata": {},
     "output_type": "execute_result"
    }
   ],
   "source": [
    "rutas_175_top"
   ]
  },
  {
   "cell_type": "code",
   "execution_count": 33,
   "metadata": {},
   "outputs": [
    {
     "data": {
      "text/html": [
       "<div>\n",
       "<style scoped>\n",
       "    .dataframe tbody tr th:only-of-type {\n",
       "        vertical-align: middle;\n",
       "    }\n",
       "\n",
       "    .dataframe tbody tr th {\n",
       "        vertical-align: top;\n",
       "    }\n",
       "\n",
       "    .dataframe thead th {\n",
       "        text-align: right;\n",
       "    }\n",
       "</style>\n",
       "<table border=\"1\" class=\"dataframe\">\n",
       "  <thead>\n",
       "    <tr style=\"text-align: right;\">\n",
       "      <th></th>\n",
       "      <th>Longitud</th>\n",
       "      <th>Latitud</th>\n",
       "      <th>Distrito</th>\n",
       "      <th>count</th>\n",
       "    </tr>\n",
       "  </thead>\n",
       "  <tbody>\n",
       "    <tr>\n",
       "      <th>0</th>\n",
       "      <td>-3.711444</td>\n",
       "      <td>40.411296</td>\n",
       "      <td>01  CENTRO</td>\n",
       "      <td>1</td>\n",
       "    </tr>\n",
       "    <tr>\n",
       "      <th>1</th>\n",
       "      <td>-3.711138</td>\n",
       "      <td>40.406949</td>\n",
       "      <td>01  CENTRO</td>\n",
       "      <td>1</td>\n",
       "    </tr>\n",
       "    <tr>\n",
       "      <th>2</th>\n",
       "      <td>-3.703591</td>\n",
       "      <td>40.446389</td>\n",
       "      <td>07  CHAMBERÍ</td>\n",
       "      <td>1</td>\n",
       "    </tr>\n",
       "    <tr>\n",
       "      <th>3</th>\n",
       "      <td>-3.703288</td>\n",
       "      <td>40.418484</td>\n",
       "      <td>01  CENTRO</td>\n",
       "      <td>1</td>\n",
       "    </tr>\n",
       "    <tr>\n",
       "      <th>4</th>\n",
       "      <td>-3.702545</td>\n",
       "      <td>40.410089</td>\n",
       "      <td>01  CENTRO</td>\n",
       "      <td>1</td>\n",
       "    </tr>\n",
       "    <tr>\n",
       "      <th>5</th>\n",
       "      <td>-3.701998</td>\n",
       "      <td>40.417111</td>\n",
       "      <td>01  CENTRO</td>\n",
       "      <td>1</td>\n",
       "    </tr>\n",
       "    <tr>\n",
       "      <th>6</th>\n",
       "      <td>-3.700784</td>\n",
       "      <td>40.414518</td>\n",
       "      <td>01  CENTRO</td>\n",
       "      <td>1</td>\n",
       "    </tr>\n",
       "    <tr>\n",
       "      <th>7</th>\n",
       "      <td>-3.698303</td>\n",
       "      <td>40.396269</td>\n",
       "      <td>02  ARGANZUELA</td>\n",
       "      <td>10</td>\n",
       "    </tr>\n",
       "    <tr>\n",
       "      <th>8</th>\n",
       "      <td>-3.695580</td>\n",
       "      <td>40.413283</td>\n",
       "      <td>01  CENTRO</td>\n",
       "      <td>1</td>\n",
       "    </tr>\n",
       "    <tr>\n",
       "      <th>9</th>\n",
       "      <td>-3.694542</td>\n",
       "      <td>40.423831</td>\n",
       "      <td>01  CENTRO</td>\n",
       "      <td>1</td>\n",
       "    </tr>\n",
       "    <tr>\n",
       "      <th>10</th>\n",
       "      <td>-3.692890</td>\n",
       "      <td>40.441485</td>\n",
       "      <td>07  CHAMBERÍ</td>\n",
       "      <td>1</td>\n",
       "    </tr>\n",
       "  </tbody>\n",
       "</table>\n",
       "</div>"
      ],
      "text/plain": [
       "    Longitud    Latitud        Distrito  count\n",
       "0  -3.711444  40.411296      01  CENTRO      1\n",
       "1  -3.711138  40.406949      01  CENTRO      1\n",
       "2  -3.703591  40.446389    07  CHAMBERÍ      1\n",
       "3  -3.703288  40.418484      01  CENTRO      1\n",
       "4  -3.702545  40.410089      01  CENTRO      1\n",
       "5  -3.701998  40.417111      01  CENTRO      1\n",
       "6  -3.700784  40.414518      01  CENTRO      1\n",
       "7  -3.698303  40.396269  02  ARGANZUELA     10\n",
       "8  -3.695580  40.413283      01  CENTRO      1\n",
       "9  -3.694542  40.423831      01  CENTRO      1\n",
       "10 -3.692890  40.441485    07  CHAMBERÍ      1"
      ]
     },
     "execution_count": 33,
     "metadata": {},
     "output_type": "execute_result"
    }
   ],
   "source": [
    "cols_llegada_estacion=['Longitud_Llegada','Latitud_Llegada', 'Distrito_Llegada' ]\n",
    "cols_salida_estacion=['Longitud_Salida', 'Latitud_Salida','Distrito_Salida']\n",
    "cols_estaciones=['Longitud','Latitud', 'Distrito']\n",
    "\n",
    "estaciones_llegada=rutas_175_top[cols_llegada_estacion]\n",
    "estaciones_salida=rutas_175_top[cols_salida_estacion]\n",
    "estaciones_llegada.rename(columns=dict(zip(cols_llegada_estacion,cols_estaciones)) , inplace=True)\n",
    "estaciones_salida.rename(columns=dict(zip(cols_salida_estacion,cols_estaciones)) , inplace=True)\n",
    "\n",
    "top175estaciones0=pd.concat([estaciones_salida, estaciones_llegada], axis=0, ignore_index=True )\n",
    "top175estaciones0['count']=1\n",
    "def top_estaciones(df): \n",
    "    distrito= df['Distrito'].iloc[0]\n",
    "    count=df['count'].sum()\n",
    "    cols=['Distrito', 'count']\n",
    "    datos=[distrito, count]\n",
    "    return(pd.Series(dict(zip(cols,datos))))\n",
    "top175estaciones=top175estaciones0.groupby(['Longitud','Latitud']).apply(top_estaciones).reset_index()\n",
    "\n",
    "top175estaciones"
   ]
  },
  {
   "cell_type": "code",
   "execution_count": 35,
   "metadata": {},
   "outputs": [
    {
     "data": {
      "application/vnd.plotly.v1+json": {
       "config": {
        "plotlyServerURL": "https://plot.ly"
       },
       "data": [
        {
         "hovertemplate": "Distrito=01  CENTRO<br>count=%{marker.size}<br>Latitud=%{lat}<br>Longitud=%{lon}<extra></extra>",
         "lat": [
          40.4112961,
          40.4069486,
          40.418484,
          40.4100889,
          40.4171107,
          40.4145181,
          40.4132831,
          40.4238308
         ],
         "legendgroup": "01  CENTRO",
         "lon": [
          -3.7114443,
          -3.7111381,
          -3.7032875,
          -3.7025446,
          -3.701998,
          -3.7007838,
          -3.6955803,
          -3.6945421
         ],
         "marker": {
          "color": "#636efa",
          "size": [
           1,
           1,
           1,
           1,
           1,
           1,
           1,
           1
          ],
          "sizemode": "area",
          "sizeref": 0.025
         },
         "mode": "markers",
         "name": "01  CENTRO",
         "showlegend": true,
         "subplot": "mapbox",
         "type": "scattermapbox"
        },
        {
         "hovertemplate": "Distrito=07  CHAMBERÍ<br>count=%{marker.size}<br>Latitud=%{lat}<br>Longitud=%{lon}<extra></extra>",
         "lat": [
          40.4463889,
          40.4414845
         ],
         "legendgroup": "07  CHAMBERÍ",
         "lon": [
          -3.7035911,
          -3.6928901
         ],
         "marker": {
          "color": "#EF553B",
          "size": [
           1,
           1
          ],
          "sizemode": "area",
          "sizeref": 0.025
         },
         "mode": "markers",
         "name": "07  CHAMBERÍ",
         "showlegend": true,
         "subplot": "mapbox",
         "type": "scattermapbox"
        },
        {
         "hovertemplate": "Distrito=02  ARGANZUELA<br>count=%{marker.size}<br>Latitud=%{lat}<br>Longitud=%{lon}<extra></extra>",
         "lat": [
          40.3962687
         ],
         "legendgroup": "02  ARGANZUELA",
         "lon": [
          -3.6983033
         ],
         "marker": {
          "color": "#00cc96",
          "size": [
           10
          ],
          "sizemode": "area",
          "sizeref": 0.025
         },
         "mode": "markers",
         "name": "02  ARGANZUELA",
         "showlegend": true,
         "subplot": "mapbox",
         "type": "scattermapbox"
        },
        {
         "lat": [
          40.4463889,
          40.3962687
         ],
         "line": {
          "width": 3.845
         },
         "lon": [
          -3.7035911,
          -3.6983033
         ],
         "mode": "markers+lines",
         "name": "Ruta 1",
         "type": "scattermapbox"
        },
        {
         "lat": [
          40.4132831,
          40.3962687
         ],
         "line": {
          "width": 3.3850000000000002
         },
         "lon": [
          -3.6955803,
          -3.6983033
         ],
         "mode": "markers+lines",
         "name": "Ruta 2",
         "type": "scattermapbox"
        },
        {
         "lat": [
          40.4414845,
          40.3962687
         ],
         "line": {
          "width": 3.305
         },
         "lon": [
          -3.6928901,
          -3.6983033
         ],
         "mode": "markers+lines",
         "name": "Ruta 3",
         "type": "scattermapbox"
        },
        {
         "lat": [
          40.4100889,
          40.3962687
         ],
         "line": {
          "width": 3.1550000000000002
         },
         "lon": [
          -3.7025446,
          -3.6983033
         ],
         "mode": "markers+lines",
         "name": "Ruta 4",
         "type": "scattermapbox"
        },
        {
         "lat": [
          40.4112961,
          40.3962687
         ],
         "line": {
          "width": 3.025
         },
         "lon": [
          -3.7114443,
          -3.6983033
         ],
         "mode": "markers+lines",
         "name": "Ruta 5",
         "type": "scattermapbox"
        },
        {
         "lat": [
          40.4171107,
          40.3962687
         ],
         "line": {
          "width": 2.77
         },
         "lon": [
          -3.701998,
          -3.6983033
         ],
         "mode": "markers+lines",
         "name": "Ruta 6",
         "type": "scattermapbox"
        },
        {
         "lat": [
          40.4238308,
          40.3962687
         ],
         "line": {
          "width": 2.48
         },
         "lon": [
          -3.6945421,
          -3.6983033
         ],
         "mode": "markers+lines",
         "name": "Ruta 7",
         "type": "scattermapbox"
        },
        {
         "lat": [
          40.4145181,
          40.3962687
         ],
         "line": {
          "width": 1.92
         },
         "lon": [
          -3.7007838,
          -3.6983033
         ],
         "mode": "markers+lines",
         "name": "Ruta 8",
         "type": "scattermapbox"
        },
        {
         "lat": [
          40.418484,
          40.3962687
         ],
         "line": {
          "width": 1.905
         },
         "lon": [
          -3.7032875,
          -3.6983033
         ],
         "mode": "markers+lines",
         "name": "Ruta 9",
         "type": "scattermapbox"
        },
        {
         "lat": [
          40.4069486,
          40.3962687
         ],
         "line": {
          "width": 1.875
         },
         "lon": [
          -3.7111381,
          -3.6983033
         ],
         "mode": "markers+lines",
         "name": "Ruta 10",
         "type": "scattermapbox"
        }
       ],
       "layout": {
        "autosize": true,
        "height": 1000,
        "hovermode": "closest",
        "legend": {
         "itemsizing": "constant",
         "title": {
          "text": "Distrito"
         },
         "tracegroupgap": 0
        },
        "mapbox": {
         "bearing": 0,
         "center": {
          "lat": 40.435,
          "lon": -3.69
         },
         "domain": {
          "x": [
           0,
           1
          ],
          "y": [
           0,
           1
          ]
         },
         "style": "carto-positron",
         "zoom": 12.5
        },
        "margin": {
         "t": 60
        },
        "showlegend": true,
        "template": {
         "data": {
          "bar": [
           {
            "error_x": {
             "color": "#2a3f5f"
            },
            "error_y": {
             "color": "#2a3f5f"
            },
            "marker": {
             "line": {
              "color": "#E5ECF6",
              "width": 0.5
             },
             "pattern": {
              "fillmode": "overlay",
              "size": 10,
              "solidity": 0.2
             }
            },
            "type": "bar"
           }
          ],
          "barpolar": [
           {
            "marker": {
             "line": {
              "color": "#E5ECF6",
              "width": 0.5
             },
             "pattern": {
              "fillmode": "overlay",
              "size": 10,
              "solidity": 0.2
             }
            },
            "type": "barpolar"
           }
          ],
          "carpet": [
           {
            "aaxis": {
             "endlinecolor": "#2a3f5f",
             "gridcolor": "white",
             "linecolor": "white",
             "minorgridcolor": "white",
             "startlinecolor": "#2a3f5f"
            },
            "baxis": {
             "endlinecolor": "#2a3f5f",
             "gridcolor": "white",
             "linecolor": "white",
             "minorgridcolor": "white",
             "startlinecolor": "#2a3f5f"
            },
            "type": "carpet"
           }
          ],
          "choropleth": [
           {
            "colorbar": {
             "outlinewidth": 0,
             "ticks": ""
            },
            "type": "choropleth"
           }
          ],
          "contour": [
           {
            "colorbar": {
             "outlinewidth": 0,
             "ticks": ""
            },
            "colorscale": [
             [
              0,
              "#0d0887"
             ],
             [
              0.1111111111111111,
              "#46039f"
             ],
             [
              0.2222222222222222,
              "#7201a8"
             ],
             [
              0.3333333333333333,
              "#9c179e"
             ],
             [
              0.4444444444444444,
              "#bd3786"
             ],
             [
              0.5555555555555556,
              "#d8576b"
             ],
             [
              0.6666666666666666,
              "#ed7953"
             ],
             [
              0.7777777777777778,
              "#fb9f3a"
             ],
             [
              0.8888888888888888,
              "#fdca26"
             ],
             [
              1,
              "#f0f921"
             ]
            ],
            "type": "contour"
           }
          ],
          "contourcarpet": [
           {
            "colorbar": {
             "outlinewidth": 0,
             "ticks": ""
            },
            "type": "contourcarpet"
           }
          ],
          "heatmap": [
           {
            "colorbar": {
             "outlinewidth": 0,
             "ticks": ""
            },
            "colorscale": [
             [
              0,
              "#0d0887"
             ],
             [
              0.1111111111111111,
              "#46039f"
             ],
             [
              0.2222222222222222,
              "#7201a8"
             ],
             [
              0.3333333333333333,
              "#9c179e"
             ],
             [
              0.4444444444444444,
              "#bd3786"
             ],
             [
              0.5555555555555556,
              "#d8576b"
             ],
             [
              0.6666666666666666,
              "#ed7953"
             ],
             [
              0.7777777777777778,
              "#fb9f3a"
             ],
             [
              0.8888888888888888,
              "#fdca26"
             ],
             [
              1,
              "#f0f921"
             ]
            ],
            "type": "heatmap"
           }
          ],
          "heatmapgl": [
           {
            "colorbar": {
             "outlinewidth": 0,
             "ticks": ""
            },
            "colorscale": [
             [
              0,
              "#0d0887"
             ],
             [
              0.1111111111111111,
              "#46039f"
             ],
             [
              0.2222222222222222,
              "#7201a8"
             ],
             [
              0.3333333333333333,
              "#9c179e"
             ],
             [
              0.4444444444444444,
              "#bd3786"
             ],
             [
              0.5555555555555556,
              "#d8576b"
             ],
             [
              0.6666666666666666,
              "#ed7953"
             ],
             [
              0.7777777777777778,
              "#fb9f3a"
             ],
             [
              0.8888888888888888,
              "#fdca26"
             ],
             [
              1,
              "#f0f921"
             ]
            ],
            "type": "heatmapgl"
           }
          ],
          "histogram": [
           {
            "marker": {
             "pattern": {
              "fillmode": "overlay",
              "size": 10,
              "solidity": 0.2
             }
            },
            "type": "histogram"
           }
          ],
          "histogram2d": [
           {
            "colorbar": {
             "outlinewidth": 0,
             "ticks": ""
            },
            "colorscale": [
             [
              0,
              "#0d0887"
             ],
             [
              0.1111111111111111,
              "#46039f"
             ],
             [
              0.2222222222222222,
              "#7201a8"
             ],
             [
              0.3333333333333333,
              "#9c179e"
             ],
             [
              0.4444444444444444,
              "#bd3786"
             ],
             [
              0.5555555555555556,
              "#d8576b"
             ],
             [
              0.6666666666666666,
              "#ed7953"
             ],
             [
              0.7777777777777778,
              "#fb9f3a"
             ],
             [
              0.8888888888888888,
              "#fdca26"
             ],
             [
              1,
              "#f0f921"
             ]
            ],
            "type": "histogram2d"
           }
          ],
          "histogram2dcontour": [
           {
            "colorbar": {
             "outlinewidth": 0,
             "ticks": ""
            },
            "colorscale": [
             [
              0,
              "#0d0887"
             ],
             [
              0.1111111111111111,
              "#46039f"
             ],
             [
              0.2222222222222222,
              "#7201a8"
             ],
             [
              0.3333333333333333,
              "#9c179e"
             ],
             [
              0.4444444444444444,
              "#bd3786"
             ],
             [
              0.5555555555555556,
              "#d8576b"
             ],
             [
              0.6666666666666666,
              "#ed7953"
             ],
             [
              0.7777777777777778,
              "#fb9f3a"
             ],
             [
              0.8888888888888888,
              "#fdca26"
             ],
             [
              1,
              "#f0f921"
             ]
            ],
            "type": "histogram2dcontour"
           }
          ],
          "mesh3d": [
           {
            "colorbar": {
             "outlinewidth": 0,
             "ticks": ""
            },
            "type": "mesh3d"
           }
          ],
          "parcoords": [
           {
            "line": {
             "colorbar": {
              "outlinewidth": 0,
              "ticks": ""
             }
            },
            "type": "parcoords"
           }
          ],
          "pie": [
           {
            "automargin": true,
            "type": "pie"
           }
          ],
          "scatter": [
           {
            "fillpattern": {
             "fillmode": "overlay",
             "size": 10,
             "solidity": 0.2
            },
            "type": "scatter"
           }
          ],
          "scatter3d": [
           {
            "line": {
             "colorbar": {
              "outlinewidth": 0,
              "ticks": ""
             }
            },
            "marker": {
             "colorbar": {
              "outlinewidth": 0,
              "ticks": ""
             }
            },
            "type": "scatter3d"
           }
          ],
          "scattercarpet": [
           {
            "marker": {
             "colorbar": {
              "outlinewidth": 0,
              "ticks": ""
             }
            },
            "type": "scattercarpet"
           }
          ],
          "scattergeo": [
           {
            "marker": {
             "colorbar": {
              "outlinewidth": 0,
              "ticks": ""
             }
            },
            "type": "scattergeo"
           }
          ],
          "scattergl": [
           {
            "marker": {
             "colorbar": {
              "outlinewidth": 0,
              "ticks": ""
             }
            },
            "type": "scattergl"
           }
          ],
          "scattermapbox": [
           {
            "marker": {
             "colorbar": {
              "outlinewidth": 0,
              "ticks": ""
             }
            },
            "type": "scattermapbox"
           }
          ],
          "scatterpolar": [
           {
            "marker": {
             "colorbar": {
              "outlinewidth": 0,
              "ticks": ""
             }
            },
            "type": "scatterpolar"
           }
          ],
          "scatterpolargl": [
           {
            "marker": {
             "colorbar": {
              "outlinewidth": 0,
              "ticks": ""
             }
            },
            "type": "scatterpolargl"
           }
          ],
          "scatterternary": [
           {
            "marker": {
             "colorbar": {
              "outlinewidth": 0,
              "ticks": ""
             }
            },
            "type": "scatterternary"
           }
          ],
          "surface": [
           {
            "colorbar": {
             "outlinewidth": 0,
             "ticks": ""
            },
            "colorscale": [
             [
              0,
              "#0d0887"
             ],
             [
              0.1111111111111111,
              "#46039f"
             ],
             [
              0.2222222222222222,
              "#7201a8"
             ],
             [
              0.3333333333333333,
              "#9c179e"
             ],
             [
              0.4444444444444444,
              "#bd3786"
             ],
             [
              0.5555555555555556,
              "#d8576b"
             ],
             [
              0.6666666666666666,
              "#ed7953"
             ],
             [
              0.7777777777777778,
              "#fb9f3a"
             ],
             [
              0.8888888888888888,
              "#fdca26"
             ],
             [
              1,
              "#f0f921"
             ]
            ],
            "type": "surface"
           }
          ],
          "table": [
           {
            "cells": {
             "fill": {
              "color": "#EBF0F8"
             },
             "line": {
              "color": "white"
             }
            },
            "header": {
             "fill": {
              "color": "#C8D4E3"
             },
             "line": {
              "color": "white"
             }
            },
            "type": "table"
           }
          ]
         },
         "layout": {
          "annotationdefaults": {
           "arrowcolor": "#2a3f5f",
           "arrowhead": 0,
           "arrowwidth": 1
          },
          "autotypenumbers": "strict",
          "coloraxis": {
           "colorbar": {
            "outlinewidth": 0,
            "ticks": ""
           }
          },
          "colorscale": {
           "diverging": [
            [
             0,
             "#8e0152"
            ],
            [
             0.1,
             "#c51b7d"
            ],
            [
             0.2,
             "#de77ae"
            ],
            [
             0.3,
             "#f1b6da"
            ],
            [
             0.4,
             "#fde0ef"
            ],
            [
             0.5,
             "#f7f7f7"
            ],
            [
             0.6,
             "#e6f5d0"
            ],
            [
             0.7,
             "#b8e186"
            ],
            [
             0.8,
             "#7fbc41"
            ],
            [
             0.9,
             "#4d9221"
            ],
            [
             1,
             "#276419"
            ]
           ],
           "sequential": [
            [
             0,
             "#0d0887"
            ],
            [
             0.1111111111111111,
             "#46039f"
            ],
            [
             0.2222222222222222,
             "#7201a8"
            ],
            [
             0.3333333333333333,
             "#9c179e"
            ],
            [
             0.4444444444444444,
             "#bd3786"
            ],
            [
             0.5555555555555556,
             "#d8576b"
            ],
            [
             0.6666666666666666,
             "#ed7953"
            ],
            [
             0.7777777777777778,
             "#fb9f3a"
            ],
            [
             0.8888888888888888,
             "#fdca26"
            ],
            [
             1,
             "#f0f921"
            ]
           ],
           "sequentialminus": [
            [
             0,
             "#0d0887"
            ],
            [
             0.1111111111111111,
             "#46039f"
            ],
            [
             0.2222222222222222,
             "#7201a8"
            ],
            [
             0.3333333333333333,
             "#9c179e"
            ],
            [
             0.4444444444444444,
             "#bd3786"
            ],
            [
             0.5555555555555556,
             "#d8576b"
            ],
            [
             0.6666666666666666,
             "#ed7953"
            ],
            [
             0.7777777777777778,
             "#fb9f3a"
            ],
            [
             0.8888888888888888,
             "#fdca26"
            ],
            [
             1,
             "#f0f921"
            ]
           ]
          },
          "colorway": [
           "#636efa",
           "#EF553B",
           "#00cc96",
           "#ab63fa",
           "#FFA15A",
           "#19d3f3",
           "#FF6692",
           "#B6E880",
           "#FF97FF",
           "#FECB52"
          ],
          "font": {
           "color": "#2a3f5f"
          },
          "geo": {
           "bgcolor": "white",
           "lakecolor": "white",
           "landcolor": "#E5ECF6",
           "showlakes": true,
           "showland": true,
           "subunitcolor": "white"
          },
          "hoverlabel": {
           "align": "left"
          },
          "hovermode": "closest",
          "mapbox": {
           "style": "light"
          },
          "paper_bgcolor": "white",
          "plot_bgcolor": "#E5ECF6",
          "polar": {
           "angularaxis": {
            "gridcolor": "white",
            "linecolor": "white",
            "ticks": ""
           },
           "bgcolor": "#E5ECF6",
           "radialaxis": {
            "gridcolor": "white",
            "linecolor": "white",
            "ticks": ""
           }
          },
          "scene": {
           "xaxis": {
            "backgroundcolor": "#E5ECF6",
            "gridcolor": "white",
            "gridwidth": 2,
            "linecolor": "white",
            "showbackground": true,
            "ticks": "",
            "zerolinecolor": "white"
           },
           "yaxis": {
            "backgroundcolor": "#E5ECF6",
            "gridcolor": "white",
            "gridwidth": 2,
            "linecolor": "white",
            "showbackground": true,
            "ticks": "",
            "zerolinecolor": "white"
           },
           "zaxis": {
            "backgroundcolor": "#E5ECF6",
            "gridcolor": "white",
            "gridwidth": 2,
            "linecolor": "white",
            "showbackground": true,
            "ticks": "",
            "zerolinecolor": "white"
           }
          },
          "shapedefaults": {
           "line": {
            "color": "#2a3f5f"
           }
          },
          "ternary": {
           "aaxis": {
            "gridcolor": "white",
            "linecolor": "white",
            "ticks": ""
           },
           "baxis": {
            "gridcolor": "white",
            "linecolor": "white",
            "ticks": ""
           },
           "bgcolor": "#E5ECF6",
           "caxis": {
            "gridcolor": "white",
            "linecolor": "white",
            "ticks": ""
           }
          },
          "title": {
           "x": 0.05
          },
          "xaxis": {
           "automargin": true,
           "gridcolor": "white",
           "linecolor": "white",
           "ticks": "",
           "title": {
            "standoff": 15
           },
           "zerolinecolor": "white",
           "zerolinewidth": 2
          },
          "yaxis": {
           "automargin": true,
           "gridcolor": "white",
           "linecolor": "white",
           "ticks": "",
           "title": {
            "standoff": 15
           },
           "zerolinecolor": "white",
           "zerolinewidth": 2
          }
         }
        },
        "title": {
         "text": "Rutas más concurridas"
        },
        "width": 1000
       }
      },
      "text/html": [
       "<div>                            <div id=\"c8bbafc3-a117-4201-aaef-4ff989b59d41\" class=\"plotly-graph-div\" style=\"height:1000px; width:1000px;\"></div>            <script type=\"text/javascript\">                require([\"plotly\"], function(Plotly) {                    window.PLOTLYENV=window.PLOTLYENV || {};                                    if (document.getElementById(\"c8bbafc3-a117-4201-aaef-4ff989b59d41\")) {                    Plotly.newPlot(                        \"c8bbafc3-a117-4201-aaef-4ff989b59d41\",                        [{\"hovertemplate\":\"Distrito=01 \\u00a0CENTRO<br>count=%{marker.size}<br>Latitud=%{lat}<br>Longitud=%{lon}<extra></extra>\",\"lat\":[40.4112961,40.4069486,40.418484,40.4100889,40.4171107,40.4145181,40.4132831,40.4238308],\"legendgroup\":\"01 \\u00a0CENTRO\",\"lon\":[-3.7114443,-3.7111381,-3.7032875,-3.7025446,-3.701998,-3.7007838,-3.6955803,-3.6945421],\"marker\":{\"color\":\"#636efa\",\"size\":[1,1,1,1,1,1,1,1],\"sizemode\":\"area\",\"sizeref\":0.025},\"mode\":\"markers\",\"name\":\"01 \\u00a0CENTRO\",\"showlegend\":true,\"subplot\":\"mapbox\",\"type\":\"scattermapbox\"},{\"hovertemplate\":\"Distrito=07 \\u00a0CHAMBER\\u00cd<br>count=%{marker.size}<br>Latitud=%{lat}<br>Longitud=%{lon}<extra></extra>\",\"lat\":[40.4463889,40.4414845],\"legendgroup\":\"07 \\u00a0CHAMBER\\u00cd\",\"lon\":[-3.7035911,-3.6928901],\"marker\":{\"color\":\"#EF553B\",\"size\":[1,1],\"sizemode\":\"area\",\"sizeref\":0.025},\"mode\":\"markers\",\"name\":\"07 \\u00a0CHAMBER\\u00cd\",\"showlegend\":true,\"subplot\":\"mapbox\",\"type\":\"scattermapbox\"},{\"hovertemplate\":\"Distrito=02 \\u00a0ARGANZUELA<br>count=%{marker.size}<br>Latitud=%{lat}<br>Longitud=%{lon}<extra></extra>\",\"lat\":[40.3962687],\"legendgroup\":\"02 \\u00a0ARGANZUELA\",\"lon\":[-3.6983033],\"marker\":{\"color\":\"#00cc96\",\"size\":[10],\"sizemode\":\"area\",\"sizeref\":0.025},\"mode\":\"markers\",\"name\":\"02 \\u00a0ARGANZUELA\",\"showlegend\":true,\"subplot\":\"mapbox\",\"type\":\"scattermapbox\"},{\"lat\":[40.4463889,40.3962687],\"line\":{\"width\":3.845},\"lon\":[-3.7035911,-3.6983033],\"mode\":\"markers+lines\",\"name\":\"Ruta 1\",\"type\":\"scattermapbox\"},{\"lat\":[40.4132831,40.3962687],\"line\":{\"width\":3.3850000000000002},\"lon\":[-3.6955803,-3.6983033],\"mode\":\"markers+lines\",\"name\":\"Ruta 2\",\"type\":\"scattermapbox\"},{\"lat\":[40.4414845,40.3962687],\"line\":{\"width\":3.305},\"lon\":[-3.6928901,-3.6983033],\"mode\":\"markers+lines\",\"name\":\"Ruta 3\",\"type\":\"scattermapbox\"},{\"lat\":[40.4100889,40.3962687],\"line\":{\"width\":3.1550000000000002},\"lon\":[-3.7025446,-3.6983033],\"mode\":\"markers+lines\",\"name\":\"Ruta 4\",\"type\":\"scattermapbox\"},{\"lat\":[40.4112961,40.3962687],\"line\":{\"width\":3.025},\"lon\":[-3.7114443,-3.6983033],\"mode\":\"markers+lines\",\"name\":\"Ruta 5\",\"type\":\"scattermapbox\"},{\"lat\":[40.4171107,40.3962687],\"line\":{\"width\":2.77},\"lon\":[-3.701998,-3.6983033],\"mode\":\"markers+lines\",\"name\":\"Ruta 6\",\"type\":\"scattermapbox\"},{\"lat\":[40.4238308,40.3962687],\"line\":{\"width\":2.48},\"lon\":[-3.6945421,-3.6983033],\"mode\":\"markers+lines\",\"name\":\"Ruta 7\",\"type\":\"scattermapbox\"},{\"lat\":[40.4145181,40.3962687],\"line\":{\"width\":1.92},\"lon\":[-3.7007838,-3.6983033],\"mode\":\"markers+lines\",\"name\":\"Ruta 8\",\"type\":\"scattermapbox\"},{\"lat\":[40.418484,40.3962687],\"line\":{\"width\":1.905},\"lon\":[-3.7032875,-3.6983033],\"mode\":\"markers+lines\",\"name\":\"Ruta 9\",\"type\":\"scattermapbox\"},{\"lat\":[40.4069486,40.3962687],\"line\":{\"width\":1.875},\"lon\":[-3.7111381,-3.6983033],\"mode\":\"markers+lines\",\"name\":\"Ruta 10\",\"type\":\"scattermapbox\"}],                        {\"template\":{\"data\":{\"histogram2dcontour\":[{\"type\":\"histogram2dcontour\",\"colorbar\":{\"outlinewidth\":0,\"ticks\":\"\"},\"colorscale\":[[0.0,\"#0d0887\"],[0.1111111111111111,\"#46039f\"],[0.2222222222222222,\"#7201a8\"],[0.3333333333333333,\"#9c179e\"],[0.4444444444444444,\"#bd3786\"],[0.5555555555555556,\"#d8576b\"],[0.6666666666666666,\"#ed7953\"],[0.7777777777777778,\"#fb9f3a\"],[0.8888888888888888,\"#fdca26\"],[1.0,\"#f0f921\"]]}],\"choropleth\":[{\"type\":\"choropleth\",\"colorbar\":{\"outlinewidth\":0,\"ticks\":\"\"}}],\"histogram2d\":[{\"type\":\"histogram2d\",\"colorbar\":{\"outlinewidth\":0,\"ticks\":\"\"},\"colorscale\":[[0.0,\"#0d0887\"],[0.1111111111111111,\"#46039f\"],[0.2222222222222222,\"#7201a8\"],[0.3333333333333333,\"#9c179e\"],[0.4444444444444444,\"#bd3786\"],[0.5555555555555556,\"#d8576b\"],[0.6666666666666666,\"#ed7953\"],[0.7777777777777778,\"#fb9f3a\"],[0.8888888888888888,\"#fdca26\"],[1.0,\"#f0f921\"]]}],\"heatmap\":[{\"type\":\"heatmap\",\"colorbar\":{\"outlinewidth\":0,\"ticks\":\"\"},\"colorscale\":[[0.0,\"#0d0887\"],[0.1111111111111111,\"#46039f\"],[0.2222222222222222,\"#7201a8\"],[0.3333333333333333,\"#9c179e\"],[0.4444444444444444,\"#bd3786\"],[0.5555555555555556,\"#d8576b\"],[0.6666666666666666,\"#ed7953\"],[0.7777777777777778,\"#fb9f3a\"],[0.8888888888888888,\"#fdca26\"],[1.0,\"#f0f921\"]]}],\"heatmapgl\":[{\"type\":\"heatmapgl\",\"colorbar\":{\"outlinewidth\":0,\"ticks\":\"\"},\"colorscale\":[[0.0,\"#0d0887\"],[0.1111111111111111,\"#46039f\"],[0.2222222222222222,\"#7201a8\"],[0.3333333333333333,\"#9c179e\"],[0.4444444444444444,\"#bd3786\"],[0.5555555555555556,\"#d8576b\"],[0.6666666666666666,\"#ed7953\"],[0.7777777777777778,\"#fb9f3a\"],[0.8888888888888888,\"#fdca26\"],[1.0,\"#f0f921\"]]}],\"contourcarpet\":[{\"type\":\"contourcarpet\",\"colorbar\":{\"outlinewidth\":0,\"ticks\":\"\"}}],\"contour\":[{\"type\":\"contour\",\"colorbar\":{\"outlinewidth\":0,\"ticks\":\"\"},\"colorscale\":[[0.0,\"#0d0887\"],[0.1111111111111111,\"#46039f\"],[0.2222222222222222,\"#7201a8\"],[0.3333333333333333,\"#9c179e\"],[0.4444444444444444,\"#bd3786\"],[0.5555555555555556,\"#d8576b\"],[0.6666666666666666,\"#ed7953\"],[0.7777777777777778,\"#fb9f3a\"],[0.8888888888888888,\"#fdca26\"],[1.0,\"#f0f921\"]]}],\"surface\":[{\"type\":\"surface\",\"colorbar\":{\"outlinewidth\":0,\"ticks\":\"\"},\"colorscale\":[[0.0,\"#0d0887\"],[0.1111111111111111,\"#46039f\"],[0.2222222222222222,\"#7201a8\"],[0.3333333333333333,\"#9c179e\"],[0.4444444444444444,\"#bd3786\"],[0.5555555555555556,\"#d8576b\"],[0.6666666666666666,\"#ed7953\"],[0.7777777777777778,\"#fb9f3a\"],[0.8888888888888888,\"#fdca26\"],[1.0,\"#f0f921\"]]}],\"mesh3d\":[{\"type\":\"mesh3d\",\"colorbar\":{\"outlinewidth\":0,\"ticks\":\"\"}}],\"scatter\":[{\"fillpattern\":{\"fillmode\":\"overlay\",\"size\":10,\"solidity\":0.2},\"type\":\"scatter\"}],\"parcoords\":[{\"type\":\"parcoords\",\"line\":{\"colorbar\":{\"outlinewidth\":0,\"ticks\":\"\"}}}],\"scatterpolargl\":[{\"type\":\"scatterpolargl\",\"marker\":{\"colorbar\":{\"outlinewidth\":0,\"ticks\":\"\"}}}],\"bar\":[{\"error_x\":{\"color\":\"#2a3f5f\"},\"error_y\":{\"color\":\"#2a3f5f\"},\"marker\":{\"line\":{\"color\":\"#E5ECF6\",\"width\":0.5},\"pattern\":{\"fillmode\":\"overlay\",\"size\":10,\"solidity\":0.2}},\"type\":\"bar\"}],\"scattergeo\":[{\"type\":\"scattergeo\",\"marker\":{\"colorbar\":{\"outlinewidth\":0,\"ticks\":\"\"}}}],\"scatterpolar\":[{\"type\":\"scatterpolar\",\"marker\":{\"colorbar\":{\"outlinewidth\":0,\"ticks\":\"\"}}}],\"histogram\":[{\"marker\":{\"pattern\":{\"fillmode\":\"overlay\",\"size\":10,\"solidity\":0.2}},\"type\":\"histogram\"}],\"scattergl\":[{\"type\":\"scattergl\",\"marker\":{\"colorbar\":{\"outlinewidth\":0,\"ticks\":\"\"}}}],\"scatter3d\":[{\"type\":\"scatter3d\",\"line\":{\"colorbar\":{\"outlinewidth\":0,\"ticks\":\"\"}},\"marker\":{\"colorbar\":{\"outlinewidth\":0,\"ticks\":\"\"}}}],\"scattermapbox\":[{\"type\":\"scattermapbox\",\"marker\":{\"colorbar\":{\"outlinewidth\":0,\"ticks\":\"\"}}}],\"scatterternary\":[{\"type\":\"scatterternary\",\"marker\":{\"colorbar\":{\"outlinewidth\":0,\"ticks\":\"\"}}}],\"scattercarpet\":[{\"type\":\"scattercarpet\",\"marker\":{\"colorbar\":{\"outlinewidth\":0,\"ticks\":\"\"}}}],\"carpet\":[{\"aaxis\":{\"endlinecolor\":\"#2a3f5f\",\"gridcolor\":\"white\",\"linecolor\":\"white\",\"minorgridcolor\":\"white\",\"startlinecolor\":\"#2a3f5f\"},\"baxis\":{\"endlinecolor\":\"#2a3f5f\",\"gridcolor\":\"white\",\"linecolor\":\"white\",\"minorgridcolor\":\"white\",\"startlinecolor\":\"#2a3f5f\"},\"type\":\"carpet\"}],\"table\":[{\"cells\":{\"fill\":{\"color\":\"#EBF0F8\"},\"line\":{\"color\":\"white\"}},\"header\":{\"fill\":{\"color\":\"#C8D4E3\"},\"line\":{\"color\":\"white\"}},\"type\":\"table\"}],\"barpolar\":[{\"marker\":{\"line\":{\"color\":\"#E5ECF6\",\"width\":0.5},\"pattern\":{\"fillmode\":\"overlay\",\"size\":10,\"solidity\":0.2}},\"type\":\"barpolar\"}],\"pie\":[{\"automargin\":true,\"type\":\"pie\"}]},\"layout\":{\"autotypenumbers\":\"strict\",\"colorway\":[\"#636efa\",\"#EF553B\",\"#00cc96\",\"#ab63fa\",\"#FFA15A\",\"#19d3f3\",\"#FF6692\",\"#B6E880\",\"#FF97FF\",\"#FECB52\"],\"font\":{\"color\":\"#2a3f5f\"},\"hovermode\":\"closest\",\"hoverlabel\":{\"align\":\"left\"},\"paper_bgcolor\":\"white\",\"plot_bgcolor\":\"#E5ECF6\",\"polar\":{\"bgcolor\":\"#E5ECF6\",\"angularaxis\":{\"gridcolor\":\"white\",\"linecolor\":\"white\",\"ticks\":\"\"},\"radialaxis\":{\"gridcolor\":\"white\",\"linecolor\":\"white\",\"ticks\":\"\"}},\"ternary\":{\"bgcolor\":\"#E5ECF6\",\"aaxis\":{\"gridcolor\":\"white\",\"linecolor\":\"white\",\"ticks\":\"\"},\"baxis\":{\"gridcolor\":\"white\",\"linecolor\":\"white\",\"ticks\":\"\"},\"caxis\":{\"gridcolor\":\"white\",\"linecolor\":\"white\",\"ticks\":\"\"}},\"coloraxis\":{\"colorbar\":{\"outlinewidth\":0,\"ticks\":\"\"}},\"colorscale\":{\"sequential\":[[0.0,\"#0d0887\"],[0.1111111111111111,\"#46039f\"],[0.2222222222222222,\"#7201a8\"],[0.3333333333333333,\"#9c179e\"],[0.4444444444444444,\"#bd3786\"],[0.5555555555555556,\"#d8576b\"],[0.6666666666666666,\"#ed7953\"],[0.7777777777777778,\"#fb9f3a\"],[0.8888888888888888,\"#fdca26\"],[1.0,\"#f0f921\"]],\"sequentialminus\":[[0.0,\"#0d0887\"],[0.1111111111111111,\"#46039f\"],[0.2222222222222222,\"#7201a8\"],[0.3333333333333333,\"#9c179e\"],[0.4444444444444444,\"#bd3786\"],[0.5555555555555556,\"#d8576b\"],[0.6666666666666666,\"#ed7953\"],[0.7777777777777778,\"#fb9f3a\"],[0.8888888888888888,\"#fdca26\"],[1.0,\"#f0f921\"]],\"diverging\":[[0,\"#8e0152\"],[0.1,\"#c51b7d\"],[0.2,\"#de77ae\"],[0.3,\"#f1b6da\"],[0.4,\"#fde0ef\"],[0.5,\"#f7f7f7\"],[0.6,\"#e6f5d0\"],[0.7,\"#b8e186\"],[0.8,\"#7fbc41\"],[0.9,\"#4d9221\"],[1,\"#276419\"]]},\"xaxis\":{\"gridcolor\":\"white\",\"linecolor\":\"white\",\"ticks\":\"\",\"title\":{\"standoff\":15},\"zerolinecolor\":\"white\",\"automargin\":true,\"zerolinewidth\":2},\"yaxis\":{\"gridcolor\":\"white\",\"linecolor\":\"white\",\"ticks\":\"\",\"title\":{\"standoff\":15},\"zerolinecolor\":\"white\",\"automargin\":true,\"zerolinewidth\":2},\"scene\":{\"xaxis\":{\"backgroundcolor\":\"#E5ECF6\",\"gridcolor\":\"white\",\"linecolor\":\"white\",\"showbackground\":true,\"ticks\":\"\",\"zerolinecolor\":\"white\",\"gridwidth\":2},\"yaxis\":{\"backgroundcolor\":\"#E5ECF6\",\"gridcolor\":\"white\",\"linecolor\":\"white\",\"showbackground\":true,\"ticks\":\"\",\"zerolinecolor\":\"white\",\"gridwidth\":2},\"zaxis\":{\"backgroundcolor\":\"#E5ECF6\",\"gridcolor\":\"white\",\"linecolor\":\"white\",\"showbackground\":true,\"ticks\":\"\",\"zerolinecolor\":\"white\",\"gridwidth\":2}},\"shapedefaults\":{\"line\":{\"color\":\"#2a3f5f\"}},\"annotationdefaults\":{\"arrowcolor\":\"#2a3f5f\",\"arrowhead\":0,\"arrowwidth\":1},\"geo\":{\"bgcolor\":\"white\",\"landcolor\":\"#E5ECF6\",\"subunitcolor\":\"white\",\"showland\":true,\"showlakes\":true,\"lakecolor\":\"white\"},\"title\":{\"x\":0.05},\"mapbox\":{\"style\":\"light\"}}},\"mapbox\":{\"domain\":{\"x\":[0.0,1.0],\"y\":[0.0,1.0]},\"center\":{\"lat\":40.435,\"lon\":-3.69},\"zoom\":12.5,\"bearing\":0,\"style\":\"carto-positron\"},\"legend\":{\"title\":{\"text\":\"Distrito\"},\"tracegroupgap\":0,\"itemsizing\":\"constant\"},\"margin\":{\"t\":60},\"height\":1000,\"width\":1000,\"title\":{\"text\":\"Rutas m\\u00e1s concurridas\"},\"autosize\":true,\"hovermode\":\"closest\",\"showlegend\":true},                        {\"responsive\": true}                    ).then(function(){\n",
       "                            \n",
       "var gd = document.getElementById('c8bbafc3-a117-4201-aaef-4ff989b59d41');\n",
       "var x = new MutationObserver(function (mutations, observer) {{\n",
       "        var display = window.getComputedStyle(gd).display;\n",
       "        if (!display || display === 'none') {{\n",
       "            console.log([gd, 'removed!']);\n",
       "            Plotly.purge(gd);\n",
       "            observer.disconnect();\n",
       "        }}\n",
       "}});\n",
       "\n",
       "// Listen for the removal of the full notebook cells\n",
       "var notebookContainer = gd.closest('#notebook-container');\n",
       "if (notebookContainer) {{\n",
       "    x.observe(notebookContainer, {childList: true});\n",
       "}}\n",
       "\n",
       "// Listen for the clearing of the current output cell\n",
       "var outputEl = gd.closest('.output');\n",
       "if (outputEl) {{\n",
       "    x.observe(outputEl, {childList: true});\n",
       "}}\n",
       "\n",
       "                        })                };                });            </script>        </div>"
      ]
     },
     "metadata": {},
     "output_type": "display_data"
    }
   ],
   "source": [
    "fig = px.scatter_mapbox(top175estaciones, lat=\"Latitud\", lon=\"Longitud\", size='count',color='Distrito', width = 1000, height = 900, zoom = 50)\n",
    "# fig.add_trace(go.Scattermapbox(\n",
    "#         lat = top10estaciones[\"Latitud\"],\n",
    "#         lon=top10estaciones[\"Longitud\"],\n",
    "#         mode='markers',\n",
    "#         showlegend=False,\n",
    "#         marker=go.scattermapbox.Marker(\n",
    "#             size=top10estaciones[\"count\"],\n",
    "#             color='blue', \n",
    "#             opacity=0.7,\n",
    "#             #size=50,\n",
    "#              )\n",
    "#     ))\n",
    "for i in range(rutas_175_top.shape[0]): \n",
    "    valores=rutas_175_top.iloc[i,:]\n",
    "\n",
    "    fig.add_trace(\n",
    "        go.Scattermapbox(\n",
    "        mode = \"markers+lines\",\n",
    "        lon = [valores['Longitud_Salida'], valores['Longitud_Llegada']],\n",
    "        lat = [valores['Latitud_Salida'], valores['Latitud_Llegada']],\n",
    "        line= {'width':valores['viajes']*0.005} ,\n",
    "        name= 'Ruta '+str(1+i)\n",
    "\n",
    "        ))\n",
    "hover_header = 'Estacion: %{text} '\n",
    "\n",
    "fig.update_layout(\n",
    "    title='Rutas más concurridas',\n",
    "    autosize=True,\n",
    "    hovermode='closest',\n",
    "    showlegend=True,\n",
    "    width = 1000,\n",
    "    height = 1000,\n",
    "    mapbox=dict(\n",
    "        bearing=0,\n",
    "        center=dict(\n",
    "            lat=40.435,\n",
    "            lon=-3.69\n",
    "        ),\n",
    "        zoom=12.5,\n",
    "        style= 'carto-positron' # 'open-street-map'\n",
    "        \n",
    "    )\n",
    ")\n",
    "fig.show()"
   ]
  },
  {
   "cell_type": "code",
   "execution_count": 3,
   "metadata": {},
   "outputs": [],
   "source": [
    "itinerarios_bases['idplug_station']=itinerarios_bases['idplug_station'].astype('str')\n",
    "itinerarios_bases['idunplug_station']=itinerarios_bases['idunplug_station'].astype('str')\n",
    "\n",
    "itinerarios_bases['Origen_destino']=itinerarios_bases.apply(lambda x: x.idunplug_station+'-'+x.idplug_station, axis=1)"
   ]
  }
 ],
 "metadata": {
  "kernelspec": {
   "display_name": "Python 3",
   "language": "python",
   "name": "python3"
  },
  "language_info": {
   "codemirror_mode": {
    "name": "ipython",
    "version": 3
   },
   "file_extension": ".py",
   "mimetype": "text/x-python",
   "name": "python",
   "nbconvert_exporter": "python",
   "pygments_lexer": "ipython3",
   "version": "3.8.5"
  }
 },
 "nbformat": 4,
 "nbformat_minor": 4
}
