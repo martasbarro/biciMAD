{
 "cells": [
  {
   "cell_type": "markdown",
   "id": "ff1102e6",
   "metadata": {},
   "source": [
    "### Import libraries"
   ]
  },
  {
   "cell_type": "code",
   "execution_count": 26,
   "id": "a797459f",
   "metadata": {},
   "outputs": [],
   "source": [
    "import pandas as pd\n",
    "import plotly.express as px"
   ]
  },
  {
   "cell_type": "markdown",
   "id": "c876a44a",
   "metadata": {},
   "source": [
    "### Read Data"
   ]
  },
  {
   "cell_type": "code",
   "execution_count": 110,
   "id": "61d2b06e",
   "metadata": {},
   "outputs": [
    {
     "data": {
      "text/plain": [
       "idplug_base                   int64\n",
       "user_type                     int64\n",
       "idunplug_base                 int64\n",
       "travel_time                   int64\n",
       "idunplug_station              int64\n",
       "ageRange                      int64\n",
       "idplug_station                int64\n",
       "unplug_hourTime              object\n",
       "zip_code                     object\n",
       "return_date                  object\n",
       "status                       object\n",
       "Origen_destino               object\n",
       "Número_Salida                 int64\n",
       "Distrito_Salida              object\n",
       "Barrio_Salida                object\n",
       "Número de Plazas_Salida     float64\n",
       "Latitud_Salida              float64\n",
       "Longitud_Salida             float64\n",
       "Número_Llegada                int64\n",
       "Distrito_Llegada             object\n",
       "Barrio_Llegada               object\n",
       "Número de Plazas_Llegada    float64\n",
       "Latitud_Llegada             float64\n",
       "Longitud_Llegada            float64\n",
       "dtype: object"
      ]
     },
     "execution_count": 110,
     "metadata": {},
     "output_type": "execute_result"
    }
   ],
   "source": [
    "itinerarios_bases = pd.read_csv('../Data/Itinerarios/itinerarios_bases.csv',index_col=0, dtype={'zip_code': 'str'})\n",
    "itinerarios_bases.dtypes"
   ]
  },
  {
   "cell_type": "markdown",
   "id": "31a2973a",
   "metadata": {},
   "source": [
    "### Reshape data"
   ]
  },
  {
   "cell_type": "code",
   "execution_count": 112,
   "id": "3090b3df",
   "metadata": {},
   "outputs": [
    {
     "data": {
      "text/html": [
       "<div>\n",
       "<style scoped>\n",
       "    .dataframe tbody tr th:only-of-type {\n",
       "        vertical-align: middle;\n",
       "    }\n",
       "\n",
       "    .dataframe tbody tr th {\n",
       "        vertical-align: top;\n",
       "    }\n",
       "\n",
       "    .dataframe thead th {\n",
       "        text-align: right;\n",
       "    }\n",
       "</style>\n",
       "<table border=\"1\" class=\"dataframe\">\n",
       "  <thead>\n",
       "    <tr style=\"text-align: right;\">\n",
       "      <th></th>\n",
       "      <th>Origen_destino</th>\n",
       "      <th>idunplug_station</th>\n",
       "      <th>Distrito_Llegada</th>\n",
       "      <th>idplug_station</th>\n",
       "      <th>count</th>\n",
       "    </tr>\n",
       "  </thead>\n",
       "  <tbody>\n",
       "    <tr>\n",
       "      <th>0</th>\n",
       "      <td>1-1</td>\n",
       "      <td>1</td>\n",
       "      <td>01  CENTRO</td>\n",
       "      <td>1</td>\n",
       "      <td>270</td>\n",
       "    </tr>\n",
       "    <tr>\n",
       "      <th>1</th>\n",
       "      <td>1-10</td>\n",
       "      <td>1</td>\n",
       "      <td>01  CENTRO</td>\n",
       "      <td>10</td>\n",
       "      <td>145</td>\n",
       "    </tr>\n",
       "    <tr>\n",
       "      <th>2</th>\n",
       "      <td>1-100</td>\n",
       "      <td>1</td>\n",
       "      <td>04  SALAMANCA</td>\n",
       "      <td>100</td>\n",
       "      <td>9</td>\n",
       "    </tr>\n",
       "    <tr>\n",
       "      <th>3</th>\n",
       "      <td>1-101</td>\n",
       "      <td>1</td>\n",
       "      <td>04  SALAMANCA</td>\n",
       "      <td>101</td>\n",
       "      <td>28</td>\n",
       "    </tr>\n",
       "    <tr>\n",
       "      <th>4</th>\n",
       "      <td>1-102</td>\n",
       "      <td>1</td>\n",
       "      <td>04  SALAMANCA</td>\n",
       "      <td>102</td>\n",
       "      <td>42</td>\n",
       "    </tr>\n",
       "    <tr>\n",
       "      <th>5</th>\n",
       "      <td>1-103</td>\n",
       "      <td>1</td>\n",
       "      <td>04  SALAMANCA</td>\n",
       "      <td>103</td>\n",
       "      <td>76</td>\n",
       "    </tr>\n",
       "    <tr>\n",
       "      <th>6</th>\n",
       "      <td>1-104</td>\n",
       "      <td>1</td>\n",
       "      <td>04  SALAMANCA</td>\n",
       "      <td>104</td>\n",
       "      <td>29</td>\n",
       "    </tr>\n",
       "    <tr>\n",
       "      <th>7</th>\n",
       "      <td>1-105</td>\n",
       "      <td>1</td>\n",
       "      <td>04  SALAMANCA</td>\n",
       "      <td>105</td>\n",
       "      <td>30</td>\n",
       "    </tr>\n",
       "    <tr>\n",
       "      <th>8</th>\n",
       "      <td>1-106</td>\n",
       "      <td>1</td>\n",
       "      <td>04  SALAMANCA</td>\n",
       "      <td>106</td>\n",
       "      <td>55</td>\n",
       "    </tr>\n",
       "    <tr>\n",
       "      <th>9</th>\n",
       "      <td>1-107</td>\n",
       "      <td>1</td>\n",
       "      <td>04  SALAMANCA</td>\n",
       "      <td>107</td>\n",
       "      <td>35</td>\n",
       "    </tr>\n",
       "  </tbody>\n",
       "</table>\n",
       "</div>"
      ],
      "text/plain": [
       "  Origen_destino  idunplug_station Distrito_Llegada  idplug_station  count\n",
       "0            1-1                 1       01  CENTRO               1    270\n",
       "1           1-10                 1       01  CENTRO              10    145\n",
       "2          1-100                 1    04  SALAMANCA             100      9\n",
       "3          1-101                 1    04  SALAMANCA             101     28\n",
       "4          1-102                 1    04  SALAMANCA             102     42\n",
       "5          1-103                 1    04  SALAMANCA             103     76\n",
       "6          1-104                 1    04  SALAMANCA             104     29\n",
       "7          1-105                 1    04  SALAMANCA             105     30\n",
       "8          1-106                 1    04  SALAMANCA             106     55\n",
       "9          1-107                 1    04  SALAMANCA             107     35"
      ]
     },
     "execution_count": 112,
     "metadata": {},
     "output_type": "execute_result"
    }
   ],
   "source": [
    "#df_combinations = itinerarios_bases.groupby([\"Origen_destino\",\"idunplug_station\", \"Distrito_Llegada\", \"idplug_station\"])\\\n",
    "#    .size().reset_index().rename(columns={0:\"count\"})\n",
    "#df_combinations.head(10)"
   ]
  },
  {
   "cell_type": "markdown",
   "id": "cdc6978b",
   "metadata": {},
   "source": [
    "Filter the top N stations with more unplug registrations."
   ]
  },
  {
   "cell_type": "code",
   "execution_count": 124,
   "id": "93954ec9",
   "metadata": {},
   "outputs": [
    {
     "name": "stdout",
     "output_type": "stream",
     "text": [
      "¿Cuántas estaciones de origen quieres mostrar?: 5\n",
      "5\n"
     ]
    }
   ],
   "source": [
    "N = int(input(\"¿Cuántas estaciones de origen quieres mostrar?: \"))\n",
    "print(N)"
   ]
  },
  {
   "cell_type": "code",
   "execution_count": 125,
   "id": "5714fae0",
   "metadata": {},
   "outputs": [
    {
     "data": {
      "text/html": [
       "<div>\n",
       "<style scoped>\n",
       "    .dataframe tbody tr th:only-of-type {\n",
       "        vertical-align: middle;\n",
       "    }\n",
       "\n",
       "    .dataframe tbody tr th {\n",
       "        vertical-align: top;\n",
       "    }\n",
       "\n",
       "    .dataframe thead th {\n",
       "        text-align: right;\n",
       "    }\n",
       "</style>\n",
       "<table border=\"1\" class=\"dataframe\">\n",
       "  <thead>\n",
       "    <tr style=\"text-align: right;\">\n",
       "      <th></th>\n",
       "      <th>idunplug_station</th>\n",
       "      <th>Distrito_Llegada</th>\n",
       "      <th>idplug_station</th>\n",
       "      <th>count</th>\n",
       "    </tr>\n",
       "  </thead>\n",
       "  <tbody>\n",
       "    <tr>\n",
       "      <th>909</th>\n",
       "      <td>175</td>\n",
       "      <td>02  ARGANZUELA</td>\n",
       "      <td>175</td>\n",
       "      <td>1010</td>\n",
       "    </tr>\n",
       "    <tr>\n",
       "      <th>34</th>\n",
       "      <td>43</td>\n",
       "      <td>01  CENTRO</td>\n",
       "      <td>43</td>\n",
       "      <td>893</td>\n",
       "    </tr>\n",
       "    <tr>\n",
       "      <th>255</th>\n",
       "      <td>57</td>\n",
       "      <td>01  CENTRO</td>\n",
       "      <td>57</td>\n",
       "      <td>887</td>\n",
       "    </tr>\n",
       "    <tr>\n",
       "      <th>855</th>\n",
       "      <td>175</td>\n",
       "      <td>01  CENTRO</td>\n",
       "      <td>27</td>\n",
       "      <td>851</td>\n",
       "    </tr>\n",
       "    <tr>\n",
       "      <th>512</th>\n",
       "      <td>83</td>\n",
       "      <td>03  RETIRO</td>\n",
       "      <td>83</td>\n",
       "      <td>782</td>\n",
       "    </tr>\n",
       "    <tr>\n",
       "      <th>870</th>\n",
       "      <td>175</td>\n",
       "      <td>01  CENTRO</td>\n",
       "      <td>43</td>\n",
       "      <td>754</td>\n",
       "    </tr>\n",
       "    <tr>\n",
       "      <th>238</th>\n",
       "      <td>57</td>\n",
       "      <td>01  CENTRO</td>\n",
       "      <td>38</td>\n",
       "      <td>656</td>\n",
       "    </tr>\n",
       "    <tr>\n",
       "      <th>73</th>\n",
       "      <td>43</td>\n",
       "      <td>02  ARGANZUELA</td>\n",
       "      <td>175</td>\n",
       "      <td>631</td>\n",
       "    </tr>\n",
       "    <tr>\n",
       "      <th>1016</th>\n",
       "      <td>175</td>\n",
       "      <td>07  CHAMBERÍ</td>\n",
       "      <td>135</td>\n",
       "      <td>616</td>\n",
       "    </tr>\n",
       "    <tr>\n",
       "      <th>689</th>\n",
       "      <td>163</td>\n",
       "      <td>02  ARGANZUELA</td>\n",
       "      <td>163</td>\n",
       "      <td>613</td>\n",
       "    </tr>\n",
       "  </tbody>\n",
       "</table>\n",
       "</div>"
      ],
      "text/plain": [
       "      idunplug_station Distrito_Llegada  idplug_station  count\n",
       "909                175   02  ARGANZUELA             175   1010\n",
       "34                  43       01  CENTRO              43    893\n",
       "255                 57       01  CENTRO              57    887\n",
       "855                175       01  CENTRO              27    851\n",
       "512                 83       03  RETIRO              83    782\n",
       "870                175       01  CENTRO              43    754\n",
       "238                 57       01  CENTRO              38    656\n",
       "73                  43   02  ARGANZUELA             175    631\n",
       "1016               175     07  CHAMBERÍ             135    616\n",
       "689                163   02  ARGANZUELA             163    613"
      ]
     },
     "execution_count": 125,
     "metadata": {},
     "output_type": "execute_result"
    }
   ],
   "source": [
    "estaciones_mas_concurridas = itinerarios_bases.groupby([\"idunplug_station\"])\\\n",
    "    .size().reset_index().rename(columns={0:\"count\"}).sort_values(by=['count'], ascending = False).head(N).reset_index(drop=True)\n",
    "estaciones_mas_concurridas1 = itinerarios_bases[itinerarios_bases[\"idunplug_station\"].isin(estaciones_mas_concurridas[\"idunplug_station\"])]\n",
    "\n",
    "df_combinations = estaciones_mas_concurridas1.groupby([\"idunplug_station\", \"Distrito_Llegada\", \"idplug_station\"])\\\n",
    "    .size().reset_index().rename(columns={0:\"count\"}).sort_values(by=['count'], ascending = False)\n",
    "df_combinations.head(10)"
   ]
  },
  {
   "cell_type": "code",
   "execution_count": 126,
   "id": "c732dee6",
   "metadata": {},
   "outputs": [
    {
     "name": "stdout",
     "output_type": "stream",
     "text": [
      "¿Cuántas estaciones de salida quieres mostrar por estación de origen?: 10\n",
      "10\n"
     ]
    }
   ],
   "source": [
    "M = int(input(\"¿Cuántas estaciones de salida quieres mostrar por estación de origen?: \"))\n",
    "print(M)"
   ]
  },
  {
   "cell_type": "code",
   "execution_count": 127,
   "id": "127b2c1c",
   "metadata": {},
   "outputs": [
    {
     "name": "stderr",
     "output_type": "stream",
     "text": [
      "<ipython-input-127-73eef84b1126>:5: FutureWarning:\n",
      "\n",
      "The frame.append method is deprecated and will be removed from pandas in a future version. Use pandas.concat instead.\n",
      "\n",
      "<ipython-input-127-73eef84b1126>:5: FutureWarning:\n",
      "\n",
      "The frame.append method is deprecated and will be removed from pandas in a future version. Use pandas.concat instead.\n",
      "\n",
      "<ipython-input-127-73eef84b1126>:5: FutureWarning:\n",
      "\n",
      "The frame.append method is deprecated and will be removed from pandas in a future version. Use pandas.concat instead.\n",
      "\n",
      "<ipython-input-127-73eef84b1126>:5: FutureWarning:\n",
      "\n",
      "The frame.append method is deprecated and will be removed from pandas in a future version. Use pandas.concat instead.\n",
      "\n",
      "<ipython-input-127-73eef84b1126>:5: FutureWarning:\n",
      "\n",
      "The frame.append method is deprecated and will be removed from pandas in a future version. Use pandas.concat instead.\n",
      "\n"
     ]
    },
    {
     "data": {
      "text/html": [
       "<div>\n",
       "<style scoped>\n",
       "    .dataframe tbody tr th:only-of-type {\n",
       "        vertical-align: middle;\n",
       "    }\n",
       "\n",
       "    .dataframe tbody tr th {\n",
       "        vertical-align: top;\n",
       "    }\n",
       "\n",
       "    .dataframe thead th {\n",
       "        text-align: right;\n",
       "    }\n",
       "</style>\n",
       "<table border=\"1\" class=\"dataframe\">\n",
       "  <thead>\n",
       "    <tr style=\"text-align: right;\">\n",
       "      <th></th>\n",
       "      <th>idunplug_station</th>\n",
       "      <th>Distrito_Llegada</th>\n",
       "      <th>idplug_station</th>\n",
       "      <th>count</th>\n",
       "    </tr>\n",
       "  </thead>\n",
       "  <tbody>\n",
       "    <tr>\n",
       "      <th>909</th>\n",
       "      <td>175</td>\n",
       "      <td>02  ARGANZUELA</td>\n",
       "      <td>175</td>\n",
       "      <td>1010</td>\n",
       "    </tr>\n",
       "    <tr>\n",
       "      <th>855</th>\n",
       "      <td>175</td>\n",
       "      <td>01  CENTRO</td>\n",
       "      <td>27</td>\n",
       "      <td>851</td>\n",
       "    </tr>\n",
       "    <tr>\n",
       "      <th>870</th>\n",
       "      <td>175</td>\n",
       "      <td>01  CENTRO</td>\n",
       "      <td>43</td>\n",
       "      <td>754</td>\n",
       "    </tr>\n",
       "    <tr>\n",
       "      <th>1016</th>\n",
       "      <td>175</td>\n",
       "      <td>07  CHAMBERÍ</td>\n",
       "      <td>135</td>\n",
       "      <td>616</td>\n",
       "    </tr>\n",
       "    <tr>\n",
       "      <th>1014</th>\n",
       "      <td>175</td>\n",
       "      <td>07  CHAMBERÍ</td>\n",
       "      <td>132</td>\n",
       "      <td>596</td>\n",
       "    </tr>\n",
       "  </tbody>\n",
       "</table>\n",
       "</div>"
      ],
      "text/plain": [
       "      idunplug_station Distrito_Llegada  idplug_station  count\n",
       "909                175   02  ARGANZUELA             175   1010\n",
       "855                175       01  CENTRO              27    851\n",
       "870                175       01  CENTRO              43    754\n",
       "1016               175     07  CHAMBERÍ             135    616\n",
       "1014               175     07  CHAMBERÍ             132    596"
      ]
     },
     "execution_count": 127,
     "metadata": {},
     "output_type": "execute_result"
    }
   ],
   "source": [
    "topCombinaciones = pd.DataFrame()\n",
    "for i in df_combinations[\"idunplug_station\"].unique():\n",
    "    estacion_origen = df_combinations[df_combinations[\"idunplug_station\"] == i]\n",
    "    topCombinacionesi = estacion_origen.sort_values(by=['count'], ascending = False).head(M)\n",
    "    topCombinaciones = topCombinaciones.append(topCombinacionesi)\n",
    "topCombinaciones.reset_index(drop=True)\n",
    "topCombinaciones.head()"
   ]
  },
  {
   "cell_type": "code",
   "execution_count": 130,
   "id": "a9b0586a",
   "metadata": {},
   "outputs": [
    {
     "data": {
      "application/vnd.plotly.v1+json": {
       "config": {
        "plotlyServerURL": "https://plot.ly"
       },
       "data": [
        {
         "branchvalues": "total",
         "customdata": [
          [
           175
          ],
          [
           163
          ],
          [
           43
          ],
          [
           43
          ],
          [
           163
          ],
          [
           43
          ],
          [
           175
          ],
          [
           175
          ],
          [
           43
          ],
          [
           175
          ],
          [
           57
          ],
          [
           175
          ],
          [
           43
          ],
          [
           57
          ],
          [
           175
          ],
          [
           57
          ],
          [
           175
          ],
          [
           57
          ],
          [
           83
          ],
          [
           57
          ],
          [
           57
          ],
          [
           43
          ],
          [
           163
          ],
          [
           83
          ],
          [
           83
          ],
          [
           83
          ],
          [
           83
          ],
          [
           83
          ],
          [
           83
          ],
          [
           163
          ],
          [
           83
          ],
          [
           83
          ],
          [
           43
          ],
          [
           43
          ],
          [
           175
          ],
          [
           43
          ],
          [
           57
          ],
          [
           175
          ],
          [
           163
          ],
          [
           163
          ],
          [
           163
          ],
          [
           163
          ],
          [
           163
          ],
          [
           163
          ],
          [
           43
          ],
          [
           57
          ],
          [
           175
          ],
          [
           57
          ],
          [
           57
          ],
          [
           83
          ],
          [
           43
          ],
          [
           57
          ],
          [
           83
          ],
          [
           163
          ],
          [
           175
          ],
          [
           43
          ],
          [
           57
          ],
          [
           163
          ],
          [
           175
          ],
          [
           83
          ],
          [
           57
          ],
          [
           83
          ],
          [
           163
          ],
          [
           163
          ],
          [
           163
          ],
          [
           43
          ],
          [
           57
          ],
          [
           83
          ],
          [
           175
          ],
          [
           83
          ],
          [
           83
          ],
          [
           43
          ],
          [
           57
          ],
          [
           83
          ],
          [
           163
          ],
          [
           175
          ]
         ],
         "domain": {
          "x": [
           0,
           1
          ],
          "y": [
           0,
           1
          ]
         },
         "hovertemplate": "labels=%{label}<br>count=%{value}<br>parent=%{parent}<br>id=%{id}<br>idunplug_station=%{color}<extra></extra>",
         "ids": [
          "175/01  CENTRO/1",
          "163/01  CENTRO/9",
          "43/01  CENTRO/13",
          "43/01  CENTRO/17",
          "163/01  CENTRO/20",
          "43/01  CENTRO/26",
          "175/01  CENTRO/26",
          "175/01  CENTRO/27",
          "43/01  CENTRO/31",
          "175/01  CENTRO/34",
          "57/01  CENTRO/38",
          "175/01  CENTRO/38",
          "43/01  CENTRO/43",
          "57/01  CENTRO/43",
          "175/01  CENTRO/43",
          "57/01  CENTRO/45",
          "175/01  CENTRO/45",
          "57/01  CENTRO/49",
          "83/01  CENTRO/53",
          "57/01  CENTRO/55",
          "57/01  CENTRO/57",
          "43/01  CENTRO/59",
          "163/01  CENTRO/59",
          "83/01  CENTRO/67",
          "83/03  RETIRO/83",
          "83/04  SALAMANCA/90",
          "83/04  SALAMANCA/102",
          "83/04  SALAMANCA/108",
          "83/09  MONCLOA-ARAVACA/115",
          "163/02  ARGANZUELA/118",
          "83/07  CHAMBERÍ/126",
          "83/07  CHAMBERÍ/127",
          "43/07  CHAMBERÍ/129",
          "43/07  CHAMBERÍ/132",
          "175/07  CHAMBERÍ/132",
          "43/07  CHAMBERÍ/135",
          "57/07  CHAMBERÍ/135",
          "175/07  CHAMBERÍ/135",
          "163/04  SALAMANCA/145",
          "163/05  CHAMARTÍN/149",
          "163/06  TETUÁN/153",
          "163/05  CHAMARTÍN/157",
          "163/05  CHAMARTÍN/160",
          "163/02  ARGANZUELA/163",
          "43/02  ARGANZUELA/175",
          "57/02  ARGANZUELA/175",
          "175/02  ARGANZUELA/175",
          "57/04  SALAMANCA/183",
          "57/04  SALAMANCA/184",
          "83/15  CIUDAD LINEAL/189",
          "43/01  CENTRO",
          "57/01  CENTRO",
          "83/01  CENTRO",
          "163/01  CENTRO",
          "175/01  CENTRO",
          "43/02  ARGANZUELA",
          "57/02  ARGANZUELA",
          "163/02  ARGANZUELA",
          "175/02  ARGANZUELA",
          "83/03  RETIRO",
          "57/04  SALAMANCA",
          "83/04  SALAMANCA",
          "163/04  SALAMANCA",
          "163/05  CHAMARTÍN",
          "163/06  TETUÁN",
          "43/07  CHAMBERÍ",
          "57/07  CHAMBERÍ",
          "83/07  CHAMBERÍ",
          "175/07  CHAMBERÍ",
          "83/09  MONCLOA-ARAVACA",
          "83/15  CIUDAD LINEAL",
          "43",
          "57",
          "83",
          "163",
          "175"
         ],
         "labels": [
          "1",
          "9",
          "13",
          "17",
          "20",
          "26",
          "26",
          "27",
          "31",
          "34",
          "38",
          "38",
          "43",
          "43",
          "43",
          "45",
          "45",
          "49",
          "53",
          "55",
          "57",
          "59",
          "59",
          "67",
          "83",
          "90",
          "102",
          "108",
          "115",
          "118",
          "126",
          "127",
          "129",
          "132",
          "132",
          "135",
          "135",
          "135",
          "145",
          "149",
          "153",
          "157",
          "160",
          "163",
          "175",
          "175",
          "175",
          "183",
          "184",
          "189",
          "01  CENTRO",
          "01  CENTRO",
          "01  CENTRO",
          "01  CENTRO",
          "01  CENTRO",
          "02  ARGANZUELA",
          "02  ARGANZUELA",
          "02  ARGANZUELA",
          "02  ARGANZUELA",
          "03  RETIRO",
          "04  SALAMANCA",
          "04  SALAMANCA",
          "04  SALAMANCA",
          "05  CHAMARTÍN",
          "06  TETUÁN",
          "07  CHAMBERÍ",
          "07  CHAMBERÍ",
          "07  CHAMBERÍ",
          "07  CHAMBERÍ",
          "09  MONCLOA-ARAVACA",
          "15  CIUDAD LINEAL",
          "43",
          "57",
          "83",
          "163",
          "175"
         ],
         "marker": {
          "coloraxis": "coloraxis",
          "colors": [
           175,
           163,
           43,
           43,
           163,
           43,
           175,
           175,
           43,
           175,
           57,
           175,
           43,
           57,
           175,
           57,
           175,
           57,
           83,
           57,
           57,
           43,
           163,
           83,
           83,
           83,
           83,
           83,
           83,
           163,
           83,
           83,
           43,
           43,
           175,
           43,
           57,
           175,
           163,
           163,
           163,
           163,
           163,
           163,
           43,
           57,
           175,
           57,
           57,
           83,
           43,
           57,
           83,
           163,
           175,
           43,
           57,
           163,
           175,
           83,
           57,
           83,
           163,
           163,
           163,
           43,
           57,
           83,
           175,
           83,
           83,
           43,
           57,
           83,
           163,
           175
          ]
         },
         "name": "",
         "parents": [
          "175/01  CENTRO",
          "163/01  CENTRO",
          "43/01  CENTRO",
          "43/01  CENTRO",
          "163/01  CENTRO",
          "43/01  CENTRO",
          "175/01  CENTRO",
          "175/01  CENTRO",
          "43/01  CENTRO",
          "175/01  CENTRO",
          "57/01  CENTRO",
          "175/01  CENTRO",
          "43/01  CENTRO",
          "57/01  CENTRO",
          "175/01  CENTRO",
          "57/01  CENTRO",
          "175/01  CENTRO",
          "57/01  CENTRO",
          "83/01  CENTRO",
          "57/01  CENTRO",
          "57/01  CENTRO",
          "43/01  CENTRO",
          "163/01  CENTRO",
          "83/01  CENTRO",
          "83/03  RETIRO",
          "83/04  SALAMANCA",
          "83/04  SALAMANCA",
          "83/04  SALAMANCA",
          "83/09  MONCLOA-ARAVACA",
          "163/02  ARGANZUELA",
          "83/07  CHAMBERÍ",
          "83/07  CHAMBERÍ",
          "43/07  CHAMBERÍ",
          "43/07  CHAMBERÍ",
          "175/07  CHAMBERÍ",
          "43/07  CHAMBERÍ",
          "57/07  CHAMBERÍ",
          "175/07  CHAMBERÍ",
          "163/04  SALAMANCA",
          "163/05  CHAMARTÍN",
          "163/06  TETUÁN",
          "163/05  CHAMARTÍN",
          "163/05  CHAMARTÍN",
          "163/02  ARGANZUELA",
          "43/02  ARGANZUELA",
          "57/02  ARGANZUELA",
          "175/02  ARGANZUELA",
          "57/04  SALAMANCA",
          "57/04  SALAMANCA",
          "83/15  CIUDAD LINEAL",
          "43",
          "57",
          "83",
          "163",
          "175",
          "43",
          "57",
          "163",
          "175",
          "83",
          "57",
          "83",
          "163",
          "163",
          "163",
          "43",
          "57",
          "83",
          "175",
          "83",
          "83",
          "",
          "",
          "",
          "",
          ""
         ],
         "type": "sunburst",
         "values": [
          579,
          437,
          480,
          342,
          359,
          313,
          436,
          851,
          310,
          474,
          656,
          558,
          893,
          505,
          754,
          349,
          512,
          352,
          300,
          370,
          887,
          391,
          384,
          299,
          782,
          345,
          556,
          476,
          423,
          456,
          302,
          327,
          331,
          428,
          596,
          446,
          483,
          616,
          377,
          510,
          458,
          432,
          572,
          613,
          631,
          349,
          1010,
          332,
          382,
          346,
          2729,
          3119,
          599,
          1180,
          4164,
          631,
          349,
          1069,
          1010,
          782,
          714,
          1377,
          377,
          1514,
          458,
          1205,
          483,
          629,
          1212,
          423,
          346,
          4565,
          4665,
          4156,
          4598,
          6386
         ]
        }
       ],
       "layout": {
        "coloraxis": {
         "colorbar": {
          "title": {
           "text": "idunplug_station"
          }
         },
         "colorscale": [
          [
           0,
           "rgb(103,0,31)"
          ],
          [
           0.1,
           "rgb(178,24,43)"
          ],
          [
           0.2,
           "rgb(214,96,77)"
          ],
          [
           0.3,
           "rgb(244,165,130)"
          ],
          [
           0.4,
           "rgb(253,219,199)"
          ],
          [
           0.5,
           "rgb(247,247,247)"
          ],
          [
           0.6,
           "rgb(209,229,240)"
          ],
          [
           0.7,
           "rgb(146,197,222)"
          ],
          [
           0.8,
           "rgb(67,147,195)"
          ],
          [
           0.9,
           "rgb(33,102,172)"
          ],
          [
           1,
           "rgb(5,48,97)"
          ]
         ]
        },
        "height": 800,
        "legend": {
         "tracegroupgap": 0
        },
        "template": {
         "data": {
          "bar": [
           {
            "error_x": {
             "color": "#2a3f5f"
            },
            "error_y": {
             "color": "#2a3f5f"
            },
            "marker": {
             "line": {
              "color": "#E5ECF6",
              "width": 0.5
             },
             "pattern": {
              "fillmode": "overlay",
              "size": 10,
              "solidity": 0.2
             }
            },
            "type": "bar"
           }
          ],
          "barpolar": [
           {
            "marker": {
             "line": {
              "color": "#E5ECF6",
              "width": 0.5
             },
             "pattern": {
              "fillmode": "overlay",
              "size": 10,
              "solidity": 0.2
             }
            },
            "type": "barpolar"
           }
          ],
          "carpet": [
           {
            "aaxis": {
             "endlinecolor": "#2a3f5f",
             "gridcolor": "white",
             "linecolor": "white",
             "minorgridcolor": "white",
             "startlinecolor": "#2a3f5f"
            },
            "baxis": {
             "endlinecolor": "#2a3f5f",
             "gridcolor": "white",
             "linecolor": "white",
             "minorgridcolor": "white",
             "startlinecolor": "#2a3f5f"
            },
            "type": "carpet"
           }
          ],
          "choropleth": [
           {
            "colorbar": {
             "outlinewidth": 0,
             "ticks": ""
            },
            "type": "choropleth"
           }
          ],
          "contour": [
           {
            "colorbar": {
             "outlinewidth": 0,
             "ticks": ""
            },
            "colorscale": [
             [
              0,
              "#0d0887"
             ],
             [
              0.1111111111111111,
              "#46039f"
             ],
             [
              0.2222222222222222,
              "#7201a8"
             ],
             [
              0.3333333333333333,
              "#9c179e"
             ],
             [
              0.4444444444444444,
              "#bd3786"
             ],
             [
              0.5555555555555556,
              "#d8576b"
             ],
             [
              0.6666666666666666,
              "#ed7953"
             ],
             [
              0.7777777777777778,
              "#fb9f3a"
             ],
             [
              0.8888888888888888,
              "#fdca26"
             ],
             [
              1,
              "#f0f921"
             ]
            ],
            "type": "contour"
           }
          ],
          "contourcarpet": [
           {
            "colorbar": {
             "outlinewidth": 0,
             "ticks": ""
            },
            "type": "contourcarpet"
           }
          ],
          "heatmap": [
           {
            "colorbar": {
             "outlinewidth": 0,
             "ticks": ""
            },
            "colorscale": [
             [
              0,
              "#0d0887"
             ],
             [
              0.1111111111111111,
              "#46039f"
             ],
             [
              0.2222222222222222,
              "#7201a8"
             ],
             [
              0.3333333333333333,
              "#9c179e"
             ],
             [
              0.4444444444444444,
              "#bd3786"
             ],
             [
              0.5555555555555556,
              "#d8576b"
             ],
             [
              0.6666666666666666,
              "#ed7953"
             ],
             [
              0.7777777777777778,
              "#fb9f3a"
             ],
             [
              0.8888888888888888,
              "#fdca26"
             ],
             [
              1,
              "#f0f921"
             ]
            ],
            "type": "heatmap"
           }
          ],
          "heatmapgl": [
           {
            "colorbar": {
             "outlinewidth": 0,
             "ticks": ""
            },
            "colorscale": [
             [
              0,
              "#0d0887"
             ],
             [
              0.1111111111111111,
              "#46039f"
             ],
             [
              0.2222222222222222,
              "#7201a8"
             ],
             [
              0.3333333333333333,
              "#9c179e"
             ],
             [
              0.4444444444444444,
              "#bd3786"
             ],
             [
              0.5555555555555556,
              "#d8576b"
             ],
             [
              0.6666666666666666,
              "#ed7953"
             ],
             [
              0.7777777777777778,
              "#fb9f3a"
             ],
             [
              0.8888888888888888,
              "#fdca26"
             ],
             [
              1,
              "#f0f921"
             ]
            ],
            "type": "heatmapgl"
           }
          ],
          "histogram": [
           {
            "marker": {
             "pattern": {
              "fillmode": "overlay",
              "size": 10,
              "solidity": 0.2
             }
            },
            "type": "histogram"
           }
          ],
          "histogram2d": [
           {
            "colorbar": {
             "outlinewidth": 0,
             "ticks": ""
            },
            "colorscale": [
             [
              0,
              "#0d0887"
             ],
             [
              0.1111111111111111,
              "#46039f"
             ],
             [
              0.2222222222222222,
              "#7201a8"
             ],
             [
              0.3333333333333333,
              "#9c179e"
             ],
             [
              0.4444444444444444,
              "#bd3786"
             ],
             [
              0.5555555555555556,
              "#d8576b"
             ],
             [
              0.6666666666666666,
              "#ed7953"
             ],
             [
              0.7777777777777778,
              "#fb9f3a"
             ],
             [
              0.8888888888888888,
              "#fdca26"
             ],
             [
              1,
              "#f0f921"
             ]
            ],
            "type": "histogram2d"
           }
          ],
          "histogram2dcontour": [
           {
            "colorbar": {
             "outlinewidth": 0,
             "ticks": ""
            },
            "colorscale": [
             [
              0,
              "#0d0887"
             ],
             [
              0.1111111111111111,
              "#46039f"
             ],
             [
              0.2222222222222222,
              "#7201a8"
             ],
             [
              0.3333333333333333,
              "#9c179e"
             ],
             [
              0.4444444444444444,
              "#bd3786"
             ],
             [
              0.5555555555555556,
              "#d8576b"
             ],
             [
              0.6666666666666666,
              "#ed7953"
             ],
             [
              0.7777777777777778,
              "#fb9f3a"
             ],
             [
              0.8888888888888888,
              "#fdca26"
             ],
             [
              1,
              "#f0f921"
             ]
            ],
            "type": "histogram2dcontour"
           }
          ],
          "mesh3d": [
           {
            "colorbar": {
             "outlinewidth": 0,
             "ticks": ""
            },
            "type": "mesh3d"
           }
          ],
          "parcoords": [
           {
            "line": {
             "colorbar": {
              "outlinewidth": 0,
              "ticks": ""
             }
            },
            "type": "parcoords"
           }
          ],
          "pie": [
           {
            "automargin": true,
            "type": "pie"
           }
          ],
          "scatter": [
           {
            "fillpattern": {
             "fillmode": "overlay",
             "size": 10,
             "solidity": 0.2
            },
            "type": "scatter"
           }
          ],
          "scatter3d": [
           {
            "line": {
             "colorbar": {
              "outlinewidth": 0,
              "ticks": ""
             }
            },
            "marker": {
             "colorbar": {
              "outlinewidth": 0,
              "ticks": ""
             }
            },
            "type": "scatter3d"
           }
          ],
          "scattercarpet": [
           {
            "marker": {
             "colorbar": {
              "outlinewidth": 0,
              "ticks": ""
             }
            },
            "type": "scattercarpet"
           }
          ],
          "scattergeo": [
           {
            "marker": {
             "colorbar": {
              "outlinewidth": 0,
              "ticks": ""
             }
            },
            "type": "scattergeo"
           }
          ],
          "scattergl": [
           {
            "marker": {
             "colorbar": {
              "outlinewidth": 0,
              "ticks": ""
             }
            },
            "type": "scattergl"
           }
          ],
          "scattermapbox": [
           {
            "marker": {
             "colorbar": {
              "outlinewidth": 0,
              "ticks": ""
             }
            },
            "type": "scattermapbox"
           }
          ],
          "scatterpolar": [
           {
            "marker": {
             "colorbar": {
              "outlinewidth": 0,
              "ticks": ""
             }
            },
            "type": "scatterpolar"
           }
          ],
          "scatterpolargl": [
           {
            "marker": {
             "colorbar": {
              "outlinewidth": 0,
              "ticks": ""
             }
            },
            "type": "scatterpolargl"
           }
          ],
          "scatterternary": [
           {
            "marker": {
             "colorbar": {
              "outlinewidth": 0,
              "ticks": ""
             }
            },
            "type": "scatterternary"
           }
          ],
          "surface": [
           {
            "colorbar": {
             "outlinewidth": 0,
             "ticks": ""
            },
            "colorscale": [
             [
              0,
              "#0d0887"
             ],
             [
              0.1111111111111111,
              "#46039f"
             ],
             [
              0.2222222222222222,
              "#7201a8"
             ],
             [
              0.3333333333333333,
              "#9c179e"
             ],
             [
              0.4444444444444444,
              "#bd3786"
             ],
             [
              0.5555555555555556,
              "#d8576b"
             ],
             [
              0.6666666666666666,
              "#ed7953"
             ],
             [
              0.7777777777777778,
              "#fb9f3a"
             ],
             [
              0.8888888888888888,
              "#fdca26"
             ],
             [
              1,
              "#f0f921"
             ]
            ],
            "type": "surface"
           }
          ],
          "table": [
           {
            "cells": {
             "fill": {
              "color": "#EBF0F8"
             },
             "line": {
              "color": "white"
             }
            },
            "header": {
             "fill": {
              "color": "#C8D4E3"
             },
             "line": {
              "color": "white"
             }
            },
            "type": "table"
           }
          ]
         },
         "layout": {
          "annotationdefaults": {
           "arrowcolor": "#2a3f5f",
           "arrowhead": 0,
           "arrowwidth": 1
          },
          "autotypenumbers": "strict",
          "coloraxis": {
           "colorbar": {
            "outlinewidth": 0,
            "ticks": ""
           }
          },
          "colorscale": {
           "diverging": [
            [
             0,
             "#8e0152"
            ],
            [
             0.1,
             "#c51b7d"
            ],
            [
             0.2,
             "#de77ae"
            ],
            [
             0.3,
             "#f1b6da"
            ],
            [
             0.4,
             "#fde0ef"
            ],
            [
             0.5,
             "#f7f7f7"
            ],
            [
             0.6,
             "#e6f5d0"
            ],
            [
             0.7,
             "#b8e186"
            ],
            [
             0.8,
             "#7fbc41"
            ],
            [
             0.9,
             "#4d9221"
            ],
            [
             1,
             "#276419"
            ]
           ],
           "sequential": [
            [
             0,
             "#0d0887"
            ],
            [
             0.1111111111111111,
             "#46039f"
            ],
            [
             0.2222222222222222,
             "#7201a8"
            ],
            [
             0.3333333333333333,
             "#9c179e"
            ],
            [
             0.4444444444444444,
             "#bd3786"
            ],
            [
             0.5555555555555556,
             "#d8576b"
            ],
            [
             0.6666666666666666,
             "#ed7953"
            ],
            [
             0.7777777777777778,
             "#fb9f3a"
            ],
            [
             0.8888888888888888,
             "#fdca26"
            ],
            [
             1,
             "#f0f921"
            ]
           ],
           "sequentialminus": [
            [
             0,
             "#0d0887"
            ],
            [
             0.1111111111111111,
             "#46039f"
            ],
            [
             0.2222222222222222,
             "#7201a8"
            ],
            [
             0.3333333333333333,
             "#9c179e"
            ],
            [
             0.4444444444444444,
             "#bd3786"
            ],
            [
             0.5555555555555556,
             "#d8576b"
            ],
            [
             0.6666666666666666,
             "#ed7953"
            ],
            [
             0.7777777777777778,
             "#fb9f3a"
            ],
            [
             0.8888888888888888,
             "#fdca26"
            ],
            [
             1,
             "#f0f921"
            ]
           ]
          },
          "colorway": [
           "#636efa",
           "#EF553B",
           "#00cc96",
           "#ab63fa",
           "#FFA15A",
           "#19d3f3",
           "#FF6692",
           "#B6E880",
           "#FF97FF",
           "#FECB52"
          ],
          "font": {
           "color": "#2a3f5f"
          },
          "geo": {
           "bgcolor": "white",
           "lakecolor": "white",
           "landcolor": "#E5ECF6",
           "showlakes": true,
           "showland": true,
           "subunitcolor": "white"
          },
          "hoverlabel": {
           "align": "left"
          },
          "hovermode": "closest",
          "mapbox": {
           "style": "light"
          },
          "paper_bgcolor": "white",
          "plot_bgcolor": "#E5ECF6",
          "polar": {
           "angularaxis": {
            "gridcolor": "white",
            "linecolor": "white",
            "ticks": ""
           },
           "bgcolor": "#E5ECF6",
           "radialaxis": {
            "gridcolor": "white",
            "linecolor": "white",
            "ticks": ""
           }
          },
          "scene": {
           "xaxis": {
            "backgroundcolor": "#E5ECF6",
            "gridcolor": "white",
            "gridwidth": 2,
            "linecolor": "white",
            "showbackground": true,
            "ticks": "",
            "zerolinecolor": "white"
           },
           "yaxis": {
            "backgroundcolor": "#E5ECF6",
            "gridcolor": "white",
            "gridwidth": 2,
            "linecolor": "white",
            "showbackground": true,
            "ticks": "",
            "zerolinecolor": "white"
           },
           "zaxis": {
            "backgroundcolor": "#E5ECF6",
            "gridcolor": "white",
            "gridwidth": 2,
            "linecolor": "white",
            "showbackground": true,
            "ticks": "",
            "zerolinecolor": "white"
           }
          },
          "shapedefaults": {
           "line": {
            "color": "#2a3f5f"
           }
          },
          "ternary": {
           "aaxis": {
            "gridcolor": "white",
            "linecolor": "white",
            "ticks": ""
           },
           "baxis": {
            "gridcolor": "white",
            "linecolor": "white",
            "ticks": ""
           },
           "bgcolor": "#E5ECF6",
           "caxis": {
            "gridcolor": "white",
            "linecolor": "white",
            "ticks": ""
           }
          },
          "title": {
           "x": 0.05
          },
          "xaxis": {
           "automargin": true,
           "gridcolor": "white",
           "linecolor": "white",
           "ticks": "",
           "title": {
            "standoff": 15
           },
           "zerolinecolor": "white",
           "zerolinewidth": 2
          },
          "yaxis": {
           "automargin": true,
           "gridcolor": "white",
           "linecolor": "white",
           "ticks": "",
           "title": {
            "standoff": 15
           },
           "zerolinecolor": "white",
           "zerolinewidth": 2
          }
         }
        },
        "title": {
         "text": "Distribución rutas más concurridas"
        }
       }
      },
      "text/html": [
       "<div>                            <div id=\"8864b604-6fdc-4df6-982f-68193185b9b8\" class=\"plotly-graph-div\" style=\"height:800px; width:100%;\"></div>            <script type=\"text/javascript\">                require([\"plotly\"], function(Plotly) {                    window.PLOTLYENV=window.PLOTLYENV || {};                                    if (document.getElementById(\"8864b604-6fdc-4df6-982f-68193185b9b8\")) {                    Plotly.newPlot(                        \"8864b604-6fdc-4df6-982f-68193185b9b8\",                        [{\"branchvalues\":\"total\",\"customdata\":[[175.0],[163.0],[43.0],[43.0],[163.0],[43.0],[175.0],[175.0],[43.0],[175.0],[57.0],[175.0],[43.0],[57.0],[175.0],[57.0],[175.0],[57.0],[83.0],[57.0],[57.0],[43.0],[163.0],[83.0],[83.0],[83.0],[83.0],[83.0],[83.0],[163.0],[83.0],[83.0],[43.0],[43.0],[175.0],[43.0],[57.0],[175.0],[163.0],[163.0],[163.0],[163.0],[163.0],[163.0],[43.0],[57.0],[175.0],[57.0],[57.0],[83.0],[43.0],[57.0],[83.0],[163.0],[175.0],[43.0],[57.0],[163.0],[175.0],[83.0],[57.0],[83.0],[163.0],[163.0],[163.0],[43.0],[57.0],[83.0],[175.0],[83.0],[83.0],[43.0],[57.0],[83.0],[163.0],[175.0]],\"domain\":{\"x\":[0.0,1.0],\"y\":[0.0,1.0]},\"hovertemplate\":\"labels=%{label}<br>count=%{value}<br>parent=%{parent}<br>id=%{id}<br>idunplug_station=%{color}<extra></extra>\",\"ids\":[\"175/01 \\u00a0CENTRO/1\",\"163/01 \\u00a0CENTRO/9\",\"43/01 \\u00a0CENTRO/13\",\"43/01 \\u00a0CENTRO/17\",\"163/01 \\u00a0CENTRO/20\",\"43/01 \\u00a0CENTRO/26\",\"175/01 \\u00a0CENTRO/26\",\"175/01 \\u00a0CENTRO/27\",\"43/01 \\u00a0CENTRO/31\",\"175/01 \\u00a0CENTRO/34\",\"57/01 \\u00a0CENTRO/38\",\"175/01 \\u00a0CENTRO/38\",\"43/01 \\u00a0CENTRO/43\",\"57/01 \\u00a0CENTRO/43\",\"175/01 \\u00a0CENTRO/43\",\"57/01 \\u00a0CENTRO/45\",\"175/01 \\u00a0CENTRO/45\",\"57/01 \\u00a0CENTRO/49\",\"83/01 \\u00a0CENTRO/53\",\"57/01 \\u00a0CENTRO/55\",\"57/01 \\u00a0CENTRO/57\",\"43/01 \\u00a0CENTRO/59\",\"163/01 \\u00a0CENTRO/59\",\"83/01 \\u00a0CENTRO/67\",\"83/03 \\u00a0RETIRO/83\",\"83/04 \\u00a0SALAMANCA/90\",\"83/04 \\u00a0SALAMANCA/102\",\"83/04 \\u00a0SALAMANCA/108\",\"83/09 \\u00a0MONCLOA-ARAVACA/115\",\"163/02 \\u00a0ARGANZUELA/118\",\"83/07 \\u00a0CHAMBER\\u00cd/126\",\"83/07 \\u00a0CHAMBER\\u00cd/127\",\"43/07 \\u00a0CHAMBER\\u00cd/129\",\"43/07 \\u00a0CHAMBER\\u00cd/132\",\"175/07 \\u00a0CHAMBER\\u00cd/132\",\"43/07 \\u00a0CHAMBER\\u00cd/135\",\"57/07 \\u00a0CHAMBER\\u00cd/135\",\"175/07 \\u00a0CHAMBER\\u00cd/135\",\"163/04 \\u00a0SALAMANCA/145\",\"163/05 \\u00a0CHAMART\\u00cdN/149\",\"163/06 \\u00a0TETU\\u00c1N/153\",\"163/05 \\u00a0CHAMART\\u00cdN/157\",\"163/05 \\u00a0CHAMART\\u00cdN/160\",\"163/02 \\u00a0ARGANZUELA/163\",\"43/02 \\u00a0ARGANZUELA/175\",\"57/02 \\u00a0ARGANZUELA/175\",\"175/02 \\u00a0ARGANZUELA/175\",\"57/04 \\u00a0SALAMANCA/183\",\"57/04 \\u00a0SALAMANCA/184\",\"83/15 \\u00a0CIUDAD LINEAL/189\",\"43/01 \\u00a0CENTRO\",\"57/01 \\u00a0CENTRO\",\"83/01 \\u00a0CENTRO\",\"163/01 \\u00a0CENTRO\",\"175/01 \\u00a0CENTRO\",\"43/02 \\u00a0ARGANZUELA\",\"57/02 \\u00a0ARGANZUELA\",\"163/02 \\u00a0ARGANZUELA\",\"175/02 \\u00a0ARGANZUELA\",\"83/03 \\u00a0RETIRO\",\"57/04 \\u00a0SALAMANCA\",\"83/04 \\u00a0SALAMANCA\",\"163/04 \\u00a0SALAMANCA\",\"163/05 \\u00a0CHAMART\\u00cdN\",\"163/06 \\u00a0TETU\\u00c1N\",\"43/07 \\u00a0CHAMBER\\u00cd\",\"57/07 \\u00a0CHAMBER\\u00cd\",\"83/07 \\u00a0CHAMBER\\u00cd\",\"175/07 \\u00a0CHAMBER\\u00cd\",\"83/09 \\u00a0MONCLOA-ARAVACA\",\"83/15 \\u00a0CIUDAD LINEAL\",\"43\",\"57\",\"83\",\"163\",\"175\"],\"labels\":[\"1\",\"9\",\"13\",\"17\",\"20\",\"26\",\"26\",\"27\",\"31\",\"34\",\"38\",\"38\",\"43\",\"43\",\"43\",\"45\",\"45\",\"49\",\"53\",\"55\",\"57\",\"59\",\"59\",\"67\",\"83\",\"90\",\"102\",\"108\",\"115\",\"118\",\"126\",\"127\",\"129\",\"132\",\"132\",\"135\",\"135\",\"135\",\"145\",\"149\",\"153\",\"157\",\"160\",\"163\",\"175\",\"175\",\"175\",\"183\",\"184\",\"189\",\"01 \\u00a0CENTRO\",\"01 \\u00a0CENTRO\",\"01 \\u00a0CENTRO\",\"01 \\u00a0CENTRO\",\"01 \\u00a0CENTRO\",\"02 \\u00a0ARGANZUELA\",\"02 \\u00a0ARGANZUELA\",\"02 \\u00a0ARGANZUELA\",\"02 \\u00a0ARGANZUELA\",\"03 \\u00a0RETIRO\",\"04 \\u00a0SALAMANCA\",\"04 \\u00a0SALAMANCA\",\"04 \\u00a0SALAMANCA\",\"05 \\u00a0CHAMART\\u00cdN\",\"06 \\u00a0TETU\\u00c1N\",\"07 \\u00a0CHAMBER\\u00cd\",\"07 \\u00a0CHAMBER\\u00cd\",\"07 \\u00a0CHAMBER\\u00cd\",\"07 \\u00a0CHAMBER\\u00cd\",\"09 \\u00a0MONCLOA-ARAVACA\",\"15 \\u00a0CIUDAD LINEAL\",\"43\",\"57\",\"83\",\"163\",\"175\"],\"marker\":{\"coloraxis\":\"coloraxis\",\"colors\":[175.0,163.0,43.0,43.0,163.0,43.0,175.0,175.0,43.0,175.0,57.0,175.0,43.0,57.0,175.0,57.0,175.0,57.0,83.0,57.0,57.0,43.0,163.0,83.0,83.0,83.0,83.0,83.0,83.0,163.0,83.0,83.0,43.0,43.0,175.0,43.0,57.0,175.0,163.0,163.0,163.0,163.0,163.0,163.0,43.0,57.0,175.0,57.0,57.0,83.0,43.0,57.0,83.0,163.0,175.0,43.0,57.0,163.0,175.0,83.0,57.0,83.0,163.0,163.0,163.0,43.0,57.0,83.0,175.0,83.0,83.0,43.0,57.0,83.0,163.0,175.0]},\"name\":\"\",\"parents\":[\"175/01 \\u00a0CENTRO\",\"163/01 \\u00a0CENTRO\",\"43/01 \\u00a0CENTRO\",\"43/01 \\u00a0CENTRO\",\"163/01 \\u00a0CENTRO\",\"43/01 \\u00a0CENTRO\",\"175/01 \\u00a0CENTRO\",\"175/01 \\u00a0CENTRO\",\"43/01 \\u00a0CENTRO\",\"175/01 \\u00a0CENTRO\",\"57/01 \\u00a0CENTRO\",\"175/01 \\u00a0CENTRO\",\"43/01 \\u00a0CENTRO\",\"57/01 \\u00a0CENTRO\",\"175/01 \\u00a0CENTRO\",\"57/01 \\u00a0CENTRO\",\"175/01 \\u00a0CENTRO\",\"57/01 \\u00a0CENTRO\",\"83/01 \\u00a0CENTRO\",\"57/01 \\u00a0CENTRO\",\"57/01 \\u00a0CENTRO\",\"43/01 \\u00a0CENTRO\",\"163/01 \\u00a0CENTRO\",\"83/01 \\u00a0CENTRO\",\"83/03 \\u00a0RETIRO\",\"83/04 \\u00a0SALAMANCA\",\"83/04 \\u00a0SALAMANCA\",\"83/04 \\u00a0SALAMANCA\",\"83/09 \\u00a0MONCLOA-ARAVACA\",\"163/02 \\u00a0ARGANZUELA\",\"83/07 \\u00a0CHAMBER\\u00cd\",\"83/07 \\u00a0CHAMBER\\u00cd\",\"43/07 \\u00a0CHAMBER\\u00cd\",\"43/07 \\u00a0CHAMBER\\u00cd\",\"175/07 \\u00a0CHAMBER\\u00cd\",\"43/07 \\u00a0CHAMBER\\u00cd\",\"57/07 \\u00a0CHAMBER\\u00cd\",\"175/07 \\u00a0CHAMBER\\u00cd\",\"163/04 \\u00a0SALAMANCA\",\"163/05 \\u00a0CHAMART\\u00cdN\",\"163/06 \\u00a0TETU\\u00c1N\",\"163/05 \\u00a0CHAMART\\u00cdN\",\"163/05 \\u00a0CHAMART\\u00cdN\",\"163/02 \\u00a0ARGANZUELA\",\"43/02 \\u00a0ARGANZUELA\",\"57/02 \\u00a0ARGANZUELA\",\"175/02 \\u00a0ARGANZUELA\",\"57/04 \\u00a0SALAMANCA\",\"57/04 \\u00a0SALAMANCA\",\"83/15 \\u00a0CIUDAD LINEAL\",\"43\",\"57\",\"83\",\"163\",\"175\",\"43\",\"57\",\"163\",\"175\",\"83\",\"57\",\"83\",\"163\",\"163\",\"163\",\"43\",\"57\",\"83\",\"175\",\"83\",\"83\",\"\",\"\",\"\",\"\",\"\"],\"values\":[579,437,480,342,359,313,436,851,310,474,656,558,893,505,754,349,512,352,300,370,887,391,384,299,782,345,556,476,423,456,302,327,331,428,596,446,483,616,377,510,458,432,572,613,631,349,1010,332,382,346,2729,3119,599,1180,4164,631,349,1069,1010,782,714,1377,377,1514,458,1205,483,629,1212,423,346,4565,4665,4156,4598,6386],\"type\":\"sunburst\"}],                        {\"template\":{\"data\":{\"histogram2dcontour\":[{\"type\":\"histogram2dcontour\",\"colorbar\":{\"outlinewidth\":0,\"ticks\":\"\"},\"colorscale\":[[0.0,\"#0d0887\"],[0.1111111111111111,\"#46039f\"],[0.2222222222222222,\"#7201a8\"],[0.3333333333333333,\"#9c179e\"],[0.4444444444444444,\"#bd3786\"],[0.5555555555555556,\"#d8576b\"],[0.6666666666666666,\"#ed7953\"],[0.7777777777777778,\"#fb9f3a\"],[0.8888888888888888,\"#fdca26\"],[1.0,\"#f0f921\"]]}],\"choropleth\":[{\"type\":\"choropleth\",\"colorbar\":{\"outlinewidth\":0,\"ticks\":\"\"}}],\"histogram2d\":[{\"type\":\"histogram2d\",\"colorbar\":{\"outlinewidth\":0,\"ticks\":\"\"},\"colorscale\":[[0.0,\"#0d0887\"],[0.1111111111111111,\"#46039f\"],[0.2222222222222222,\"#7201a8\"],[0.3333333333333333,\"#9c179e\"],[0.4444444444444444,\"#bd3786\"],[0.5555555555555556,\"#d8576b\"],[0.6666666666666666,\"#ed7953\"],[0.7777777777777778,\"#fb9f3a\"],[0.8888888888888888,\"#fdca26\"],[1.0,\"#f0f921\"]]}],\"heatmap\":[{\"type\":\"heatmap\",\"colorbar\":{\"outlinewidth\":0,\"ticks\":\"\"},\"colorscale\":[[0.0,\"#0d0887\"],[0.1111111111111111,\"#46039f\"],[0.2222222222222222,\"#7201a8\"],[0.3333333333333333,\"#9c179e\"],[0.4444444444444444,\"#bd3786\"],[0.5555555555555556,\"#d8576b\"],[0.6666666666666666,\"#ed7953\"],[0.7777777777777778,\"#fb9f3a\"],[0.8888888888888888,\"#fdca26\"],[1.0,\"#f0f921\"]]}],\"heatmapgl\":[{\"type\":\"heatmapgl\",\"colorbar\":{\"outlinewidth\":0,\"ticks\":\"\"},\"colorscale\":[[0.0,\"#0d0887\"],[0.1111111111111111,\"#46039f\"],[0.2222222222222222,\"#7201a8\"],[0.3333333333333333,\"#9c179e\"],[0.4444444444444444,\"#bd3786\"],[0.5555555555555556,\"#d8576b\"],[0.6666666666666666,\"#ed7953\"],[0.7777777777777778,\"#fb9f3a\"],[0.8888888888888888,\"#fdca26\"],[1.0,\"#f0f921\"]]}],\"contourcarpet\":[{\"type\":\"contourcarpet\",\"colorbar\":{\"outlinewidth\":0,\"ticks\":\"\"}}],\"contour\":[{\"type\":\"contour\",\"colorbar\":{\"outlinewidth\":0,\"ticks\":\"\"},\"colorscale\":[[0.0,\"#0d0887\"],[0.1111111111111111,\"#46039f\"],[0.2222222222222222,\"#7201a8\"],[0.3333333333333333,\"#9c179e\"],[0.4444444444444444,\"#bd3786\"],[0.5555555555555556,\"#d8576b\"],[0.6666666666666666,\"#ed7953\"],[0.7777777777777778,\"#fb9f3a\"],[0.8888888888888888,\"#fdca26\"],[1.0,\"#f0f921\"]]}],\"surface\":[{\"type\":\"surface\",\"colorbar\":{\"outlinewidth\":0,\"ticks\":\"\"},\"colorscale\":[[0.0,\"#0d0887\"],[0.1111111111111111,\"#46039f\"],[0.2222222222222222,\"#7201a8\"],[0.3333333333333333,\"#9c179e\"],[0.4444444444444444,\"#bd3786\"],[0.5555555555555556,\"#d8576b\"],[0.6666666666666666,\"#ed7953\"],[0.7777777777777778,\"#fb9f3a\"],[0.8888888888888888,\"#fdca26\"],[1.0,\"#f0f921\"]]}],\"mesh3d\":[{\"type\":\"mesh3d\",\"colorbar\":{\"outlinewidth\":0,\"ticks\":\"\"}}],\"scatter\":[{\"fillpattern\":{\"fillmode\":\"overlay\",\"size\":10,\"solidity\":0.2},\"type\":\"scatter\"}],\"parcoords\":[{\"type\":\"parcoords\",\"line\":{\"colorbar\":{\"outlinewidth\":0,\"ticks\":\"\"}}}],\"scatterpolargl\":[{\"type\":\"scatterpolargl\",\"marker\":{\"colorbar\":{\"outlinewidth\":0,\"ticks\":\"\"}}}],\"bar\":[{\"error_x\":{\"color\":\"#2a3f5f\"},\"error_y\":{\"color\":\"#2a3f5f\"},\"marker\":{\"line\":{\"color\":\"#E5ECF6\",\"width\":0.5},\"pattern\":{\"fillmode\":\"overlay\",\"size\":10,\"solidity\":0.2}},\"type\":\"bar\"}],\"scattergeo\":[{\"type\":\"scattergeo\",\"marker\":{\"colorbar\":{\"outlinewidth\":0,\"ticks\":\"\"}}}],\"scatterpolar\":[{\"type\":\"scatterpolar\",\"marker\":{\"colorbar\":{\"outlinewidth\":0,\"ticks\":\"\"}}}],\"histogram\":[{\"marker\":{\"pattern\":{\"fillmode\":\"overlay\",\"size\":10,\"solidity\":0.2}},\"type\":\"histogram\"}],\"scattergl\":[{\"type\":\"scattergl\",\"marker\":{\"colorbar\":{\"outlinewidth\":0,\"ticks\":\"\"}}}],\"scatter3d\":[{\"type\":\"scatter3d\",\"line\":{\"colorbar\":{\"outlinewidth\":0,\"ticks\":\"\"}},\"marker\":{\"colorbar\":{\"outlinewidth\":0,\"ticks\":\"\"}}}],\"scattermapbox\":[{\"type\":\"scattermapbox\",\"marker\":{\"colorbar\":{\"outlinewidth\":0,\"ticks\":\"\"}}}],\"scatterternary\":[{\"type\":\"scatterternary\",\"marker\":{\"colorbar\":{\"outlinewidth\":0,\"ticks\":\"\"}}}],\"scattercarpet\":[{\"type\":\"scattercarpet\",\"marker\":{\"colorbar\":{\"outlinewidth\":0,\"ticks\":\"\"}}}],\"carpet\":[{\"aaxis\":{\"endlinecolor\":\"#2a3f5f\",\"gridcolor\":\"white\",\"linecolor\":\"white\",\"minorgridcolor\":\"white\",\"startlinecolor\":\"#2a3f5f\"},\"baxis\":{\"endlinecolor\":\"#2a3f5f\",\"gridcolor\":\"white\",\"linecolor\":\"white\",\"minorgridcolor\":\"white\",\"startlinecolor\":\"#2a3f5f\"},\"type\":\"carpet\"}],\"table\":[{\"cells\":{\"fill\":{\"color\":\"#EBF0F8\"},\"line\":{\"color\":\"white\"}},\"header\":{\"fill\":{\"color\":\"#C8D4E3\"},\"line\":{\"color\":\"white\"}},\"type\":\"table\"}],\"barpolar\":[{\"marker\":{\"line\":{\"color\":\"#E5ECF6\",\"width\":0.5},\"pattern\":{\"fillmode\":\"overlay\",\"size\":10,\"solidity\":0.2}},\"type\":\"barpolar\"}],\"pie\":[{\"automargin\":true,\"type\":\"pie\"}]},\"layout\":{\"autotypenumbers\":\"strict\",\"colorway\":[\"#636efa\",\"#EF553B\",\"#00cc96\",\"#ab63fa\",\"#FFA15A\",\"#19d3f3\",\"#FF6692\",\"#B6E880\",\"#FF97FF\",\"#FECB52\"],\"font\":{\"color\":\"#2a3f5f\"},\"hovermode\":\"closest\",\"hoverlabel\":{\"align\":\"left\"},\"paper_bgcolor\":\"white\",\"plot_bgcolor\":\"#E5ECF6\",\"polar\":{\"bgcolor\":\"#E5ECF6\",\"angularaxis\":{\"gridcolor\":\"white\",\"linecolor\":\"white\",\"ticks\":\"\"},\"radialaxis\":{\"gridcolor\":\"white\",\"linecolor\":\"white\",\"ticks\":\"\"}},\"ternary\":{\"bgcolor\":\"#E5ECF6\",\"aaxis\":{\"gridcolor\":\"white\",\"linecolor\":\"white\",\"ticks\":\"\"},\"baxis\":{\"gridcolor\":\"white\",\"linecolor\":\"white\",\"ticks\":\"\"},\"caxis\":{\"gridcolor\":\"white\",\"linecolor\":\"white\",\"ticks\":\"\"}},\"coloraxis\":{\"colorbar\":{\"outlinewidth\":0,\"ticks\":\"\"}},\"colorscale\":{\"sequential\":[[0.0,\"#0d0887\"],[0.1111111111111111,\"#46039f\"],[0.2222222222222222,\"#7201a8\"],[0.3333333333333333,\"#9c179e\"],[0.4444444444444444,\"#bd3786\"],[0.5555555555555556,\"#d8576b\"],[0.6666666666666666,\"#ed7953\"],[0.7777777777777778,\"#fb9f3a\"],[0.8888888888888888,\"#fdca26\"],[1.0,\"#f0f921\"]],\"sequentialminus\":[[0.0,\"#0d0887\"],[0.1111111111111111,\"#46039f\"],[0.2222222222222222,\"#7201a8\"],[0.3333333333333333,\"#9c179e\"],[0.4444444444444444,\"#bd3786\"],[0.5555555555555556,\"#d8576b\"],[0.6666666666666666,\"#ed7953\"],[0.7777777777777778,\"#fb9f3a\"],[0.8888888888888888,\"#fdca26\"],[1.0,\"#f0f921\"]],\"diverging\":[[0,\"#8e0152\"],[0.1,\"#c51b7d\"],[0.2,\"#de77ae\"],[0.3,\"#f1b6da\"],[0.4,\"#fde0ef\"],[0.5,\"#f7f7f7\"],[0.6,\"#e6f5d0\"],[0.7,\"#b8e186\"],[0.8,\"#7fbc41\"],[0.9,\"#4d9221\"],[1,\"#276419\"]]},\"xaxis\":{\"gridcolor\":\"white\",\"linecolor\":\"white\",\"ticks\":\"\",\"title\":{\"standoff\":15},\"zerolinecolor\":\"white\",\"automargin\":true,\"zerolinewidth\":2},\"yaxis\":{\"gridcolor\":\"white\",\"linecolor\":\"white\",\"ticks\":\"\",\"title\":{\"standoff\":15},\"zerolinecolor\":\"white\",\"automargin\":true,\"zerolinewidth\":2},\"scene\":{\"xaxis\":{\"backgroundcolor\":\"#E5ECF6\",\"gridcolor\":\"white\",\"linecolor\":\"white\",\"showbackground\":true,\"ticks\":\"\",\"zerolinecolor\":\"white\",\"gridwidth\":2},\"yaxis\":{\"backgroundcolor\":\"#E5ECF6\",\"gridcolor\":\"white\",\"linecolor\":\"white\",\"showbackground\":true,\"ticks\":\"\",\"zerolinecolor\":\"white\",\"gridwidth\":2},\"zaxis\":{\"backgroundcolor\":\"#E5ECF6\",\"gridcolor\":\"white\",\"linecolor\":\"white\",\"showbackground\":true,\"ticks\":\"\",\"zerolinecolor\":\"white\",\"gridwidth\":2}},\"shapedefaults\":{\"line\":{\"color\":\"#2a3f5f\"}},\"annotationdefaults\":{\"arrowcolor\":\"#2a3f5f\",\"arrowhead\":0,\"arrowwidth\":1},\"geo\":{\"bgcolor\":\"white\",\"landcolor\":\"#E5ECF6\",\"subunitcolor\":\"white\",\"showland\":true,\"showlakes\":true,\"lakecolor\":\"white\"},\"title\":{\"x\":0.05},\"mapbox\":{\"style\":\"light\"}}},\"coloraxis\":{\"colorbar\":{\"title\":{\"text\":\"idunplug_station\"}},\"colorscale\":[[0.0,\"rgb(103,0,31)\"],[0.1,\"rgb(178,24,43)\"],[0.2,\"rgb(214,96,77)\"],[0.3,\"rgb(244,165,130)\"],[0.4,\"rgb(253,219,199)\"],[0.5,\"rgb(247,247,247)\"],[0.6,\"rgb(209,229,240)\"],[0.7,\"rgb(146,197,222)\"],[0.8,\"rgb(67,147,195)\"],[0.9,\"rgb(33,102,172)\"],[1.0,\"rgb(5,48,97)\"]]},\"legend\":{\"tracegroupgap\":0},\"title\":{\"text\":\"Distribuci\\u00f3n rutas m\\u00e1s concurridas\"},\"height\":800},                        {\"responsive\": true}                    ).then(function(){\n",
       "                            \n",
       "var gd = document.getElementById('8864b604-6fdc-4df6-982f-68193185b9b8');\n",
       "var x = new MutationObserver(function (mutations, observer) {{\n",
       "        var display = window.getComputedStyle(gd).display;\n",
       "        if (!display || display === 'none') {{\n",
       "            console.log([gd, 'removed!']);\n",
       "            Plotly.purge(gd);\n",
       "            observer.disconnect();\n",
       "        }}\n",
       "}});\n",
       "\n",
       "// Listen for the removal of the full notebook cells\n",
       "var notebookContainer = gd.closest('#notebook-container');\n",
       "if (notebookContainer) {{\n",
       "    x.observe(notebookContainer, {childList: true});\n",
       "}}\n",
       "\n",
       "// Listen for the clearing of the current output cell\n",
       "var outputEl = gd.closest('.output');\n",
       "if (outputEl) {{\n",
       "    x.observe(outputEl, {childList: true});\n",
       "}}\n",
       "\n",
       "                        })                };                });            </script>        </div>"
      ]
     },
     "metadata": {},
     "output_type": "display_data"
    }
   ],
   "source": [
    "fig = px.sunburst(\n",
    "    topCombinaciones,\n",
    "    path = [\"idunplug_station\", \"Distrito_Llegada\", \"idplug_station\"],\n",
    "    title = \"Distribución rutas más concurridas\", \n",
    "    color = \"idunplug_station\",\n",
    "    height=800,\n",
    "    values='count',\n",
    "    color_continuous_scale='RdBu',\n",
    ")\n",
    "fig.show()"
   ]
  }
 ],
 "metadata": {
  "kernelspec": {
   "display_name": "Python 3",
   "language": "python",
   "name": "python3"
  },
  "language_info": {
   "codemirror_mode": {
    "name": "ipython",
    "version": 3
   },
   "file_extension": ".py",
   "mimetype": "text/x-python",
   "name": "python",
   "nbconvert_exporter": "python",
   "pygments_lexer": "ipython3",
   "version": "3.8.5"
  }
 },
 "nbformat": 4,
 "nbformat_minor": 5
}
