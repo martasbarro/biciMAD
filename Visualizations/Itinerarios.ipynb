{
 "cells": [
  {
   "cell_type": "code",
   "execution_count": 71,
   "metadata": {},
   "outputs": [],
   "source": [
    "import pandas as pd \n",
    "import numpy as np \n",
    "from plotly.subplots import make_subplots\n",
    "import plotly.graph_objects as go\n",
    "import plotly.figure_factory as FF\n",
    "from wordcloud import WordCloud\n",
    "import plotly.express as px"
   ]
  },
  {
   "cell_type": "code",
   "execution_count": 300,
   "metadata": {},
   "outputs": [],
   "source": [
    "itinerarios= pd.read_parquet('../Data/Itinerarios/ItinerariosMerged.parquet')\n",
    "bases=pd.read_csv('../Data/bases_def.csv')\n"
   ]
  },
  {
   "cell_type": "code",
   "execution_count": 301,
   "metadata": {},
   "outputs": [
    {
     "data": {
      "text/plain": [
       "(1862981, 11)"
      ]
     },
     "execution_count": 301,
     "metadata": {},
     "output_type": "execute_result"
    }
   ],
   "source": [
    "itinerarios.shape"
   ]
  },
  {
   "cell_type": "code",
   "execution_count": 302,
   "metadata": {},
   "outputs": [
    {
     "data": {
      "text/html": [
       "<div>\n",
       "<style scoped>\n",
       "    .dataframe tbody tr th:only-of-type {\n",
       "        vertical-align: middle;\n",
       "    }\n",
       "\n",
       "    .dataframe tbody tr th {\n",
       "        vertical-align: top;\n",
       "    }\n",
       "\n",
       "    .dataframe thead th {\n",
       "        text-align: right;\n",
       "    }\n",
       "</style>\n",
       "<table border=\"1\" class=\"dataframe\">\n",
       "  <thead>\n",
       "    <tr style=\"text-align: right;\">\n",
       "      <th></th>\n",
       "      <th>_id</th>\n",
       "      <th>user_day_code</th>\n",
       "      <th>idplug_base</th>\n",
       "      <th>user_type</th>\n",
       "      <th>idunplug_base</th>\n",
       "      <th>travel_time</th>\n",
       "      <th>idunplug_station</th>\n",
       "      <th>ageRange</th>\n",
       "      <th>idplug_station</th>\n",
       "      <th>unplug_hourTime</th>\n",
       "      <th>...</th>\n",
       "      <th>Barrio_Salida</th>\n",
       "      <th>Número de Plazas_Salida</th>\n",
       "      <th>Latitud_Salida</th>\n",
       "      <th>Longitud_Salida</th>\n",
       "      <th>Número_Llegada</th>\n",
       "      <th>Distrito_Llegada</th>\n",
       "      <th>Barrio_Llegada</th>\n",
       "      <th>Número de Plazas_Llegada</th>\n",
       "      <th>Latitud_Llegada</th>\n",
       "      <th>Longitud_Llegada</th>\n",
       "    </tr>\n",
       "  </thead>\n",
       "  <tbody>\n",
       "    <tr>\n",
       "      <th>0</th>\n",
       "      <td>{'$oid': '5ee862cecc8c1e839b419387'}</td>\n",
       "      <td>509e6a72b7673f533912bf647d20df19305b848fbc1b89...</td>\n",
       "      <td>5</td>\n",
       "      <td>1</td>\n",
       "      <td>20</td>\n",
       "      <td>154</td>\n",
       "      <td>44</td>\n",
       "      <td>5</td>\n",
       "      <td>40</td>\n",
       "      <td>2019-07-01T00:00:00Z</td>\n",
       "      <td>...</td>\n",
       "      <td>01-02 EMBAJADORES</td>\n",
       "      <td>21.0</td>\n",
       "      <td>40.409816</td>\n",
       "      <td>-3.703914</td>\n",
       "      <td>40.0</td>\n",
       "      <td>01  CENTRO</td>\n",
       "      <td>01-02 EMBAJADORES</td>\n",
       "      <td>24.0</td>\n",
       "      <td>40.413787</td>\n",
       "      <td>-3.704746</td>\n",
       "    </tr>\n",
       "    <tr>\n",
       "      <th>1</th>\n",
       "      <td>{'$oid': '5ee862cecc8c1e839b41938c'}</td>\n",
       "      <td>90069a1194c3eb9e6faecaaf4eefb7209e890c0df5aeac...</td>\n",
       "      <td>8</td>\n",
       "      <td>1</td>\n",
       "      <td>17</td>\n",
       "      <td>184</td>\n",
       "      <td>57</td>\n",
       "      <td>4</td>\n",
       "      <td>129</td>\n",
       "      <td>2019-07-01T00:00:00Z</td>\n",
       "      <td>...</td>\n",
       "      <td>01-05 UNIVERSIDAD</td>\n",
       "      <td>24.0</td>\n",
       "      <td>40.429636</td>\n",
       "      <td>-3.712818</td>\n",
       "      <td>129.0</td>\n",
       "      <td>07  CHAMBERÍ</td>\n",
       "      <td>07-05 RÍOS ROSAS</td>\n",
       "      <td>24.0</td>\n",
       "      <td>40.438468</td>\n",
       "      <td>-3.698282</td>\n",
       "    </tr>\n",
       "    <tr>\n",
       "      <th>2</th>\n",
       "      <td>{'$oid': '5ee862cecc8c1e839b419394'}</td>\n",
       "      <td>b0ecaab6a35b7ea44d118f851f7fad5c2237e7dd51b337...</td>\n",
       "      <td>15</td>\n",
       "      <td>1</td>\n",
       "      <td>16</td>\n",
       "      <td>282</td>\n",
       "      <td>53</td>\n",
       "      <td>4</td>\n",
       "      <td>43</td>\n",
       "      <td>2019-07-01T00:00:00Z</td>\n",
       "      <td>...</td>\n",
       "      <td>01-02 EMBAJADORES</td>\n",
       "      <td>24.0</td>\n",
       "      <td>40.408280</td>\n",
       "      <td>-3.700730</td>\n",
       "      <td>43.0</td>\n",
       "      <td>01  CENTRO</td>\n",
       "      <td>01-02 EMBAJADORES</td>\n",
       "      <td>24.0</td>\n",
       "      <td>40.410089</td>\n",
       "      <td>-3.702545</td>\n",
       "    </tr>\n",
       "    <tr>\n",
       "      <th>3</th>\n",
       "      <td>{'$oid': '5ee862cecc8c1e839b41939e'}</td>\n",
       "      <td>5e1b8a8c4603ee8ac4f06aba12ff51e2c5dd105b6e5193...</td>\n",
       "      <td>18</td>\n",
       "      <td>1</td>\n",
       "      <td>18</td>\n",
       "      <td>388</td>\n",
       "      <td>56</td>\n",
       "      <td>0</td>\n",
       "      <td>13</td>\n",
       "      <td>2019-07-01T00:00:00Z</td>\n",
       "      <td>...</td>\n",
       "      <td>01-06 SOL</td>\n",
       "      <td>24.0</td>\n",
       "      <td>40.418484</td>\n",
       "      <td>-3.703288</td>\n",
       "      <td>13.0</td>\n",
       "      <td>01  CENTRO</td>\n",
       "      <td>01-05 UNIVERSIDAD</td>\n",
       "      <td>24.0</td>\n",
       "      <td>40.427365</td>\n",
       "      <td>-3.710473</td>\n",
       "    </tr>\n",
       "    <tr>\n",
       "      <th>4</th>\n",
       "      <td>{'$oid': '5ee862cecc8c1e839b4193a5'}</td>\n",
       "      <td>80974c4043db61721399c43f296ce1db4436c7f107f8fc...</td>\n",
       "      <td>1</td>\n",
       "      <td>1</td>\n",
       "      <td>20</td>\n",
       "      <td>254</td>\n",
       "      <td>105</td>\n",
       "      <td>0</td>\n",
       "      <td>75</td>\n",
       "      <td>2019-07-01T00:00:00Z</td>\n",
       "      <td>...</td>\n",
       "      <td>04-01 RECOLETOS</td>\n",
       "      <td>24.0</td>\n",
       "      <td>40.427068</td>\n",
       "      <td>-3.687474</td>\n",
       "      <td>75.0</td>\n",
       "      <td>03  RETIRO</td>\n",
       "      <td>03-05 JERÓNIMOS</td>\n",
       "      <td>24.0</td>\n",
       "      <td>40.408339</td>\n",
       "      <td>-3.678415</td>\n",
       "    </tr>\n",
       "  </tbody>\n",
       "</table>\n",
       "<p>5 rows × 23 columns</p>\n",
       "</div>"
      ],
      "text/plain": [
       "                                    _id  \\\n",
       "0  {'$oid': '5ee862cecc8c1e839b419387'}   \n",
       "1  {'$oid': '5ee862cecc8c1e839b41938c'}   \n",
       "2  {'$oid': '5ee862cecc8c1e839b419394'}   \n",
       "3  {'$oid': '5ee862cecc8c1e839b41939e'}   \n",
       "4  {'$oid': '5ee862cecc8c1e839b4193a5'}   \n",
       "\n",
       "                                       user_day_code  idplug_base  user_type  \\\n",
       "0  509e6a72b7673f533912bf647d20df19305b848fbc1b89...            5          1   \n",
       "1  90069a1194c3eb9e6faecaaf4eefb7209e890c0df5aeac...            8          1   \n",
       "2  b0ecaab6a35b7ea44d118f851f7fad5c2237e7dd51b337...           15          1   \n",
       "3  5e1b8a8c4603ee8ac4f06aba12ff51e2c5dd105b6e5193...           18          1   \n",
       "4  80974c4043db61721399c43f296ce1db4436c7f107f8fc...            1          1   \n",
       "\n",
       "   idunplug_base  travel_time  idunplug_station  ageRange  idplug_station  \\\n",
       "0             20          154                44         5              40   \n",
       "1             17          184                57         4             129   \n",
       "2             16          282                53         4              43   \n",
       "3             18          388                56         0              13   \n",
       "4             20          254               105         0              75   \n",
       "\n",
       "        unplug_hourTime  ...      Barrio_Salida  Número de Plazas_Salida  \\\n",
       "0  2019-07-01T00:00:00Z  ...  01-02 EMBAJADORES                     21.0   \n",
       "1  2019-07-01T00:00:00Z  ...  01-05 UNIVERSIDAD                     24.0   \n",
       "2  2019-07-01T00:00:00Z  ...  01-02 EMBAJADORES                     24.0   \n",
       "3  2019-07-01T00:00:00Z  ...          01-06 SOL                     24.0   \n",
       "4  2019-07-01T00:00:00Z  ...    04-01 RECOLETOS                     24.0   \n",
       "\n",
       "  Latitud_Salida Longitud_Salida  Número_Llegada  Distrito_Llegada  \\\n",
       "0      40.409816       -3.703914            40.0        01  CENTRO   \n",
       "1      40.429636       -3.712818           129.0      07  CHAMBERÍ   \n",
       "2      40.408280       -3.700730            43.0        01  CENTRO   \n",
       "3      40.418484       -3.703288            13.0        01  CENTRO   \n",
       "4      40.427068       -3.687474            75.0        03  RETIRO   \n",
       "\n",
       "      Barrio_Llegada  Número de Plazas_Llegada Latitud_Llegada  \\\n",
       "0  01-02 EMBAJADORES                      24.0       40.413787   \n",
       "1   07-05 RÍOS ROSAS                      24.0       40.438468   \n",
       "2  01-02 EMBAJADORES                      24.0       40.410089   \n",
       "3  01-05 UNIVERSIDAD                      24.0       40.427365   \n",
       "4    03-05 JERÓNIMOS                      24.0       40.408339   \n",
       "\n",
       "  Longitud_Llegada  \n",
       "0        -3.704746  \n",
       "1        -3.698282  \n",
       "2        -3.702545  \n",
       "3        -3.710473  \n",
       "4        -3.678415  \n",
       "\n",
       "[5 rows x 23 columns]"
      ]
     },
     "execution_count": 302,
     "metadata": {},
     "output_type": "execute_result"
    }
   ],
   "source": [
    "cols_bases=['Número', 'Distrito', 'Barrio','Número de Plazas', 'Latitud', 'Longitud']\n",
    "cols_salida=[palabra+'_Salida' for palabra in cols_bases]\n",
    "cols_llegada=[palabra+'_Llegada' for palabra in cols_bases]\n",
    "\n",
    "itinerarios_bases0=pd.merge(itinerarios, bases[cols_bases], how='left', left_on='idunplug_station', right_on='Número')\n",
    "itinerarios_bases0.rename(columns=dict(zip(cols_bases, cols_salida)), inplace=True)\n",
    "itinerarios_bases=pd.merge(itinerarios_bases0, bases[cols_bases], how='left', left_on='idplug_station', right_on='Número')\n",
    "itinerarios_bases.rename(columns=dict(zip(cols_bases, cols_llegada)), inplace=True)\n",
    "itinerarios_bases.head()"
   ]
  },
  {
   "cell_type": "code",
   "execution_count": 303,
   "metadata": {},
   "outputs": [
    {
     "data": {
      "text/plain": [
       "(1862981, 23)"
      ]
     },
     "execution_count": 303,
     "metadata": {},
     "output_type": "execute_result"
    }
   ],
   "source": [
    "itinerarios_bases.shape"
   ]
  },
  {
   "cell_type": "code",
   "execution_count": 304,
   "metadata": {},
   "outputs": [
    {
     "name": "stdout",
     "output_type": "stream",
     "text": [
      "-64-\n",
      "-21-\n",
      "-66-\n",
      "-2008-\n"
     ]
    }
   ],
   "source": [
    "a=itinerarios_bases[itinerarios_bases['Número_Salida'].isna()].idunplug_station.value_counts()\n",
    "for i in a.index: \n",
    "    print(\"-\"+str(i)+\"-\")"
   ]
  },
  {
   "cell_type": "code",
   "execution_count": 305,
   "metadata": {},
   "outputs": [
    {
     "data": {
      "text/plain": [
       "_id                         0\n",
       "user_day_code               0\n",
       "idplug_base                 0\n",
       "user_type                   0\n",
       "idunplug_base               0\n",
       "travel_time                 0\n",
       "idunplug_station            0\n",
       "ageRange                    0\n",
       "idplug_station              0\n",
       "unplug_hourTime             0\n",
       "zip_code                    0\n",
       "Número_Salida               0\n",
       "Distrito_Salida             0\n",
       "Barrio_Salida               0\n",
       "Número de Plazas_Salida     0\n",
       "Latitud_Salida              0\n",
       "Longitud_Salida             0\n",
       "Número_Llegada              0\n",
       "Distrito_Llegada            0\n",
       "Barrio_Llegada              0\n",
       "Número de Plazas_Llegada    0\n",
       "Latitud_Llegada             0\n",
       "Longitud_Llegada            0\n",
       "dtype: int64"
      ]
     },
     "execution_count": 305,
     "metadata": {},
     "output_type": "execute_result"
    }
   ],
   "source": [
    "itinerarios_bases.drop(itinerarios_bases[itinerarios_bases['Número_Salida'].isna()].index, inplace=True)\n",
    "itinerarios_bases.drop(itinerarios_bases[itinerarios_bases['Número_Llegada'].isna()].index, inplace=True)\n",
    "\n",
    "itinerarios_bases.isna().sum()\n"
   ]
  },
  {
   "cell_type": "code",
   "execution_count": 306,
   "metadata": {},
   "outputs": [],
   "source": [
    "itinerarios['idplug_station']=itinerarios['idplug_station'].astype('str')\n",
    "itinerarios['idunplug_station']=itinerarios['idunplug_station'].astype('str')\n",
    "\n",
    "itinerarios['Origen_destino']=itinerarios.apply(lambda x: x.idunplug_station+'-'+x.idplug_station, axis=1)\n"
   ]
  },
  {
   "cell_type": "code",
   "execution_count": 308,
   "metadata": {},
   "outputs": [
    {
     "data": {
      "text/html": [
       "<div>\n",
       "<style scoped>\n",
       "    .dataframe tbody tr th:only-of-type {\n",
       "        vertical-align: middle;\n",
       "    }\n",
       "\n",
       "    .dataframe tbody tr th {\n",
       "        vertical-align: top;\n",
       "    }\n",
       "\n",
       "    .dataframe thead th {\n",
       "        text-align: right;\n",
       "    }\n",
       "</style>\n",
       "<table border=\"1\" class=\"dataframe\">\n",
       "  <thead>\n",
       "    <tr style=\"text-align: right;\">\n",
       "      <th></th>\n",
       "      <th>_id</th>\n",
       "      <th>user_day_code</th>\n",
       "      <th>idplug_base</th>\n",
       "      <th>user_type</th>\n",
       "      <th>idunplug_base</th>\n",
       "      <th>travel_time</th>\n",
       "      <th>idunplug_station</th>\n",
       "      <th>ageRange</th>\n",
       "      <th>idplug_station</th>\n",
       "      <th>unplug_hourTime</th>\n",
       "      <th>zip_code</th>\n",
       "      <th>Origen_destino</th>\n",
       "    </tr>\n",
       "  </thead>\n",
       "  <tbody>\n",
       "    <tr>\n",
       "      <th>0</th>\n",
       "      <td>{'$oid': '5ee862cecc8c1e839b419387'}</td>\n",
       "      <td>509e6a72b7673f533912bf647d20df19305b848fbc1b89...</td>\n",
       "      <td>5</td>\n",
       "      <td>1</td>\n",
       "      <td>20</td>\n",
       "      <td>154</td>\n",
       "      <td>44</td>\n",
       "      <td>5</td>\n",
       "      <td>40</td>\n",
       "      <td>2019-07-01T00:00:00Z</td>\n",
       "      <td>28007</td>\n",
       "      <td>44-40</td>\n",
       "    </tr>\n",
       "    <tr>\n",
       "      <th>1</th>\n",
       "      <td>{'$oid': '5ee862cecc8c1e839b41938c'}</td>\n",
       "      <td>90069a1194c3eb9e6faecaaf4eefb7209e890c0df5aeac...</td>\n",
       "      <td>8</td>\n",
       "      <td>1</td>\n",
       "      <td>17</td>\n",
       "      <td>184</td>\n",
       "      <td>57</td>\n",
       "      <td>4</td>\n",
       "      <td>129</td>\n",
       "      <td>2019-07-01T00:00:00Z</td>\n",
       "      <td>28045</td>\n",
       "      <td>57-129</td>\n",
       "    </tr>\n",
       "    <tr>\n",
       "      <th>2</th>\n",
       "      <td>{'$oid': '5ee862cecc8c1e839b419394'}</td>\n",
       "      <td>b0ecaab6a35b7ea44d118f851f7fad5c2237e7dd51b337...</td>\n",
       "      <td>15</td>\n",
       "      <td>1</td>\n",
       "      <td>16</td>\n",
       "      <td>282</td>\n",
       "      <td>53</td>\n",
       "      <td>4</td>\n",
       "      <td>43</td>\n",
       "      <td>2019-07-01T00:00:00Z</td>\n",
       "      <td></td>\n",
       "      <td>53-43</td>\n",
       "    </tr>\n",
       "    <tr>\n",
       "      <th>3</th>\n",
       "      <td>{'$oid': '5ee862cecc8c1e839b41939e'}</td>\n",
       "      <td>5e1b8a8c4603ee8ac4f06aba12ff51e2c5dd105b6e5193...</td>\n",
       "      <td>18</td>\n",
       "      <td>1</td>\n",
       "      <td>18</td>\n",
       "      <td>388</td>\n",
       "      <td>56</td>\n",
       "      <td>0</td>\n",
       "      <td>13</td>\n",
       "      <td>2019-07-01T00:00:00Z</td>\n",
       "      <td></td>\n",
       "      <td>56-13</td>\n",
       "    </tr>\n",
       "    <tr>\n",
       "      <th>4</th>\n",
       "      <td>{'$oid': '5ee862cecc8c1e839b4193a5'}</td>\n",
       "      <td>80974c4043db61721399c43f296ce1db4436c7f107f8fc...</td>\n",
       "      <td>1</td>\n",
       "      <td>1</td>\n",
       "      <td>20</td>\n",
       "      <td>254</td>\n",
       "      <td>105</td>\n",
       "      <td>0</td>\n",
       "      <td>75</td>\n",
       "      <td>2019-07-01T00:00:00Z</td>\n",
       "      <td></td>\n",
       "      <td>105-75</td>\n",
       "    </tr>\n",
       "  </tbody>\n",
       "</table>\n",
       "</div>"
      ],
      "text/plain": [
       "                                    _id  \\\n",
       "0  {'$oid': '5ee862cecc8c1e839b419387'}   \n",
       "1  {'$oid': '5ee862cecc8c1e839b41938c'}   \n",
       "2  {'$oid': '5ee862cecc8c1e839b419394'}   \n",
       "3  {'$oid': '5ee862cecc8c1e839b41939e'}   \n",
       "4  {'$oid': '5ee862cecc8c1e839b4193a5'}   \n",
       "\n",
       "                                       user_day_code  idplug_base  user_type  \\\n",
       "0  509e6a72b7673f533912bf647d20df19305b848fbc1b89...            5          1   \n",
       "1  90069a1194c3eb9e6faecaaf4eefb7209e890c0df5aeac...            8          1   \n",
       "2  b0ecaab6a35b7ea44d118f851f7fad5c2237e7dd51b337...           15          1   \n",
       "3  5e1b8a8c4603ee8ac4f06aba12ff51e2c5dd105b6e5193...           18          1   \n",
       "4  80974c4043db61721399c43f296ce1db4436c7f107f8fc...            1          1   \n",
       "\n",
       "   idunplug_base  travel_time idunplug_station  ageRange idplug_station  \\\n",
       "0             20          154               44         5             40   \n",
       "1             17          184               57         4            129   \n",
       "2             16          282               53         4             43   \n",
       "3             18          388               56         0             13   \n",
       "4             20          254              105         0             75   \n",
       "\n",
       "        unplug_hourTime zip_code Origen_destino  \n",
       "0  2019-07-01T00:00:00Z    28007          44-40  \n",
       "1  2019-07-01T00:00:00Z    28045         57-129  \n",
       "2  2019-07-01T00:00:00Z                   53-43  \n",
       "3  2019-07-01T00:00:00Z                   56-13  \n",
       "4  2019-07-01T00:00:00Z                  105-75  "
      ]
     },
     "execution_count": 308,
     "metadata": {},
     "output_type": "execute_result"
    }
   ],
   "source": [
    "itinerarios.head()"
   ]
  },
  {
   "cell_type": "code",
   "execution_count": 309,
   "metadata": {},
   "outputs": [
    {
     "data": {
      "text/plain": [
       "213"
      ]
     },
     "execution_count": 309,
     "metadata": {},
     "output_type": "execute_result"
    }
   ],
   "source": [
    "len(itinerarios['idplug_station'].unique())\n"
   ]
  },
  {
   "cell_type": "code",
   "execution_count": 310,
   "metadata": {},
   "outputs": [
    {
     "data": {
      "text/html": [
       "<div>\n",
       "<style scoped>\n",
       "    .dataframe tbody tr th:only-of-type {\n",
       "        vertical-align: middle;\n",
       "    }\n",
       "\n",
       "    .dataframe tbody tr th {\n",
       "        vertical-align: top;\n",
       "    }\n",
       "\n",
       "    .dataframe thead th {\n",
       "        text-align: right;\n",
       "    }\n",
       "</style>\n",
       "<table border=\"1\" class=\"dataframe\">\n",
       "  <thead>\n",
       "    <tr style=\"text-align: right;\">\n",
       "      <th></th>\n",
       "      <th>count</th>\n",
       "      <th>mean</th>\n",
       "      <th>max</th>\n",
       "      <th>min</th>\n",
       "    </tr>\n",
       "    <tr>\n",
       "      <th>Origen_destino</th>\n",
       "      <th></th>\n",
       "      <th></th>\n",
       "      <th></th>\n",
       "      <th></th>\n",
       "    </tr>\n",
       "  </thead>\n",
       "  <tbody>\n",
       "    <tr>\n",
       "      <th>9-149</th>\n",
       "      <td>1163</td>\n",
       "      <td>782.808255</td>\n",
       "      <td>21041</td>\n",
       "      <td>357</td>\n",
       "    </tr>\n",
       "    <tr>\n",
       "      <th>132-132</th>\n",
       "      <td>1162</td>\n",
       "      <td>2726.962995</td>\n",
       "      <td>19879</td>\n",
       "      <td>2</td>\n",
       "    </tr>\n",
       "    <tr>\n",
       "      <th>6-6</th>\n",
       "      <td>1133</td>\n",
       "      <td>2091.162401</td>\n",
       "      <td>21326</td>\n",
       "      <td>3</td>\n",
       "    </tr>\n",
       "    <tr>\n",
       "      <th>64-64</th>\n",
       "      <td>1101</td>\n",
       "      <td>2848.142598</td>\n",
       "      <td>18730</td>\n",
       "      <td>2</td>\n",
       "    </tr>\n",
       "    <tr>\n",
       "      <th>135-135</th>\n",
       "      <td>1057</td>\n",
       "      <td>2281.262062</td>\n",
       "      <td>41727</td>\n",
       "      <td>2</td>\n",
       "    </tr>\n",
       "    <tr>\n",
       "      <th>...</th>\n",
       "      <td>...</td>\n",
       "      <td>...</td>\n",
       "      <td>...</td>\n",
       "      <td>...</td>\n",
       "    </tr>\n",
       "    <tr>\n",
       "      <th>156-206</th>\n",
       "      <td>1</td>\n",
       "      <td>439.000000</td>\n",
       "      <td>439</td>\n",
       "      <td>439</td>\n",
       "    </tr>\n",
       "    <tr>\n",
       "      <th>127-117</th>\n",
       "      <td>1</td>\n",
       "      <td>1355.000000</td>\n",
       "      <td>1355</td>\n",
       "      <td>1355</td>\n",
       "    </tr>\n",
       "    <tr>\n",
       "      <th>205-117</th>\n",
       "      <td>1</td>\n",
       "      <td>1446.000000</td>\n",
       "      <td>1446</td>\n",
       "      <td>1446</td>\n",
       "    </tr>\n",
       "    <tr>\n",
       "      <th>127-109</th>\n",
       "      <td>1</td>\n",
       "      <td>654.000000</td>\n",
       "      <td>654</td>\n",
       "      <td>654</td>\n",
       "    </tr>\n",
       "    <tr>\n",
       "      <th>203-109</th>\n",
       "      <td>1</td>\n",
       "      <td>753.000000</td>\n",
       "      <td>753</td>\n",
       "      <td>753</td>\n",
       "    </tr>\n",
       "  </tbody>\n",
       "</table>\n",
       "<p>44070 rows × 4 columns</p>\n",
       "</div>"
      ],
      "text/plain": [
       "                count         mean    max   min\n",
       "Origen_destino                                 \n",
       "9-149            1163   782.808255  21041   357\n",
       "132-132          1162  2726.962995  19879     2\n",
       "6-6              1133  2091.162401  21326     3\n",
       "64-64            1101  2848.142598  18730     2\n",
       "135-135          1057  2281.262062  41727     2\n",
       "...               ...          ...    ...   ...\n",
       "156-206             1   439.000000    439   439\n",
       "127-117             1  1355.000000   1355  1355\n",
       "205-117             1  1446.000000   1446  1446\n",
       "127-109             1   654.000000    654   654\n",
       "203-109             1   753.000000    753   753\n",
       "\n",
       "[44070 rows x 4 columns]"
      ]
     },
     "execution_count": 310,
     "metadata": {},
     "output_type": "execute_result"
    }
   ],
   "source": [
    "itinerarios.groupby('Origen_destino')['travel_time'].agg(['count', 'mean', 'max', 'min']).sort_values('count', ascending=False)"
   ]
  },
  {
   "cell_type": "code",
   "execution_count": 311,
   "metadata": {},
   "outputs": [
    {
     "data": {
      "text/html": [
       "<div>\n",
       "<style scoped>\n",
       "    .dataframe tbody tr th:only-of-type {\n",
       "        vertical-align: middle;\n",
       "    }\n",
       "\n",
       "    .dataframe tbody tr th {\n",
       "        vertical-align: top;\n",
       "    }\n",
       "\n",
       "    .dataframe thead th {\n",
       "        text-align: right;\n",
       "    }\n",
       "</style>\n",
       "<table border=\"1\" class=\"dataframe\">\n",
       "  <thead>\n",
       "    <tr style=\"text-align: right;\">\n",
       "      <th></th>\n",
       "      <th>_id</th>\n",
       "      <th>user_day_code</th>\n",
       "      <th>idplug_base</th>\n",
       "      <th>user_type</th>\n",
       "      <th>idunplug_base</th>\n",
       "      <th>travel_time</th>\n",
       "      <th>idunplug_station</th>\n",
       "      <th>ageRange</th>\n",
       "      <th>idplug_station</th>\n",
       "      <th>unplug_hourTime</th>\n",
       "      <th>...</th>\n",
       "      <th>Barrio_Salida</th>\n",
       "      <th>Número de Plazas_Salida</th>\n",
       "      <th>Latitud_Salida</th>\n",
       "      <th>Longitud_Salida</th>\n",
       "      <th>Número_Llegada</th>\n",
       "      <th>Distrito_Llegada</th>\n",
       "      <th>Barrio_Llegada</th>\n",
       "      <th>Número de Plazas_Llegada</th>\n",
       "      <th>Latitud_Llegada</th>\n",
       "      <th>Longitud_Llegada</th>\n",
       "    </tr>\n",
       "  </thead>\n",
       "  <tbody>\n",
       "    <tr>\n",
       "      <th>0</th>\n",
       "      <td>{'$oid': '5ee862cecc8c1e839b419387'}</td>\n",
       "      <td>509e6a72b7673f533912bf647d20df19305b848fbc1b89...</td>\n",
       "      <td>5</td>\n",
       "      <td>1</td>\n",
       "      <td>20</td>\n",
       "      <td>154</td>\n",
       "      <td>44</td>\n",
       "      <td>5</td>\n",
       "      <td>40</td>\n",
       "      <td>2019-07-01T00:00:00Z</td>\n",
       "      <td>...</td>\n",
       "      <td>01-02 EMBAJADORES</td>\n",
       "      <td>21.0</td>\n",
       "      <td>40.409816</td>\n",
       "      <td>-3.703914</td>\n",
       "      <td>40.0</td>\n",
       "      <td>01 CENTRO</td>\n",
       "      <td>01-02 EMBAJADORES</td>\n",
       "      <td>24.0</td>\n",
       "      <td>40.413787</td>\n",
       "      <td>-3.704746</td>\n",
       "    </tr>\n",
       "    <tr>\n",
       "      <th>1</th>\n",
       "      <td>{'$oid': '5ee862cecc8c1e839b41938c'}</td>\n",
       "      <td>90069a1194c3eb9e6faecaaf4eefb7209e890c0df5aeac...</td>\n",
       "      <td>8</td>\n",
       "      <td>1</td>\n",
       "      <td>17</td>\n",
       "      <td>184</td>\n",
       "      <td>57</td>\n",
       "      <td>4</td>\n",
       "      <td>129</td>\n",
       "      <td>2019-07-01T00:00:00Z</td>\n",
       "      <td>...</td>\n",
       "      <td>01-05 UNIVERSIDAD</td>\n",
       "      <td>24.0</td>\n",
       "      <td>40.429636</td>\n",
       "      <td>-3.712818</td>\n",
       "      <td>129.0</td>\n",
       "      <td>07 CHAMBERÍ</td>\n",
       "      <td>07-05 RÍOS ROSAS</td>\n",
       "      <td>24.0</td>\n",
       "      <td>40.438468</td>\n",
       "      <td>-3.698282</td>\n",
       "    </tr>\n",
       "    <tr>\n",
       "      <th>2</th>\n",
       "      <td>{'$oid': '5ee862cecc8c1e839b419394'}</td>\n",
       "      <td>b0ecaab6a35b7ea44d118f851f7fad5c2237e7dd51b337...</td>\n",
       "      <td>15</td>\n",
       "      <td>1</td>\n",
       "      <td>16</td>\n",
       "      <td>282</td>\n",
       "      <td>53</td>\n",
       "      <td>4</td>\n",
       "      <td>43</td>\n",
       "      <td>2019-07-01T00:00:00Z</td>\n",
       "      <td>...</td>\n",
       "      <td>01-02 EMBAJADORES</td>\n",
       "      <td>24.0</td>\n",
       "      <td>40.408280</td>\n",
       "      <td>-3.700730</td>\n",
       "      <td>43.0</td>\n",
       "      <td>01 CENTRO</td>\n",
       "      <td>01-02 EMBAJADORES</td>\n",
       "      <td>24.0</td>\n",
       "      <td>40.410089</td>\n",
       "      <td>-3.702545</td>\n",
       "    </tr>\n",
       "    <tr>\n",
       "      <th>3</th>\n",
       "      <td>{'$oid': '5ee862cecc8c1e839b41939e'}</td>\n",
       "      <td>5e1b8a8c4603ee8ac4f06aba12ff51e2c5dd105b6e5193...</td>\n",
       "      <td>18</td>\n",
       "      <td>1</td>\n",
       "      <td>18</td>\n",
       "      <td>388</td>\n",
       "      <td>56</td>\n",
       "      <td>0</td>\n",
       "      <td>13</td>\n",
       "      <td>2019-07-01T00:00:00Z</td>\n",
       "      <td>...</td>\n",
       "      <td>01-06 SOL</td>\n",
       "      <td>24.0</td>\n",
       "      <td>40.418484</td>\n",
       "      <td>-3.703288</td>\n",
       "      <td>13.0</td>\n",
       "      <td>01 CENTRO</td>\n",
       "      <td>01-05 UNIVERSIDAD</td>\n",
       "      <td>24.0</td>\n",
       "      <td>40.427365</td>\n",
       "      <td>-3.710473</td>\n",
       "    </tr>\n",
       "    <tr>\n",
       "      <th>4</th>\n",
       "      <td>{'$oid': '5ee862cecc8c1e839b4193a5'}</td>\n",
       "      <td>80974c4043db61721399c43f296ce1db4436c7f107f8fc...</td>\n",
       "      <td>1</td>\n",
       "      <td>1</td>\n",
       "      <td>20</td>\n",
       "      <td>254</td>\n",
       "      <td>105</td>\n",
       "      <td>0</td>\n",
       "      <td>75</td>\n",
       "      <td>2019-07-01T00:00:00Z</td>\n",
       "      <td>...</td>\n",
       "      <td>04-01 RECOLETOS</td>\n",
       "      <td>24.0</td>\n",
       "      <td>40.427068</td>\n",
       "      <td>-3.687474</td>\n",
       "      <td>75.0</td>\n",
       "      <td>03 RETIRO</td>\n",
       "      <td>03-05 JERÓNIMOS</td>\n",
       "      <td>24.0</td>\n",
       "      <td>40.408339</td>\n",
       "      <td>-3.678415</td>\n",
       "    </tr>\n",
       "  </tbody>\n",
       "</table>\n",
       "<p>5 rows × 23 columns</p>\n",
       "</div>"
      ],
      "text/plain": [
       "                                    _id  \\\n",
       "0  {'$oid': '5ee862cecc8c1e839b419387'}   \n",
       "1  {'$oid': '5ee862cecc8c1e839b41938c'}   \n",
       "2  {'$oid': '5ee862cecc8c1e839b419394'}   \n",
       "3  {'$oid': '5ee862cecc8c1e839b41939e'}   \n",
       "4  {'$oid': '5ee862cecc8c1e839b4193a5'}   \n",
       "\n",
       "                                       user_day_code  idplug_base  user_type  \\\n",
       "0  509e6a72b7673f533912bf647d20df19305b848fbc1b89...            5          1   \n",
       "1  90069a1194c3eb9e6faecaaf4eefb7209e890c0df5aeac...            8          1   \n",
       "2  b0ecaab6a35b7ea44d118f851f7fad5c2237e7dd51b337...           15          1   \n",
       "3  5e1b8a8c4603ee8ac4f06aba12ff51e2c5dd105b6e5193...           18          1   \n",
       "4  80974c4043db61721399c43f296ce1db4436c7f107f8fc...            1          1   \n",
       "\n",
       "   idunplug_base  travel_time  idunplug_station  ageRange  idplug_station  \\\n",
       "0             20          154                44         5              40   \n",
       "1             17          184                57         4             129   \n",
       "2             16          282                53         4              43   \n",
       "3             18          388                56         0              13   \n",
       "4             20          254               105         0              75   \n",
       "\n",
       "        unplug_hourTime  ...      Barrio_Salida  Número de Plazas_Salida  \\\n",
       "0  2019-07-01T00:00:00Z  ...  01-02 EMBAJADORES                     21.0   \n",
       "1  2019-07-01T00:00:00Z  ...  01-05 UNIVERSIDAD                     24.0   \n",
       "2  2019-07-01T00:00:00Z  ...  01-02 EMBAJADORES                     24.0   \n",
       "3  2019-07-01T00:00:00Z  ...          01-06 SOL                     24.0   \n",
       "4  2019-07-01T00:00:00Z  ...    04-01 RECOLETOS                     24.0   \n",
       "\n",
       "  Latitud_Salida Longitud_Salida  Número_Llegada  Distrito_Llegada  \\\n",
       "0      40.409816       -3.703914            40.0         01 CENTRO   \n",
       "1      40.429636       -3.712818           129.0       07 CHAMBERÍ   \n",
       "2      40.408280       -3.700730            43.0         01 CENTRO   \n",
       "3      40.418484       -3.703288            13.0         01 CENTRO   \n",
       "4      40.427068       -3.687474            75.0         03 RETIRO   \n",
       "\n",
       "      Barrio_Llegada  Número de Plazas_Llegada Latitud_Llegada  \\\n",
       "0  01-02 EMBAJADORES                      24.0       40.413787   \n",
       "1   07-05 RÍOS ROSAS                      24.0       40.438468   \n",
       "2  01-02 EMBAJADORES                      24.0       40.410089   \n",
       "3  01-05 UNIVERSIDAD                      24.0       40.427365   \n",
       "4    03-05 JERÓNIMOS                      24.0       40.408339   \n",
       "\n",
       "  Longitud_Llegada  \n",
       "0        -3.704746  \n",
       "1        -3.698282  \n",
       "2        -3.702545  \n",
       "3        -3.710473  \n",
       "4        -3.678415  \n",
       "\n",
       "[5 rows x 23 columns]"
      ]
     },
     "execution_count": 311,
     "metadata": {},
     "output_type": "execute_result"
    }
   ],
   "source": [
    "itinerarios_bases.head()"
   ]
  },
  {
   "cell_type": "markdown",
   "metadata": {},
   "source": [
    "## WordCloud"
   ]
  },
  {
   "cell_type": "code",
   "execution_count": 312,
   "metadata": {},
   "outputs": [
    {
     "data": {
      "text/plain": [
       "array(['01 CENTRO', '07 CHAMBERÍ', '03 RETIRO', '05 CHAMARTÍN',\n",
       "       '04 SALAMANCA', '02 ARGANZUELA', '06 TETUÁN', '09 MONCLOA-ARAVACA',\n",
       "       '12 USERA', '13 PUENTE DE VALLECAS', '15 CIUDAD LINEAL',\n",
       "       '14 MORATALAZ', '11 CARABANCHEL', '10 LATINA',\n",
       "       '08 FUENCARRAL-EL PARDO'], dtype=object)"
      ]
     },
     "execution_count": 312,
     "metadata": {},
     "output_type": "execute_result"
    }
   ],
   "source": [
    "itinerarios_bases=itinerarios_bases.astype({'Distrito_Llegada': str})\n",
    "itinerarios_bases['Distrito_Llegada']=itinerarios_bases['Distrito_Llegada'].apply(lambda x: x.replace('\\xa0', ''))\n",
    "itinerarios_bases['Distrito_Llegada'].unique()"
   ]
  },
  {
   "cell_type": "code",
   "execution_count": 313,
   "metadata": {},
   "outputs": [
    {
     "data": {
      "text/plain": [
       "Counter({' CENTRO': 569400,\n",
       "         ' CHAMBERÍ': 228602,\n",
       "         ' RETIRO': 230053,\n",
       "         ' CHAMARTÍN': 142026,\n",
       "         ' SALAMANCA': 289072,\n",
       "         ' ARGANZUELA': 232091,\n",
       "         ' TETUÁN': 77390,\n",
       "         ' MONCLOA-ARAVACA': 96747,\n",
       "         ' USERA': 9206,\n",
       "         ' PUENTE DE VALLECAS': 7861,\n",
       "         ' CIUDAD LINEAL': 19925,\n",
       "         ' MORATALAZ': 11036,\n",
       "         ' CARABANCHEL': 6362,\n",
       "         ' LATINA': 2734,\n",
       "         ' FUENCARRAL-EL PARDO': 2677})"
      ]
     },
     "execution_count": 313,
     "metadata": {},
     "output_type": "execute_result"
    }
   ],
   "source": [
    "from collections import Counter \n",
    "a=Counter(barrios_llegada_wordcloud)\n",
    "a"
   ]
  },
  {
   "cell_type": "code",
   "execution_count": 314,
   "metadata": {},
   "outputs": [
    {
     "data": {
      "application/vnd.plotly.v1+json": {
       "config": {
        "plotlyServerURL": "https://plot.ly"
       },
       "data": [
        {
         "hovertemplate": "x: %{x}<br>y: %{y}<br>color: [%{z[0]}, %{z[1]}, %{z[2]}]<extra></extra>",
         "name": "0",
         "source": "data:image/png;base64,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",
         "type": "image",
         "xaxis": "x",
         "yaxis": "y"
        }
       ],
       "layout": {
        "height": 750,
        "margin": {
         "t": 60
        },
        "template": {
         "data": {
          "bar": [
           {
            "error_x": {
             "color": "#2a3f5f"
            },
            "error_y": {
             "color": "#2a3f5f"
            },
            "marker": {
             "line": {
              "color": "#E5ECF6",
              "width": 0.5
             },
             "pattern": {
              "fillmode": "overlay",
              "size": 10,
              "solidity": 0.2
             }
            },
            "type": "bar"
           }
          ],
          "barpolar": [
           {
            "marker": {
             "line": {
              "color": "#E5ECF6",
              "width": 0.5
             },
             "pattern": {
              "fillmode": "overlay",
              "size": 10,
              "solidity": 0.2
             }
            },
            "type": "barpolar"
           }
          ],
          "carpet": [
           {
            "aaxis": {
             "endlinecolor": "#2a3f5f",
             "gridcolor": "white",
             "linecolor": "white",
             "minorgridcolor": "white",
             "startlinecolor": "#2a3f5f"
            },
            "baxis": {
             "endlinecolor": "#2a3f5f",
             "gridcolor": "white",
             "linecolor": "white",
             "minorgridcolor": "white",
             "startlinecolor": "#2a3f5f"
            },
            "type": "carpet"
           }
          ],
          "choropleth": [
           {
            "colorbar": {
             "outlinewidth": 0,
             "ticks": ""
            },
            "type": "choropleth"
           }
          ],
          "contour": [
           {
            "colorbar": {
             "outlinewidth": 0,
             "ticks": ""
            },
            "colorscale": [
             [
              0,
              "#0d0887"
             ],
             [
              0.1111111111111111,
              "#46039f"
             ],
             [
              0.2222222222222222,
              "#7201a8"
             ],
             [
              0.3333333333333333,
              "#9c179e"
             ],
             [
              0.4444444444444444,
              "#bd3786"
             ],
             [
              0.5555555555555556,
              "#d8576b"
             ],
             [
              0.6666666666666666,
              "#ed7953"
             ],
             [
              0.7777777777777778,
              "#fb9f3a"
             ],
             [
              0.8888888888888888,
              "#fdca26"
             ],
             [
              1,
              "#f0f921"
             ]
            ],
            "type": "contour"
           }
          ],
          "contourcarpet": [
           {
            "colorbar": {
             "outlinewidth": 0,
             "ticks": ""
            },
            "type": "contourcarpet"
           }
          ],
          "heatmap": [
           {
            "colorbar": {
             "outlinewidth": 0,
             "ticks": ""
            },
            "colorscale": [
             [
              0,
              "#0d0887"
             ],
             [
              0.1111111111111111,
              "#46039f"
             ],
             [
              0.2222222222222222,
              "#7201a8"
             ],
             [
              0.3333333333333333,
              "#9c179e"
             ],
             [
              0.4444444444444444,
              "#bd3786"
             ],
             [
              0.5555555555555556,
              "#d8576b"
             ],
             [
              0.6666666666666666,
              "#ed7953"
             ],
             [
              0.7777777777777778,
              "#fb9f3a"
             ],
             [
              0.8888888888888888,
              "#fdca26"
             ],
             [
              1,
              "#f0f921"
             ]
            ],
            "type": "heatmap"
           }
          ],
          "heatmapgl": [
           {
            "colorbar": {
             "outlinewidth": 0,
             "ticks": ""
            },
            "colorscale": [
             [
              0,
              "#0d0887"
             ],
             [
              0.1111111111111111,
              "#46039f"
             ],
             [
              0.2222222222222222,
              "#7201a8"
             ],
             [
              0.3333333333333333,
              "#9c179e"
             ],
             [
              0.4444444444444444,
              "#bd3786"
             ],
             [
              0.5555555555555556,
              "#d8576b"
             ],
             [
              0.6666666666666666,
              "#ed7953"
             ],
             [
              0.7777777777777778,
              "#fb9f3a"
             ],
             [
              0.8888888888888888,
              "#fdca26"
             ],
             [
              1,
              "#f0f921"
             ]
            ],
            "type": "heatmapgl"
           }
          ],
          "histogram": [
           {
            "marker": {
             "pattern": {
              "fillmode": "overlay",
              "size": 10,
              "solidity": 0.2
             }
            },
            "type": "histogram"
           }
          ],
          "histogram2d": [
           {
            "colorbar": {
             "outlinewidth": 0,
             "ticks": ""
            },
            "colorscale": [
             [
              0,
              "#0d0887"
             ],
             [
              0.1111111111111111,
              "#46039f"
             ],
             [
              0.2222222222222222,
              "#7201a8"
             ],
             [
              0.3333333333333333,
              "#9c179e"
             ],
             [
              0.4444444444444444,
              "#bd3786"
             ],
             [
              0.5555555555555556,
              "#d8576b"
             ],
             [
              0.6666666666666666,
              "#ed7953"
             ],
             [
              0.7777777777777778,
              "#fb9f3a"
             ],
             [
              0.8888888888888888,
              "#fdca26"
             ],
             [
              1,
              "#f0f921"
             ]
            ],
            "type": "histogram2d"
           }
          ],
          "histogram2dcontour": [
           {
            "colorbar": {
             "outlinewidth": 0,
             "ticks": ""
            },
            "colorscale": [
             [
              0,
              "#0d0887"
             ],
             [
              0.1111111111111111,
              "#46039f"
             ],
             [
              0.2222222222222222,
              "#7201a8"
             ],
             [
              0.3333333333333333,
              "#9c179e"
             ],
             [
              0.4444444444444444,
              "#bd3786"
             ],
             [
              0.5555555555555556,
              "#d8576b"
             ],
             [
              0.6666666666666666,
              "#ed7953"
             ],
             [
              0.7777777777777778,
              "#fb9f3a"
             ],
             [
              0.8888888888888888,
              "#fdca26"
             ],
             [
              1,
              "#f0f921"
             ]
            ],
            "type": "histogram2dcontour"
           }
          ],
          "mesh3d": [
           {
            "colorbar": {
             "outlinewidth": 0,
             "ticks": ""
            },
            "type": "mesh3d"
           }
          ],
          "parcoords": [
           {
            "line": {
             "colorbar": {
              "outlinewidth": 0,
              "ticks": ""
             }
            },
            "type": "parcoords"
           }
          ],
          "pie": [
           {
            "automargin": true,
            "type": "pie"
           }
          ],
          "scatter": [
           {
            "marker": {
             "colorbar": {
              "outlinewidth": 0,
              "ticks": ""
             }
            },
            "type": "scatter"
           }
          ],
          "scatter3d": [
           {
            "line": {
             "colorbar": {
              "outlinewidth": 0,
              "ticks": ""
             }
            },
            "marker": {
             "colorbar": {
              "outlinewidth": 0,
              "ticks": ""
             }
            },
            "type": "scatter3d"
           }
          ],
          "scattercarpet": [
           {
            "marker": {
             "colorbar": {
              "outlinewidth": 0,
              "ticks": ""
             }
            },
            "type": "scattercarpet"
           }
          ],
          "scattergeo": [
           {
            "marker": {
             "colorbar": {
              "outlinewidth": 0,
              "ticks": ""
             }
            },
            "type": "scattergeo"
           }
          ],
          "scattergl": [
           {
            "marker": {
             "colorbar": {
              "outlinewidth": 0,
              "ticks": ""
             }
            },
            "type": "scattergl"
           }
          ],
          "scattermapbox": [
           {
            "marker": {
             "colorbar": {
              "outlinewidth": 0,
              "ticks": ""
             }
            },
            "type": "scattermapbox"
           }
          ],
          "scatterpolar": [
           {
            "marker": {
             "colorbar": {
              "outlinewidth": 0,
              "ticks": ""
             }
            },
            "type": "scatterpolar"
           }
          ],
          "scatterpolargl": [
           {
            "marker": {
             "colorbar": {
              "outlinewidth": 0,
              "ticks": ""
             }
            },
            "type": "scatterpolargl"
           }
          ],
          "scatterternary": [
           {
            "marker": {
             "colorbar": {
              "outlinewidth": 0,
              "ticks": ""
             }
            },
            "type": "scatterternary"
           }
          ],
          "surface": [
           {
            "colorbar": {
             "outlinewidth": 0,
             "ticks": ""
            },
            "colorscale": [
             [
              0,
              "#0d0887"
             ],
             [
              0.1111111111111111,
              "#46039f"
             ],
             [
              0.2222222222222222,
              "#7201a8"
             ],
             [
              0.3333333333333333,
              "#9c179e"
             ],
             [
              0.4444444444444444,
              "#bd3786"
             ],
             [
              0.5555555555555556,
              "#d8576b"
             ],
             [
              0.6666666666666666,
              "#ed7953"
             ],
             [
              0.7777777777777778,
              "#fb9f3a"
             ],
             [
              0.8888888888888888,
              "#fdca26"
             ],
             [
              1,
              "#f0f921"
             ]
            ],
            "type": "surface"
           }
          ],
          "table": [
           {
            "cells": {
             "fill": {
              "color": "#EBF0F8"
             },
             "line": {
              "color": "white"
             }
            },
            "header": {
             "fill": {
              "color": "#C8D4E3"
             },
             "line": {
              "color": "white"
             }
            },
            "type": "table"
           }
          ]
         },
         "layout": {
          "annotationdefaults": {
           "arrowcolor": "#2a3f5f",
           "arrowhead": 0,
           "arrowwidth": 1
          },
          "autotypenumbers": "strict",
          "coloraxis": {
           "colorbar": {
            "outlinewidth": 0,
            "ticks": ""
           }
          },
          "colorscale": {
           "diverging": [
            [
             0,
             "#8e0152"
            ],
            [
             0.1,
             "#c51b7d"
            ],
            [
             0.2,
             "#de77ae"
            ],
            [
             0.3,
             "#f1b6da"
            ],
            [
             0.4,
             "#fde0ef"
            ],
            [
             0.5,
             "#f7f7f7"
            ],
            [
             0.6,
             "#e6f5d0"
            ],
            [
             0.7,
             "#b8e186"
            ],
            [
             0.8,
             "#7fbc41"
            ],
            [
             0.9,
             "#4d9221"
            ],
            [
             1,
             "#276419"
            ]
           ],
           "sequential": [
            [
             0,
             "#0d0887"
            ],
            [
             0.1111111111111111,
             "#46039f"
            ],
            [
             0.2222222222222222,
             "#7201a8"
            ],
            [
             0.3333333333333333,
             "#9c179e"
            ],
            [
             0.4444444444444444,
             "#bd3786"
            ],
            [
             0.5555555555555556,
             "#d8576b"
            ],
            [
             0.6666666666666666,
             "#ed7953"
            ],
            [
             0.7777777777777778,
             "#fb9f3a"
            ],
            [
             0.8888888888888888,
             "#fdca26"
            ],
            [
             1,
             "#f0f921"
            ]
           ],
           "sequentialminus": [
            [
             0,
             "#0d0887"
            ],
            [
             0.1111111111111111,
             "#46039f"
            ],
            [
             0.2222222222222222,
             "#7201a8"
            ],
            [
             0.3333333333333333,
             "#9c179e"
            ],
            [
             0.4444444444444444,
             "#bd3786"
            ],
            [
             0.5555555555555556,
             "#d8576b"
            ],
            [
             0.6666666666666666,
             "#ed7953"
            ],
            [
             0.7777777777777778,
             "#fb9f3a"
            ],
            [
             0.8888888888888888,
             "#fdca26"
            ],
            [
             1,
             "#f0f921"
            ]
           ]
          },
          "colorway": [
           "#636efa",
           "#EF553B",
           "#00cc96",
           "#ab63fa",
           "#FFA15A",
           "#19d3f3",
           "#FF6692",
           "#B6E880",
           "#FF97FF",
           "#FECB52"
          ],
          "font": {
           "color": "#2a3f5f"
          },
          "geo": {
           "bgcolor": "white",
           "lakecolor": "white",
           "landcolor": "#E5ECF6",
           "showlakes": true,
           "showland": true,
           "subunitcolor": "white"
          },
          "hoverlabel": {
           "align": "left"
          },
          "hovermode": "closest",
          "mapbox": {
           "style": "light"
          },
          "paper_bgcolor": "white",
          "plot_bgcolor": "#E5ECF6",
          "polar": {
           "angularaxis": {
            "gridcolor": "white",
            "linecolor": "white",
            "ticks": ""
           },
           "bgcolor": "#E5ECF6",
           "radialaxis": {
            "gridcolor": "white",
            "linecolor": "white",
            "ticks": ""
           }
          },
          "scene": {
           "xaxis": {
            "backgroundcolor": "#E5ECF6",
            "gridcolor": "white",
            "gridwidth": 2,
            "linecolor": "white",
            "showbackground": true,
            "ticks": "",
            "zerolinecolor": "white"
           },
           "yaxis": {
            "backgroundcolor": "#E5ECF6",
            "gridcolor": "white",
            "gridwidth": 2,
            "linecolor": "white",
            "showbackground": true,
            "ticks": "",
            "zerolinecolor": "white"
           },
           "zaxis": {
            "backgroundcolor": "#E5ECF6",
            "gridcolor": "white",
            "gridwidth": 2,
            "linecolor": "white",
            "showbackground": true,
            "ticks": "",
            "zerolinecolor": "white"
           }
          },
          "shapedefaults": {
           "line": {
            "color": "#2a3f5f"
           }
          },
          "ternary": {
           "aaxis": {
            "gridcolor": "white",
            "linecolor": "white",
            "ticks": ""
           },
           "baxis": {
            "gridcolor": "white",
            "linecolor": "white",
            "ticks": ""
           },
           "bgcolor": "#E5ECF6",
           "caxis": {
            "gridcolor": "white",
            "linecolor": "white",
            "ticks": ""
           }
          },
          "title": {
           "x": 0.05
          },
          "xaxis": {
           "automargin": true,
           "gridcolor": "white",
           "linecolor": "white",
           "ticks": "",
           "title": {
            "standoff": 15
           },
           "zerolinecolor": "white",
           "zerolinewidth": 2
          },
          "yaxis": {
           "automargin": true,
           "gridcolor": "white",
           "linecolor": "white",
           "ticks": "",
           "title": {
            "standoff": 15
           },
           "zerolinecolor": "white",
           "zerolinewidth": 2
          }
         }
        },
        "width": 1000,
        "xaxis": {
         "anchor": "y",
         "domain": [
          0,
          1
         ]
        },
        "yaxis": {
         "anchor": "x",
         "domain": [
          0,
          1
         ]
        }
       }
      }
     },
     "metadata": {},
     "output_type": "display_data"
    }
   ],
   "source": [
    "import matplotlib.pyplot as plt\n",
    "barrios_llegada = itinerarios_bases['Distrito_Llegada']\n",
    "numbers=list(range(10))\n",
    "\n",
    "barrios_llegada_wordcloud=[\"\".join(i for i in palabra if not i.isdigit()) for palabra in barrios_llegada]\n",
    "barrios_frec=Counter(barrios_llegada_wordcloud)\n",
    "\n",
    "set(barrios_llegada_wordcloud)\n",
    "\n",
    "\n",
    "wordcloud = WordCloud (\n",
    "                    background_color = 'white',\n",
    "                    width = 1000,\n",
    "                    height = 750,\n",
    "                    collocations=False).generate_from_frequencies(barrios_frec)\n",
    "\n",
    "fig=px.imshow(wordcloud) # image show\n",
    "fig.update_layout(width=1000, height=750)\n",
    "fig.show()\n"
   ]
  },
  {
   "cell_type": "markdown",
   "metadata": {},
   "source": [
    "## Mapa Rutas"
   ]
  },
  {
   "cell_type": "code",
   "execution_count": 315,
   "metadata": {},
   "outputs": [],
   "source": [
    "itinerarios_bases['idplug_station']=itinerarios_bases['idplug_station'].astype('str')\n",
    "itinerarios_bases['idunplug_station']=itinerarios_bases['idunplug_station'].astype('str')\n",
    "\n",
    "itinerarios_bases['Origen_destino']=itinerarios_bases.apply(lambda x: x.idunplug_station+'-'+x.idplug_station, axis=1)\n",
    "\n"
   ]
  },
  {
   "cell_type": "code",
   "execution_count": 316,
   "metadata": {},
   "outputs": [
    {
     "data": {
      "text/html": [
       "<div>\n",
       "<style scoped>\n",
       "    .dataframe tbody tr th:only-of-type {\n",
       "        vertical-align: middle;\n",
       "    }\n",
       "\n",
       "    .dataframe tbody tr th {\n",
       "        vertical-align: top;\n",
       "    }\n",
       "\n",
       "    .dataframe thead th {\n",
       "        text-align: right;\n",
       "    }\n",
       "</style>\n",
       "<table border=\"1\" class=\"dataframe\">\n",
       "  <thead>\n",
       "    <tr style=\"text-align: right;\">\n",
       "      <th></th>\n",
       "      <th>_id</th>\n",
       "      <th>user_day_code</th>\n",
       "      <th>idplug_base</th>\n",
       "      <th>user_type</th>\n",
       "      <th>idunplug_base</th>\n",
       "      <th>travel_time</th>\n",
       "      <th>idunplug_station</th>\n",
       "      <th>ageRange</th>\n",
       "      <th>idplug_station</th>\n",
       "      <th>unplug_hourTime</th>\n",
       "      <th>...</th>\n",
       "      <th>Número de Plazas_Salida</th>\n",
       "      <th>Latitud_Salida</th>\n",
       "      <th>Longitud_Salida</th>\n",
       "      <th>Número_Llegada</th>\n",
       "      <th>Distrito_Llegada</th>\n",
       "      <th>Barrio_Llegada</th>\n",
       "      <th>Número de Plazas_Llegada</th>\n",
       "      <th>Latitud_Llegada</th>\n",
       "      <th>Longitud_Llegada</th>\n",
       "      <th>Origen_destino</th>\n",
       "    </tr>\n",
       "  </thead>\n",
       "  <tbody>\n",
       "    <tr>\n",
       "      <th>0</th>\n",
       "      <td>{'$oid': '5ee862cecc8c1e839b419387'}</td>\n",
       "      <td>509e6a72b7673f533912bf647d20df19305b848fbc1b89...</td>\n",
       "      <td>5</td>\n",
       "      <td>1</td>\n",
       "      <td>20</td>\n",
       "      <td>154</td>\n",
       "      <td>44</td>\n",
       "      <td>5</td>\n",
       "      <td>40</td>\n",
       "      <td>2019-07-01T00:00:00Z</td>\n",
       "      <td>...</td>\n",
       "      <td>21.0</td>\n",
       "      <td>40.409816</td>\n",
       "      <td>-3.703914</td>\n",
       "      <td>40.0</td>\n",
       "      <td>01 CENTRO</td>\n",
       "      <td>01-02 EMBAJADORES</td>\n",
       "      <td>24.0</td>\n",
       "      <td>40.413787</td>\n",
       "      <td>-3.704746</td>\n",
       "      <td>44-40</td>\n",
       "    </tr>\n",
       "    <tr>\n",
       "      <th>1</th>\n",
       "      <td>{'$oid': '5ee862cecc8c1e839b41938c'}</td>\n",
       "      <td>90069a1194c3eb9e6faecaaf4eefb7209e890c0df5aeac...</td>\n",
       "      <td>8</td>\n",
       "      <td>1</td>\n",
       "      <td>17</td>\n",
       "      <td>184</td>\n",
       "      <td>57</td>\n",
       "      <td>4</td>\n",
       "      <td>129</td>\n",
       "      <td>2019-07-01T00:00:00Z</td>\n",
       "      <td>...</td>\n",
       "      <td>24.0</td>\n",
       "      <td>40.429636</td>\n",
       "      <td>-3.712818</td>\n",
       "      <td>129.0</td>\n",
       "      <td>07 CHAMBERÍ</td>\n",
       "      <td>07-05 RÍOS ROSAS</td>\n",
       "      <td>24.0</td>\n",
       "      <td>40.438468</td>\n",
       "      <td>-3.698282</td>\n",
       "      <td>57-129</td>\n",
       "    </tr>\n",
       "    <tr>\n",
       "      <th>2</th>\n",
       "      <td>{'$oid': '5ee862cecc8c1e839b419394'}</td>\n",
       "      <td>b0ecaab6a35b7ea44d118f851f7fad5c2237e7dd51b337...</td>\n",
       "      <td>15</td>\n",
       "      <td>1</td>\n",
       "      <td>16</td>\n",
       "      <td>282</td>\n",
       "      <td>53</td>\n",
       "      <td>4</td>\n",
       "      <td>43</td>\n",
       "      <td>2019-07-01T00:00:00Z</td>\n",
       "      <td>...</td>\n",
       "      <td>24.0</td>\n",
       "      <td>40.408280</td>\n",
       "      <td>-3.700730</td>\n",
       "      <td>43.0</td>\n",
       "      <td>01 CENTRO</td>\n",
       "      <td>01-02 EMBAJADORES</td>\n",
       "      <td>24.0</td>\n",
       "      <td>40.410089</td>\n",
       "      <td>-3.702545</td>\n",
       "      <td>53-43</td>\n",
       "    </tr>\n",
       "    <tr>\n",
       "      <th>3</th>\n",
       "      <td>{'$oid': '5ee862cecc8c1e839b41939e'}</td>\n",
       "      <td>5e1b8a8c4603ee8ac4f06aba12ff51e2c5dd105b6e5193...</td>\n",
       "      <td>18</td>\n",
       "      <td>1</td>\n",
       "      <td>18</td>\n",
       "      <td>388</td>\n",
       "      <td>56</td>\n",
       "      <td>0</td>\n",
       "      <td>13</td>\n",
       "      <td>2019-07-01T00:00:00Z</td>\n",
       "      <td>...</td>\n",
       "      <td>24.0</td>\n",
       "      <td>40.418484</td>\n",
       "      <td>-3.703288</td>\n",
       "      <td>13.0</td>\n",
       "      <td>01 CENTRO</td>\n",
       "      <td>01-05 UNIVERSIDAD</td>\n",
       "      <td>24.0</td>\n",
       "      <td>40.427365</td>\n",
       "      <td>-3.710473</td>\n",
       "      <td>56-13</td>\n",
       "    </tr>\n",
       "    <tr>\n",
       "      <th>4</th>\n",
       "      <td>{'$oid': '5ee862cecc8c1e839b4193a5'}</td>\n",
       "      <td>80974c4043db61721399c43f296ce1db4436c7f107f8fc...</td>\n",
       "      <td>1</td>\n",
       "      <td>1</td>\n",
       "      <td>20</td>\n",
       "      <td>254</td>\n",
       "      <td>105</td>\n",
       "      <td>0</td>\n",
       "      <td>75</td>\n",
       "      <td>2019-07-01T00:00:00Z</td>\n",
       "      <td>...</td>\n",
       "      <td>24.0</td>\n",
       "      <td>40.427068</td>\n",
       "      <td>-3.687474</td>\n",
       "      <td>75.0</td>\n",
       "      <td>03 RETIRO</td>\n",
       "      <td>03-05 JERÓNIMOS</td>\n",
       "      <td>24.0</td>\n",
       "      <td>40.408339</td>\n",
       "      <td>-3.678415</td>\n",
       "      <td>105-75</td>\n",
       "    </tr>\n",
       "  </tbody>\n",
       "</table>\n",
       "<p>5 rows × 24 columns</p>\n",
       "</div>"
      ],
      "text/plain": [
       "                                    _id  \\\n",
       "0  {'$oid': '5ee862cecc8c1e839b419387'}   \n",
       "1  {'$oid': '5ee862cecc8c1e839b41938c'}   \n",
       "2  {'$oid': '5ee862cecc8c1e839b419394'}   \n",
       "3  {'$oid': '5ee862cecc8c1e839b41939e'}   \n",
       "4  {'$oid': '5ee862cecc8c1e839b4193a5'}   \n",
       "\n",
       "                                       user_day_code  idplug_base  user_type  \\\n",
       "0  509e6a72b7673f533912bf647d20df19305b848fbc1b89...            5          1   \n",
       "1  90069a1194c3eb9e6faecaaf4eefb7209e890c0df5aeac...            8          1   \n",
       "2  b0ecaab6a35b7ea44d118f851f7fad5c2237e7dd51b337...           15          1   \n",
       "3  5e1b8a8c4603ee8ac4f06aba12ff51e2c5dd105b6e5193...           18          1   \n",
       "4  80974c4043db61721399c43f296ce1db4436c7f107f8fc...            1          1   \n",
       "\n",
       "   idunplug_base  travel_time idunplug_station  ageRange idplug_station  \\\n",
       "0             20          154               44         5             40   \n",
       "1             17          184               57         4            129   \n",
       "2             16          282               53         4             43   \n",
       "3             18          388               56         0             13   \n",
       "4             20          254              105         0             75   \n",
       "\n",
       "        unplug_hourTime  ... Número de Plazas_Salida  Latitud_Salida  \\\n",
       "0  2019-07-01T00:00:00Z  ...                    21.0       40.409816   \n",
       "1  2019-07-01T00:00:00Z  ...                    24.0       40.429636   \n",
       "2  2019-07-01T00:00:00Z  ...                    24.0       40.408280   \n",
       "3  2019-07-01T00:00:00Z  ...                    24.0       40.418484   \n",
       "4  2019-07-01T00:00:00Z  ...                    24.0       40.427068   \n",
       "\n",
       "  Longitud_Salida Número_Llegada  Distrito_Llegada     Barrio_Llegada  \\\n",
       "0       -3.703914           40.0         01 CENTRO  01-02 EMBAJADORES   \n",
       "1       -3.712818          129.0       07 CHAMBERÍ   07-05 RÍOS ROSAS   \n",
       "2       -3.700730           43.0         01 CENTRO  01-02 EMBAJADORES   \n",
       "3       -3.703288           13.0         01 CENTRO  01-05 UNIVERSIDAD   \n",
       "4       -3.687474           75.0         03 RETIRO    03-05 JERÓNIMOS   \n",
       "\n",
       "   Número de Plazas_Llegada  Latitud_Llegada Longitud_Llegada Origen_destino  \n",
       "0                      24.0        40.413787        -3.704746          44-40  \n",
       "1                      24.0        40.438468        -3.698282         57-129  \n",
       "2                      24.0        40.410089        -3.702545          53-43  \n",
       "3                      24.0        40.427365        -3.710473          56-13  \n",
       "4                      24.0        40.408339        -3.678415         105-75  \n",
       "\n",
       "[5 rows x 24 columns]"
      ]
     },
     "execution_count": 316,
     "metadata": {},
     "output_type": "execute_result"
    }
   ],
   "source": [
    "itinerarios_bases.head()"
   ]
  },
  {
   "cell_type": "code",
   "execution_count": 277,
   "metadata": {},
   "outputs": [
    {
     "data": {
      "text/html": [
       "<div>\n",
       "<style scoped>\n",
       "    .dataframe tbody tr th:only-of-type {\n",
       "        vertical-align: middle;\n",
       "    }\n",
       "\n",
       "    .dataframe tbody tr th {\n",
       "        vertical-align: top;\n",
       "    }\n",
       "\n",
       "    .dataframe thead th {\n",
       "        text-align: right;\n",
       "    }\n",
       "</style>\n",
       "<table border=\"1\" class=\"dataframe\">\n",
       "  <thead>\n",
       "    <tr style=\"text-align: right;\">\n",
       "      <th></th>\n",
       "      <th>Latitud_Salida</th>\n",
       "      <th>Longitud_Salida</th>\n",
       "      <th>Distrito_Salida</th>\n",
       "      <th>Latitud_Llegada</th>\n",
       "      <th>Longitud_Llegada</th>\n",
       "      <th>Distrito_Llegada</th>\n",
       "      <th>idplug_station</th>\n",
       "      <th>idunplug_station</th>\n",
       "      <th>_id</th>\n",
       "    </tr>\n",
       "    <tr>\n",
       "      <th>Origen_destino</th>\n",
       "      <th></th>\n",
       "      <th></th>\n",
       "      <th></th>\n",
       "      <th></th>\n",
       "      <th></th>\n",
       "      <th></th>\n",
       "      <th></th>\n",
       "      <th></th>\n",
       "      <th></th>\n",
       "    </tr>\n",
       "  </thead>\n",
       "  <tbody>\n",
       "    <tr>\n",
       "      <th>90-140</th>\n",
       "      <td>4</td>\n",
       "      <td>4</td>\n",
       "      <td>4</td>\n",
       "      <td>4</td>\n",
       "      <td>4</td>\n",
       "      <td>4</td>\n",
       "      <td>4</td>\n",
       "      <td>4</td>\n",
       "      <td>4</td>\n",
       "    </tr>\n",
       "    <tr>\n",
       "      <th>128-90</th>\n",
       "      <td>4</td>\n",
       "      <td>4</td>\n",
       "      <td>4</td>\n",
       "      <td>4</td>\n",
       "      <td>4</td>\n",
       "      <td>4</td>\n",
       "      <td>4</td>\n",
       "      <td>4</td>\n",
       "      <td>4</td>\n",
       "    </tr>\n",
       "    <tr>\n",
       "      <th>140-90</th>\n",
       "      <td>4</td>\n",
       "      <td>4</td>\n",
       "      <td>4</td>\n",
       "      <td>4</td>\n",
       "      <td>4</td>\n",
       "      <td>4</td>\n",
       "      <td>4</td>\n",
       "      <td>4</td>\n",
       "      <td>4</td>\n",
       "    </tr>\n",
       "    <tr>\n",
       "      <th>161-90</th>\n",
       "      <td>4</td>\n",
       "      <td>4</td>\n",
       "      <td>4</td>\n",
       "      <td>4</td>\n",
       "      <td>4</td>\n",
       "      <td>4</td>\n",
       "      <td>4</td>\n",
       "      <td>4</td>\n",
       "      <td>4</td>\n",
       "    </tr>\n",
       "    <tr>\n",
       "      <th>128-20</th>\n",
       "      <td>4</td>\n",
       "      <td>4</td>\n",
       "      <td>4</td>\n",
       "      <td>4</td>\n",
       "      <td>4</td>\n",
       "      <td>4</td>\n",
       "      <td>4</td>\n",
       "      <td>4</td>\n",
       "      <td>4</td>\n",
       "    </tr>\n",
       "    <tr>\n",
       "      <th>...</th>\n",
       "      <td>...</td>\n",
       "      <td>...</td>\n",
       "      <td>...</td>\n",
       "      <td>...</td>\n",
       "      <td>...</td>\n",
       "      <td>...</td>\n",
       "      <td>...</td>\n",
       "      <td>...</td>\n",
       "      <td>...</td>\n",
       "    </tr>\n",
       "    <tr>\n",
       "      <th>164-149</th>\n",
       "      <td>1</td>\n",
       "      <td>1</td>\n",
       "      <td>1</td>\n",
       "      <td>1</td>\n",
       "      <td>1</td>\n",
       "      <td>1</td>\n",
       "      <td>1</td>\n",
       "      <td>1</td>\n",
       "      <td>1</td>\n",
       "    </tr>\n",
       "    <tr>\n",
       "      <th>164-15</th>\n",
       "      <td>1</td>\n",
       "      <td>1</td>\n",
       "      <td>1</td>\n",
       "      <td>1</td>\n",
       "      <td>1</td>\n",
       "      <td>1</td>\n",
       "      <td>1</td>\n",
       "      <td>1</td>\n",
       "      <td>1</td>\n",
       "    </tr>\n",
       "    <tr>\n",
       "      <th>164-150</th>\n",
       "      <td>1</td>\n",
       "      <td>1</td>\n",
       "      <td>1</td>\n",
       "      <td>1</td>\n",
       "      <td>1</td>\n",
       "      <td>1</td>\n",
       "      <td>1</td>\n",
       "      <td>1</td>\n",
       "      <td>1</td>\n",
       "    </tr>\n",
       "    <tr>\n",
       "      <th>164-151</th>\n",
       "      <td>1</td>\n",
       "      <td>1</td>\n",
       "      <td>1</td>\n",
       "      <td>1</td>\n",
       "      <td>1</td>\n",
       "      <td>1</td>\n",
       "      <td>1</td>\n",
       "      <td>1</td>\n",
       "      <td>1</td>\n",
       "    </tr>\n",
       "    <tr>\n",
       "      <th>99-98</th>\n",
       "      <td>1</td>\n",
       "      <td>1</td>\n",
       "      <td>1</td>\n",
       "      <td>1</td>\n",
       "      <td>1</td>\n",
       "      <td>1</td>\n",
       "      <td>1</td>\n",
       "      <td>1</td>\n",
       "      <td>1</td>\n",
       "    </tr>\n",
       "  </tbody>\n",
       "</table>\n",
       "<p>42604 rows × 9 columns</p>\n",
       "</div>"
      ],
      "text/plain": [
       "                Latitud_Salida  Longitud_Salida  Distrito_Salida  \\\n",
       "Origen_destino                                                     \n",
       "90-140                       4                4                4   \n",
       "128-90                       4                4                4   \n",
       "140-90                       4                4                4   \n",
       "161-90                       4                4                4   \n",
       "128-20                       4                4                4   \n",
       "...                        ...              ...              ...   \n",
       "164-149                      1                1                1   \n",
       "164-15                       1                1                1   \n",
       "164-150                      1                1                1   \n",
       "164-151                      1                1                1   \n",
       "99-98                        1                1                1   \n",
       "\n",
       "                Latitud_Llegada  Longitud_Llegada  Distrito_Llegada  \\\n",
       "Origen_destino                                                        \n",
       "90-140                        4                 4                 4   \n",
       "128-90                        4                 4                 4   \n",
       "140-90                        4                 4                 4   \n",
       "161-90                        4                 4                 4   \n",
       "128-20                        4                 4                 4   \n",
       "...                         ...               ...               ...   \n",
       "164-149                       1                 1                 1   \n",
       "164-15                        1                 1                 1   \n",
       "164-150                       1                 1                 1   \n",
       "164-151                       1                 1                 1   \n",
       "99-98                         1                 1                 1   \n",
       "\n",
       "                idplug_station  idunplug_station  _id  \n",
       "Origen_destino                                         \n",
       "90-140                       4                 4    4  \n",
       "128-90                       4                 4    4  \n",
       "140-90                       4                 4    4  \n",
       "161-90                       4                 4    4  \n",
       "128-20                       4                 4    4  \n",
       "...                        ...               ...  ...  \n",
       "164-149                      1                 1    1  \n",
       "164-15                       1                 1    1  \n",
       "164-150                      1                 1    1  \n",
       "164-151                      1                 1    1  \n",
       "99-98                        1                 1    1  \n",
       "\n",
       "[42604 rows x 9 columns]"
      ]
     },
     "execution_count": 277,
     "metadata": {},
     "output_type": "execute_result"
    }
   ],
   "source": [
    "df_rutas.groupby('Origen_destino').count().sort_values('_id', ascending=False)"
   ]
  },
  {
   "cell_type": "code",
   "execution_count": 278,
   "metadata": {},
   "outputs": [
    {
     "data": {
      "text/html": [
       "<div>\n",
       "<style scoped>\n",
       "    .dataframe tbody tr th:only-of-type {\n",
       "        vertical-align: middle;\n",
       "    }\n",
       "\n",
       "    .dataframe tbody tr th {\n",
       "        vertical-align: top;\n",
       "    }\n",
       "\n",
       "    .dataframe thead th {\n",
       "        text-align: right;\n",
       "    }\n",
       "</style>\n",
       "<table border=\"1\" class=\"dataframe\">\n",
       "  <thead>\n",
       "    <tr style=\"text-align: right;\">\n",
       "      <th></th>\n",
       "      <th>Origen_destino</th>\n",
       "      <th>Latitud_Salida</th>\n",
       "      <th>Longitud_Salida</th>\n",
       "      <th>Distrito_Salida</th>\n",
       "      <th>Latitud_Llegada</th>\n",
       "      <th>Longitud_Llegada</th>\n",
       "      <th>Distrito_Llegada</th>\n",
       "      <th>idplug_station</th>\n",
       "      <th>idunplug_station</th>\n",
       "      <th>_id</th>\n",
       "    </tr>\n",
       "  </thead>\n",
       "  <tbody>\n",
       "    <tr>\n",
       "      <th>42460</th>\n",
       "      <td>90-140</td>\n",
       "      <td>40.425088</td>\n",
       "      <td>-3.683730</td>\n",
       "      <td>04  SALAMANCA</td>\n",
       "      <td>40.438520</td>\n",
       "      <td>-3.682913</td>\n",
       "      <td>05 CHAMARTÍN</td>\n",
       "      <td>140</td>\n",
       "      <td>90</td>\n",
       "      <td>21</td>\n",
       "    </tr>\n",
       "    <tr>\n",
       "      <th>42461</th>\n",
       "      <td>90-140</td>\n",
       "      <td>40.425088</td>\n",
       "      <td>-3.683730</td>\n",
       "      <td>04  SALAMANCA</td>\n",
       "      <td>40.438628</td>\n",
       "      <td>-3.682904</td>\n",
       "      <td>05 CHAMARTÍN</td>\n",
       "      <td>140</td>\n",
       "      <td>90</td>\n",
       "      <td>21</td>\n",
       "    </tr>\n",
       "    <tr>\n",
       "      <th>42459</th>\n",
       "      <td>90-140</td>\n",
       "      <td>40.425079</td>\n",
       "      <td>-3.683561</td>\n",
       "      <td>04  SALAMANCA</td>\n",
       "      <td>40.438628</td>\n",
       "      <td>-3.682904</td>\n",
       "      <td>05 CHAMARTÍN</td>\n",
       "      <td>140</td>\n",
       "      <td>90</td>\n",
       "      <td>21</td>\n",
       "    </tr>\n",
       "    <tr>\n",
       "      <th>42458</th>\n",
       "      <td>90-140</td>\n",
       "      <td>40.425079</td>\n",
       "      <td>-3.683561</td>\n",
       "      <td>04  SALAMANCA</td>\n",
       "      <td>40.438520</td>\n",
       "      <td>-3.682913</td>\n",
       "      <td>05 CHAMARTÍN</td>\n",
       "      <td>140</td>\n",
       "      <td>90</td>\n",
       "      <td>21</td>\n",
       "    </tr>\n",
       "  </tbody>\n",
       "</table>\n",
       "</div>"
      ],
      "text/plain": [
       "      Origen_destino  Latitud_Salida  Longitud_Salida Distrito_Salida  \\\n",
       "42460         90-140       40.425088        -3.683730   04  SALAMANCA   \n",
       "42461         90-140       40.425088        -3.683730   04  SALAMANCA   \n",
       "42459         90-140       40.425079        -3.683561   04  SALAMANCA   \n",
       "42458         90-140       40.425079        -3.683561   04  SALAMANCA   \n",
       "\n",
       "       Latitud_Llegada  Longitud_Llegada Distrito_Llegada idplug_station  \\\n",
       "42460        40.438520         -3.682913     05 CHAMARTÍN            140   \n",
       "42461        40.438628         -3.682904     05 CHAMARTÍN            140   \n",
       "42459        40.438628         -3.682904     05 CHAMARTÍN            140   \n",
       "42458        40.438520         -3.682913     05 CHAMARTÍN            140   \n",
       "\n",
       "      idunplug_station  _id  \n",
       "42460               90   21  \n",
       "42461               90   21  \n",
       "42459               90   21  \n",
       "42458               90   21  "
      ]
     },
     "execution_count": 278,
     "metadata": {},
     "output_type": "execute_result"
    }
   ],
   "source": [
    "df_rutas[df_rutas['Origen_destino']=='90-140']"
   ]
  },
  {
   "cell_type": "code",
   "execution_count": 317,
   "metadata": {},
   "outputs": [
    {
     "data": {
      "text/html": [
       "<div>\n",
       "<style scoped>\n",
       "    .dataframe tbody tr th:only-of-type {\n",
       "        vertical-align: middle;\n",
       "    }\n",
       "\n",
       "    .dataframe tbody tr th {\n",
       "        vertical-align: top;\n",
       "    }\n",
       "\n",
       "    .dataframe thead th {\n",
       "        text-align: right;\n",
       "    }\n",
       "</style>\n",
       "<table border=\"1\" class=\"dataframe\">\n",
       "  <thead>\n",
       "    <tr style=\"text-align: right;\">\n",
       "      <th></th>\n",
       "      <th>ruta</th>\n",
       "      <th>Latitud_Salida</th>\n",
       "      <th>Longitud_Salida</th>\n",
       "      <th>Latitud_Llegada</th>\n",
       "      <th>Longitud_Llegada</th>\n",
       "      <th>viajes</th>\n",
       "    </tr>\n",
       "  </thead>\n",
       "  <tbody>\n",
       "    <tr>\n",
       "      <th>0</th>\n",
       "      <td>-3.6983033 -3.6928901 40.3962687 40.4414845</td>\n",
       "      <td>40.441485</td>\n",
       "      <td>-3.692890</td>\n",
       "      <td>40.396269</td>\n",
       "      <td>-3.698303</td>\n",
       "      <td>1277.0</td>\n",
       "    </tr>\n",
       "    <tr>\n",
       "      <th>1</th>\n",
       "      <td>-3.6983033 -3.6955803 40.3962687 40.4132831</td>\n",
       "      <td>40.396269</td>\n",
       "      <td>-3.698303</td>\n",
       "      <td>40.413283</td>\n",
       "      <td>-3.695580</td>\n",
       "      <td>1528.0</td>\n",
       "    </tr>\n",
       "    <tr>\n",
       "      <th>2</th>\n",
       "      <td>-3.6992427 -3.6928901 40.4060497 40.4414845</td>\n",
       "      <td>40.441485</td>\n",
       "      <td>-3.692890</td>\n",
       "      <td>40.406050</td>\n",
       "      <td>-3.699243</td>\n",
       "      <td>1270.0</td>\n",
       "    </tr>\n",
       "    <tr>\n",
       "      <th>3</th>\n",
       "      <td>-3.7017071 -3.6878512 40.4417195 40.4498448</td>\n",
       "      <td>40.441719</td>\n",
       "      <td>-3.701707</td>\n",
       "      <td>40.449845</td>\n",
       "      <td>-3.687851</td>\n",
       "      <td>1424.0</td>\n",
       "    </tr>\n",
       "    <tr>\n",
       "      <th>4</th>\n",
       "      <td>-3.7017071 -3.6893305 40.4417195 40.459282</td>\n",
       "      <td>40.459282</td>\n",
       "      <td>-3.689331</td>\n",
       "      <td>40.441719</td>\n",
       "      <td>-3.701707</td>\n",
       "      <td>613.0</td>\n",
       "    </tr>\n",
       "    <tr>\n",
       "      <th>5</th>\n",
       "      <td>-3.7025446 -3.6983033 40.3962687 40.4100889</td>\n",
       "      <td>40.396269</td>\n",
       "      <td>-3.698303</td>\n",
       "      <td>40.410089</td>\n",
       "      <td>-3.702545</td>\n",
       "      <td>1385.0</td>\n",
       "    </tr>\n",
       "    <tr>\n",
       "      <th>6</th>\n",
       "      <td>-3.7035911 -3.6983033 40.3962687 40.4463889</td>\n",
       "      <td>40.446389</td>\n",
       "      <td>-3.703591</td>\n",
       "      <td>40.396269</td>\n",
       "      <td>-3.698303</td>\n",
       "      <td>769.0</td>\n",
       "    </tr>\n",
       "    <tr>\n",
       "      <th>7</th>\n",
       "      <td>-3.7094093 -3.6878512 40.4156134 40.4498448</td>\n",
       "      <td>40.415613</td>\n",
       "      <td>-3.709409</td>\n",
       "      <td>40.449845</td>\n",
       "      <td>-3.687851</td>\n",
       "      <td>1940.0</td>\n",
       "    </tr>\n",
       "    <tr>\n",
       "      <th>8</th>\n",
       "      <td>-3.7094093 -3.6893305 40.4156134 40.459282</td>\n",
       "      <td>40.415613</td>\n",
       "      <td>-3.709409</td>\n",
       "      <td>40.459282</td>\n",
       "      <td>-3.689331</td>\n",
       "      <td>615.0</td>\n",
       "    </tr>\n",
       "    <tr>\n",
       "      <th>9</th>\n",
       "      <td>-3.7128181 -3.7114443 40.4112961 40.4296363</td>\n",
       "      <td>40.429636</td>\n",
       "      <td>-3.712818</td>\n",
       "      <td>40.411296</td>\n",
       "      <td>-3.711444</td>\n",
       "      <td>656.0</td>\n",
       "    </tr>\n",
       "  </tbody>\n",
       "</table>\n",
       "</div>"
      ],
      "text/plain": [
       "                                          ruta  Latitud_Salida  \\\n",
       "0  -3.6983033 -3.6928901 40.3962687 40.4414845       40.441485   \n",
       "1  -3.6983033 -3.6955803 40.3962687 40.4132831       40.396269   \n",
       "2  -3.6992427 -3.6928901 40.4060497 40.4414845       40.441485   \n",
       "3  -3.7017071 -3.6878512 40.4417195 40.4498448       40.441719   \n",
       "4   -3.7017071 -3.6893305 40.4417195 40.459282       40.459282   \n",
       "5  -3.7025446 -3.6983033 40.3962687 40.4100889       40.396269   \n",
       "6  -3.7035911 -3.6983033 40.3962687 40.4463889       40.446389   \n",
       "7  -3.7094093 -3.6878512 40.4156134 40.4498448       40.415613   \n",
       "8   -3.7094093 -3.6893305 40.4156134 40.459282       40.415613   \n",
       "9  -3.7128181 -3.7114443 40.4112961 40.4296363       40.429636   \n",
       "\n",
       "   Longitud_Salida  Latitud_Llegada  Longitud_Llegada  viajes  \n",
       "0        -3.692890        40.396269         -3.698303  1277.0  \n",
       "1        -3.698303        40.413283         -3.695580  1528.0  \n",
       "2        -3.692890        40.406050         -3.699243  1270.0  \n",
       "3        -3.701707        40.449845         -3.687851  1424.0  \n",
       "4        -3.689331        40.441719         -3.701707   613.0  \n",
       "5        -3.698303        40.410089         -3.702545  1385.0  \n",
       "6        -3.703591        40.396269         -3.698303   769.0  \n",
       "7        -3.709409        40.449845         -3.687851  1940.0  \n",
       "8        -3.709409        40.459282         -3.689331   615.0  \n",
       "9        -3.712818        40.411296         -3.711444   656.0  "
      ]
     },
     "execution_count": 317,
     "metadata": {},
     "output_type": "execute_result"
    }
   ],
   "source": [
    "cols_rutas=['Origen_destino','Latitud_Salida','Longitud_Salida','Distrito_Salida','Latitud_Llegada','Longitud_Llegada','Distrito_Llegada', 'idplug_station', 'idunplug_station' ]\n",
    "df_rutas=itinerarios_bases[itinerarios_bases['idplug_station']!=itinerarios_bases['idunplug_station'] ].groupby(cols_rutas)['_id'].count().to_frame().reset_index().sort_values('_id', ascending=False)\n",
    "\n",
    "top10rutas=df_rutas.head(16)\n",
    "top10rutas['ruta']=top10rutas.apply(lambda x: sorted([x.Longitud_Salida, x.Latitud_Salida, x.Longitud_Llegada, x.Latitud_Llegada]), axis=1)\n",
    "top10rutas['ruta']=top10rutas['ruta'].apply(lambda x: ' '.join([str(word) for word in x]))\n",
    "cols_rutas=['Latitud_Salida','Longitud_Salida','Latitud_Llegada','Longitud_Llegada', 'ruta']\n",
    "def rutas(df): \n",
    "    \n",
    "    \n",
    "    long_llegada=df['Longitud_Llegada'].iloc[0]\n",
    "    lat_llegada=df['Latitud_Llegada'].iloc[0]\n",
    "    long_salida=df['Longitud_Salida'].iloc[0]\n",
    "    lat_salida=df['Latitud_Salida'].iloc[0]\n",
    "    _id=df['_id'].sum()\n",
    "    cols= ['Latitud_Salida','Longitud_Salida','Latitud_Llegada','Longitud_Llegada', 'viajes']\n",
    "    datos=[lat_salida, long_salida,lat_llegada, long_llegada, _id ]\n",
    "    return pd.Series(dict(zip(cols,datos)))\n",
    "             \n",
    "top7rutas= top10rutas.groupby('ruta').apply(rutas).reset_index()\n",
    "top7rutas"
   ]
  },
  {
   "cell_type": "code",
   "execution_count": 318,
   "metadata": {},
   "outputs": [
    {
     "data": {
      "text/html": [
       "<div>\n",
       "<style scoped>\n",
       "    .dataframe tbody tr th:only-of-type {\n",
       "        vertical-align: middle;\n",
       "    }\n",
       "\n",
       "    .dataframe tbody tr th {\n",
       "        vertical-align: top;\n",
       "    }\n",
       "\n",
       "    .dataframe thead th {\n",
       "        text-align: right;\n",
       "    }\n",
       "</style>\n",
       "<table border=\"1\" class=\"dataframe\">\n",
       "  <thead>\n",
       "    <tr style=\"text-align: right;\">\n",
       "      <th></th>\n",
       "      <th>Longitud</th>\n",
       "      <th>Latitud</th>\n",
       "      <th>Distrito</th>\n",
       "      <th>count</th>\n",
       "    </tr>\n",
       "  </thead>\n",
       "  <tbody>\n",
       "    <tr>\n",
       "      <th>0</th>\n",
       "      <td>-3.712818</td>\n",
       "      <td>40.429636</td>\n",
       "      <td>01  CENTRO</td>\n",
       "      <td>1</td>\n",
       "    </tr>\n",
       "    <tr>\n",
       "      <th>1</th>\n",
       "      <td>-3.711444</td>\n",
       "      <td>40.411296</td>\n",
       "      <td>01 CENTRO</td>\n",
       "      <td>1</td>\n",
       "    </tr>\n",
       "    <tr>\n",
       "      <th>2</th>\n",
       "      <td>-3.709409</td>\n",
       "      <td>40.415613</td>\n",
       "      <td>01  CENTRO</td>\n",
       "      <td>3</td>\n",
       "    </tr>\n",
       "    <tr>\n",
       "      <th>3</th>\n",
       "      <td>-3.703591</td>\n",
       "      <td>40.446389</td>\n",
       "      <td>07  CHAMBERÍ</td>\n",
       "      <td>1</td>\n",
       "    </tr>\n",
       "    <tr>\n",
       "      <th>4</th>\n",
       "      <td>-3.702545</td>\n",
       "      <td>40.410089</td>\n",
       "      <td>01  CENTRO</td>\n",
       "      <td>2</td>\n",
       "    </tr>\n",
       "    <tr>\n",
       "      <th>5</th>\n",
       "      <td>-3.701707</td>\n",
       "      <td>40.441719</td>\n",
       "      <td>07  CHAMBERÍ</td>\n",
       "      <td>3</td>\n",
       "    </tr>\n",
       "    <tr>\n",
       "      <th>6</th>\n",
       "      <td>-3.699243</td>\n",
       "      <td>40.406050</td>\n",
       "      <td>01  CENTRO</td>\n",
       "      <td>2</td>\n",
       "    </tr>\n",
       "    <tr>\n",
       "      <th>7</th>\n",
       "      <td>-3.698303</td>\n",
       "      <td>40.396269</td>\n",
       "      <td>02  ARGANZUELA</td>\n",
       "      <td>7</td>\n",
       "    </tr>\n",
       "    <tr>\n",
       "      <th>8</th>\n",
       "      <td>-3.695580</td>\n",
       "      <td>40.413283</td>\n",
       "      <td>01  CENTRO</td>\n",
       "      <td>2</td>\n",
       "    </tr>\n",
       "    <tr>\n",
       "      <th>9</th>\n",
       "      <td>-3.692890</td>\n",
       "      <td>40.441485</td>\n",
       "      <td>07  CHAMBERÍ</td>\n",
       "      <td>4</td>\n",
       "    </tr>\n",
       "    <tr>\n",
       "      <th>10</th>\n",
       "      <td>-3.689331</td>\n",
       "      <td>40.459282</td>\n",
       "      <td>05  CHAMARTÍN</td>\n",
       "      <td>2</td>\n",
       "    </tr>\n",
       "    <tr>\n",
       "      <th>11</th>\n",
       "      <td>-3.687851</td>\n",
       "      <td>40.449845</td>\n",
       "      <td>05  CHAMARTÍN</td>\n",
       "      <td>4</td>\n",
       "    </tr>\n",
       "  </tbody>\n",
       "</table>\n",
       "</div>"
      ],
      "text/plain": [
       "    Longitud    Latitud        Distrito  count\n",
       "0  -3.712818  40.429636      01  CENTRO      1\n",
       "1  -3.711444  40.411296       01 CENTRO      1\n",
       "2  -3.709409  40.415613      01  CENTRO      3\n",
       "3  -3.703591  40.446389    07  CHAMBERÍ      1\n",
       "4  -3.702545  40.410089      01  CENTRO      2\n",
       "5  -3.701707  40.441719    07  CHAMBERÍ      3\n",
       "6  -3.699243  40.406050      01  CENTRO      2\n",
       "7  -3.698303  40.396269  02  ARGANZUELA      7\n",
       "8  -3.695580  40.413283      01  CENTRO      2\n",
       "9  -3.692890  40.441485    07  CHAMBERÍ      4\n",
       "10 -3.689331  40.459282   05  CHAMARTÍN      2\n",
       "11 -3.687851  40.449845   05  CHAMARTÍN      4"
      ]
     },
     "execution_count": 318,
     "metadata": {},
     "output_type": "execute_result"
    }
   ],
   "source": [
    "cols_llegada_estacion=['Longitud_Llegada','Latitud_Llegada', 'Distrito_Llegada' ]\n",
    "cols_salida_estacion=['Longitud_Salida', 'Latitud_Salida','Distrito_Salida']\n",
    "cols_estaciones=['Longitud','Latitud', 'Distrito']\n",
    "\n",
    "estaciones_llegada=top10rutas[cols_llegada_estacion]\n",
    "estaciones_salida=top10rutas[cols_salida_estacion]\n",
    "estaciones_llegada.rename(columns=dict(zip(cols_llegada_estacion,cols_estaciones)) , inplace=True)\n",
    "estaciones_salida.rename(columns=dict(zip(cols_salida_estacion,cols_estaciones)) , inplace=True)\n",
    "\n",
    "top10estaciones0=pd.concat([estaciones_salida, estaciones_llegada], axis=0, ignore_index=True )\n",
    "top10estaciones0['count']=1\n",
    "def top_estaciones(df): \n",
    "    distrito= df['Distrito'].iloc[0]\n",
    "    count=df['count'].sum()\n",
    "    cols=['Distrito', 'count']\n",
    "    datos=[distrito, count]\n",
    "    return(pd.Series(dict(zip(cols,datos))))\n",
    "top10estaciones=top10estaciones0.groupby(['Longitud','Latitud']).apply(top_estaciones).reset_index()\n",
    "\n",
    "top10estaciones"
   ]
  },
  {
   "cell_type": "code",
   "execution_count": null,
   "metadata": {},
   "outputs": [],
   "source": []
  },
  {
   "cell_type": "code",
   "execution_count": 319,
   "metadata": {},
   "outputs": [
    {
     "name": "stdout",
     "output_type": "stream",
     "text": [
      "    Longitud    Latitud        Distrito  count\n",
      "0  -3.712818  40.429636      01  CENTRO      1\n",
      "1  -3.711444  40.411296       01 CENTRO      1\n",
      "2  -3.709409  40.415613      01  CENTRO      3\n",
      "3  -3.703591  40.446389    07  CHAMBERÍ      1\n",
      "4  -3.702545  40.410089      01  CENTRO      2\n",
      "5  -3.701707  40.441719    07  CHAMBERÍ      3\n",
      "6  -3.699243  40.406050      01  CENTRO      2\n",
      "7  -3.698303  40.396269  02  ARGANZUELA      7\n",
      "8  -3.695580  40.413283      01  CENTRO      2\n",
      "9  -3.692890  40.441485    07  CHAMBERÍ      4\n",
      "10 -3.689331  40.459282   05  CHAMARTÍN      2\n",
      "11 -3.687851  40.449845   05  CHAMARTÍN      4\n"
     ]
    },
    {
     "data": {
      "application/vnd.plotly.v1+json": {
       "config": {
        "plotlyServerURL": "https://plot.ly"
       },
       "data": [
        {
         "hovertemplate": "Distrito=01  CENTRO<br>count=%{marker.size}<br>Latitud=%{lat}<br>Longitud=%{lon}<extra></extra>",
         "lat": [
          40.4296363,
          40.4156134,
          40.4100889,
          40.4060497,
          40.4132831
         ],
         "legendgroup": "01  CENTRO",
         "lon": [
          -3.7128181,
          -3.7094093,
          -3.7025446,
          -3.6992427,
          -3.6955803
         ],
         "marker": {
          "color": "#636efa",
          "size": [
           1,
           3,
           2,
           2,
           2
          ],
          "sizemode": "area",
          "sizeref": 0.0175
         },
         "mode": "markers",
         "name": "01  CENTRO",
         "showlegend": true,
         "subplot": "mapbox",
         "type": "scattermapbox"
        },
        {
         "hovertemplate": "Distrito=01 CENTRO<br>count=%{marker.size}<br>Latitud=%{lat}<br>Longitud=%{lon}<extra></extra>",
         "lat": [
          40.4112961
         ],
         "legendgroup": "01 CENTRO",
         "lon": [
          -3.7114443
         ],
         "marker": {
          "color": "#EF553B",
          "size": [
           1
          ],
          "sizemode": "area",
          "sizeref": 0.0175
         },
         "mode": "markers",
         "name": "01 CENTRO",
         "showlegend": true,
         "subplot": "mapbox",
         "type": "scattermapbox"
        },
        {
         "hovertemplate": "Distrito=07  CHAMBERÍ<br>count=%{marker.size}<br>Latitud=%{lat}<br>Longitud=%{lon}<extra></extra>",
         "lat": [
          40.4463889,
          40.4417195,
          40.4414845
         ],
         "legendgroup": "07  CHAMBERÍ",
         "lon": [
          -3.7035911,
          -3.7017071,
          -3.6928901
         ],
         "marker": {
          "color": "#00cc96",
          "size": [
           1,
           3,
           4
          ],
          "sizemode": "area",
          "sizeref": 0.0175
         },
         "mode": "markers",
         "name": "07  CHAMBERÍ",
         "showlegend": true,
         "subplot": "mapbox",
         "type": "scattermapbox"
        },
        {
         "hovertemplate": "Distrito=02  ARGANZUELA<br>count=%{marker.size}<br>Latitud=%{lat}<br>Longitud=%{lon}<extra></extra>",
         "lat": [
          40.3962687
         ],
         "legendgroup": "02  ARGANZUELA",
         "lon": [
          -3.6983033
         ],
         "marker": {
          "color": "#ab63fa",
          "size": [
           7
          ],
          "sizemode": "area",
          "sizeref": 0.0175
         },
         "mode": "markers",
         "name": "02  ARGANZUELA",
         "showlegend": true,
         "subplot": "mapbox",
         "type": "scattermapbox"
        },
        {
         "hovertemplate": "Distrito=05  CHAMARTÍN<br>count=%{marker.size}<br>Latitud=%{lat}<br>Longitud=%{lon}<extra></extra>",
         "lat": [
          40.459282,
          40.4498448
         ],
         "legendgroup": "05  CHAMARTÍN",
         "lon": [
          -3.6893305,
          -3.6878512
         ],
         "marker": {
          "color": "#FFA15A",
          "size": [
           2,
           4
          ],
          "sizemode": "area",
          "sizeref": 0.0175
         },
         "mode": "markers",
         "name": "05  CHAMARTÍN",
         "showlegend": true,
         "subplot": "mapbox",
         "type": "scattermapbox"
        },
        {
         "lat": [
          40.4414845,
          40.3962687
         ],
         "line": {
          "width": 6.385
         },
         "lon": [
          -3.6928901,
          -3.6983033
         ],
         "mode": "markers+lines",
         "name": "Ruta 1",
         "type": "scattermapbox"
        },
        {
         "lat": [
          40.3962687,
          40.4132831
         ],
         "line": {
          "width": 7.640000000000001
         },
         "lon": [
          -3.6983033,
          -3.6955803
         ],
         "mode": "markers+lines",
         "name": "Ruta 2",
         "type": "scattermapbox"
        },
        {
         "lat": [
          40.4414845,
          40.4060497
         ],
         "line": {
          "width": 6.3500000000000005
         },
         "lon": [
          -3.6928901,
          -3.6992427
         ],
         "mode": "markers+lines",
         "name": "Ruta 3",
         "type": "scattermapbox"
        },
        {
         "lat": [
          40.4417195,
          40.4498448
         ],
         "line": {
          "width": 7.12
         },
         "lon": [
          -3.7017071,
          -3.6878512
         ],
         "mode": "markers+lines",
         "name": "Ruta 4",
         "type": "scattermapbox"
        },
        {
         "lat": [
          40.459282,
          40.4417195
         ],
         "line": {
          "width": 3.065
         },
         "lon": [
          -3.6893305,
          -3.7017071
         ],
         "mode": "markers+lines",
         "name": "Ruta 5",
         "type": "scattermapbox"
        },
        {
         "lat": [
          40.3962687,
          40.4100889
         ],
         "line": {
          "width": 6.925
         },
         "lon": [
          -3.6983033,
          -3.7025446
         ],
         "mode": "markers+lines",
         "name": "Ruta 6",
         "type": "scattermapbox"
        },
        {
         "lat": [
          40.4463889,
          40.3962687
         ],
         "line": {
          "width": 3.845
         },
         "lon": [
          -3.7035911,
          -3.6983033
         ],
         "mode": "markers+lines",
         "name": "Ruta 7",
         "type": "scattermapbox"
        },
        {
         "lat": [
          40.4156134,
          40.4498448
         ],
         "line": {
          "width": 9.700000000000001
         },
         "lon": [
          -3.7094093,
          -3.6878512
         ],
         "mode": "markers+lines",
         "name": "Ruta 8",
         "type": "scattermapbox"
        },
        {
         "lat": [
          40.4156134,
          40.459282
         ],
         "line": {
          "width": 3.075
         },
         "lon": [
          -3.7094093,
          -3.6893305
         ],
         "mode": "markers+lines",
         "name": "Ruta 9",
         "type": "scattermapbox"
        },
        {
         "lat": [
          40.4296363,
          40.4112961
         ],
         "line": {
          "width": 3.2800000000000002
         },
         "lon": [
          -3.7128181,
          -3.7114443
         ],
         "mode": "markers+lines",
         "name": "Ruta 10",
         "type": "scattermapbox"
        }
       ],
       "layout": {
        "autosize": true,
        "height": 1000,
        "hovermode": "closest",
        "legend": {
         "itemsizing": "constant",
         "title": {
          "text": "Distrito"
         },
         "tracegroupgap": 0
        },
        "mapbox": {
         "bearing": 0,
         "center": {
          "lat": 40.435,
          "lon": -3.69
         },
         "domain": {
          "x": [
           0,
           1
          ],
          "y": [
           0,
           1
          ]
         },
         "style": "carto-positron",
         "zoom": 12.5
        },
        "margin": {
         "t": 60
        },
        "showlegend": true,
        "template": {
         "data": {
          "bar": [
           {
            "error_x": {
             "color": "#2a3f5f"
            },
            "error_y": {
             "color": "#2a3f5f"
            },
            "marker": {
             "line": {
              "color": "#E5ECF6",
              "width": 0.5
             },
             "pattern": {
              "fillmode": "overlay",
              "size": 10,
              "solidity": 0.2
             }
            },
            "type": "bar"
           }
          ],
          "barpolar": [
           {
            "marker": {
             "line": {
              "color": "#E5ECF6",
              "width": 0.5
             },
             "pattern": {
              "fillmode": "overlay",
              "size": 10,
              "solidity": 0.2
             }
            },
            "type": "barpolar"
           }
          ],
          "carpet": [
           {
            "aaxis": {
             "endlinecolor": "#2a3f5f",
             "gridcolor": "white",
             "linecolor": "white",
             "minorgridcolor": "white",
             "startlinecolor": "#2a3f5f"
            },
            "baxis": {
             "endlinecolor": "#2a3f5f",
             "gridcolor": "white",
             "linecolor": "white",
             "minorgridcolor": "white",
             "startlinecolor": "#2a3f5f"
            },
            "type": "carpet"
           }
          ],
          "choropleth": [
           {
            "colorbar": {
             "outlinewidth": 0,
             "ticks": ""
            },
            "type": "choropleth"
           }
          ],
          "contour": [
           {
            "colorbar": {
             "outlinewidth": 0,
             "ticks": ""
            },
            "colorscale": [
             [
              0,
              "#0d0887"
             ],
             [
              0.1111111111111111,
              "#46039f"
             ],
             [
              0.2222222222222222,
              "#7201a8"
             ],
             [
              0.3333333333333333,
              "#9c179e"
             ],
             [
              0.4444444444444444,
              "#bd3786"
             ],
             [
              0.5555555555555556,
              "#d8576b"
             ],
             [
              0.6666666666666666,
              "#ed7953"
             ],
             [
              0.7777777777777778,
              "#fb9f3a"
             ],
             [
              0.8888888888888888,
              "#fdca26"
             ],
             [
              1,
              "#f0f921"
             ]
            ],
            "type": "contour"
           }
          ],
          "contourcarpet": [
           {
            "colorbar": {
             "outlinewidth": 0,
             "ticks": ""
            },
            "type": "contourcarpet"
           }
          ],
          "heatmap": [
           {
            "colorbar": {
             "outlinewidth": 0,
             "ticks": ""
            },
            "colorscale": [
             [
              0,
              "#0d0887"
             ],
             [
              0.1111111111111111,
              "#46039f"
             ],
             [
              0.2222222222222222,
              "#7201a8"
             ],
             [
              0.3333333333333333,
              "#9c179e"
             ],
             [
              0.4444444444444444,
              "#bd3786"
             ],
             [
              0.5555555555555556,
              "#d8576b"
             ],
             [
              0.6666666666666666,
              "#ed7953"
             ],
             [
              0.7777777777777778,
              "#fb9f3a"
             ],
             [
              0.8888888888888888,
              "#fdca26"
             ],
             [
              1,
              "#f0f921"
             ]
            ],
            "type": "heatmap"
           }
          ],
          "heatmapgl": [
           {
            "colorbar": {
             "outlinewidth": 0,
             "ticks": ""
            },
            "colorscale": [
             [
              0,
              "#0d0887"
             ],
             [
              0.1111111111111111,
              "#46039f"
             ],
             [
              0.2222222222222222,
              "#7201a8"
             ],
             [
              0.3333333333333333,
              "#9c179e"
             ],
             [
              0.4444444444444444,
              "#bd3786"
             ],
             [
              0.5555555555555556,
              "#d8576b"
             ],
             [
              0.6666666666666666,
              "#ed7953"
             ],
             [
              0.7777777777777778,
              "#fb9f3a"
             ],
             [
              0.8888888888888888,
              "#fdca26"
             ],
             [
              1,
              "#f0f921"
             ]
            ],
            "type": "heatmapgl"
           }
          ],
          "histogram": [
           {
            "marker": {
             "pattern": {
              "fillmode": "overlay",
              "size": 10,
              "solidity": 0.2
             }
            },
            "type": "histogram"
           }
          ],
          "histogram2d": [
           {
            "colorbar": {
             "outlinewidth": 0,
             "ticks": ""
            },
            "colorscale": [
             [
              0,
              "#0d0887"
             ],
             [
              0.1111111111111111,
              "#46039f"
             ],
             [
              0.2222222222222222,
              "#7201a8"
             ],
             [
              0.3333333333333333,
              "#9c179e"
             ],
             [
              0.4444444444444444,
              "#bd3786"
             ],
             [
              0.5555555555555556,
              "#d8576b"
             ],
             [
              0.6666666666666666,
              "#ed7953"
             ],
             [
              0.7777777777777778,
              "#fb9f3a"
             ],
             [
              0.8888888888888888,
              "#fdca26"
             ],
             [
              1,
              "#f0f921"
             ]
            ],
            "type": "histogram2d"
           }
          ],
          "histogram2dcontour": [
           {
            "colorbar": {
             "outlinewidth": 0,
             "ticks": ""
            },
            "colorscale": [
             [
              0,
              "#0d0887"
             ],
             [
              0.1111111111111111,
              "#46039f"
             ],
             [
              0.2222222222222222,
              "#7201a8"
             ],
             [
              0.3333333333333333,
              "#9c179e"
             ],
             [
              0.4444444444444444,
              "#bd3786"
             ],
             [
              0.5555555555555556,
              "#d8576b"
             ],
             [
              0.6666666666666666,
              "#ed7953"
             ],
             [
              0.7777777777777778,
              "#fb9f3a"
             ],
             [
              0.8888888888888888,
              "#fdca26"
             ],
             [
              1,
              "#f0f921"
             ]
            ],
            "type": "histogram2dcontour"
           }
          ],
          "mesh3d": [
           {
            "colorbar": {
             "outlinewidth": 0,
             "ticks": ""
            },
            "type": "mesh3d"
           }
          ],
          "parcoords": [
           {
            "line": {
             "colorbar": {
              "outlinewidth": 0,
              "ticks": ""
             }
            },
            "type": "parcoords"
           }
          ],
          "pie": [
           {
            "automargin": true,
            "type": "pie"
           }
          ],
          "scatter": [
           {
            "marker": {
             "colorbar": {
              "outlinewidth": 0,
              "ticks": ""
             }
            },
            "type": "scatter"
           }
          ],
          "scatter3d": [
           {
            "line": {
             "colorbar": {
              "outlinewidth": 0,
              "ticks": ""
             }
            },
            "marker": {
             "colorbar": {
              "outlinewidth": 0,
              "ticks": ""
             }
            },
            "type": "scatter3d"
           }
          ],
          "scattercarpet": [
           {
            "marker": {
             "colorbar": {
              "outlinewidth": 0,
              "ticks": ""
             }
            },
            "type": "scattercarpet"
           }
          ],
          "scattergeo": [
           {
            "marker": {
             "colorbar": {
              "outlinewidth": 0,
              "ticks": ""
             }
            },
            "type": "scattergeo"
           }
          ],
          "scattergl": [
           {
            "marker": {
             "colorbar": {
              "outlinewidth": 0,
              "ticks": ""
             }
            },
            "type": "scattergl"
           }
          ],
          "scattermapbox": [
           {
            "marker": {
             "colorbar": {
              "outlinewidth": 0,
              "ticks": ""
             }
            },
            "type": "scattermapbox"
           }
          ],
          "scatterpolar": [
           {
            "marker": {
             "colorbar": {
              "outlinewidth": 0,
              "ticks": ""
             }
            },
            "type": "scatterpolar"
           }
          ],
          "scatterpolargl": [
           {
            "marker": {
             "colorbar": {
              "outlinewidth": 0,
              "ticks": ""
             }
            },
            "type": "scatterpolargl"
           }
          ],
          "scatterternary": [
           {
            "marker": {
             "colorbar": {
              "outlinewidth": 0,
              "ticks": ""
             }
            },
            "type": "scatterternary"
           }
          ],
          "surface": [
           {
            "colorbar": {
             "outlinewidth": 0,
             "ticks": ""
            },
            "colorscale": [
             [
              0,
              "#0d0887"
             ],
             [
              0.1111111111111111,
              "#46039f"
             ],
             [
              0.2222222222222222,
              "#7201a8"
             ],
             [
              0.3333333333333333,
              "#9c179e"
             ],
             [
              0.4444444444444444,
              "#bd3786"
             ],
             [
              0.5555555555555556,
              "#d8576b"
             ],
             [
              0.6666666666666666,
              "#ed7953"
             ],
             [
              0.7777777777777778,
              "#fb9f3a"
             ],
             [
              0.8888888888888888,
              "#fdca26"
             ],
             [
              1,
              "#f0f921"
             ]
            ],
            "type": "surface"
           }
          ],
          "table": [
           {
            "cells": {
             "fill": {
              "color": "#EBF0F8"
             },
             "line": {
              "color": "white"
             }
            },
            "header": {
             "fill": {
              "color": "#C8D4E3"
             },
             "line": {
              "color": "white"
             }
            },
            "type": "table"
           }
          ]
         },
         "layout": {
          "annotationdefaults": {
           "arrowcolor": "#2a3f5f",
           "arrowhead": 0,
           "arrowwidth": 1
          },
          "autotypenumbers": "strict",
          "coloraxis": {
           "colorbar": {
            "outlinewidth": 0,
            "ticks": ""
           }
          },
          "colorscale": {
           "diverging": [
            [
             0,
             "#8e0152"
            ],
            [
             0.1,
             "#c51b7d"
            ],
            [
             0.2,
             "#de77ae"
            ],
            [
             0.3,
             "#f1b6da"
            ],
            [
             0.4,
             "#fde0ef"
            ],
            [
             0.5,
             "#f7f7f7"
            ],
            [
             0.6,
             "#e6f5d0"
            ],
            [
             0.7,
             "#b8e186"
            ],
            [
             0.8,
             "#7fbc41"
            ],
            [
             0.9,
             "#4d9221"
            ],
            [
             1,
             "#276419"
            ]
           ],
           "sequential": [
            [
             0,
             "#0d0887"
            ],
            [
             0.1111111111111111,
             "#46039f"
            ],
            [
             0.2222222222222222,
             "#7201a8"
            ],
            [
             0.3333333333333333,
             "#9c179e"
            ],
            [
             0.4444444444444444,
             "#bd3786"
            ],
            [
             0.5555555555555556,
             "#d8576b"
            ],
            [
             0.6666666666666666,
             "#ed7953"
            ],
            [
             0.7777777777777778,
             "#fb9f3a"
            ],
            [
             0.8888888888888888,
             "#fdca26"
            ],
            [
             1,
             "#f0f921"
            ]
           ],
           "sequentialminus": [
            [
             0,
             "#0d0887"
            ],
            [
             0.1111111111111111,
             "#46039f"
            ],
            [
             0.2222222222222222,
             "#7201a8"
            ],
            [
             0.3333333333333333,
             "#9c179e"
            ],
            [
             0.4444444444444444,
             "#bd3786"
            ],
            [
             0.5555555555555556,
             "#d8576b"
            ],
            [
             0.6666666666666666,
             "#ed7953"
            ],
            [
             0.7777777777777778,
             "#fb9f3a"
            ],
            [
             0.8888888888888888,
             "#fdca26"
            ],
            [
             1,
             "#f0f921"
            ]
           ]
          },
          "colorway": [
           "#636efa",
           "#EF553B",
           "#00cc96",
           "#ab63fa",
           "#FFA15A",
           "#19d3f3",
           "#FF6692",
           "#B6E880",
           "#FF97FF",
           "#FECB52"
          ],
          "font": {
           "color": "#2a3f5f"
          },
          "geo": {
           "bgcolor": "white",
           "lakecolor": "white",
           "landcolor": "#E5ECF6",
           "showlakes": true,
           "showland": true,
           "subunitcolor": "white"
          },
          "hoverlabel": {
           "align": "left"
          },
          "hovermode": "closest",
          "mapbox": {
           "style": "light"
          },
          "paper_bgcolor": "white",
          "plot_bgcolor": "#E5ECF6",
          "polar": {
           "angularaxis": {
            "gridcolor": "white",
            "linecolor": "white",
            "ticks": ""
           },
           "bgcolor": "#E5ECF6",
           "radialaxis": {
            "gridcolor": "white",
            "linecolor": "white",
            "ticks": ""
           }
          },
          "scene": {
           "xaxis": {
            "backgroundcolor": "#E5ECF6",
            "gridcolor": "white",
            "gridwidth": 2,
            "linecolor": "white",
            "showbackground": true,
            "ticks": "",
            "zerolinecolor": "white"
           },
           "yaxis": {
            "backgroundcolor": "#E5ECF6",
            "gridcolor": "white",
            "gridwidth": 2,
            "linecolor": "white",
            "showbackground": true,
            "ticks": "",
            "zerolinecolor": "white"
           },
           "zaxis": {
            "backgroundcolor": "#E5ECF6",
            "gridcolor": "white",
            "gridwidth": 2,
            "linecolor": "white",
            "showbackground": true,
            "ticks": "",
            "zerolinecolor": "white"
           }
          },
          "shapedefaults": {
           "line": {
            "color": "#2a3f5f"
           }
          },
          "ternary": {
           "aaxis": {
            "gridcolor": "white",
            "linecolor": "white",
            "ticks": ""
           },
           "baxis": {
            "gridcolor": "white",
            "linecolor": "white",
            "ticks": ""
           },
           "bgcolor": "#E5ECF6",
           "caxis": {
            "gridcolor": "white",
            "linecolor": "white",
            "ticks": ""
           }
          },
          "title": {
           "x": 0.05
          },
          "xaxis": {
           "automargin": true,
           "gridcolor": "white",
           "linecolor": "white",
           "ticks": "",
           "title": {
            "standoff": 15
           },
           "zerolinecolor": "white",
           "zerolinewidth": 2
          },
          "yaxis": {
           "automargin": true,
           "gridcolor": "white",
           "linecolor": "white",
           "ticks": "",
           "title": {
            "standoff": 15
           },
           "zerolinecolor": "white",
           "zerolinewidth": 2
          }
         }
        },
        "title": {
         "text": "Rutas más concurridas"
        },
        "width": 1000
       }
      }
     },
     "metadata": {},
     "output_type": "display_data"
    }
   ],
   "source": [
    "\n",
    "print(top10estaciones)\n",
    "#fig = go.Figure()\n",
    "fig = px.scatter_mapbox(top10estaciones, lat=\"Latitud\", lon=\"Longitud\", size='count',color='Distrito', width = 1000, height = 900, zoom = 50)\n",
    "# fig.add_trace(go.Scattermapbox(\n",
    "#         lat = top10estaciones[\"Latitud\"],\n",
    "#         lon=top10estaciones[\"Longitud\"],\n",
    "#         mode='markers',\n",
    "#         showlegend=False,\n",
    "#         marker=go.scattermapbox.Marker(\n",
    "#             size=top10estaciones[\"count\"],\n",
    "#             color='blue', \n",
    "#             opacity=0.7,\n",
    "#             #size=50,\n",
    "#              )\n",
    "#     ))\n",
    "for i in range(top7rutas.shape[0]): \n",
    "    valores=top7rutas.iloc[i,:]\n",
    "\n",
    "    fig.add_trace(\n",
    "        go.Scattermapbox(\n",
    "        mode = \"markers+lines\",\n",
    "        lon = [valores['Longitud_Salida'], valores['Longitud_Llegada']],\n",
    "        lat = [valores['Latitud_Salida'], valores['Latitud_Llegada']],\n",
    "        line= {'width':valores['viajes']*0.005} ,\n",
    "        name= 'Ruta '+str(1+i)\n",
    "\n",
    "        ))\n",
    "hover_header = 'Estacion: %{text} '\n",
    "\n",
    "fig.update_layout(\n",
    "    title='Rutas más concurridas',\n",
    "    autosize=True,\n",
    "    hovermode='closest',\n",
    "    showlegend=True,\n",
    "    width = 1000,\n",
    "    height = 1000,\n",
    "    mapbox=dict(\n",
    "        bearing=0,\n",
    "        center=dict(\n",
    "            lat=40.435,\n",
    "            lon=-3.69\n",
    "        ),\n",
    "        zoom=12.5,\n",
    "        style= 'carto-positron' # 'open-street-map'\n",
    "        \n",
    "    )\n",
    ")\n",
    "fig.show()"
   ]
  },
  {
   "cell_type": "markdown",
   "metadata": {},
   "source": [
    "### Mapa rutas desde una estación en concreto"
   ]
  },
  {
   "cell_type": "code",
   "execution_count": 320,
   "metadata": {},
   "outputs": [
    {
     "data": {
      "text/html": [
       "<div>\n",
       "<style scoped>\n",
       "    .dataframe tbody tr th:only-of-type {\n",
       "        vertical-align: middle;\n",
       "    }\n",
       "\n",
       "    .dataframe tbody tr th {\n",
       "        vertical-align: top;\n",
       "    }\n",
       "\n",
       "    .dataframe thead th {\n",
       "        text-align: right;\n",
       "    }\n",
       "</style>\n",
       "<table border=\"1\" class=\"dataframe\">\n",
       "  <thead>\n",
       "    <tr style=\"text-align: right;\">\n",
       "      <th></th>\n",
       "      <th>Origen_destino</th>\n",
       "      <th>Latitud_Salida</th>\n",
       "      <th>Longitud_Salida</th>\n",
       "      <th>Distrito_Salida</th>\n",
       "      <th>Latitud_Llegada</th>\n",
       "      <th>Longitud_Llegada</th>\n",
       "      <th>Distrito_Llegada</th>\n",
       "      <th>idplug_station</th>\n",
       "      <th>idunplug_station</th>\n",
       "      <th>_id</th>\n",
       "    </tr>\n",
       "  </thead>\n",
       "  <tbody>\n",
       "    <tr>\n",
       "      <th>40380</th>\n",
       "      <td>9-149</td>\n",
       "      <td>40.415613</td>\n",
       "      <td>-3.709409</td>\n",
       "      <td>01  CENTRO</td>\n",
       "      <td>40.449845</td>\n",
       "      <td>-3.687851</td>\n",
       "      <td>05 CHAMARTÍN</td>\n",
       "      <td>149</td>\n",
       "      <td>9</td>\n",
       "      <td>1163</td>\n",
       "    </tr>\n",
       "    <tr>\n",
       "      <th>17324</th>\n",
       "      <td>175-27</td>\n",
       "      <td>40.396269</td>\n",
       "      <td>-3.698303</td>\n",
       "      <td>02  ARGANZUELA</td>\n",
       "      <td>40.413283</td>\n",
       "      <td>-3.695580</td>\n",
       "      <td>01 CENTRO</td>\n",
       "      <td>27</td>\n",
       "      <td>175</td>\n",
       "      <td>851</td>\n",
       "    </tr>\n",
       "    <tr>\n",
       "      <th>11462</th>\n",
       "      <td>149-9</td>\n",
       "      <td>40.449845</td>\n",
       "      <td>-3.687851</td>\n",
       "      <td>05  CHAMARTÍN</td>\n",
       "      <td>40.415613</td>\n",
       "      <td>-3.709409</td>\n",
       "      <td>01 CENTRO</td>\n",
       "      <td>9</td>\n",
       "      <td>149</td>\n",
       "      <td>777</td>\n",
       "    </tr>\n",
       "    <tr>\n",
       "      <th>7663</th>\n",
       "      <td>132-175</td>\n",
       "      <td>40.446389</td>\n",
       "      <td>-3.703591</td>\n",
       "      <td>07  CHAMBERÍ</td>\n",
       "      <td>40.396269</td>\n",
       "      <td>-3.698303</td>\n",
       "      <td>02 ARGANZUELA</td>\n",
       "      <td>175</td>\n",
       "      <td>132</td>\n",
       "      <td>769</td>\n",
       "    </tr>\n",
       "    <tr>\n",
       "      <th>17341</th>\n",
       "      <td>175-43</td>\n",
       "      <td>40.396269</td>\n",
       "      <td>-3.698303</td>\n",
       "      <td>02  ARGANZUELA</td>\n",
       "      <td>40.410089</td>\n",
       "      <td>-3.702545</td>\n",
       "      <td>01 CENTRO</td>\n",
       "      <td>43</td>\n",
       "      <td>175</td>\n",
       "      <td>754</td>\n",
       "    </tr>\n",
       "  </tbody>\n",
       "</table>\n",
       "</div>"
      ],
      "text/plain": [
       "      Origen_destino  Latitud_Salida  Longitud_Salida Distrito_Salida  \\\n",
       "40380          9-149       40.415613        -3.709409      01  CENTRO   \n",
       "17324         175-27       40.396269        -3.698303  02  ARGANZUELA   \n",
       "11462          149-9       40.449845        -3.687851   05  CHAMARTÍN   \n",
       "7663         132-175       40.446389        -3.703591    07  CHAMBERÍ   \n",
       "17341         175-43       40.396269        -3.698303  02  ARGANZUELA   \n",
       "\n",
       "       Latitud_Llegada  Longitud_Llegada Distrito_Llegada idplug_station  \\\n",
       "40380        40.449845         -3.687851     05 CHAMARTÍN            149   \n",
       "17324        40.413283         -3.695580        01 CENTRO             27   \n",
       "11462        40.415613         -3.709409        01 CENTRO              9   \n",
       "7663         40.396269         -3.698303    02 ARGANZUELA            175   \n",
       "17341        40.410089         -3.702545        01 CENTRO             43   \n",
       "\n",
       "      idunplug_station   _id  \n",
       "40380                9  1163  \n",
       "17324              175   851  \n",
       "11462              149   777  \n",
       "7663               132   769  \n",
       "17341              175   754  "
      ]
     },
     "execution_count": 320,
     "metadata": {},
     "output_type": "execute_result"
    }
   ],
   "source": [
    "df_rutas.head()"
   ]
  },
  {
   "cell_type": "code",
   "execution_count": 321,
   "metadata": {},
   "outputs": [
    {
     "data": {
      "text/plain": [
       "idplug_station\n",
       "175    25268\n",
       "163    22227\n",
       "43     21718\n",
       "57     20627\n",
       "83     19032\n",
       "       ...  \n",
       "16      2154\n",
       "197     2115\n",
       "203     1713\n",
       "209     1583\n",
       "28      1272\n",
       "Name: _id, Length: 209, dtype: int64"
      ]
     },
     "execution_count": 321,
     "metadata": {},
     "output_type": "execute_result"
    }
   ],
   "source": [
    "df_rutas.groupby('idplug_station')['_id'].sum().sort_values(ascending=False)"
   ]
  },
  {
   "cell_type": "code",
   "execution_count": 325,
   "metadata": {},
   "outputs": [],
   "source": [
    "rutas_175=df_rutas[df_rutas['idplug_station']== '175']\n",
    "rutas_175_top=rutas_175.head(10)"
   ]
  },
  {
   "cell_type": "code",
   "execution_count": 330,
   "metadata": {},
   "outputs": [],
   "source": [
    "rutas_175_top.rename(columns={'_id': 'viajes'}, inplace=True)"
   ]
  },
  {
   "cell_type": "code",
   "execution_count": 327,
   "metadata": {},
   "outputs": [
    {
     "data": {
      "text/html": [
       "<div>\n",
       "<style scoped>\n",
       "    .dataframe tbody tr th:only-of-type {\n",
       "        vertical-align: middle;\n",
       "    }\n",
       "\n",
       "    .dataframe tbody tr th {\n",
       "        vertical-align: top;\n",
       "    }\n",
       "\n",
       "    .dataframe thead th {\n",
       "        text-align: right;\n",
       "    }\n",
       "</style>\n",
       "<table border=\"1\" class=\"dataframe\">\n",
       "  <thead>\n",
       "    <tr style=\"text-align: right;\">\n",
       "      <th></th>\n",
       "      <th>Longitud</th>\n",
       "      <th>Latitud</th>\n",
       "      <th>Distrito</th>\n",
       "      <th>count</th>\n",
       "    </tr>\n",
       "  </thead>\n",
       "  <tbody>\n",
       "    <tr>\n",
       "      <th>0</th>\n",
       "      <td>-3.711444</td>\n",
       "      <td>40.411296</td>\n",
       "      <td>01  CENTRO</td>\n",
       "      <td>1</td>\n",
       "    </tr>\n",
       "    <tr>\n",
       "      <th>1</th>\n",
       "      <td>-3.711138</td>\n",
       "      <td>40.406949</td>\n",
       "      <td>01  CENTRO</td>\n",
       "      <td>1</td>\n",
       "    </tr>\n",
       "    <tr>\n",
       "      <th>2</th>\n",
       "      <td>-3.703591</td>\n",
       "      <td>40.446389</td>\n",
       "      <td>07  CHAMBERÍ</td>\n",
       "      <td>1</td>\n",
       "    </tr>\n",
       "    <tr>\n",
       "      <th>3</th>\n",
       "      <td>-3.703288</td>\n",
       "      <td>40.418484</td>\n",
       "      <td>01  CENTRO</td>\n",
       "      <td>1</td>\n",
       "    </tr>\n",
       "    <tr>\n",
       "      <th>4</th>\n",
       "      <td>-3.702545</td>\n",
       "      <td>40.410089</td>\n",
       "      <td>01  CENTRO</td>\n",
       "      <td>1</td>\n",
       "    </tr>\n",
       "    <tr>\n",
       "      <th>5</th>\n",
       "      <td>-3.701781</td>\n",
       "      <td>40.417162</td>\n",
       "      <td>01  CENTRO</td>\n",
       "      <td>1</td>\n",
       "    </tr>\n",
       "    <tr>\n",
       "      <th>6</th>\n",
       "      <td>-3.700784</td>\n",
       "      <td>40.414518</td>\n",
       "      <td>01  CENTRO</td>\n",
       "      <td>1</td>\n",
       "    </tr>\n",
       "    <tr>\n",
       "      <th>7</th>\n",
       "      <td>-3.698303</td>\n",
       "      <td>40.396269</td>\n",
       "      <td>02 ARGANZUELA</td>\n",
       "      <td>10</td>\n",
       "    </tr>\n",
       "    <tr>\n",
       "      <th>8</th>\n",
       "      <td>-3.695580</td>\n",
       "      <td>40.413283</td>\n",
       "      <td>01  CENTRO</td>\n",
       "      <td>1</td>\n",
       "    </tr>\n",
       "    <tr>\n",
       "      <th>9</th>\n",
       "      <td>-3.694542</td>\n",
       "      <td>40.423831</td>\n",
       "      <td>01  CENTRO</td>\n",
       "      <td>1</td>\n",
       "    </tr>\n",
       "    <tr>\n",
       "      <th>10</th>\n",
       "      <td>-3.692890</td>\n",
       "      <td>40.441485</td>\n",
       "      <td>07  CHAMBERÍ</td>\n",
       "      <td>1</td>\n",
       "    </tr>\n",
       "  </tbody>\n",
       "</table>\n",
       "</div>"
      ],
      "text/plain": [
       "    Longitud    Latitud       Distrito  count\n",
       "0  -3.711444  40.411296     01  CENTRO      1\n",
       "1  -3.711138  40.406949     01  CENTRO      1\n",
       "2  -3.703591  40.446389   07  CHAMBERÍ      1\n",
       "3  -3.703288  40.418484     01  CENTRO      1\n",
       "4  -3.702545  40.410089     01  CENTRO      1\n",
       "5  -3.701781  40.417162     01  CENTRO      1\n",
       "6  -3.700784  40.414518     01  CENTRO      1\n",
       "7  -3.698303  40.396269  02 ARGANZUELA     10\n",
       "8  -3.695580  40.413283     01  CENTRO      1\n",
       "9  -3.694542  40.423831     01  CENTRO      1\n",
       "10 -3.692890  40.441485   07  CHAMBERÍ      1"
      ]
     },
     "execution_count": 327,
     "metadata": {},
     "output_type": "execute_result"
    }
   ],
   "source": [
    "cols_llegada_estacion=['Longitud_Llegada','Latitud_Llegada', 'Distrito_Llegada' ]\n",
    "cols_salida_estacion=['Longitud_Salida', 'Latitud_Salida','Distrito_Salida']\n",
    "cols_estaciones=['Longitud','Latitud', 'Distrito']\n",
    "\n",
    "estaciones_llegada=rutas_175_top[cols_llegada_estacion]\n",
    "estaciones_salida=rutas_175_top[cols_salida_estacion]\n",
    "estaciones_llegada.rename(columns=dict(zip(cols_llegada_estacion,cols_estaciones)) , inplace=True)\n",
    "estaciones_salida.rename(columns=dict(zip(cols_salida_estacion,cols_estaciones)) , inplace=True)\n",
    "\n",
    "top175estaciones0=pd.concat([estaciones_salida, estaciones_llegada], axis=0, ignore_index=True )\n",
    "top175estaciones0['count']=1\n",
    "def top_estaciones(df): \n",
    "    distrito= df['Distrito'].iloc[0]\n",
    "    count=df['count'].sum()\n",
    "    cols=['Distrito', 'count']\n",
    "    datos=[distrito, count]\n",
    "    return(pd.Series(dict(zip(cols,datos))))\n",
    "top175estaciones=top175estaciones0.groupby(['Longitud','Latitud']).apply(top_estaciones).reset_index()\n",
    "\n",
    "top175estaciones"
   ]
  },
  {
   "cell_type": "code",
   "execution_count": 331,
   "metadata": {},
   "outputs": [
    {
     "name": "stdout",
     "output_type": "stream",
     "text": [
      "    Longitud    Latitud       Distrito  count\n",
      "0  -3.711444  40.411296     01  CENTRO      1\n",
      "1  -3.711138  40.406949     01  CENTRO      1\n",
      "2  -3.703591  40.446389   07  CHAMBERÍ      1\n",
      "3  -3.703288  40.418484     01  CENTRO      1\n",
      "4  -3.702545  40.410089     01  CENTRO      1\n",
      "5  -3.701781  40.417162     01  CENTRO      1\n",
      "6  -3.700784  40.414518     01  CENTRO      1\n",
      "7  -3.698303  40.396269  02 ARGANZUELA     10\n",
      "8  -3.695580  40.413283     01  CENTRO      1\n",
      "9  -3.694542  40.423831     01  CENTRO      1\n",
      "10 -3.692890  40.441485   07  CHAMBERÍ      1\n"
     ]
    },
    {
     "data": {
      "application/vnd.plotly.v1+json": {
       "config": {
        "plotlyServerURL": "https://plot.ly"
       },
       "data": [
        {
         "hovertemplate": "Distrito=01  CENTRO<br>count=%{marker.size}<br>Latitud=%{lat}<br>Longitud=%{lon}<extra></extra>",
         "lat": [
          40.4112961,
          40.4069486,
          40.418484,
          40.4100889,
          40.41716195,
          40.4145181,
          40.4132831,
          40.4238308
         ],
         "legendgroup": "01  CENTRO",
         "lon": [
          -3.7114443,
          -3.7111381,
          -3.7032875,
          -3.7025446,
          -3.7017808,
          -3.7007838,
          -3.6955803,
          -3.6945421
         ],
         "marker": {
          "color": "#636efa",
          "size": [
           1,
           1,
           1,
           1,
           1,
           1,
           1,
           1
          ],
          "sizemode": "area",
          "sizeref": 0.025
         },
         "mode": "markers",
         "name": "01  CENTRO",
         "showlegend": true,
         "subplot": "mapbox",
         "type": "scattermapbox"
        },
        {
         "hovertemplate": "Distrito=07  CHAMBERÍ<br>count=%{marker.size}<br>Latitud=%{lat}<br>Longitud=%{lon}<extra></extra>",
         "lat": [
          40.4463889,
          40.4414845
         ],
         "legendgroup": "07  CHAMBERÍ",
         "lon": [
          -3.7035911,
          -3.6928901
         ],
         "marker": {
          "color": "#EF553B",
          "size": [
           1,
           1
          ],
          "sizemode": "area",
          "sizeref": 0.025
         },
         "mode": "markers",
         "name": "07  CHAMBERÍ",
         "showlegend": true,
         "subplot": "mapbox",
         "type": "scattermapbox"
        },
        {
         "hovertemplate": "Distrito=02 ARGANZUELA<br>count=%{marker.size}<br>Latitud=%{lat}<br>Longitud=%{lon}<extra></extra>",
         "lat": [
          40.3962687
         ],
         "legendgroup": "02 ARGANZUELA",
         "lon": [
          -3.6983033
         ],
         "marker": {
          "color": "#00cc96",
          "size": [
           10
          ],
          "sizemode": "area",
          "sizeref": 0.025
         },
         "mode": "markers",
         "name": "02 ARGANZUELA",
         "showlegend": true,
         "subplot": "mapbox",
         "type": "scattermapbox"
        },
        {
         "lat": [
          40.4463889,
          40.3962687
         ],
         "line": {
          "width": 3.845
         },
         "lon": [
          -3.7035911,
          -3.6983033
         ],
         "mode": "markers+lines",
         "name": "Ruta 1",
         "type": "scattermapbox"
        },
        {
         "lat": [
          40.4132831,
          40.3962687
         ],
         "line": {
          "width": 3.3850000000000002
         },
         "lon": [
          -3.6955803,
          -3.6983033
         ],
         "mode": "markers+lines",
         "name": "Ruta 2",
         "type": "scattermapbox"
        },
        {
         "lat": [
          40.4414845,
          40.3962687
         ],
         "line": {
          "width": 3.305
         },
         "lon": [
          -3.6928901,
          -3.6983033
         ],
         "mode": "markers+lines",
         "name": "Ruta 3",
         "type": "scattermapbox"
        },
        {
         "lat": [
          40.4100889,
          40.3962687
         ],
         "line": {
          "width": 3.1550000000000002
         },
         "lon": [
          -3.7025446,
          -3.6983033
         ],
         "mode": "markers+lines",
         "name": "Ruta 4",
         "type": "scattermapbox"
        },
        {
         "lat": [
          40.4112961,
          40.3962687
         ],
         "line": {
          "width": 3.025
         },
         "lon": [
          -3.7114443,
          -3.6983033
         ],
         "mode": "markers+lines",
         "name": "Ruta 5",
         "type": "scattermapbox"
        },
        {
         "lat": [
          40.41716195,
          40.3962687
         ],
         "line": {
          "width": 2.77
         },
         "lon": [
          -3.7017808,
          -3.6983033
         ],
         "mode": "markers+lines",
         "name": "Ruta 6",
         "type": "scattermapbox"
        },
        {
         "lat": [
          40.4238308,
          40.3962687
         ],
         "line": {
          "width": 2.48
         },
         "lon": [
          -3.6945421,
          -3.6983033
         ],
         "mode": "markers+lines",
         "name": "Ruta 7",
         "type": "scattermapbox"
        },
        {
         "lat": [
          40.4145181,
          40.3962687
         ],
         "line": {
          "width": 1.92
         },
         "lon": [
          -3.7007838,
          -3.6983033
         ],
         "mode": "markers+lines",
         "name": "Ruta 8",
         "type": "scattermapbox"
        },
        {
         "lat": [
          40.418484,
          40.3962687
         ],
         "line": {
          "width": 1.905
         },
         "lon": [
          -3.7032875,
          -3.6983033
         ],
         "mode": "markers+lines",
         "name": "Ruta 9",
         "type": "scattermapbox"
        },
        {
         "lat": [
          40.4069486,
          40.3962687
         ],
         "line": {
          "width": 1.875
         },
         "lon": [
          -3.7111381,
          -3.6983033
         ],
         "mode": "markers+lines",
         "name": "Ruta 10",
         "type": "scattermapbox"
        }
       ],
       "layout": {
        "autosize": true,
        "height": 1000,
        "hovermode": "closest",
        "legend": {
         "itemsizing": "constant",
         "title": {
          "text": "Distrito"
         },
         "tracegroupgap": 0
        },
        "mapbox": {
         "bearing": 0,
         "center": {
          "lat": 40.435,
          "lon": -3.69
         },
         "domain": {
          "x": [
           0,
           1
          ],
          "y": [
           0,
           1
          ]
         },
         "style": "carto-positron",
         "zoom": 12.5
        },
        "margin": {
         "t": 60
        },
        "showlegend": true,
        "template": {
         "data": {
          "bar": [
           {
            "error_x": {
             "color": "#2a3f5f"
            },
            "error_y": {
             "color": "#2a3f5f"
            },
            "marker": {
             "line": {
              "color": "#E5ECF6",
              "width": 0.5
             },
             "pattern": {
              "fillmode": "overlay",
              "size": 10,
              "solidity": 0.2
             }
            },
            "type": "bar"
           }
          ],
          "barpolar": [
           {
            "marker": {
             "line": {
              "color": "#E5ECF6",
              "width": 0.5
             },
             "pattern": {
              "fillmode": "overlay",
              "size": 10,
              "solidity": 0.2
             }
            },
            "type": "barpolar"
           }
          ],
          "carpet": [
           {
            "aaxis": {
             "endlinecolor": "#2a3f5f",
             "gridcolor": "white",
             "linecolor": "white",
             "minorgridcolor": "white",
             "startlinecolor": "#2a3f5f"
            },
            "baxis": {
             "endlinecolor": "#2a3f5f",
             "gridcolor": "white",
             "linecolor": "white",
             "minorgridcolor": "white",
             "startlinecolor": "#2a3f5f"
            },
            "type": "carpet"
           }
          ],
          "choropleth": [
           {
            "colorbar": {
             "outlinewidth": 0,
             "ticks": ""
            },
            "type": "choropleth"
           }
          ],
          "contour": [
           {
            "colorbar": {
             "outlinewidth": 0,
             "ticks": ""
            },
            "colorscale": [
             [
              0,
              "#0d0887"
             ],
             [
              0.1111111111111111,
              "#46039f"
             ],
             [
              0.2222222222222222,
              "#7201a8"
             ],
             [
              0.3333333333333333,
              "#9c179e"
             ],
             [
              0.4444444444444444,
              "#bd3786"
             ],
             [
              0.5555555555555556,
              "#d8576b"
             ],
             [
              0.6666666666666666,
              "#ed7953"
             ],
             [
              0.7777777777777778,
              "#fb9f3a"
             ],
             [
              0.8888888888888888,
              "#fdca26"
             ],
             [
              1,
              "#f0f921"
             ]
            ],
            "type": "contour"
           }
          ],
          "contourcarpet": [
           {
            "colorbar": {
             "outlinewidth": 0,
             "ticks": ""
            },
            "type": "contourcarpet"
           }
          ],
          "heatmap": [
           {
            "colorbar": {
             "outlinewidth": 0,
             "ticks": ""
            },
            "colorscale": [
             [
              0,
              "#0d0887"
             ],
             [
              0.1111111111111111,
              "#46039f"
             ],
             [
              0.2222222222222222,
              "#7201a8"
             ],
             [
              0.3333333333333333,
              "#9c179e"
             ],
             [
              0.4444444444444444,
              "#bd3786"
             ],
             [
              0.5555555555555556,
              "#d8576b"
             ],
             [
              0.6666666666666666,
              "#ed7953"
             ],
             [
              0.7777777777777778,
              "#fb9f3a"
             ],
             [
              0.8888888888888888,
              "#fdca26"
             ],
             [
              1,
              "#f0f921"
             ]
            ],
            "type": "heatmap"
           }
          ],
          "heatmapgl": [
           {
            "colorbar": {
             "outlinewidth": 0,
             "ticks": ""
            },
            "colorscale": [
             [
              0,
              "#0d0887"
             ],
             [
              0.1111111111111111,
              "#46039f"
             ],
             [
              0.2222222222222222,
              "#7201a8"
             ],
             [
              0.3333333333333333,
              "#9c179e"
             ],
             [
              0.4444444444444444,
              "#bd3786"
             ],
             [
              0.5555555555555556,
              "#d8576b"
             ],
             [
              0.6666666666666666,
              "#ed7953"
             ],
             [
              0.7777777777777778,
              "#fb9f3a"
             ],
             [
              0.8888888888888888,
              "#fdca26"
             ],
             [
              1,
              "#f0f921"
             ]
            ],
            "type": "heatmapgl"
           }
          ],
          "histogram": [
           {
            "marker": {
             "pattern": {
              "fillmode": "overlay",
              "size": 10,
              "solidity": 0.2
             }
            },
            "type": "histogram"
           }
          ],
          "histogram2d": [
           {
            "colorbar": {
             "outlinewidth": 0,
             "ticks": ""
            },
            "colorscale": [
             [
              0,
              "#0d0887"
             ],
             [
              0.1111111111111111,
              "#46039f"
             ],
             [
              0.2222222222222222,
              "#7201a8"
             ],
             [
              0.3333333333333333,
              "#9c179e"
             ],
             [
              0.4444444444444444,
              "#bd3786"
             ],
             [
              0.5555555555555556,
              "#d8576b"
             ],
             [
              0.6666666666666666,
              "#ed7953"
             ],
             [
              0.7777777777777778,
              "#fb9f3a"
             ],
             [
              0.8888888888888888,
              "#fdca26"
             ],
             [
              1,
              "#f0f921"
             ]
            ],
            "type": "histogram2d"
           }
          ],
          "histogram2dcontour": [
           {
            "colorbar": {
             "outlinewidth": 0,
             "ticks": ""
            },
            "colorscale": [
             [
              0,
              "#0d0887"
             ],
             [
              0.1111111111111111,
              "#46039f"
             ],
             [
              0.2222222222222222,
              "#7201a8"
             ],
             [
              0.3333333333333333,
              "#9c179e"
             ],
             [
              0.4444444444444444,
              "#bd3786"
             ],
             [
              0.5555555555555556,
              "#d8576b"
             ],
             [
              0.6666666666666666,
              "#ed7953"
             ],
             [
              0.7777777777777778,
              "#fb9f3a"
             ],
             [
              0.8888888888888888,
              "#fdca26"
             ],
             [
              1,
              "#f0f921"
             ]
            ],
            "type": "histogram2dcontour"
           }
          ],
          "mesh3d": [
           {
            "colorbar": {
             "outlinewidth": 0,
             "ticks": ""
            },
            "type": "mesh3d"
           }
          ],
          "parcoords": [
           {
            "line": {
             "colorbar": {
              "outlinewidth": 0,
              "ticks": ""
             }
            },
            "type": "parcoords"
           }
          ],
          "pie": [
           {
            "automargin": true,
            "type": "pie"
           }
          ],
          "scatter": [
           {
            "marker": {
             "colorbar": {
              "outlinewidth": 0,
              "ticks": ""
             }
            },
            "type": "scatter"
           }
          ],
          "scatter3d": [
           {
            "line": {
             "colorbar": {
              "outlinewidth": 0,
              "ticks": ""
             }
            },
            "marker": {
             "colorbar": {
              "outlinewidth": 0,
              "ticks": ""
             }
            },
            "type": "scatter3d"
           }
          ],
          "scattercarpet": [
           {
            "marker": {
             "colorbar": {
              "outlinewidth": 0,
              "ticks": ""
             }
            },
            "type": "scattercarpet"
           }
          ],
          "scattergeo": [
           {
            "marker": {
             "colorbar": {
              "outlinewidth": 0,
              "ticks": ""
             }
            },
            "type": "scattergeo"
           }
          ],
          "scattergl": [
           {
            "marker": {
             "colorbar": {
              "outlinewidth": 0,
              "ticks": ""
             }
            },
            "type": "scattergl"
           }
          ],
          "scattermapbox": [
           {
            "marker": {
             "colorbar": {
              "outlinewidth": 0,
              "ticks": ""
             }
            },
            "type": "scattermapbox"
           }
          ],
          "scatterpolar": [
           {
            "marker": {
             "colorbar": {
              "outlinewidth": 0,
              "ticks": ""
             }
            },
            "type": "scatterpolar"
           }
          ],
          "scatterpolargl": [
           {
            "marker": {
             "colorbar": {
              "outlinewidth": 0,
              "ticks": ""
             }
            },
            "type": "scatterpolargl"
           }
          ],
          "scatterternary": [
           {
            "marker": {
             "colorbar": {
              "outlinewidth": 0,
              "ticks": ""
             }
            },
            "type": "scatterternary"
           }
          ],
          "surface": [
           {
            "colorbar": {
             "outlinewidth": 0,
             "ticks": ""
            },
            "colorscale": [
             [
              0,
              "#0d0887"
             ],
             [
              0.1111111111111111,
              "#46039f"
             ],
             [
              0.2222222222222222,
              "#7201a8"
             ],
             [
              0.3333333333333333,
              "#9c179e"
             ],
             [
              0.4444444444444444,
              "#bd3786"
             ],
             [
              0.5555555555555556,
              "#d8576b"
             ],
             [
              0.6666666666666666,
              "#ed7953"
             ],
             [
              0.7777777777777778,
              "#fb9f3a"
             ],
             [
              0.8888888888888888,
              "#fdca26"
             ],
             [
              1,
              "#f0f921"
             ]
            ],
            "type": "surface"
           }
          ],
          "table": [
           {
            "cells": {
             "fill": {
              "color": "#EBF0F8"
             },
             "line": {
              "color": "white"
             }
            },
            "header": {
             "fill": {
              "color": "#C8D4E3"
             },
             "line": {
              "color": "white"
             }
            },
            "type": "table"
           }
          ]
         },
         "layout": {
          "annotationdefaults": {
           "arrowcolor": "#2a3f5f",
           "arrowhead": 0,
           "arrowwidth": 1
          },
          "autotypenumbers": "strict",
          "coloraxis": {
           "colorbar": {
            "outlinewidth": 0,
            "ticks": ""
           }
          },
          "colorscale": {
           "diverging": [
            [
             0,
             "#8e0152"
            ],
            [
             0.1,
             "#c51b7d"
            ],
            [
             0.2,
             "#de77ae"
            ],
            [
             0.3,
             "#f1b6da"
            ],
            [
             0.4,
             "#fde0ef"
            ],
            [
             0.5,
             "#f7f7f7"
            ],
            [
             0.6,
             "#e6f5d0"
            ],
            [
             0.7,
             "#b8e186"
            ],
            [
             0.8,
             "#7fbc41"
            ],
            [
             0.9,
             "#4d9221"
            ],
            [
             1,
             "#276419"
            ]
           ],
           "sequential": [
            [
             0,
             "#0d0887"
            ],
            [
             0.1111111111111111,
             "#46039f"
            ],
            [
             0.2222222222222222,
             "#7201a8"
            ],
            [
             0.3333333333333333,
             "#9c179e"
            ],
            [
             0.4444444444444444,
             "#bd3786"
            ],
            [
             0.5555555555555556,
             "#d8576b"
            ],
            [
             0.6666666666666666,
             "#ed7953"
            ],
            [
             0.7777777777777778,
             "#fb9f3a"
            ],
            [
             0.8888888888888888,
             "#fdca26"
            ],
            [
             1,
             "#f0f921"
            ]
           ],
           "sequentialminus": [
            [
             0,
             "#0d0887"
            ],
            [
             0.1111111111111111,
             "#46039f"
            ],
            [
             0.2222222222222222,
             "#7201a8"
            ],
            [
             0.3333333333333333,
             "#9c179e"
            ],
            [
             0.4444444444444444,
             "#bd3786"
            ],
            [
             0.5555555555555556,
             "#d8576b"
            ],
            [
             0.6666666666666666,
             "#ed7953"
            ],
            [
             0.7777777777777778,
             "#fb9f3a"
            ],
            [
             0.8888888888888888,
             "#fdca26"
            ],
            [
             1,
             "#f0f921"
            ]
           ]
          },
          "colorway": [
           "#636efa",
           "#EF553B",
           "#00cc96",
           "#ab63fa",
           "#FFA15A",
           "#19d3f3",
           "#FF6692",
           "#B6E880",
           "#FF97FF",
           "#FECB52"
          ],
          "font": {
           "color": "#2a3f5f"
          },
          "geo": {
           "bgcolor": "white",
           "lakecolor": "white",
           "landcolor": "#E5ECF6",
           "showlakes": true,
           "showland": true,
           "subunitcolor": "white"
          },
          "hoverlabel": {
           "align": "left"
          },
          "hovermode": "closest",
          "mapbox": {
           "style": "light"
          },
          "paper_bgcolor": "white",
          "plot_bgcolor": "#E5ECF6",
          "polar": {
           "angularaxis": {
            "gridcolor": "white",
            "linecolor": "white",
            "ticks": ""
           },
           "bgcolor": "#E5ECF6",
           "radialaxis": {
            "gridcolor": "white",
            "linecolor": "white",
            "ticks": ""
           }
          },
          "scene": {
           "xaxis": {
            "backgroundcolor": "#E5ECF6",
            "gridcolor": "white",
            "gridwidth": 2,
            "linecolor": "white",
            "showbackground": true,
            "ticks": "",
            "zerolinecolor": "white"
           },
           "yaxis": {
            "backgroundcolor": "#E5ECF6",
            "gridcolor": "white",
            "gridwidth": 2,
            "linecolor": "white",
            "showbackground": true,
            "ticks": "",
            "zerolinecolor": "white"
           },
           "zaxis": {
            "backgroundcolor": "#E5ECF6",
            "gridcolor": "white",
            "gridwidth": 2,
            "linecolor": "white",
            "showbackground": true,
            "ticks": "",
            "zerolinecolor": "white"
           }
          },
          "shapedefaults": {
           "line": {
            "color": "#2a3f5f"
           }
          },
          "ternary": {
           "aaxis": {
            "gridcolor": "white",
            "linecolor": "white",
            "ticks": ""
           },
           "baxis": {
            "gridcolor": "white",
            "linecolor": "white",
            "ticks": ""
           },
           "bgcolor": "#E5ECF6",
           "caxis": {
            "gridcolor": "white",
            "linecolor": "white",
            "ticks": ""
           }
          },
          "title": {
           "x": 0.05
          },
          "xaxis": {
           "automargin": true,
           "gridcolor": "white",
           "linecolor": "white",
           "ticks": "",
           "title": {
            "standoff": 15
           },
           "zerolinecolor": "white",
           "zerolinewidth": 2
          },
          "yaxis": {
           "automargin": true,
           "gridcolor": "white",
           "linecolor": "white",
           "ticks": "",
           "title": {
            "standoff": 15
           },
           "zerolinecolor": "white",
           "zerolinewidth": 2
          }
         }
        },
        "title": {
         "text": "Rutas más concurridas"
        },
        "width": 1000
       }
      }
     },
     "metadata": {},
     "output_type": "display_data"
    }
   ],
   "source": [
    "\n",
    "print(top175estaciones)\n",
    "#fig = go.Figure()\n",
    "fig = px.scatter_mapbox(top175estaciones, lat=\"Latitud\", lon=\"Longitud\", size='count',color='Distrito', width = 1000, height = 900, zoom = 50)\n",
    "# fig.add_trace(go.Scattermapbox(\n",
    "#         lat = top10estaciones[\"Latitud\"],\n",
    "#         lon=top10estaciones[\"Longitud\"],\n",
    "#         mode='markers',\n",
    "#         showlegend=False,\n",
    "#         marker=go.scattermapbox.Marker(\n",
    "#             size=top10estaciones[\"count\"],\n",
    "#             color='blue', \n",
    "#             opacity=0.7,\n",
    "#             #size=50,\n",
    "#              )\n",
    "#     ))\n",
    "for i in range(rutas_175_top.shape[0]): \n",
    "    valores=rutas_175_top.iloc[i,:]\n",
    "\n",
    "    fig.add_trace(\n",
    "        go.Scattermapbox(\n",
    "        mode = \"markers+lines\",\n",
    "        lon = [valores['Longitud_Salida'], valores['Longitud_Llegada']],\n",
    "        lat = [valores['Latitud_Salida'], valores['Latitud_Llegada']],\n",
    "        line= {'width':valores['viajes']*0.005} ,\n",
    "        name= 'Ruta '+str(1+i)\n",
    "\n",
    "        ))\n",
    "hover_header = 'Estacion: %{text} '\n",
    "\n",
    "fig.update_layout(\n",
    "    title='Rutas más concurridas',\n",
    "    autosize=True,\n",
    "    hovermode='closest',\n",
    "    showlegend=True,\n",
    "    width = 1000,\n",
    "    height = 1000,\n",
    "    mapbox=dict(\n",
    "        bearing=0,\n",
    "        center=dict(\n",
    "            lat=40.435,\n",
    "            lon=-3.69\n",
    "        ),\n",
    "        zoom=12.5,\n",
    "        style= 'carto-positron' # 'open-street-map'\n",
    "        \n",
    "    )\n",
    ")\n",
    "fig.show()"
   ]
  }
 ],
 "metadata": {
  "kernelspec": {
   "display_name": "Python 3",
   "language": "python",
   "name": "python3"
  },
  "language_info": {
   "codemirror_mode": {
    "name": "ipython",
    "version": 3
   },
   "file_extension": ".py",
   "mimetype": "text/x-python",
   "name": "python",
   "nbconvert_exporter": "python",
   "pygments_lexer": "ipython3",
   "version": "3.8.5"
  },
  "vscode": {
   "interpreter": {
    "hash": "9fef7a30f113eaa53eb8b5c309fb488b4423c5d8965bf87e9ef8b3198259acb6"
   }
  }
 },
 "nbformat": 4,
 "nbformat_minor": 2
}
