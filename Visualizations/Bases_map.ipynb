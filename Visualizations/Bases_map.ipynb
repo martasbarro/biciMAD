{
 "cells": [
  {
   "cell_type": "markdown",
   "metadata": {},
   "source": [
    "# MAP OF STATIONS BY DISTRICT"
   ]
  },
  {
   "cell_type": "markdown",
   "metadata": {},
   "source": [
    "#### **LIBRARIES**"
   ]
  },
  {
   "cell_type": "code",
   "execution_count": 1,
   "metadata": {},
   "outputs": [],
   "source": [
    "import pandas as pd \n",
    "import plotly.express as px\n",
    "import plotly.graph_objects as go"
   ]
  },
  {
   "cell_type": "code",
   "execution_count": 2,
   "metadata": {},
   "outputs": [
    {
     "data": {
      "text/html": [
       "<div>\n",
       "<style scoped>\n",
       "    .dataframe tbody tr th:only-of-type {\n",
       "        vertical-align: middle;\n",
       "    }\n",
       "\n",
       "    .dataframe tbody tr th {\n",
       "        vertical-align: top;\n",
       "    }\n",
       "\n",
       "    .dataframe thead th {\n",
       "        text-align: right;\n",
       "    }\n",
       "</style>\n",
       "<table border=\"1\" class=\"dataframe\">\n",
       "  <thead>\n",
       "    <tr style=\"text-align: right;\">\n",
       "      <th></th>\n",
       "      <th>Unnamed: 0</th>\n",
       "      <th>Número</th>\n",
       "      <th>Distrito</th>\n",
       "      <th>Barrio</th>\n",
       "      <th>Calle</th>\n",
       "      <th>Nº Finca</th>\n",
       "      <th>Número de Plazas</th>\n",
       "      <th>Longitud</th>\n",
       "      <th>Latitud</th>\n",
       "    </tr>\n",
       "  </thead>\n",
       "  <tbody>\n",
       "    <tr>\n",
       "      <th>0</th>\n",
       "      <td>0</td>\n",
       "      <td>1</td>\n",
       "      <td>01  CENTRO</td>\n",
       "      <td>01-06 SOL</td>\n",
       "      <td>ALCALA, CALLE, DE</td>\n",
       "      <td>[2 6]</td>\n",
       "      <td>60</td>\n",
       "      <td>-3.701998</td>\n",
       "      <td>40.417111</td>\n",
       "    </tr>\n",
       "    <tr>\n",
       "      <th>1</th>\n",
       "      <td>1</td>\n",
       "      <td>2</td>\n",
       "      <td>01  CENTRO</td>\n",
       "      <td>01-05 UNIVERSIDAD</td>\n",
       "      <td>MIGUEL MOYA, CALLE, DE</td>\n",
       "      <td>1</td>\n",
       "      <td>24</td>\n",
       "      <td>-3.705674</td>\n",
       "      <td>40.420580</td>\n",
       "    </tr>\n",
       "    <tr>\n",
       "      <th>2</th>\n",
       "      <td>2</td>\n",
       "      <td>3</td>\n",
       "      <td>07  CHAMBERÍ</td>\n",
       "      <td>07-02 ARAPILES</td>\n",
       "      <td>CONDE DEL VALLE DE SUCHIL, PLAZA, DEL</td>\n",
       "      <td>2</td>\n",
       "      <td>18</td>\n",
       "      <td>-3.707212</td>\n",
       "      <td>40.430322</td>\n",
       "    </tr>\n",
       "    <tr>\n",
       "      <th>3</th>\n",
       "      <td>3</td>\n",
       "      <td>4</td>\n",
       "      <td>01  CENTRO</td>\n",
       "      <td>01-05 UNIVERSIDAD</td>\n",
       "      <td>MANUELA MALASAÑA, CALLE, DE</td>\n",
       "      <td>3</td>\n",
       "      <td>24</td>\n",
       "      <td>-3.702674</td>\n",
       "      <td>40.428590</td>\n",
       "    </tr>\n",
       "    <tr>\n",
       "      <th>4</th>\n",
       "      <td>4</td>\n",
       "      <td>5</td>\n",
       "      <td>01  CENTRO</td>\n",
       "      <td>01-04 JUSTICIA</td>\n",
       "      <td>FUENCARRAL, CALLE, DE</td>\n",
       "      <td>106</td>\n",
       "      <td>27</td>\n",
       "      <td>-3.702074</td>\n",
       "      <td>40.428362</td>\n",
       "    </tr>\n",
       "  </tbody>\n",
       "</table>\n",
       "</div>"
      ],
      "text/plain": [
       "   Unnamed: 0  Número      Distrito             Barrio  \\\n",
       "0           0       1    01  CENTRO          01-06 SOL   \n",
       "1           1       2    01  CENTRO  01-05 UNIVERSIDAD   \n",
       "2           2       3  07  CHAMBERÍ     07-02 ARAPILES   \n",
       "3           3       4    01  CENTRO  01-05 UNIVERSIDAD   \n",
       "4           4       5    01  CENTRO     01-04 JUSTICIA   \n",
       "\n",
       "                                   Calle Nº Finca  Número de Plazas  Longitud  \\\n",
       "0                      ALCALA, CALLE, DE    [2 6]                60 -3.701998   \n",
       "1                 MIGUEL MOYA, CALLE, DE        1                24 -3.705674   \n",
       "2  CONDE DEL VALLE DE SUCHIL, PLAZA, DEL        2                18 -3.707212   \n",
       "3            MANUELA MALASAÑA, CALLE, DE        3                24 -3.702674   \n",
       "4                  FUENCARRAL, CALLE, DE      106                27 -3.702074   \n",
       "\n",
       "     Latitud  \n",
       "0  40.417111  \n",
       "1  40.420580  \n",
       "2  40.430322  \n",
       "3  40.428590  \n",
       "4  40.428362  "
      ]
     },
     "execution_count": 2,
     "metadata": {},
     "output_type": "execute_result"
    }
   ],
   "source": [
    "bases= pd.read_csv(\"../Data/Bases/bases.csv\")\n",
    "bases.head()"
   ]
  },
  {
   "cell_type": "code",
   "execution_count": 5,
   "metadata": {},
   "outputs": [
    {
     "data": {
      "text/plain": [
       "Unnamed: 0            int64\n",
       "Número                int64\n",
       "Distrito             object\n",
       "Barrio               object\n",
       "Calle                object\n",
       "Nº Finca             object\n",
       "Número de Plazas      int64\n",
       "Longitud            float64\n",
       "Latitud             float64\n",
       "dtype: object"
      ]
     },
     "execution_count": 5,
     "metadata": {},
     "output_type": "execute_result"
    }
   ],
   "source": [
    "bases.dtypes"
   ]
  },
  {
   "cell_type": "code",
   "execution_count": 82,
   "metadata": {},
   "outputs": [
    {
     "data": {
      "application/vnd.plotly.v1+json": {
       "config": {
        "plotlyServerURL": "https://plot.ly"
       },
       "data": [
        {
         "hovertemplate": "Distrito=01  CENTRO<br>size=%{marker.size}<br>Latitud=%{lat}<br>Longitud=%{lon}<extra></extra>",
         "lat": [
          40.4171107,
          40.42058,
          40.4285905,
          40.428362,
          40.4241633,
          40.4252161,
          40.4156134,
          40.4254027,
          40.4270517,
          40.4285271,
          40.4273652,
          40.4262937,
          40.4229421,
          40.4231675,
          40.4209206,
          40.4218997,
          40.4191858,
          40.4201452,
          40.4202137,
          40.417906,
          40.4172593,
          40.4238308,
          40.4132831,
          40.4180695,
          40.416244,
          40.4193355,
          40.4163446,
          40.4148511,
          40.4164757,
          40.4144117,
          40.4141792,
          40.4168229,
          40.4108606,
          40.4112961,
          40.4112662,
          40.4137865,
          40.412228,
          40.4107714,
          40.4100889,
          40.4098162,
          40.4069486,
          40.4054473,
          40.4060497,
          40.4083102,
          40.4077234,
          40.4145181,
          40.4082802,
          40.4266233,
          40.4240716,
          40.418484,
          40.4296363,
          40.4222601,
          40.4254802,
          40.410829,
          40.4185779,
          40.4139396,
          40.4197538,
          40.4206168
         ],
         "legendgroup": "01  CENTRO",
         "lon": [
          -3.701998,
          -3.7056739,
          -3.7026739,
          -3.7020743,
          -3.6984093,
          -3.6977399,
          -3.7094093,
          -3.6920816,
          -3.7036192,
          -3.7062202,
          -3.7104727,
          -3.7073611,
          -3.7074955,
          -3.7041859,
          -3.6995679,
          -3.6953951,
          -3.6952901,
          -3.7064995,
          -3.7082901,
          -3.7105866,
          -3.7060243,
          -3.6945421,
          -3.6955803,
          -3.6983662,
          -3.6958008,
          -3.7115428,
          -3.706625,
          -3.7061355,
          -3.7032096,
          -3.7035044,
          -3.7103676,
          -3.711764,
          -3.7141234,
          -3.7114443,
          -3.7090043,
          -3.7047463,
          -3.6989898,
          -3.6982294,
          -3.7025446,
          -3.7039138,
          -3.7111381,
          -3.7020997,
          -3.6992427,
          -3.69322,
          -3.6935934,
          -3.7007838,
          -3.7007295,
          -3.7003435,
          -3.7019295,
          -3.7032875,
          -3.7128181,
          -3.6979458,
          -3.7041167,
          -3.6931349,
          -3.6933298,
          -3.7133382,
          -3.702631,
          -3.7025369
         ],
         "marker": {
          "color": "#636efa",
          "size": [
           30,
           12,
           12,
           13.5,
           12,
           10.5,
           12,
           12,
           12,
           12,
           12,
           10.5,
           10.5,
           12,
           12,
           12,
           15,
           12,
           12,
           12,
           24,
           12,
           13.5,
           12,
           12,
           13.5,
           13.5,
           9,
           10.5,
           12,
           12,
           12,
           12,
           12,
           13.5,
           12,
           9,
           12,
           12,
           10.5,
           10.5,
           12,
           12,
           12,
           13.5,
           12,
           12,
           10.5,
           12,
           12,
           12,
           12,
           10.5,
           12,
           10.5,
           12,
           13.5,
           12
          ],
          "sizemode": "area",
          "sizeref": 0.075
         },
         "mode": "markers",
         "name": "01  CENTRO",
         "showlegend": true,
         "subplot": "mapbox",
         "type": "scattermapbox"
        },
        {
         "hovertemplate": "Distrito=07  CHAMBERÍ<br>size=%{marker.size}<br>Latitud=%{lat}<br>Longitud=%{lon}<extra></extra>",
         "lat": [
          40.4303224,
          40.4277143,
          40.4335742,
          40.429524,
          40.4306386,
          40.4308173,
          40.4353128,
          40.4345672,
          40.4339055,
          40.4390329,
          40.4384684,
          40.4417195,
          40.4417543,
          40.4463889,
          40.444027,
          40.4414845,
          40.4456884,
          40.4354253,
          40.4331172,
          40.4343244,
          40.4336617,
          40.4387323,
          40.4411686,
          40.4417547,
          40.4398513,
          40.4364656,
          40.436026,
          40.4383672
         ],
         "legendgroup": "07  CHAMBERÍ",
         "lon": [
          -3.7072122,
          -3.6953067,
          -3.7177783,
          -3.6962626,
          -3.7134685,
          -3.6993182,
          -3.6948316,
          -3.7017424,
          -3.7083987,
          -3.7156915,
          -3.6982818,
          -3.7017071,
          -3.704022,
          -3.7035911,
          -3.6955114,
          -3.6928901,
          -3.6915818,
          -3.6892902,
          -3.6915713,
          -3.7148406,
          -3.704671,
          -3.7038161,
          -3.7080969,
          -3.7144239,
          -3.7175468,
          -3.7101726,
          -3.699252,
          -3.692843
         ],
         "marker": {
          "color": "#EF553B",
          "size": [
           9,
           12,
           24,
           12,
           12,
           12,
           12,
           12,
           12,
           13.5,
           12,
           10,
           12,
           12,
           12,
           12,
           12,
           6,
           12,
           13.5,
           12,
           12,
           12,
           12,
           12,
           12,
           12,
           12
          ],
          "sizemode": "area",
          "sizeref": 0.075
         },
         "mode": "markers",
         "name": "07  CHAMBERÍ",
         "showlegend": true,
         "subplot": "mapbox",
         "type": "scattermapbox"
        },
        {
         "hovertemplate": "Distrito=09  MONCLOA-ARAVACA<br>size=%{marker.size}<br>Latitud=%{lat}<br>Longitud=%{lon}<extra></extra>",
         "lat": [
          40.4259913,
          40.4347654,
          40.4326267,
          40.4277472,
          40.4278211,
          40.4253802,
          40.4240632,
          40.4309046,
          40.4220566,
          40.4463599,
          40.438804,
          40.449019,
          40.4444176,
          40.4482316,
          40.4505032
         ],
         "legendgroup": "09  MONCLOA-ARAVACA",
         "lon": [
          -3.7133768,
          -3.7201316,
          -3.7248727,
          -3.7207145,
          -3.7174151,
          -3.7169626,
          -3.7118457,
          -3.7189152,
          -3.7220624,
          -3.7138353,
          -3.73029,
          -3.7273004,
          -3.727031,
          -3.7272637,
          -3.7292576
         ],
         "marker": {
          "color": "#00cc96",
          "size": [
           12,
           12,
           12,
           12,
           12,
           12,
           24,
           12,
           13.5,
           12,
           12,
           12,
           12,
           12,
           12
          ],
          "sizemode": "area",
          "sizeref": 0.075
         },
         "mode": "markers",
         "name": "09  MONCLOA-ARAVACA",
         "showlegend": true,
         "subplot": "mapbox",
         "type": "scattermapbox"
        },
        {
         "hovertemplate": "Distrito=02  ARGANZUELA<br>size=%{marker.size}<br>Latitud=%{lat}<br>Longitud=%{lon}<extra></extra>",
         "lat": [
          40.4054496,
          40.4046233,
          40.4074122,
          40.4007959,
          40.4014567,
          40.4030362,
          40.4018356,
          40.4035176,
          40.4036349,
          40.3971366,
          40.3928841,
          40.4137331,
          40.4045828,
          40.401578,
          40.4011039,
          40.3997626,
          40.4008683,
          40.3981757,
          40.397417,
          40.3962687,
          40.3942411,
          40.3915019,
          40.3941252,
          40.3889853,
          40.4074236
         ],
         "legendgroup": "02  ARGANZUELA",
         "lon": [
          -3.7071178,
          -3.702755,
          -3.6907238,
          -3.688135,
          -3.6865777,
          -3.6947791,
          -3.6986046,
          -3.7107559,
          -3.7064372,
          -3.6944851,
          -3.6976134,
          -3.7176456,
          -3.6959159,
          -3.713846,
          -3.704403,
          -3.6984459,
          -3.6935448,
          -3.7023615,
          -3.7063771,
          -3.6983033,
          -3.6936302,
          -3.694087,
          -3.6759244,
          -3.6911834,
          -3.7171449
         ],
         "marker": {
          "color": "#ab63fa",
          "size": [
           12,
           12,
           25.5,
           12,
           12,
           12,
           12,
           12,
           10.5,
           12,
           13.5,
           12,
           12,
           12,
           12,
           12,
           12,
           12,
           13.5,
           10.5,
           12,
           12,
           12,
           12,
           12
          ],
          "sizemode": "area",
          "sizeref": 0.075
         },
         "mode": "markers",
         "name": "02  ARGANZUELA",
         "showlegend": true,
         "subplot": "mapbox",
         "type": "scattermapbox"
        },
        {
         "hovertemplate": "Distrito=03  RETIRO<br>size=%{marker.size}<br>Latitud=%{lat}<br>Longitud=%{lon}<extra></extra>",
         "lat": [
          40.4194508,
          40.4214379,
          40.4212986,
          40.4178926,
          40.4166859,
          40.412781,
          40.4100609,
          40.4152203,
          40.4160054,
          40.415721,
          40.411463,
          40.4117601,
          40.4083387,
          40.4072851,
          40.4063347,
          40.4005704,
          40.4050482,
          40.4095758,
          40.4084793,
          40.4132589,
          40.4033695,
          40.4211415,
          40.4030242,
          40.4181748,
          40.4187145
         ],
         "legendgroup": "03  RETIRO",
         "lon": [
          -3.6881994,
          -3.675206,
          -3.6724223,
          -3.6706508,
          -3.6893825,
          -3.6911649,
          -3.6888669,
          -3.6777994,
          -3.674021,
          -3.669623,
          -3.669099,
          -3.6765768,
          -3.6784149,
          -3.6751544,
          -3.6707742,
          -3.6745783,
          -3.6805524,
          -3.6919663,
          -3.669683,
          -3.6745339,
          -3.6726923,
          -3.6799299,
          -3.6788939,
          -3.67664,
          -3.6655023
         ],
         "marker": {
          "color": "#FFA15A",
          "size": [
           12,
           12,
           12,
           12,
           12,
           10.5,
           13.5,
           12,
           12,
           12,
           12,
           12,
           12,
           12,
           11,
           12,
           12,
           12,
           12,
           12,
           12,
           13.5,
           12,
           13.5,
           12
          ],
          "sizemode": "area",
          "sizeref": 0.075
         },
         "mode": "markers",
         "name": "03  RETIRO",
         "showlegend": true,
         "subplot": "mapbox",
         "type": "scattermapbox"
        },
        {
         "hovertemplate": "Distrito=04  SALAMANCA<br>size=%{marker.size}<br>Latitud=%{lat}<br>Longitud=%{lon}<extra></extra>",
         "lat": [
          40.4276717,
          40.4312077,
          40.4272628,
          40.4250791,
          40.4261113,
          40.4262237,
          40.4256984,
          40.4233686,
          40.4226634,
          40.4220516,
          40.4224846,
          40.4241911,
          40.4261048,
          40.4247843,
          40.4231223,
          40.4211552,
          40.4303733,
          40.4267658,
          40.4270684,
          40.4248642,
          40.4215952,
          40.4274425,
          40.4301281,
          40.4335262,
          40.434616,
          40.4323192,
          40.4297717,
          40.4256358,
          40.4260023,
          40.4250682,
          40.429069,
          40.4301353,
          40.4343761,
          40.4346168,
          40.431855,
          40.4325204,
          40.4371986,
          40.4367138,
          40.4377568,
          40.4394662,
          40.4351648
         ],
         "legendgroup": "04  SALAMANCA",
         "lon": [
          -3.6835631,
          -3.6837471,
          -3.6751716,
          -3.6837297,
          -3.6788203,
          -3.6864821,
          -3.6894124,
          -3.6907044,
          -3.6869914,
          -3.6820471,
          -3.6801515,
          -3.6754079,
          -3.6739638,
          -3.6738777,
          -3.6694246,
          -3.6840806,
          -3.6865351,
          -3.6895792,
          -3.6874745,
          -3.6878868,
          -3.6884243,
          -3.670653,
          -3.6815253,
          -3.6880402,
          -3.6782355,
          -3.6754628,
          -3.671401,
          -3.6694506,
          -3.6653095,
          -3.661533,
          -3.6782783,
          -3.6638407,
          -3.6834711,
          -3.6740365,
          -3.6714315,
          -3.665644,
          -3.6771947,
          -3.6609886,
          -3.6677796,
          -3.6629058,
          -3.6700894
         ],
         "marker": {
          "color": "#19d3f3",
          "size": [
           12,
           12,
           12,
           15,
           12,
           12,
           12,
           10.5,
           12,
           13.5,
           13.5,
           12,
           12,
           12,
           12,
           12,
           12,
           10.5,
           12,
           18,
           12,
           13.5,
           12,
           12,
           12,
           12,
           12,
           12,
           12,
           12,
           12,
           12,
           12,
           9,
           13.5,
           12,
           12,
           12,
           12,
           12,
           12
          ],
          "sizemode": "area",
          "sizeref": 0.075
         },
         "mode": "markers",
         "name": "04  SALAMANCA",
         "showlegend": true,
         "subplot": "mapbox",
         "type": "scattermapbox"
        },
        {
         "hovertemplate": "Distrito=06  TETUÁN<br>size=%{marker.size}<br>Latitud=%{lat}<br>Longitud=%{lon}<extra></extra>",
         "lat": [
          40.4471673,
          40.4488617,
          40.4527163,
          40.45235,
          40.4547769,
          40.4572863,
          40.4592406,
          40.4476606,
          40.4535024,
          40.4607994,
          40.4630291,
          40.451395,
          40.4562183,
          40.4567345
         ],
         "legendgroup": "06  TETUÁN",
         "lon": [
          -3.7000292,
          -3.6952023,
          -3.6989497,
          -3.6930894,
          -3.6946736,
          -3.700864,
          -3.6913229,
          -3.7041702,
          -3.7033408,
          -3.6990499,
          -3.6973991,
          -3.7105146,
          -3.6932474,
          -3.7079276
         ],
         "marker": {
          "color": "#FF6692",
          "size": [
           12,
           12,
           12,
           12,
           12,
           12,
           12,
           12,
           12,
           12,
           9,
           12,
           12,
           12
          ],
          "sizemode": "area",
          "sizeref": 0.075
         },
         "mode": "markers",
         "name": "06  TETUÁN",
         "showlegend": true,
         "subplot": "mapbox",
         "type": "scattermapbox"
        },
        {
         "hovertemplate": "Distrito=05  CHAMARTÍN<br>size=%{marker.size}<br>Latitud=%{lat}<br>Longitud=%{lon}<extra></extra>",
         "lat": [
          40.4452833,
          40.4454958,
          40.4393558,
          40.4385198,
          40.4442406,
          40.4483353,
          40.4510203,
          40.4498448,
          40.4491125,
          40.459282,
          40.45862,
          40.4542549,
          40.4571995,
          40.4392483,
          40.4440957,
          40.4515501,
          40.4665125,
          40.4656872,
          40.4794159,
          40.4408151,
          40.444183,
          40.4715645,
          40.455606,
          40.4610436,
          40.4637286
         ],
         "legendgroup": "05  CHAMARTÍN",
         "lon": [
          -3.6908127,
          -3.6852925,
          -3.6904495,
          -3.6829127,
          -3.67879,
          -3.6795811,
          -3.6816993,
          -3.6878512,
          -3.690541,
          -3.6893305,
          -3.6847049,
          -3.6837348,
          -3.6766176,
          -3.6754913,
          -3.6750918,
          -3.6780252,
          -3.6886852,
          -3.6887875,
          -3.6852959,
          -3.6861,
          -3.6668532,
          -3.6839094,
          -3.688443,
          -3.6765549,
          -3.6851815
         ],
         "marker": {
          "color": "#B6E880",
          "size": [
           12,
           12,
           12,
           13.5,
           9,
           12,
           12,
           12,
           12,
           12,
           12,
           12,
           12,
           12,
           12,
           12,
           12,
           12,
           12,
           12,
           12,
           12,
           12,
           12,
           12
          ],
          "sizemode": "area",
          "sizeref": 0.075
         },
         "mode": "markers",
         "name": "05  CHAMARTÍN",
         "showlegend": true,
         "subplot": "mapbox",
         "type": "scattermapbox"
        },
        {
         "hovertemplate": "Distrito=13  PUENTE DE VALLECAS<br>size=%{marker.size}<br>Latitud=%{lat}<br>Longitud=%{lon}<extra></extra>",
         "lat": [
          40.3979341,
          40.4026388,
          40.3991986,
          40.3940355
         ],
         "legendgroup": "13  PUENTE DE VALLECAS",
         "lon": [
          -3.6690602,
          -3.6601933,
          -3.6606789,
          -3.6661421
         ],
         "marker": {
          "color": "#FF97FF",
          "size": [
           12,
           12,
           12,
           12
          ],
          "sizemode": "area",
          "sizeref": 0.075
         },
         "mode": "markers",
         "name": "13  PUENTE DE VALLECAS",
         "showlegend": true,
         "subplot": "mapbox",
         "type": "scattermapbox"
        },
        {
         "hovertemplate": "Distrito=15  CIUDAD LINEAL<br>size=%{marker.size}<br>Latitud=%{lat}<br>Longitud=%{lon}<extra></extra>",
         "lat": [
          40.4311658,
          40.4350206,
          40.4434012,
          40.4296903,
          40.4370782,
          40.4436986,
          40.439748,
          40.4328362,
          40.4229144,
          40.426163
         ],
         "legendgroup": "15  CIUDAD LINEAL",
         "lon": [
          -3.6589062,
          -3.6555431,
          -3.6569597,
          -3.6409697,
          -3.6486507,
          -3.6491034,
          -3.6558172,
          -3.6485701,
          -3.655633,
          -3.651125
         ],
         "marker": {
          "color": "#FECB52",
          "size": [
           13.5,
           12,
           12,
           12,
           12,
           12,
           12,
           12,
           12,
           12
          ],
          "sizemode": "area",
          "sizeref": 0.075
         },
         "mode": "markers",
         "name": "15  CIUDAD LINEAL",
         "showlegend": true,
         "subplot": "mapbox",
         "type": "scattermapbox"
        },
        {
         "hovertemplate": "Distrito=11  CARABANCHEL<br>size=%{marker.size}<br>Latitud=%{lat}<br>Longitud=%{lon}<extra></extra>",
         "lat": [
          40.3981605,
          40.3943842
         ],
         "legendgroup": "11  CARABANCHEL",
         "lon": [
          -3.7165313,
          -3.7080437
         ],
         "marker": {
          "color": "#636efa",
          "size": [
           12,
           12
          ],
          "sizemode": "area",
          "sizeref": 0.075
         },
         "mode": "markers",
         "name": "11  CARABANCHEL",
         "showlegend": true,
         "subplot": "mapbox",
         "type": "scattermapbox"
        },
        {
         "hovertemplate": "Distrito=12  USERA<br>size=%{marker.size}<br>Latitud=%{lat}<br>Longitud=%{lon}<extra></extra>",
         "lat": [
          40.3889363,
          40.3917816
         ],
         "legendgroup": "12  USERA",
         "lon": [
          -3.7001575,
          -3.7026887
         ],
         "marker": {
          "color": "#EF553B",
          "size": [
           12,
           12
          ],
          "sizemode": "area",
          "sizeref": 0.075
         },
         "mode": "markers",
         "name": "12  USERA",
         "showlegend": true,
         "subplot": "mapbox",
         "type": "scattermapbox"
        },
        {
         "hovertemplate": "Distrito=10  LATINA<br>size=%{marker.size}<br>Latitud=%{lat}<br>Longitud=%{lon}<extra></extra>",
         "lat": [
          40.4140528,
          40.4064341,
          40.408882
         ],
         "legendgroup": "10  LATINA",
         "lon": [
          -3.7288948,
          -3.7245226,
          -3.7288262
         ],
         "marker": {
          "color": "#00cc96",
          "size": [
           12,
           12,
           12
          ],
          "sizemode": "area",
          "sizeref": 0.075
         },
         "mode": "markers",
         "name": "10  LATINA",
         "showlegend": true,
         "subplot": "mapbox",
         "type": "scattermapbox"
        },
        {
         "hovertemplate": "Distrito=08  FUENCARRAL-EL PARDO<br>size=%{marker.size}<br>Latitud=%{lat}<br>Longitud=%{lon}<extra></extra>",
         "lat": [
          40.4810028,
          40.4743243
         ],
         "legendgroup": "08  FUENCARRAL-EL PARDO",
         "lon": [
          -3.6891094,
          -3.6878414
         ],
         "marker": {
          "color": "#ab63fa",
          "size": [
           12,
           12
          ],
          "sizemode": "area",
          "sizeref": 0.075
         },
         "mode": "markers",
         "name": "08  FUENCARRAL-EL PARDO",
         "showlegend": true,
         "subplot": "mapbox",
         "type": "scattermapbox"
        },
        {
         "hovertemplate": "Distrito=14  MORATALAZ<br>size=%{marker.size}<br>Latitud=%{lat}<br>Longitud=%{lon}<extra></extra>",
         "lat": [
          40.4105519,
          40.4083961,
          40.4061548,
          40.4004579
         ],
         "legendgroup": "14  MORATALAZ",
         "lon": [
          -3.6573999,
          -3.6467783,
          -3.6514264,
          -3.6346859
         ],
         "marker": {
          "color": "#FFA15A",
          "size": [
           12,
           12,
           12,
           12
          ],
          "sizemode": "area",
          "sizeref": 0.075
         },
         "mode": "markers",
         "name": "14  MORATALAZ",
         "showlegend": true,
         "subplot": "mapbox",
         "type": "scattermapbox"
        },
        {
         "hovertemplate": [
          "<b>Estación:1</b><br><b>Distrito: </b>01  CENTRO<br><b>Número de bases:</b> 60",
          "<b>Estación:2</b><br><b>Distrito: </b>01  CENTRO<br><b>Número de bases:</b> 24",
          "<b>Estación:3</b><br><b>Distrito: </b>07  CHAMBERÍ<br><b>Número de bases:</b> 18",
          "<b>Estación:4</b><br><b>Distrito: </b>01  CENTRO<br><b>Número de bases:</b> 24",
          "<b>Estación:5</b><br><b>Distrito: </b>01  CENTRO<br><b>Número de bases:</b> 27",
          "<b>Estación:6</b><br><b>Distrito: </b>01  CENTRO<br><b>Número de bases:</b> 24",
          "<b>Estación:7</b><br><b>Distrito: </b>01  CENTRO<br><b>Número de bases:</b> 21",
          "<b>Estación:8</b><br><b>Distrito: </b>07  CHAMBERÍ<br><b>Número de bases:</b> 24",
          "<b>Estación:9</b><br><b>Distrito: </b>01  CENTRO<br><b>Número de bases:</b> 24",
          "<b>Estación:10</b><br><b>Distrito: </b>01  CENTRO<br><b>Número de bases:</b> 24",
          "<b>Estación:11</b><br><b>Distrito: </b>01  CENTRO<br><b>Número de bases:</b> 24",
          "<b>Estación:12</b><br><b>Distrito: </b>01  CENTRO<br><b>Número de bases:</b> 24",
          "<b>Estación:13</b><br><b>Distrito: </b>01  CENTRO<br><b>Número de bases:</b> 24",
          "<b>Estación:14</b><br><b>Distrito: </b>09  MONCLOA-ARAVACA<br><b>Número de bases:</b> 24",
          "<b>Estación:15</b><br><b>Distrito: </b>01  CENTRO<br><b>Número de bases:</b> 21",
          "<b>Estación:16</b><br><b>Distrito: </b>01  CENTRO<br><b>Número de bases:</b> 21",
          "<b>Estación:17</b><br><b>Distrito: </b>01  CENTRO<br><b>Número de bases:</b> 24",
          "<b>Estación:18</b><br><b>Distrito: </b>01  CENTRO<br><b>Número de bases:</b> 24",
          "<b>Estación:19</b><br><b>Distrito: </b>01  CENTRO<br><b>Número de bases:</b> 24",
          "<b>Estación:20</b><br><b>Distrito: </b>01  CENTRO<br><b>Número de bases:</b> 30",
          "<b>Estación:22</b><br><b>Distrito: </b>01  CENTRO<br><b>Número de bases:</b> 24",
          "<b>Estación:23</b><br><b>Distrito: </b>01  CENTRO<br><b>Número de bases:</b> 24",
          "<b>Estación:24</b><br><b>Distrito: </b>01  CENTRO<br><b>Número de bases:</b> 24",
          "<b>Estación:25</b><br><b>Distrito: </b>01  CENTRO<br><b>Número de bases:</b> 48",
          "<b>Estación:26</b><br><b>Distrito: </b>01  CENTRO<br><b>Número de bases:</b> 24",
          "<b>Estación:27</b><br><b>Distrito: </b>01  CENTRO<br><b>Número de bases:</b> 27",
          "<b>Estación:28</b><br><b>Distrito: </b>01  CENTRO<br><b>Número de bases:</b> 24",
          "<b>Estación:29</b><br><b>Distrito: </b>01  CENTRO<br><b>Número de bases:</b> 24",
          "<b>Estación:30</b><br><b>Distrito: </b>01  CENTRO<br><b>Número de bases:</b> 27",
          "<b>Estación:31</b><br><b>Distrito: </b>01  CENTRO<br><b>Número de bases:</b> 27",
          "<b>Estación:32</b><br><b>Distrito: </b>01  CENTRO<br><b>Número de bases:</b> 18",
          "<b>Estación:33</b><br><b>Distrito: </b>01  CENTRO<br><b>Número de bases:</b> 21",
          "<b>Estación:34</b><br><b>Distrito: </b>01  CENTRO<br><b>Número de bases:</b> 24",
          "<b>Estación:35</b><br><b>Distrito: </b>01  CENTRO<br><b>Número de bases:</b> 24",
          "<b>Estación:36</b><br><b>Distrito: </b>01  CENTRO<br><b>Número de bases:</b> 24",
          "<b>Estación:37</b><br><b>Distrito: </b>01  CENTRO<br><b>Número de bases:</b> 24",
          "<b>Estación:38</b><br><b>Distrito: </b>01  CENTRO<br><b>Número de bases:</b> 24",
          "<b>Estación:39</b><br><b>Distrito: </b>01  CENTRO<br><b>Número de bases:</b> 27",
          "<b>Estación:40</b><br><b>Distrito: </b>01  CENTRO<br><b>Número de bases:</b> 24",
          "<b>Estación:41</b><br><b>Distrito: </b>01  CENTRO<br><b>Número de bases:</b> 18",
          "<b>Estación:42</b><br><b>Distrito: </b>01  CENTRO<br><b>Número de bases:</b> 24",
          "<b>Estación:43</b><br><b>Distrito: </b>01  CENTRO<br><b>Número de bases:</b> 24",
          "<b>Estación:44</b><br><b>Distrito: </b>01  CENTRO<br><b>Número de bases:</b> 21",
          "<b>Estación:45</b><br><b>Distrito: </b>01  CENTRO<br><b>Número de bases:</b> 21",
          "<b>Estación:46</b><br><b>Distrito: </b>02  ARGANZUELA<br><b>Número de bases:</b> 24",
          "<b>Estación:47</b><br><b>Distrito: </b>02  ARGANZUELA<br><b>Número de bases:</b> 24",
          "<b>Estación:48</b><br><b>Distrito: </b>01  CENTRO<br><b>Número de bases:</b> 24",
          "<b>Estación:49</b><br><b>Distrito: </b>01  CENTRO<br><b>Número de bases:</b> 24",
          "<b>Estación:50</b><br><b>Distrito: </b>01  CENTRO<br><b>Número de bases:</b> 24",
          "<b>Estación:51</b><br><b>Distrito: </b>01  CENTRO<br><b>Número de bases:</b> 27",
          "<b>Estación:52</b><br><b>Distrito: </b>01  CENTRO<br><b>Número de bases:</b> 24",
          "<b>Estación:53</b><br><b>Distrito: </b>01  CENTRO<br><b>Número de bases:</b> 24",
          "<b>Estación:54</b><br><b>Distrito: </b>01  CENTRO<br><b>Número de bases:</b> 21",
          "<b>Estación:55</b><br><b>Distrito: </b>01  CENTRO<br><b>Número de bases:</b> 24",
          "<b>Estación:56</b><br><b>Distrito: </b>01  CENTRO<br><b>Número de bases:</b> 24",
          "<b>Estación:57</b><br><b>Distrito: </b>01  CENTRO<br><b>Número de bases:</b> 24",
          "<b>Estación:58</b><br><b>Distrito: </b>01  CENTRO<br><b>Número de bases:</b> 24",
          "<b>Estación:59</b><br><b>Distrito: </b>01  CENTRO<br><b>Número de bases:</b> 21",
          "<b>Estación:60</b><br><b>Distrito: </b>03  RETIRO<br><b>Número de bases:</b> 24",
          "<b>Estación:61</b><br><b>Distrito: </b>03  RETIRO<br><b>Número de bases:</b> 24",
          "<b>Estación:62</b><br><b>Distrito: </b>03  RETIRO<br><b>Número de bases:</b> 24",
          "<b>Estación:63</b><br><b>Distrito: </b>03  RETIRO<br><b>Número de bases:</b> 24",
          "<b>Estación:65</b><br><b>Distrito: </b>03  RETIRO<br><b>Número de bases:</b> 24",
          "<b>Estación:67</b><br><b>Distrito: </b>01  CENTRO<br><b>Número de bases:</b> 24",
          "<b>Estación:68</b><br><b>Distrito: </b>03  RETIRO<br><b>Número de bases:</b> 21",
          "<b>Estación:69</b><br><b>Distrito: </b>03  RETIRO<br><b>Número de bases:</b> 27",
          "<b>Estación:70</b><br><b>Distrito: </b>03  RETIRO<br><b>Número de bases:</b> 24",
          "<b>Estación:71</b><br><b>Distrito: </b>03  RETIRO<br><b>Número de bases:</b> 24",
          "<b>Estación:72</b><br><b>Distrito: </b>03  RETIRO<br><b>Número de bases:</b> 24",
          "<b>Estación:73</b><br><b>Distrito: </b>03  RETIRO<br><b>Número de bases:</b> 24",
          "<b>Estación:74</b><br><b>Distrito: </b>03  RETIRO<br><b>Número de bases:</b> 24",
          "<b>Estación:75</b><br><b>Distrito: </b>03  RETIRO<br><b>Número de bases:</b> 24",
          "<b>Estación:76</b><br><b>Distrito: </b>03  RETIRO<br><b>Número de bases:</b> 24",
          "<b>Estación:77</b><br><b>Distrito: </b>03  RETIRO<br><b>Número de bases:</b> 22",
          "<b>Estación:78</b><br><b>Distrito: </b>03  RETIRO<br><b>Número de bases:</b> 24",
          "<b>Estación:79</b><br><b>Distrito: </b>03  RETIRO<br><b>Número de bases:</b> 24",
          "<b>Estación:80</b><br><b>Distrito: </b>02  ARGANZUELA<br><b>Número de bases:</b> 51",
          "<b>Estación:81</b><br><b>Distrito: </b>03  RETIRO<br><b>Número de bases:</b> 24",
          "<b>Estación:82</b><br><b>Distrito: </b>03  RETIRO<br><b>Número de bases:</b> 24",
          "<b>Estación:83</b><br><b>Distrito: </b>03  RETIRO<br><b>Número de bases:</b> 24",
          "<b>Estación:84</b><br><b>Distrito: </b>03  RETIRO<br><b>Número de bases:</b> 24",
          "<b>Estación:85</b><br><b>Distrito: </b>03  RETIRO<br><b>Número de bases:</b> 27",
          "<b>Estación:86</b><br><b>Distrito: </b>01  CENTRO<br><b>Número de bases:</b> 21",
          "<b>Estación:87</b><br><b>Distrito: </b>04  SALAMANCA<br><b>Número de bases:</b> 24",
          "<b>Estación:88</b><br><b>Distrito: </b>04  SALAMANCA<br><b>Número de bases:</b> 24",
          "<b>Estación:89</b><br><b>Distrito: </b>04  SALAMANCA<br><b>Número de bases:</b> 24",
          "<b>Estación:90</b><br><b>Distrito: </b>04  SALAMANCA<br><b>Número de bases:</b> 30",
          "<b>Estación:91</b><br><b>Distrito: </b>04  SALAMANCA<br><b>Número de bases:</b> 24",
          "<b>Estación:92</b><br><b>Distrito: </b>04  SALAMANCA<br><b>Número de bases:</b> 24",
          "<b>Estación:93</b><br><b>Distrito: </b>04  SALAMANCA<br><b>Número de bases:</b> 24",
          "<b>Estación:94</b><br><b>Distrito: </b>04  SALAMANCA<br><b>Número de bases:</b> 21",
          "<b>Estación:95</b><br><b>Distrito: </b>04  SALAMANCA<br><b>Número de bases:</b> 24",
          "<b>Estación:96</b><br><b>Distrito: </b>04  SALAMANCA<br><b>Número de bases:</b> 27",
          "<b>Estación:97</b><br><b>Distrito: </b>04  SALAMANCA<br><b>Número de bases:</b> 27",
          "<b>Estación:98</b><br><b>Distrito: </b>04  SALAMANCA<br><b>Número de bases:</b> 24",
          "<b>Estación:99</b><br><b>Distrito: </b>04  SALAMANCA<br><b>Número de bases:</b> 24",
          "<b>Estación:100</b><br><b>Distrito: </b>04  SALAMANCA<br><b>Número de bases:</b> 24",
          "<b>Estación:101</b><br><b>Distrito: </b>04  SALAMANCA<br><b>Número de bases:</b> 24",
          "<b>Estación:102</b><br><b>Distrito: </b>04  SALAMANCA<br><b>Número de bases:</b> 24",
          "<b>Estación:103</b><br><b>Distrito: </b>04  SALAMANCA<br><b>Número de bases:</b> 24",
          "<b>Estación:104</b><br><b>Distrito: </b>04  SALAMANCA<br><b>Número de bases:</b> 21",
          "<b>Estación:105</b><br><b>Distrito: </b>04  SALAMANCA<br><b>Número de bases:</b> 24",
          "<b>Estación:106</b><br><b>Distrito: </b>04  SALAMANCA<br><b>Número de bases:</b> 36",
          "<b>Estación:107</b><br><b>Distrito: </b>04  SALAMANCA<br><b>Número de bases:</b> 24",
          "<b>Estación:108</b><br><b>Distrito: </b>04  SALAMANCA<br><b>Número de bases:</b> 27",
          "<b>Estación:109</b><br><b>Distrito: </b>04  SALAMANCA<br><b>Número de bases:</b> 24",
          "<b>Estación:110</b><br><b>Distrito: </b>09  MONCLOA-ARAVACA<br><b>Número de bases:</b> 24",
          "<b>Estación:111</b><br><b>Distrito: </b>07  CHAMBERÍ<br><b>Número de bases:</b> 48",
          "<b>Estación:112</b><br><b>Distrito: </b>09  MONCLOA-ARAVACA<br><b>Número de bases:</b> 24",
          "<b>Estación:113</b><br><b>Distrito: </b>09  MONCLOA-ARAVACA<br><b>Número de bases:</b> 24",
          "<b>Estación:114</b><br><b>Distrito: </b>09  MONCLOA-ARAVACA<br><b>Número de bases:</b> 24",
          "<b>Estación:115</b><br><b>Distrito: </b>09  MONCLOA-ARAVACA<br><b>Número de bases:</b> 24",
          "<b>Estación:116</b><br><b>Distrito: </b>09  MONCLOA-ARAVACA<br><b>Número de bases:</b> 48",
          "<b>Estación:117</b><br><b>Distrito: </b>09  MONCLOA-ARAVACA<br><b>Número de bases:</b> 24",
          "<b>Estación:118</b><br><b>Distrito: </b>02  ARGANZUELA<br><b>Número de bases:</b> 24",
          "<b>Estación:119</b><br><b>Distrito: </b>02  ARGANZUELA<br><b>Número de bases:</b> 24",
          "<b>Estación:120</b><br><b>Distrito: </b>02  ARGANZUELA<br><b>Número de bases:</b> 24",
          "<b>Estación:121</b><br><b>Distrito: </b>02  ARGANZUELA<br><b>Número de bases:</b> 24",
          "<b>Estación:122</b><br><b>Distrito: </b>07  CHAMBERÍ<br><b>Número de bases:</b> 24",
          "<b>Estación:123</b><br><b>Distrito: </b>07  CHAMBERÍ<br><b>Número de bases:</b> 24",
          "<b>Estación:124</b><br><b>Distrito: </b>07  CHAMBERÍ<br><b>Número de bases:</b> 24",
          "<b>Estación:125</b><br><b>Distrito: </b>07  CHAMBERÍ<br><b>Número de bases:</b> 24",
          "<b>Estación:126</b><br><b>Distrito: </b>07  CHAMBERÍ<br><b>Número de bases:</b> 24",
          "<b>Estación:127</b><br><b>Distrito: </b>07  CHAMBERÍ<br><b>Número de bases:</b> 24",
          "<b>Estación:128</b><br><b>Distrito: </b>07  CHAMBERÍ<br><b>Número de bases:</b> 27",
          "<b>Estación:129</b><br><b>Distrito: </b>07  CHAMBERÍ<br><b>Número de bases:</b> 24",
          "<b>Estación:130</b><br><b>Distrito: </b>07  CHAMBERÍ<br><b>Número de bases:</b> 20",
          "<b>Estación:131</b><br><b>Distrito: </b>07  CHAMBERÍ<br><b>Número de bases:</b> 24",
          "<b>Estación:132</b><br><b>Distrito: </b>07  CHAMBERÍ<br><b>Número de bases:</b> 24",
          "<b>Estación:133</b><br><b>Distrito: </b>06  TETUÁN<br><b>Número de bases:</b> 24",
          "<b>Estación:134</b><br><b>Distrito: </b>07  CHAMBERÍ<br><b>Número de bases:</b> 24",
          "<b>Estación:135</b><br><b>Distrito: </b>07  CHAMBERÍ<br><b>Número de bases:</b> 24",
          "<b>Estación:136</b><br><b>Distrito: </b>05  CHAMARTÍN<br><b>Número de bases:</b> 24",
          "<b>Estación:137</b><br><b>Distrito: </b>05  CHAMARTÍN<br><b>Número de bases:</b> 24",
          "<b>Estación:138</b><br><b>Distrito: </b>07  CHAMBERÍ<br><b>Número de bases:</b> 24",
          "<b>Estación:139</b><br><b>Distrito: </b>05  CHAMARTÍN<br><b>Número de bases:</b> 24",
          "<b>Estación:140</b><br><b>Distrito: </b>05  CHAMARTÍN<br><b>Número de bases:</b> 27",
          "<b>Estación:141</b><br><b>Distrito: </b>07  CHAMBERÍ<br><b>Número de bases:</b> 12",
          "<b>Estación:142</b><br><b>Distrito: </b>04  SALAMANCA<br><b>Número de bases:</b> 24",
          "<b>Estación:143</b><br><b>Distrito: </b>04  SALAMANCA<br><b>Número de bases:</b> 24",
          "<b>Estación:144</b><br><b>Distrito: </b>04  SALAMANCA<br><b>Número de bases:</b> 24",
          "<b>Estación:145</b><br><b>Distrito: </b>04  SALAMANCA<br><b>Número de bases:</b> 24",
          "<b>Estación:146</b><br><b>Distrito: </b>05  CHAMARTÍN<br><b>Número de bases:</b> 18",
          "<b>Estación:147</b><br><b>Distrito: </b>05  CHAMARTÍN<br><b>Número de bases:</b> 24",
          "<b>Estación:148</b><br><b>Distrito: </b>05  CHAMARTÍN<br><b>Número de bases:</b> 24",
          "<b>Estación:149</b><br><b>Distrito: </b>05  CHAMARTÍN<br><b>Número de bases:</b> 24",
          "<b>Estación:150</b><br><b>Distrito: </b>05  CHAMARTÍN<br><b>Número de bases:</b> 24",
          "<b>Estación:151</b><br><b>Distrito: </b>06  TETUÁN<br><b>Número de bases:</b> 24",
          "<b>Estación:152</b><br><b>Distrito: </b>06  TETUÁN<br><b>Número de bases:</b> 24",
          "<b>Estación:153</b><br><b>Distrito: </b>06  TETUÁN<br><b>Número de bases:</b> 24",
          "<b>Estación:154</b><br><b>Distrito: </b>06  TETUÁN<br><b>Número de bases:</b> 24",
          "<b>Estación:155</b><br><b>Distrito: </b>06  TETUÁN<br><b>Número de bases:</b> 24",
          "<b>Estación:156</b><br><b>Distrito: </b>06  TETUÁN<br><b>Número de bases:</b> 24",
          "<b>Estación:157</b><br><b>Distrito: </b>05  CHAMARTÍN<br><b>Número de bases:</b> 24",
          "<b>Estación:158</b><br><b>Distrito: </b>05  CHAMARTÍN<br><b>Número de bases:</b> 24",
          "<b>Estación:159</b><br><b>Distrito: </b>05  CHAMARTÍN<br><b>Número de bases:</b> 24",
          "<b>Estación:160</b><br><b>Distrito: </b>05  CHAMARTÍN<br><b>Número de bases:</b> 24",
          "<b>Estación:161</b><br><b>Distrito: </b>09  MONCLOA-ARAVACA<br><b>Número de bases:</b> 27",
          "<b>Estación:162</b><br><b>Distrito: </b>02  ARGANZUELA<br><b>Número de bases:</b> 24",
          "<b>Estación:163</b><br><b>Distrito: </b>02  ARGANZUELA<br><b>Número de bases:</b> 21",
          "<b>Estación:164</b><br><b>Distrito: </b>02  ARGANZUELA<br><b>Número de bases:</b> 24",
          "<b>Estación:165</b><br><b>Distrito: </b>02  ARGANZUELA<br><b>Número de bases:</b> 27",
          "<b>Estación:166</b><br><b>Distrito: </b>01  CENTRO<br><b>Número de bases:</b> 24",
          "<b>Estación:167</b><br><b>Distrito: </b>02  ARGANZUELA<br><b>Número de bases:</b> 24",
          "<b>Estación:168</b><br><b>Distrito: </b>02  ARGANZUELA<br><b>Número de bases:</b> 24",
          "<b>Estación:169</b><br><b>Distrito: </b>02  ARGANZUELA<br><b>Número de bases:</b> 24",
          "<b>Estación:170</b><br><b>Distrito: </b>02  ARGANZUELA<br><b>Número de bases:</b> 24",
          "<b>Estación:171</b><br><b>Distrito: </b>02  ARGANZUELA<br><b>Número de bases:</b> 24",
          "<b>Estación:172</b><br><b>Distrito: </b>02  ARGANZUELA<br><b>Número de bases:</b> 24",
          "<b>Estación:173</b><br><b>Distrito: </b>02  ARGANZUELA<br><b>Número de bases:</b> 24",
          "<b>Estación:174</b><br><b>Distrito: </b>02  ARGANZUELA<br><b>Número de bases:</b> 27",
          "<b>Estación:175</b><br><b>Distrito: </b>02  ARGANZUELA<br><b>Número de bases:</b> 21",
          "<b>Estación:176</b><br><b>Distrito: </b>02  ARGANZUELA<br><b>Número de bases:</b> 24",
          "<b>Estación:177</b><br><b>Distrito: </b>02  ARGANZUELA<br><b>Número de bases:</b> 24",
          "<b>Estación:178</b><br><b>Distrito: </b>03  RETIRO<br><b>Número de bases:</b> 24",
          "<b>Estación:179</b><br><b>Distrito: </b>13  PUENTE DE VALLECAS<br><b>Número de bases:</b> 24",
          "<b>Estación:180</b><br><b>Distrito: </b>02  ARGANZUELA<br><b>Número de bases:</b> 24",
          "<b>Estación:181</b><br><b>Distrito: </b>03  RETIRO<br><b>Número de bases:</b> 27",
          "<b>Estación:182</b><br><b>Distrito: </b>03  RETIRO<br><b>Número de bases:</b> 24",
          "<b>Estación:183</b><br><b>Distrito: </b>04  SALAMANCA<br><b>Número de bases:</b> 24",
          "<b>Estación:184</b><br><b>Distrito: </b>04  SALAMANCA<br><b>Número de bases:</b> 24",
          "<b>Estación:185</b><br><b>Distrito: </b>04  SALAMANCA<br><b>Número de bases:</b> 24",
          "<b>Estación:186</b><br><b>Distrito: </b>04  SALAMANCA<br><b>Número de bases:</b> 24",
          "<b>Estación:187</b><br><b>Distrito: </b>04  SALAMANCA<br><b>Número de bases:</b> 24",
          "<b>Estación:188</b><br><b>Distrito: </b>15  CIUDAD LINEAL<br><b>Número de bases:</b> 27",
          "<b>Estación:189</b><br><b>Distrito: </b>15  CIUDAD LINEAL<br><b>Número de bases:</b> 24",
          "<b>Estación:190</b><br><b>Distrito: </b>04  SALAMANCA<br><b>Número de bases:</b> 24",
          "<b>Estación:191</b><br><b>Distrito: </b>04  SALAMANCA<br><b>Número de bases:</b> 18",
          "<b>Estación:192</b><br><b>Distrito: </b>04  SALAMANCA<br><b>Número de bases:</b> 27",
          "<b>Estación:193</b><br><b>Distrito: </b>04  SALAMANCA<br><b>Número de bases:</b> 24",
          "<b>Estación:194</b><br><b>Distrito: </b>04  SALAMANCA<br><b>Número de bases:</b> 24",
          "<b>Estación:195</b><br><b>Distrito: </b>05  CHAMARTÍN<br><b>Número de bases:</b> 24",
          "<b>Estación:196</b><br><b>Distrito: </b>05  CHAMARTÍN<br><b>Número de bases:</b> 24",
          "<b>Estación:197</b><br><b>Distrito: </b>05  CHAMARTÍN<br><b>Número de bases:</b> 24",
          "<b>Estación:198</b><br><b>Distrito: </b>07  CHAMBERÍ<br><b>Número de bases:</b> 24",
          "<b>Estación:199</b><br><b>Distrito: </b>07  CHAMBERÍ<br><b>Número de bases:</b> 27",
          "<b>Estación:200</b><br><b>Distrito: </b>07  CHAMBERÍ<br><b>Número de bases:</b> 24",
          "<b>Estación:201</b><br><b>Distrito: </b>07  CHAMBERÍ<br><b>Número de bases:</b> 24",
          "<b>Estación:202</b><br><b>Distrito: </b>07  CHAMBERÍ<br><b>Número de bases:</b> 24",
          "<b>Estación:203</b><br><b>Distrito: </b>07  CHAMBERÍ<br><b>Número de bases:</b> 24",
          "<b>Estación:204</b><br><b>Distrito: </b>06  TETUÁN<br><b>Número de bases:</b> 24",
          "<b>Estación:205</b><br><b>Distrito: </b>06  TETUÁN<br><b>Número de bases:</b> 24",
          "<b>Estación:206</b><br><b>Distrito: </b>06  TETUÁN<br><b>Número de bases:</b> 24",
          "<b>Estación:207</b><br><b>Distrito: </b>06  TETUÁN<br><b>Número de bases:</b> 18",
          "<b>Estación:208</b><br><b>Distrito: </b>05  CHAMARTÍN<br><b>Número de bases:</b> 24",
          "<b>Estación:209</b><br><b>Distrito: </b>05  CHAMARTÍN<br><b>Número de bases:</b> 24",
          "<b>Estación:210</b><br><b>Distrito: </b>01  CENTRO<br><b>Número de bases:</b> 27",
          "<b>Estación:211</b><br><b>Distrito: </b>01  CENTRO<br><b>Número de bases:</b> 24",
          "<b>Estación:212</b><br><b>Distrito: </b>11  CARABANCHEL<br><b>Número de bases:</b> 24",
          "<b>Estación:213</b><br><b>Distrito: </b>12  USERA<br><b>Número de bases:</b> 24",
          "<b>Estación:214</b><br><b>Distrito: </b>15  CIUDAD LINEAL<br><b>Número de bases:</b> 24",
          "<b>Estación:215</b><br><b>Distrito: </b>15  CIUDAD LINEAL<br><b>Número de bases:</b> 24",
          "<b>Estación:216</b><br><b>Distrito: </b>10  LATINA<br><b>Número de bases:</b> 24",
          "<b>Estación:217</b><br><b>Distrito: </b>08  FUENCARRAL-EL PARDO<br><b>Número de bases:</b> 24",
          "<b>Estación:218</b><br><b>Distrito: </b>14  MORATALAZ<br><b>Número de bases:</b> 24",
          "<b>Estación:219</b><br><b>Distrito: </b>14  MORATALAZ<br><b>Número de bases:</b> 24",
          "<b>Estación:220</b><br><b>Distrito: </b>14  MORATALAZ<br><b>Número de bases:</b> 24",
          "<b>Estación:221</b><br><b>Distrito: </b>14  MORATALAZ<br><b>Número de bases:</b> 24",
          "<b>Estación:222</b><br><b>Distrito: </b>12  USERA<br><b>Número de bases:</b> 24",
          "<b>Estación:223</b><br><b>Distrito: </b>10  LATINA<br><b>Número de bases:</b> 24",
          "<b>Estación:224</b><br><b>Distrito: </b>10  LATINA<br><b>Número de bases:</b> 24",
          "<b>Estación:225</b><br><b>Distrito: </b>13  PUENTE DE VALLECAS<br><b>Número de bases:</b> 24",
          "<b>Estación:226</b><br><b>Distrito: </b>13  PUENTE DE VALLECAS<br><b>Número de bases:</b> 24",
          "<b>Estación:227</b><br><b>Distrito: </b>13  PUENTE DE VALLECAS<br><b>Número de bases:</b> 24",
          "<b>Estación:228</b><br><b>Distrito: </b>11  CARABANCHEL<br><b>Número de bases:</b> 24",
          "<b>Estación:229</b><br><b>Distrito: </b>15  CIUDAD LINEAL<br><b>Número de bases:</b> 24",
          "<b>Estación:230</b><br><b>Distrito: </b>15  CIUDAD LINEAL<br><b>Número de bases:</b> 24",
          "<b>Estación:231</b><br><b>Distrito: </b>15  CIUDAD LINEAL<br><b>Número de bases:</b> 24",
          "<b>Estación:232</b><br><b>Distrito: </b>15  CIUDAD LINEAL<br><b>Número de bases:</b> 24",
          "<b>Estación:233</b><br><b>Distrito: </b>15  CIUDAD LINEAL<br><b>Número de bases:</b> 24",
          "<b>Estación:234</b><br><b>Distrito: </b>15  CIUDAD LINEAL<br><b>Número de bases:</b> 24",
          "<b>Estación:235</b><br><b>Distrito: </b>02  ARGANZUELA<br><b>Número de bases:</b> 24",
          "<b>Estación:236</b><br><b>Distrito: </b>02  ARGANZUELA<br><b>Número de bases:</b> 24",
          "<b>Estación:237</b><br><b>Distrito: </b>06  TETUÁN<br><b>Número de bases:</b> 24",
          "<b>Estación:238</b><br><b>Distrito: </b>06  TETUÁN<br><b>Número de bases:</b> 24",
          "<b>Estación:239</b><br><b>Distrito: </b>06  TETUÁN<br><b>Número de bases:</b> 24",
          "<b>Estación:240</b><br><b>Distrito: </b>04  SALAMANCA<br><b>Número de bases:</b> 24",
          "<b>Estación:241</b><br><b>Distrito: </b>04  SALAMANCA<br><b>Número de bases:</b> 24",
          "<b>Estación:242</b><br><b>Distrito: </b>04  SALAMANCA<br><b>Número de bases:</b> 24",
          "<b>Estación:243</b><br><b>Distrito: </b>04  SALAMANCA<br><b>Número de bases:</b> 24",
          "<b>Estación:244</b><br><b>Distrito: </b>07  CHAMBERÍ<br><b>Número de bases:</b> 24",
          "<b>Estación:245</b><br><b>Distrito: </b>07  CHAMBERÍ<br><b>Número de bases:</b> 24",
          "<b>Estación:246</b><br><b>Distrito: </b>07  CHAMBERÍ<br><b>Número de bases:</b> 24",
          "<b>Estación:247</b><br><b>Distrito: </b>07  CHAMBERÍ<br><b>Número de bases:</b> 24",
          "<b>Estación:248</b><br><b>Distrito: </b>08  FUENCARRAL-EL PARDO<br><b>Número de bases:</b> 24",
          "<b>Estación:249</b><br><b>Distrito: </b>05  CHAMARTÍN<br><b>Número de bases:</b> 24",
          "<b>Estación:250</b><br><b>Distrito: </b>05  CHAMARTÍN<br><b>Número de bases:</b> 24",
          "<b>Estación:251</b><br><b>Distrito: </b>05  CHAMARTÍN<br><b>Número de bases:</b> 24",
          "<b>Estación:252</b><br><b>Distrito: </b>05  CHAMARTÍN<br><b>Número de bases:</b> 24",
          "<b>Estación:253</b><br><b>Distrito: </b>05  CHAMARTÍN<br><b>Número de bases:</b> 24",
          "<b>Estación:254</b><br><b>Distrito: </b>05  CHAMARTÍN<br><b>Número de bases:</b> 24",
          "<b>Estación:255</b><br><b>Distrito: </b>05  CHAMARTÍN<br><b>Número de bases:</b> 24",
          "<b>Estación:256</b><br><b>Distrito: </b>09  MONCLOA-ARAVACA<br><b>Número de bases:</b> 24",
          "<b>Estación:257</b><br><b>Distrito: </b>09  MONCLOA-ARAVACA<br><b>Número de bases:</b> 24",
          "<b>Estación:258</b><br><b>Distrito: </b>09  MONCLOA-ARAVACA<br><b>Número de bases:</b> 24",
          "<b>Estación:259</b><br><b>Distrito: </b>09  MONCLOA-ARAVACA<br><b>Número de bases:</b> 24",
          "<b>Estación:260</b><br><b>Distrito: </b>09  MONCLOA-ARAVACA<br><b>Número de bases:</b> 24",
          "<b>Estación:261</b><br><b>Distrito: </b>09  MONCLOA-ARAVACA<br><b>Número de bases:</b> 24"
         ],
         "lat": [
          40.4171107,
          40.42058,
          40.4303224,
          40.4285905,
          40.428362,
          40.4241633,
          40.4252161,
          40.4277143,
          40.4156134,
          40.4254027,
          40.4270517,
          40.4285271,
          40.4273652,
          40.4259913,
          40.4262937,
          40.4229421,
          40.4231675,
          40.4209206,
          40.4218997,
          40.4191858,
          40.4201452,
          40.4202137,
          40.417906,
          40.4172593,
          40.4238308,
          40.4132831,
          40.4180695,
          40.416244,
          40.4193355,
          40.4163446,
          40.4148511,
          40.4164757,
          40.4144117,
          40.4141792,
          40.4168229,
          40.4108606,
          40.4112961,
          40.4112662,
          40.4137865,
          40.412228,
          40.4107714,
          40.4100889,
          40.4098162,
          40.4069486,
          40.4054496,
          40.4046233,
          40.4054473,
          40.4060497,
          40.4083102,
          40.4077234,
          40.4145181,
          40.4082802,
          40.4266233,
          40.4240716,
          40.418484,
          40.4296363,
          40.4222601,
          40.4254802,
          40.4194508,
          40.4214379,
          40.4212986,
          40.4178926,
          40.4166859,
          40.410829,
          40.412781,
          40.4100609,
          40.4152203,
          40.4160054,
          40.415721,
          40.411463,
          40.4117601,
          40.4083387,
          40.4072851,
          40.4063347,
          40.4005704,
          40.4050482,
          40.4074122,
          40.4095758,
          40.4084793,
          40.4132589,
          40.4033695,
          40.4211415,
          40.4185779,
          40.4276717,
          40.4312077,
          40.4272628,
          40.4250791,
          40.4261113,
          40.4262237,
          40.4256984,
          40.4233686,
          40.4226634,
          40.4220516,
          40.4224846,
          40.4241911,
          40.4261048,
          40.4247843,
          40.4231223,
          40.4211552,
          40.4303733,
          40.4267658,
          40.4270684,
          40.4248642,
          40.4215952,
          40.4274425,
          40.4301281,
          40.4347654,
          40.4335742,
          40.4326267,
          40.4277472,
          40.4278211,
          40.4253802,
          40.4240632,
          40.4309046,
          40.4007959,
          40.4014567,
          40.4030362,
          40.4018356,
          40.429524,
          40.4306386,
          40.4308173,
          40.4353128,
          40.4345672,
          40.4339055,
          40.4390329,
          40.4384684,
          40.4417195,
          40.4417543,
          40.4463889,
          40.4471673,
          40.444027,
          40.4414845,
          40.4452833,
          40.4454958,
          40.4456884,
          40.4393558,
          40.4385198,
          40.4354253,
          40.4335262,
          40.434616,
          40.4323192,
          40.4297717,
          40.4442406,
          40.4483353,
          40.4510203,
          40.4498448,
          40.4491125,
          40.4488617,
          40.4527163,
          40.45235,
          40.4547769,
          40.4572863,
          40.4592406,
          40.459282,
          40.45862,
          40.4542549,
          40.4571995,
          40.4220566,
          40.4035176,
          40.4036349,
          40.3971366,
          40.3928841,
          40.4139396,
          40.4137331,
          40.4045828,
          40.401578,
          40.4011039,
          40.3997626,
          40.4008683,
          40.3981757,
          40.397417,
          40.3962687,
          40.3942411,
          40.3915019,
          40.4030242,
          40.3979341,
          40.3941252,
          40.4181748,
          40.4187145,
          40.4256358,
          40.4260023,
          40.4250682,
          40.429069,
          40.4301353,
          40.4311658,
          40.4350206,
          40.4343761,
          40.4346168,
          40.431855,
          40.4325204,
          40.4371986,
          40.4392483,
          40.4440957,
          40.4515501,
          40.4331172,
          40.4343244,
          40.4336617,
          40.4387323,
          40.4411686,
          40.4417547,
          40.4476606,
          40.4535024,
          40.4607994,
          40.4630291,
          40.4665125,
          40.4656872,
          40.4197538,
          40.4206168,
          40.3981605,
          40.3889363,
          40.4434012,
          40.4296903,
          40.4140528,
          40.4810028,
          40.4105519,
          40.4083961,
          40.4061548,
          40.4004579,
          40.3917816,
          40.4064341,
          40.408882,
          40.4026388,
          40.3991986,
          40.3940355,
          40.3943842,
          40.4370782,
          40.4436986,
          40.439748,
          40.4328362,
          40.4229144,
          40.426163,
          40.3889853,
          40.4074236,
          40.451395,
          40.4562183,
          40.4567345,
          40.4367138,
          40.4377568,
          40.4394662,
          40.4351648,
          40.4398513,
          40.4364656,
          40.436026,
          40.4383672,
          40.4743243,
          40.4794159,
          40.4408151,
          40.444183,
          40.4715645,
          40.455606,
          40.4610436,
          40.4637286,
          40.4463599,
          40.438804,
          40.449019,
          40.4444176,
          40.4482316,
          40.4505032
         ],
         "lon": [
          -3.701998,
          -3.7056739,
          -3.7072122,
          -3.7026739,
          -3.7020743,
          -3.6984093,
          -3.6977399,
          -3.6953067,
          -3.7094093,
          -3.6920816,
          -3.7036192,
          -3.7062202,
          -3.7104727,
          -3.7133768,
          -3.7073611,
          -3.7074955,
          -3.7041859,
          -3.6995679,
          -3.6953951,
          -3.6952901,
          -3.7064995,
          -3.7082901,
          -3.7105866,
          -3.7060243,
          -3.6945421,
          -3.6955803,
          -3.6983662,
          -3.6958008,
          -3.7115428,
          -3.706625,
          -3.7061355,
          -3.7032096,
          -3.7035044,
          -3.7103676,
          -3.711764,
          -3.7141234,
          -3.7114443,
          -3.7090043,
          -3.7047463,
          -3.6989898,
          -3.6982294,
          -3.7025446,
          -3.7039138,
          -3.7111381,
          -3.7071178,
          -3.702755,
          -3.7020997,
          -3.6992427,
          -3.69322,
          -3.6935934,
          -3.7007838,
          -3.7007295,
          -3.7003435,
          -3.7019295,
          -3.7032875,
          -3.7128181,
          -3.6979458,
          -3.7041167,
          -3.6881994,
          -3.675206,
          -3.6724223,
          -3.6706508,
          -3.6893825,
          -3.6931349,
          -3.6911649,
          -3.6888669,
          -3.6777994,
          -3.674021,
          -3.669623,
          -3.669099,
          -3.6765768,
          -3.6784149,
          -3.6751544,
          -3.6707742,
          -3.6745783,
          -3.6805524,
          -3.6907238,
          -3.6919663,
          -3.669683,
          -3.6745339,
          -3.6726923,
          -3.6799299,
          -3.6933298,
          -3.6835631,
          -3.6837471,
          -3.6751716,
          -3.6837297,
          -3.6788203,
          -3.6864821,
          -3.6894124,
          -3.6907044,
          -3.6869914,
          -3.6820471,
          -3.6801515,
          -3.6754079,
          -3.6739638,
          -3.6738777,
          -3.6694246,
          -3.6840806,
          -3.6865351,
          -3.6895792,
          -3.6874745,
          -3.6878868,
          -3.6884243,
          -3.670653,
          -3.6815253,
          -3.7201316,
          -3.7177783,
          -3.7248727,
          -3.7207145,
          -3.7174151,
          -3.7169626,
          -3.7118457,
          -3.7189152,
          -3.688135,
          -3.6865777,
          -3.6947791,
          -3.6986046,
          -3.6962626,
          -3.7134685,
          -3.6993182,
          -3.6948316,
          -3.7017424,
          -3.7083987,
          -3.7156915,
          -3.6982818,
          -3.7017071,
          -3.704022,
          -3.7035911,
          -3.7000292,
          -3.6955114,
          -3.6928901,
          -3.6908127,
          -3.6852925,
          -3.6915818,
          -3.6904495,
          -3.6829127,
          -3.6892902,
          -3.6880402,
          -3.6782355,
          -3.6754628,
          -3.671401,
          -3.67879,
          -3.6795811,
          -3.6816993,
          -3.6878512,
          -3.690541,
          -3.6952023,
          -3.6989497,
          -3.6930894,
          -3.6946736,
          -3.700864,
          -3.6913229,
          -3.6893305,
          -3.6847049,
          -3.6837348,
          -3.6766176,
          -3.7220624,
          -3.7107559,
          -3.7064372,
          -3.6944851,
          -3.6976134,
          -3.7133382,
          -3.7176456,
          -3.6959159,
          -3.713846,
          -3.704403,
          -3.6984459,
          -3.6935448,
          -3.7023615,
          -3.7063771,
          -3.6983033,
          -3.6936302,
          -3.694087,
          -3.6788939,
          -3.6690602,
          -3.6759244,
          -3.67664,
          -3.6655023,
          -3.6694506,
          -3.6653095,
          -3.661533,
          -3.6782783,
          -3.6638407,
          -3.6589062,
          -3.6555431,
          -3.6834711,
          -3.6740365,
          -3.6714315,
          -3.665644,
          -3.6771947,
          -3.6754913,
          -3.6750918,
          -3.6780252,
          -3.6915713,
          -3.7148406,
          -3.704671,
          -3.7038161,
          -3.7080969,
          -3.7144239,
          -3.7041702,
          -3.7033408,
          -3.6990499,
          -3.6973991,
          -3.6886852,
          -3.6887875,
          -3.702631,
          -3.7025369,
          -3.7165313,
          -3.7001575,
          -3.6569597,
          -3.6409697,
          -3.7288948,
          -3.6891094,
          -3.6573999,
          -3.6467783,
          -3.6514264,
          -3.6346859,
          -3.7026887,
          -3.7245226,
          -3.7288262,
          -3.6601933,
          -3.6606789,
          -3.6661421,
          -3.7080437,
          -3.6486507,
          -3.6491034,
          -3.6558172,
          -3.6485701,
          -3.655633,
          -3.651125,
          -3.6911834,
          -3.7171449,
          -3.7105146,
          -3.6932474,
          -3.7079276,
          -3.6609886,
          -3.6677796,
          -3.6629058,
          -3.6700894,
          -3.7175468,
          -3.7101726,
          -3.699252,
          -3.692843,
          -3.6878414,
          -3.6852959,
          -3.6861,
          -3.6668532,
          -3.6839094,
          -3.688443,
          -3.6765549,
          -3.6851815,
          -3.7138353,
          -3.73029,
          -3.7273004,
          -3.727031,
          -3.7272637,
          -3.7292576
         ],
         "marker": {
          "color": "white",
          "opacity": 0.7,
          "size": [
           30,
           12,
           9,
           12,
           13.5,
           12,
           10.5,
           12,
           12,
           12,
           12,
           12,
           12,
           12,
           10.5,
           10.5,
           12,
           12,
           12,
           15,
           12,
           12,
           12,
           24,
           12,
           13.5,
           12,
           12,
           13.5,
           13.5,
           9,
           10.5,
           12,
           12,
           12,
           12,
           12,
           13.5,
           12,
           9,
           12,
           12,
           10.5,
           10.5,
           12,
           12,
           12,
           12,
           12,
           13.5,
           12,
           12,
           10.5,
           12,
           12,
           12,
           12,
           10.5,
           12,
           12,
           12,
           12,
           12,
           12,
           10.5,
           13.5,
           12,
           12,
           12,
           12,
           12,
           12,
           12,
           11,
           12,
           12,
           25.5,
           12,
           12,
           12,
           12,
           13.5,
           10.5,
           12,
           12,
           12,
           15,
           12,
           12,
           12,
           10.5,
           12,
           13.5,
           13.5,
           12,
           12,
           12,
           12,
           12,
           12,
           10.5,
           12,
           18,
           12,
           13.5,
           12,
           12,
           24,
           12,
           12,
           12,
           12,
           24,
           12,
           12,
           12,
           12,
           12,
           12,
           12,
           12,
           12,
           12,
           12,
           13.5,
           12,
           10,
           12,
           12,
           12,
           12,
           12,
           12,
           12,
           12,
           12,
           13.5,
           6,
           12,
           12,
           12,
           12,
           9,
           12,
           12,
           12,
           12,
           12,
           12,
           12,
           12,
           12,
           12,
           12,
           12,
           12,
           12,
           13.5,
           12,
           10.5,
           12,
           13.5,
           12,
           12,
           12,
           12,
           12,
           12,
           12,
           12,
           13.5,
           10.5,
           12,
           12,
           12,
           12,
           12,
           13.5,
           12,
           12,
           12,
           12,
           12,
           12,
           13.5,
           12,
           12,
           9,
           13.5,
           12,
           12,
           12,
           12,
           12,
           12,
           13.5,
           12,
           12,
           12,
           12,
           12,
           12,
           12,
           9,
           12,
           12,
           13.5,
           12,
           12,
           12,
           12,
           12,
           12,
           12,
           12,
           12,
           12,
           12,
           12,
           12,
           12,
           12,
           12,
           12,
           12,
           12,
           12,
           12,
           12,
           12,
           12,
           12,
           12,
           12,
           12,
           12,
           12,
           12,
           12,
           12,
           12,
           12,
           12,
           12,
           12,
           12,
           12,
           12,
           12,
           12,
           12,
           12,
           12,
           12,
           12,
           12,
           12,
           12
          ]
         },
         "mode": "markers",
         "showlegend": false,
         "type": "scattermapbox"
        }
       ],
       "layout": {
        "autosize": true,
        "height": 1000,
        "hoverlabel": {
         "align": "right"
        },
        "legend": {
         "itemsizing": "constant",
         "title": {
          "text": "Distrito"
         },
         "tracegroupgap": 0
        },
        "mapbox": {
         "bearing": 0,
         "center": {
          "lat": 40.435,
          "lon": -3.69
         },
         "domain": {
          "x": [
           0,
           1
          ],
          "y": [
           0,
           1
          ]
         },
         "style": "carto-positron",
         "zoom": 12
        },
        "margin": {
         "t": 60
        },
        "showlegend": true,
        "template": {
         "data": {
          "bar": [
           {
            "error_x": {
             "color": "#2a3f5f"
            },
            "error_y": {
             "color": "#2a3f5f"
            },
            "marker": {
             "line": {
              "color": "#E5ECF6",
              "width": 0.5
             },
             "pattern": {
              "fillmode": "overlay",
              "size": 10,
              "solidity": 0.2
             }
            },
            "type": "bar"
           }
          ],
          "barpolar": [
           {
            "marker": {
             "line": {
              "color": "#E5ECF6",
              "width": 0.5
             },
             "pattern": {
              "fillmode": "overlay",
              "size": 10,
              "solidity": 0.2
             }
            },
            "type": "barpolar"
           }
          ],
          "carpet": [
           {
            "aaxis": {
             "endlinecolor": "#2a3f5f",
             "gridcolor": "white",
             "linecolor": "white",
             "minorgridcolor": "white",
             "startlinecolor": "#2a3f5f"
            },
            "baxis": {
             "endlinecolor": "#2a3f5f",
             "gridcolor": "white",
             "linecolor": "white",
             "minorgridcolor": "white",
             "startlinecolor": "#2a3f5f"
            },
            "type": "carpet"
           }
          ],
          "choropleth": [
           {
            "colorbar": {
             "outlinewidth": 0,
             "ticks": ""
            },
            "type": "choropleth"
           }
          ],
          "contour": [
           {
            "colorbar": {
             "outlinewidth": 0,
             "ticks": ""
            },
            "colorscale": [
             [
              0,
              "#0d0887"
             ],
             [
              0.1111111111111111,
              "#46039f"
             ],
             [
              0.2222222222222222,
              "#7201a8"
             ],
             [
              0.3333333333333333,
              "#9c179e"
             ],
             [
              0.4444444444444444,
              "#bd3786"
             ],
             [
              0.5555555555555556,
              "#d8576b"
             ],
             [
              0.6666666666666666,
              "#ed7953"
             ],
             [
              0.7777777777777778,
              "#fb9f3a"
             ],
             [
              0.8888888888888888,
              "#fdca26"
             ],
             [
              1,
              "#f0f921"
             ]
            ],
            "type": "contour"
           }
          ],
          "contourcarpet": [
           {
            "colorbar": {
             "outlinewidth": 0,
             "ticks": ""
            },
            "type": "contourcarpet"
           }
          ],
          "heatmap": [
           {
            "colorbar": {
             "outlinewidth": 0,
             "ticks": ""
            },
            "colorscale": [
             [
              0,
              "#0d0887"
             ],
             [
              0.1111111111111111,
              "#46039f"
             ],
             [
              0.2222222222222222,
              "#7201a8"
             ],
             [
              0.3333333333333333,
              "#9c179e"
             ],
             [
              0.4444444444444444,
              "#bd3786"
             ],
             [
              0.5555555555555556,
              "#d8576b"
             ],
             [
              0.6666666666666666,
              "#ed7953"
             ],
             [
              0.7777777777777778,
              "#fb9f3a"
             ],
             [
              0.8888888888888888,
              "#fdca26"
             ],
             [
              1,
              "#f0f921"
             ]
            ],
            "type": "heatmap"
           }
          ],
          "heatmapgl": [
           {
            "colorbar": {
             "outlinewidth": 0,
             "ticks": ""
            },
            "colorscale": [
             [
              0,
              "#0d0887"
             ],
             [
              0.1111111111111111,
              "#46039f"
             ],
             [
              0.2222222222222222,
              "#7201a8"
             ],
             [
              0.3333333333333333,
              "#9c179e"
             ],
             [
              0.4444444444444444,
              "#bd3786"
             ],
             [
              0.5555555555555556,
              "#d8576b"
             ],
             [
              0.6666666666666666,
              "#ed7953"
             ],
             [
              0.7777777777777778,
              "#fb9f3a"
             ],
             [
              0.8888888888888888,
              "#fdca26"
             ],
             [
              1,
              "#f0f921"
             ]
            ],
            "type": "heatmapgl"
           }
          ],
          "histogram": [
           {
            "marker": {
             "pattern": {
              "fillmode": "overlay",
              "size": 10,
              "solidity": 0.2
             }
            },
            "type": "histogram"
           }
          ],
          "histogram2d": [
           {
            "colorbar": {
             "outlinewidth": 0,
             "ticks": ""
            },
            "colorscale": [
             [
              0,
              "#0d0887"
             ],
             [
              0.1111111111111111,
              "#46039f"
             ],
             [
              0.2222222222222222,
              "#7201a8"
             ],
             [
              0.3333333333333333,
              "#9c179e"
             ],
             [
              0.4444444444444444,
              "#bd3786"
             ],
             [
              0.5555555555555556,
              "#d8576b"
             ],
             [
              0.6666666666666666,
              "#ed7953"
             ],
             [
              0.7777777777777778,
              "#fb9f3a"
             ],
             [
              0.8888888888888888,
              "#fdca26"
             ],
             [
              1,
              "#f0f921"
             ]
            ],
            "type": "histogram2d"
           }
          ],
          "histogram2dcontour": [
           {
            "colorbar": {
             "outlinewidth": 0,
             "ticks": ""
            },
            "colorscale": [
             [
              0,
              "#0d0887"
             ],
             [
              0.1111111111111111,
              "#46039f"
             ],
             [
              0.2222222222222222,
              "#7201a8"
             ],
             [
              0.3333333333333333,
              "#9c179e"
             ],
             [
              0.4444444444444444,
              "#bd3786"
             ],
             [
              0.5555555555555556,
              "#d8576b"
             ],
             [
              0.6666666666666666,
              "#ed7953"
             ],
             [
              0.7777777777777778,
              "#fb9f3a"
             ],
             [
              0.8888888888888888,
              "#fdca26"
             ],
             [
              1,
              "#f0f921"
             ]
            ],
            "type": "histogram2dcontour"
           }
          ],
          "mesh3d": [
           {
            "colorbar": {
             "outlinewidth": 0,
             "ticks": ""
            },
            "type": "mesh3d"
           }
          ],
          "parcoords": [
           {
            "line": {
             "colorbar": {
              "outlinewidth": 0,
              "ticks": ""
             }
            },
            "type": "parcoords"
           }
          ],
          "pie": [
           {
            "automargin": true,
            "type": "pie"
           }
          ],
          "scatter": [
           {
            "fillpattern": {
             "fillmode": "overlay",
             "size": 10,
             "solidity": 0.2
            },
            "type": "scatter"
           }
          ],
          "scatter3d": [
           {
            "line": {
             "colorbar": {
              "outlinewidth": 0,
              "ticks": ""
             }
            },
            "marker": {
             "colorbar": {
              "outlinewidth": 0,
              "ticks": ""
             }
            },
            "type": "scatter3d"
           }
          ],
          "scattercarpet": [
           {
            "marker": {
             "colorbar": {
              "outlinewidth": 0,
              "ticks": ""
             }
            },
            "type": "scattercarpet"
           }
          ],
          "scattergeo": [
           {
            "marker": {
             "colorbar": {
              "outlinewidth": 0,
              "ticks": ""
             }
            },
            "type": "scattergeo"
           }
          ],
          "scattergl": [
           {
            "marker": {
             "colorbar": {
              "outlinewidth": 0,
              "ticks": ""
             }
            },
            "type": "scattergl"
           }
          ],
          "scattermapbox": [
           {
            "marker": {
             "colorbar": {
              "outlinewidth": 0,
              "ticks": ""
             }
            },
            "type": "scattermapbox"
           }
          ],
          "scatterpolar": [
           {
            "marker": {
             "colorbar": {
              "outlinewidth": 0,
              "ticks": ""
             }
            },
            "type": "scatterpolar"
           }
          ],
          "scatterpolargl": [
           {
            "marker": {
             "colorbar": {
              "outlinewidth": 0,
              "ticks": ""
             }
            },
            "type": "scatterpolargl"
           }
          ],
          "scatterternary": [
           {
            "marker": {
             "colorbar": {
              "outlinewidth": 0,
              "ticks": ""
             }
            },
            "type": "scatterternary"
           }
          ],
          "surface": [
           {
            "colorbar": {
             "outlinewidth": 0,
             "ticks": ""
            },
            "colorscale": [
             [
              0,
              "#0d0887"
             ],
             [
              0.1111111111111111,
              "#46039f"
             ],
             [
              0.2222222222222222,
              "#7201a8"
             ],
             [
              0.3333333333333333,
              "#9c179e"
             ],
             [
              0.4444444444444444,
              "#bd3786"
             ],
             [
              0.5555555555555556,
              "#d8576b"
             ],
             [
              0.6666666666666666,
              "#ed7953"
             ],
             [
              0.7777777777777778,
              "#fb9f3a"
             ],
             [
              0.8888888888888888,
              "#fdca26"
             ],
             [
              1,
              "#f0f921"
             ]
            ],
            "type": "surface"
           }
          ],
          "table": [
           {
            "cells": {
             "fill": {
              "color": "#EBF0F8"
             },
             "line": {
              "color": "white"
             }
            },
            "header": {
             "fill": {
              "color": "#C8D4E3"
             },
             "line": {
              "color": "white"
             }
            },
            "type": "table"
           }
          ]
         },
         "layout": {
          "annotationdefaults": {
           "arrowcolor": "#2a3f5f",
           "arrowhead": 0,
           "arrowwidth": 1
          },
          "autotypenumbers": "strict",
          "coloraxis": {
           "colorbar": {
            "outlinewidth": 0,
            "ticks": ""
           }
          },
          "colorscale": {
           "diverging": [
            [
             0,
             "#8e0152"
            ],
            [
             0.1,
             "#c51b7d"
            ],
            [
             0.2,
             "#de77ae"
            ],
            [
             0.3,
             "#f1b6da"
            ],
            [
             0.4,
             "#fde0ef"
            ],
            [
             0.5,
             "#f7f7f7"
            ],
            [
             0.6,
             "#e6f5d0"
            ],
            [
             0.7,
             "#b8e186"
            ],
            [
             0.8,
             "#7fbc41"
            ],
            [
             0.9,
             "#4d9221"
            ],
            [
             1,
             "#276419"
            ]
           ],
           "sequential": [
            [
             0,
             "#0d0887"
            ],
            [
             0.1111111111111111,
             "#46039f"
            ],
            [
             0.2222222222222222,
             "#7201a8"
            ],
            [
             0.3333333333333333,
             "#9c179e"
            ],
            [
             0.4444444444444444,
             "#bd3786"
            ],
            [
             0.5555555555555556,
             "#d8576b"
            ],
            [
             0.6666666666666666,
             "#ed7953"
            ],
            [
             0.7777777777777778,
             "#fb9f3a"
            ],
            [
             0.8888888888888888,
             "#fdca26"
            ],
            [
             1,
             "#f0f921"
            ]
           ],
           "sequentialminus": [
            [
             0,
             "#0d0887"
            ],
            [
             0.1111111111111111,
             "#46039f"
            ],
            [
             0.2222222222222222,
             "#7201a8"
            ],
            [
             0.3333333333333333,
             "#9c179e"
            ],
            [
             0.4444444444444444,
             "#bd3786"
            ],
            [
             0.5555555555555556,
             "#d8576b"
            ],
            [
             0.6666666666666666,
             "#ed7953"
            ],
            [
             0.7777777777777778,
             "#fb9f3a"
            ],
            [
             0.8888888888888888,
             "#fdca26"
            ],
            [
             1,
             "#f0f921"
            ]
           ]
          },
          "colorway": [
           "#636efa",
           "#EF553B",
           "#00cc96",
           "#ab63fa",
           "#FFA15A",
           "#19d3f3",
           "#FF6692",
           "#B6E880",
           "#FF97FF",
           "#FECB52"
          ],
          "font": {
           "color": "#2a3f5f"
          },
          "geo": {
           "bgcolor": "white",
           "lakecolor": "white",
           "landcolor": "#E5ECF6",
           "showlakes": true,
           "showland": true,
           "subunitcolor": "white"
          },
          "hoverlabel": {
           "align": "left"
          },
          "hovermode": "closest",
          "mapbox": {
           "style": "light"
          },
          "paper_bgcolor": "white",
          "plot_bgcolor": "#E5ECF6",
          "polar": {
           "angularaxis": {
            "gridcolor": "white",
            "linecolor": "white",
            "ticks": ""
           },
           "bgcolor": "#E5ECF6",
           "radialaxis": {
            "gridcolor": "white",
            "linecolor": "white",
            "ticks": ""
           }
          },
          "scene": {
           "xaxis": {
            "backgroundcolor": "#E5ECF6",
            "gridcolor": "white",
            "gridwidth": 2,
            "linecolor": "white",
            "showbackground": true,
            "ticks": "",
            "zerolinecolor": "white"
           },
           "yaxis": {
            "backgroundcolor": "#E5ECF6",
            "gridcolor": "white",
            "gridwidth": 2,
            "linecolor": "white",
            "showbackground": true,
            "ticks": "",
            "zerolinecolor": "white"
           },
           "zaxis": {
            "backgroundcolor": "#E5ECF6",
            "gridcolor": "white",
            "gridwidth": 2,
            "linecolor": "white",
            "showbackground": true,
            "ticks": "",
            "zerolinecolor": "white"
           }
          },
          "shapedefaults": {
           "line": {
            "color": "#2a3f5f"
           }
          },
          "ternary": {
           "aaxis": {
            "gridcolor": "white",
            "linecolor": "white",
            "ticks": ""
           },
           "baxis": {
            "gridcolor": "white",
            "linecolor": "white",
            "ticks": ""
           },
           "bgcolor": "#E5ECF6",
           "caxis": {
            "gridcolor": "white",
            "linecolor": "white",
            "ticks": ""
           }
          },
          "title": {
           "x": 0.05
          },
          "xaxis": {
           "automargin": true,
           "gridcolor": "white",
           "linecolor": "white",
           "ticks": "",
           "title": {
            "standoff": 15
           },
           "zerolinecolor": "white",
           "zerolinewidth": 2
          },
          "yaxis": {
           "automargin": true,
           "gridcolor": "white",
           "linecolor": "white",
           "ticks": "",
           "title": {
            "standoff": 15
           },
           "zerolinecolor": "white",
           "zerolinewidth": 2
          }
         }
        },
        "title": {
         "text": "Bases BiciMad por Distrito"
        },
        "width": 1000
       }
      }
     },
     "metadata": {},
     "output_type": "display_data"
    }
   ],
   "source": [
    "#bases['text'] = 'hola'\n",
    "#bases['text'] = 'Estación:<b>' + bases['Número'].astype(str) + '</b>.\\n Pertenece al barrio <b>' + bases['Barrio'] + ', ' + bases['Distrito'] + '</b>. Plazas: ' + bases['Número de Plazas'].astype(str)\n",
    "\n",
    "fig = px.scatter_mapbox(bases, lat=\"Latitud\", lon=\"Longitud\",  color = \"Distrito\", size=bases[\"Número de Plazas\"]*0.5, width = 1000, height = 900, zoom = 12, color_continuous_scale=px.colors.diverging.BrBG)\n",
    "# fig.update_traces(hovertemplate=None)\n",
    "fig.add_trace(go.Scattermapbox(\n",
    "        lat = bases[\"Latitud\"],\n",
    "        lon = bases[\"Longitud\"],\n",
    "        mode='markers',\n",
    "        showlegend=False,\n",
    "        marker=go.scattermapbox.Marker(\n",
    "            size=bases[\"Número de Plazas\"]*0.5,\n",
    "            opacity=0.7  ,\n",
    "            color = \"white\"\n",
    "            ),     \n",
    "       hovertemplate = \n",
    "        '<b>Estación:'+bases['Número'].astype(str)+'</b>'+\n",
    "        '<br><b>Distrito: </b>'+bases['Distrito']+'<br>'+\n",
    "        '<b>Número de bases:</b> '+bases[\"Número de Plazas\"].astype(str)\n",
    "    ))\n",
    "\n",
    "fig.update_layout(\n",
    "    title='Bases BiciMad por Distrito',\n",
    "    autosize=True,\n",
    "    showlegend=True,\n",
    "    width = 1000,\n",
    "    height = 1000,\n",
    "    mapbox=dict(\n",
    "        bearing=0,\n",
    "        center=dict(\n",
    "            lat=40.435,\n",
    "            lon=-3.69\n",
    "        ),\n",
    "        zoom=12,\n",
    "        style= 'carto-positron' # 'open-street-map'\n",
    "        \n",
    "    ),\n",
    "    hoverlabel_align = 'right'\n",
    ")\n",
    "fig.show()"
   ]
  },
  {
   "cell_type": "code",
   "execution_count": 12,
   "metadata": {},
   "outputs": [
    {
     "data": {
      "text/html": [
       "<div>\n",
       "<style scoped>\n",
       "    .dataframe tbody tr th:only-of-type {\n",
       "        vertical-align: middle;\n",
       "    }\n",
       "\n",
       "    .dataframe tbody tr th {\n",
       "        vertical-align: top;\n",
       "    }\n",
       "\n",
       "    .dataframe thead th {\n",
       "        text-align: right;\n",
       "    }\n",
       "</style>\n",
       "<table border=\"1\" class=\"dataframe\">\n",
       "  <thead>\n",
       "    <tr style=\"text-align: right;\">\n",
       "      <th></th>\n",
       "      <th>Unnamed: 0</th>\n",
       "      <th>Número</th>\n",
       "      <th>Distrito</th>\n",
       "      <th>Barrio</th>\n",
       "      <th>Calle</th>\n",
       "      <th>Nº Finca</th>\n",
       "      <th>Número de Plazas</th>\n",
       "      <th>Longitud</th>\n",
       "      <th>Latitud</th>\n",
       "      <th>text</th>\n",
       "    </tr>\n",
       "  </thead>\n",
       "  <tbody>\n",
       "    <tr>\n",
       "      <th>0</th>\n",
       "      <td>0</td>\n",
       "      <td>1</td>\n",
       "      <td>01  CENTRO</td>\n",
       "      <td>01-06 SOL</td>\n",
       "      <td>ALCALA, CALLE, DE</td>\n",
       "      <td>[2 6]</td>\n",
       "      <td>60</td>\n",
       "      <td>-3.701998</td>\n",
       "      <td>40.417111</td>\n",
       "      <td>hola</td>\n",
       "    </tr>\n",
       "    <tr>\n",
       "      <th>1</th>\n",
       "      <td>1</td>\n",
       "      <td>2</td>\n",
       "      <td>01  CENTRO</td>\n",
       "      <td>01-05 UNIVERSIDAD</td>\n",
       "      <td>MIGUEL MOYA, CALLE, DE</td>\n",
       "      <td>1</td>\n",
       "      <td>24</td>\n",
       "      <td>-3.705674</td>\n",
       "      <td>40.420580</td>\n",
       "      <td>hola</td>\n",
       "    </tr>\n",
       "    <tr>\n",
       "      <th>2</th>\n",
       "      <td>2</td>\n",
       "      <td>3</td>\n",
       "      <td>07  CHAMBERÍ</td>\n",
       "      <td>07-02 ARAPILES</td>\n",
       "      <td>CONDE DEL VALLE DE SUCHIL, PLAZA, DEL</td>\n",
       "      <td>2</td>\n",
       "      <td>18</td>\n",
       "      <td>-3.707212</td>\n",
       "      <td>40.430322</td>\n",
       "      <td>hola</td>\n",
       "    </tr>\n",
       "    <tr>\n",
       "      <th>3</th>\n",
       "      <td>3</td>\n",
       "      <td>4</td>\n",
       "      <td>01  CENTRO</td>\n",
       "      <td>01-05 UNIVERSIDAD</td>\n",
       "      <td>MANUELA MALASAÑA, CALLE, DE</td>\n",
       "      <td>3</td>\n",
       "      <td>24</td>\n",
       "      <td>-3.702674</td>\n",
       "      <td>40.428590</td>\n",
       "      <td>hola</td>\n",
       "    </tr>\n",
       "    <tr>\n",
       "      <th>4</th>\n",
       "      <td>4</td>\n",
       "      <td>5</td>\n",
       "      <td>01  CENTRO</td>\n",
       "      <td>01-04 JUSTICIA</td>\n",
       "      <td>FUENCARRAL, CALLE, DE</td>\n",
       "      <td>106</td>\n",
       "      <td>27</td>\n",
       "      <td>-3.702074</td>\n",
       "      <td>40.428362</td>\n",
       "      <td>hola</td>\n",
       "    </tr>\n",
       "    <tr>\n",
       "      <th>...</th>\n",
       "      <td>...</td>\n",
       "      <td>...</td>\n",
       "      <td>...</td>\n",
       "      <td>...</td>\n",
       "      <td>...</td>\n",
       "      <td>...</td>\n",
       "      <td>...</td>\n",
       "      <td>...</td>\n",
       "      <td>...</td>\n",
       "      <td>...</td>\n",
       "    </tr>\n",
       "    <tr>\n",
       "      <th>253</th>\n",
       "      <td>253</td>\n",
       "      <td>257</td>\n",
       "      <td>09  MONCLOA-ARAVACA</td>\n",
       "      <td>09-03 CIUDAD UNIVERSITARIA</td>\n",
       "      <td>JUAN DE HERRERA, AVENIDA, DE</td>\n",
       "      <td>1</td>\n",
       "      <td>24</td>\n",
       "      <td>-3.730290</td>\n",
       "      <td>40.438804</td>\n",
       "      <td>hola</td>\n",
       "    </tr>\n",
       "    <tr>\n",
       "      <th>254</th>\n",
       "      <td>254</td>\n",
       "      <td>258</td>\n",
       "      <td>09  MONCLOA-ARAVACA</td>\n",
       "      <td>09-03 CIUDAD UNIVERSITARIA</td>\n",
       "      <td>COMPLUTENSE, AVENIDA</td>\n",
       "      <td>frente al 14</td>\n",
       "      <td>24</td>\n",
       "      <td>-3.727300</td>\n",
       "      <td>40.449019</td>\n",
       "      <td>hola</td>\n",
       "    </tr>\n",
       "    <tr>\n",
       "      <th>255</th>\n",
       "      <td>255</td>\n",
       "      <td>259</td>\n",
       "      <td>09  MONCLOA-ARAVACA</td>\n",
       "      <td>09-03 CIUDAD UNIVERSITARIA</td>\n",
       "      <td>RAMON Y CAJAL, PLAZA, DE</td>\n",
       "      <td>S/N</td>\n",
       "      <td>24</td>\n",
       "      <td>-3.727031</td>\n",
       "      <td>40.444418</td>\n",
       "      <td>hola</td>\n",
       "    </tr>\n",
       "    <tr>\n",
       "      <th>256</th>\n",
       "      <td>256</td>\n",
       "      <td>260</td>\n",
       "      <td>09  MONCLOA-ARAVACA</td>\n",
       "      <td>09-03 CIUDAD UNIVERSITARIA</td>\n",
       "      <td>JOSE ANTONIO NOVAIS, CALLE, DE</td>\n",
       "      <td>S/N</td>\n",
       "      <td>24</td>\n",
       "      <td>-3.727264</td>\n",
       "      <td>40.448232</td>\n",
       "      <td>hola</td>\n",
       "    </tr>\n",
       "    <tr>\n",
       "      <th>257</th>\n",
       "      <td>257</td>\n",
       "      <td>261</td>\n",
       "      <td>09  MONCLOA-ARAVACA</td>\n",
       "      <td>09-03 CIUDAD UNIVERSITARIA</td>\n",
       "      <td>COMPLUTENSE, AVENIDA</td>\n",
       "      <td>frente al 7</td>\n",
       "      <td>24</td>\n",
       "      <td>-3.729258</td>\n",
       "      <td>40.450503</td>\n",
       "      <td>hola</td>\n",
       "    </tr>\n",
       "  </tbody>\n",
       "</table>\n",
       "<p>258 rows × 10 columns</p>\n",
       "</div>"
      ],
      "text/plain": [
       "     Unnamed: 0  Número             Distrito                      Barrio  \\\n",
       "0             0       1           01  CENTRO                   01-06 SOL   \n",
       "1             1       2           01  CENTRO           01-05 UNIVERSIDAD   \n",
       "2             2       3         07  CHAMBERÍ              07-02 ARAPILES   \n",
       "3             3       4           01  CENTRO           01-05 UNIVERSIDAD   \n",
       "4             4       5           01  CENTRO              01-04 JUSTICIA   \n",
       "..          ...     ...                  ...                         ...   \n",
       "253         253     257  09  MONCLOA-ARAVACA  09-03 CIUDAD UNIVERSITARIA   \n",
       "254         254     258  09  MONCLOA-ARAVACA  09-03 CIUDAD UNIVERSITARIA   \n",
       "255         255     259  09  MONCLOA-ARAVACA  09-03 CIUDAD UNIVERSITARIA   \n",
       "256         256     260  09  MONCLOA-ARAVACA  09-03 CIUDAD UNIVERSITARIA   \n",
       "257         257     261  09  MONCLOA-ARAVACA  09-03 CIUDAD UNIVERSITARIA   \n",
       "\n",
       "                                     Calle      Nº Finca  Número de Plazas  \\\n",
       "0                        ALCALA, CALLE, DE         [2 6]                60   \n",
       "1                   MIGUEL MOYA, CALLE, DE             1                24   \n",
       "2    CONDE DEL VALLE DE SUCHIL, PLAZA, DEL             2                18   \n",
       "3              MANUELA MALASAÑA, CALLE, DE             3                24   \n",
       "4                    FUENCARRAL, CALLE, DE           106                27   \n",
       "..                                     ...           ...               ...   \n",
       "253           JUAN DE HERRERA, AVENIDA, DE             1                24   \n",
       "254                   COMPLUTENSE, AVENIDA  frente al 14                24   \n",
       "255               RAMON Y CAJAL, PLAZA, DE           S/N                24   \n",
       "256         JOSE ANTONIO NOVAIS, CALLE, DE           S/N                24   \n",
       "257                   COMPLUTENSE, AVENIDA   frente al 7                24   \n",
       "\n",
       "     Longitud    Latitud  text  \n",
       "0   -3.701998  40.417111  hola  \n",
       "1   -3.705674  40.420580  hola  \n",
       "2   -3.707212  40.430322  hola  \n",
       "3   -3.702674  40.428590  hola  \n",
       "4   -3.702074  40.428362  hola  \n",
       "..        ...        ...   ...  \n",
       "253 -3.730290  40.438804  hola  \n",
       "254 -3.727300  40.449019  hola  \n",
       "255 -3.727031  40.444418  hola  \n",
       "256 -3.727264  40.448232  hola  \n",
       "257 -3.729258  40.450503  hola  \n",
       "\n",
       "[258 rows x 10 columns]"
      ]
     },
     "execution_count": 12,
     "metadata": {},
     "output_type": "execute_result"
    }
   ],
   "source": [
    "bases"
   ]
  }
 ],
 "metadata": {
  "kernelspec": {
   "display_name": "Python 3",
   "language": "python",
   "name": "python3"
  },
  "language_info": {
   "codemirror_mode": {
    "name": "ipython",
    "version": 3
   },
   "file_extension": ".py",
   "mimetype": "text/x-python",
   "name": "python",
   "nbconvert_exporter": "python",
   "pygments_lexer": "ipython3",
   "version": "3.8.5"
  },
  "vscode": {
   "interpreter": {
    "hash": "39050fd8cc4c22f6490bdf197f27ef40698f8c053aaa90441856e399e2244469"
   }
  }
 },
 "nbformat": 4,
 "nbformat_minor": 2
}
