{
 "cells": [
  {
   "cell_type": "code",
   "execution_count": 8,
   "metadata": {},
   "outputs": [],
   "source": [
    "import pandas as pd \n"
   ]
  },
  {
   "cell_type": "code",
   "execution_count": 9,
   "metadata": {},
   "outputs": [
    {
     "data": {
      "text/html": [
       "<div>\n",
       "<style scoped>\n",
       "    .dataframe tbody tr th:only-of-type {\n",
       "        vertical-align: middle;\n",
       "    }\n",
       "\n",
       "    .dataframe tbody tr th {\n",
       "        vertical-align: top;\n",
       "    }\n",
       "\n",
       "    .dataframe thead th {\n",
       "        text-align: right;\n",
       "    }\n",
       "</style>\n",
       "<table border=\"1\" class=\"dataframe\">\n",
       "  <thead>\n",
       "    <tr style=\"text-align: right;\">\n",
       "      <th></th>\n",
       "      <th>Número</th>\n",
       "      <th>Gis_X</th>\n",
       "      <th>Gis_Y</th>\n",
       "      <th>Fecha de Alta</th>\n",
       "      <th>Distrito</th>\n",
       "      <th>Barrio</th>\n",
       "      <th>Calle</th>\n",
       "      <th>Nº Finca</th>\n",
       "      <th>Tipo de Reserva</th>\n",
       "      <th>Número de Plazas</th>\n",
       "      <th>Longitud</th>\n",
       "      <th>Latitud</th>\n",
       "      <th>Direccion</th>\n",
       "    </tr>\n",
       "  </thead>\n",
       "  <tbody>\n",
       "    <tr>\n",
       "      <th>0</th>\n",
       "      <td>1</td>\n",
       "      <td>440443.61</td>\n",
       "      <td>4474290.65</td>\n",
       "      <td>43803</td>\n",
       "      <td>01  CENTRO</td>\n",
       "      <td>01-06 SOL</td>\n",
       "      <td>ALCALA, CALLE, DE</td>\n",
       "      <td>2</td>\n",
       "      <td>BiciMAD</td>\n",
       "      <td>30</td>\n",
       "      <td>-3.701998</td>\n",
       "      <td>40.417111</td>\n",
       "      <td>ALCALA, CALLE, DE, 2</td>\n",
       "    </tr>\n",
       "    <tr>\n",
       "      <th>1</th>\n",
       "      <td>1</td>\n",
       "      <td>440480.56</td>\n",
       "      <td>4474301.74</td>\n",
       "      <td>43867</td>\n",
       "      <td>01  CENTRO</td>\n",
       "      <td>01-06 SOL</td>\n",
       "      <td>ALCALA, CALLE, DE</td>\n",
       "      <td>6</td>\n",
       "      <td>BiciMAD</td>\n",
       "      <td>30</td>\n",
       "      <td>-3.701564</td>\n",
       "      <td>40.417213</td>\n",
       "      <td>ALCALA, CALLE, DE, 6</td>\n",
       "    </tr>\n",
       "    <tr>\n",
       "      <th>2</th>\n",
       "      <td>2</td>\n",
       "      <td>440134.83</td>\n",
       "      <td>4474678.23</td>\n",
       "      <td>41813</td>\n",
       "      <td>01  CENTRO</td>\n",
       "      <td>01-05 UNIVERSIDAD</td>\n",
       "      <td>MIGUEL MOYA, CALLE, DE</td>\n",
       "      <td>1</td>\n",
       "      <td>BiciMAD</td>\n",
       "      <td>24</td>\n",
       "      <td>-3.705674</td>\n",
       "      <td>40.420580</td>\n",
       "      <td>MIGUEL MOYA, CALLE, DE, 1</td>\n",
       "    </tr>\n",
       "    <tr>\n",
       "      <th>3</th>\n",
       "      <td>3</td>\n",
       "      <td>440012.98</td>\n",
       "      <td>4475760.68</td>\n",
       "      <td>41813</td>\n",
       "      <td>07  CHAMBERÍ</td>\n",
       "      <td>07-02 ARAPILES</td>\n",
       "      <td>CONDE DEL VALLE DE SUCHIL, PLAZA, DEL</td>\n",
       "      <td>2</td>\n",
       "      <td>BiciMAD</td>\n",
       "      <td>18</td>\n",
       "      <td>-3.707212</td>\n",
       "      <td>40.430322</td>\n",
       "      <td>CONDE DEL VALLE DE SUCHIL, PLAZA, DEL, 2</td>\n",
       "    </tr>\n",
       "    <tr>\n",
       "      <th>4</th>\n",
       "      <td>4</td>\n",
       "      <td>440396.40</td>\n",
       "      <td>4475565.36</td>\n",
       "      <td>41813</td>\n",
       "      <td>01  CENTRO</td>\n",
       "      <td>01-05 UNIVERSIDAD</td>\n",
       "      <td>MANUELA MALASAÑA, CALLE, DE</td>\n",
       "      <td>3</td>\n",
       "      <td>BiciMAD</td>\n",
       "      <td>24</td>\n",
       "      <td>-3.702674</td>\n",
       "      <td>40.428590</td>\n",
       "      <td>MANUELA MALASAÑA, CALLE, DE, 3</td>\n",
       "    </tr>\n",
       "  </tbody>\n",
       "</table>\n",
       "</div>"
      ],
      "text/plain": [
       "  Número      Gis_X       Gis_Y  Fecha de Alta      Distrito  \\\n",
       "0      1  440443.61  4474290.65          43803    01  CENTRO   \n",
       "1      1  440480.56  4474301.74          43867    01  CENTRO   \n",
       "2      2  440134.83  4474678.23          41813    01  CENTRO   \n",
       "3      3  440012.98  4475760.68          41813  07  CHAMBERÍ   \n",
       "4      4  440396.40  4475565.36          41813    01  CENTRO   \n",
       "\n",
       "              Barrio                                  Calle Nº Finca  \\\n",
       "0          01-06 SOL                      ALCALA, CALLE, DE        2   \n",
       "1          01-06 SOL                      ALCALA, CALLE, DE        6   \n",
       "2  01-05 UNIVERSIDAD                 MIGUEL MOYA, CALLE, DE        1   \n",
       "3     07-02 ARAPILES  CONDE DEL VALLE DE SUCHIL, PLAZA, DEL        2   \n",
       "4  01-05 UNIVERSIDAD            MANUELA MALASAÑA, CALLE, DE        3   \n",
       "\n",
       "  Tipo de Reserva  Número de Plazas  Longitud    Latitud  \\\n",
       "0         BiciMAD                30 -3.701998  40.417111   \n",
       "1         BiciMAD                30 -3.701564  40.417213   \n",
       "2         BiciMAD                24 -3.705674  40.420580   \n",
       "3         BiciMAD                18 -3.707212  40.430322   \n",
       "4         BiciMAD                24 -3.702674  40.428590   \n",
       "\n",
       "                                  Direccion  \n",
       "0                      ALCALA, CALLE, DE, 2  \n",
       "1                      ALCALA, CALLE, DE, 6  \n",
       "2                 MIGUEL MOYA, CALLE, DE, 1  \n",
       "3  CONDE DEL VALLE DE SUCHIL, PLAZA, DEL, 2  \n",
       "4            MANUELA MALASAÑA, CALLE, DE, 3  "
      ]
     },
     "execution_count": 9,
     "metadata": {},
     "output_type": "execute_result"
    }
   ],
   "source": [
    "bicimad=pd.read_excel('../Data/bases_bicimad.xls')\n",
    "bicimad=bicimad.astype({'Número': 'str'})\n",
    "bases=bicimad.Número\n",
    "bases_cambiar=[]\n",
    "for i in bases: \n",
    "    if not(i.isdigit()): \n",
    "        bases_cambiar.append(i)\n",
    "bases_cambiar\n",
    "cambio_bases=[1,1,20,25,25,80,80,90,106,106,111,111,116,116,128,140,161]\n",
    "dict_camnbios=dict(zip(bases_cambiar, cambio_bases))\n",
    "bicimad['Número']=bicimad['Número'].apply(lambda x: dict_camnbios[x] if x in bases_cambiar else x )\n",
    "bicimad.head()"
   ]
  },
  {
   "cell_type": "code",
   "execution_count": 11,
   "metadata": {},
   "outputs": [
    {
     "data": {
      "text/plain": [
       "04-01 RECOLETOS               14\n",
       "05-01 EL VISO                 12\n",
       "01-05 UNIVERSIDAD             12\n",
       "01-02 EMBAJADORES             11\n",
       "01-04 JUSTICIA                11\n",
       "01-01 PALACIO                 10\n",
       "01-06 SOL                     10\n",
       "07-05 RÍOS ROSAS               9\n",
       "03-05 JERÓNIMOS                9\n",
       "04-02 GOYA                     9\n",
       "02-02 ACACIAS                  8\n",
       "04-04 GUINDALERA               8\n",
       "06-02 CUATRO CAMINOS           7\n",
       "01-03 CORTES                   7\n",
       "09-02 ARGÜELLES                7\n",
       "09-03 CIUDAD UNIVERSITARIA     6\n",
       "07-01 GAZTAMBIDE               6\n",
       "04-06 CASTELLANA               5\n",
       "07-04 ALMAGRO                  5\n",
       "02-06 PALOS DE MOGUER          5\n",
       "03-04 IBIZA                    4\n",
       "03-06 NIÑO JESÚS               4\n",
       "02-05 DELICIAS                 4\n",
       "15-01 VENTAS                   4\n",
       "04-05 LISTA                    4\n",
       "07-02 ARAPILES                 4\n",
       "05-04 HISPANOAMÉRICA           4\n",
       "05-05 NUEVA ESPAÑA             4\n",
       "09-01 CASA DE CAMPO            4\n",
       "02-07 ATOCHA                   4\n",
       "03-03 ESTRELLA                 3\n",
       "07-03 TRAFALGAR                3\n",
       "03-01 PACÍFICO                 3\n",
       "06-01 BELLAS VISTAS            3\n",
       "05-06 CASTILLA                 3\n",
       "07-06 VALLEHERMOSO             3\n",
       "15-05 SAN PASCUAL              3\n",
       "04-03 FUENTE DEL BERRO         3\n",
       "13-06 NUMANCIA                 2\n",
       "15-04 CONCEPCIÓN               2\n",
       "13-02 SAN DIEGO                2\n",
       "02-01 IMPERIAL                 2\n",
       "03-02 ADELFAS                  2\n",
       "10-02 PUERTA DEL ÁNGEL         2\n",
       "06-06 BERRUGUETE               2\n",
       "05-02 PROSPERIDAD              2\n",
       "02-03 CHOPERA                  2\n",
       "12-05 MOSCARDÓ                 2\n",
       "14-04 MEDIA LEGUA              2\n",
       "08-05 LA PAZ                   2\n",
       "14-01 PAVONES                  1\n",
       "06-03 CASTILLEJOS              1\n",
       "11-03 SAN ISIDRO               1\n",
       "06-05 VALDEACEDERAS            1\n",
       "02-04 LEGAZPI                  1\n",
       "15-02 PUEBLO NUEVO             1\n",
       "05-03 CIUDAD JARDÍN            1\n",
       "14-03 MARROQUINA               1\n",
       "10-01 CÁRMENES                 1\n",
       "11-01 COMILLA                  1\n",
       "Name: Barrio, dtype: int64"
      ]
     },
     "execution_count": 11,
     "metadata": {},
     "output_type": "execute_result"
    }
   ],
   "source": [
    "bicimad.Barrio.value_counts()"
   ]
  },
  {
   "cell_type": "code",
   "execution_count": 51,
   "metadata": {},
   "outputs": [
    {
     "data": {
      "text/plain": [
       "array(['BiciMAD'], dtype=object)"
      ]
     },
     "execution_count": 51,
     "metadata": {},
     "output_type": "execute_result"
    }
   ],
   "source": [
    "bicimad['Tipo de Reserva'].unique()"
   ]
  },
  {
   "cell_type": "code",
   "execution_count": 55,
   "metadata": {},
   "outputs": [],
   "source": [
    "bicimad=bicimad.astype({'Número': str})\n",
    "cols= ['Número','Distrito','Barrio', 'Calle','Tipo de Reserva']\n",
    "\n",
    "def bases(x): \n",
    "    #(label, a)=x.\n",
    "    \n",
    "    columnas=['Número de Plazas', 'Latitud', 'Longitud']\n",
    "    \n",
    "    plazas=int(x['Número de Plazas'].sum())\n",
    "    latitud=x['Latitud'].mean()\n",
    "    longitud=x['Longitud'].mean()\n",
    "    \n",
    "    datos=[plazas,latitud, longitud]\n",
    "    valores=dict(zip(columnas,datos))\n",
    "    return pd.Series(valores)\n",
    "    \n",
    "\n",
    "bases_def=bicimad.groupby(cols).apply(bases).reset_index()\n"
   ]
  },
  {
   "cell_type": "code",
   "execution_count": 57,
   "metadata": {},
   "outputs": [
    {
     "data": {
      "text/plain": [
       "(258, 8)"
      ]
     },
     "execution_count": 57,
     "metadata": {},
     "output_type": "execute_result"
    }
   ],
   "source": [
    "bases_def[bases_def['Número']=='161']\n",
    "bases_def.shape"
   ]
  },
  {
   "cell_type": "code",
   "execution_count": 59,
   "metadata": {},
   "outputs": [],
   "source": [
    "bases_def.to_csv('../Data/bases_def.csv')"
   ]
  }
 ],
 "metadata": {
  "kernelspec": {
   "display_name": "Python 3",
   "language": "python",
   "name": "python3"
  },
  "language_info": {
   "codemirror_mode": {
    "name": "ipython",
    "version": 3
   },
   "file_extension": ".py",
   "mimetype": "text/x-python",
   "name": "python",
   "nbconvert_exporter": "python",
   "pygments_lexer": "ipython3",
   "version": "3.8.5"
  },
  "vscode": {
   "interpreter": {
    "hash": "9fef7a30f113eaa53eb8b5c309fb488b4423c5d8965bf87e9ef8b3198259acb6"
   }
  }
 },
 "nbformat": 4,
 "nbformat_minor": 2
}
