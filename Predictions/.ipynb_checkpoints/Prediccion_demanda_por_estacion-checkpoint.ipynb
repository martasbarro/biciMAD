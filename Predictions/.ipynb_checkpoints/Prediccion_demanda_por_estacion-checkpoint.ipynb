{
 "cells": [
  {
   "cell_type": "markdown",
   "metadata": {},
   "source": [
    "### Import libraries"
   ]
  },
  {
   "cell_type": "code",
   "execution_count": 64,
   "metadata": {},
   "outputs": [],
   "source": [
    "import pandas as pd\n",
    "import numpy as np"
   ]
  },
  {
   "cell_type": "markdown",
   "metadata": {},
   "source": [
    "### ITINERARIOS_BASES - Read Data"
   ]
  },
  {
   "cell_type": "code",
   "execution_count": 78,
   "metadata": {},
   "outputs": [],
   "source": [
    "itinerarios_bases = pd.read_csv('../Data/Itinerarios/itinerarios_bases.csv',index_col=0, dtype={'zip_code': 'str'})"
   ]
  },
  {
   "cell_type": "code",
   "execution_count": 79,
   "metadata": {},
   "outputs": [
    {
     "data": {
      "text/plain": [
       "idplug_base                   int64\n",
       "user_type                     int64\n",
       "idunplug_base                 int64\n",
       "travel_time                   int64\n",
       "idunplug_station              int64\n",
       "ageRange                      int64\n",
       "idplug_station                int64\n",
       "unplug_hourTime              object\n",
       "zip_code                     object\n",
       "return_date                  object\n",
       "status                       object\n",
       "Origen_destino               object\n",
       "Número_Salida                 int64\n",
       "Distrito_Salida              object\n",
       "Barrio_Salida                object\n",
       "Número de Plazas_Salida     float64\n",
       "Latitud_Salida              float64\n",
       "Longitud_Salida             float64\n",
       "Número_Llegada                int64\n",
       "Distrito_Llegada             object\n",
       "Barrio_Llegada               object\n",
       "Número de Plazas_Llegada    float64\n",
       "Latitud_Llegada             float64\n",
       "Longitud_Llegada            float64\n",
       "dtype: object"
      ]
     },
     "execution_count": 79,
     "metadata": {},
     "output_type": "execute_result"
    }
   ],
   "source": [
    "itinerarios_bases.dtypes"
   ]
  },
  {
   "cell_type": "markdown",
   "metadata": {},
   "source": [
    "### Prepare Data"
   ]
  },
  {
   "cell_type": "markdown",
   "metadata": {},
   "source": [
    "Delete user type = 3 as they are employees of BiciMAD"
   ]
  },
  {
   "cell_type": "code",
   "execution_count": 84,
   "metadata": {},
   "outputs": [],
   "source": [
    "itinerarios1 = itinerarios_bases[itinerarios_bases[\"user_type\"]!= 3]"
   ]
  },
  {
   "cell_type": "markdown",
   "metadata": {},
   "source": [
    "We are not going to consider movements which status is error, change bike, long rentals or repaired. Therefore only consider short rentals."
   ]
  },
  {
   "cell_type": "code",
   "execution_count": 85,
   "metadata": {},
   "outputs": [
    {
     "data": {
      "text/plain": [
       "short_rental    1508779\n",
       "long_rental      172269\n",
       "error                51\n",
       "change_bike          11\n",
       "Name: status, dtype: int64"
      ]
     },
     "execution_count": 85,
     "metadata": {},
     "output_type": "execute_result"
    }
   ],
   "source": [
    "itinerarios1[\"status\"].value_counts()"
   ]
  },
  {
   "cell_type": "code",
   "execution_count": 86,
   "metadata": {},
   "outputs": [],
   "source": [
    "itinerarios1 = itinerarios1[itinerarios1[\"status\"] == \"short_rental\"]"
   ]
  },
  {
   "cell_type": "markdown",
   "metadata": {},
   "source": [
    "Delete all columns as they are not relevant to the forecast model besides: \n",
    "- idunplug_station\n",
    "- unplug_hourTime     "
   ]
  },
  {
   "cell_type": "code",
   "execution_count": 113,
   "metadata": {},
   "outputs": [
    {
     "data": {
      "text/html": [
       "<div>\n",
       "<style scoped>\n",
       "    .dataframe tbody tr th:only-of-type {\n",
       "        vertical-align: middle;\n",
       "    }\n",
       "\n",
       "    .dataframe tbody tr th {\n",
       "        vertical-align: top;\n",
       "    }\n",
       "\n",
       "    .dataframe thead th {\n",
       "        text-align: right;\n",
       "    }\n",
       "</style>\n",
       "<table border=\"1\" class=\"dataframe\">\n",
       "  <thead>\n",
       "    <tr style=\"text-align: right;\">\n",
       "      <th></th>\n",
       "      <th>unplug_hourTime</th>\n",
       "    </tr>\n",
       "  </thead>\n",
       "  <tbody>\n",
       "    <tr>\n",
       "      <th>0</th>\n",
       "      <td>2019-07-01 00:00:00+00:00</td>\n",
       "    </tr>\n",
       "    <tr>\n",
       "      <th>1</th>\n",
       "      <td>2019-07-01 00:00:00+00:00</td>\n",
       "    </tr>\n",
       "    <tr>\n",
       "      <th>2</th>\n",
       "      <td>2019-07-01 00:00:00+00:00</td>\n",
       "    </tr>\n",
       "    <tr>\n",
       "      <th>3</th>\n",
       "      <td>2019-07-01 00:00:00+00:00</td>\n",
       "    </tr>\n",
       "    <tr>\n",
       "      <th>4</th>\n",
       "      <td>2019-07-01 00:00:00+00:00</td>\n",
       "    </tr>\n",
       "  </tbody>\n",
       "</table>\n",
       "</div>"
      ],
      "text/plain": [
       "             unplug_hourTime\n",
       "0  2019-07-01 00:00:00+00:00\n",
       "1  2019-07-01 00:00:00+00:00\n",
       "2  2019-07-01 00:00:00+00:00\n",
       "3  2019-07-01 00:00:00+00:00\n",
       "4  2019-07-01 00:00:00+00:00"
      ]
     },
     "execution_count": 113,
     "metadata": {},
     "output_type": "execute_result"
    }
   ],
   "source": [
    "itinerarios2 = itinerarios1[[\"unplug_hourTime\"]]\n",
    "itinerarios2.head()"
   ]
  },
  {
   "cell_type": "code",
   "execution_count": 114,
   "metadata": {},
   "outputs": [
    {
     "data": {
      "text/plain": [
       "unplug_hourTime    object\n",
       "dtype: object"
      ]
     },
     "execution_count": 114,
     "metadata": {},
     "output_type": "execute_result"
    }
   ],
   "source": [
    "itinerarios2.dtypes"
   ]
  },
  {
   "cell_type": "markdown",
   "metadata": {},
   "source": [
    "Add to dataframe variables related to Date and Time"
   ]
  },
  {
   "cell_type": "code",
   "execution_count": 121,
   "metadata": {},
   "outputs": [
    {
     "data": {
      "text/html": [
       "<div>\n",
       "<style scoped>\n",
       "    .dataframe tbody tr th:only-of-type {\n",
       "        vertical-align: middle;\n",
       "    }\n",
       "\n",
       "    .dataframe tbody tr th {\n",
       "        vertical-align: top;\n",
       "    }\n",
       "\n",
       "    .dataframe thead th {\n",
       "        text-align: right;\n",
       "    }\n",
       "</style>\n",
       "<table border=\"1\" class=\"dataframe\">\n",
       "  <thead>\n",
       "    <tr style=\"text-align: right;\">\n",
       "      <th></th>\n",
       "      <th>unplug_hourTime</th>\n",
       "      <th>Count</th>\n",
       "    </tr>\n",
       "  </thead>\n",
       "  <tbody>\n",
       "    <tr>\n",
       "      <th>0</th>\n",
       "      <td>2019-07-01 00:00:00+00:00</td>\n",
       "      <td>129</td>\n",
       "    </tr>\n",
       "    <tr>\n",
       "      <th>1</th>\n",
       "      <td>2019-07-01 01:00:00+00:00</td>\n",
       "      <td>66</td>\n",
       "    </tr>\n",
       "    <tr>\n",
       "      <th>2</th>\n",
       "      <td>2019-07-01 02:00:00+00:00</td>\n",
       "      <td>39</td>\n",
       "    </tr>\n",
       "    <tr>\n",
       "      <th>3</th>\n",
       "      <td>2019-07-01 03:00:00+00:00</td>\n",
       "      <td>59</td>\n",
       "    </tr>\n",
       "    <tr>\n",
       "      <th>4</th>\n",
       "      <td>2019-07-01 04:00:00+00:00</td>\n",
       "      <td>112</td>\n",
       "    </tr>\n",
       "    <tr>\n",
       "      <th>...</th>\n",
       "      <td>...</td>\n",
       "      <td>...</td>\n",
       "    </tr>\n",
       "    <tr>\n",
       "      <th>3925</th>\n",
       "      <td>2019-12-31 19:00:00+00:00</td>\n",
       "      <td>247</td>\n",
       "    </tr>\n",
       "    <tr>\n",
       "      <th>3926</th>\n",
       "      <td>2019-12-31 20:00:00+00:00</td>\n",
       "      <td>136</td>\n",
       "    </tr>\n",
       "    <tr>\n",
       "      <th>3927</th>\n",
       "      <td>2019-12-31 21:00:00+00:00</td>\n",
       "      <td>51</td>\n",
       "    </tr>\n",
       "    <tr>\n",
       "      <th>3928</th>\n",
       "      <td>2019-12-31 22:00:00+00:00</td>\n",
       "      <td>31</td>\n",
       "    </tr>\n",
       "    <tr>\n",
       "      <th>3929</th>\n",
       "      <td>2019-12-31 23:00:00+00:00</td>\n",
       "      <td>128</td>\n",
       "    </tr>\n",
       "  </tbody>\n",
       "</table>\n",
       "<p>3930 rows × 2 columns</p>\n",
       "</div>"
      ],
      "text/plain": [
       "               unplug_hourTime  Count\n",
       "0    2019-07-01 00:00:00+00:00    129\n",
       "1    2019-07-01 01:00:00+00:00     66\n",
       "2    2019-07-01 02:00:00+00:00     39\n",
       "3    2019-07-01 03:00:00+00:00     59\n",
       "4    2019-07-01 04:00:00+00:00    112\n",
       "...                        ...    ...\n",
       "3925 2019-12-31 19:00:00+00:00    247\n",
       "3926 2019-12-31 20:00:00+00:00    136\n",
       "3927 2019-12-31 21:00:00+00:00     51\n",
       "3928 2019-12-31 22:00:00+00:00     31\n",
       "3929 2019-12-31 23:00:00+00:00    128\n",
       "\n",
       "[3930 rows x 2 columns]"
      ]
     },
     "execution_count": 121,
     "metadata": {},
     "output_type": "execute_result"
    }
   ],
   "source": [
    "itinerarios2.groupby(\"unplug_hourTime\").size().reset_index(name='Count')"
   ]
  },
  {
   "cell_type": "code",
   "execution_count": 115,
   "metadata": {},
   "outputs": [],
   "source": [
    "itinerarios2[\"unplug_hourTime\"] = pd.to_datetime(itinerarios2[\"unplug_hourTime\"])\n",
    "# Day of week Monday=0, Sunday=6.\n",
    "itinerarios2[\"dayofweek\"]  = itinerarios2[\"unplug_hourTime\"].dt.dayofweek\n",
    "itinerarios2[\"hour\"]  = itinerarios2[\"unplug_hourTime\"].dt.hour"
   ]
  },
  {
   "cell_type": "code",
   "execution_count": 116,
   "metadata": {},
   "outputs": [
    {
     "data": {
      "text/plain": [
       "unplug_hourTime    datetime64[ns, UTC]\n",
       "dayofweek                        int64\n",
       "hour                             int64\n",
       "dtype: object"
      ]
     },
     "execution_count": 116,
     "metadata": {},
     "output_type": "execute_result"
    }
   ],
   "source": [
    "itinerarios2.dtypes"
   ]
  },
  {
   "cell_type": "code",
   "execution_count": 59,
   "metadata": {},
   "outputs": [],
   "source": [
    "####### ADICIONAL: INCLUIR DÍAS FESTIVOS PARA HACER VARIABLE NO LABORABLE"
   ]
  },
  {
   "cell_type": "code",
   "execution_count": 117,
   "metadata": {},
   "outputs": [],
   "source": [
    "conditions = [\n",
    "    (itinerarios2['dayofweek'] <= 3),\n",
    "    (itinerarios2['dayofweek'] == 4),\n",
    "    (itinerarios2['dayofweek'] == 5) & (itinerarios2['dayofweek'] == 6)\n",
    "    ]\n",
    "values = ['workingday', 'friday', 'weekend']\n",
    "\n",
    "itinerarios2[\"typeofday\"]  = np.select(conditions, values)"
   ]
  },
  {
   "cell_type": "code",
   "execution_count": 118,
   "metadata": {},
   "outputs": [
    {
     "data": {
      "text/html": [
       "<div>\n",
       "<style scoped>\n",
       "    .dataframe tbody tr th:only-of-type {\n",
       "        vertical-align: middle;\n",
       "    }\n",
       "\n",
       "    .dataframe tbody tr th {\n",
       "        vertical-align: top;\n",
       "    }\n",
       "\n",
       "    .dataframe thead th {\n",
       "        text-align: right;\n",
       "    }\n",
       "</style>\n",
       "<table border=\"1\" class=\"dataframe\">\n",
       "  <thead>\n",
       "    <tr style=\"text-align: right;\">\n",
       "      <th></th>\n",
       "      <th>unplug_hourTime</th>\n",
       "      <th>dayofweek</th>\n",
       "      <th>hour</th>\n",
       "      <th>typeofday</th>\n",
       "    </tr>\n",
       "  </thead>\n",
       "  <tbody>\n",
       "    <tr>\n",
       "      <th>1862973</th>\n",
       "      <td>2019-12-31 23:00:00+00:00</td>\n",
       "      <td>1</td>\n",
       "      <td>23</td>\n",
       "      <td>workingday</td>\n",
       "    </tr>\n",
       "    <tr>\n",
       "      <th>1862975</th>\n",
       "      <td>2019-12-31 23:00:00+00:00</td>\n",
       "      <td>1</td>\n",
       "      <td>23</td>\n",
       "      <td>workingday</td>\n",
       "    </tr>\n",
       "    <tr>\n",
       "      <th>1862976</th>\n",
       "      <td>2019-12-31 23:00:00+00:00</td>\n",
       "      <td>1</td>\n",
       "      <td>23</td>\n",
       "      <td>workingday</td>\n",
       "    </tr>\n",
       "    <tr>\n",
       "      <th>1862978</th>\n",
       "      <td>2019-12-31 23:00:00+00:00</td>\n",
       "      <td>1</td>\n",
       "      <td>23</td>\n",
       "      <td>workingday</td>\n",
       "    </tr>\n",
       "    <tr>\n",
       "      <th>1862980</th>\n",
       "      <td>2019-12-31 23:00:00+00:00</td>\n",
       "      <td>1</td>\n",
       "      <td>23</td>\n",
       "      <td>workingday</td>\n",
       "    </tr>\n",
       "  </tbody>\n",
       "</table>\n",
       "</div>"
      ],
      "text/plain": [
       "                  unplug_hourTime  dayofweek  hour   typeofday\n",
       "1862973 2019-12-31 23:00:00+00:00          1    23  workingday\n",
       "1862975 2019-12-31 23:00:00+00:00          1    23  workingday\n",
       "1862976 2019-12-31 23:00:00+00:00          1    23  workingday\n",
       "1862978 2019-12-31 23:00:00+00:00          1    23  workingday\n",
       "1862980 2019-12-31 23:00:00+00:00          1    23  workingday"
      ]
     },
     "execution_count": 118,
     "metadata": {},
     "output_type": "execute_result"
    }
   ],
   "source": [
    "itinerarios2.tail()"
   ]
  },
  {
   "cell_type": "markdown",
   "metadata": {},
   "source": [
    "### ARIMA MODEL"
   ]
  },
  {
   "cell_type": "code",
   "execution_count": null,
   "metadata": {},
   "outputs": [],
   "source": [
    "f = Forecaster(y=itinerarios2[''],current_dates=df['Month'])"
   ]
  }
 ],
 "metadata": {
  "kernelspec": {
   "display_name": "Python 3",
   "language": "python",
   "name": "python3"
  },
  "language_info": {
   "codemirror_mode": {
    "name": "ipython",
    "version": 3
   },
   "file_extension": ".py",
   "mimetype": "text/x-python",
   "name": "python",
   "nbconvert_exporter": "python",
   "pygments_lexer": "ipython3",
   "version": "3.8.5"
  }
 },
 "nbformat": 4,
 "nbformat_minor": 4
}
