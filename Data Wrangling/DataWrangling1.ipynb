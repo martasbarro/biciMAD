{
 "cells": [
  {
   "cell_type": "markdown",
   "metadata": {},
   "source": [
    "# **DATA WRANGLING**\n",
    "This file attemps to gather, collect, and transform all the raw datasets from the source attached below in order to analyse the data avilable and proceed with it. \n",
    "The following processes will be dealt with: \n",
    "1. Reading the data and transforming variables\n",
    "2. Dealing with missing values\n",
    "3. Data exploration\n",
    "4. Reshaping data\n",
    "5. Filtering data\n",
    "\n",
    "Source: https://datos.madrid.es/sites/v/index.jsp?vgnextoid=374512b9ace9f310VgnVCM100000171f5a0aRCRD&buscar=true&Texto=BiciMAD&Sector=&Formato=&Periodicidad=&orderByCombo=CONTENT_INSTANCE_NAME_DECODE"
   ]
  },
  {
   "cell_type": "markdown",
   "metadata": {},
   "source": [
    "#### **LIBRARIES**"
   ]
  },
  {
   "cell_type": "code",
   "execution_count": 1,
   "metadata": {},
   "outputs": [],
   "source": [
    "import pandas as pd "
   ]
  },
  {
   "cell_type": "markdown",
   "metadata": {},
   "source": [
    "#### **READ DATA**"
   ]
  },
  {
   "cell_type": "markdown",
   "metadata": {},
   "source": [
    "Situacion Estaciones BiciMAD"
   ]
  },
  {
   "cell_type": "code",
   "execution_count": 35,
   "metadata": {},
   "outputs": [
    {
     "data": {
      "text/html": [
       "<div>\n",
       "<style scoped>\n",
       "    .dataframe tbody tr th:only-of-type {\n",
       "        vertical-align: middle;\n",
       "    }\n",
       "\n",
       "    .dataframe tbody tr th {\n",
       "        vertical-align: top;\n",
       "    }\n",
       "\n",
       "    .dataframe thead th {\n",
       "        text-align: right;\n",
       "    }\n",
       "</style>\n",
       "<table border=\"1\" class=\"dataframe\">\n",
       "  <thead>\n",
       "    <tr style=\"text-align: right;\">\n",
       "      <th></th>\n",
       "      <th>_id</th>\n",
       "      <th>stations</th>\n",
       "    </tr>\n",
       "  </thead>\n",
       "  <tbody>\n",
       "    <tr>\n",
       "      <th>0</th>\n",
       "      <td>2019-09-01T00:10:32.593867</td>\n",
       "      <td>[{'activate': 1, 'name': 'Puerta del Sol A', '...</td>\n",
       "    </tr>\n",
       "    <tr>\n",
       "      <th>1</th>\n",
       "      <td>2019-09-01T01:10:34.910710</td>\n",
       "      <td>[{'activate': 1, 'name': 'Puerta del Sol A', '...</td>\n",
       "    </tr>\n",
       "    <tr>\n",
       "      <th>2</th>\n",
       "      <td>2019-09-01T02:10:36.812870</td>\n",
       "      <td>[{'activate': 1, 'name': 'Puerta del Sol A', '...</td>\n",
       "    </tr>\n",
       "    <tr>\n",
       "      <th>3</th>\n",
       "      <td>2019-09-01T04:10:40.609478</td>\n",
       "      <td>[{'activate': 1, 'name': 'Puerta del Sol A', '...</td>\n",
       "    </tr>\n",
       "    <tr>\n",
       "      <th>4</th>\n",
       "      <td>2019-09-01T05:10:41.878683</td>\n",
       "      <td>[{'activate': 1, 'name': 'Puerta del Sol A', '...</td>\n",
       "    </tr>\n",
       "  </tbody>\n",
       "</table>\n",
       "</div>"
      ],
      "text/plain": [
       "                          _id  \\\n",
       "0  2019-09-01T00:10:32.593867   \n",
       "1  2019-09-01T01:10:34.910710   \n",
       "2  2019-09-01T02:10:36.812870   \n",
       "3  2019-09-01T04:10:40.609478   \n",
       "4  2019-09-01T05:10:41.878683   \n",
       "\n",
       "                                            stations  \n",
       "0  [{'activate': 1, 'name': 'Puerta del Sol A', '...  \n",
       "1  [{'activate': 1, 'name': 'Puerta del Sol A', '...  \n",
       "2  [{'activate': 1, 'name': 'Puerta del Sol A', '...  \n",
       "3  [{'activate': 1, 'name': 'Puerta del Sol A', '...  \n",
       "4  [{'activate': 1, 'name': 'Puerta del Sol A', '...  "
      ]
     },
     "execution_count": 35,
     "metadata": {},
     "output_type": "execute_result"
    }
   ],
   "source": [
    "sit_201909 = pd.read_json('../Data/Situacion Estaciones/201909.json')\n",
    "sit_201909.head()"
   ]
  },
  {
   "cell_type": "code",
   "execution_count": 38,
   "metadata": {},
   "outputs": [
    {
     "data": {
      "text/plain": [
       "pandas.core.frame.DataFrame"
      ]
     },
     "execution_count": 38,
     "metadata": {},
     "output_type": "execute_result"
    }
   ],
   "source": [
    "type(sit_201909)"
   ]
  },
  {
   "cell_type": "code",
   "execution_count": 63,
   "metadata": {},
   "outputs": [],
   "source": [
    "sit_201909._id\n",
    "output = pd.DataFrame()\n",
    "k=0\n",
    "for index,row in sit_201909.iterrows(): \n",
    "    fecha =row[0][0:10]\n",
    "    hora = row[0][11:]\n",
    "    \n",
    "    for j in row[1]: \n",
    "        data=dict(j)\n",
    "        data['fecha']=fecha\n",
    "        data['hora']=hora\n",
    "\n",
    "        output = output.append(data, ignore_index=True)\n",
    "output.shape\n",
    "    \n"
   ]
  },
  {
   "cell_type": "code",
   "execution_count": 86,
   "metadata": {},
   "outputs": [],
   "source": [
    "from os import walk\n",
    "path_situacionEst=\"../Data/Situacion Estaciones/\"\n",
    "f_situacionEstaciones = []\n",
    "for (dirpath, dirnames, filenames) in walk(path_situacionEst):\n",
    "    f_situacionEstaciones.extend(filenames)\n",
    "    break\n"
   ]
  },
  {
   "cell_type": "code",
   "execution_count": 88,
   "metadata": {},
   "outputs": [],
   "source": [
    "output = pd.DataFrame()\n",
    "\n",
    "for file in f_situacionEstaciones: \n",
    "    sit = pd.read_json(path_situacionEst+file)\n",
    "    \n",
    "    for index,row in sit.iterrows(): \n",
    "        fecha =row[0][0:10]\n",
    "        hora = row[0][11:]\n",
    "        \n",
    "        for values in row[1]: \n",
    "            data=dict(values)\n",
    "            data['fecha']=fecha\n",
    "            data['hora']=hora\n",
    "\n",
    "            output = output.append(data, ignore_index=True)\n",
    "output.shape\n",
    "output.to_parquet('../Data/Situacion Estaciones/Estaciones.parquet')"
   ]
  },
  {
   "cell_type": "code",
   "execution_count": 60,
   "metadata": {},
   "outputs": [
    {
     "data": {
      "text/plain": [
       "['201907.json',\n",
       " '201908.json',\n",
       " '201909.parquet',\n",
       " '201910.parquet',\n",
       " '201911.parquet',\n",
       " '201912.json']"
      ]
     },
     "execution_count": 60,
     "metadata": {},
     "output_type": "execute_result"
    }
   ],
   "source": [
    "from os import walk\n",
    "path_itinerarios=\"../Data/Itinerarios/\"\n",
    "f_itinerarios = []\n",
    "for (dirpath, dirnames, filenames) in walk(path_itinerarios):\n",
    "    f_itinerarios.extend(filenames)\n",
    "    break\n"
   ]
  },
  {
   "cell_type": "markdown",
   "metadata": {},
   "source": [
    "Itineraios"
   ]
  },
  {
   "cell_type": "code",
   "execution_count": 68,
   "metadata": {},
   "outputs": [],
   "source": [
    "\n",
    "itinerarios = pd.DataFrame()\n",
    "for file in f_itinerarios:\n",
    "    if 'parquet'in file: \n",
    "        it = pd.read_parquet(path_itinerarios+file)\n",
    "\n",
    "    else: \n",
    "        it = pd.read_json(path_itinerarios+file)\n",
    "        \n",
    "    itinerarios = itinerarios.append(it, ignore_index=True)\n",
    "\n",
    "itinerarios.to_parquet('../Data/Itinerarios/ItinerariosMerged.parquet')\n",
    "        "
   ]
  },
  {
   "cell_type": "code",
   "execution_count": 69,
   "metadata": {},
   "outputs": [
    {
     "data": {
      "text/plain": [
       "_id                 0\n",
       "user_day_code       0\n",
       "idplug_base         0\n",
       "user_type           0\n",
       "idunplug_base       0\n",
       "travel_time         0\n",
       "idunplug_station    0\n",
       "ageRange            0\n",
       "idplug_station      0\n",
       "unplug_hourTime     0\n",
       "zip_code            0\n",
       "dtype: int64"
      ]
     },
     "execution_count": 69,
     "metadata": {},
     "output_type": "execute_result"
    }
   ],
   "source": [
    "itinerarios.isna().sum()"
   ]
  },
  {
   "cell_type": "markdown",
   "metadata": {},
   "source": [
    "Bases BiciMAD"
   ]
  },
  {
   "cell_type": "code",
   "execution_count": 76,
   "metadata": {},
   "outputs": [
    {
     "data": {
      "text/plain": [
       "(1862981, 11)"
      ]
     },
     "execution_count": 76,
     "metadata": {},
     "output_type": "execute_result"
    }
   ],
   "source": [
    "itinerarios.shape"
   ]
  },
  {
   "cell_type": "code",
   "execution_count": 79,
   "metadata": {},
   "outputs": [
    {
     "data": {
      "text/plain": [
       "30"
      ]
     },
     "execution_count": 79,
     "metadata": {},
     "output_type": "execute_result"
    }
   ],
   "source": [
    "len(itinerarios.idplug_base.unique())"
   ]
  },
  {
   "cell_type": "code",
   "execution_count": 72,
   "metadata": {},
   "outputs": [
    {
     "data": {
      "text/html": [
       "<div>\n",
       "<style scoped>\n",
       "    .dataframe tbody tr th:only-of-type {\n",
       "        vertical-align: middle;\n",
       "    }\n",
       "\n",
       "    .dataframe tbody tr th {\n",
       "        vertical-align: top;\n",
       "    }\n",
       "\n",
       "    .dataframe thead th {\n",
       "        text-align: right;\n",
       "    }\n",
       "</style>\n",
       "<table border=\"1\" class=\"dataframe\">\n",
       "  <thead>\n",
       "    <tr style=\"text-align: right;\">\n",
       "      <th></th>\n",
       "      <th>Número</th>\n",
       "      <th>Gis_X</th>\n",
       "      <th>Gis_Y</th>\n",
       "      <th>Fecha de Alta</th>\n",
       "      <th>Distrito</th>\n",
       "      <th>Barrio</th>\n",
       "      <th>Calle</th>\n",
       "      <th>Nº Finca</th>\n",
       "      <th>Tipo de Reserva</th>\n",
       "      <th>Número de Plazas</th>\n",
       "      <th>Longitud</th>\n",
       "      <th>Latitud</th>\n",
       "      <th>Direccion</th>\n",
       "    </tr>\n",
       "  </thead>\n",
       "  <tbody>\n",
       "    <tr>\n",
       "      <th>0</th>\n",
       "      <td>001 a</td>\n",
       "      <td>440443.61</td>\n",
       "      <td>4474290.65</td>\n",
       "      <td>43803</td>\n",
       "      <td>01  CENTRO</td>\n",
       "      <td>01-06 SOL</td>\n",
       "      <td>ALCALA, CALLE, DE</td>\n",
       "      <td>2</td>\n",
       "      <td>BiciMAD</td>\n",
       "      <td>30</td>\n",
       "      <td>-3.701998</td>\n",
       "      <td>40.417111</td>\n",
       "      <td>ALCALA, CALLE, DE, 2</td>\n",
       "    </tr>\n",
       "    <tr>\n",
       "      <th>1</th>\n",
       "      <td>001 b</td>\n",
       "      <td>440480.56</td>\n",
       "      <td>4474301.74</td>\n",
       "      <td>43867</td>\n",
       "      <td>01  CENTRO</td>\n",
       "      <td>01-06 SOL</td>\n",
       "      <td>ALCALA, CALLE, DE</td>\n",
       "      <td>6</td>\n",
       "      <td>BiciMAD</td>\n",
       "      <td>30</td>\n",
       "      <td>-3.701564</td>\n",
       "      <td>40.417213</td>\n",
       "      <td>ALCALA, CALLE, DE, 6</td>\n",
       "    </tr>\n",
       "    <tr>\n",
       "      <th>2</th>\n",
       "      <td>2</td>\n",
       "      <td>440134.83</td>\n",
       "      <td>4474678.23</td>\n",
       "      <td>41813</td>\n",
       "      <td>01  CENTRO</td>\n",
       "      <td>01-05 UNIVERSIDAD</td>\n",
       "      <td>MIGUEL MOYA, CALLE, DE</td>\n",
       "      <td>1</td>\n",
       "      <td>BiciMAD</td>\n",
       "      <td>24</td>\n",
       "      <td>-3.705674</td>\n",
       "      <td>40.420580</td>\n",
       "      <td>MIGUEL MOYA, CALLE, DE, 1</td>\n",
       "    </tr>\n",
       "    <tr>\n",
       "      <th>3</th>\n",
       "      <td>3</td>\n",
       "      <td>440012.98</td>\n",
       "      <td>4475760.68</td>\n",
       "      <td>41813</td>\n",
       "      <td>07  CHAMBERÍ</td>\n",
       "      <td>07-02 ARAPILES</td>\n",
       "      <td>CONDE DEL VALLE DE SUCHIL, PLAZA, DEL</td>\n",
       "      <td>2</td>\n",
       "      <td>BiciMAD</td>\n",
       "      <td>18</td>\n",
       "      <td>-3.707212</td>\n",
       "      <td>40.430322</td>\n",
       "      <td>CONDE DEL VALLE DE SUCHIL, PLAZA, DEL, 2</td>\n",
       "    </tr>\n",
       "    <tr>\n",
       "      <th>4</th>\n",
       "      <td>4</td>\n",
       "      <td>440396.40</td>\n",
       "      <td>4475565.36</td>\n",
       "      <td>41813</td>\n",
       "      <td>01  CENTRO</td>\n",
       "      <td>01-05 UNIVERSIDAD</td>\n",
       "      <td>MANUELA MALASAÑA, CALLE, DE</td>\n",
       "      <td>3</td>\n",
       "      <td>BiciMAD</td>\n",
       "      <td>24</td>\n",
       "      <td>-3.702674</td>\n",
       "      <td>40.428590</td>\n",
       "      <td>MANUELA MALASAÑA, CALLE, DE, 3</td>\n",
       "    </tr>\n",
       "  </tbody>\n",
       "</table>\n",
       "</div>"
      ],
      "text/plain": [
       "  Número      Gis_X       Gis_Y  Fecha de Alta      Distrito  \\\n",
       "0  001 a  440443.61  4474290.65          43803    01  CENTRO   \n",
       "1  001 b  440480.56  4474301.74          43867    01  CENTRO   \n",
       "2      2  440134.83  4474678.23          41813    01  CENTRO   \n",
       "3      3  440012.98  4475760.68          41813  07  CHAMBERÍ   \n",
       "4      4  440396.40  4475565.36          41813    01  CENTRO   \n",
       "\n",
       "              Barrio                                  Calle Nº Finca  \\\n",
       "0          01-06 SOL                      ALCALA, CALLE, DE        2   \n",
       "1          01-06 SOL                      ALCALA, CALLE, DE        6   \n",
       "2  01-05 UNIVERSIDAD                 MIGUEL MOYA, CALLE, DE        1   \n",
       "3     07-02 ARAPILES  CONDE DEL VALLE DE SUCHIL, PLAZA, DEL        2   \n",
       "4  01-05 UNIVERSIDAD            MANUELA MALASAÑA, CALLE, DE        3   \n",
       "\n",
       "  Tipo de Reserva  Número de Plazas  Longitud    Latitud  \\\n",
       "0         BiciMAD                30 -3.701998  40.417111   \n",
       "1         BiciMAD                30 -3.701564  40.417213   \n",
       "2         BiciMAD                24 -3.705674  40.420580   \n",
       "3         BiciMAD                18 -3.707212  40.430322   \n",
       "4         BiciMAD                24 -3.702674  40.428590   \n",
       "\n",
       "                                  Direccion  \n",
       "0                      ALCALA, CALLE, DE, 2  \n",
       "1                      ALCALA, CALLE, DE, 6  \n",
       "2                 MIGUEL MOYA, CALLE, DE, 1  \n",
       "3  CONDE DEL VALLE DE SUCHIL, PLAZA, DEL, 2  \n",
       "4            MANUELA MALASAÑA, CALLE, DE, 3  "
      ]
     },
     "execution_count": 72,
     "metadata": {},
     "output_type": "execute_result"
    }
   ],
   "source": [
    "bases = pd.read_excel('../Data/bases_bicimad.xls')\n",
    "bases.head()"
   ]
  },
  {
   "cell_type": "code",
   "execution_count": 73,
   "metadata": {},
   "outputs": [
    {
     "data": {
      "text/plain": [
       "Número              0\n",
       "Gis_X               0\n",
       "Gis_Y               0\n",
       "Fecha de Alta       0\n",
       "Distrito            0\n",
       "Barrio              0\n",
       "Calle               0\n",
       "Nº Finca            0\n",
       "Tipo de Reserva     0\n",
       "Número de Plazas    0\n",
       "Longitud            0\n",
       "Latitud             0\n",
       "Direccion           0\n",
       "dtype: int64"
      ]
     },
     "execution_count": 73,
     "metadata": {},
     "output_type": "execute_result"
    }
   ],
   "source": [
    "bases.isna().sum()"
   ]
  },
  {
   "cell_type": "code",
   "execution_count": 82,
   "metadata": {},
   "outputs": [
    {
     "data": {
      "text/plain": [
       "269"
      ]
     },
     "execution_count": 82,
     "metadata": {},
     "output_type": "execute_result"
    }
   ],
   "source": [
    "len(bases.Número.unique())"
   ]
  }
 ],
 "metadata": {
  "kernelspec": {
   "display_name": "Python 3.8.8 ('base')",
   "language": "python",
   "name": "python3"
  },
  "language_info": {
   "codemirror_mode": {
    "name": "ipython",
    "version": 3
   },
   "file_extension": ".py",
   "mimetype": "text/x-python",
   "name": "python",
   "nbconvert_exporter": "python",
   "pygments_lexer": "ipython3",
   "version": "3.8.8"
  },
  "orig_nbformat": 4,
  "vscode": {
   "interpreter": {
    "hash": "9fef7a30f113eaa53eb8b5c309fb488b4423c5d8965bf87e9ef8b3198259acb6"
   }
  }
 },
 "nbformat": 4,
 "nbformat_minor": 2
}
