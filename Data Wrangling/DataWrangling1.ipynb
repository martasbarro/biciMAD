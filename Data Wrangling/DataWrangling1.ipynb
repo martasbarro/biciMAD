{
 "cells": [
  {
   "cell_type": "markdown",
   "metadata": {},
   "source": [
    "# **DATA WRANGLING**\n",
    "This file attemps to gather, collect, and transform all the raw datasets from the source attached below in order to analyse the data avilable and proceed with it. \n",
    "The following processes will be dealt with: \n",
    "1. Reading the data and transforming variables\n",
    "2. Dealing with missing values\n",
    "3. Data exploration\n",
    "4. Reshaping data\n",
    "5. Filtering data\n",
    "\n",
    "Source: https://datos.madrid.es/sites/v/index.jsp?vgnextoid=374512b9ace9f310VgnVCM100000171f5a0aRCRD&buscar=true&Texto=BiciMAD&Sector=&Formato=&Periodicidad=&orderByCombo=CONTENT_INSTANCE_NAME_DECODE"
   ]
  },
  {
   "cell_type": "markdown",
   "metadata": {},
   "source": [
    "#### **LIBRARIES**"
   ]
  },
  {
   "cell_type": "code",
   "execution_count": 2,
   "metadata": {},
   "outputs": [],
   "source": [
    "import pandas as pd "
   ]
  },
  {
   "cell_type": "markdown",
   "metadata": {},
   "source": [
    "#### **READ DATA**"
   ]
  },
  {
   "cell_type": "markdown",
   "metadata": {},
   "source": [
    "Situacion Estaciones BiciMAD"
   ]
  },
  {
   "cell_type": "code",
   "execution_count": 3,
   "metadata": {},
   "outputs": [
    {
     "data": {
      "text/html": [
       "<div>\n",
       "<style scoped>\n",
       "    .dataframe tbody tr th:only-of-type {\n",
       "        vertical-align: middle;\n",
       "    }\n",
       "\n",
       "    .dataframe tbody tr th {\n",
       "        vertical-align: top;\n",
       "    }\n",
       "\n",
       "    .dataframe thead th {\n",
       "        text-align: right;\n",
       "    }\n",
       "</style>\n",
       "<table border=\"1\" class=\"dataframe\">\n",
       "  <thead>\n",
       "    <tr style=\"text-align: right;\">\n",
       "      <th></th>\n",
       "      <th>_id</th>\n",
       "      <th>stations</th>\n",
       "    </tr>\n",
       "  </thead>\n",
       "  <tbody>\n",
       "    <tr>\n",
       "      <th>0</th>\n",
       "      <td>2019-07-01T00:29:26.018083</td>\n",
       "      <td>[{'activate': 1, 'name': 'Puerta del Sol A', '...</td>\n",
       "    </tr>\n",
       "    <tr>\n",
       "      <th>1</th>\n",
       "      <td>2019-07-01T03:29:30.886274</td>\n",
       "      <td>[{'activate': 1, 'name': 'Madrid Sol 1A', 'res...</td>\n",
       "    </tr>\n",
       "    <tr>\n",
       "      <th>2</th>\n",
       "      <td>2019-07-01T04:29:32.858592</td>\n",
       "      <td>[{'activate': 1, 'name': 'Puerta del Sol A', '...</td>\n",
       "    </tr>\n",
       "    <tr>\n",
       "      <th>3</th>\n",
       "      <td>2019-07-01T05:29:34.913030</td>\n",
       "      <td>[{'activate': 1, 'name': 'Puerta del Sol A', '...</td>\n",
       "    </tr>\n",
       "    <tr>\n",
       "      <th>4</th>\n",
       "      <td>2019-07-01T06:29:35.163470</td>\n",
       "      <td>[{'activate': 1, 'name': 'Puerta del Sol A', '...</td>\n",
       "    </tr>\n",
       "  </tbody>\n",
       "</table>\n",
       "</div>"
      ],
      "text/plain": [
       "                          _id  \\\n",
       "0  2019-07-01T00:29:26.018083   \n",
       "1  2019-07-01T03:29:30.886274   \n",
       "2  2019-07-01T04:29:32.858592   \n",
       "3  2019-07-01T05:29:34.913030   \n",
       "4  2019-07-01T06:29:35.163470   \n",
       "\n",
       "                                            stations  \n",
       "0  [{'activate': 1, 'name': 'Puerta del Sol A', '...  \n",
       "1  [{'activate': 1, 'name': 'Madrid Sol 1A', 'res...  \n",
       "2  [{'activate': 1, 'name': 'Puerta del Sol A', '...  \n",
       "3  [{'activate': 1, 'name': 'Puerta del Sol A', '...  \n",
       "4  [{'activate': 1, 'name': 'Puerta del Sol A', '...  "
      ]
     },
     "execution_count": 3,
     "metadata": {},
     "output_type": "execute_result"
    }
   ],
   "source": [
    "sit_201909 = pd.read_json('../Data/Situacion Estaciones/201907.json')\n",
    "sit_201909.head()"
   ]
  },
  {
   "cell_type": "code",
   "execution_count": 14,
   "metadata": {},
   "outputs": [],
   "source": [
    "import json\n",
    "# load data using Python JSON module\n",
    "with open('../Data/Situacion Estaciones/201907.json','r') as f:\n",
    "    data = json.loads(f.read())\n",
    "df_nested_list = pd.json_normalize(data, record_path =['stations'], meta=['_id'])"
   ]
  },
  {
   "cell_type": "code",
   "execution_count": 16,
   "metadata": {},
   "outputs": [],
   "source": [
    "from os import walk\n",
    "path_situacionEst=\"../Data/Situacion Estaciones/\"\n",
    "f_situacionEstaciones = []\n",
    "for (dirpath, dirnames, filenames) in walk(path_situacionEst):\n",
    "    f_situacionEstaciones.extend(filenames)\n",
    "    break\n"
   ]
  },
  {
   "cell_type": "code",
   "execution_count": 24,
   "metadata": {},
   "outputs": [
    {
     "name": "stdout",
     "output_type": "stream",
     "text": [
      "../Data/Situacion Estaciones/201907.json\n",
      "(135058, 16)\n",
      "../Data/Situacion Estaciones/201908.json\n",
      "(137274, 16)\n",
      "(272332, 16)\n",
      "../Data/Situacion Estaciones/201909.json\n",
      "(145286, 16)\n",
      "(417618, 16)\n",
      "../Data/Situacion Estaciones/201910.json\n",
      "(156670, 16)\n",
      "(574288, 16)\n",
      "../Data/Situacion Estaciones/201911.json\n",
      "(151869, 16)\n",
      "(726157, 16)\n",
      "../Data/Situacion Estaciones/201912.json\n",
      "(157620, 16)\n",
      "(883777, 16)\n"
     ]
    }
   ],
   "source": [
    "k=0\n",
    "output = pd.DataFrame()\n",
    "for file in f_situacionEstaciones:\n",
    "    print(path_situacionEst+file) \n",
    "    with open(path_situacionEst+file,'r') as f:\n",
    "        data = json.loads(f.read())\n",
    "    df_nested_list = pd.json_normalize(data, record_path =['stations'], meta=['_id'])\n",
    "    \n",
    "    df_nested_list['fecha'] =df_nested_list['_id'].apply(lambda x: x[0:10])\n",
    "    df_nested_list['hora'] =df_nested_list['_id'].apply(lambda x: x[11:])\n",
    "    print(df_nested_list.shape)\n",
    "    if k==0:\n",
    "        df=df_nested_list\n",
    "    else: \n",
    "        df=pd.concat([df,df_nested_list], axis=0)\n",
    "        print(df.shape)\n",
    "    k+=1\n",
    "    \n",
    "          \n",
    "df.to_parquet('../Data/Situacion Estaciones/Estaciones.parquet')"
   ]
  },
  {
   "cell_type": "code",
   "execution_count": 25,
   "metadata": {},
   "outputs": [
    {
     "data": {
      "text/plain": [
       "(883777, 16)"
      ]
     },
     "execution_count": 25,
     "metadata": {},
     "output_type": "execute_result"
    }
   ],
   "source": [
    "estaciones=pd.read_parquet('../Data/Situacion Estaciones/Estaciones.parquet')\n",
    "estaciones.shape"
   ]
  },
  {
   "cell_type": "code",
   "execution_count": 26,
   "metadata": {},
   "outputs": [
    {
     "data": {
      "text/html": [
       "<div>\n",
       "<style scoped>\n",
       "    .dataframe tbody tr th:only-of-type {\n",
       "        vertical-align: middle;\n",
       "    }\n",
       "\n",
       "    .dataframe tbody tr th {\n",
       "        vertical-align: top;\n",
       "    }\n",
       "\n",
       "    .dataframe thead th {\n",
       "        text-align: right;\n",
       "    }\n",
       "</style>\n",
       "<table border=\"1\" class=\"dataframe\">\n",
       "  <thead>\n",
       "    <tr style=\"text-align: right;\">\n",
       "      <th></th>\n",
       "      <th>activate</th>\n",
       "      <th>name</th>\n",
       "      <th>reservations_count</th>\n",
       "      <th>light</th>\n",
       "      <th>total_bases</th>\n",
       "      <th>free_bases</th>\n",
       "      <th>number</th>\n",
       "      <th>longitude</th>\n",
       "      <th>no_available</th>\n",
       "      <th>address</th>\n",
       "      <th>latitude</th>\n",
       "      <th>dock_bikes</th>\n",
       "      <th>id</th>\n",
       "      <th>_id</th>\n",
       "      <th>fecha</th>\n",
       "      <th>hora</th>\n",
       "    </tr>\n",
       "  </thead>\n",
       "  <tbody>\n",
       "    <tr>\n",
       "      <th>0</th>\n",
       "      <td>1</td>\n",
       "      <td>Puerta del Sol A</td>\n",
       "      <td>0</td>\n",
       "      <td>2</td>\n",
       "      <td>24</td>\n",
       "      <td>15</td>\n",
       "      <td>1a</td>\n",
       "      <td>-3.7024255</td>\n",
       "      <td>0</td>\n",
       "      <td>Puerta del Sol nº 1</td>\n",
       "      <td>40.4168961</td>\n",
       "      <td>8</td>\n",
       "      <td>1</td>\n",
       "      <td>2019-07-01T00:29:26.018083</td>\n",
       "      <td>2019-07-01</td>\n",
       "      <td>00:29:26.018083</td>\n",
       "    </tr>\n",
       "    <tr>\n",
       "      <th>1</th>\n",
       "      <td>1</td>\n",
       "      <td>Puerta del Sol B</td>\n",
       "      <td>0</td>\n",
       "      <td>2</td>\n",
       "      <td>24</td>\n",
       "      <td>14</td>\n",
       "      <td>1b</td>\n",
       "      <td>-3.7024207</td>\n",
       "      <td>0</td>\n",
       "      <td>Puerta del Sol nº 1</td>\n",
       "      <td>40.4170009</td>\n",
       "      <td>9</td>\n",
       "      <td>2</td>\n",
       "      <td>2019-07-01T00:29:26.018083</td>\n",
       "      <td>2019-07-01</td>\n",
       "      <td>00:29:26.018083</td>\n",
       "    </tr>\n",
       "    <tr>\n",
       "      <th>2</th>\n",
       "      <td>1</td>\n",
       "      <td>Miguel Moya</td>\n",
       "      <td>0</td>\n",
       "      <td>2</td>\n",
       "      <td>24</td>\n",
       "      <td>12</td>\n",
       "      <td>2</td>\n",
       "      <td>-3.7058415</td>\n",
       "      <td>0</td>\n",
       "      <td>Calle Miguel Moya nº 1</td>\n",
       "      <td>40.4205886</td>\n",
       "      <td>10</td>\n",
       "      <td>3</td>\n",
       "      <td>2019-07-01T00:29:26.018083</td>\n",
       "      <td>2019-07-01</td>\n",
       "      <td>00:29:26.018083</td>\n",
       "    </tr>\n",
       "    <tr>\n",
       "      <th>3</th>\n",
       "      <td>1</td>\n",
       "      <td>Plaza Conde Suchil</td>\n",
       "      <td>0</td>\n",
       "      <td>1</td>\n",
       "      <td>18</td>\n",
       "      <td>4</td>\n",
       "      <td>3</td>\n",
       "      <td>-3.7069171</td>\n",
       "      <td>0</td>\n",
       "      <td>Plaza del Conde Suchil nº 2-4</td>\n",
       "      <td>40.4302937</td>\n",
       "      <td>11</td>\n",
       "      <td>4</td>\n",
       "      <td>2019-07-01T00:29:26.018083</td>\n",
       "      <td>2019-07-01</td>\n",
       "      <td>00:29:26.018083</td>\n",
       "    </tr>\n",
       "    <tr>\n",
       "      <th>4</th>\n",
       "      <td>1</td>\n",
       "      <td>Malasaña</td>\n",
       "      <td>0</td>\n",
       "      <td>0</td>\n",
       "      <td>24</td>\n",
       "      <td>17</td>\n",
       "      <td>4</td>\n",
       "      <td>-3.7025875</td>\n",
       "      <td>0</td>\n",
       "      <td>Calle Manuela Malasaña nº 5</td>\n",
       "      <td>40.4285524</td>\n",
       "      <td>3</td>\n",
       "      <td>5</td>\n",
       "      <td>2019-07-01T00:29:26.018083</td>\n",
       "      <td>2019-07-01</td>\n",
       "      <td>00:29:26.018083</td>\n",
       "    </tr>\n",
       "  </tbody>\n",
       "</table>\n",
       "</div>"
      ],
      "text/plain": [
       "   activate                name  reservations_count  light  total_bases  \\\n",
       "0         1    Puerta del Sol A                   0      2           24   \n",
       "1         1    Puerta del Sol B                   0      2           24   \n",
       "2         1         Miguel Moya                   0      2           24   \n",
       "3         1  Plaza Conde Suchil                   0      1           18   \n",
       "4         1            Malasaña                   0      0           24   \n",
       "\n",
       "   free_bases number   longitude  no_available                        address  \\\n",
       "0          15     1a  -3.7024255             0            Puerta del Sol nº 1   \n",
       "1          14     1b  -3.7024207             0            Puerta del Sol nº 1   \n",
       "2          12      2  -3.7058415             0         Calle Miguel Moya nº 1   \n",
       "3           4      3  -3.7069171             0  Plaza del Conde Suchil nº 2-4   \n",
       "4          17      4  -3.7025875             0    Calle Manuela Malasaña nº 5   \n",
       "\n",
       "     latitude  dock_bikes  id                         _id       fecha  \\\n",
       "0  40.4168961           8   1  2019-07-01T00:29:26.018083  2019-07-01   \n",
       "1  40.4170009           9   2  2019-07-01T00:29:26.018083  2019-07-01   \n",
       "2  40.4205886          10   3  2019-07-01T00:29:26.018083  2019-07-01   \n",
       "3  40.4302937          11   4  2019-07-01T00:29:26.018083  2019-07-01   \n",
       "4  40.4285524           3   5  2019-07-01T00:29:26.018083  2019-07-01   \n",
       "\n",
       "              hora  \n",
       "0  00:29:26.018083  \n",
       "1  00:29:26.018083  \n",
       "2  00:29:26.018083  \n",
       "3  00:29:26.018083  \n",
       "4  00:29:26.018083  "
      ]
     },
     "execution_count": 26,
     "metadata": {},
     "output_type": "execute_result"
    }
   ],
   "source": [
    "estaciones.head()"
   ]
  },
  {
   "cell_type": "code",
   "execution_count": 27,
   "metadata": {},
   "outputs": [],
   "source": [
    "from os import walk\n",
    "path_itinerarios=\"../Data/Itinerarios/\"\n",
    "f_itinerarios = []\n",
    "for (dirpath, dirnames, filenames) in walk(path_itinerarios):\n",
    "    f_itinerarios.extend(filenames)\n",
    "    break\n"
   ]
  },
  {
   "cell_type": "markdown",
   "metadata": {},
   "source": [
    "Itineraios"
   ]
  },
  {
   "cell_type": "code",
   "execution_count": 28,
   "metadata": {},
   "outputs": [],
   "source": [
    "\n",
    "itinerarios = pd.DataFrame()\n",
    "for file in f_itinerarios:\n",
    "    if 'parquet'in file: \n",
    "        it = pd.read_parquet(path_itinerarios+file)\n",
    "\n",
    "    else: \n",
    "        it = pd.read_json(path_itinerarios+file)\n",
    "        \n",
    "    itinerarios = itinerarios.append(it, ignore_index=True)\n",
    "\n",
    "itinerarios.to_parquet('../Data/Itinerarios/ItinerariosMerged.parquet')\n",
    "        "
   ]
  },
  {
   "cell_type": "code",
   "execution_count": 37,
   "metadata": {},
   "outputs": [
    {
     "data": {
      "text/plain": [
       "_id                 object\n",
       "user_day_code       object\n",
       "idplug_base          int64\n",
       "user_type            int64\n",
       "idunplug_base        int64\n",
       "travel_time          int64\n",
       "idunplug_station     int64\n",
       "ageRange             int64\n",
       "idplug_station       int64\n",
       "unplug_hourTime     object\n",
       "zip_code            object\n",
       "dtype: object"
      ]
     },
     "execution_count": 37,
     "metadata": {},
     "output_type": "execute_result"
    }
   ],
   "source": [
    "itinerarios.dtypes "
   ]
  },
  {
   "cell_type": "code",
   "execution_count": 36,
   "metadata": {},
   "outputs": [
    {
     "data": {
      "text/plain": [
       "Index                    128\n",
       "_id                 14903848\n",
       "user_day_code       14903848\n",
       "idplug_base         14903848\n",
       "user_type           14903848\n",
       "idunplug_base       14903848\n",
       "travel_time         14903848\n",
       "idunplug_station    14903848\n",
       "ageRange            14903848\n",
       "idplug_station      14903848\n",
       "unplug_hourTime     14903848\n",
       "zip_code            14903848\n",
       "dtype: int64"
      ]
     },
     "execution_count": 36,
     "metadata": {},
     "output_type": "execute_result"
    }
   ],
   "source": [
    "itinerarios.memory_usage()"
   ]
  },
  {
   "cell_type": "markdown",
   "metadata": {},
   "source": [
    "Bases BiciMAD"
   ]
  },
  {
   "cell_type": "code",
   "execution_count": 31,
   "metadata": {},
   "outputs": [
    {
     "data": {
      "text/html": [
       "<div>\n",
       "<style scoped>\n",
       "    .dataframe tbody tr th:only-of-type {\n",
       "        vertical-align: middle;\n",
       "    }\n",
       "\n",
       "    .dataframe tbody tr th {\n",
       "        vertical-align: top;\n",
       "    }\n",
       "\n",
       "    .dataframe thead th {\n",
       "        text-align: right;\n",
       "    }\n",
       "</style>\n",
       "<table border=\"1\" class=\"dataframe\">\n",
       "  <thead>\n",
       "    <tr style=\"text-align: right;\">\n",
       "      <th></th>\n",
       "      <th>_id</th>\n",
       "      <th>user_day_code</th>\n",
       "      <th>idplug_base</th>\n",
       "      <th>user_type</th>\n",
       "      <th>idunplug_base</th>\n",
       "      <th>travel_time</th>\n",
       "      <th>idunplug_station</th>\n",
       "      <th>ageRange</th>\n",
       "      <th>idplug_station</th>\n",
       "      <th>unplug_hourTime</th>\n",
       "      <th>zip_code</th>\n",
       "    </tr>\n",
       "  </thead>\n",
       "  <tbody>\n",
       "    <tr>\n",
       "      <th>0</th>\n",
       "      <td>{'$oid': '5ee862cecc8c1e839b419387'}</td>\n",
       "      <td>509e6a72b7673f533912bf647d20df19305b848fbc1b89...</td>\n",
       "      <td>5</td>\n",
       "      <td>1</td>\n",
       "      <td>20</td>\n",
       "      <td>154</td>\n",
       "      <td>44</td>\n",
       "      <td>5</td>\n",
       "      <td>40</td>\n",
       "      <td>2019-07-01T00:00:00Z</td>\n",
       "      <td>28007</td>\n",
       "    </tr>\n",
       "    <tr>\n",
       "      <th>1</th>\n",
       "      <td>{'$oid': '5ee862cecc8c1e839b41938c'}</td>\n",
       "      <td>90069a1194c3eb9e6faecaaf4eefb7209e890c0df5aeac...</td>\n",
       "      <td>8</td>\n",
       "      <td>1</td>\n",
       "      <td>17</td>\n",
       "      <td>184</td>\n",
       "      <td>57</td>\n",
       "      <td>4</td>\n",
       "      <td>129</td>\n",
       "      <td>2019-07-01T00:00:00Z</td>\n",
       "      <td>28045</td>\n",
       "    </tr>\n",
       "    <tr>\n",
       "      <th>2</th>\n",
       "      <td>{'$oid': '5ee862cecc8c1e839b419394'}</td>\n",
       "      <td>b0ecaab6a35b7ea44d118f851f7fad5c2237e7dd51b337...</td>\n",
       "      <td>15</td>\n",
       "      <td>1</td>\n",
       "      <td>16</td>\n",
       "      <td>282</td>\n",
       "      <td>53</td>\n",
       "      <td>4</td>\n",
       "      <td>43</td>\n",
       "      <td>2019-07-01T00:00:00Z</td>\n",
       "      <td></td>\n",
       "    </tr>\n",
       "    <tr>\n",
       "      <th>3</th>\n",
       "      <td>{'$oid': '5ee862cecc8c1e839b41939e'}</td>\n",
       "      <td>5e1b8a8c4603ee8ac4f06aba12ff51e2c5dd105b6e5193...</td>\n",
       "      <td>18</td>\n",
       "      <td>1</td>\n",
       "      <td>18</td>\n",
       "      <td>388</td>\n",
       "      <td>56</td>\n",
       "      <td>0</td>\n",
       "      <td>13</td>\n",
       "      <td>2019-07-01T00:00:00Z</td>\n",
       "      <td></td>\n",
       "    </tr>\n",
       "    <tr>\n",
       "      <th>4</th>\n",
       "      <td>{'$oid': '5ee862cecc8c1e839b4193a5'}</td>\n",
       "      <td>80974c4043db61721399c43f296ce1db4436c7f107f8fc...</td>\n",
       "      <td>1</td>\n",
       "      <td>1</td>\n",
       "      <td>20</td>\n",
       "      <td>254</td>\n",
       "      <td>105</td>\n",
       "      <td>0</td>\n",
       "      <td>75</td>\n",
       "      <td>2019-07-01T00:00:00Z</td>\n",
       "      <td></td>\n",
       "    </tr>\n",
       "  </tbody>\n",
       "</table>\n",
       "</div>"
      ],
      "text/plain": [
       "                                    _id  \\\n",
       "0  {'$oid': '5ee862cecc8c1e839b419387'}   \n",
       "1  {'$oid': '5ee862cecc8c1e839b41938c'}   \n",
       "2  {'$oid': '5ee862cecc8c1e839b419394'}   \n",
       "3  {'$oid': '5ee862cecc8c1e839b41939e'}   \n",
       "4  {'$oid': '5ee862cecc8c1e839b4193a5'}   \n",
       "\n",
       "                                       user_day_code  idplug_base  user_type  \\\n",
       "0  509e6a72b7673f533912bf647d20df19305b848fbc1b89...            5          1   \n",
       "1  90069a1194c3eb9e6faecaaf4eefb7209e890c0df5aeac...            8          1   \n",
       "2  b0ecaab6a35b7ea44d118f851f7fad5c2237e7dd51b337...           15          1   \n",
       "3  5e1b8a8c4603ee8ac4f06aba12ff51e2c5dd105b6e5193...           18          1   \n",
       "4  80974c4043db61721399c43f296ce1db4436c7f107f8fc...            1          1   \n",
       "\n",
       "   idunplug_base  travel_time  idunplug_station  ageRange  idplug_station  \\\n",
       "0             20          154                44         5              40   \n",
       "1             17          184                57         4             129   \n",
       "2             16          282                53         4              43   \n",
       "3             18          388                56         0              13   \n",
       "4             20          254               105         0              75   \n",
       "\n",
       "        unplug_hourTime zip_code  \n",
       "0  2019-07-01T00:00:00Z    28007  \n",
       "1  2019-07-01T00:00:00Z    28045  \n",
       "2  2019-07-01T00:00:00Z           \n",
       "3  2019-07-01T00:00:00Z           \n",
       "4  2019-07-01T00:00:00Z           "
      ]
     },
     "execution_count": 31,
     "metadata": {},
     "output_type": "execute_result"
    }
   ],
   "source": [
    "itinerarios.head()"
   ]
  },
  {
   "cell_type": "code",
   "execution_count": 79,
   "metadata": {},
   "outputs": [
    {
     "data": {
      "text/plain": [
       "30"
      ]
     },
     "execution_count": 79,
     "metadata": {},
     "output_type": "execute_result"
    }
   ],
   "source": [
    "len(itinerarios.idplug_base.unique())"
   ]
  },
  {
   "cell_type": "code",
   "execution_count": 72,
   "metadata": {},
   "outputs": [
    {
     "data": {
      "text/html": [
       "<div>\n",
       "<style scoped>\n",
       "    .dataframe tbody tr th:only-of-type {\n",
       "        vertical-align: middle;\n",
       "    }\n",
       "\n",
       "    .dataframe tbody tr th {\n",
       "        vertical-align: top;\n",
       "    }\n",
       "\n",
       "    .dataframe thead th {\n",
       "        text-align: right;\n",
       "    }\n",
       "</style>\n",
       "<table border=\"1\" class=\"dataframe\">\n",
       "  <thead>\n",
       "    <tr style=\"text-align: right;\">\n",
       "      <th></th>\n",
       "      <th>Número</th>\n",
       "      <th>Gis_X</th>\n",
       "      <th>Gis_Y</th>\n",
       "      <th>Fecha de Alta</th>\n",
       "      <th>Distrito</th>\n",
       "      <th>Barrio</th>\n",
       "      <th>Calle</th>\n",
       "      <th>Nº Finca</th>\n",
       "      <th>Tipo de Reserva</th>\n",
       "      <th>Número de Plazas</th>\n",
       "      <th>Longitud</th>\n",
       "      <th>Latitud</th>\n",
       "      <th>Direccion</th>\n",
       "    </tr>\n",
       "  </thead>\n",
       "  <tbody>\n",
       "    <tr>\n",
       "      <th>0</th>\n",
       "      <td>001 a</td>\n",
       "      <td>440443.61</td>\n",
       "      <td>4474290.65</td>\n",
       "      <td>43803</td>\n",
       "      <td>01  CENTRO</td>\n",
       "      <td>01-06 SOL</td>\n",
       "      <td>ALCALA, CALLE, DE</td>\n",
       "      <td>2</td>\n",
       "      <td>BiciMAD</td>\n",
       "      <td>30</td>\n",
       "      <td>-3.701998</td>\n",
       "      <td>40.417111</td>\n",
       "      <td>ALCALA, CALLE, DE, 2</td>\n",
       "    </tr>\n",
       "    <tr>\n",
       "      <th>1</th>\n",
       "      <td>001 b</td>\n",
       "      <td>440480.56</td>\n",
       "      <td>4474301.74</td>\n",
       "      <td>43867</td>\n",
       "      <td>01  CENTRO</td>\n",
       "      <td>01-06 SOL</td>\n",
       "      <td>ALCALA, CALLE, DE</td>\n",
       "      <td>6</td>\n",
       "      <td>BiciMAD</td>\n",
       "      <td>30</td>\n",
       "      <td>-3.701564</td>\n",
       "      <td>40.417213</td>\n",
       "      <td>ALCALA, CALLE, DE, 6</td>\n",
       "    </tr>\n",
       "    <tr>\n",
       "      <th>2</th>\n",
       "      <td>2</td>\n",
       "      <td>440134.83</td>\n",
       "      <td>4474678.23</td>\n",
       "      <td>41813</td>\n",
       "      <td>01  CENTRO</td>\n",
       "      <td>01-05 UNIVERSIDAD</td>\n",
       "      <td>MIGUEL MOYA, CALLE, DE</td>\n",
       "      <td>1</td>\n",
       "      <td>BiciMAD</td>\n",
       "      <td>24</td>\n",
       "      <td>-3.705674</td>\n",
       "      <td>40.420580</td>\n",
       "      <td>MIGUEL MOYA, CALLE, DE, 1</td>\n",
       "    </tr>\n",
       "    <tr>\n",
       "      <th>3</th>\n",
       "      <td>3</td>\n",
       "      <td>440012.98</td>\n",
       "      <td>4475760.68</td>\n",
       "      <td>41813</td>\n",
       "      <td>07  CHAMBERÍ</td>\n",
       "      <td>07-02 ARAPILES</td>\n",
       "      <td>CONDE DEL VALLE DE SUCHIL, PLAZA, DEL</td>\n",
       "      <td>2</td>\n",
       "      <td>BiciMAD</td>\n",
       "      <td>18</td>\n",
       "      <td>-3.707212</td>\n",
       "      <td>40.430322</td>\n",
       "      <td>CONDE DEL VALLE DE SUCHIL, PLAZA, DEL, 2</td>\n",
       "    </tr>\n",
       "    <tr>\n",
       "      <th>4</th>\n",
       "      <td>4</td>\n",
       "      <td>440396.40</td>\n",
       "      <td>4475565.36</td>\n",
       "      <td>41813</td>\n",
       "      <td>01  CENTRO</td>\n",
       "      <td>01-05 UNIVERSIDAD</td>\n",
       "      <td>MANUELA MALASAÑA, CALLE, DE</td>\n",
       "      <td>3</td>\n",
       "      <td>BiciMAD</td>\n",
       "      <td>24</td>\n",
       "      <td>-3.702674</td>\n",
       "      <td>40.428590</td>\n",
       "      <td>MANUELA MALASAÑA, CALLE, DE, 3</td>\n",
       "    </tr>\n",
       "  </tbody>\n",
       "</table>\n",
       "</div>"
      ],
      "text/plain": [
       "  Número      Gis_X       Gis_Y  Fecha de Alta      Distrito  \\\n",
       "0  001 a  440443.61  4474290.65          43803    01  CENTRO   \n",
       "1  001 b  440480.56  4474301.74          43867    01  CENTRO   \n",
       "2      2  440134.83  4474678.23          41813    01  CENTRO   \n",
       "3      3  440012.98  4475760.68          41813  07  CHAMBERÍ   \n",
       "4      4  440396.40  4475565.36          41813    01  CENTRO   \n",
       "\n",
       "              Barrio                                  Calle Nº Finca  \\\n",
       "0          01-06 SOL                      ALCALA, CALLE, DE        2   \n",
       "1          01-06 SOL                      ALCALA, CALLE, DE        6   \n",
       "2  01-05 UNIVERSIDAD                 MIGUEL MOYA, CALLE, DE        1   \n",
       "3     07-02 ARAPILES  CONDE DEL VALLE DE SUCHIL, PLAZA, DEL        2   \n",
       "4  01-05 UNIVERSIDAD            MANUELA MALASAÑA, CALLE, DE        3   \n",
       "\n",
       "  Tipo de Reserva  Número de Plazas  Longitud    Latitud  \\\n",
       "0         BiciMAD                30 -3.701998  40.417111   \n",
       "1         BiciMAD                30 -3.701564  40.417213   \n",
       "2         BiciMAD                24 -3.705674  40.420580   \n",
       "3         BiciMAD                18 -3.707212  40.430322   \n",
       "4         BiciMAD                24 -3.702674  40.428590   \n",
       "\n",
       "                                  Direccion  \n",
       "0                      ALCALA, CALLE, DE, 2  \n",
       "1                      ALCALA, CALLE, DE, 6  \n",
       "2                 MIGUEL MOYA, CALLE, DE, 1  \n",
       "3  CONDE DEL VALLE DE SUCHIL, PLAZA, DEL, 2  \n",
       "4            MANUELA MALASAÑA, CALLE, DE, 3  "
      ]
     },
     "execution_count": 72,
     "metadata": {},
     "output_type": "execute_result"
    }
   ],
   "source": [
    "bases = pd.read_excel('../Data/bases_bicimad.xls')\n",
    "bases.head()"
   ]
  },
  {
   "cell_type": "code",
   "execution_count": 73,
   "metadata": {},
   "outputs": [
    {
     "data": {
      "text/plain": [
       "Número              0\n",
       "Gis_X               0\n",
       "Gis_Y               0\n",
       "Fecha de Alta       0\n",
       "Distrito            0\n",
       "Barrio              0\n",
       "Calle               0\n",
       "Nº Finca            0\n",
       "Tipo de Reserva     0\n",
       "Número de Plazas    0\n",
       "Longitud            0\n",
       "Latitud             0\n",
       "Direccion           0\n",
       "dtype: int64"
      ]
     },
     "execution_count": 73,
     "metadata": {},
     "output_type": "execute_result"
    }
   ],
   "source": [
    "bases.isna().sum()"
   ]
  },
  {
   "cell_type": "code",
   "execution_count": 82,
   "metadata": {},
   "outputs": [
    {
     "data": {
      "text/plain": [
       "269"
      ]
     },
     "execution_count": 82,
     "metadata": {},
     "output_type": "execute_result"
    }
   ],
   "source": [
    "len(bases.Número.unique())"
   ]
  }
 ],
 "metadata": {
  "kernelspec": {
   "display_name": "Python 3.8.8 ('base')",
   "language": "python",
   "name": "python3"
  },
  "language_info": {
   "codemirror_mode": {
    "name": "ipython",
    "version": 3
   },
   "file_extension": ".py",
   "mimetype": "text/x-python",
   "name": "python",
   "nbconvert_exporter": "python",
   "pygments_lexer": "ipython3",
   "version": "3.8.8"
  },
  "orig_nbformat": 4,
  "vscode": {
   "interpreter": {
    "hash": "9fef7a30f113eaa53eb8b5c309fb488b4423c5d8965bf87e9ef8b3198259acb6"
   }
  }
 },
 "nbformat": 4,
 "nbformat_minor": 2
}
