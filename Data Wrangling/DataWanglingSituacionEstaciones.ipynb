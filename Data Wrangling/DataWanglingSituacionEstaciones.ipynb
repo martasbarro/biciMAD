{
 "cells": [
  {
   "cell_type": "markdown",
   "metadata": {},
   "source": [
    "# **DATA WRANGLING SITUACIÓN ESTACIONES**\n",
    "This file attemps to gather, collect, and transform the station situations raw dataset from the source attached below in order to analyse the data avilable and proceed with it. The following processes will be dealt with:\n",
    "\n",
    "1. Reading the .json files and transforming variables\n",
    "2. Data exploration\n",
    "3. Reshaping data\n",
    "4. Filtering data\n",
    "\n",
    "Source: https://datos.madrid.es/sites/v/index.jsp?vgnextoid=374512b9ace9f310VgnVCM100000171f5a0aRCRD&buscar=true&Texto=BiciMAD&Sector=&Formato=&Periodicidad=&orderByCombo=CONTENT_INSTANCE_NAME_DECODE"
   ]
  },
  {
   "cell_type": "markdown",
   "metadata": {},
   "source": [
    "#### **LIBRARIES**"
   ]
  },
  {
   "cell_type": "code",
   "execution_count": 2,
   "metadata": {},
   "outputs": [],
   "source": [
    "import pandas as pd \n",
    "import json"
   ]
  },
  {
   "cell_type": "markdown",
   "metadata": {},
   "source": [
    "#### **1. READ DATA and VARIABLE TRANSFORMATION**\n",
    "**Dataset**: 20190x.json (X stands for the month number)    \n",
    "\n",
    "**Description**: Dataset of the situation of the different stations of BiciMAD by date and time\n",
    "\n",
    "**Dataframe size**: Each month 145,286 timestamps are colected with information on 14 variables. Observations froom july to december total 883,777 timestamps"
   ]
  },
  {
   "cell_type": "code",
   "execution_count": 12,
   "metadata": {},
   "outputs": [
    {
     "data": {
      "text/html": [
       "<div>\n",
       "<style scoped>\n",
       "    .dataframe tbody tr th:only-of-type {\n",
       "        vertical-align: middle;\n",
       "    }\n",
       "\n",
       "    .dataframe tbody tr th {\n",
       "        vertical-align: top;\n",
       "    }\n",
       "\n",
       "    .dataframe thead th {\n",
       "        text-align: right;\n",
       "    }\n",
       "</style>\n",
       "<table border=\"1\" class=\"dataframe\">\n",
       "  <thead>\n",
       "    <tr style=\"text-align: right;\">\n",
       "      <th></th>\n",
       "      <th>activate</th>\n",
       "      <th>name</th>\n",
       "      <th>reservations_count</th>\n",
       "      <th>light</th>\n",
       "      <th>total_bases</th>\n",
       "      <th>free_bases</th>\n",
       "      <th>number</th>\n",
       "      <th>longitude</th>\n",
       "      <th>no_available</th>\n",
       "      <th>address</th>\n",
       "      <th>latitude</th>\n",
       "      <th>dock_bikes</th>\n",
       "      <th>_id</th>\n",
       "    </tr>\n",
       "  </thead>\n",
       "  <tbody>\n",
       "    <tr>\n",
       "      <th>0</th>\n",
       "      <td>1</td>\n",
       "      <td>Puerta del Sol A</td>\n",
       "      <td>0</td>\n",
       "      <td>2</td>\n",
       "      <td>24</td>\n",
       "      <td>15</td>\n",
       "      <td>1a</td>\n",
       "      <td>-3.7024255</td>\n",
       "      <td>0</td>\n",
       "      <td>Puerta del Sol nº 1</td>\n",
       "      <td>40.4168961</td>\n",
       "      <td>8</td>\n",
       "      <td>2019-07-01 00:29:26.018083</td>\n",
       "    </tr>\n",
       "    <tr>\n",
       "      <th>1</th>\n",
       "      <td>1</td>\n",
       "      <td>Puerta del Sol B</td>\n",
       "      <td>0</td>\n",
       "      <td>2</td>\n",
       "      <td>24</td>\n",
       "      <td>14</td>\n",
       "      <td>1b</td>\n",
       "      <td>-3.7024207</td>\n",
       "      <td>0</td>\n",
       "      <td>Puerta del Sol nº 1</td>\n",
       "      <td>40.4170009</td>\n",
       "      <td>9</td>\n",
       "      <td>2019-07-01 00:29:26.018083</td>\n",
       "    </tr>\n",
       "    <tr>\n",
       "      <th>2</th>\n",
       "      <td>1</td>\n",
       "      <td>Miguel Moya</td>\n",
       "      <td>0</td>\n",
       "      <td>2</td>\n",
       "      <td>24</td>\n",
       "      <td>12</td>\n",
       "      <td>2</td>\n",
       "      <td>-3.7058415</td>\n",
       "      <td>0</td>\n",
       "      <td>Calle Miguel Moya nº 1</td>\n",
       "      <td>40.4205886</td>\n",
       "      <td>10</td>\n",
       "      <td>2019-07-01 00:29:26.018083</td>\n",
       "    </tr>\n",
       "    <tr>\n",
       "      <th>3</th>\n",
       "      <td>1</td>\n",
       "      <td>Plaza Conde Suchil</td>\n",
       "      <td>0</td>\n",
       "      <td>1</td>\n",
       "      <td>18</td>\n",
       "      <td>4</td>\n",
       "      <td>3</td>\n",
       "      <td>-3.7069171</td>\n",
       "      <td>0</td>\n",
       "      <td>Plaza del Conde Suchil nº 2-4</td>\n",
       "      <td>40.4302937</td>\n",
       "      <td>11</td>\n",
       "      <td>2019-07-01 00:29:26.018083</td>\n",
       "    </tr>\n",
       "    <tr>\n",
       "      <th>4</th>\n",
       "      <td>1</td>\n",
       "      <td>Malasaña</td>\n",
       "      <td>0</td>\n",
       "      <td>0</td>\n",
       "      <td>24</td>\n",
       "      <td>17</td>\n",
       "      <td>4</td>\n",
       "      <td>-3.7025875</td>\n",
       "      <td>0</td>\n",
       "      <td>Calle Manuela Malasaña nº 5</td>\n",
       "      <td>40.4285524</td>\n",
       "      <td>3</td>\n",
       "      <td>2019-07-01 00:29:26.018083</td>\n",
       "    </tr>\n",
       "  </tbody>\n",
       "</table>\n",
       "</div>"
      ],
      "text/plain": [
       "   activate                name  reservations_count  light  total_bases  \\\n",
       "0         1    Puerta del Sol A                   0      2           24   \n",
       "1         1    Puerta del Sol B                   0      2           24   \n",
       "2         1         Miguel Moya                   0      2           24   \n",
       "3         1  Plaza Conde Suchil                   0      1           18   \n",
       "4         1            Malasaña                   0      0           24   \n",
       "\n",
       "   free_bases number   longitude  no_available                        address  \\\n",
       "0          15     1a  -3.7024255             0            Puerta del Sol nº 1   \n",
       "1          14     1b  -3.7024207             0            Puerta del Sol nº 1   \n",
       "2          12      2  -3.7058415             0         Calle Miguel Moya nº 1   \n",
       "3           4      3  -3.7069171             0  Plaza del Conde Suchil nº 2-4   \n",
       "4          17      4  -3.7025875             0    Calle Manuela Malasaña nº 5   \n",
       "\n",
       "     latitude  dock_bikes                        _id  \n",
       "0  40.4168961           8 2019-07-01 00:29:26.018083  \n",
       "1  40.4170009           9 2019-07-01 00:29:26.018083  \n",
       "2  40.4205886          10 2019-07-01 00:29:26.018083  \n",
       "3  40.4302937          11 2019-07-01 00:29:26.018083  \n",
       "4  40.4285524           3 2019-07-01 00:29:26.018083  "
      ]
     },
     "execution_count": 12,
     "metadata": {},
     "output_type": "execute_result"
    }
   ],
   "source": [
    "itinerarios_list = [\"201907\", \"201908\", \"201909\", \"201910\", \"201911\", \"201912\"]\n",
    "\n",
    "situaciones = pd.DataFrame()\n",
    "\n",
    "for i in itinerarios_list:\n",
    "    with open('../Data/Situacion Estaciones/'+i+'.json','r') as f:\n",
    "        data = json.loads(f.read())\n",
    "\n",
    "    df_i = pd.json_normalize(\n",
    "        data, \n",
    "        meta=['_id'],\n",
    "        record_path =['stations']\n",
    "    )\n",
    "    df_i[\"_id\"] = pd.to_datetime(df_i[\"_id\"])\n",
    "    situaciones = pd.concat( [situaciones, df_i.drop(columns=\"id\")], ignore_index=True, axis=0)\n",
    "\n",
    "situaciones.head()"
   ]
  },
  {
   "cell_type": "code",
   "execution_count": 13,
   "metadata": {},
   "outputs": [
    {
     "data": {
      "text/plain": [
       "(883777, 13)"
      ]
     },
     "execution_count": 13,
     "metadata": {},
     "output_type": "execute_result"
    }
   ],
   "source": [
    "situaciones.shape"
   ]
  },
  {
   "cell_type": "markdown",
   "metadata": {},
   "source": [
    "**Variables type check**: correct"
   ]
  },
  {
   "cell_type": "code",
   "execution_count": 20,
   "metadata": {},
   "outputs": [
    {
     "data": {
      "text/plain": [
       "activate                       int64\n",
       "name                          object\n",
       "reservations_count             int64\n",
       "light                          int64\n",
       "total_bases                    int64\n",
       "free_bases                     int64\n",
       "number                        object\n",
       "longitude                     object\n",
       "no_available                   int64\n",
       "address                       object\n",
       "latitude                      object\n",
       "dock_bikes                     int64\n",
       "_id                   datetime64[ns]\n",
       "dtype: object"
      ]
     },
     "execution_count": 20,
     "metadata": {},
     "output_type": "execute_result"
    }
   ],
   "source": [
    "situaciones.dtypes"
   ]
  },
  {
   "cell_type": "markdown",
   "metadata": {},
   "source": [
    "**NaN check**: don't exist"
   ]
  },
  {
   "cell_type": "code",
   "execution_count": 19,
   "metadata": {},
   "outputs": [
    {
     "data": {
      "text/plain": [
       "activate              0\n",
       "name                  0\n",
       "reservations_count    0\n",
       "light                 0\n",
       "total_bases           0\n",
       "free_bases            0\n",
       "number                0\n",
       "longitude             0\n",
       "no_available          0\n",
       "address               0\n",
       "latitude              0\n",
       "dock_bikes            0\n",
       "_id                   0\n",
       "dtype: int64"
      ]
     },
     "execution_count": 19,
     "metadata": {},
     "output_type": "execute_result"
    }
   ],
   "source": [
    "situaciones.isna().sum()"
   ]
  },
  {
   "cell_type": "markdown",
   "metadata": {},
   "source": [
    "**############################################TO TRY SINGLE MONTH###########################**"
   ]
  },
  {
   "cell_type": "code",
   "execution_count": 8,
   "metadata": {},
   "outputs": [
    {
     "data": {
      "text/html": [
       "<div>\n",
       "<style scoped>\n",
       "    .dataframe tbody tr th:only-of-type {\n",
       "        vertical-align: middle;\n",
       "    }\n",
       "\n",
       "    .dataframe tbody tr th {\n",
       "        vertical-align: top;\n",
       "    }\n",
       "\n",
       "    .dataframe thead th {\n",
       "        text-align: right;\n",
       "    }\n",
       "</style>\n",
       "<table border=\"1\" class=\"dataframe\">\n",
       "  <thead>\n",
       "    <tr style=\"text-align: right;\">\n",
       "      <th></th>\n",
       "      <th>activate</th>\n",
       "      <th>name</th>\n",
       "      <th>reservations_count</th>\n",
       "      <th>light</th>\n",
       "      <th>total_bases</th>\n",
       "      <th>free_bases</th>\n",
       "      <th>number</th>\n",
       "      <th>longitude</th>\n",
       "      <th>no_available</th>\n",
       "      <th>address</th>\n",
       "      <th>latitude</th>\n",
       "      <th>dock_bikes</th>\n",
       "      <th>_id</th>\n",
       "    </tr>\n",
       "  </thead>\n",
       "  <tbody>\n",
       "    <tr>\n",
       "      <th>0</th>\n",
       "      <td>1</td>\n",
       "      <td>Puerta del Sol A</td>\n",
       "      <td>0</td>\n",
       "      <td>0</td>\n",
       "      <td>24</td>\n",
       "      <td>17</td>\n",
       "      <td>1a</td>\n",
       "      <td>-3.7024255</td>\n",
       "      <td>0</td>\n",
       "      <td>Puerta del Sol nº 1</td>\n",
       "      <td>40.4168961</td>\n",
       "      <td>3</td>\n",
       "      <td>2019-09-01 00:10:32.593867</td>\n",
       "    </tr>\n",
       "    <tr>\n",
       "      <th>1</th>\n",
       "      <td>1</td>\n",
       "      <td>Puerta del Sol B</td>\n",
       "      <td>0</td>\n",
       "      <td>2</td>\n",
       "      <td>24</td>\n",
       "      <td>13</td>\n",
       "      <td>1b</td>\n",
       "      <td>-3.7024207</td>\n",
       "      <td>0</td>\n",
       "      <td>Puerta del Sol nº 1</td>\n",
       "      <td>40.4170009</td>\n",
       "      <td>10</td>\n",
       "      <td>2019-09-01 00:10:32.593867</td>\n",
       "    </tr>\n",
       "    <tr>\n",
       "      <th>2</th>\n",
       "      <td>1</td>\n",
       "      <td>Miguel Moya</td>\n",
       "      <td>0</td>\n",
       "      <td>2</td>\n",
       "      <td>24</td>\n",
       "      <td>8</td>\n",
       "      <td>2</td>\n",
       "      <td>-3.7058415</td>\n",
       "      <td>0</td>\n",
       "      <td>Calle Miguel Moya nº 1</td>\n",
       "      <td>40.4205886</td>\n",
       "      <td>16</td>\n",
       "      <td>2019-09-01 00:10:32.593867</td>\n",
       "    </tr>\n",
       "    <tr>\n",
       "      <th>3</th>\n",
       "      <td>1</td>\n",
       "      <td>Plaza Conde Suchil</td>\n",
       "      <td>0</td>\n",
       "      <td>0</td>\n",
       "      <td>18</td>\n",
       "      <td>12</td>\n",
       "      <td>3</td>\n",
       "      <td>-3.7069171</td>\n",
       "      <td>0</td>\n",
       "      <td>Plaza del Conde Suchil nº 2-4</td>\n",
       "      <td>40.4302937</td>\n",
       "      <td>3</td>\n",
       "      <td>2019-09-01 00:10:32.593867</td>\n",
       "    </tr>\n",
       "    <tr>\n",
       "      <th>4</th>\n",
       "      <td>1</td>\n",
       "      <td>Malasaña</td>\n",
       "      <td>0</td>\n",
       "      <td>2</td>\n",
       "      <td>24</td>\n",
       "      <td>8</td>\n",
       "      <td>4</td>\n",
       "      <td>-3.7025875</td>\n",
       "      <td>0</td>\n",
       "      <td>Calle Manuela Malasaña nº 5</td>\n",
       "      <td>40.4285524</td>\n",
       "      <td>12</td>\n",
       "      <td>2019-09-01 00:10:32.593867</td>\n",
       "    </tr>\n",
       "  </tbody>\n",
       "</table>\n",
       "</div>"
      ],
      "text/plain": [
       "   activate                name  reservations_count  light  total_bases  \\\n",
       "0         1    Puerta del Sol A                   0      0           24   \n",
       "1         1    Puerta del Sol B                   0      2           24   \n",
       "2         1         Miguel Moya                   0      2           24   \n",
       "3         1  Plaza Conde Suchil                   0      0           18   \n",
       "4         1            Malasaña                   0      2           24   \n",
       "\n",
       "   free_bases number   longitude  no_available                        address  \\\n",
       "0          17     1a  -3.7024255             0            Puerta del Sol nº 1   \n",
       "1          13     1b  -3.7024207             0            Puerta del Sol nº 1   \n",
       "2           8      2  -3.7058415             0         Calle Miguel Moya nº 1   \n",
       "3          12      3  -3.7069171             0  Plaza del Conde Suchil nº 2-4   \n",
       "4           8      4  -3.7025875             0    Calle Manuela Malasaña nº 5   \n",
       "\n",
       "     latitude  dock_bikes                        _id  \n",
       "0  40.4168961           3 2019-09-01 00:10:32.593867  \n",
       "1  40.4170009          10 2019-09-01 00:10:32.593867  \n",
       "2  40.4205886          16 2019-09-01 00:10:32.593867  \n",
       "3  40.4302937           3 2019-09-01 00:10:32.593867  \n",
       "4  40.4285524          12 2019-09-01 00:10:32.593867  "
      ]
     },
     "execution_count": 8,
     "metadata": {},
     "output_type": "execute_result"
    }
   ],
   "source": [
    "# load data using Python JSON module\n",
    "with open('../Data/Situacion Estaciones/201909.json','r') as f:\n",
    "    data = json.loads(f.read())\n",
    "\n",
    "sit_201909 = pd.json_normalize(\n",
    "    data, \n",
    "    meta=['_id'],\n",
    "    record_path =['stations']\n",
    ")\n",
    "sit_201909[\"_id\"] = pd.to_datetime(sit_201909[\"_id\"])\n",
    "sit_201909 = sit_201909.drop(columns=\"id\")\n",
    "sit_201909.head()"
   ]
  }
 ],
 "metadata": {
  "kernelspec": {
   "display_name": "Python 3.9.13 64-bit (microsoft store)",
   "language": "python",
   "name": "python3"
  },
  "language_info": {
   "codemirror_mode": {
    "name": "ipython",
    "version": 3
   },
   "file_extension": ".py",
   "mimetype": "text/x-python",
   "name": "python",
   "nbconvert_exporter": "python",
   "pygments_lexer": "ipython3",
   "version": "3.9.13"
  },
  "orig_nbformat": 4,
  "vscode": {
   "interpreter": {
    "hash": "7f2fb500cce5147f8ddb05d1f19e3f027ca6ffa6fc27e990579dfb284520f7f8"
   }
  }
 },
 "nbformat": 4,
 "nbformat_minor": 2
}
