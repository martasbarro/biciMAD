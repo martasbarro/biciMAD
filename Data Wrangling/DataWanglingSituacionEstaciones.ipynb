{
 "cells": [
  {
   "cell_type": "markdown",
   "metadata": {},
   "source": [
    "# **DATA WRANGLING SITUACIÓN ESTACIONES**\n",
    "This file attemps to gather, collect, and transform all the raw datasets from the source attached below in order to analyse the data avilable and proceed with it. \n",
    "The following processes will be dealt with: \n",
    "1. Reading the data and transforming variables\n",
    "2. Dealing with missing values\n",
    "3. Data exploration\n",
    "4. Reshaping data\n",
    "5. Filtering data\n",
    "\n",
    "Source: https://datos.madrid.es/sites/v/index.jsp?vgnextoid=374512b9ace9f310VgnVCM100000171f5a0aRCRD&buscar=true&Texto=BiciMAD&Sector=&Formato=&Periodicidad=&orderByCombo=CONTENT_INSTANCE_NAME_DECODE"
   ]
  },
  {
   "cell_type": "markdown",
   "metadata": {},
   "source": [
    "#### **LIBRARIES**"
   ]
  },
  {
   "cell_type": "code",
   "execution_count": 2,
   "metadata": {},
   "outputs": [],
   "source": [
    "import pandas as pd \n",
    "import json"
   ]
  },
  {
   "cell_type": "markdown",
   "metadata": {},
   "source": [
    "#### **READ DATA**"
   ]
  },
  {
   "cell_type": "markdown",
   "metadata": {},
   "source": [
    "**Situacion Estaciones BiciMAD**"
   ]
  },
  {
   "cell_type": "code",
   "execution_count": 17,
   "metadata": {},
   "outputs": [
    {
     "data": {
      "text/html": [
       "<div>\n",
       "<style scoped>\n",
       "    .dataframe tbody tr th:only-of-type {\n",
       "        vertical-align: middle;\n",
       "    }\n",
       "\n",
       "    .dataframe tbody tr th {\n",
       "        vertical-align: top;\n",
       "    }\n",
       "\n",
       "    .dataframe thead th {\n",
       "        text-align: right;\n",
       "    }\n",
       "</style>\n",
       "<table border=\"1\" class=\"dataframe\">\n",
       "  <thead>\n",
       "    <tr style=\"text-align: right;\">\n",
       "      <th></th>\n",
       "      <th>activate</th>\n",
       "      <th>name</th>\n",
       "      <th>reservations_count</th>\n",
       "      <th>light</th>\n",
       "      <th>total_bases</th>\n",
       "      <th>free_bases</th>\n",
       "      <th>number</th>\n",
       "      <th>longitude</th>\n",
       "      <th>no_available</th>\n",
       "      <th>address</th>\n",
       "      <th>latitude</th>\n",
       "      <th>dock_bikes</th>\n",
       "      <th>id</th>\n",
       "      <th>_id</th>\n",
       "    </tr>\n",
       "  </thead>\n",
       "  <tbody>\n",
       "    <tr>\n",
       "      <th>0</th>\n",
       "      <td>1</td>\n",
       "      <td>Puerta del Sol A</td>\n",
       "      <td>0</td>\n",
       "      <td>0</td>\n",
       "      <td>24</td>\n",
       "      <td>17</td>\n",
       "      <td>1a</td>\n",
       "      <td>-3.7024255</td>\n",
       "      <td>0</td>\n",
       "      <td>Puerta del Sol nº 1</td>\n",
       "      <td>40.4168961</td>\n",
       "      <td>3</td>\n",
       "      <td>1</td>\n",
       "      <td>2019-09-01 00:10:32.593867</td>\n",
       "    </tr>\n",
       "    <tr>\n",
       "      <th>1</th>\n",
       "      <td>1</td>\n",
       "      <td>Puerta del Sol B</td>\n",
       "      <td>0</td>\n",
       "      <td>2</td>\n",
       "      <td>24</td>\n",
       "      <td>13</td>\n",
       "      <td>1b</td>\n",
       "      <td>-3.7024207</td>\n",
       "      <td>0</td>\n",
       "      <td>Puerta del Sol nº 1</td>\n",
       "      <td>40.4170009</td>\n",
       "      <td>10</td>\n",
       "      <td>2</td>\n",
       "      <td>2019-09-01 00:10:32.593867</td>\n",
       "    </tr>\n",
       "    <tr>\n",
       "      <th>2</th>\n",
       "      <td>1</td>\n",
       "      <td>Miguel Moya</td>\n",
       "      <td>0</td>\n",
       "      <td>2</td>\n",
       "      <td>24</td>\n",
       "      <td>8</td>\n",
       "      <td>2</td>\n",
       "      <td>-3.7058415</td>\n",
       "      <td>0</td>\n",
       "      <td>Calle Miguel Moya nº 1</td>\n",
       "      <td>40.4205886</td>\n",
       "      <td>16</td>\n",
       "      <td>3</td>\n",
       "      <td>2019-09-01 00:10:32.593867</td>\n",
       "    </tr>\n",
       "    <tr>\n",
       "      <th>3</th>\n",
       "      <td>1</td>\n",
       "      <td>Plaza Conde Suchil</td>\n",
       "      <td>0</td>\n",
       "      <td>0</td>\n",
       "      <td>18</td>\n",
       "      <td>12</td>\n",
       "      <td>3</td>\n",
       "      <td>-3.7069171</td>\n",
       "      <td>0</td>\n",
       "      <td>Plaza del Conde Suchil nº 2-4</td>\n",
       "      <td>40.4302937</td>\n",
       "      <td>3</td>\n",
       "      <td>4</td>\n",
       "      <td>2019-09-01 00:10:32.593867</td>\n",
       "    </tr>\n",
       "    <tr>\n",
       "      <th>4</th>\n",
       "      <td>1</td>\n",
       "      <td>Malasaña</td>\n",
       "      <td>0</td>\n",
       "      <td>2</td>\n",
       "      <td>24</td>\n",
       "      <td>8</td>\n",
       "      <td>4</td>\n",
       "      <td>-3.7025875</td>\n",
       "      <td>0</td>\n",
       "      <td>Calle Manuela Malasaña nº 5</td>\n",
       "      <td>40.4285524</td>\n",
       "      <td>12</td>\n",
       "      <td>5</td>\n",
       "      <td>2019-09-01 00:10:32.593867</td>\n",
       "    </tr>\n",
       "  </tbody>\n",
       "</table>\n",
       "</div>"
      ],
      "text/plain": [
       "   activate                name  reservations_count  light  total_bases  \\\n",
       "0         1    Puerta del Sol A                   0      0           24   \n",
       "1         1    Puerta del Sol B                   0      2           24   \n",
       "2         1         Miguel Moya                   0      2           24   \n",
       "3         1  Plaza Conde Suchil                   0      0           18   \n",
       "4         1            Malasaña                   0      2           24   \n",
       "\n",
       "   free_bases number   longitude  no_available                        address  \\\n",
       "0          17     1a  -3.7024255             0            Puerta del Sol nº 1   \n",
       "1          13     1b  -3.7024207             0            Puerta del Sol nº 1   \n",
       "2           8      2  -3.7058415             0         Calle Miguel Moya nº 1   \n",
       "3          12      3  -3.7069171             0  Plaza del Conde Suchil nº 2-4   \n",
       "4           8      4  -3.7025875             0    Calle Manuela Malasaña nº 5   \n",
       "\n",
       "     latitude  dock_bikes  id                        _id  \n",
       "0  40.4168961           3   1 2019-09-01 00:10:32.593867  \n",
       "1  40.4170009          10   2 2019-09-01 00:10:32.593867  \n",
       "2  40.4205886          16   3 2019-09-01 00:10:32.593867  \n",
       "3  40.4302937           3   4 2019-09-01 00:10:32.593867  \n",
       "4  40.4285524          12   5 2019-09-01 00:10:32.593867  "
      ]
     },
     "execution_count": 17,
     "metadata": {},
     "output_type": "execute_result"
    }
   ],
   "source": [
    "# load data using Python JSON module\n",
    "with open('../Data/Situacion Estaciones/201909.json','r') as f:\n",
    "    data = json.loads(f.read())\n",
    "\n",
    "sit_201909 = pd.json_normalize(\n",
    "    data, \n",
    "    meta=['_id'],\n",
    "    record_path =['stations']\n",
    ")\n",
    "sit_201909[\"_id\"] = pd.to_datetime(sit_201909[\"_id\"])\n",
    "sit_201909.head()\n"
   ]
  }
 ],
 "metadata": {
  "kernelspec": {
   "display_name": "Python 3.9.13 64-bit (microsoft store)",
   "language": "python",
   "name": "python3"
  },
  "language_info": {
   "codemirror_mode": {
    "name": "ipython",
    "version": 3
   },
   "file_extension": ".py",
   "mimetype": "text/x-python",
   "name": "python",
   "nbconvert_exporter": "python",
   "pygments_lexer": "ipython3",
   "version": "3.9.13"
  },
  "orig_nbformat": 4,
  "vscode": {
   "interpreter": {
    "hash": "7f2fb500cce5147f8ddb05d1f19e3f027ca6ffa6fc27e990579dfb284520f7f8"
   }
  }
 },
 "nbformat": 4,
 "nbformat_minor": 2
}
