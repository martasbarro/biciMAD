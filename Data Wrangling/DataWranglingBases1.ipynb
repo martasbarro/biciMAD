{
 "cells": [
  {
   "cell_type": "markdown",
   "metadata": {},
   "source": [
    "## **DATA WRANGLING BASES**\n",
    "This file attemps to gather, collect, and transform the bases raw dataset from the source attached below in order to analyse the data avilable and proceed with it. The following processes will be dealt with:\n",
    "\n",
    "1. Reading the .csv file and transforming variables\n",
    "2. Data exploration\n",
    "3. Reshaping data\n",
    "4. Filtering data"
   ]
  },
  {
   "cell_type": "markdown",
   "metadata": {},
   "source": [
    "#### **IMPORT LIBRARIES**"
   ]
  },
  {
   "cell_type": "code",
   "execution_count": 2,
   "metadata": {},
   "outputs": [],
   "source": [
    "import pandas as pd \n",
    "import plotly.express as px\n",
    "import plotly.graph_objects as go"
   ]
  },
  {
   "cell_type": "markdown",
   "metadata": {},
   "source": [
    "#### **1. READ DATA and VARIABLE TRANSFORMATION**\n",
    "**Dataset**: bases_bicimad.xls     \n",
    "\n",
    "**Description**: Dataset of the existing bases of the BiciMAD service. \n",
    "\n",
    "**Dataframe size**: 269 base stations including extensions and 13 variables."
   ]
  },
  {
   "cell_type": "code",
   "execution_count": 3,
   "metadata": {},
   "outputs": [
    {
     "data": {
      "text/plain": [
       "(269, 13)"
      ]
     },
     "execution_count": 3,
     "metadata": {},
     "output_type": "execute_result"
    }
   ],
   "source": [
    "bases= pd.read_excel(\"../Data/bases_bicimad.xls\")\n",
    "bases.shape"
   ]
  },
  {
   "cell_type": "code",
   "execution_count": 4,
   "metadata": {},
   "outputs": [
    {
     "data": {
      "text/html": [
       "<div>\n",
       "<style scoped>\n",
       "    .dataframe tbody tr th:only-of-type {\n",
       "        vertical-align: middle;\n",
       "    }\n",
       "\n",
       "    .dataframe tbody tr th {\n",
       "        vertical-align: top;\n",
       "    }\n",
       "\n",
       "    .dataframe thead th {\n",
       "        text-align: right;\n",
       "    }\n",
       "</style>\n",
       "<table border=\"1\" class=\"dataframe\">\n",
       "  <thead>\n",
       "    <tr style=\"text-align: right;\">\n",
       "      <th></th>\n",
       "      <th>Número</th>\n",
       "      <th>Gis_X</th>\n",
       "      <th>Gis_Y</th>\n",
       "      <th>Fecha de Alta</th>\n",
       "      <th>Distrito</th>\n",
       "      <th>Barrio</th>\n",
       "      <th>Calle</th>\n",
       "      <th>Nº Finca</th>\n",
       "      <th>Tipo de Reserva</th>\n",
       "      <th>Número de Plazas</th>\n",
       "      <th>Longitud</th>\n",
       "      <th>Latitud</th>\n",
       "      <th>Direccion</th>\n",
       "    </tr>\n",
       "  </thead>\n",
       "  <tbody>\n",
       "    <tr>\n",
       "      <th>0</th>\n",
       "      <td>001 a</td>\n",
       "      <td>440443.61</td>\n",
       "      <td>4474290.65</td>\n",
       "      <td>43803</td>\n",
       "      <td>01  CENTRO</td>\n",
       "      <td>01-06 SOL</td>\n",
       "      <td>ALCALA, CALLE, DE</td>\n",
       "      <td>2</td>\n",
       "      <td>BiciMAD</td>\n",
       "      <td>30</td>\n",
       "      <td>-3.701998</td>\n",
       "      <td>40.417111</td>\n",
       "      <td>ALCALA, CALLE, DE, 2</td>\n",
       "    </tr>\n",
       "    <tr>\n",
       "      <th>1</th>\n",
       "      <td>001 b</td>\n",
       "      <td>440480.56</td>\n",
       "      <td>4474301.74</td>\n",
       "      <td>43867</td>\n",
       "      <td>01  CENTRO</td>\n",
       "      <td>01-06 SOL</td>\n",
       "      <td>ALCALA, CALLE, DE</td>\n",
       "      <td>6</td>\n",
       "      <td>BiciMAD</td>\n",
       "      <td>30</td>\n",
       "      <td>-3.701564</td>\n",
       "      <td>40.417213</td>\n",
       "      <td>ALCALA, CALLE, DE, 6</td>\n",
       "    </tr>\n",
       "    <tr>\n",
       "      <th>2</th>\n",
       "      <td>2</td>\n",
       "      <td>440134.83</td>\n",
       "      <td>4474678.23</td>\n",
       "      <td>41813</td>\n",
       "      <td>01  CENTRO</td>\n",
       "      <td>01-05 UNIVERSIDAD</td>\n",
       "      <td>MIGUEL MOYA, CALLE, DE</td>\n",
       "      <td>1</td>\n",
       "      <td>BiciMAD</td>\n",
       "      <td>24</td>\n",
       "      <td>-3.705674</td>\n",
       "      <td>40.420580</td>\n",
       "      <td>MIGUEL MOYA, CALLE, DE, 1</td>\n",
       "    </tr>\n",
       "    <tr>\n",
       "      <th>3</th>\n",
       "      <td>3</td>\n",
       "      <td>440012.98</td>\n",
       "      <td>4475760.68</td>\n",
       "      <td>41813</td>\n",
       "      <td>07  CHAMBERÍ</td>\n",
       "      <td>07-02 ARAPILES</td>\n",
       "      <td>CONDE DEL VALLE DE SUCHIL, PLAZA, DEL</td>\n",
       "      <td>2</td>\n",
       "      <td>BiciMAD</td>\n",
       "      <td>18</td>\n",
       "      <td>-3.707212</td>\n",
       "      <td>40.430322</td>\n",
       "      <td>CONDE DEL VALLE DE SUCHIL, PLAZA, DEL, 2</td>\n",
       "    </tr>\n",
       "    <tr>\n",
       "      <th>4</th>\n",
       "      <td>4</td>\n",
       "      <td>440396.40</td>\n",
       "      <td>4475565.36</td>\n",
       "      <td>41813</td>\n",
       "      <td>01  CENTRO</td>\n",
       "      <td>01-05 UNIVERSIDAD</td>\n",
       "      <td>MANUELA MALASAÑA, CALLE, DE</td>\n",
       "      <td>3</td>\n",
       "      <td>BiciMAD</td>\n",
       "      <td>24</td>\n",
       "      <td>-3.702674</td>\n",
       "      <td>40.428590</td>\n",
       "      <td>MANUELA MALASAÑA, CALLE, DE, 3</td>\n",
       "    </tr>\n",
       "  </tbody>\n",
       "</table>\n",
       "</div>"
      ],
      "text/plain": [
       "  Número      Gis_X       Gis_Y  Fecha de Alta      Distrito  \\\n",
       "0  001 a  440443.61  4474290.65          43803    01  CENTRO   \n",
       "1  001 b  440480.56  4474301.74          43867    01  CENTRO   \n",
       "2      2  440134.83  4474678.23          41813    01  CENTRO   \n",
       "3      3  440012.98  4475760.68          41813  07  CHAMBERÍ   \n",
       "4      4  440396.40  4475565.36          41813    01  CENTRO   \n",
       "\n",
       "              Barrio                                  Calle Nº Finca  \\\n",
       "0          01-06 SOL                      ALCALA, CALLE, DE        2   \n",
       "1          01-06 SOL                      ALCALA, CALLE, DE        6   \n",
       "2  01-05 UNIVERSIDAD                 MIGUEL MOYA, CALLE, DE        1   \n",
       "3     07-02 ARAPILES  CONDE DEL VALLE DE SUCHIL, PLAZA, DEL        2   \n",
       "4  01-05 UNIVERSIDAD            MANUELA MALASAÑA, CALLE, DE        3   \n",
       "\n",
       "  Tipo de Reserva  Número de Plazas  Longitud    Latitud  \\\n",
       "0         BiciMAD                30 -3.701998  40.417111   \n",
       "1         BiciMAD                30 -3.701564  40.417213   \n",
       "2         BiciMAD                24 -3.705674  40.420580   \n",
       "3         BiciMAD                18 -3.707212  40.430322   \n",
       "4         BiciMAD                24 -3.702674  40.428590   \n",
       "\n",
       "                                  Direccion  \n",
       "0                      ALCALA, CALLE, DE, 2  \n",
       "1                      ALCALA, CALLE, DE, 6  \n",
       "2                 MIGUEL MOYA, CALLE, DE, 1  \n",
       "3  CONDE DEL VALLE DE SUCHIL, PLAZA, DEL, 2  \n",
       "4            MANUELA MALASAÑA, CALLE, DE, 3  "
      ]
     },
     "execution_count": 4,
     "metadata": {},
     "output_type": "execute_result"
    }
   ],
   "source": [
    "bases.head()"
   ]
  },
  {
   "cell_type": "markdown",
   "metadata": {},
   "source": [
    "**Variables type check**: correct"
   ]
  },
  {
   "cell_type": "code",
   "execution_count": 5,
   "metadata": {},
   "outputs": [
    {
     "data": {
      "text/plain": [
       "Número               object\n",
       "Gis_X               float64\n",
       "Gis_Y               float64\n",
       "Fecha de Alta         int64\n",
       "Distrito             object\n",
       "Barrio               object\n",
       "Calle                object\n",
       "Nº Finca             object\n",
       "Tipo de Reserva      object\n",
       "Número de Plazas      int64\n",
       "Longitud            float64\n",
       "Latitud             float64\n",
       "Direccion            object\n",
       "dtype: object"
      ]
     },
     "execution_count": 5,
     "metadata": {},
     "output_type": "execute_result"
    }
   ],
   "source": [
    "bases.dtypes"
   ]
  },
  {
   "cell_type": "markdown",
   "metadata": {},
   "source": [
    "**NaN check**: don't exist"
   ]
  },
  {
   "cell_type": "code",
   "execution_count": 6,
   "metadata": {},
   "outputs": [
    {
     "data": {
      "text/plain": [
       "Número              0\n",
       "Gis_X               0\n",
       "Gis_Y               0\n",
       "Fecha de Alta       0\n",
       "Distrito            0\n",
       "Barrio              0\n",
       "Calle               0\n",
       "Nº Finca            0\n",
       "Tipo de Reserva     0\n",
       "Número de Plazas    0\n",
       "Longitud            0\n",
       "Latitud             0\n",
       "Direccion           0\n",
       "dtype: int64"
      ]
     },
     "execution_count": 6,
     "metadata": {},
     "output_type": "execute_result"
    }
   ],
   "source": [
    "bases.isna().sum()"
   ]
  },
  {
   "cell_type": "markdown",
   "metadata": {},
   "source": [
    "#### **2. DATA EXPLORATION**"
   ]
  },
  {
   "cell_type": "markdown",
   "metadata": {},
   "source": [
    "Variable **\"Tipo de Reserva\"** has only one category: irrelevant"
   ]
  },
  {
   "cell_type": "code",
   "execution_count": 7,
   "metadata": {},
   "outputs": [
    {
     "data": {
      "text/plain": [
       "BiciMAD    269\n",
       "Name: Tipo de Reserva, dtype: int64"
      ]
     },
     "execution_count": 7,
     "metadata": {},
     "output_type": "execute_result"
    }
   ],
   "source": [
    "bases[\"Tipo de Reserva\"].value_counts()"
   ]
  },
  {
   "cell_type": "markdown",
   "metadata": {},
   "source": [
    "**Número de Plazas distribution**:an 81% of bases have 24 docks. "
   ]
  },
  {
   "cell_type": "code",
   "execution_count": 8,
   "metadata": {},
   "outputs": [
    {
     "data": {
      "application/vnd.plotly.v1+json": {
       "config": {
        "plotlyServerURL": "https://plot.ly"
       },
       "data": [
        {
         "alignmentgroup": "True",
         "bingroup": "x",
         "histnorm": "probability density",
         "hovertemplate": "Número de Plazas=%{x}<br>probability density=%{y}<extra></extra>",
         "legendgroup": "",
         "marker": {
          "color": "darkorange",
          "pattern": {
           "shape": ""
          }
         },
         "name": "",
         "nbinsx": 30,
         "offsetgroup": "",
         "orientation": "v",
         "showlegend": false,
         "type": "histogram",
         "x": [
          30,
          30,
          24,
          18,
          24,
          27,
          24,
          21,
          24,
          24,
          24,
          24,
          24,
          24,
          24,
          21,
          21,
          24,
          24,
          24,
          24,
          6,
          24,
          24,
          24,
          24,
          24,
          24,
          27,
          24,
          24,
          27,
          27,
          18,
          21,
          24,
          24,
          24,
          24,
          24,
          27,
          24,
          18,
          24,
          24,
          21,
          21,
          24,
          24,
          24,
          24,
          24,
          27,
          24,
          24,
          21,
          24,
          24,
          24,
          24,
          21,
          24,
          24,
          24,
          24,
          24,
          24,
          21,
          27,
          24,
          24,
          24,
          24,
          24,
          24,
          24,
          22,
          24,
          24,
          24,
          27,
          24,
          24,
          24,
          24,
          27,
          21,
          24,
          24,
          24,
          24,
          6,
          24,
          24,
          24,
          21,
          24,
          27,
          27,
          24,
          24,
          24,
          24,
          24,
          24,
          21,
          24,
          18,
          18,
          24,
          27,
          24,
          24,
          24,
          24,
          24,
          24,
          24,
          24,
          24,
          24,
          24,
          24,
          24,
          24,
          24,
          24,
          24,
          24,
          24,
          24,
          24,
          24,
          3,
          24,
          20,
          24,
          24,
          24,
          24,
          24,
          24,
          24,
          24,
          24,
          24,
          3,
          12,
          24,
          24,
          24,
          24,
          18,
          24,
          24,
          24,
          24,
          24,
          24,
          24,
          24,
          24,
          24,
          24,
          24,
          24,
          24,
          24,
          3,
          24,
          21,
          24,
          27,
          24,
          24,
          24,
          24,
          24,
          24,
          24,
          24,
          27,
          21,
          24,
          24,
          24,
          24,
          24,
          27,
          24,
          24,
          24,
          24,
          24,
          24,
          27,
          24,
          24,
          18,
          27,
          24,
          24,
          24,
          24,
          24,
          24,
          27,
          24,
          24,
          24,
          24,
          24,
          24,
          24,
          18,
          24,
          24,
          27,
          24,
          24,
          24,
          24,
          24,
          24,
          24,
          24,
          24,
          24,
          24,
          24,
          24,
          24,
          24,
          24,
          24,
          24,
          24,
          24,
          24,
          24,
          24,
          24,
          24,
          24,
          24,
          24,
          24,
          24,
          24,
          24,
          24,
          24,
          24,
          24,
          24,
          24,
          24,
          24,
          24,
          24,
          24,
          24,
          24,
          24,
          24,
          24,
          24,
          24,
          24
         ],
         "xaxis": "x",
         "yaxis": "y"
        }
       ],
       "layout": {
        "barmode": "relative",
        "legend": {
         "tracegroupgap": 0
        },
        "margin": {
         "t": 60
        },
        "template": {
         "data": {
          "bar": [
           {
            "error_x": {
             "color": "#2a3f5f"
            },
            "error_y": {
             "color": "#2a3f5f"
            },
            "marker": {
             "line": {
              "color": "#E5ECF6",
              "width": 0.5
             },
             "pattern": {
              "fillmode": "overlay",
              "size": 10,
              "solidity": 0.2
             }
            },
            "type": "bar"
           }
          ],
          "barpolar": [
           {
            "marker": {
             "line": {
              "color": "#E5ECF6",
              "width": 0.5
             },
             "pattern": {
              "fillmode": "overlay",
              "size": 10,
              "solidity": 0.2
             }
            },
            "type": "barpolar"
           }
          ],
          "carpet": [
           {
            "aaxis": {
             "endlinecolor": "#2a3f5f",
             "gridcolor": "white",
             "linecolor": "white",
             "minorgridcolor": "white",
             "startlinecolor": "#2a3f5f"
            },
            "baxis": {
             "endlinecolor": "#2a3f5f",
             "gridcolor": "white",
             "linecolor": "white",
             "minorgridcolor": "white",
             "startlinecolor": "#2a3f5f"
            },
            "type": "carpet"
           }
          ],
          "choropleth": [
           {
            "colorbar": {
             "outlinewidth": 0,
             "ticks": ""
            },
            "type": "choropleth"
           }
          ],
          "contour": [
           {
            "colorbar": {
             "outlinewidth": 0,
             "ticks": ""
            },
            "colorscale": [
             [
              0,
              "#0d0887"
             ],
             [
              0.1111111111111111,
              "#46039f"
             ],
             [
              0.2222222222222222,
              "#7201a8"
             ],
             [
              0.3333333333333333,
              "#9c179e"
             ],
             [
              0.4444444444444444,
              "#bd3786"
             ],
             [
              0.5555555555555556,
              "#d8576b"
             ],
             [
              0.6666666666666666,
              "#ed7953"
             ],
             [
              0.7777777777777778,
              "#fb9f3a"
             ],
             [
              0.8888888888888888,
              "#fdca26"
             ],
             [
              1,
              "#f0f921"
             ]
            ],
            "type": "contour"
           }
          ],
          "contourcarpet": [
           {
            "colorbar": {
             "outlinewidth": 0,
             "ticks": ""
            },
            "type": "contourcarpet"
           }
          ],
          "heatmap": [
           {
            "colorbar": {
             "outlinewidth": 0,
             "ticks": ""
            },
            "colorscale": [
             [
              0,
              "#0d0887"
             ],
             [
              0.1111111111111111,
              "#46039f"
             ],
             [
              0.2222222222222222,
              "#7201a8"
             ],
             [
              0.3333333333333333,
              "#9c179e"
             ],
             [
              0.4444444444444444,
              "#bd3786"
             ],
             [
              0.5555555555555556,
              "#d8576b"
             ],
             [
              0.6666666666666666,
              "#ed7953"
             ],
             [
              0.7777777777777778,
              "#fb9f3a"
             ],
             [
              0.8888888888888888,
              "#fdca26"
             ],
             [
              1,
              "#f0f921"
             ]
            ],
            "type": "heatmap"
           }
          ],
          "heatmapgl": [
           {
            "colorbar": {
             "outlinewidth": 0,
             "ticks": ""
            },
            "colorscale": [
             [
              0,
              "#0d0887"
             ],
             [
              0.1111111111111111,
              "#46039f"
             ],
             [
              0.2222222222222222,
              "#7201a8"
             ],
             [
              0.3333333333333333,
              "#9c179e"
             ],
             [
              0.4444444444444444,
              "#bd3786"
             ],
             [
              0.5555555555555556,
              "#d8576b"
             ],
             [
              0.6666666666666666,
              "#ed7953"
             ],
             [
              0.7777777777777778,
              "#fb9f3a"
             ],
             [
              0.8888888888888888,
              "#fdca26"
             ],
             [
              1,
              "#f0f921"
             ]
            ],
            "type": "heatmapgl"
           }
          ],
          "histogram": [
           {
            "marker": {
             "pattern": {
              "fillmode": "overlay",
              "size": 10,
              "solidity": 0.2
             }
            },
            "type": "histogram"
           }
          ],
          "histogram2d": [
           {
            "colorbar": {
             "outlinewidth": 0,
             "ticks": ""
            },
            "colorscale": [
             [
              0,
              "#0d0887"
             ],
             [
              0.1111111111111111,
              "#46039f"
             ],
             [
              0.2222222222222222,
              "#7201a8"
             ],
             [
              0.3333333333333333,
              "#9c179e"
             ],
             [
              0.4444444444444444,
              "#bd3786"
             ],
             [
              0.5555555555555556,
              "#d8576b"
             ],
             [
              0.6666666666666666,
              "#ed7953"
             ],
             [
              0.7777777777777778,
              "#fb9f3a"
             ],
             [
              0.8888888888888888,
              "#fdca26"
             ],
             [
              1,
              "#f0f921"
             ]
            ],
            "type": "histogram2d"
           }
          ],
          "histogram2dcontour": [
           {
            "colorbar": {
             "outlinewidth": 0,
             "ticks": ""
            },
            "colorscale": [
             [
              0,
              "#0d0887"
             ],
             [
              0.1111111111111111,
              "#46039f"
             ],
             [
              0.2222222222222222,
              "#7201a8"
             ],
             [
              0.3333333333333333,
              "#9c179e"
             ],
             [
              0.4444444444444444,
              "#bd3786"
             ],
             [
              0.5555555555555556,
              "#d8576b"
             ],
             [
              0.6666666666666666,
              "#ed7953"
             ],
             [
              0.7777777777777778,
              "#fb9f3a"
             ],
             [
              0.8888888888888888,
              "#fdca26"
             ],
             [
              1,
              "#f0f921"
             ]
            ],
            "type": "histogram2dcontour"
           }
          ],
          "mesh3d": [
           {
            "colorbar": {
             "outlinewidth": 0,
             "ticks": ""
            },
            "type": "mesh3d"
           }
          ],
          "parcoords": [
           {
            "line": {
             "colorbar": {
              "outlinewidth": 0,
              "ticks": ""
             }
            },
            "type": "parcoords"
           }
          ],
          "pie": [
           {
            "automargin": true,
            "type": "pie"
           }
          ],
          "scatter": [
           {
            "fillpattern": {
             "fillmode": "overlay",
             "size": 10,
             "solidity": 0.2
            },
            "type": "scatter"
           }
          ],
          "scatter3d": [
           {
            "line": {
             "colorbar": {
              "outlinewidth": 0,
              "ticks": ""
             }
            },
            "marker": {
             "colorbar": {
              "outlinewidth": 0,
              "ticks": ""
             }
            },
            "type": "scatter3d"
           }
          ],
          "scattercarpet": [
           {
            "marker": {
             "colorbar": {
              "outlinewidth": 0,
              "ticks": ""
             }
            },
            "type": "scattercarpet"
           }
          ],
          "scattergeo": [
           {
            "marker": {
             "colorbar": {
              "outlinewidth": 0,
              "ticks": ""
             }
            },
            "type": "scattergeo"
           }
          ],
          "scattergl": [
           {
            "marker": {
             "colorbar": {
              "outlinewidth": 0,
              "ticks": ""
             }
            },
            "type": "scattergl"
           }
          ],
          "scattermapbox": [
           {
            "marker": {
             "colorbar": {
              "outlinewidth": 0,
              "ticks": ""
             }
            },
            "type": "scattermapbox"
           }
          ],
          "scatterpolar": [
           {
            "marker": {
             "colorbar": {
              "outlinewidth": 0,
              "ticks": ""
             }
            },
            "type": "scatterpolar"
           }
          ],
          "scatterpolargl": [
           {
            "marker": {
             "colorbar": {
              "outlinewidth": 0,
              "ticks": ""
             }
            },
            "type": "scatterpolargl"
           }
          ],
          "scatterternary": [
           {
            "marker": {
             "colorbar": {
              "outlinewidth": 0,
              "ticks": ""
             }
            },
            "type": "scatterternary"
           }
          ],
          "surface": [
           {
            "colorbar": {
             "outlinewidth": 0,
             "ticks": ""
            },
            "colorscale": [
             [
              0,
              "#0d0887"
             ],
             [
              0.1111111111111111,
              "#46039f"
             ],
             [
              0.2222222222222222,
              "#7201a8"
             ],
             [
              0.3333333333333333,
              "#9c179e"
             ],
             [
              0.4444444444444444,
              "#bd3786"
             ],
             [
              0.5555555555555556,
              "#d8576b"
             ],
             [
              0.6666666666666666,
              "#ed7953"
             ],
             [
              0.7777777777777778,
              "#fb9f3a"
             ],
             [
              0.8888888888888888,
              "#fdca26"
             ],
             [
              1,
              "#f0f921"
             ]
            ],
            "type": "surface"
           }
          ],
          "table": [
           {
            "cells": {
             "fill": {
              "color": "#EBF0F8"
             },
             "line": {
              "color": "white"
             }
            },
            "header": {
             "fill": {
              "color": "#C8D4E3"
             },
             "line": {
              "color": "white"
             }
            },
            "type": "table"
           }
          ]
         },
         "layout": {
          "annotationdefaults": {
           "arrowcolor": "#2a3f5f",
           "arrowhead": 0,
           "arrowwidth": 1
          },
          "autotypenumbers": "strict",
          "coloraxis": {
           "colorbar": {
            "outlinewidth": 0,
            "ticks": ""
           }
          },
          "colorscale": {
           "diverging": [
            [
             0,
             "#8e0152"
            ],
            [
             0.1,
             "#c51b7d"
            ],
            [
             0.2,
             "#de77ae"
            ],
            [
             0.3,
             "#f1b6da"
            ],
            [
             0.4,
             "#fde0ef"
            ],
            [
             0.5,
             "#f7f7f7"
            ],
            [
             0.6,
             "#e6f5d0"
            ],
            [
             0.7,
             "#b8e186"
            ],
            [
             0.8,
             "#7fbc41"
            ],
            [
             0.9,
             "#4d9221"
            ],
            [
             1,
             "#276419"
            ]
           ],
           "sequential": [
            [
             0,
             "#0d0887"
            ],
            [
             0.1111111111111111,
             "#46039f"
            ],
            [
             0.2222222222222222,
             "#7201a8"
            ],
            [
             0.3333333333333333,
             "#9c179e"
            ],
            [
             0.4444444444444444,
             "#bd3786"
            ],
            [
             0.5555555555555556,
             "#d8576b"
            ],
            [
             0.6666666666666666,
             "#ed7953"
            ],
            [
             0.7777777777777778,
             "#fb9f3a"
            ],
            [
             0.8888888888888888,
             "#fdca26"
            ],
            [
             1,
             "#f0f921"
            ]
           ],
           "sequentialminus": [
            [
             0,
             "#0d0887"
            ],
            [
             0.1111111111111111,
             "#46039f"
            ],
            [
             0.2222222222222222,
             "#7201a8"
            ],
            [
             0.3333333333333333,
             "#9c179e"
            ],
            [
             0.4444444444444444,
             "#bd3786"
            ],
            [
             0.5555555555555556,
             "#d8576b"
            ],
            [
             0.6666666666666666,
             "#ed7953"
            ],
            [
             0.7777777777777778,
             "#fb9f3a"
            ],
            [
             0.8888888888888888,
             "#fdca26"
            ],
            [
             1,
             "#f0f921"
            ]
           ]
          },
          "colorway": [
           "#636efa",
           "#EF553B",
           "#00cc96",
           "#ab63fa",
           "#FFA15A",
           "#19d3f3",
           "#FF6692",
           "#B6E880",
           "#FF97FF",
           "#FECB52"
          ],
          "font": {
           "color": "#2a3f5f"
          },
          "geo": {
           "bgcolor": "white",
           "lakecolor": "white",
           "landcolor": "#E5ECF6",
           "showlakes": true,
           "showland": true,
           "subunitcolor": "white"
          },
          "hoverlabel": {
           "align": "left"
          },
          "hovermode": "closest",
          "mapbox": {
           "style": "light"
          },
          "paper_bgcolor": "white",
          "plot_bgcolor": "#E5ECF6",
          "polar": {
           "angularaxis": {
            "gridcolor": "white",
            "linecolor": "white",
            "ticks": ""
           },
           "bgcolor": "#E5ECF6",
           "radialaxis": {
            "gridcolor": "white",
            "linecolor": "white",
            "ticks": ""
           }
          },
          "scene": {
           "xaxis": {
            "backgroundcolor": "#E5ECF6",
            "gridcolor": "white",
            "gridwidth": 2,
            "linecolor": "white",
            "showbackground": true,
            "ticks": "",
            "zerolinecolor": "white"
           },
           "yaxis": {
            "backgroundcolor": "#E5ECF6",
            "gridcolor": "white",
            "gridwidth": 2,
            "linecolor": "white",
            "showbackground": true,
            "ticks": "",
            "zerolinecolor": "white"
           },
           "zaxis": {
            "backgroundcolor": "#E5ECF6",
            "gridcolor": "white",
            "gridwidth": 2,
            "linecolor": "white",
            "showbackground": true,
            "ticks": "",
            "zerolinecolor": "white"
           }
          },
          "shapedefaults": {
           "line": {
            "color": "#2a3f5f"
           }
          },
          "ternary": {
           "aaxis": {
            "gridcolor": "white",
            "linecolor": "white",
            "ticks": ""
           },
           "baxis": {
            "gridcolor": "white",
            "linecolor": "white",
            "ticks": ""
           },
           "bgcolor": "#E5ECF6",
           "caxis": {
            "gridcolor": "white",
            "linecolor": "white",
            "ticks": ""
           }
          },
          "title": {
           "x": 0.05
          },
          "xaxis": {
           "automargin": true,
           "gridcolor": "white",
           "linecolor": "white",
           "ticks": "",
           "title": {
            "standoff": 15
           },
           "zerolinecolor": "white",
           "zerolinewidth": 2
          },
          "yaxis": {
           "automargin": true,
           "gridcolor": "white",
           "linecolor": "white",
           "ticks": "",
           "title": {
            "standoff": 15
           },
           "zerolinecolor": "white",
           "zerolinewidth": 2
          }
         }
        },
        "xaxis": {
         "anchor": "y",
         "domain": [
          0,
          1
         ],
         "title": {
          "text": "Número de Plazas"
         }
        },
        "yaxis": {
         "anchor": "x",
         "domain": [
          0,
          1
         ],
         "title": {
          "text": "probability density"
         }
        }
       }
      }
     },
     "metadata": {},
     "output_type": "display_data"
    }
   ],
   "source": [
    "fig = px.histogram(bases, x=\"Número de Plazas\", nbins = 30, histnorm='probability density')\n",
    "fig.update_traces(marker_color = \"darkorange\")\n",
    "fig.show()"
   ]
  },
  {
   "cell_type": "markdown",
   "metadata": {},
   "source": [
    "**Distrito distribution**: Half the number of stations are concentrated in CENTRO, SALAMANCA and CHAMBERÍ"
   ]
  },
  {
   "cell_type": "code",
   "execution_count": 9,
   "metadata": {},
   "outputs": [
    {
     "data": {
      "application/vnd.plotly.v1+json": {
       "config": {
        "plotlyServerURL": "https://plot.ly"
       },
       "data": [
        {
         "customdata": [
          [
           "01  CENTRO"
          ],
          [
           "04  SALAMANCA"
          ],
          [
           "07  CHAMBERÍ"
          ],
          [
           "02  ARGANZUELA"
          ],
          [
           "05  CHAMARTÍN"
          ],
          [
           "03  RETIRO"
          ],
          [
           "09  MONCLOA-ARAVACA"
          ],
          [
           "06  TETUÁN"
          ],
          [
           "15  CIUDAD LINEAL"
          ],
          [
           "13  PUENTE DE VALLECAS"
          ],
          [
           "14  MORATALAZ"
          ],
          [
           "10  LATINA"
          ],
          [
           "11  CARABANCHEL"
          ],
          [
           "12  USERA"
          ],
          [
           "08  FUENCARRAL-EL PARDO"
          ]
         ],
         "domain": {
          "x": [
           0,
           1
          ],
          "y": [
           0,
           1
          ]
         },
         "hovertemplate": "label=%{label}<br>value=%{value}<br>color=%{customdata[0]}<extra></extra>",
         "labels": [
          "01  CENTRO",
          "04  SALAMANCA",
          "07  CHAMBERÍ",
          "02  ARGANZUELA",
          "05  CHAMARTÍN",
          "03  RETIRO",
          "09  MONCLOA-ARAVACA",
          "06  TETUÁN",
          "15  CIUDAD LINEAL",
          "13  PUENTE DE VALLECAS",
          "14  MORATALAZ",
          "10  LATINA",
          "11  CARABANCHEL",
          "12  USERA",
          "08  FUENCARRAL-EL PARDO"
         ],
         "legendgroup": "",
         "marker": {
          "colors": [
           "rgb(103,0,31)",
           "rgb(178,24,43)",
           "rgb(214,96,77)",
           "rgb(244,165,130)",
           "rgb(253,219,199)",
           "rgb(247,247,247)",
           "rgb(209,229,240)",
           "rgb(146,197,222)",
           "rgb(67,147,195)",
           "rgb(33,102,172)",
           "rgb(5,48,97)",
           "rgb(103,0,31)",
           "rgb(178,24,43)",
           "rgb(214,96,77)",
           "rgb(244,165,130)"
          ]
         },
         "name": "",
         "showlegend": true,
         "type": "pie",
         "values": [
          61,
          43,
          30,
          26,
          26,
          25,
          17,
          14,
          10,
          4,
          4,
          3,
          2,
          2,
          2
         ]
        }
       ],
       "layout": {
        "legend": {
         "tracegroupgap": 0
        },
        "margin": {
         "t": 60
        },
        "piecolorway": [
         "rgb(103,0,31)",
         "rgb(178,24,43)",
         "rgb(214,96,77)",
         "rgb(244,165,130)",
         "rgb(253,219,199)",
         "rgb(247,247,247)",
         "rgb(209,229,240)",
         "rgb(146,197,222)",
         "rgb(67,147,195)",
         "rgb(33,102,172)",
         "rgb(5,48,97)"
        ],
        "template": {
         "data": {
          "bar": [
           {
            "error_x": {
             "color": "#2a3f5f"
            },
            "error_y": {
             "color": "#2a3f5f"
            },
            "marker": {
             "line": {
              "color": "#E5ECF6",
              "width": 0.5
             },
             "pattern": {
              "fillmode": "overlay",
              "size": 10,
              "solidity": 0.2
             }
            },
            "type": "bar"
           }
          ],
          "barpolar": [
           {
            "marker": {
             "line": {
              "color": "#E5ECF6",
              "width": 0.5
             },
             "pattern": {
              "fillmode": "overlay",
              "size": 10,
              "solidity": 0.2
             }
            },
            "type": "barpolar"
           }
          ],
          "carpet": [
           {
            "aaxis": {
             "endlinecolor": "#2a3f5f",
             "gridcolor": "white",
             "linecolor": "white",
             "minorgridcolor": "white",
             "startlinecolor": "#2a3f5f"
            },
            "baxis": {
             "endlinecolor": "#2a3f5f",
             "gridcolor": "white",
             "linecolor": "white",
             "minorgridcolor": "white",
             "startlinecolor": "#2a3f5f"
            },
            "type": "carpet"
           }
          ],
          "choropleth": [
           {
            "colorbar": {
             "outlinewidth": 0,
             "ticks": ""
            },
            "type": "choropleth"
           }
          ],
          "contour": [
           {
            "colorbar": {
             "outlinewidth": 0,
             "ticks": ""
            },
            "colorscale": [
             [
              0,
              "#0d0887"
             ],
             [
              0.1111111111111111,
              "#46039f"
             ],
             [
              0.2222222222222222,
              "#7201a8"
             ],
             [
              0.3333333333333333,
              "#9c179e"
             ],
             [
              0.4444444444444444,
              "#bd3786"
             ],
             [
              0.5555555555555556,
              "#d8576b"
             ],
             [
              0.6666666666666666,
              "#ed7953"
             ],
             [
              0.7777777777777778,
              "#fb9f3a"
             ],
             [
              0.8888888888888888,
              "#fdca26"
             ],
             [
              1,
              "#f0f921"
             ]
            ],
            "type": "contour"
           }
          ],
          "contourcarpet": [
           {
            "colorbar": {
             "outlinewidth": 0,
             "ticks": ""
            },
            "type": "contourcarpet"
           }
          ],
          "heatmap": [
           {
            "colorbar": {
             "outlinewidth": 0,
             "ticks": ""
            },
            "colorscale": [
             [
              0,
              "#0d0887"
             ],
             [
              0.1111111111111111,
              "#46039f"
             ],
             [
              0.2222222222222222,
              "#7201a8"
             ],
             [
              0.3333333333333333,
              "#9c179e"
             ],
             [
              0.4444444444444444,
              "#bd3786"
             ],
             [
              0.5555555555555556,
              "#d8576b"
             ],
             [
              0.6666666666666666,
              "#ed7953"
             ],
             [
              0.7777777777777778,
              "#fb9f3a"
             ],
             [
              0.8888888888888888,
              "#fdca26"
             ],
             [
              1,
              "#f0f921"
             ]
            ],
            "type": "heatmap"
           }
          ],
          "heatmapgl": [
           {
            "colorbar": {
             "outlinewidth": 0,
             "ticks": ""
            },
            "colorscale": [
             [
              0,
              "#0d0887"
             ],
             [
              0.1111111111111111,
              "#46039f"
             ],
             [
              0.2222222222222222,
              "#7201a8"
             ],
             [
              0.3333333333333333,
              "#9c179e"
             ],
             [
              0.4444444444444444,
              "#bd3786"
             ],
             [
              0.5555555555555556,
              "#d8576b"
             ],
             [
              0.6666666666666666,
              "#ed7953"
             ],
             [
              0.7777777777777778,
              "#fb9f3a"
             ],
             [
              0.8888888888888888,
              "#fdca26"
             ],
             [
              1,
              "#f0f921"
             ]
            ],
            "type": "heatmapgl"
           }
          ],
          "histogram": [
           {
            "marker": {
             "pattern": {
              "fillmode": "overlay",
              "size": 10,
              "solidity": 0.2
             }
            },
            "type": "histogram"
           }
          ],
          "histogram2d": [
           {
            "colorbar": {
             "outlinewidth": 0,
             "ticks": ""
            },
            "colorscale": [
             [
              0,
              "#0d0887"
             ],
             [
              0.1111111111111111,
              "#46039f"
             ],
             [
              0.2222222222222222,
              "#7201a8"
             ],
             [
              0.3333333333333333,
              "#9c179e"
             ],
             [
              0.4444444444444444,
              "#bd3786"
             ],
             [
              0.5555555555555556,
              "#d8576b"
             ],
             [
              0.6666666666666666,
              "#ed7953"
             ],
             [
              0.7777777777777778,
              "#fb9f3a"
             ],
             [
              0.8888888888888888,
              "#fdca26"
             ],
             [
              1,
              "#f0f921"
             ]
            ],
            "type": "histogram2d"
           }
          ],
          "histogram2dcontour": [
           {
            "colorbar": {
             "outlinewidth": 0,
             "ticks": ""
            },
            "colorscale": [
             [
              0,
              "#0d0887"
             ],
             [
              0.1111111111111111,
              "#46039f"
             ],
             [
              0.2222222222222222,
              "#7201a8"
             ],
             [
              0.3333333333333333,
              "#9c179e"
             ],
             [
              0.4444444444444444,
              "#bd3786"
             ],
             [
              0.5555555555555556,
              "#d8576b"
             ],
             [
              0.6666666666666666,
              "#ed7953"
             ],
             [
              0.7777777777777778,
              "#fb9f3a"
             ],
             [
              0.8888888888888888,
              "#fdca26"
             ],
             [
              1,
              "#f0f921"
             ]
            ],
            "type": "histogram2dcontour"
           }
          ],
          "mesh3d": [
           {
            "colorbar": {
             "outlinewidth": 0,
             "ticks": ""
            },
            "type": "mesh3d"
           }
          ],
          "parcoords": [
           {
            "line": {
             "colorbar": {
              "outlinewidth": 0,
              "ticks": ""
             }
            },
            "type": "parcoords"
           }
          ],
          "pie": [
           {
            "automargin": true,
            "type": "pie"
           }
          ],
          "scatter": [
           {
            "fillpattern": {
             "fillmode": "overlay",
             "size": 10,
             "solidity": 0.2
            },
            "type": "scatter"
           }
          ],
          "scatter3d": [
           {
            "line": {
             "colorbar": {
              "outlinewidth": 0,
              "ticks": ""
             }
            },
            "marker": {
             "colorbar": {
              "outlinewidth": 0,
              "ticks": ""
             }
            },
            "type": "scatter3d"
           }
          ],
          "scattercarpet": [
           {
            "marker": {
             "colorbar": {
              "outlinewidth": 0,
              "ticks": ""
             }
            },
            "type": "scattercarpet"
           }
          ],
          "scattergeo": [
           {
            "marker": {
             "colorbar": {
              "outlinewidth": 0,
              "ticks": ""
             }
            },
            "type": "scattergeo"
           }
          ],
          "scattergl": [
           {
            "marker": {
             "colorbar": {
              "outlinewidth": 0,
              "ticks": ""
             }
            },
            "type": "scattergl"
           }
          ],
          "scattermapbox": [
           {
            "marker": {
             "colorbar": {
              "outlinewidth": 0,
              "ticks": ""
             }
            },
            "type": "scattermapbox"
           }
          ],
          "scatterpolar": [
           {
            "marker": {
             "colorbar": {
              "outlinewidth": 0,
              "ticks": ""
             }
            },
            "type": "scatterpolar"
           }
          ],
          "scatterpolargl": [
           {
            "marker": {
             "colorbar": {
              "outlinewidth": 0,
              "ticks": ""
             }
            },
            "type": "scatterpolargl"
           }
          ],
          "scatterternary": [
           {
            "marker": {
             "colorbar": {
              "outlinewidth": 0,
              "ticks": ""
             }
            },
            "type": "scatterternary"
           }
          ],
          "surface": [
           {
            "colorbar": {
             "outlinewidth": 0,
             "ticks": ""
            },
            "colorscale": [
             [
              0,
              "#0d0887"
             ],
             [
              0.1111111111111111,
              "#46039f"
             ],
             [
              0.2222222222222222,
              "#7201a8"
             ],
             [
              0.3333333333333333,
              "#9c179e"
             ],
             [
              0.4444444444444444,
              "#bd3786"
             ],
             [
              0.5555555555555556,
              "#d8576b"
             ],
             [
              0.6666666666666666,
              "#ed7953"
             ],
             [
              0.7777777777777778,
              "#fb9f3a"
             ],
             [
              0.8888888888888888,
              "#fdca26"
             ],
             [
              1,
              "#f0f921"
             ]
            ],
            "type": "surface"
           }
          ],
          "table": [
           {
            "cells": {
             "fill": {
              "color": "#EBF0F8"
             },
             "line": {
              "color": "white"
             }
            },
            "header": {
             "fill": {
              "color": "#C8D4E3"
             },
             "line": {
              "color": "white"
             }
            },
            "type": "table"
           }
          ]
         },
         "layout": {
          "annotationdefaults": {
           "arrowcolor": "#2a3f5f",
           "arrowhead": 0,
           "arrowwidth": 1
          },
          "autotypenumbers": "strict",
          "coloraxis": {
           "colorbar": {
            "outlinewidth": 0,
            "ticks": ""
           }
          },
          "colorscale": {
           "diverging": [
            [
             0,
             "#8e0152"
            ],
            [
             0.1,
             "#c51b7d"
            ],
            [
             0.2,
             "#de77ae"
            ],
            [
             0.3,
             "#f1b6da"
            ],
            [
             0.4,
             "#fde0ef"
            ],
            [
             0.5,
             "#f7f7f7"
            ],
            [
             0.6,
             "#e6f5d0"
            ],
            [
             0.7,
             "#b8e186"
            ],
            [
             0.8,
             "#7fbc41"
            ],
            [
             0.9,
             "#4d9221"
            ],
            [
             1,
             "#276419"
            ]
           ],
           "sequential": [
            [
             0,
             "#0d0887"
            ],
            [
             0.1111111111111111,
             "#46039f"
            ],
            [
             0.2222222222222222,
             "#7201a8"
            ],
            [
             0.3333333333333333,
             "#9c179e"
            ],
            [
             0.4444444444444444,
             "#bd3786"
            ],
            [
             0.5555555555555556,
             "#d8576b"
            ],
            [
             0.6666666666666666,
             "#ed7953"
            ],
            [
             0.7777777777777778,
             "#fb9f3a"
            ],
            [
             0.8888888888888888,
             "#fdca26"
            ],
            [
             1,
             "#f0f921"
            ]
           ],
           "sequentialminus": [
            [
             0,
             "#0d0887"
            ],
            [
             0.1111111111111111,
             "#46039f"
            ],
            [
             0.2222222222222222,
             "#7201a8"
            ],
            [
             0.3333333333333333,
             "#9c179e"
            ],
            [
             0.4444444444444444,
             "#bd3786"
            ],
            [
             0.5555555555555556,
             "#d8576b"
            ],
            [
             0.6666666666666666,
             "#ed7953"
            ],
            [
             0.7777777777777778,
             "#fb9f3a"
            ],
            [
             0.8888888888888888,
             "#fdca26"
            ],
            [
             1,
             "#f0f921"
            ]
           ]
          },
          "colorway": [
           "#636efa",
           "#EF553B",
           "#00cc96",
           "#ab63fa",
           "#FFA15A",
           "#19d3f3",
           "#FF6692",
           "#B6E880",
           "#FF97FF",
           "#FECB52"
          ],
          "font": {
           "color": "#2a3f5f"
          },
          "geo": {
           "bgcolor": "white",
           "lakecolor": "white",
           "landcolor": "#E5ECF6",
           "showlakes": true,
           "showland": true,
           "subunitcolor": "white"
          },
          "hoverlabel": {
           "align": "left"
          },
          "hovermode": "closest",
          "mapbox": {
           "style": "light"
          },
          "paper_bgcolor": "white",
          "plot_bgcolor": "#E5ECF6",
          "polar": {
           "angularaxis": {
            "gridcolor": "white",
            "linecolor": "white",
            "ticks": ""
           },
           "bgcolor": "#E5ECF6",
           "radialaxis": {
            "gridcolor": "white",
            "linecolor": "white",
            "ticks": ""
           }
          },
          "scene": {
           "xaxis": {
            "backgroundcolor": "#E5ECF6",
            "gridcolor": "white",
            "gridwidth": 2,
            "linecolor": "white",
            "showbackground": true,
            "ticks": "",
            "zerolinecolor": "white"
           },
           "yaxis": {
            "backgroundcolor": "#E5ECF6",
            "gridcolor": "white",
            "gridwidth": 2,
            "linecolor": "white",
            "showbackground": true,
            "ticks": "",
            "zerolinecolor": "white"
           },
           "zaxis": {
            "backgroundcolor": "#E5ECF6",
            "gridcolor": "white",
            "gridwidth": 2,
            "linecolor": "white",
            "showbackground": true,
            "ticks": "",
            "zerolinecolor": "white"
           }
          },
          "shapedefaults": {
           "line": {
            "color": "#2a3f5f"
           }
          },
          "ternary": {
           "aaxis": {
            "gridcolor": "white",
            "linecolor": "white",
            "ticks": ""
           },
           "baxis": {
            "gridcolor": "white",
            "linecolor": "white",
            "ticks": ""
           },
           "bgcolor": "#E5ECF6",
           "caxis": {
            "gridcolor": "white",
            "linecolor": "white",
            "ticks": ""
           }
          },
          "title": {
           "x": 0.05
          },
          "xaxis": {
           "automargin": true,
           "gridcolor": "white",
           "linecolor": "white",
           "ticks": "",
           "title": {
            "standoff": 15
           },
           "zerolinecolor": "white",
           "zerolinewidth": 2
          },
          "yaxis": {
           "automargin": true,
           "gridcolor": "white",
           "linecolor": "white",
           "ticks": "",
           "title": {
            "standoff": 15
           },
           "zerolinecolor": "white",
           "zerolinewidth": 2
          }
         }
        },
        "title": {
         "text": "Distribución Número de número de bases por distrito"
        }
       }
      }
     },
     "metadata": {},
     "output_type": "display_data"
    }
   ],
   "source": [
    "count_distrito = bases[\"Distrito\"].value_counts() \n",
    "labels_distrito = count_distrito.index\n",
    "\n",
    "fig = px.pie(bases, values=count_distrito, names=labels_distrito, color=labels_distrito,\n",
    "             color_discrete_sequence=px.colors.sequential.RdBu)\n",
    "\n",
    "fig.update_layout(title = \"Distribución Número de número de bases por distrito\")\n",
    "fig.show()"
   ]
  },
  {
   "cell_type": "markdown",
   "metadata": {},
   "source": [
    "**Barrio distribution**: irregular distribution between neighborhoods. Number of bases range from 1 to 14 by neigborhood "
   ]
  },
  {
   "cell_type": "code",
   "execution_count": 10,
   "metadata": {},
   "outputs": [
    {
     "data": {
      "application/vnd.plotly.v1+json": {
       "config": {
        "plotlyServerURL": "https://plot.ly"
       },
       "data": [
        {
         "showlegend": false,
         "type": "bar",
         "x": [
          "04-01 RECOLETOS",
          "01-05 UNIVERSIDAD",
          "05-01 EL VISO",
          "01-04 JUSTICIA",
          "01-02 EMBAJADORES",
          "01-06 SOL",
          "01-01 PALACIO",
          "03-05 JERÓNIMOS",
          "07-05 RÍOS ROSAS",
          "04-02 GOYA",
          "04-04 GUINDALERA",
          "02-02 ACACIAS",
          "09-02 ARGÜELLES",
          "01-03 CORTES",
          "06-02 CUATRO CAMINOS",
          "07-01 GAZTAMBIDE",
          "09-03 CIUDAD UNIVERSITARIA",
          "04-06 CASTELLANA",
          "02-06 PALOS DE MOGUER",
          "07-04 ALMAGRO",
          "02-07 ATOCHA",
          "03-04 IBIZA",
          "15-01 VENTAS",
          "02-05 DELICIAS",
          "05-05 NUEVA ESPAÑA",
          "04-05 LISTA",
          "07-02 ARAPILES",
          "03-06 NIÑO JESÚS",
          "09-01 CASA DE CAMPO",
          "05-04 HISPANOAMÉRICA",
          "07-03 TRAFALGAR",
          "03-03 ESTRELLA",
          "15-05 SAN PASCUAL",
          "03-01 PACÍFICO",
          "06-01 BELLAS VISTAS",
          "07-06 VALLEHERMOSO",
          "05-06 CASTILLA",
          "04-03 FUENTE DEL BERRO",
          "15-04 CONCEPCIÓN",
          "12-05 MOSCARDÓ",
          "13-06 NUMANCIA",
          "14-04 MEDIA LEGUA",
          "08-05 LA PAZ",
          "10-02 PUERTA DEL ÁNGEL",
          "03-02 ADELFAS",
          "02-03 CHOPERA",
          "02-01 IMPERIAL",
          "13-02 SAN DIEGO",
          "05-02 PROSPERIDAD",
          "06-06 BERRUGUETE",
          "11-03 SAN ISIDRO",
          "06-05 VALDEACEDERAS",
          "15-02 PUEBLO NUEVO",
          "06-03 CASTILLEJOS",
          "05-03 CIUDAD JARDÍN",
          "14-03 MARROQUINA",
          "14-01 PAVONES",
          "10-01 CÁRMENES",
          "11-01 COMILLA",
          "02-04 LEGAZPI"
         ],
         "y": [
          14,
          12,
          12,
          11,
          11,
          10,
          10,
          9,
          9,
          9,
          8,
          8,
          7,
          7,
          7,
          6,
          6,
          5,
          5,
          5,
          4,
          4,
          4,
          4,
          4,
          4,
          4,
          4,
          4,
          4,
          3,
          3,
          3,
          3,
          3,
          3,
          3,
          3,
          2,
          2,
          2,
          2,
          2,
          2,
          2,
          2,
          2,
          2,
          2,
          2,
          1,
          1,
          1,
          1,
          1,
          1,
          1,
          1,
          1,
          1
         ]
        }
       ],
       "layout": {
        "template": {
         "data": {
          "bar": [
           {
            "error_x": {
             "color": "#2a3f5f"
            },
            "error_y": {
             "color": "#2a3f5f"
            },
            "marker": {
             "line": {
              "color": "#E5ECF6",
              "width": 0.5
             },
             "pattern": {
              "fillmode": "overlay",
              "size": 10,
              "solidity": 0.2
             }
            },
            "type": "bar"
           }
          ],
          "barpolar": [
           {
            "marker": {
             "line": {
              "color": "#E5ECF6",
              "width": 0.5
             },
             "pattern": {
              "fillmode": "overlay",
              "size": 10,
              "solidity": 0.2
             }
            },
            "type": "barpolar"
           }
          ],
          "carpet": [
           {
            "aaxis": {
             "endlinecolor": "#2a3f5f",
             "gridcolor": "white",
             "linecolor": "white",
             "minorgridcolor": "white",
             "startlinecolor": "#2a3f5f"
            },
            "baxis": {
             "endlinecolor": "#2a3f5f",
             "gridcolor": "white",
             "linecolor": "white",
             "minorgridcolor": "white",
             "startlinecolor": "#2a3f5f"
            },
            "type": "carpet"
           }
          ],
          "choropleth": [
           {
            "colorbar": {
             "outlinewidth": 0,
             "ticks": ""
            },
            "type": "choropleth"
           }
          ],
          "contour": [
           {
            "colorbar": {
             "outlinewidth": 0,
             "ticks": ""
            },
            "colorscale": [
             [
              0,
              "#0d0887"
             ],
             [
              0.1111111111111111,
              "#46039f"
             ],
             [
              0.2222222222222222,
              "#7201a8"
             ],
             [
              0.3333333333333333,
              "#9c179e"
             ],
             [
              0.4444444444444444,
              "#bd3786"
             ],
             [
              0.5555555555555556,
              "#d8576b"
             ],
             [
              0.6666666666666666,
              "#ed7953"
             ],
             [
              0.7777777777777778,
              "#fb9f3a"
             ],
             [
              0.8888888888888888,
              "#fdca26"
             ],
             [
              1,
              "#f0f921"
             ]
            ],
            "type": "contour"
           }
          ],
          "contourcarpet": [
           {
            "colorbar": {
             "outlinewidth": 0,
             "ticks": ""
            },
            "type": "contourcarpet"
           }
          ],
          "heatmap": [
           {
            "colorbar": {
             "outlinewidth": 0,
             "ticks": ""
            },
            "colorscale": [
             [
              0,
              "#0d0887"
             ],
             [
              0.1111111111111111,
              "#46039f"
             ],
             [
              0.2222222222222222,
              "#7201a8"
             ],
             [
              0.3333333333333333,
              "#9c179e"
             ],
             [
              0.4444444444444444,
              "#bd3786"
             ],
             [
              0.5555555555555556,
              "#d8576b"
             ],
             [
              0.6666666666666666,
              "#ed7953"
             ],
             [
              0.7777777777777778,
              "#fb9f3a"
             ],
             [
              0.8888888888888888,
              "#fdca26"
             ],
             [
              1,
              "#f0f921"
             ]
            ],
            "type": "heatmap"
           }
          ],
          "heatmapgl": [
           {
            "colorbar": {
             "outlinewidth": 0,
             "ticks": ""
            },
            "colorscale": [
             [
              0,
              "#0d0887"
             ],
             [
              0.1111111111111111,
              "#46039f"
             ],
             [
              0.2222222222222222,
              "#7201a8"
             ],
             [
              0.3333333333333333,
              "#9c179e"
             ],
             [
              0.4444444444444444,
              "#bd3786"
             ],
             [
              0.5555555555555556,
              "#d8576b"
             ],
             [
              0.6666666666666666,
              "#ed7953"
             ],
             [
              0.7777777777777778,
              "#fb9f3a"
             ],
             [
              0.8888888888888888,
              "#fdca26"
             ],
             [
              1,
              "#f0f921"
             ]
            ],
            "type": "heatmapgl"
           }
          ],
          "histogram": [
           {
            "marker": {
             "pattern": {
              "fillmode": "overlay",
              "size": 10,
              "solidity": 0.2
             }
            },
            "type": "histogram"
           }
          ],
          "histogram2d": [
           {
            "colorbar": {
             "outlinewidth": 0,
             "ticks": ""
            },
            "colorscale": [
             [
              0,
              "#0d0887"
             ],
             [
              0.1111111111111111,
              "#46039f"
             ],
             [
              0.2222222222222222,
              "#7201a8"
             ],
             [
              0.3333333333333333,
              "#9c179e"
             ],
             [
              0.4444444444444444,
              "#bd3786"
             ],
             [
              0.5555555555555556,
              "#d8576b"
             ],
             [
              0.6666666666666666,
              "#ed7953"
             ],
             [
              0.7777777777777778,
              "#fb9f3a"
             ],
             [
              0.8888888888888888,
              "#fdca26"
             ],
             [
              1,
              "#f0f921"
             ]
            ],
            "type": "histogram2d"
           }
          ],
          "histogram2dcontour": [
           {
            "colorbar": {
             "outlinewidth": 0,
             "ticks": ""
            },
            "colorscale": [
             [
              0,
              "#0d0887"
             ],
             [
              0.1111111111111111,
              "#46039f"
             ],
             [
              0.2222222222222222,
              "#7201a8"
             ],
             [
              0.3333333333333333,
              "#9c179e"
             ],
             [
              0.4444444444444444,
              "#bd3786"
             ],
             [
              0.5555555555555556,
              "#d8576b"
             ],
             [
              0.6666666666666666,
              "#ed7953"
             ],
             [
              0.7777777777777778,
              "#fb9f3a"
             ],
             [
              0.8888888888888888,
              "#fdca26"
             ],
             [
              1,
              "#f0f921"
             ]
            ],
            "type": "histogram2dcontour"
           }
          ],
          "mesh3d": [
           {
            "colorbar": {
             "outlinewidth": 0,
             "ticks": ""
            },
            "type": "mesh3d"
           }
          ],
          "parcoords": [
           {
            "line": {
             "colorbar": {
              "outlinewidth": 0,
              "ticks": ""
             }
            },
            "type": "parcoords"
           }
          ],
          "pie": [
           {
            "automargin": true,
            "type": "pie"
           }
          ],
          "scatter": [
           {
            "fillpattern": {
             "fillmode": "overlay",
             "size": 10,
             "solidity": 0.2
            },
            "type": "scatter"
           }
          ],
          "scatter3d": [
           {
            "line": {
             "colorbar": {
              "outlinewidth": 0,
              "ticks": ""
             }
            },
            "marker": {
             "colorbar": {
              "outlinewidth": 0,
              "ticks": ""
             }
            },
            "type": "scatter3d"
           }
          ],
          "scattercarpet": [
           {
            "marker": {
             "colorbar": {
              "outlinewidth": 0,
              "ticks": ""
             }
            },
            "type": "scattercarpet"
           }
          ],
          "scattergeo": [
           {
            "marker": {
             "colorbar": {
              "outlinewidth": 0,
              "ticks": ""
             }
            },
            "type": "scattergeo"
           }
          ],
          "scattergl": [
           {
            "marker": {
             "colorbar": {
              "outlinewidth": 0,
              "ticks": ""
             }
            },
            "type": "scattergl"
           }
          ],
          "scattermapbox": [
           {
            "marker": {
             "colorbar": {
              "outlinewidth": 0,
              "ticks": ""
             }
            },
            "type": "scattermapbox"
           }
          ],
          "scatterpolar": [
           {
            "marker": {
             "colorbar": {
              "outlinewidth": 0,
              "ticks": ""
             }
            },
            "type": "scatterpolar"
           }
          ],
          "scatterpolargl": [
           {
            "marker": {
             "colorbar": {
              "outlinewidth": 0,
              "ticks": ""
             }
            },
            "type": "scatterpolargl"
           }
          ],
          "scatterternary": [
           {
            "marker": {
             "colorbar": {
              "outlinewidth": 0,
              "ticks": ""
             }
            },
            "type": "scatterternary"
           }
          ],
          "surface": [
           {
            "colorbar": {
             "outlinewidth": 0,
             "ticks": ""
            },
            "colorscale": [
             [
              0,
              "#0d0887"
             ],
             [
              0.1111111111111111,
              "#46039f"
             ],
             [
              0.2222222222222222,
              "#7201a8"
             ],
             [
              0.3333333333333333,
              "#9c179e"
             ],
             [
              0.4444444444444444,
              "#bd3786"
             ],
             [
              0.5555555555555556,
              "#d8576b"
             ],
             [
              0.6666666666666666,
              "#ed7953"
             ],
             [
              0.7777777777777778,
              "#fb9f3a"
             ],
             [
              0.8888888888888888,
              "#fdca26"
             ],
             [
              1,
              "#f0f921"
             ]
            ],
            "type": "surface"
           }
          ],
          "table": [
           {
            "cells": {
             "fill": {
              "color": "#EBF0F8"
             },
             "line": {
              "color": "white"
             }
            },
            "header": {
             "fill": {
              "color": "#C8D4E3"
             },
             "line": {
              "color": "white"
             }
            },
            "type": "table"
           }
          ]
         },
         "layout": {
          "annotationdefaults": {
           "arrowcolor": "#2a3f5f",
           "arrowhead": 0,
           "arrowwidth": 1
          },
          "autotypenumbers": "strict",
          "coloraxis": {
           "colorbar": {
            "outlinewidth": 0,
            "ticks": ""
           }
          },
          "colorscale": {
           "diverging": [
            [
             0,
             "#8e0152"
            ],
            [
             0.1,
             "#c51b7d"
            ],
            [
             0.2,
             "#de77ae"
            ],
            [
             0.3,
             "#f1b6da"
            ],
            [
             0.4,
             "#fde0ef"
            ],
            [
             0.5,
             "#f7f7f7"
            ],
            [
             0.6,
             "#e6f5d0"
            ],
            [
             0.7,
             "#b8e186"
            ],
            [
             0.8,
             "#7fbc41"
            ],
            [
             0.9,
             "#4d9221"
            ],
            [
             1,
             "#276419"
            ]
           ],
           "sequential": [
            [
             0,
             "#0d0887"
            ],
            [
             0.1111111111111111,
             "#46039f"
            ],
            [
             0.2222222222222222,
             "#7201a8"
            ],
            [
             0.3333333333333333,
             "#9c179e"
            ],
            [
             0.4444444444444444,
             "#bd3786"
            ],
            [
             0.5555555555555556,
             "#d8576b"
            ],
            [
             0.6666666666666666,
             "#ed7953"
            ],
            [
             0.7777777777777778,
             "#fb9f3a"
            ],
            [
             0.8888888888888888,
             "#fdca26"
            ],
            [
             1,
             "#f0f921"
            ]
           ],
           "sequentialminus": [
            [
             0,
             "#0d0887"
            ],
            [
             0.1111111111111111,
             "#46039f"
            ],
            [
             0.2222222222222222,
             "#7201a8"
            ],
            [
             0.3333333333333333,
             "#9c179e"
            ],
            [
             0.4444444444444444,
             "#bd3786"
            ],
            [
             0.5555555555555556,
             "#d8576b"
            ],
            [
             0.6666666666666666,
             "#ed7953"
            ],
            [
             0.7777777777777778,
             "#fb9f3a"
            ],
            [
             0.8888888888888888,
             "#fdca26"
            ],
            [
             1,
             "#f0f921"
            ]
           ]
          },
          "colorway": [
           "#636efa",
           "#EF553B",
           "#00cc96",
           "#ab63fa",
           "#FFA15A",
           "#19d3f3",
           "#FF6692",
           "#B6E880",
           "#FF97FF",
           "#FECB52"
          ],
          "font": {
           "color": "#2a3f5f"
          },
          "geo": {
           "bgcolor": "white",
           "lakecolor": "white",
           "landcolor": "#E5ECF6",
           "showlakes": true,
           "showland": true,
           "subunitcolor": "white"
          },
          "hoverlabel": {
           "align": "left"
          },
          "hovermode": "closest",
          "mapbox": {
           "style": "light"
          },
          "paper_bgcolor": "white",
          "plot_bgcolor": "#E5ECF6",
          "polar": {
           "angularaxis": {
            "gridcolor": "white",
            "linecolor": "white",
            "ticks": ""
           },
           "bgcolor": "#E5ECF6",
           "radialaxis": {
            "gridcolor": "white",
            "linecolor": "white",
            "ticks": ""
           }
          },
          "scene": {
           "xaxis": {
            "backgroundcolor": "#E5ECF6",
            "gridcolor": "white",
            "gridwidth": 2,
            "linecolor": "white",
            "showbackground": true,
            "ticks": "",
            "zerolinecolor": "white"
           },
           "yaxis": {
            "backgroundcolor": "#E5ECF6",
            "gridcolor": "white",
            "gridwidth": 2,
            "linecolor": "white",
            "showbackground": true,
            "ticks": "",
            "zerolinecolor": "white"
           },
           "zaxis": {
            "backgroundcolor": "#E5ECF6",
            "gridcolor": "white",
            "gridwidth": 2,
            "linecolor": "white",
            "showbackground": true,
            "ticks": "",
            "zerolinecolor": "white"
           }
          },
          "shapedefaults": {
           "line": {
            "color": "#2a3f5f"
           }
          },
          "ternary": {
           "aaxis": {
            "gridcolor": "white",
            "linecolor": "white",
            "ticks": ""
           },
           "baxis": {
            "gridcolor": "white",
            "linecolor": "white",
            "ticks": ""
           },
           "bgcolor": "#E5ECF6",
           "caxis": {
            "gridcolor": "white",
            "linecolor": "white",
            "ticks": ""
           }
          },
          "title": {
           "x": 0.05
          },
          "xaxis": {
           "automargin": true,
           "gridcolor": "white",
           "linecolor": "white",
           "ticks": "",
           "title": {
            "standoff": 15
           },
           "zerolinecolor": "white",
           "zerolinewidth": 2
          },
          "yaxis": {
           "automargin": true,
           "gridcolor": "white",
           "linecolor": "white",
           "ticks": "",
           "title": {
            "standoff": 15
           },
           "zerolinecolor": "white",
           "zerolinewidth": 2
          }
         }
        },
        "title": {
         "text": "Distribución Número de número de bases por barrio"
        },
        "xaxis": {
         "title": {
          "text": "Barrio"
         }
        },
        "yaxis": {
         "title": {
          "text": "Número absoluto de estaciones"
         }
        }
       }
      }
     },
     "metadata": {},
     "output_type": "display_data"
    }
   ],
   "source": [
    "count_barrio = bases[\"Barrio\"].value_counts() \n",
    "labels_barrio = count_barrio.index\n",
    "\n",
    "fig = go.Figure()\n",
    "fig.add_trace(\n",
    "    go.Bar(\n",
    "        x = labels_barrio,\n",
    "        y = count_barrio,\n",
    "        showlegend = False\n",
    "    )\n",
    ")\n",
    "fig.update_layout(title = \"Distribución Número de número de bases por barrio\",\n",
    "                  xaxis_title = \"Barrio\", yaxis_title = \"Número absoluto de estaciones\")\n",
    "fig.show()"
   ]
  },
  {
   "cell_type": "markdown",
   "metadata": {},
   "source": [
    "**Location of Bases - Latitude and Longitude**: all bases located in Madrid. Correct data."
   ]
  },
  {
   "cell_type": "code",
   "execution_count": 15,
   "metadata": {},
   "outputs": [
    {
     "data": {
      "application/vnd.plotly.v1+json": {
       "config": {
        "plotlyServerURL": "https://plot.ly"
       },
       "data": [
        {
         "hovertemplate": "Distrito=01  CENTRO<br>size=%{marker.size}<br>Latitud=%{lat}<br>Longitud=%{lon}<extra></extra>",
         "lat": [
          40.4171107,
          40.4172132,
          40.42058,
          40.4285905,
          40.428362,
          40.4241633,
          40.4252161,
          40.4156134,
          40.4254027,
          40.4270517,
          40.4285271,
          40.4273652,
          40.4262937,
          40.4229421,
          40.4231675,
          40.4209206,
          40.4218997,
          40.4191989,
          40.4191858,
          40.4201452,
          40.4202137,
          40.417906,
          40.4173416,
          40.4172593,
          40.4238308,
          40.4132831,
          40.4180695,
          40.416244,
          40.4193355,
          40.4163446,
          40.4148511,
          40.4164757,
          40.4144117,
          40.4141792,
          40.4168229,
          40.4108606,
          40.4112961,
          40.4112662,
          40.4137865,
          40.412228,
          40.4107714,
          40.4100889,
          40.4098162,
          40.4069486,
          40.4054473,
          40.4060497,
          40.4083102,
          40.4077234,
          40.4145181,
          40.4082802,
          40.4266233,
          40.4240716,
          40.418484,
          40.4296363,
          40.4222601,
          40.4254802,
          40.410829,
          40.4185779,
          40.4139396,
          40.4197538,
          40.4206168
         ],
         "legendgroup": "01  CENTRO",
         "lon": [
          -3.701998,
          -3.7015636,
          -3.7056739,
          -3.7026739,
          -3.7020743,
          -3.6984093,
          -3.6977399,
          -3.7094093,
          -3.6920816,
          -3.7036192,
          -3.7062202,
          -3.7104727,
          -3.7073611,
          -3.7074955,
          -3.7041859,
          -3.6995679,
          -3.6953951,
          -3.6952095,
          -3.6952901,
          -3.7064995,
          -3.7082901,
          -3.7105866,
          -3.7059978,
          -3.7060243,
          -3.6945421,
          -3.6955803,
          -3.6983662,
          -3.6958008,
          -3.7115428,
          -3.706625,
          -3.7061355,
          -3.7032096,
          -3.7035044,
          -3.7103676,
          -3.711764,
          -3.7141234,
          -3.7114443,
          -3.7090043,
          -3.7047463,
          -3.6989898,
          -3.6982294,
          -3.7025446,
          -3.7039138,
          -3.7111381,
          -3.7020997,
          -3.6992427,
          -3.69322,
          -3.6935934,
          -3.7007838,
          -3.7007295,
          -3.7003435,
          -3.7019295,
          -3.7032875,
          -3.7128181,
          -3.6979458,
          -3.7041167,
          -3.6931349,
          -3.6933298,
          -3.7133382,
          -3.702631,
          -3.7025369
         ],
         "marker": {
          "color": "#636efa",
          "size": [
           15,
           15,
           12,
           12,
           13.5,
           12,
           10.5,
           12,
           12,
           12,
           12,
           12,
           10.5,
           10.5,
           12,
           12,
           12,
           12,
           3,
           12,
           12,
           12,
           12,
           12,
           12,
           13.5,
           12,
           12,
           13.5,
           13.5,
           9,
           10.5,
           12,
           12,
           12,
           12,
           12,
           13.5,
           12,
           9,
           12,
           12,
           10.5,
           10.5,
           12,
           12,
           12,
           13.5,
           12,
           12,
           10.5,
           12,
           12,
           12,
           12,
           10.5,
           12,
           10.5,
           12,
           13.5,
           12
          ],
          "sizemode": "area",
          "sizeref": 0.0375
         },
         "mode": "markers",
         "name": "01  CENTRO",
         "showlegend": true,
         "subplot": "mapbox",
         "type": "scattermapbox"
        },
        {
         "hovertemplate": "Distrito=07  CHAMBERÍ<br>size=%{marker.size}<br>Latitud=%{lat}<br>Longitud=%{lon}<extra></extra>",
         "lat": [
          40.4303224,
          40.4277143,
          40.4335742,
          40.433982,
          40.429524,
          40.4306386,
          40.4308173,
          40.4353128,
          40.4345672,
          40.4339055,
          40.4390329,
          40.4390391,
          40.4384684,
          40.4417195,
          40.4417543,
          40.4463889,
          40.444027,
          40.4414845,
          40.4456884,
          40.4354253,
          40.4331172,
          40.4343244,
          40.4336617,
          40.4387323,
          40.4411686,
          40.4417547,
          40.4398513,
          40.4364656,
          40.436026,
          40.4383672
         ],
         "legendgroup": "07  CHAMBERÍ",
         "lon": [
          -3.7072122,
          -3.6953067,
          -3.7174896,
          -3.7177783,
          -3.6962626,
          -3.7134685,
          -3.6993182,
          -3.6948316,
          -3.7017424,
          -3.7083987,
          -3.7155506,
          -3.7156915,
          -3.6982818,
          -3.7017071,
          -3.704022,
          -3.7035911,
          -3.6955114,
          -3.6928901,
          -3.6915818,
          -3.6892902,
          -3.6915713,
          -3.7148406,
          -3.704671,
          -3.7038161,
          -3.7080969,
          -3.7144239,
          -3.7175468,
          -3.7101726,
          -3.699252,
          -3.692843
         ],
         "marker": {
          "color": "#EF553B",
          "size": [
           9,
           12,
           12,
           12,
           12,
           12,
           12,
           12,
           12,
           12,
           12,
           1.5,
           12,
           10,
           12,
           12,
           12,
           12,
           12,
           6,
           12,
           13.5,
           12,
           12,
           12,
           12,
           12,
           12,
           12,
           12
          ],
          "sizemode": "area",
          "sizeref": 0.0375
         },
         "mode": "markers",
         "name": "07  CHAMBERÍ",
         "showlegend": true,
         "subplot": "mapbox",
         "type": "scattermapbox"
        },
        {
         "hovertemplate": "Distrito=09  MONCLOA-ARAVACA<br>size=%{marker.size}<br>Latitud=%{lat}<br>Longitud=%{lon}<extra></extra>",
         "lat": [
          40.4259913,
          40.4347654,
          40.4326267,
          40.4277472,
          40.4278211,
          40.4253802,
          40.4240632,
          40.4241889,
          40.4309046,
          40.4221372,
          40.4220566,
          40.4463599,
          40.438804,
          40.449019,
          40.4444176,
          40.4482316,
          40.4505032
         ],
         "legendgroup": "09  MONCLOA-ARAVACA",
         "lon": [
          -3.7133768,
          -3.7201316,
          -3.7248727,
          -3.7207145,
          -3.7174151,
          -3.7169626,
          -3.7117588,
          -3.7118457,
          -3.7189152,
          -3.7220624,
          -3.7219659,
          -3.7138353,
          -3.73029,
          -3.7273004,
          -3.727031,
          -3.7272637,
          -3.7292576
         ],
         "marker": {
          "color": "#00cc96",
          "size": [
           12,
           12,
           12,
           12,
           12,
           12,
           12,
           12,
           12,
           12,
           1.5,
           12,
           12,
           12,
           12,
           12,
           12
          ],
          "sizemode": "area",
          "sizeref": 0.0375
         },
         "mode": "markers",
         "name": "09  MONCLOA-ARAVACA",
         "showlegend": true,
         "subplot": "mapbox",
         "type": "scattermapbox"
        },
        {
         "hovertemplate": "Distrito=02  ARGANZUELA<br>size=%{marker.size}<br>Latitud=%{lat}<br>Longitud=%{lon}<extra></extra>",
         "lat": [
          40.4054496,
          40.4046233,
          40.4074122,
          40.407626,
          40.4007959,
          40.4014567,
          40.4030362,
          40.4018356,
          40.4035176,
          40.4036349,
          40.3971366,
          40.3928841,
          40.4137331,
          40.4045828,
          40.401578,
          40.4011039,
          40.3997626,
          40.4008683,
          40.3981757,
          40.397417,
          40.3962687,
          40.3942411,
          40.3915019,
          40.3941252,
          40.3889853,
          40.4074236
         ],
         "legendgroup": "02  ARGANZUELA",
         "lon": [
          -3.7071178,
          -3.702755,
          -3.6904816,
          -3.6907238,
          -3.688135,
          -3.6865777,
          -3.6947791,
          -3.6986046,
          -3.7107559,
          -3.7064372,
          -3.6944851,
          -3.6976134,
          -3.7176456,
          -3.6959159,
          -3.713846,
          -3.704403,
          -3.6984459,
          -3.6935448,
          -3.7023615,
          -3.7063771,
          -3.6983033,
          -3.6936302,
          -3.694087,
          -3.6759244,
          -3.6911834,
          -3.7171449
         ],
         "marker": {
          "color": "#ab63fa",
          "size": [
           12,
           12,
           12,
           13.5,
           12,
           12,
           12,
           12,
           12,
           10.5,
           12,
           13.5,
           12,
           12,
           12,
           12,
           12,
           12,
           12,
           13.5,
           10.5,
           12,
           12,
           12,
           12,
           12
          ],
          "sizemode": "area",
          "sizeref": 0.0375
         },
         "mode": "markers",
         "name": "02  ARGANZUELA",
         "showlegend": true,
         "subplot": "mapbox",
         "type": "scattermapbox"
        },
        {
         "hovertemplate": "Distrito=03  RETIRO<br>size=%{marker.size}<br>Latitud=%{lat}<br>Longitud=%{lon}<extra></extra>",
         "lat": [
          40.4194508,
          40.4214379,
          40.4212986,
          40.4178926,
          40.4166859,
          40.412781,
          40.4100609,
          40.4152203,
          40.4160054,
          40.415721,
          40.411463,
          40.4117601,
          40.4083387,
          40.4072851,
          40.4063347,
          40.4005704,
          40.4050482,
          40.4095758,
          40.4084793,
          40.4132589,
          40.4033695,
          40.4211415,
          40.4030242,
          40.4181748,
          40.4187145
         ],
         "legendgroup": "03  RETIRO",
         "lon": [
          -3.6881994,
          -3.675206,
          -3.6724223,
          -3.6706508,
          -3.6893825,
          -3.6911649,
          -3.6888669,
          -3.6777994,
          -3.674021,
          -3.669623,
          -3.669099,
          -3.6765768,
          -3.6784149,
          -3.6751544,
          -3.6707742,
          -3.6745783,
          -3.6805524,
          -3.6919663,
          -3.669683,
          -3.6745339,
          -3.6726923,
          -3.6799299,
          -3.6788939,
          -3.67664,
          -3.6655023
         ],
         "marker": {
          "color": "#FFA15A",
          "size": [
           12,
           12,
           12,
           12,
           12,
           10.5,
           13.5,
           12,
           12,
           12,
           12,
           12,
           12,
           12,
           11,
           12,
           12,
           12,
           12,
           12,
           12,
           13.5,
           12,
           13.5,
           12
          ],
          "sizemode": "area",
          "sizeref": 0.0375
         },
         "mode": "markers",
         "name": "03  RETIRO",
         "showlegend": true,
         "subplot": "mapbox",
         "type": "scattermapbox"
        },
        {
         "hovertemplate": "Distrito=04  SALAMANCA<br>size=%{marker.size}<br>Latitud=%{lat}<br>Longitud=%{lon}<extra></extra>",
         "lat": [
          40.4276717,
          40.4312077,
          40.4272628,
          40.4250878,
          40.4250791,
          40.4261113,
          40.4262237,
          40.4256984,
          40.4233686,
          40.4226634,
          40.4220516,
          40.4224846,
          40.4241911,
          40.4261048,
          40.4247843,
          40.4231223,
          40.4211552,
          40.4303733,
          40.4267658,
          40.4270684,
          40.4248642,
          40.4250085,
          40.4215952,
          40.4274425,
          40.4301281,
          40.4335262,
          40.434616,
          40.4323192,
          40.4297717,
          40.4256358,
          40.4260023,
          40.4250682,
          40.429069,
          40.4301353,
          40.4343761,
          40.4346168,
          40.431855,
          40.4325204,
          40.4371986,
          40.4367138,
          40.4377568,
          40.4394662,
          40.4351648
         ],
         "legendgroup": "04  SALAMANCA",
         "lon": [
          -3.6835631,
          -3.6837471,
          -3.6751716,
          -3.6837297,
          -3.6835613,
          -3.6788203,
          -3.6864821,
          -3.6894124,
          -3.6907044,
          -3.6869914,
          -3.6820471,
          -3.6801515,
          -3.6754079,
          -3.6739638,
          -3.6738777,
          -3.6694246,
          -3.6840806,
          -3.6865351,
          -3.6895792,
          -3.6874745,
          -3.6878868,
          -3.6878604,
          -3.6884243,
          -3.670653,
          -3.6815253,
          -3.6880402,
          -3.6782355,
          -3.6754628,
          -3.671401,
          -3.6694506,
          -3.6653095,
          -3.661533,
          -3.6782783,
          -3.6638407,
          -3.6834711,
          -3.6740365,
          -3.6714315,
          -3.665644,
          -3.6771947,
          -3.6609886,
          -3.6677796,
          -3.6629058,
          -3.6700894
         ],
         "marker": {
          "color": "#19d3f3",
          "size": [
           12,
           12,
           12,
           12,
           3,
           12,
           12,
           12,
           10.5,
           12,
           13.5,
           13.5,
           12,
           12,
           12,
           12,
           12,
           12,
           10.5,
           12,
           9,
           9,
           12,
           13.5,
           12,
           12,
           12,
           12,
           12,
           12,
           12,
           12,
           12,
           12,
           12,
           9,
           13.5,
           12,
           12,
           12,
           12,
           12,
           12
          ],
          "sizemode": "area",
          "sizeref": 0.0375
         },
         "mode": "markers",
         "name": "04  SALAMANCA",
         "showlegend": true,
         "subplot": "mapbox",
         "type": "scattermapbox"
        },
        {
         "hovertemplate": "Distrito=06  TETUÁN<br>size=%{marker.size}<br>Latitud=%{lat}<br>Longitud=%{lon}<extra></extra>",
         "lat": [
          40.4471673,
          40.4488617,
          40.4527163,
          40.45235,
          40.4547769,
          40.4572863,
          40.4592406,
          40.4476606,
          40.4535024,
          40.4607994,
          40.4630291,
          40.451395,
          40.4562183,
          40.4567345
         ],
         "legendgroup": "06  TETUÁN",
         "lon": [
          -3.7000292,
          -3.6952023,
          -3.6989497,
          -3.6930894,
          -3.6946736,
          -3.700864,
          -3.6913229,
          -3.7041702,
          -3.7033408,
          -3.6990499,
          -3.6973991,
          -3.7105146,
          -3.6932474,
          -3.7079276
         ],
         "marker": {
          "color": "#FF6692",
          "size": [
           12,
           12,
           12,
           12,
           12,
           12,
           12,
           12,
           12,
           12,
           9,
           12,
           12,
           12
          ],
          "sizemode": "area",
          "sizeref": 0.0375
         },
         "mode": "markers",
         "name": "06  TETUÁN",
         "showlegend": true,
         "subplot": "mapbox",
         "type": "scattermapbox"
        },
        {
         "hovertemplate": "Distrito=05  CHAMARTÍN<br>size=%{marker.size}<br>Latitud=%{lat}<br>Longitud=%{lon}<extra></extra>",
         "lat": [
          40.4452833,
          40.4454958,
          40.4393558,
          40.438628,
          40.4385198,
          40.4442406,
          40.4483353,
          40.4510203,
          40.4498448,
          40.4491125,
          40.459282,
          40.45862,
          40.4542549,
          40.4571995,
          40.4392483,
          40.4440957,
          40.4515501,
          40.4665125,
          40.4656872,
          40.4794159,
          40.4408151,
          40.444183,
          40.4715645,
          40.455606,
          40.4610436,
          40.4637286
         ],
         "legendgroup": "05  CHAMARTÍN",
         "lon": [
          -3.6908127,
          -3.6852925,
          -3.6904495,
          -3.6829045,
          -3.6829127,
          -3.67879,
          -3.6795811,
          -3.6816993,
          -3.6878512,
          -3.690541,
          -3.6893305,
          -3.6847049,
          -3.6837348,
          -3.6766176,
          -3.6754913,
          -3.6750918,
          -3.6780252,
          -3.6886852,
          -3.6887875,
          -3.6852959,
          -3.6861,
          -3.6668532,
          -3.6839094,
          -3.688443,
          -3.6765549,
          -3.6851815
         ],
         "marker": {
          "color": "#B6E880",
          "size": [
           12,
           12,
           12,
           12,
           1.5,
           9,
           12,
           12,
           12,
           12,
           12,
           12,
           12,
           12,
           12,
           12,
           12,
           12,
           12,
           12,
           12,
           12,
           12,
           12,
           12,
           12
          ],
          "sizemode": "area",
          "sizeref": 0.0375
         },
         "mode": "markers",
         "name": "05  CHAMARTÍN",
         "showlegend": true,
         "subplot": "mapbox",
         "type": "scattermapbox"
        },
        {
         "hovertemplate": "Distrito=13  PUENTE DE VALLECAS<br>size=%{marker.size}<br>Latitud=%{lat}<br>Longitud=%{lon}<extra></extra>",
         "lat": [
          40.3979341,
          40.4026388,
          40.3991986,
          40.3940355
         ],
         "legendgroup": "13  PUENTE DE VALLECAS",
         "lon": [
          -3.6690602,
          -3.6601933,
          -3.6606789,
          -3.6661421
         ],
         "marker": {
          "color": "#FF97FF",
          "size": [
           12,
           12,
           12,
           12
          ],
          "sizemode": "area",
          "sizeref": 0.0375
         },
         "mode": "markers",
         "name": "13  PUENTE DE VALLECAS",
         "showlegend": true,
         "subplot": "mapbox",
         "type": "scattermapbox"
        },
        {
         "hovertemplate": "Distrito=15  CIUDAD LINEAL<br>size=%{marker.size}<br>Latitud=%{lat}<br>Longitud=%{lon}<extra></extra>",
         "lat": [
          40.4311658,
          40.4350206,
          40.4434012,
          40.4296903,
          40.4370782,
          40.4436986,
          40.439748,
          40.4328362,
          40.4229144,
          40.426163
         ],
         "legendgroup": "15  CIUDAD LINEAL",
         "lon": [
          -3.6589062,
          -3.6555431,
          -3.6569597,
          -3.6409697,
          -3.6486507,
          -3.6491034,
          -3.6558172,
          -3.6485701,
          -3.655633,
          -3.651125
         ],
         "marker": {
          "color": "#FECB52",
          "size": [
           13.5,
           12,
           12,
           12,
           12,
           12,
           12,
           12,
           12,
           12
          ],
          "sizemode": "area",
          "sizeref": 0.0375
         },
         "mode": "markers",
         "name": "15  CIUDAD LINEAL",
         "showlegend": true,
         "subplot": "mapbox",
         "type": "scattermapbox"
        },
        {
         "hovertemplate": "Distrito=11  CARABANCHEL<br>size=%{marker.size}<br>Latitud=%{lat}<br>Longitud=%{lon}<extra></extra>",
         "lat": [
          40.3981605,
          40.3943842
         ],
         "legendgroup": "11  CARABANCHEL",
         "lon": [
          -3.7165313,
          -3.7080437
         ],
         "marker": {
          "color": "#636efa",
          "size": [
           12,
           12
          ],
          "sizemode": "area",
          "sizeref": 0.0375
         },
         "mode": "markers",
         "name": "11  CARABANCHEL",
         "showlegend": true,
         "subplot": "mapbox",
         "type": "scattermapbox"
        },
        {
         "hovertemplate": "Distrito=12  USERA<br>size=%{marker.size}<br>Latitud=%{lat}<br>Longitud=%{lon}<extra></extra>",
         "lat": [
          40.3889363,
          40.3917816
         ],
         "legendgroup": "12  USERA",
         "lon": [
          -3.7001575,
          -3.7026887
         ],
         "marker": {
          "color": "#EF553B",
          "size": [
           12,
           12
          ],
          "sizemode": "area",
          "sizeref": 0.0375
         },
         "mode": "markers",
         "name": "12  USERA",
         "showlegend": true,
         "subplot": "mapbox",
         "type": "scattermapbox"
        },
        {
         "hovertemplate": "Distrito=10  LATINA<br>size=%{marker.size}<br>Latitud=%{lat}<br>Longitud=%{lon}<extra></extra>",
         "lat": [
          40.4140528,
          40.4064341,
          40.408882
         ],
         "legendgroup": "10  LATINA",
         "lon": [
          -3.7288948,
          -3.7245226,
          -3.7288262
         ],
         "marker": {
          "color": "#00cc96",
          "size": [
           12,
           12,
           12
          ],
          "sizemode": "area",
          "sizeref": 0.0375
         },
         "mode": "markers",
         "name": "10  LATINA",
         "showlegend": true,
         "subplot": "mapbox",
         "type": "scattermapbox"
        },
        {
         "hovertemplate": "Distrito=08  FUENCARRAL-EL PARDO<br>size=%{marker.size}<br>Latitud=%{lat}<br>Longitud=%{lon}<extra></extra>",
         "lat": [
          40.4810028,
          40.4743243
         ],
         "legendgroup": "08  FUENCARRAL-EL PARDO",
         "lon": [
          -3.6891094,
          -3.6878414
         ],
         "marker": {
          "color": "#ab63fa",
          "size": [
           12,
           12
          ],
          "sizemode": "area",
          "sizeref": 0.0375
         },
         "mode": "markers",
         "name": "08  FUENCARRAL-EL PARDO",
         "showlegend": true,
         "subplot": "mapbox",
         "type": "scattermapbox"
        },
        {
         "hovertemplate": "Distrito=14  MORATALAZ<br>size=%{marker.size}<br>Latitud=%{lat}<br>Longitud=%{lon}<extra></extra>",
         "lat": [
          40.4105519,
          40.4083961,
          40.4061548,
          40.4004579
         ],
         "legendgroup": "14  MORATALAZ",
         "lon": [
          -3.6573999,
          -3.6467783,
          -3.6514264,
          -3.6346859
         ],
         "marker": {
          "color": "#FFA15A",
          "size": [
           12,
           12,
           12,
           12
          ],
          "sizemode": "area",
          "sizeref": 0.0375
         },
         "mode": "markers",
         "name": "14  MORATALAZ",
         "showlegend": true,
         "subplot": "mapbox",
         "type": "scattermapbox"
        },
        {
         "lat": [
          40.4171107,
          40.4172132,
          40.42058,
          40.4303224,
          40.4285905,
          40.428362,
          40.4241633,
          40.4252161,
          40.4277143,
          40.4156134,
          40.4254027,
          40.4270517,
          40.4285271,
          40.4273652,
          40.4259913,
          40.4262937,
          40.4229421,
          40.4231675,
          40.4209206,
          40.4218997,
          40.4191989,
          40.4191858,
          40.4201452,
          40.4202137,
          40.417906,
          40.4173416,
          40.4172593,
          40.4238308,
          40.4132831,
          40.4180695,
          40.416244,
          40.4193355,
          40.4163446,
          40.4148511,
          40.4164757,
          40.4144117,
          40.4141792,
          40.4168229,
          40.4108606,
          40.4112961,
          40.4112662,
          40.4137865,
          40.412228,
          40.4107714,
          40.4100889,
          40.4098162,
          40.4069486,
          40.4054496,
          40.4046233,
          40.4054473,
          40.4060497,
          40.4083102,
          40.4077234,
          40.4145181,
          40.4082802,
          40.4266233,
          40.4240716,
          40.418484,
          40.4296363,
          40.4222601,
          40.4254802,
          40.4194508,
          40.4214379,
          40.4212986,
          40.4178926,
          40.4166859,
          40.410829,
          40.412781,
          40.4100609,
          40.4152203,
          40.4160054,
          40.415721,
          40.411463,
          40.4117601,
          40.4083387,
          40.4072851,
          40.4063347,
          40.4005704,
          40.4050482,
          40.4074122,
          40.407626,
          40.4095758,
          40.4084793,
          40.4132589,
          40.4033695,
          40.4211415,
          40.4185779,
          40.4276717,
          40.4312077,
          40.4272628,
          40.4250878,
          40.4250791,
          40.4261113,
          40.4262237,
          40.4256984,
          40.4233686,
          40.4226634,
          40.4220516,
          40.4224846,
          40.4241911,
          40.4261048,
          40.4247843,
          40.4231223,
          40.4211552,
          40.4303733,
          40.4267658,
          40.4270684,
          40.4248642,
          40.4250085,
          40.4215952,
          40.4274425,
          40.4301281,
          40.4347654,
          40.4335742,
          40.433982,
          40.4326267,
          40.4277472,
          40.4278211,
          40.4253802,
          40.4240632,
          40.4241889,
          40.4309046,
          40.4007959,
          40.4014567,
          40.4030362,
          40.4018356,
          40.429524,
          40.4306386,
          40.4308173,
          40.4353128,
          40.4345672,
          40.4339055,
          40.4390329,
          40.4390391,
          40.4384684,
          40.4417195,
          40.4417543,
          40.4463889,
          40.4471673,
          40.444027,
          40.4414845,
          40.4452833,
          40.4454958,
          40.4456884,
          40.4393558,
          40.438628,
          40.4385198,
          40.4354253,
          40.4335262,
          40.434616,
          40.4323192,
          40.4297717,
          40.4442406,
          40.4483353,
          40.4510203,
          40.4498448,
          40.4491125,
          40.4488617,
          40.4527163,
          40.45235,
          40.4547769,
          40.4572863,
          40.4592406,
          40.459282,
          40.45862,
          40.4542549,
          40.4571995,
          40.4221372,
          40.4220566,
          40.4035176,
          40.4036349,
          40.3971366,
          40.3928841,
          40.4139396,
          40.4137331,
          40.4045828,
          40.401578,
          40.4011039,
          40.3997626,
          40.4008683,
          40.3981757,
          40.397417,
          40.3962687,
          40.3942411,
          40.3915019,
          40.4030242,
          40.3979341,
          40.3941252,
          40.4181748,
          40.4187145,
          40.4256358,
          40.4260023,
          40.4250682,
          40.429069,
          40.4301353,
          40.4311658,
          40.4350206,
          40.4343761,
          40.4346168,
          40.431855,
          40.4325204,
          40.4371986,
          40.4392483,
          40.4440957,
          40.4515501,
          40.4331172,
          40.4343244,
          40.4336617,
          40.4387323,
          40.4411686,
          40.4417547,
          40.4476606,
          40.4535024,
          40.4607994,
          40.4630291,
          40.4665125,
          40.4656872,
          40.4197538,
          40.4206168,
          40.3981605,
          40.3889363,
          40.4434012,
          40.4296903,
          40.4140528,
          40.4810028,
          40.4105519,
          40.4083961,
          40.4061548,
          40.4004579,
          40.3917816,
          40.4064341,
          40.408882,
          40.4026388,
          40.3991986,
          40.3940355,
          40.3943842,
          40.4370782,
          40.4436986,
          40.439748,
          40.4328362,
          40.4229144,
          40.426163,
          40.3889853,
          40.4074236,
          40.451395,
          40.4562183,
          40.4567345,
          40.4367138,
          40.4377568,
          40.4394662,
          40.4351648,
          40.4398513,
          40.4364656,
          40.436026,
          40.4383672,
          40.4743243,
          40.4794159,
          40.4408151,
          40.444183,
          40.4715645,
          40.455606,
          40.4610436,
          40.4637286,
          40.4463599,
          40.438804,
          40.449019,
          40.4444176,
          40.4482316,
          40.4505032
         ],
         "lon": [
          -3.701998,
          -3.7015636,
          -3.7056739,
          -3.7072122,
          -3.7026739,
          -3.7020743,
          -3.6984093,
          -3.6977399,
          -3.6953067,
          -3.7094093,
          -3.6920816,
          -3.7036192,
          -3.7062202,
          -3.7104727,
          -3.7133768,
          -3.7073611,
          -3.7074955,
          -3.7041859,
          -3.6995679,
          -3.6953951,
          -3.6952095,
          -3.6952901,
          -3.7064995,
          -3.7082901,
          -3.7105866,
          -3.7059978,
          -3.7060243,
          -3.6945421,
          -3.6955803,
          -3.6983662,
          -3.6958008,
          -3.7115428,
          -3.706625,
          -3.7061355,
          -3.7032096,
          -3.7035044,
          -3.7103676,
          -3.711764,
          -3.7141234,
          -3.7114443,
          -3.7090043,
          -3.7047463,
          -3.6989898,
          -3.6982294,
          -3.7025446,
          -3.7039138,
          -3.7111381,
          -3.7071178,
          -3.702755,
          -3.7020997,
          -3.6992427,
          -3.69322,
          -3.6935934,
          -3.7007838,
          -3.7007295,
          -3.7003435,
          -3.7019295,
          -3.7032875,
          -3.7128181,
          -3.6979458,
          -3.7041167,
          -3.6881994,
          -3.675206,
          -3.6724223,
          -3.6706508,
          -3.6893825,
          -3.6931349,
          -3.6911649,
          -3.6888669,
          -3.6777994,
          -3.674021,
          -3.669623,
          -3.669099,
          -3.6765768,
          -3.6784149,
          -3.6751544,
          -3.6707742,
          -3.6745783,
          -3.6805524,
          -3.6904816,
          -3.6907238,
          -3.6919663,
          -3.669683,
          -3.6745339,
          -3.6726923,
          -3.6799299,
          -3.6933298,
          -3.6835631,
          -3.6837471,
          -3.6751716,
          -3.6837297,
          -3.6835613,
          -3.6788203,
          -3.6864821,
          -3.6894124,
          -3.6907044,
          -3.6869914,
          -3.6820471,
          -3.6801515,
          -3.6754079,
          -3.6739638,
          -3.6738777,
          -3.6694246,
          -3.6840806,
          -3.6865351,
          -3.6895792,
          -3.6874745,
          -3.6878868,
          -3.6878604,
          -3.6884243,
          -3.670653,
          -3.6815253,
          -3.7201316,
          -3.7174896,
          -3.7177783,
          -3.7248727,
          -3.7207145,
          -3.7174151,
          -3.7169626,
          -3.7117588,
          -3.7118457,
          -3.7189152,
          -3.688135,
          -3.6865777,
          -3.6947791,
          -3.6986046,
          -3.6962626,
          -3.7134685,
          -3.6993182,
          -3.6948316,
          -3.7017424,
          -3.7083987,
          -3.7155506,
          -3.7156915,
          -3.6982818,
          -3.7017071,
          -3.704022,
          -3.7035911,
          -3.7000292,
          -3.6955114,
          -3.6928901,
          -3.6908127,
          -3.6852925,
          -3.6915818,
          -3.6904495,
          -3.6829045,
          -3.6829127,
          -3.6892902,
          -3.6880402,
          -3.6782355,
          -3.6754628,
          -3.671401,
          -3.67879,
          -3.6795811,
          -3.6816993,
          -3.6878512,
          -3.690541,
          -3.6952023,
          -3.6989497,
          -3.6930894,
          -3.6946736,
          -3.700864,
          -3.6913229,
          -3.6893305,
          -3.6847049,
          -3.6837348,
          -3.6766176,
          -3.7220624,
          -3.7219659,
          -3.7107559,
          -3.7064372,
          -3.6944851,
          -3.6976134,
          -3.7133382,
          -3.7176456,
          -3.6959159,
          -3.713846,
          -3.704403,
          -3.6984459,
          -3.6935448,
          -3.7023615,
          -3.7063771,
          -3.6983033,
          -3.6936302,
          -3.694087,
          -3.6788939,
          -3.6690602,
          -3.6759244,
          -3.67664,
          -3.6655023,
          -3.6694506,
          -3.6653095,
          -3.661533,
          -3.6782783,
          -3.6638407,
          -3.6589062,
          -3.6555431,
          -3.6834711,
          -3.6740365,
          -3.6714315,
          -3.665644,
          -3.6771947,
          -3.6754913,
          -3.6750918,
          -3.6780252,
          -3.6915713,
          -3.7148406,
          -3.704671,
          -3.7038161,
          -3.7080969,
          -3.7144239,
          -3.7041702,
          -3.7033408,
          -3.6990499,
          -3.6973991,
          -3.6886852,
          -3.6887875,
          -3.702631,
          -3.7025369,
          -3.7165313,
          -3.7001575,
          -3.6569597,
          -3.6409697,
          -3.7288948,
          -3.6891094,
          -3.6573999,
          -3.6467783,
          -3.6514264,
          -3.6346859,
          -3.7026887,
          -3.7245226,
          -3.7288262,
          -3.6601933,
          -3.6606789,
          -3.6661421,
          -3.7080437,
          -3.6486507,
          -3.6491034,
          -3.6558172,
          -3.6485701,
          -3.655633,
          -3.651125,
          -3.6911834,
          -3.7171449,
          -3.7105146,
          -3.6932474,
          -3.7079276,
          -3.6609886,
          -3.6677796,
          -3.6629058,
          -3.6700894,
          -3.7175468,
          -3.7101726,
          -3.699252,
          -3.692843,
          -3.6878414,
          -3.6852959,
          -3.6861,
          -3.6668532,
          -3.6839094,
          -3.688443,
          -3.6765549,
          -3.6851815,
          -3.7138353,
          -3.73029,
          -3.7273004,
          -3.727031,
          -3.7272637,
          -3.7292576
         ],
         "marker": {
          "color": "white",
          "opacity": 0.7,
          "size": [
           15,
           15,
           12,
           9,
           12,
           13.5,
           12,
           10.5,
           12,
           12,
           12,
           12,
           12,
           12,
           12,
           10.5,
           10.5,
           12,
           12,
           12,
           12,
           3,
           12,
           12,
           12,
           12,
           12,
           12,
           13.5,
           12,
           12,
           13.5,
           13.5,
           9,
           10.5,
           12,
           12,
           12,
           12,
           12,
           13.5,
           12,
           9,
           12,
           12,
           10.5,
           10.5,
           12,
           12,
           12,
           12,
           12,
           13.5,
           12,
           12,
           10.5,
           12,
           12,
           12,
           12,
           10.5,
           12,
           12,
           12,
           12,
           12,
           12,
           10.5,
           13.5,
           12,
           12,
           12,
           12,
           12,
           12,
           12,
           11,
           12,
           12,
           12,
           13.5,
           12,
           12,
           12,
           12,
           13.5,
           10.5,
           12,
           12,
           12,
           12,
           3,
           12,
           12,
           12,
           10.5,
           12,
           13.5,
           13.5,
           12,
           12,
           12,
           12,
           12,
           12,
           10.5,
           12,
           9,
           9,
           12,
           13.5,
           12,
           12,
           12,
           12,
           12,
           12,
           12,
           12,
           12,
           12,
           12,
           12,
           12,
           12,
           12,
           12,
           12,
           12,
           12,
           12,
           12,
           12,
           1.5,
           12,
           10,
           12,
           12,
           12,
           12,
           12,
           12,
           12,
           12,
           12,
           12,
           1.5,
           6,
           12,
           12,
           12,
           12,
           9,
           12,
           12,
           12,
           12,
           12,
           12,
           12,
           12,
           12,
           12,
           12,
           12,
           12,
           12,
           12,
           1.5,
           12,
           10.5,
           12,
           13.5,
           12,
           12,
           12,
           12,
           12,
           12,
           12,
           12,
           13.5,
           10.5,
           12,
           12,
           12,
           12,
           12,
           13.5,
           12,
           12,
           12,
           12,
           12,
           12,
           13.5,
           12,
           12,
           9,
           13.5,
           12,
           12,
           12,
           12,
           12,
           12,
           13.5,
           12,
           12,
           12,
           12,
           12,
           12,
           12,
           9,
           12,
           12,
           13.5,
           12,
           12,
           12,
           12,
           12,
           12,
           12,
           12,
           12,
           12,
           12,
           12,
           12,
           12,
           12,
           12,
           12,
           12,
           12,
           12,
           12,
           12,
           12,
           12,
           12,
           12,
           12,
           12,
           12,
           12,
           12,
           12,
           12,
           12,
           12,
           12,
           12,
           12,
           12,
           12,
           12,
           12,
           12,
           12,
           12,
           12,
           12,
           12,
           12,
           12,
           12
          ]
         },
         "mode": "markers",
         "showlegend": false,
         "type": "scattermapbox"
        }
       ],
       "layout": {
        "autosize": true,
        "height": 1000,
        "hovermode": "closest",
        "legend": {
         "itemsizing": "constant",
         "title": {
          "text": "Distrito"
         },
         "tracegroupgap": 0
        },
        "mapbox": {
         "bearing": 0,
         "center": {
          "lat": 40.435,
          "lon": -3.69
         },
         "domain": {
          "x": [
           0,
           1
          ],
          "y": [
           0,
           1
          ]
         },
         "style": "carto-positron",
         "zoom": 12
        },
        "margin": {
         "t": 60
        },
        "showlegend": true,
        "template": {
         "data": {
          "bar": [
           {
            "error_x": {
             "color": "#2a3f5f"
            },
            "error_y": {
             "color": "#2a3f5f"
            },
            "marker": {
             "line": {
              "color": "#E5ECF6",
              "width": 0.5
             },
             "pattern": {
              "fillmode": "overlay",
              "size": 10,
              "solidity": 0.2
             }
            },
            "type": "bar"
           }
          ],
          "barpolar": [
           {
            "marker": {
             "line": {
              "color": "#E5ECF6",
              "width": 0.5
             },
             "pattern": {
              "fillmode": "overlay",
              "size": 10,
              "solidity": 0.2
             }
            },
            "type": "barpolar"
           }
          ],
          "carpet": [
           {
            "aaxis": {
             "endlinecolor": "#2a3f5f",
             "gridcolor": "white",
             "linecolor": "white",
             "minorgridcolor": "white",
             "startlinecolor": "#2a3f5f"
            },
            "baxis": {
             "endlinecolor": "#2a3f5f",
             "gridcolor": "white",
             "linecolor": "white",
             "minorgridcolor": "white",
             "startlinecolor": "#2a3f5f"
            },
            "type": "carpet"
           }
          ],
          "choropleth": [
           {
            "colorbar": {
             "outlinewidth": 0,
             "ticks": ""
            },
            "type": "choropleth"
           }
          ],
          "contour": [
           {
            "colorbar": {
             "outlinewidth": 0,
             "ticks": ""
            },
            "colorscale": [
             [
              0,
              "#0d0887"
             ],
             [
              0.1111111111111111,
              "#46039f"
             ],
             [
              0.2222222222222222,
              "#7201a8"
             ],
             [
              0.3333333333333333,
              "#9c179e"
             ],
             [
              0.4444444444444444,
              "#bd3786"
             ],
             [
              0.5555555555555556,
              "#d8576b"
             ],
             [
              0.6666666666666666,
              "#ed7953"
             ],
             [
              0.7777777777777778,
              "#fb9f3a"
             ],
             [
              0.8888888888888888,
              "#fdca26"
             ],
             [
              1,
              "#f0f921"
             ]
            ],
            "type": "contour"
           }
          ],
          "contourcarpet": [
           {
            "colorbar": {
             "outlinewidth": 0,
             "ticks": ""
            },
            "type": "contourcarpet"
           }
          ],
          "heatmap": [
           {
            "colorbar": {
             "outlinewidth": 0,
             "ticks": ""
            },
            "colorscale": [
             [
              0,
              "#0d0887"
             ],
             [
              0.1111111111111111,
              "#46039f"
             ],
             [
              0.2222222222222222,
              "#7201a8"
             ],
             [
              0.3333333333333333,
              "#9c179e"
             ],
             [
              0.4444444444444444,
              "#bd3786"
             ],
             [
              0.5555555555555556,
              "#d8576b"
             ],
             [
              0.6666666666666666,
              "#ed7953"
             ],
             [
              0.7777777777777778,
              "#fb9f3a"
             ],
             [
              0.8888888888888888,
              "#fdca26"
             ],
             [
              1,
              "#f0f921"
             ]
            ],
            "type": "heatmap"
           }
          ],
          "heatmapgl": [
           {
            "colorbar": {
             "outlinewidth": 0,
             "ticks": ""
            },
            "colorscale": [
             [
              0,
              "#0d0887"
             ],
             [
              0.1111111111111111,
              "#46039f"
             ],
             [
              0.2222222222222222,
              "#7201a8"
             ],
             [
              0.3333333333333333,
              "#9c179e"
             ],
             [
              0.4444444444444444,
              "#bd3786"
             ],
             [
              0.5555555555555556,
              "#d8576b"
             ],
             [
              0.6666666666666666,
              "#ed7953"
             ],
             [
              0.7777777777777778,
              "#fb9f3a"
             ],
             [
              0.8888888888888888,
              "#fdca26"
             ],
             [
              1,
              "#f0f921"
             ]
            ],
            "type": "heatmapgl"
           }
          ],
          "histogram": [
           {
            "marker": {
             "pattern": {
              "fillmode": "overlay",
              "size": 10,
              "solidity": 0.2
             }
            },
            "type": "histogram"
           }
          ],
          "histogram2d": [
           {
            "colorbar": {
             "outlinewidth": 0,
             "ticks": ""
            },
            "colorscale": [
             [
              0,
              "#0d0887"
             ],
             [
              0.1111111111111111,
              "#46039f"
             ],
             [
              0.2222222222222222,
              "#7201a8"
             ],
             [
              0.3333333333333333,
              "#9c179e"
             ],
             [
              0.4444444444444444,
              "#bd3786"
             ],
             [
              0.5555555555555556,
              "#d8576b"
             ],
             [
              0.6666666666666666,
              "#ed7953"
             ],
             [
              0.7777777777777778,
              "#fb9f3a"
             ],
             [
              0.8888888888888888,
              "#fdca26"
             ],
             [
              1,
              "#f0f921"
             ]
            ],
            "type": "histogram2d"
           }
          ],
          "histogram2dcontour": [
           {
            "colorbar": {
             "outlinewidth": 0,
             "ticks": ""
            },
            "colorscale": [
             [
              0,
              "#0d0887"
             ],
             [
              0.1111111111111111,
              "#46039f"
             ],
             [
              0.2222222222222222,
              "#7201a8"
             ],
             [
              0.3333333333333333,
              "#9c179e"
             ],
             [
              0.4444444444444444,
              "#bd3786"
             ],
             [
              0.5555555555555556,
              "#d8576b"
             ],
             [
              0.6666666666666666,
              "#ed7953"
             ],
             [
              0.7777777777777778,
              "#fb9f3a"
             ],
             [
              0.8888888888888888,
              "#fdca26"
             ],
             [
              1,
              "#f0f921"
             ]
            ],
            "type": "histogram2dcontour"
           }
          ],
          "mesh3d": [
           {
            "colorbar": {
             "outlinewidth": 0,
             "ticks": ""
            },
            "type": "mesh3d"
           }
          ],
          "parcoords": [
           {
            "line": {
             "colorbar": {
              "outlinewidth": 0,
              "ticks": ""
             }
            },
            "type": "parcoords"
           }
          ],
          "pie": [
           {
            "automargin": true,
            "type": "pie"
           }
          ],
          "scatter": [
           {
            "fillpattern": {
             "fillmode": "overlay",
             "size": 10,
             "solidity": 0.2
            },
            "type": "scatter"
           }
          ],
          "scatter3d": [
           {
            "line": {
             "colorbar": {
              "outlinewidth": 0,
              "ticks": ""
             }
            },
            "marker": {
             "colorbar": {
              "outlinewidth": 0,
              "ticks": ""
             }
            },
            "type": "scatter3d"
           }
          ],
          "scattercarpet": [
           {
            "marker": {
             "colorbar": {
              "outlinewidth": 0,
              "ticks": ""
             }
            },
            "type": "scattercarpet"
           }
          ],
          "scattergeo": [
           {
            "marker": {
             "colorbar": {
              "outlinewidth": 0,
              "ticks": ""
             }
            },
            "type": "scattergeo"
           }
          ],
          "scattergl": [
           {
            "marker": {
             "colorbar": {
              "outlinewidth": 0,
              "ticks": ""
             }
            },
            "type": "scattergl"
           }
          ],
          "scattermapbox": [
           {
            "marker": {
             "colorbar": {
              "outlinewidth": 0,
              "ticks": ""
             }
            },
            "type": "scattermapbox"
           }
          ],
          "scatterpolar": [
           {
            "marker": {
             "colorbar": {
              "outlinewidth": 0,
              "ticks": ""
             }
            },
            "type": "scatterpolar"
           }
          ],
          "scatterpolargl": [
           {
            "marker": {
             "colorbar": {
              "outlinewidth": 0,
              "ticks": ""
             }
            },
            "type": "scatterpolargl"
           }
          ],
          "scatterternary": [
           {
            "marker": {
             "colorbar": {
              "outlinewidth": 0,
              "ticks": ""
             }
            },
            "type": "scatterternary"
           }
          ],
          "surface": [
           {
            "colorbar": {
             "outlinewidth": 0,
             "ticks": ""
            },
            "colorscale": [
             [
              0,
              "#0d0887"
             ],
             [
              0.1111111111111111,
              "#46039f"
             ],
             [
              0.2222222222222222,
              "#7201a8"
             ],
             [
              0.3333333333333333,
              "#9c179e"
             ],
             [
              0.4444444444444444,
              "#bd3786"
             ],
             [
              0.5555555555555556,
              "#d8576b"
             ],
             [
              0.6666666666666666,
              "#ed7953"
             ],
             [
              0.7777777777777778,
              "#fb9f3a"
             ],
             [
              0.8888888888888888,
              "#fdca26"
             ],
             [
              1,
              "#f0f921"
             ]
            ],
            "type": "surface"
           }
          ],
          "table": [
           {
            "cells": {
             "fill": {
              "color": "#EBF0F8"
             },
             "line": {
              "color": "white"
             }
            },
            "header": {
             "fill": {
              "color": "#C8D4E3"
             },
             "line": {
              "color": "white"
             }
            },
            "type": "table"
           }
          ]
         },
         "layout": {
          "annotationdefaults": {
           "arrowcolor": "#2a3f5f",
           "arrowhead": 0,
           "arrowwidth": 1
          },
          "autotypenumbers": "strict",
          "coloraxis": {
           "colorbar": {
            "outlinewidth": 0,
            "ticks": ""
           }
          },
          "colorscale": {
           "diverging": [
            [
             0,
             "#8e0152"
            ],
            [
             0.1,
             "#c51b7d"
            ],
            [
             0.2,
             "#de77ae"
            ],
            [
             0.3,
             "#f1b6da"
            ],
            [
             0.4,
             "#fde0ef"
            ],
            [
             0.5,
             "#f7f7f7"
            ],
            [
             0.6,
             "#e6f5d0"
            ],
            [
             0.7,
             "#b8e186"
            ],
            [
             0.8,
             "#7fbc41"
            ],
            [
             0.9,
             "#4d9221"
            ],
            [
             1,
             "#276419"
            ]
           ],
           "sequential": [
            [
             0,
             "#0d0887"
            ],
            [
             0.1111111111111111,
             "#46039f"
            ],
            [
             0.2222222222222222,
             "#7201a8"
            ],
            [
             0.3333333333333333,
             "#9c179e"
            ],
            [
             0.4444444444444444,
             "#bd3786"
            ],
            [
             0.5555555555555556,
             "#d8576b"
            ],
            [
             0.6666666666666666,
             "#ed7953"
            ],
            [
             0.7777777777777778,
             "#fb9f3a"
            ],
            [
             0.8888888888888888,
             "#fdca26"
            ],
            [
             1,
             "#f0f921"
            ]
           ],
           "sequentialminus": [
            [
             0,
             "#0d0887"
            ],
            [
             0.1111111111111111,
             "#46039f"
            ],
            [
             0.2222222222222222,
             "#7201a8"
            ],
            [
             0.3333333333333333,
             "#9c179e"
            ],
            [
             0.4444444444444444,
             "#bd3786"
            ],
            [
             0.5555555555555556,
             "#d8576b"
            ],
            [
             0.6666666666666666,
             "#ed7953"
            ],
            [
             0.7777777777777778,
             "#fb9f3a"
            ],
            [
             0.8888888888888888,
             "#fdca26"
            ],
            [
             1,
             "#f0f921"
            ]
           ]
          },
          "colorway": [
           "#636efa",
           "#EF553B",
           "#00cc96",
           "#ab63fa",
           "#FFA15A",
           "#19d3f3",
           "#FF6692",
           "#B6E880",
           "#FF97FF",
           "#FECB52"
          ],
          "font": {
           "color": "#2a3f5f"
          },
          "geo": {
           "bgcolor": "white",
           "lakecolor": "white",
           "landcolor": "#E5ECF6",
           "showlakes": true,
           "showland": true,
           "subunitcolor": "white"
          },
          "hoverlabel": {
           "align": "left"
          },
          "hovermode": "closest",
          "mapbox": {
           "style": "light"
          },
          "paper_bgcolor": "white",
          "plot_bgcolor": "#E5ECF6",
          "polar": {
           "angularaxis": {
            "gridcolor": "white",
            "linecolor": "white",
            "ticks": ""
           },
           "bgcolor": "#E5ECF6",
           "radialaxis": {
            "gridcolor": "white",
            "linecolor": "white",
            "ticks": ""
           }
          },
          "scene": {
           "xaxis": {
            "backgroundcolor": "#E5ECF6",
            "gridcolor": "white",
            "gridwidth": 2,
            "linecolor": "white",
            "showbackground": true,
            "ticks": "",
            "zerolinecolor": "white"
           },
           "yaxis": {
            "backgroundcolor": "#E5ECF6",
            "gridcolor": "white",
            "gridwidth": 2,
            "linecolor": "white",
            "showbackground": true,
            "ticks": "",
            "zerolinecolor": "white"
           },
           "zaxis": {
            "backgroundcolor": "#E5ECF6",
            "gridcolor": "white",
            "gridwidth": 2,
            "linecolor": "white",
            "showbackground": true,
            "ticks": "",
            "zerolinecolor": "white"
           }
          },
          "shapedefaults": {
           "line": {
            "color": "#2a3f5f"
           }
          },
          "ternary": {
           "aaxis": {
            "gridcolor": "white",
            "linecolor": "white",
            "ticks": ""
           },
           "baxis": {
            "gridcolor": "white",
            "linecolor": "white",
            "ticks": ""
           },
           "bgcolor": "#E5ECF6",
           "caxis": {
            "gridcolor": "white",
            "linecolor": "white",
            "ticks": ""
           }
          },
          "title": {
           "x": 0.05
          },
          "xaxis": {
           "automargin": true,
           "gridcolor": "white",
           "linecolor": "white",
           "ticks": "",
           "title": {
            "standoff": 15
           },
           "zerolinecolor": "white",
           "zerolinewidth": 2
          },
          "yaxis": {
           "automargin": true,
           "gridcolor": "white",
           "linecolor": "white",
           "ticks": "",
           "title": {
            "standoff": 15
           },
           "zerolinecolor": "white",
           "zerolinewidth": 2
          }
         }
        },
        "title": {
         "text": "Bases BiciMad por Distrito"
        },
        "width": 1000
       }
      }
     },
     "metadata": {},
     "output_type": "display_data"
    }
   ],
   "source": [
    "# https://plotly.com/python/scattermapbox/\n",
    "#df['text'] = bases['airport'] + '' + df['city'] + ', ' + df['state'] + '' + 'Arrivals: ' + df['cnt'].astype(str)\n",
    "\n",
    "fig = px.scatter_mapbox(bases, lat=\"Latitud\", lon=\"Longitud\",  color = \"Distrito\", size=bases[\"Número de Plazas\"]*0.5, width = 1000, height = 900, zoom = 12)\n",
    "fig.add_trace(go.Scattermapbox(\n",
    "        lat = bases[\"Latitud\"],\n",
    "        lon=bases[\"Longitud\"],\n",
    "        mode='markers',\n",
    "        showlegend=False,\n",
    "        marker=go.scattermapbox.Marker(\n",
    "            size=bases[\"Número de Plazas\"]*0.5,\n",
    "            opacity=0.7  ,  \n",
    "            color = \"white\"    )\n",
    "    ))\n",
    "fig.update_layout(\n",
    "    title='Bases BiciMad por Distrito',\n",
    "    autosize=True,\n",
    "    hovermode='closest',\n",
    "    showlegend=True,\n",
    "    width = 1000,\n",
    "    height = 1000,\n",
    "    mapbox=dict(\n",
    "        bearing=0,\n",
    "        center=dict(\n",
    "            lat=40.435,\n",
    "            lon=-3.69\n",
    "        ),\n",
    "        zoom=12,\n",
    "        style= 'carto-positron' # 'open-street-map'\n",
    "        \n",
    "    )\n",
    ")\n",
    "fig.show()"
   ]
  },
  {
   "cell_type": "markdown",
   "metadata": {},
   "source": [
    "#### **3. RESHAPING DATA**\n",
    "\n",
    "With the purpose of optimizing space, variables that are irrelevant for the model are deleted - bases_clean\n",
    "\n",
    "** Delete CALLE and Nº de FINCA as these to variables concatenated form variable DIRECCION. "
   ]
  },
  {
   "cell_type": "code",
   "execution_count": 240,
   "metadata": {},
   "outputs": [
    {
     "data": {
      "text/html": [
       "<div>\n",
       "<style scoped>\n",
       "    .dataframe tbody tr th:only-of-type {\n",
       "        vertical-align: middle;\n",
       "    }\n",
       "\n",
       "    .dataframe tbody tr th {\n",
       "        vertical-align: top;\n",
       "    }\n",
       "\n",
       "    .dataframe thead th {\n",
       "        text-align: right;\n",
       "    }\n",
       "</style>\n",
       "<table border=\"1\" class=\"dataframe\">\n",
       "  <thead>\n",
       "    <tr style=\"text-align: right;\">\n",
       "      <th></th>\n",
       "      <th>Número</th>\n",
       "      <th>Distrito</th>\n",
       "      <th>Barrio</th>\n",
       "      <th>Número de Plazas</th>\n",
       "      <th>Longitud</th>\n",
       "      <th>Latitud</th>\n",
       "      <th>Direccion</th>\n",
       "    </tr>\n",
       "  </thead>\n",
       "  <tbody>\n",
       "    <tr>\n",
       "      <th>0</th>\n",
       "      <td>001 a</td>\n",
       "      <td>01  CENTRO</td>\n",
       "      <td>01-06 SOL</td>\n",
       "      <td>30</td>\n",
       "      <td>-3.701998</td>\n",
       "      <td>40.417111</td>\n",
       "      <td>ALCALA, CALLE, DE, 2</td>\n",
       "    </tr>\n",
       "    <tr>\n",
       "      <th>1</th>\n",
       "      <td>001 b</td>\n",
       "      <td>01  CENTRO</td>\n",
       "      <td>01-06 SOL</td>\n",
       "      <td>30</td>\n",
       "      <td>-3.701564</td>\n",
       "      <td>40.417213</td>\n",
       "      <td>ALCALA, CALLE, DE, 6</td>\n",
       "    </tr>\n",
       "    <tr>\n",
       "      <th>2</th>\n",
       "      <td>2</td>\n",
       "      <td>01  CENTRO</td>\n",
       "      <td>01-05 UNIVERSIDAD</td>\n",
       "      <td>24</td>\n",
       "      <td>-3.705674</td>\n",
       "      <td>40.420580</td>\n",
       "      <td>MIGUEL MOYA, CALLE, DE, 1</td>\n",
       "    </tr>\n",
       "    <tr>\n",
       "      <th>3</th>\n",
       "      <td>3</td>\n",
       "      <td>07  CHAMBERÍ</td>\n",
       "      <td>07-02 ARAPILES</td>\n",
       "      <td>18</td>\n",
       "      <td>-3.707212</td>\n",
       "      <td>40.430322</td>\n",
       "      <td>CONDE DEL VALLE DE SUCHIL, PLAZA, DEL, 2</td>\n",
       "    </tr>\n",
       "    <tr>\n",
       "      <th>4</th>\n",
       "      <td>4</td>\n",
       "      <td>01  CENTRO</td>\n",
       "      <td>01-05 UNIVERSIDAD</td>\n",
       "      <td>24</td>\n",
       "      <td>-3.702674</td>\n",
       "      <td>40.428590</td>\n",
       "      <td>MANUELA MALASAÑA, CALLE, DE, 3</td>\n",
       "    </tr>\n",
       "  </tbody>\n",
       "</table>\n",
       "</div>"
      ],
      "text/plain": [
       "  Número      Distrito             Barrio  Número de Plazas  Longitud  \\\n",
       "0  001 a    01  CENTRO          01-06 SOL                30 -3.701998   \n",
       "1  001 b    01  CENTRO          01-06 SOL                30 -3.701564   \n",
       "2      2    01  CENTRO  01-05 UNIVERSIDAD                24 -3.705674   \n",
       "3      3  07  CHAMBERÍ     07-02 ARAPILES                18 -3.707212   \n",
       "4      4    01  CENTRO  01-05 UNIVERSIDAD                24 -3.702674   \n",
       "\n",
       "     Latitud                                 Direccion  \n",
       "0  40.417111                      ALCALA, CALLE, DE, 2  \n",
       "1  40.417213                      ALCALA, CALLE, DE, 6  \n",
       "2  40.420580                 MIGUEL MOYA, CALLE, DE, 1  \n",
       "3  40.430322  CONDE DEL VALLE DE SUCHIL, PLAZA, DEL, 2  \n",
       "4  40.428590            MANUELA MALASAÑA, CALLE, DE, 3  "
      ]
     },
     "execution_count": 240,
     "metadata": {},
     "output_type": "execute_result"
    }
   ],
   "source": [
    "bases_clean = bases.drop(columns = [\"Gis_X\", \"Gis_Y\", \"Fecha de Alta\", \"Calle\", \"Nº Finca\", \"Tipo de Reserva\"], axis = 1)\n",
    "bases_clean.head()"
   ]
  },
  {
   "cell_type": "markdown",
   "metadata": {},
   "source": [
    "**##################################################IDEAS#####################################################################**"
   ]
  },
  {
   "cell_type": "code",
   "execution_count": 197,
   "metadata": {},
   "outputs": [
    {
     "data": {
      "application/vnd.plotly.v1+json": {
       "config": {
        "plotlyServerURL": "https://plot.ly"
       },
       "data": [
        {
         "hoverinfo": "text",
         "lat": [
          40.4171107,
          40.4172132,
          40.42058,
          40.4303224,
          40.4285905,
          40.428362,
          40.4241633,
          40.4252161,
          40.4277143,
          40.4156134,
          40.4254027,
          40.4270517,
          40.4285271,
          40.4273652,
          40.4259913,
          40.4262937,
          40.4229421,
          40.4231675,
          40.4209206,
          40.4218997,
          40.4191989,
          40.4191858,
          40.4201452,
          40.4202137,
          40.417906,
          40.4173416,
          40.4172593,
          40.4238308,
          40.4132831,
          40.4180695,
          40.416244,
          40.4193355,
          40.4163446,
          40.4148511,
          40.4164757,
          40.4144117,
          40.4141792,
          40.4168229,
          40.4108606,
          40.4112961,
          40.4112662,
          40.4137865,
          40.412228,
          40.4107714,
          40.4100889,
          40.4098162,
          40.4069486,
          40.4054496,
          40.4046233,
          40.4054473,
          40.4060497,
          40.4083102,
          40.4077234,
          40.4145181,
          40.4082802,
          40.4266233,
          40.4240716,
          40.418484,
          40.4296363,
          40.4222601,
          40.4254802,
          40.4194508,
          40.4214379,
          40.4212986,
          40.4178926,
          40.4166859,
          40.410829,
          40.412781,
          40.4100609,
          40.4152203,
          40.4160054,
          40.415721,
          40.411463,
          40.4117601,
          40.4083387,
          40.4072851,
          40.4063347,
          40.4005704,
          40.4050482,
          40.4074122,
          40.407626,
          40.4095758,
          40.4084793,
          40.4132589,
          40.4033695,
          40.4211415,
          40.4185779,
          40.4276717,
          40.4312077,
          40.4272628,
          40.4250878,
          40.4250791,
          40.4261113,
          40.4262237,
          40.4256984,
          40.4233686,
          40.4226634,
          40.4220516,
          40.4224846,
          40.4241911,
          40.4261048,
          40.4247843,
          40.4231223,
          40.4211552,
          40.4303733,
          40.4267658,
          40.4270684,
          40.4248642,
          40.4250085,
          40.4215952,
          40.4274425,
          40.4301281,
          40.4347654,
          40.4335742,
          40.433982,
          40.4326267,
          40.4277472,
          40.4278211,
          40.4253802,
          40.4240632,
          40.4241889,
          40.4309046,
          40.4007959,
          40.4014567,
          40.4030362,
          40.4018356,
          40.429524,
          40.4306386,
          40.4308173,
          40.4353128,
          40.4345672,
          40.4339055,
          40.4390329,
          40.4390391,
          40.4384684,
          40.4417195,
          40.4417543,
          40.4463889,
          40.4471673,
          40.444027,
          40.4414845,
          40.4452833,
          40.4454958,
          40.4456884,
          40.4393558,
          40.438628,
          40.4385198,
          40.4354253,
          40.4335262,
          40.434616,
          40.4323192,
          40.4297717,
          40.4442406,
          40.4483353,
          40.4510203,
          40.4498448,
          40.4491125,
          40.4488617,
          40.4527163,
          40.45235,
          40.4547769,
          40.4572863,
          40.4592406,
          40.459282,
          40.45862,
          40.4542549,
          40.4571995,
          40.4221372,
          40.4220566,
          40.4035176,
          40.4036349,
          40.3971366,
          40.3928841,
          40.4139396,
          40.4137331,
          40.4045828,
          40.401578,
          40.4011039,
          40.3997626,
          40.4008683,
          40.3981757,
          40.397417,
          40.3962687,
          40.3942411,
          40.3915019,
          40.4030242,
          40.3979341,
          40.3941252,
          40.4181748,
          40.4187145,
          40.4256358,
          40.4260023,
          40.4250682,
          40.429069,
          40.4301353,
          40.4311658,
          40.4350206,
          40.4343761,
          40.4346168,
          40.431855,
          40.4325204,
          40.4371986,
          40.4392483,
          40.4440957,
          40.4515501,
          40.4331172,
          40.4343244,
          40.4336617,
          40.4387323,
          40.4411686,
          40.4417547,
          40.4476606,
          40.4535024,
          40.4607994,
          40.4630291,
          40.4665125,
          40.4656872,
          40.4197538,
          40.4206168,
          40.3981605,
          40.3889363,
          40.4434012,
          40.4296903,
          40.4140528,
          40.4810028,
          40.4105519,
          40.4083961,
          40.4061548,
          40.4004579,
          40.3917816,
          40.4064341,
          40.408882,
          40.4026388,
          40.3991986,
          40.3940355,
          40.3943842,
          40.4370782,
          40.4436986,
          40.439748,
          40.4328362,
          40.4229144,
          40.426163,
          40.3889853,
          40.4074236,
          40.451395,
          40.4562183,
          40.4567345,
          40.4367138,
          40.4377568,
          40.4394662,
          40.4351648,
          40.4398513,
          40.4364656,
          40.436026,
          40.4383672,
          40.4743243,
          40.4794159,
          40.4408151,
          40.444183,
          40.4715645,
          40.455606,
          40.4610436,
          40.4637286,
          40.4463599,
          40.438804,
          40.449019,
          40.4444176,
          40.4482316,
          40.4505032
         ],
         "lon": [
          -3.701998,
          -3.7015636,
          -3.7056739,
          -3.7072122,
          -3.7026739,
          -3.7020743,
          -3.6984093,
          -3.6977399,
          -3.6953067,
          -3.7094093,
          -3.6920816,
          -3.7036192,
          -3.7062202,
          -3.7104727,
          -3.7133768,
          -3.7073611,
          -3.7074955,
          -3.7041859,
          -3.6995679,
          -3.6953951,
          -3.6952095,
          -3.6952901,
          -3.7064995,
          -3.7082901,
          -3.7105866,
          -3.7059978,
          -3.7060243,
          -3.6945421,
          -3.6955803,
          -3.6983662,
          -3.6958008,
          -3.7115428,
          -3.706625,
          -3.7061355,
          -3.7032096,
          -3.7035044,
          -3.7103676,
          -3.711764,
          -3.7141234,
          -3.7114443,
          -3.7090043,
          -3.7047463,
          -3.6989898,
          -3.6982294,
          -3.7025446,
          -3.7039138,
          -3.7111381,
          -3.7071178,
          -3.702755,
          -3.7020997,
          -3.6992427,
          -3.69322,
          -3.6935934,
          -3.7007838,
          -3.7007295,
          -3.7003435,
          -3.7019295,
          -3.7032875,
          -3.7128181,
          -3.6979458,
          -3.7041167,
          -3.6881994,
          -3.675206,
          -3.6724223,
          -3.6706508,
          -3.6893825,
          -3.6931349,
          -3.6911649,
          -3.6888669,
          -3.6777994,
          -3.674021,
          -3.669623,
          -3.669099,
          -3.6765768,
          -3.6784149,
          -3.6751544,
          -3.6707742,
          -3.6745783,
          -3.6805524,
          -3.6904816,
          -3.6907238,
          -3.6919663,
          -3.669683,
          -3.6745339,
          -3.6726923,
          -3.6799299,
          -3.6933298,
          -3.6835631,
          -3.6837471,
          -3.6751716,
          -3.6837297,
          -3.6835613,
          -3.6788203,
          -3.6864821,
          -3.6894124,
          -3.6907044,
          -3.6869914,
          -3.6820471,
          -3.6801515,
          -3.6754079,
          -3.6739638,
          -3.6738777,
          -3.6694246,
          -3.6840806,
          -3.6865351,
          -3.6895792,
          -3.6874745,
          -3.6878868,
          -3.6878604,
          -3.6884243,
          -3.670653,
          -3.6815253,
          -3.7201316,
          -3.7174896,
          -3.7177783,
          -3.7248727,
          -3.7207145,
          -3.7174151,
          -3.7169626,
          -3.7117588,
          -3.7118457,
          -3.7189152,
          -3.688135,
          -3.6865777,
          -3.6947791,
          -3.6986046,
          -3.6962626,
          -3.7134685,
          -3.6993182,
          -3.6948316,
          -3.7017424,
          -3.7083987,
          -3.7155506,
          -3.7156915,
          -3.6982818,
          -3.7017071,
          -3.704022,
          -3.7035911,
          -3.7000292,
          -3.6955114,
          -3.6928901,
          -3.6908127,
          -3.6852925,
          -3.6915818,
          -3.6904495,
          -3.6829045,
          -3.6829127,
          -3.6892902,
          -3.6880402,
          -3.6782355,
          -3.6754628,
          -3.671401,
          -3.67879,
          -3.6795811,
          -3.6816993,
          -3.6878512,
          -3.690541,
          -3.6952023,
          -3.6989497,
          -3.6930894,
          -3.6946736,
          -3.700864,
          -3.6913229,
          -3.6893305,
          -3.6847049,
          -3.6837348,
          -3.6766176,
          -3.7220624,
          -3.7219659,
          -3.7107559,
          -3.7064372,
          -3.6944851,
          -3.6976134,
          -3.7133382,
          -3.7176456,
          -3.6959159,
          -3.713846,
          -3.704403,
          -3.6984459,
          -3.6935448,
          -3.7023615,
          -3.7063771,
          -3.6983033,
          -3.6936302,
          -3.694087,
          -3.6788939,
          -3.6690602,
          -3.6759244,
          -3.67664,
          -3.6655023,
          -3.6694506,
          -3.6653095,
          -3.661533,
          -3.6782783,
          -3.6638407,
          -3.6589062,
          -3.6555431,
          -3.6834711,
          -3.6740365,
          -3.6714315,
          -3.665644,
          -3.6771947,
          -3.6754913,
          -3.6750918,
          -3.6780252,
          -3.6915713,
          -3.7148406,
          -3.704671,
          -3.7038161,
          -3.7080969,
          -3.7144239,
          -3.7041702,
          -3.7033408,
          -3.6990499,
          -3.6973991,
          -3.6886852,
          -3.6887875,
          -3.702631,
          -3.7025369,
          -3.7165313,
          -3.7001575,
          -3.6569597,
          -3.6409697,
          -3.7288948,
          -3.6891094,
          -3.6573999,
          -3.6467783,
          -3.6514264,
          -3.6346859,
          -3.7026887,
          -3.7245226,
          -3.7288262,
          -3.6601933,
          -3.6606789,
          -3.6661421,
          -3.7080437,
          -3.6486507,
          -3.6491034,
          -3.6558172,
          -3.6485701,
          -3.655633,
          -3.651125,
          -3.6911834,
          -3.7171449,
          -3.7105146,
          -3.6932474,
          -3.7079276,
          -3.6609886,
          -3.6677796,
          -3.6629058,
          -3.6700894,
          -3.7175468,
          -3.7101726,
          -3.699252,
          -3.692843,
          -3.6878414,
          -3.6852959,
          -3.6861,
          -3.6668532,
          -3.6839094,
          -3.688443,
          -3.6765549,
          -3.6851815,
          -3.7138353,
          -3.73029,
          -3.7273004,
          -3.727031,
          -3.7272637,
          -3.7292576
         ],
         "marker": {
          "opacity": 0.7,
          "size": [
           30,
           30,
           24,
           18,
           24,
           27,
           24,
           21,
           24,
           24,
           24,
           24,
           24,
           24,
           24,
           21,
           21,
           24,
           24,
           24,
           24,
           6,
           24,
           24,
           24,
           24,
           24,
           24,
           27,
           24,
           24,
           27,
           27,
           18,
           21,
           24,
           24,
           24,
           24,
           24,
           27,
           24,
           18,
           24,
           24,
           21,
           21,
           24,
           24,
           24,
           24,
           24,
           27,
           24,
           24,
           21,
           24,
           24,
           24,
           24,
           21,
           24,
           24,
           24,
           24,
           24,
           24,
           21,
           27,
           24,
           24,
           24,
           24,
           24,
           24,
           24,
           22,
           24,
           24,
           24,
           27,
           24,
           24,
           24,
           24,
           27,
           21,
           24,
           24,
           24,
           24,
           6,
           24,
           24,
           24,
           21,
           24,
           27,
           27,
           24,
           24,
           24,
           24,
           24,
           24,
           21,
           24,
           18,
           18,
           24,
           27,
           24,
           24,
           24,
           24,
           24,
           24,
           24,
           24,
           24,
           24,
           24,
           24,
           24,
           24,
           24,
           24,
           24,
           24,
           24,
           24,
           24,
           24,
           3,
           24,
           20,
           24,
           24,
           24,
           24,
           24,
           24,
           24,
           24,
           24,
           24,
           3,
           12,
           24,
           24,
           24,
           24,
           18,
           24,
           24,
           24,
           24,
           24,
           24,
           24,
           24,
           24,
           24,
           24,
           24,
           24,
           24,
           24,
           3,
           24,
           21,
           24,
           27,
           24,
           24,
           24,
           24,
           24,
           24,
           24,
           24,
           27,
           21,
           24,
           24,
           24,
           24,
           24,
           27,
           24,
           24,
           24,
           24,
           24,
           24,
           27,
           24,
           24,
           18,
           27,
           24,
           24,
           24,
           24,
           24,
           24,
           27,
           24,
           24,
           24,
           24,
           24,
           24,
           24,
           18,
           24,
           24,
           27,
           24,
           24,
           24,
           24,
           24,
           24,
           24,
           24,
           24,
           24,
           24,
           24,
           24,
           24,
           24,
           24,
           24,
           24,
           24,
           24,
           24,
           24,
           24,
           24,
           24,
           24,
           24,
           24,
           24,
           24,
           24,
           24,
           24,
           24,
           24,
           24,
           24,
           24,
           24,
           24,
           24,
           24,
           24,
           24,
           24,
           24,
           24,
           24,
           24,
           24,
           24
          ]
         },
         "mode": "markers",
         "text": "Número",
         "type": "scattermapbox"
        },
        {
         "lat": [
          40.4171107,
          40.4172132,
          40.42058,
          40.4303224,
          40.4285905,
          40.428362,
          40.4241633,
          40.4252161,
          40.4277143,
          40.4156134,
          40.4254027,
          40.4270517,
          40.4285271,
          40.4273652,
          40.4259913,
          40.4262937,
          40.4229421,
          40.4231675,
          40.4209206,
          40.4218997,
          40.4191989,
          40.4191858,
          40.4201452,
          40.4202137,
          40.417906,
          40.4173416,
          40.4172593,
          40.4238308,
          40.4132831,
          40.4180695,
          40.416244,
          40.4193355,
          40.4163446,
          40.4148511,
          40.4164757,
          40.4144117,
          40.4141792,
          40.4168229,
          40.4108606,
          40.4112961,
          40.4112662,
          40.4137865,
          40.412228,
          40.4107714,
          40.4100889,
          40.4098162,
          40.4069486,
          40.4054496,
          40.4046233,
          40.4054473,
          40.4060497,
          40.4083102,
          40.4077234,
          40.4145181,
          40.4082802,
          40.4266233,
          40.4240716,
          40.418484,
          40.4296363,
          40.4222601,
          40.4254802,
          40.4194508,
          40.4214379,
          40.4212986,
          40.4178926,
          40.4166859,
          40.410829,
          40.412781,
          40.4100609,
          40.4152203,
          40.4160054,
          40.415721,
          40.411463,
          40.4117601,
          40.4083387,
          40.4072851,
          40.4063347,
          40.4005704,
          40.4050482,
          40.4074122,
          40.407626,
          40.4095758,
          40.4084793,
          40.4132589,
          40.4033695,
          40.4211415,
          40.4185779,
          40.4276717,
          40.4312077,
          40.4272628,
          40.4250878,
          40.4250791,
          40.4261113,
          40.4262237,
          40.4256984,
          40.4233686,
          40.4226634,
          40.4220516,
          40.4224846,
          40.4241911,
          40.4261048,
          40.4247843,
          40.4231223,
          40.4211552,
          40.4303733,
          40.4267658,
          40.4270684,
          40.4248642,
          40.4250085,
          40.4215952,
          40.4274425,
          40.4301281,
          40.4347654,
          40.4335742,
          40.433982,
          40.4326267,
          40.4277472,
          40.4278211,
          40.4253802,
          40.4240632,
          40.4241889,
          40.4309046,
          40.4007959,
          40.4014567,
          40.4030362,
          40.4018356,
          40.429524,
          40.4306386,
          40.4308173,
          40.4353128,
          40.4345672,
          40.4339055,
          40.4390329,
          40.4390391,
          40.4384684,
          40.4417195,
          40.4417543,
          40.4463889,
          40.4471673,
          40.444027,
          40.4414845,
          40.4452833,
          40.4454958,
          40.4456884,
          40.4393558,
          40.438628,
          40.4385198,
          40.4354253,
          40.4335262,
          40.434616,
          40.4323192,
          40.4297717,
          40.4442406,
          40.4483353,
          40.4510203,
          40.4498448,
          40.4491125,
          40.4488617,
          40.4527163,
          40.45235,
          40.4547769,
          40.4572863,
          40.4592406,
          40.459282,
          40.45862,
          40.4542549,
          40.4571995,
          40.4221372,
          40.4220566,
          40.4035176,
          40.4036349,
          40.3971366,
          40.3928841,
          40.4139396,
          40.4137331,
          40.4045828,
          40.401578,
          40.4011039,
          40.3997626,
          40.4008683,
          40.3981757,
          40.397417,
          40.3962687,
          40.3942411,
          40.3915019,
          40.4030242,
          40.3979341,
          40.3941252,
          40.4181748,
          40.4187145,
          40.4256358,
          40.4260023,
          40.4250682,
          40.429069,
          40.4301353,
          40.4311658,
          40.4350206,
          40.4343761,
          40.4346168,
          40.431855,
          40.4325204,
          40.4371986,
          40.4392483,
          40.4440957,
          40.4515501,
          40.4331172,
          40.4343244,
          40.4336617,
          40.4387323,
          40.4411686,
          40.4417547,
          40.4476606,
          40.4535024,
          40.4607994,
          40.4630291,
          40.4665125,
          40.4656872,
          40.4197538,
          40.4206168,
          40.3981605,
          40.3889363,
          40.4434012,
          40.4296903,
          40.4140528,
          40.4810028,
          40.4105519,
          40.4083961,
          40.4061548,
          40.4004579,
          40.3917816,
          40.4064341,
          40.408882,
          40.4026388,
          40.3991986,
          40.3940355,
          40.3943842,
          40.4370782,
          40.4436986,
          40.439748,
          40.4328362,
          40.4229144,
          40.426163,
          40.3889853,
          40.4074236,
          40.451395,
          40.4562183,
          40.4567345,
          40.4367138,
          40.4377568,
          40.4394662,
          40.4351648,
          40.4398513,
          40.4364656,
          40.436026,
          40.4383672,
          40.4743243,
          40.4794159,
          40.4408151,
          40.444183,
          40.4715645,
          40.455606,
          40.4610436,
          40.4637286,
          40.4463599,
          40.438804,
          40.449019,
          40.4444176,
          40.4482316,
          40.4505032
         ],
         "lon": [
          -3.701998,
          -3.7015636,
          -3.7056739,
          -3.7072122,
          -3.7026739,
          -3.7020743,
          -3.6984093,
          -3.6977399,
          -3.6953067,
          -3.7094093,
          -3.6920816,
          -3.7036192,
          -3.7062202,
          -3.7104727,
          -3.7133768,
          -3.7073611,
          -3.7074955,
          -3.7041859,
          -3.6995679,
          -3.6953951,
          -3.6952095,
          -3.6952901,
          -3.7064995,
          -3.7082901,
          -3.7105866,
          -3.7059978,
          -3.7060243,
          -3.6945421,
          -3.6955803,
          -3.6983662,
          -3.6958008,
          -3.7115428,
          -3.706625,
          -3.7061355,
          -3.7032096,
          -3.7035044,
          -3.7103676,
          -3.711764,
          -3.7141234,
          -3.7114443,
          -3.7090043,
          -3.7047463,
          -3.6989898,
          -3.6982294,
          -3.7025446,
          -3.7039138,
          -3.7111381,
          -3.7071178,
          -3.702755,
          -3.7020997,
          -3.6992427,
          -3.69322,
          -3.6935934,
          -3.7007838,
          -3.7007295,
          -3.7003435,
          -3.7019295,
          -3.7032875,
          -3.7128181,
          -3.6979458,
          -3.7041167,
          -3.6881994,
          -3.675206,
          -3.6724223,
          -3.6706508,
          -3.6893825,
          -3.6931349,
          -3.6911649,
          -3.6888669,
          -3.6777994,
          -3.674021,
          -3.669623,
          -3.669099,
          -3.6765768,
          -3.6784149,
          -3.6751544,
          -3.6707742,
          -3.6745783,
          -3.6805524,
          -3.6904816,
          -3.6907238,
          -3.6919663,
          -3.669683,
          -3.6745339,
          -3.6726923,
          -3.6799299,
          -3.6933298,
          -3.6835631,
          -3.6837471,
          -3.6751716,
          -3.6837297,
          -3.6835613,
          -3.6788203,
          -3.6864821,
          -3.6894124,
          -3.6907044,
          -3.6869914,
          -3.6820471,
          -3.6801515,
          -3.6754079,
          -3.6739638,
          -3.6738777,
          -3.6694246,
          -3.6840806,
          -3.6865351,
          -3.6895792,
          -3.6874745,
          -3.6878868,
          -3.6878604,
          -3.6884243,
          -3.670653,
          -3.6815253,
          -3.7201316,
          -3.7174896,
          -3.7177783,
          -3.7248727,
          -3.7207145,
          -3.7174151,
          -3.7169626,
          -3.7117588,
          -3.7118457,
          -3.7189152,
          -3.688135,
          -3.6865777,
          -3.6947791,
          -3.6986046,
          -3.6962626,
          -3.7134685,
          -3.6993182,
          -3.6948316,
          -3.7017424,
          -3.7083987,
          -3.7155506,
          -3.7156915,
          -3.6982818,
          -3.7017071,
          -3.704022,
          -3.7035911,
          -3.7000292,
          -3.6955114,
          -3.6928901,
          -3.6908127,
          -3.6852925,
          -3.6915818,
          -3.6904495,
          -3.6829045,
          -3.6829127,
          -3.6892902,
          -3.6880402,
          -3.6782355,
          -3.6754628,
          -3.671401,
          -3.67879,
          -3.6795811,
          -3.6816993,
          -3.6878512,
          -3.690541,
          -3.6952023,
          -3.6989497,
          -3.6930894,
          -3.6946736,
          -3.700864,
          -3.6913229,
          -3.6893305,
          -3.6847049,
          -3.6837348,
          -3.6766176,
          -3.7220624,
          -3.7219659,
          -3.7107559,
          -3.7064372,
          -3.6944851,
          -3.6976134,
          -3.7133382,
          -3.7176456,
          -3.6959159,
          -3.713846,
          -3.704403,
          -3.6984459,
          -3.6935448,
          -3.7023615,
          -3.7063771,
          -3.6983033,
          -3.6936302,
          -3.694087,
          -3.6788939,
          -3.6690602,
          -3.6759244,
          -3.67664,
          -3.6655023,
          -3.6694506,
          -3.6653095,
          -3.661533,
          -3.6782783,
          -3.6638407,
          -3.6589062,
          -3.6555431,
          -3.6834711,
          -3.6740365,
          -3.6714315,
          -3.665644,
          -3.6771947,
          -3.6754913,
          -3.6750918,
          -3.6780252,
          -3.6915713,
          -3.7148406,
          -3.704671,
          -3.7038161,
          -3.7080969,
          -3.7144239,
          -3.7041702,
          -3.7033408,
          -3.6990499,
          -3.6973991,
          -3.6886852,
          -3.6887875,
          -3.702631,
          -3.7025369,
          -3.7165313,
          -3.7001575,
          -3.6569597,
          -3.6409697,
          -3.7288948,
          -3.6891094,
          -3.6573999,
          -3.6467783,
          -3.6514264,
          -3.6346859,
          -3.7026887,
          -3.7245226,
          -3.7288262,
          -3.6601933,
          -3.6606789,
          -3.6661421,
          -3.7080437,
          -3.6486507,
          -3.6491034,
          -3.6558172,
          -3.6485701,
          -3.655633,
          -3.651125,
          -3.6911834,
          -3.7171449,
          -3.7105146,
          -3.6932474,
          -3.7079276,
          -3.6609886,
          -3.6677796,
          -3.6629058,
          -3.6700894,
          -3.7175468,
          -3.7101726,
          -3.699252,
          -3.692843,
          -3.6878414,
          -3.6852959,
          -3.6861,
          -3.6668532,
          -3.6839094,
          -3.688443,
          -3.6765549,
          -3.6851815,
          -3.7138353,
          -3.73029,
          -3.7273004,
          -3.727031,
          -3.7272637,
          -3.7292576
         ],
         "marker": {
          "color": "rgb(242, 177, 172)",
          "opacity": 0.7,
          "size": [
           15,
           15,
           12,
           9,
           12,
           13.5,
           12,
           10.5,
           12,
           12,
           12,
           12,
           12,
           12,
           12,
           10.5,
           10.5,
           12,
           12,
           12,
           12,
           3,
           12,
           12,
           12,
           12,
           12,
           12,
           13.5,
           12,
           12,
           13.5,
           13.5,
           9,
           10.5,
           12,
           12,
           12,
           12,
           12,
           13.5,
           12,
           9,
           12,
           12,
           10.5,
           10.5,
           12,
           12,
           12,
           12,
           12,
           13.5,
           12,
           12,
           10.5,
           12,
           12,
           12,
           12,
           10.5,
           12,
           12,
           12,
           12,
           12,
           12,
           10.5,
           13.5,
           12,
           12,
           12,
           12,
           12,
           12,
           12,
           11,
           12,
           12,
           12,
           13.5,
           12,
           12,
           12,
           12,
           13.5,
           10.5,
           12,
           12,
           12,
           12,
           3,
           12,
           12,
           12,
           10.5,
           12,
           13.5,
           13.5,
           12,
           12,
           12,
           12,
           12,
           12,
           10.5,
           12,
           9,
           9,
           12,
           13.5,
           12,
           12,
           12,
           12,
           12,
           12,
           12,
           12,
           12,
           12,
           12,
           12,
           12,
           12,
           12,
           12,
           12,
           12,
           12,
           12,
           12,
           12,
           1.5,
           12,
           10,
           12,
           12,
           12,
           12,
           12,
           12,
           12,
           12,
           12,
           12,
           1.5,
           6,
           12,
           12,
           12,
           12,
           9,
           12,
           12,
           12,
           12,
           12,
           12,
           12,
           12,
           12,
           12,
           12,
           12,
           12,
           12,
           12,
           1.5,
           12,
           10.5,
           12,
           13.5,
           12,
           12,
           12,
           12,
           12,
           12,
           12,
           12,
           13.5,
           10.5,
           12,
           12,
           12,
           12,
           12,
           13.5,
           12,
           12,
           12,
           12,
           12,
           12,
           13.5,
           12,
           12,
           9,
           13.5,
           12,
           12,
           12,
           12,
           12,
           12,
           13.5,
           12,
           12,
           12,
           12,
           12,
           12,
           12,
           9,
           12,
           12,
           13.5,
           12,
           12,
           12,
           12,
           12,
           12,
           12,
           12,
           12,
           12,
           12,
           12,
           12,
           12,
           12,
           12,
           12,
           12,
           12,
           12,
           12,
           12,
           12,
           12,
           12,
           12,
           12,
           12,
           12,
           12,
           12,
           12,
           12,
           12,
           12,
           12,
           12,
           12,
           12,
           12,
           12,
           12,
           12,
           12,
           12,
           12,
           12,
           12,
           12,
           12,
           12
          ]
         },
         "mode": "markers",
         "type": "scattermapbox"
        }
       ],
       "layout": {
        "autosize": true,
        "height": 1000,
        "hovermode": "closest",
        "mapbox": {
         "bearing": 0,
         "center": {
          "lat": 40.435,
          "lon": -3.69
         },
         "style": "open-street-map",
         "zoom": 12
        },
        "showlegend": false,
        "template": {
         "data": {
          "bar": [
           {
            "error_x": {
             "color": "#2a3f5f"
            },
            "error_y": {
             "color": "#2a3f5f"
            },
            "marker": {
             "line": {
              "color": "#E5ECF6",
              "width": 0.5
             },
             "pattern": {
              "fillmode": "overlay",
              "size": 10,
              "solidity": 0.2
             }
            },
            "type": "bar"
           }
          ],
          "barpolar": [
           {
            "marker": {
             "line": {
              "color": "#E5ECF6",
              "width": 0.5
             },
             "pattern": {
              "fillmode": "overlay",
              "size": 10,
              "solidity": 0.2
             }
            },
            "type": "barpolar"
           }
          ],
          "carpet": [
           {
            "aaxis": {
             "endlinecolor": "#2a3f5f",
             "gridcolor": "white",
             "linecolor": "white",
             "minorgridcolor": "white",
             "startlinecolor": "#2a3f5f"
            },
            "baxis": {
             "endlinecolor": "#2a3f5f",
             "gridcolor": "white",
             "linecolor": "white",
             "minorgridcolor": "white",
             "startlinecolor": "#2a3f5f"
            },
            "type": "carpet"
           }
          ],
          "choropleth": [
           {
            "colorbar": {
             "outlinewidth": 0,
             "ticks": ""
            },
            "type": "choropleth"
           }
          ],
          "contour": [
           {
            "colorbar": {
             "outlinewidth": 0,
             "ticks": ""
            },
            "colorscale": [
             [
              0,
              "#0d0887"
             ],
             [
              0.1111111111111111,
              "#46039f"
             ],
             [
              0.2222222222222222,
              "#7201a8"
             ],
             [
              0.3333333333333333,
              "#9c179e"
             ],
             [
              0.4444444444444444,
              "#bd3786"
             ],
             [
              0.5555555555555556,
              "#d8576b"
             ],
             [
              0.6666666666666666,
              "#ed7953"
             ],
             [
              0.7777777777777778,
              "#fb9f3a"
             ],
             [
              0.8888888888888888,
              "#fdca26"
             ],
             [
              1,
              "#f0f921"
             ]
            ],
            "type": "contour"
           }
          ],
          "contourcarpet": [
           {
            "colorbar": {
             "outlinewidth": 0,
             "ticks": ""
            },
            "type": "contourcarpet"
           }
          ],
          "heatmap": [
           {
            "colorbar": {
             "outlinewidth": 0,
             "ticks": ""
            },
            "colorscale": [
             [
              0,
              "#0d0887"
             ],
             [
              0.1111111111111111,
              "#46039f"
             ],
             [
              0.2222222222222222,
              "#7201a8"
             ],
             [
              0.3333333333333333,
              "#9c179e"
             ],
             [
              0.4444444444444444,
              "#bd3786"
             ],
             [
              0.5555555555555556,
              "#d8576b"
             ],
             [
              0.6666666666666666,
              "#ed7953"
             ],
             [
              0.7777777777777778,
              "#fb9f3a"
             ],
             [
              0.8888888888888888,
              "#fdca26"
             ],
             [
              1,
              "#f0f921"
             ]
            ],
            "type": "heatmap"
           }
          ],
          "heatmapgl": [
           {
            "colorbar": {
             "outlinewidth": 0,
             "ticks": ""
            },
            "colorscale": [
             [
              0,
              "#0d0887"
             ],
             [
              0.1111111111111111,
              "#46039f"
             ],
             [
              0.2222222222222222,
              "#7201a8"
             ],
             [
              0.3333333333333333,
              "#9c179e"
             ],
             [
              0.4444444444444444,
              "#bd3786"
             ],
             [
              0.5555555555555556,
              "#d8576b"
             ],
             [
              0.6666666666666666,
              "#ed7953"
             ],
             [
              0.7777777777777778,
              "#fb9f3a"
             ],
             [
              0.8888888888888888,
              "#fdca26"
             ],
             [
              1,
              "#f0f921"
             ]
            ],
            "type": "heatmapgl"
           }
          ],
          "histogram": [
           {
            "marker": {
             "pattern": {
              "fillmode": "overlay",
              "size": 10,
              "solidity": 0.2
             }
            },
            "type": "histogram"
           }
          ],
          "histogram2d": [
           {
            "colorbar": {
             "outlinewidth": 0,
             "ticks": ""
            },
            "colorscale": [
             [
              0,
              "#0d0887"
             ],
             [
              0.1111111111111111,
              "#46039f"
             ],
             [
              0.2222222222222222,
              "#7201a8"
             ],
             [
              0.3333333333333333,
              "#9c179e"
             ],
             [
              0.4444444444444444,
              "#bd3786"
             ],
             [
              0.5555555555555556,
              "#d8576b"
             ],
             [
              0.6666666666666666,
              "#ed7953"
             ],
             [
              0.7777777777777778,
              "#fb9f3a"
             ],
             [
              0.8888888888888888,
              "#fdca26"
             ],
             [
              1,
              "#f0f921"
             ]
            ],
            "type": "histogram2d"
           }
          ],
          "histogram2dcontour": [
           {
            "colorbar": {
             "outlinewidth": 0,
             "ticks": ""
            },
            "colorscale": [
             [
              0,
              "#0d0887"
             ],
             [
              0.1111111111111111,
              "#46039f"
             ],
             [
              0.2222222222222222,
              "#7201a8"
             ],
             [
              0.3333333333333333,
              "#9c179e"
             ],
             [
              0.4444444444444444,
              "#bd3786"
             ],
             [
              0.5555555555555556,
              "#d8576b"
             ],
             [
              0.6666666666666666,
              "#ed7953"
             ],
             [
              0.7777777777777778,
              "#fb9f3a"
             ],
             [
              0.8888888888888888,
              "#fdca26"
             ],
             [
              1,
              "#f0f921"
             ]
            ],
            "type": "histogram2dcontour"
           }
          ],
          "mesh3d": [
           {
            "colorbar": {
             "outlinewidth": 0,
             "ticks": ""
            },
            "type": "mesh3d"
           }
          ],
          "parcoords": [
           {
            "line": {
             "colorbar": {
              "outlinewidth": 0,
              "ticks": ""
             }
            },
            "type": "parcoords"
           }
          ],
          "pie": [
           {
            "automargin": true,
            "type": "pie"
           }
          ],
          "scatter": [
           {
            "fillpattern": {
             "fillmode": "overlay",
             "size": 10,
             "solidity": 0.2
            },
            "type": "scatter"
           }
          ],
          "scatter3d": [
           {
            "line": {
             "colorbar": {
              "outlinewidth": 0,
              "ticks": ""
             }
            },
            "marker": {
             "colorbar": {
              "outlinewidth": 0,
              "ticks": ""
             }
            },
            "type": "scatter3d"
           }
          ],
          "scattercarpet": [
           {
            "marker": {
             "colorbar": {
              "outlinewidth": 0,
              "ticks": ""
             }
            },
            "type": "scattercarpet"
           }
          ],
          "scattergeo": [
           {
            "marker": {
             "colorbar": {
              "outlinewidth": 0,
              "ticks": ""
             }
            },
            "type": "scattergeo"
           }
          ],
          "scattergl": [
           {
            "marker": {
             "colorbar": {
              "outlinewidth": 0,
              "ticks": ""
             }
            },
            "type": "scattergl"
           }
          ],
          "scattermapbox": [
           {
            "marker": {
             "colorbar": {
              "outlinewidth": 0,
              "ticks": ""
             }
            },
            "type": "scattermapbox"
           }
          ],
          "scatterpolar": [
           {
            "marker": {
             "colorbar": {
              "outlinewidth": 0,
              "ticks": ""
             }
            },
            "type": "scatterpolar"
           }
          ],
          "scatterpolargl": [
           {
            "marker": {
             "colorbar": {
              "outlinewidth": 0,
              "ticks": ""
             }
            },
            "type": "scatterpolargl"
           }
          ],
          "scatterternary": [
           {
            "marker": {
             "colorbar": {
              "outlinewidth": 0,
              "ticks": ""
             }
            },
            "type": "scatterternary"
           }
          ],
          "surface": [
           {
            "colorbar": {
             "outlinewidth": 0,
             "ticks": ""
            },
            "colorscale": [
             [
              0,
              "#0d0887"
             ],
             [
              0.1111111111111111,
              "#46039f"
             ],
             [
              0.2222222222222222,
              "#7201a8"
             ],
             [
              0.3333333333333333,
              "#9c179e"
             ],
             [
              0.4444444444444444,
              "#bd3786"
             ],
             [
              0.5555555555555556,
              "#d8576b"
             ],
             [
              0.6666666666666666,
              "#ed7953"
             ],
             [
              0.7777777777777778,
              "#fb9f3a"
             ],
             [
              0.8888888888888888,
              "#fdca26"
             ],
             [
              1,
              "#f0f921"
             ]
            ],
            "type": "surface"
           }
          ],
          "table": [
           {
            "cells": {
             "fill": {
              "color": "#EBF0F8"
             },
             "line": {
              "color": "white"
             }
            },
            "header": {
             "fill": {
              "color": "#C8D4E3"
             },
             "line": {
              "color": "white"
             }
            },
            "type": "table"
           }
          ]
         },
         "layout": {
          "annotationdefaults": {
           "arrowcolor": "#2a3f5f",
           "arrowhead": 0,
           "arrowwidth": 1
          },
          "autotypenumbers": "strict",
          "coloraxis": {
           "colorbar": {
            "outlinewidth": 0,
            "ticks": ""
           }
          },
          "colorscale": {
           "diverging": [
            [
             0,
             "#8e0152"
            ],
            [
             0.1,
             "#c51b7d"
            ],
            [
             0.2,
             "#de77ae"
            ],
            [
             0.3,
             "#f1b6da"
            ],
            [
             0.4,
             "#fde0ef"
            ],
            [
             0.5,
             "#f7f7f7"
            ],
            [
             0.6,
             "#e6f5d0"
            ],
            [
             0.7,
             "#b8e186"
            ],
            [
             0.8,
             "#7fbc41"
            ],
            [
             0.9,
             "#4d9221"
            ],
            [
             1,
             "#276419"
            ]
           ],
           "sequential": [
            [
             0,
             "#0d0887"
            ],
            [
             0.1111111111111111,
             "#46039f"
            ],
            [
             0.2222222222222222,
             "#7201a8"
            ],
            [
             0.3333333333333333,
             "#9c179e"
            ],
            [
             0.4444444444444444,
             "#bd3786"
            ],
            [
             0.5555555555555556,
             "#d8576b"
            ],
            [
             0.6666666666666666,
             "#ed7953"
            ],
            [
             0.7777777777777778,
             "#fb9f3a"
            ],
            [
             0.8888888888888888,
             "#fdca26"
            ],
            [
             1,
             "#f0f921"
            ]
           ],
           "sequentialminus": [
            [
             0,
             "#0d0887"
            ],
            [
             0.1111111111111111,
             "#46039f"
            ],
            [
             0.2222222222222222,
             "#7201a8"
            ],
            [
             0.3333333333333333,
             "#9c179e"
            ],
            [
             0.4444444444444444,
             "#bd3786"
            ],
            [
             0.5555555555555556,
             "#d8576b"
            ],
            [
             0.6666666666666666,
             "#ed7953"
            ],
            [
             0.7777777777777778,
             "#fb9f3a"
            ],
            [
             0.8888888888888888,
             "#fdca26"
            ],
            [
             1,
             "#f0f921"
            ]
           ]
          },
          "colorway": [
           "#636efa",
           "#EF553B",
           "#00cc96",
           "#ab63fa",
           "#FFA15A",
           "#19d3f3",
           "#FF6692",
           "#B6E880",
           "#FF97FF",
           "#FECB52"
          ],
          "font": {
           "color": "#2a3f5f"
          },
          "geo": {
           "bgcolor": "white",
           "lakecolor": "white",
           "landcolor": "#E5ECF6",
           "showlakes": true,
           "showland": true,
           "subunitcolor": "white"
          },
          "hoverlabel": {
           "align": "left"
          },
          "hovermode": "closest",
          "mapbox": {
           "style": "light"
          },
          "paper_bgcolor": "white",
          "plot_bgcolor": "#E5ECF6",
          "polar": {
           "angularaxis": {
            "gridcolor": "white",
            "linecolor": "white",
            "ticks": ""
           },
           "bgcolor": "#E5ECF6",
           "radialaxis": {
            "gridcolor": "white",
            "linecolor": "white",
            "ticks": ""
           }
          },
          "scene": {
           "xaxis": {
            "backgroundcolor": "#E5ECF6",
            "gridcolor": "white",
            "gridwidth": 2,
            "linecolor": "white",
            "showbackground": true,
            "ticks": "",
            "zerolinecolor": "white"
           },
           "yaxis": {
            "backgroundcolor": "#E5ECF6",
            "gridcolor": "white",
            "gridwidth": 2,
            "linecolor": "white",
            "showbackground": true,
            "ticks": "",
            "zerolinecolor": "white"
           },
           "zaxis": {
            "backgroundcolor": "#E5ECF6",
            "gridcolor": "white",
            "gridwidth": 2,
            "linecolor": "white",
            "showbackground": true,
            "ticks": "",
            "zerolinecolor": "white"
           }
          },
          "shapedefaults": {
           "line": {
            "color": "#2a3f5f"
           }
          },
          "ternary": {
           "aaxis": {
            "gridcolor": "white",
            "linecolor": "white",
            "ticks": ""
           },
           "baxis": {
            "gridcolor": "white",
            "linecolor": "white",
            "ticks": ""
           },
           "bgcolor": "#E5ECF6",
           "caxis": {
            "gridcolor": "white",
            "linecolor": "white",
            "ticks": ""
           }
          },
          "title": {
           "x": 0.05
          },
          "xaxis": {
           "automargin": true,
           "gridcolor": "white",
           "linecolor": "white",
           "ticks": "",
           "title": {
            "standoff": 15
           },
           "zerolinecolor": "white",
           "zerolinewidth": 2
          },
          "yaxis": {
           "automargin": true,
           "gridcolor": "white",
           "linecolor": "white",
           "ticks": "",
           "title": {
            "standoff": 15
           },
           "zerolinecolor": "white",
           "zerolinewidth": 2
          }
         }
        },
        "title": {
         "text": "Bases BiciMad"
        },
        "width": 1000
       }
      }
     },
     "metadata": {},
     "output_type": "display_data"
    }
   ],
   "source": [
    "# https://plotly.com/python/scattermapbox/\n",
    "fig = go.Figure()\n",
    "fig.add_trace(go.Scattermapbox(\n",
    "        lat = bases[\"Latitud\"],\n",
    "        lon=bases[\"Longitud\"],\n",
    "        mode='markers',\n",
    "        marker=go.scattermapbox.Marker(\n",
    "            size=bases[\"Número de Plazas\"],\n",
    "            opacity=0.7        ),\n",
    "        text=\"Número\",\n",
    "        hoverinfo='text'\n",
    "    ))\n",
    "\n",
    "fig.add_trace(go.Scattermapbox(\n",
    "        lat = bases[\"Latitud\"],\n",
    "        lon=bases[\"Longitud\"],\n",
    "        mode='markers',\n",
    "        marker=go.scattermapbox.Marker(\n",
    "            size=bases[\"Número de Plazas\"]*0.5,\n",
    "            color='rgb(242, 177, 172)',\n",
    "            opacity=0.7        )\n",
    "    ))\n",
    "\n",
    "fig.update_layout(\n",
    "    title='Bases BiciMad',\n",
    "    autosize=True,\n",
    "    hovermode='closest',\n",
    "    showlegend=False,\n",
    "    width = 1000,\n",
    "    height = 1000,\n",
    "    mapbox=dict(\n",
    "        bearing=0,\n",
    "        center=dict(\n",
    "            lat=40.435,\n",
    "            lon=-3.69\n",
    "        ),\n",
    "        zoom=12,\n",
    "        style='open-street-map'\n",
    "        \n",
    "    ),\n",
    ")\n",
    "\n",
    "fig.show()"
   ]
  },
  {
   "cell_type": "code",
   "execution_count": 195,
   "metadata": {},
   "outputs": [
    {
     "data": {
      "application/vnd.plotly.v1+json": {
       "config": {
        "plotlyServerURL": "https://plot.ly"
       },
       "data": [
        {
         "lat": [
          40.4171107,
          40.4172132,
          40.42058,
          40.4303224,
          40.4285905,
          40.428362,
          40.4241633,
          40.4252161,
          40.4277143,
          40.4156134,
          40.4254027,
          40.4270517,
          40.4285271,
          40.4273652,
          40.4259913,
          40.4262937,
          40.4229421,
          40.4231675,
          40.4209206,
          40.4218997,
          40.4191989,
          40.4191858,
          40.4201452,
          40.4202137,
          40.417906,
          40.4173416,
          40.4172593,
          40.4238308,
          40.4132831,
          40.4180695,
          40.416244,
          40.4193355,
          40.4163446,
          40.4148511,
          40.4164757,
          40.4144117,
          40.4141792,
          40.4168229,
          40.4108606,
          40.4112961,
          40.4112662,
          40.4137865,
          40.412228,
          40.4107714,
          40.4100889,
          40.4098162,
          40.4069486,
          40.4054496,
          40.4046233,
          40.4054473,
          40.4060497,
          40.4083102,
          40.4077234,
          40.4145181,
          40.4082802,
          40.4266233,
          40.4240716,
          40.418484,
          40.4296363,
          40.4222601,
          40.4254802,
          40.4194508,
          40.4214379,
          40.4212986,
          40.4178926,
          40.4166859,
          40.410829,
          40.412781,
          40.4100609,
          40.4152203,
          40.4160054,
          40.415721,
          40.411463,
          40.4117601,
          40.4083387,
          40.4072851,
          40.4063347,
          40.4005704,
          40.4050482,
          40.4074122,
          40.407626,
          40.4095758,
          40.4084793,
          40.4132589,
          40.4033695,
          40.4211415,
          40.4185779,
          40.4276717,
          40.4312077,
          40.4272628,
          40.4250878,
          40.4250791,
          40.4261113,
          40.4262237,
          40.4256984,
          40.4233686,
          40.4226634,
          40.4220516,
          40.4224846,
          40.4241911,
          40.4261048,
          40.4247843,
          40.4231223,
          40.4211552,
          40.4303733,
          40.4267658,
          40.4270684,
          40.4248642,
          40.4250085,
          40.4215952,
          40.4274425,
          40.4301281,
          40.4347654,
          40.4335742,
          40.433982,
          40.4326267,
          40.4277472,
          40.4278211,
          40.4253802,
          40.4240632,
          40.4241889,
          40.4309046,
          40.4007959,
          40.4014567,
          40.4030362,
          40.4018356,
          40.429524,
          40.4306386,
          40.4308173,
          40.4353128,
          40.4345672,
          40.4339055,
          40.4390329,
          40.4390391,
          40.4384684,
          40.4417195,
          40.4417543,
          40.4463889,
          40.4471673,
          40.444027,
          40.4414845,
          40.4452833,
          40.4454958,
          40.4456884,
          40.4393558,
          40.438628,
          40.4385198,
          40.4354253,
          40.4335262,
          40.434616,
          40.4323192,
          40.4297717,
          40.4442406,
          40.4483353,
          40.4510203,
          40.4498448,
          40.4491125,
          40.4488617,
          40.4527163,
          40.45235,
          40.4547769,
          40.4572863,
          40.4592406,
          40.459282,
          40.45862,
          40.4542549,
          40.4571995,
          40.4221372,
          40.4220566,
          40.4035176,
          40.4036349,
          40.3971366,
          40.3928841,
          40.4139396,
          40.4137331,
          40.4045828,
          40.401578,
          40.4011039,
          40.3997626,
          40.4008683,
          40.3981757,
          40.397417,
          40.3962687,
          40.3942411,
          40.3915019,
          40.4030242,
          40.3979341,
          40.3941252,
          40.4181748,
          40.4187145,
          40.4256358,
          40.4260023,
          40.4250682,
          40.429069,
          40.4301353,
          40.4311658,
          40.4350206,
          40.4343761,
          40.4346168,
          40.431855,
          40.4325204,
          40.4371986,
          40.4392483,
          40.4440957,
          40.4515501,
          40.4331172,
          40.4343244,
          40.4336617,
          40.4387323,
          40.4411686,
          40.4417547,
          40.4476606,
          40.4535024,
          40.4607994,
          40.4630291,
          40.4665125,
          40.4656872,
          40.4197538,
          40.4206168,
          40.3981605,
          40.3889363,
          40.4434012,
          40.4296903,
          40.4140528,
          40.4810028,
          40.4105519,
          40.4083961,
          40.4061548,
          40.4004579,
          40.3917816,
          40.4064341,
          40.408882,
          40.4026388,
          40.3991986,
          40.3940355,
          40.3943842,
          40.4370782,
          40.4436986,
          40.439748,
          40.4328362,
          40.4229144,
          40.426163,
          40.3889853,
          40.4074236,
          40.451395,
          40.4562183,
          40.4567345,
          40.4367138,
          40.4377568,
          40.4394662,
          40.4351648,
          40.4398513,
          40.4364656,
          40.436026,
          40.4383672,
          40.4743243,
          40.4794159,
          40.4408151,
          40.444183,
          40.4715645,
          40.455606,
          40.4610436,
          40.4637286,
          40.4463599,
          40.438804,
          40.449019,
          40.4444176,
          40.4482316,
          40.4505032
         ],
         "lon": [
          -3.701998,
          -3.7015636,
          -3.7056739,
          -3.7072122,
          -3.7026739,
          -3.7020743,
          -3.6984093,
          -3.6977399,
          -3.6953067,
          -3.7094093,
          -3.6920816,
          -3.7036192,
          -3.7062202,
          -3.7104727,
          -3.7133768,
          -3.7073611,
          -3.7074955,
          -3.7041859,
          -3.6995679,
          -3.6953951,
          -3.6952095,
          -3.6952901,
          -3.7064995,
          -3.7082901,
          -3.7105866,
          -3.7059978,
          -3.7060243,
          -3.6945421,
          -3.6955803,
          -3.6983662,
          -3.6958008,
          -3.7115428,
          -3.706625,
          -3.7061355,
          -3.7032096,
          -3.7035044,
          -3.7103676,
          -3.711764,
          -3.7141234,
          -3.7114443,
          -3.7090043,
          -3.7047463,
          -3.6989898,
          -3.6982294,
          -3.7025446,
          -3.7039138,
          -3.7111381,
          -3.7071178,
          -3.702755,
          -3.7020997,
          -3.6992427,
          -3.69322,
          -3.6935934,
          -3.7007838,
          -3.7007295,
          -3.7003435,
          -3.7019295,
          -3.7032875,
          -3.7128181,
          -3.6979458,
          -3.7041167,
          -3.6881994,
          -3.675206,
          -3.6724223,
          -3.6706508,
          -3.6893825,
          -3.6931349,
          -3.6911649,
          -3.6888669,
          -3.6777994,
          -3.674021,
          -3.669623,
          -3.669099,
          -3.6765768,
          -3.6784149,
          -3.6751544,
          -3.6707742,
          -3.6745783,
          -3.6805524,
          -3.6904816,
          -3.6907238,
          -3.6919663,
          -3.669683,
          -3.6745339,
          -3.6726923,
          -3.6799299,
          -3.6933298,
          -3.6835631,
          -3.6837471,
          -3.6751716,
          -3.6837297,
          -3.6835613,
          -3.6788203,
          -3.6864821,
          -3.6894124,
          -3.6907044,
          -3.6869914,
          -3.6820471,
          -3.6801515,
          -3.6754079,
          -3.6739638,
          -3.6738777,
          -3.6694246,
          -3.6840806,
          -3.6865351,
          -3.6895792,
          -3.6874745,
          -3.6878868,
          -3.6878604,
          -3.6884243,
          -3.670653,
          -3.6815253,
          -3.7201316,
          -3.7174896,
          -3.7177783,
          -3.7248727,
          -3.7207145,
          -3.7174151,
          -3.7169626,
          -3.7117588,
          -3.7118457,
          -3.7189152,
          -3.688135,
          -3.6865777,
          -3.6947791,
          -3.6986046,
          -3.6962626,
          -3.7134685,
          -3.6993182,
          -3.6948316,
          -3.7017424,
          -3.7083987,
          -3.7155506,
          -3.7156915,
          -3.6982818,
          -3.7017071,
          -3.704022,
          -3.7035911,
          -3.7000292,
          -3.6955114,
          -3.6928901,
          -3.6908127,
          -3.6852925,
          -3.6915818,
          -3.6904495,
          -3.6829045,
          -3.6829127,
          -3.6892902,
          -3.6880402,
          -3.6782355,
          -3.6754628,
          -3.671401,
          -3.67879,
          -3.6795811,
          -3.6816993,
          -3.6878512,
          -3.690541,
          -3.6952023,
          -3.6989497,
          -3.6930894,
          -3.6946736,
          -3.700864,
          -3.6913229,
          -3.6893305,
          -3.6847049,
          -3.6837348,
          -3.6766176,
          -3.7220624,
          -3.7219659,
          -3.7107559,
          -3.7064372,
          -3.6944851,
          -3.6976134,
          -3.7133382,
          -3.7176456,
          -3.6959159,
          -3.713846,
          -3.704403,
          -3.6984459,
          -3.6935448,
          -3.7023615,
          -3.7063771,
          -3.6983033,
          -3.6936302,
          -3.694087,
          -3.6788939,
          -3.6690602,
          -3.6759244,
          -3.67664,
          -3.6655023,
          -3.6694506,
          -3.6653095,
          -3.661533,
          -3.6782783,
          -3.6638407,
          -3.6589062,
          -3.6555431,
          -3.6834711,
          -3.6740365,
          -3.6714315,
          -3.665644,
          -3.6771947,
          -3.6754913,
          -3.6750918,
          -3.6780252,
          -3.6915713,
          -3.7148406,
          -3.704671,
          -3.7038161,
          -3.7080969,
          -3.7144239,
          -3.7041702,
          -3.7033408,
          -3.6990499,
          -3.6973991,
          -3.6886852,
          -3.6887875,
          -3.702631,
          -3.7025369,
          -3.7165313,
          -3.7001575,
          -3.6569597,
          -3.6409697,
          -3.7288948,
          -3.6891094,
          -3.6573999,
          -3.6467783,
          -3.6514264,
          -3.6346859,
          -3.7026887,
          -3.7245226,
          -3.7288262,
          -3.6601933,
          -3.6606789,
          -3.6661421,
          -3.7080437,
          -3.6486507,
          -3.6491034,
          -3.6558172,
          -3.6485701,
          -3.655633,
          -3.651125,
          -3.6911834,
          -3.7171449,
          -3.7105146,
          -3.6932474,
          -3.7079276,
          -3.6609886,
          -3.6677796,
          -3.6629058,
          -3.6700894,
          -3.7175468,
          -3.7101726,
          -3.699252,
          -3.692843,
          -3.6878414,
          -3.6852959,
          -3.6861,
          -3.6668532,
          -3.6839094,
          -3.688443,
          -3.6765549,
          -3.6851815,
          -3.7138353,
          -3.73029,
          -3.7273004,
          -3.727031,
          -3.7272637,
          -3.7292576
         ],
         "marker": {
          "autocolorscale": false,
          "cmax": 30,
          "cmin": 0,
          "color": [
           30,
           30,
           24,
           18,
           24,
           27,
           24,
           21,
           24,
           24,
           24,
           24,
           24,
           24,
           24,
           21,
           21,
           24,
           24,
           24,
           24,
           6,
           24,
           24,
           24,
           24,
           24,
           24,
           27,
           24,
           24,
           27,
           27,
           18,
           21,
           24,
           24,
           24,
           24,
           24,
           27,
           24,
           18,
           24,
           24,
           21,
           21,
           24,
           24,
           24,
           24,
           24,
           27,
           24,
           24,
           21,
           24,
           24,
           24,
           24,
           21,
           24,
           24,
           24,
           24,
           24,
           24,
           21,
           27,
           24,
           24,
           24,
           24,
           24,
           24,
           24,
           22,
           24,
           24,
           24,
           27,
           24,
           24,
           24,
           24,
           27,
           21,
           24,
           24,
           24,
           24,
           6,
           24,
           24,
           24,
           21,
           24,
           27,
           27,
           24,
           24,
           24,
           24,
           24,
           24,
           21,
           24,
           18,
           18,
           24,
           27,
           24,
           24,
           24,
           24,
           24,
           24,
           24,
           24,
           24,
           24,
           24,
           24,
           24,
           24,
           24,
           24,
           24,
           24,
           24,
           24,
           24,
           24,
           3,
           24,
           20,
           24,
           24,
           24,
           24,
           24,
           24,
           24,
           24,
           24,
           24,
           3,
           12,
           24,
           24,
           24,
           24,
           18,
           24,
           24,
           24,
           24,
           24,
           24,
           24,
           24,
           24,
           24,
           24,
           24,
           24,
           24,
           24,
           3,
           24,
           21,
           24,
           27,
           24,
           24,
           24,
           24,
           24,
           24,
           24,
           24,
           27,
           21,
           24,
           24,
           24,
           24,
           24,
           27,
           24,
           24,
           24,
           24,
           24,
           24,
           27,
           24,
           24,
           18,
           27,
           24,
           24,
           24,
           24,
           24,
           24,
           27,
           24,
           24,
           24,
           24,
           24,
           24,
           24,
           18,
           24,
           24,
           27,
           24,
           24,
           24,
           24,
           24,
           24,
           24,
           24,
           24,
           24,
           24,
           24,
           24,
           24,
           24,
           24,
           24,
           24,
           24,
           24,
           24,
           24,
           24,
           24,
           24,
           24,
           24,
           24,
           24,
           24,
           24,
           24,
           24,
           24,
           24,
           24,
           24,
           24,
           24,
           24,
           24,
           24,
           24,
           24,
           24,
           24,
           24,
           24,
           24,
           24,
           24
          ],
          "colorbar": {
           "title": {
            "text": "Incoming flights<br>February 2011"
           }
          },
          "colorscale": [
           [
            0,
            "rgb(247,251,255)"
           ],
           [
            0.125,
            "rgb(222,235,247)"
           ],
           [
            0.25,
            "rgb(198,219,239)"
           ],
           [
            0.375,
            "rgb(158,202,225)"
           ],
           [
            0.5,
            "rgb(107,174,214)"
           ],
           [
            0.625,
            "rgb(66,146,198)"
           ],
           [
            0.75,
            "rgb(33,113,181)"
           ],
           [
            0.875,
            "rgb(8,81,156)"
           ],
           [
            1,
            "rgb(8,48,107)"
           ]
          ],
          "line": {
           "color": "rgba(102, 102, 102)",
           "width": 1
          },
          "opacity": 0.8,
          "reversescale": true,
          "size": 8,
          "symbol": "square"
         },
         "mode": "markers",
         "text": [
          "001 a",
          "001 b",
          2,
          3,
          4,
          5,
          6,
          7,
          8,
          9,
          10,
          11,
          12,
          13,
          14,
          15,
          16,
          17,
          18,
          19,
          20,
          "020 ampliacion",
          22,
          23,
          24,
          "025 a",
          "025 b",
          26,
          27,
          28,
          29,
          30,
          31,
          32,
          33,
          34,
          35,
          36,
          37,
          38,
          39,
          40,
          41,
          42,
          43,
          44,
          45,
          46,
          47,
          48,
          49,
          50,
          51,
          52,
          53,
          54,
          55,
          56,
          57,
          58,
          59,
          60,
          61,
          62,
          63,
          65,
          67,
          68,
          69,
          70,
          71,
          72,
          73,
          74,
          75,
          76,
          77,
          78,
          79,
          "080 a",
          "080 b",
          81,
          82,
          83,
          84,
          85,
          86,
          87,
          88,
          89,
          90,
          "090 ampliacion",
          91,
          92,
          93,
          94,
          95,
          96,
          97,
          98,
          99,
          100,
          101,
          102,
          103,
          104,
          105,
          "106 a",
          "106 b",
          107,
          108,
          109,
          110,
          "111 a",
          "111 b",
          112,
          113,
          114,
          115,
          "116 a",
          "116 b",
          117,
          118,
          119,
          120,
          121,
          122,
          123,
          124,
          125,
          126,
          127,
          128,
          "128 ampliacion",
          129,
          130,
          131,
          132,
          133,
          134,
          135,
          136,
          137,
          138,
          139,
          140,
          "140 ampliación",
          141,
          142,
          143,
          144,
          145,
          146,
          147,
          148,
          149,
          150,
          151,
          152,
          153,
          154,
          155,
          156,
          157,
          158,
          159,
          160,
          161,
          "161 ampliacion",
          162,
          163,
          164,
          165,
          166,
          167,
          168,
          169,
          170,
          171,
          172,
          173,
          174,
          175,
          176,
          177,
          178,
          179,
          180,
          181,
          182,
          183,
          184,
          185,
          186,
          187,
          188,
          189,
          190,
          191,
          192,
          193,
          194,
          195,
          196,
          197,
          198,
          199,
          200,
          201,
          202,
          203,
          204,
          205,
          206,
          207,
          208,
          209,
          210,
          211,
          212,
          213,
          214,
          215,
          216,
          217,
          218,
          219,
          220,
          221,
          222,
          223,
          224,
          225,
          226,
          227,
          228,
          229,
          230,
          231,
          232,
          233,
          234,
          235,
          236,
          237,
          238,
          239,
          240,
          241,
          242,
          243,
          244,
          245,
          246,
          247,
          248,
          249,
          250,
          251,
          252,
          253,
          254,
          255,
          256,
          257,
          258,
          259,
          260,
          261
         ],
         "type": "scattergeo"
        }
       ],
       "layout": {
        "geo": {
         "countrycolor": "rgb(217, 217, 217)",
         "countrywidth": 0.5,
         "fitbounds": "locations",
         "landcolor": "rgb(250, 250, 250)",
         "showland": true,
         "subunitcolor": "rgb(217, 217, 217)",
         "subunitwidth": 0.5,
         "visible": false
        },
        "margin": {
         "b": 0,
         "l": 0,
         "r": 0,
         "t": 0
        },
        "template": {
         "data": {
          "bar": [
           {
            "error_x": {
             "color": "#2a3f5f"
            },
            "error_y": {
             "color": "#2a3f5f"
            },
            "marker": {
             "line": {
              "color": "#E5ECF6",
              "width": 0.5
             },
             "pattern": {
              "fillmode": "overlay",
              "size": 10,
              "solidity": 0.2
             }
            },
            "type": "bar"
           }
          ],
          "barpolar": [
           {
            "marker": {
             "line": {
              "color": "#E5ECF6",
              "width": 0.5
             },
             "pattern": {
              "fillmode": "overlay",
              "size": 10,
              "solidity": 0.2
             }
            },
            "type": "barpolar"
           }
          ],
          "carpet": [
           {
            "aaxis": {
             "endlinecolor": "#2a3f5f",
             "gridcolor": "white",
             "linecolor": "white",
             "minorgridcolor": "white",
             "startlinecolor": "#2a3f5f"
            },
            "baxis": {
             "endlinecolor": "#2a3f5f",
             "gridcolor": "white",
             "linecolor": "white",
             "minorgridcolor": "white",
             "startlinecolor": "#2a3f5f"
            },
            "type": "carpet"
           }
          ],
          "choropleth": [
           {
            "colorbar": {
             "outlinewidth": 0,
             "ticks": ""
            },
            "type": "choropleth"
           }
          ],
          "contour": [
           {
            "colorbar": {
             "outlinewidth": 0,
             "ticks": ""
            },
            "colorscale": [
             [
              0,
              "#0d0887"
             ],
             [
              0.1111111111111111,
              "#46039f"
             ],
             [
              0.2222222222222222,
              "#7201a8"
             ],
             [
              0.3333333333333333,
              "#9c179e"
             ],
             [
              0.4444444444444444,
              "#bd3786"
             ],
             [
              0.5555555555555556,
              "#d8576b"
             ],
             [
              0.6666666666666666,
              "#ed7953"
             ],
             [
              0.7777777777777778,
              "#fb9f3a"
             ],
             [
              0.8888888888888888,
              "#fdca26"
             ],
             [
              1,
              "#f0f921"
             ]
            ],
            "type": "contour"
           }
          ],
          "contourcarpet": [
           {
            "colorbar": {
             "outlinewidth": 0,
             "ticks": ""
            },
            "type": "contourcarpet"
           }
          ],
          "heatmap": [
           {
            "colorbar": {
             "outlinewidth": 0,
             "ticks": ""
            },
            "colorscale": [
             [
              0,
              "#0d0887"
             ],
             [
              0.1111111111111111,
              "#46039f"
             ],
             [
              0.2222222222222222,
              "#7201a8"
             ],
             [
              0.3333333333333333,
              "#9c179e"
             ],
             [
              0.4444444444444444,
              "#bd3786"
             ],
             [
              0.5555555555555556,
              "#d8576b"
             ],
             [
              0.6666666666666666,
              "#ed7953"
             ],
             [
              0.7777777777777778,
              "#fb9f3a"
             ],
             [
              0.8888888888888888,
              "#fdca26"
             ],
             [
              1,
              "#f0f921"
             ]
            ],
            "type": "heatmap"
           }
          ],
          "heatmapgl": [
           {
            "colorbar": {
             "outlinewidth": 0,
             "ticks": ""
            },
            "colorscale": [
             [
              0,
              "#0d0887"
             ],
             [
              0.1111111111111111,
              "#46039f"
             ],
             [
              0.2222222222222222,
              "#7201a8"
             ],
             [
              0.3333333333333333,
              "#9c179e"
             ],
             [
              0.4444444444444444,
              "#bd3786"
             ],
             [
              0.5555555555555556,
              "#d8576b"
             ],
             [
              0.6666666666666666,
              "#ed7953"
             ],
             [
              0.7777777777777778,
              "#fb9f3a"
             ],
             [
              0.8888888888888888,
              "#fdca26"
             ],
             [
              1,
              "#f0f921"
             ]
            ],
            "type": "heatmapgl"
           }
          ],
          "histogram": [
           {
            "marker": {
             "pattern": {
              "fillmode": "overlay",
              "size": 10,
              "solidity": 0.2
             }
            },
            "type": "histogram"
           }
          ],
          "histogram2d": [
           {
            "colorbar": {
             "outlinewidth": 0,
             "ticks": ""
            },
            "colorscale": [
             [
              0,
              "#0d0887"
             ],
             [
              0.1111111111111111,
              "#46039f"
             ],
             [
              0.2222222222222222,
              "#7201a8"
             ],
             [
              0.3333333333333333,
              "#9c179e"
             ],
             [
              0.4444444444444444,
              "#bd3786"
             ],
             [
              0.5555555555555556,
              "#d8576b"
             ],
             [
              0.6666666666666666,
              "#ed7953"
             ],
             [
              0.7777777777777778,
              "#fb9f3a"
             ],
             [
              0.8888888888888888,
              "#fdca26"
             ],
             [
              1,
              "#f0f921"
             ]
            ],
            "type": "histogram2d"
           }
          ],
          "histogram2dcontour": [
           {
            "colorbar": {
             "outlinewidth": 0,
             "ticks": ""
            },
            "colorscale": [
             [
              0,
              "#0d0887"
             ],
             [
              0.1111111111111111,
              "#46039f"
             ],
             [
              0.2222222222222222,
              "#7201a8"
             ],
             [
              0.3333333333333333,
              "#9c179e"
             ],
             [
              0.4444444444444444,
              "#bd3786"
             ],
             [
              0.5555555555555556,
              "#d8576b"
             ],
             [
              0.6666666666666666,
              "#ed7953"
             ],
             [
              0.7777777777777778,
              "#fb9f3a"
             ],
             [
              0.8888888888888888,
              "#fdca26"
             ],
             [
              1,
              "#f0f921"
             ]
            ],
            "type": "histogram2dcontour"
           }
          ],
          "mesh3d": [
           {
            "colorbar": {
             "outlinewidth": 0,
             "ticks": ""
            },
            "type": "mesh3d"
           }
          ],
          "parcoords": [
           {
            "line": {
             "colorbar": {
              "outlinewidth": 0,
              "ticks": ""
             }
            },
            "type": "parcoords"
           }
          ],
          "pie": [
           {
            "automargin": true,
            "type": "pie"
           }
          ],
          "scatter": [
           {
            "fillpattern": {
             "fillmode": "overlay",
             "size": 10,
             "solidity": 0.2
            },
            "type": "scatter"
           }
          ],
          "scatter3d": [
           {
            "line": {
             "colorbar": {
              "outlinewidth": 0,
              "ticks": ""
             }
            },
            "marker": {
             "colorbar": {
              "outlinewidth": 0,
              "ticks": ""
             }
            },
            "type": "scatter3d"
           }
          ],
          "scattercarpet": [
           {
            "marker": {
             "colorbar": {
              "outlinewidth": 0,
              "ticks": ""
             }
            },
            "type": "scattercarpet"
           }
          ],
          "scattergeo": [
           {
            "marker": {
             "colorbar": {
              "outlinewidth": 0,
              "ticks": ""
             }
            },
            "type": "scattergeo"
           }
          ],
          "scattergl": [
           {
            "marker": {
             "colorbar": {
              "outlinewidth": 0,
              "ticks": ""
             }
            },
            "type": "scattergl"
           }
          ],
          "scattermapbox": [
           {
            "marker": {
             "colorbar": {
              "outlinewidth": 0,
              "ticks": ""
             }
            },
            "type": "scattermapbox"
           }
          ],
          "scatterpolar": [
           {
            "marker": {
             "colorbar": {
              "outlinewidth": 0,
              "ticks": ""
             }
            },
            "type": "scatterpolar"
           }
          ],
          "scatterpolargl": [
           {
            "marker": {
             "colorbar": {
              "outlinewidth": 0,
              "ticks": ""
             }
            },
            "type": "scatterpolargl"
           }
          ],
          "scatterternary": [
           {
            "marker": {
             "colorbar": {
              "outlinewidth": 0,
              "ticks": ""
             }
            },
            "type": "scatterternary"
           }
          ],
          "surface": [
           {
            "colorbar": {
             "outlinewidth": 0,
             "ticks": ""
            },
            "colorscale": [
             [
              0,
              "#0d0887"
             ],
             [
              0.1111111111111111,
              "#46039f"
             ],
             [
              0.2222222222222222,
              "#7201a8"
             ],
             [
              0.3333333333333333,
              "#9c179e"
             ],
             [
              0.4444444444444444,
              "#bd3786"
             ],
             [
              0.5555555555555556,
              "#d8576b"
             ],
             [
              0.6666666666666666,
              "#ed7953"
             ],
             [
              0.7777777777777778,
              "#fb9f3a"
             ],
             [
              0.8888888888888888,
              "#fdca26"
             ],
             [
              1,
              "#f0f921"
             ]
            ],
            "type": "surface"
           }
          ],
          "table": [
           {
            "cells": {
             "fill": {
              "color": "#EBF0F8"
             },
             "line": {
              "color": "white"
             }
            },
            "header": {
             "fill": {
              "color": "#C8D4E3"
             },
             "line": {
              "color": "white"
             }
            },
            "type": "table"
           }
          ]
         },
         "layout": {
          "annotationdefaults": {
           "arrowcolor": "#2a3f5f",
           "arrowhead": 0,
           "arrowwidth": 1
          },
          "autotypenumbers": "strict",
          "coloraxis": {
           "colorbar": {
            "outlinewidth": 0,
            "ticks": ""
           }
          },
          "colorscale": {
           "diverging": [
            [
             0,
             "#8e0152"
            ],
            [
             0.1,
             "#c51b7d"
            ],
            [
             0.2,
             "#de77ae"
            ],
            [
             0.3,
             "#f1b6da"
            ],
            [
             0.4,
             "#fde0ef"
            ],
            [
             0.5,
             "#f7f7f7"
            ],
            [
             0.6,
             "#e6f5d0"
            ],
            [
             0.7,
             "#b8e186"
            ],
            [
             0.8,
             "#7fbc41"
            ],
            [
             0.9,
             "#4d9221"
            ],
            [
             1,
             "#276419"
            ]
           ],
           "sequential": [
            [
             0,
             "#0d0887"
            ],
            [
             0.1111111111111111,
             "#46039f"
            ],
            [
             0.2222222222222222,
             "#7201a8"
            ],
            [
             0.3333333333333333,
             "#9c179e"
            ],
            [
             0.4444444444444444,
             "#bd3786"
            ],
            [
             0.5555555555555556,
             "#d8576b"
            ],
            [
             0.6666666666666666,
             "#ed7953"
            ],
            [
             0.7777777777777778,
             "#fb9f3a"
            ],
            [
             0.8888888888888888,
             "#fdca26"
            ],
            [
             1,
             "#f0f921"
            ]
           ],
           "sequentialminus": [
            [
             0,
             "#0d0887"
            ],
            [
             0.1111111111111111,
             "#46039f"
            ],
            [
             0.2222222222222222,
             "#7201a8"
            ],
            [
             0.3333333333333333,
             "#9c179e"
            ],
            [
             0.4444444444444444,
             "#bd3786"
            ],
            [
             0.5555555555555556,
             "#d8576b"
            ],
            [
             0.6666666666666666,
             "#ed7953"
            ],
            [
             0.7777777777777778,
             "#fb9f3a"
            ],
            [
             0.8888888888888888,
             "#fdca26"
            ],
            [
             1,
             "#f0f921"
            ]
           ]
          },
          "colorway": [
           "#636efa",
           "#EF553B",
           "#00cc96",
           "#ab63fa",
           "#FFA15A",
           "#19d3f3",
           "#FF6692",
           "#B6E880",
           "#FF97FF",
           "#FECB52"
          ],
          "font": {
           "color": "#2a3f5f"
          },
          "geo": {
           "bgcolor": "white",
           "lakecolor": "white",
           "landcolor": "#E5ECF6",
           "showlakes": true,
           "showland": true,
           "subunitcolor": "white"
          },
          "hoverlabel": {
           "align": "left"
          },
          "hovermode": "closest",
          "mapbox": {
           "style": "light"
          },
          "paper_bgcolor": "white",
          "plot_bgcolor": "#E5ECF6",
          "polar": {
           "angularaxis": {
            "gridcolor": "white",
            "linecolor": "white",
            "ticks": ""
           },
           "bgcolor": "#E5ECF6",
           "radialaxis": {
            "gridcolor": "white",
            "linecolor": "white",
            "ticks": ""
           }
          },
          "scene": {
           "xaxis": {
            "backgroundcolor": "#E5ECF6",
            "gridcolor": "white",
            "gridwidth": 2,
            "linecolor": "white",
            "showbackground": true,
            "ticks": "",
            "zerolinecolor": "white"
           },
           "yaxis": {
            "backgroundcolor": "#E5ECF6",
            "gridcolor": "white",
            "gridwidth": 2,
            "linecolor": "white",
            "showbackground": true,
            "ticks": "",
            "zerolinecolor": "white"
           },
           "zaxis": {
            "backgroundcolor": "#E5ECF6",
            "gridcolor": "white",
            "gridwidth": 2,
            "linecolor": "white",
            "showbackground": true,
            "ticks": "",
            "zerolinecolor": "white"
           }
          },
          "shapedefaults": {
           "line": {
            "color": "#2a3f5f"
           }
          },
          "ternary": {
           "aaxis": {
            "gridcolor": "white",
            "linecolor": "white",
            "ticks": ""
           },
           "baxis": {
            "gridcolor": "white",
            "linecolor": "white",
            "ticks": ""
           },
           "bgcolor": "#E5ECF6",
           "caxis": {
            "gridcolor": "white",
            "linecolor": "white",
            "ticks": ""
           }
          },
          "title": {
           "x": 0.05
          },
          "xaxis": {
           "automargin": true,
           "gridcolor": "white",
           "linecolor": "white",
           "ticks": "",
           "title": {
            "standoff": 15
           },
           "zerolinecolor": "white",
           "zerolinewidth": 2
          },
          "yaxis": {
           "automargin": true,
           "gridcolor": "white",
           "linecolor": "white",
           "ticks": "",
           "title": {
            "standoff": 15
           },
           "zerolinecolor": "white",
           "zerolinewidth": 2
          }
         }
        },
        "title": {
         "text": "Most trafficked US airports<br>(Hover for airport names)"
        }
       }
      }
     },
     "metadata": {},
     "output_type": "display_data"
    }
   ],
   "source": [
    "# https://plotly.com/python/scatter-plots-on-maps/\n",
    "# df['text'] = df['airport'] + '' + df['city'] + ', ' + df['state'] + '' + 'Arrivals: ' + df['cnt'].astype(str)\n",
    "\n",
    "\n",
    "fig = go.Figure(data=go.Scattergeo(\n",
    "        #locationmode = 'USA-states',\n",
    "        lon = bases['Longitud'],\n",
    "        lat = bases['Latitud'],\n",
    "        text = bases['Número'],\n",
    "        mode = 'markers',\n",
    "        marker = dict(\n",
    "            size = 8,\n",
    "            opacity = 0.8,\n",
    "            reversescale = True,\n",
    "            autocolorscale = False,\n",
    "            symbol = 'square',\n",
    "            line = dict(\n",
    "                width=1,\n",
    "                color='rgba(102, 102, 102)'\n",
    "            ),\n",
    "            colorscale = 'Blues',\n",
    "            cmin = 0,\n",
    "            color = bases['Número de Plazas'],\n",
    "            cmax = bases['Número de Plazas'].max(),\n",
    "            colorbar_title=\"Incoming flights<br>February 2011\"\n",
    "        )))\n",
    "fig.update_geos(fitbounds=\"locations\", visible=False)\n",
    "\n",
    "fig.update_layout(\n",
    "        title = 'Most trafficked US airports<br>(Hover for airport names)',\n",
    "        geo = dict(\n",
    "            showland = True,\n",
    "            landcolor = \"rgb(250, 250, 250)\",\n",
    "            subunitcolor = \"rgb(217, 217, 217)\",\n",
    "            countrycolor = \"rgb(217, 217, 217)\",\n",
    "            countrywidth = 0.5,\n",
    "            subunitwidth = 0.5\n",
    "        ),\n",
    "    )\n",
    "fig.update_layout(margin={\"r\":0,\"t\":0,\"l\":0,\"b\":0})\n",
    "fig.show()"
   ]
  }
 ],
 "metadata": {
  "kernelspec": {
   "display_name": "Python 3.8.5 ('base')",
   "language": "python",
   "name": "python3"
  },
  "language_info": {
   "codemirror_mode": {
    "name": "ipython",
    "version": 3
   },
   "file_extension": ".py",
   "mimetype": "text/x-python",
   "name": "python",
   "nbconvert_exporter": "python",
   "pygments_lexer": "ipython3",
   "version": "3.8.5"
  },
  "orig_nbformat": 4,
  "vscode": {
   "interpreter": {
    "hash": "39050fd8cc4c22f6490bdf197f27ef40698f8c053aaa90441856e399e2244469"
   }
  }
 },
 "nbformat": 4,
 "nbformat_minor": 2
}
