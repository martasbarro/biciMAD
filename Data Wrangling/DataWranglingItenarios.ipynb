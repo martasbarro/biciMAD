{
 "cells": [
  {
   "cell_type": "markdown",
   "metadata": {},
   "source": [
    "# **DATA WRANGLING ITINERARIOS**"
   ]
  },
  {
   "cell_type": "markdown",
   "metadata": {},
   "source": [
    "#### **LIBRARIES**"
   ]
  },
  {
   "cell_type": "code",
   "execution_count": 1,
   "metadata": {},
   "outputs": [],
   "source": [
    "import pandas as pd"
   ]
  },
  {
   "cell_type": "markdown",
   "metadata": {},
   "source": [
    "#### **READ DATA**"
   ]
  },
  {
   "cell_type": "code",
   "execution_count": 2,
   "metadata": {},
   "outputs": [
    {
     "data": {
      "text/html": [
       "<div>\n",
       "<style scoped>\n",
       "    .dataframe tbody tr th:only-of-type {\n",
       "        vertical-align: middle;\n",
       "    }\n",
       "\n",
       "    .dataframe tbody tr th {\n",
       "        vertical-align: top;\n",
       "    }\n",
       "\n",
       "    .dataframe thead th {\n",
       "        text-align: right;\n",
       "    }\n",
       "</style>\n",
       "<table border=\"1\" class=\"dataframe\">\n",
       "  <thead>\n",
       "    <tr style=\"text-align: right;\">\n",
       "      <th></th>\n",
       "      <th>_id</th>\n",
       "      <th>user_day_code</th>\n",
       "      <th>idplug_base</th>\n",
       "      <th>user_type</th>\n",
       "      <th>idunplug_base</th>\n",
       "      <th>travel_time</th>\n",
       "      <th>idunplug_station</th>\n",
       "      <th>ageRange</th>\n",
       "      <th>idplug_station</th>\n",
       "      <th>unplug_hourTime</th>\n",
       "      <th>zip_code</th>\n",
       "    </tr>\n",
       "  </thead>\n",
       "  <tbody>\n",
       "    <tr>\n",
       "      <th>0</th>\n",
       "      <td>{'$oid': '5ee89f704299338f03784f6c'}</td>\n",
       "      <td>77aa6ceada492a978e137a9d65264e4428a6075638a1ba...</td>\n",
       "      <td>21</td>\n",
       "      <td>1</td>\n",
       "      <td>9</td>\n",
       "      <td>207</td>\n",
       "      <td>14</td>\n",
       "      <td>5</td>\n",
       "      <td>17</td>\n",
       "      <td>2019-09-01T00:00:00Z</td>\n",
       "      <td>28015</td>\n",
       "    </tr>\n",
       "    <tr>\n",
       "      <th>1</th>\n",
       "      <td>{'$oid': '5ee89f704299338f03784f71'}</td>\n",
       "      <td>70405121c0d8540baafd11e086f0bbcb7f8ca4d08f349d...</td>\n",
       "      <td>11</td>\n",
       "      <td>1</td>\n",
       "      <td>15</td>\n",
       "      <td>208</td>\n",
       "      <td>38</td>\n",
       "      <td>0</td>\n",
       "      <td>42</td>\n",
       "      <td>2019-09-01T00:00:00Z</td>\n",
       "      <td></td>\n",
       "    </tr>\n",
       "    <tr>\n",
       "      <th>2</th>\n",
       "      <td>{'$oid': '5ee89f704299338f03784f78'}</td>\n",
       "      <td>3495ba3768b648f59ed06a7da11a10375b3271ee01c98e...</td>\n",
       "      <td>17</td>\n",
       "      <td>1</td>\n",
       "      <td>4</td>\n",
       "      <td>279</td>\n",
       "      <td>104</td>\n",
       "      <td>4</td>\n",
       "      <td>75</td>\n",
       "      <td>2019-09-01T00:00:00Z</td>\n",
       "      <td>28053</td>\n",
       "    </tr>\n",
       "    <tr>\n",
       "      <th>3</th>\n",
       "      <td>{'$oid': '5ee89f714299338f03784f84'}</td>\n",
       "      <td>7d9e21c5eb60b93ed161df402061a7b2fa9fa094f9cec9...</td>\n",
       "      <td>23</td>\n",
       "      <td>1</td>\n",
       "      <td>6</td>\n",
       "      <td>450</td>\n",
       "      <td>161</td>\n",
       "      <td>4</td>\n",
       "      <td>162</td>\n",
       "      <td>2019-09-01T00:00:00Z</td>\n",
       "      <td></td>\n",
       "    </tr>\n",
       "    <tr>\n",
       "      <th>4</th>\n",
       "      <td>{'$oid': '5ee89f714299338f03784f88'}</td>\n",
       "      <td>72d8e4bd0a23a16bdbd519223d36b5bbb3d792aecda32f...</td>\n",
       "      <td>4</td>\n",
       "      <td>1</td>\n",
       "      <td>11</td>\n",
       "      <td>457</td>\n",
       "      <td>99</td>\n",
       "      <td>0</td>\n",
       "      <td>12</td>\n",
       "      <td>2019-09-01T00:00:00Z</td>\n",
       "      <td></td>\n",
       "    </tr>\n",
       "  </tbody>\n",
       "</table>\n",
       "</div>"
      ],
      "text/plain": [
       "                                    _id  \\\n",
       "0  {'$oid': '5ee89f704299338f03784f6c'}   \n",
       "1  {'$oid': '5ee89f704299338f03784f71'}   \n",
       "2  {'$oid': '5ee89f704299338f03784f78'}   \n",
       "3  {'$oid': '5ee89f714299338f03784f84'}   \n",
       "4  {'$oid': '5ee89f714299338f03784f88'}   \n",
       "\n",
       "                                       user_day_code  idplug_base  user_type  \\\n",
       "0  77aa6ceada492a978e137a9d65264e4428a6075638a1ba...           21          1   \n",
       "1  70405121c0d8540baafd11e086f0bbcb7f8ca4d08f349d...           11          1   \n",
       "2  3495ba3768b648f59ed06a7da11a10375b3271ee01c98e...           17          1   \n",
       "3  7d9e21c5eb60b93ed161df402061a7b2fa9fa094f9cec9...           23          1   \n",
       "4  72d8e4bd0a23a16bdbd519223d36b5bbb3d792aecda32f...            4          1   \n",
       "\n",
       "   idunplug_base  travel_time  idunplug_station  ageRange  idplug_station  \\\n",
       "0              9          207                14         5              17   \n",
       "1             15          208                38         0              42   \n",
       "2              4          279               104         4              75   \n",
       "3              6          450               161         4             162   \n",
       "4             11          457                99         0              12   \n",
       "\n",
       "        unplug_hourTime zip_code  \n",
       "0  2019-09-01T00:00:00Z    28015  \n",
       "1  2019-09-01T00:00:00Z           \n",
       "2  2019-09-01T00:00:00Z    28053  \n",
       "3  2019-09-01T00:00:00Z           \n",
       "4  2019-09-01T00:00:00Z           "
      ]
     },
     "execution_count": 2,
     "metadata": {},
     "output_type": "execute_result"
    }
   ],
   "source": [
    "itinerarios_list = ['it_201907', 'it_201908','it_201909', 'it_201910', 'it_201911', 'it_201912']\n",
    "\n",
    "it_201909 = pd.read_json('../Data/Itinerarios/201909.json')\n",
    "it_201909.head()"
   ]
  }
 ],
 "metadata": {
  "kernelspec": {
   "display_name": "Python 3.9.13 64-bit (microsoft store)",
   "language": "python",
   "name": "python3"
  },
  "language_info": {
   "codemirror_mode": {
    "name": "ipython",
    "version": 3
   },
   "file_extension": ".py",
   "mimetype": "text/x-python",
   "name": "python",
   "nbconvert_exporter": "python",
   "pygments_lexer": "ipython3",
   "version": "3.9.13"
  },
  "orig_nbformat": 4,
  "vscode": {
   "interpreter": {
    "hash": "7f2fb500cce5147f8ddb05d1f19e3f027ca6ffa6fc27e990579dfb284520f7f8"
   }
  }
 },
 "nbformat": 4,
 "nbformat_minor": 2
}
