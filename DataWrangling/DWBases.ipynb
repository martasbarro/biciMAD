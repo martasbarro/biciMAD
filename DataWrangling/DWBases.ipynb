{
 "cells": [
  {
   "cell_type": "markdown",
   "metadata": {},
   "source": [
    "## **DATA WRANGLING BASES**\n",
    "This file attemps to gather, collect, and transform the bases raw dataset from the source attached below in order to analyse the data avilable and proceed with it. The following processes will be dealt with:\n",
    "\n",
    "1. Reading the .csv file and transforming variables\n",
    "2. Data exploration\n",
    "3. Reshaping data\n",
    "4. Filtering data"
   ]
  },
  {
   "cell_type": "markdown",
   "metadata": {},
   "source": [
    "#### **IMPORT LIBRARIES**"
   ]
  },
  {
   "cell_type": "code",
   "execution_count": 1,
   "metadata": {},
   "outputs": [],
   "source": [
    "import pandas as pd \n",
    "import plotly.express as px\n",
    "import plotly.graph_objects as go"
   ]
  },
  {
   "cell_type": "markdown",
   "metadata": {},
   "source": [
    "#### **1. READ DATA and VARIABLE TRANSFORMATION**\n",
    "**Dataset**: bases_bicimad.xls     \n",
    "\n",
    "**Description**: Dataset of the existing bases of the BiciMAD service. \n",
    "\n",
    "**Dataframe size**: 269 base stations including extensions and 13 variables."
   ]
  },
  {
   "cell_type": "code",
   "execution_count": 5,
   "metadata": {},
   "outputs": [
    {
     "data": {
      "text/plain": [
       "(269, 13)"
      ]
     },
     "execution_count": 5,
     "metadata": {},
     "output_type": "execute_result"
    }
   ],
   "source": [
    "bases= pd.read_excel(\"../Data/Bases/bases_bicimad.xls\")\n",
    "bases.shape"
   ]
  },
  {
   "cell_type": "code",
   "execution_count": 6,
   "metadata": {},
   "outputs": [
    {
     "data": {
      "text/html": [
       "<div>\n",
       "<style scoped>\n",
       "    .dataframe tbody tr th:only-of-type {\n",
       "        vertical-align: middle;\n",
       "    }\n",
       "\n",
       "    .dataframe tbody tr th {\n",
       "        vertical-align: top;\n",
       "    }\n",
       "\n",
       "    .dataframe thead th {\n",
       "        text-align: right;\n",
       "    }\n",
       "</style>\n",
       "<table border=\"1\" class=\"dataframe\">\n",
       "  <thead>\n",
       "    <tr style=\"text-align: right;\">\n",
       "      <th></th>\n",
       "      <th>Número</th>\n",
       "      <th>Gis_X</th>\n",
       "      <th>Gis_Y</th>\n",
       "      <th>Fecha de Alta</th>\n",
       "      <th>Distrito</th>\n",
       "      <th>Barrio</th>\n",
       "      <th>Calle</th>\n",
       "      <th>Nº Finca</th>\n",
       "      <th>Tipo de Reserva</th>\n",
       "      <th>Número de Plazas</th>\n",
       "      <th>Longitud</th>\n",
       "      <th>Latitud</th>\n",
       "      <th>Direccion</th>\n",
       "    </tr>\n",
       "  </thead>\n",
       "  <tbody>\n",
       "    <tr>\n",
       "      <th>0</th>\n",
       "      <td>001 a</td>\n",
       "      <td>440443.61</td>\n",
       "      <td>4474290.65</td>\n",
       "      <td>43803</td>\n",
       "      <td>01  CENTRO</td>\n",
       "      <td>01-06 SOL</td>\n",
       "      <td>ALCALA, CALLE, DE</td>\n",
       "      <td>2</td>\n",
       "      <td>BiciMAD</td>\n",
       "      <td>30</td>\n",
       "      <td>-3.701998</td>\n",
       "      <td>40.417111</td>\n",
       "      <td>ALCALA, CALLE, DE, 2</td>\n",
       "    </tr>\n",
       "    <tr>\n",
       "      <th>1</th>\n",
       "      <td>001 b</td>\n",
       "      <td>440480.56</td>\n",
       "      <td>4474301.74</td>\n",
       "      <td>43867</td>\n",
       "      <td>01  CENTRO</td>\n",
       "      <td>01-06 SOL</td>\n",
       "      <td>ALCALA, CALLE, DE</td>\n",
       "      <td>6</td>\n",
       "      <td>BiciMAD</td>\n",
       "      <td>30</td>\n",
       "      <td>-3.701564</td>\n",
       "      <td>40.417213</td>\n",
       "      <td>ALCALA, CALLE, DE, 6</td>\n",
       "    </tr>\n",
       "    <tr>\n",
       "      <th>2</th>\n",
       "      <td>2</td>\n",
       "      <td>440134.83</td>\n",
       "      <td>4474678.23</td>\n",
       "      <td>41813</td>\n",
       "      <td>01  CENTRO</td>\n",
       "      <td>01-05 UNIVERSIDAD</td>\n",
       "      <td>MIGUEL MOYA, CALLE, DE</td>\n",
       "      <td>1</td>\n",
       "      <td>BiciMAD</td>\n",
       "      <td>24</td>\n",
       "      <td>-3.705674</td>\n",
       "      <td>40.420580</td>\n",
       "      <td>MIGUEL MOYA, CALLE, DE, 1</td>\n",
       "    </tr>\n",
       "    <tr>\n",
       "      <th>3</th>\n",
       "      <td>3</td>\n",
       "      <td>440012.98</td>\n",
       "      <td>4475760.68</td>\n",
       "      <td>41813</td>\n",
       "      <td>07  CHAMBERÍ</td>\n",
       "      <td>07-02 ARAPILES</td>\n",
       "      <td>CONDE DEL VALLE DE SUCHIL, PLAZA, DEL</td>\n",
       "      <td>2</td>\n",
       "      <td>BiciMAD</td>\n",
       "      <td>18</td>\n",
       "      <td>-3.707212</td>\n",
       "      <td>40.430322</td>\n",
       "      <td>CONDE DEL VALLE DE SUCHIL, PLAZA, DEL, 2</td>\n",
       "    </tr>\n",
       "    <tr>\n",
       "      <th>4</th>\n",
       "      <td>4</td>\n",
       "      <td>440396.40</td>\n",
       "      <td>4475565.36</td>\n",
       "      <td>41813</td>\n",
       "      <td>01  CENTRO</td>\n",
       "      <td>01-05 UNIVERSIDAD</td>\n",
       "      <td>MANUELA MALASAÑA, CALLE, DE</td>\n",
       "      <td>3</td>\n",
       "      <td>BiciMAD</td>\n",
       "      <td>24</td>\n",
       "      <td>-3.702674</td>\n",
       "      <td>40.428590</td>\n",
       "      <td>MANUELA MALASAÑA, CALLE, DE, 3</td>\n",
       "    </tr>\n",
       "  </tbody>\n",
       "</table>\n",
       "</div>"
      ],
      "text/plain": [
       "  Número      Gis_X       Gis_Y  Fecha de Alta      Distrito  \\\n",
       "0  001 a  440443.61  4474290.65          43803    01  CENTRO   \n",
       "1  001 b  440480.56  4474301.74          43867    01  CENTRO   \n",
       "2      2  440134.83  4474678.23          41813    01  CENTRO   \n",
       "3      3  440012.98  4475760.68          41813  07  CHAMBERÍ   \n",
       "4      4  440396.40  4475565.36          41813    01  CENTRO   \n",
       "\n",
       "              Barrio                                  Calle Nº Finca  \\\n",
       "0          01-06 SOL                      ALCALA, CALLE, DE        2   \n",
       "1          01-06 SOL                      ALCALA, CALLE, DE        6   \n",
       "2  01-05 UNIVERSIDAD                 MIGUEL MOYA, CALLE, DE        1   \n",
       "3     07-02 ARAPILES  CONDE DEL VALLE DE SUCHIL, PLAZA, DEL        2   \n",
       "4  01-05 UNIVERSIDAD            MANUELA MALASAÑA, CALLE, DE        3   \n",
       "\n",
       "  Tipo de Reserva  Número de Plazas  Longitud    Latitud  \\\n",
       "0         BiciMAD                30 -3.701998  40.417111   \n",
       "1         BiciMAD                30 -3.701564  40.417213   \n",
       "2         BiciMAD                24 -3.705674  40.420580   \n",
       "3         BiciMAD                18 -3.707212  40.430322   \n",
       "4         BiciMAD                24 -3.702674  40.428590   \n",
       "\n",
       "                                  Direccion  \n",
       "0                      ALCALA, CALLE, DE, 2  \n",
       "1                      ALCALA, CALLE, DE, 6  \n",
       "2                 MIGUEL MOYA, CALLE, DE, 1  \n",
       "3  CONDE DEL VALLE DE SUCHIL, PLAZA, DEL, 2  \n",
       "4            MANUELA MALASAÑA, CALLE, DE, 3  "
      ]
     },
     "execution_count": 6,
     "metadata": {},
     "output_type": "execute_result"
    }
   ],
   "source": [
    "bases.head()"
   ]
  },
  {
   "cell_type": "markdown",
   "metadata": {},
   "source": [
    "**Variables type check**: correct"
   ]
  },
  {
   "cell_type": "code",
   "execution_count": 7,
   "metadata": {},
   "outputs": [
    {
     "data": {
      "text/plain": [
       "Número               object\n",
       "Gis_X               float64\n",
       "Gis_Y               float64\n",
       "Fecha de Alta         int64\n",
       "Distrito             object\n",
       "Barrio               object\n",
       "Calle                object\n",
       "Nº Finca             object\n",
       "Tipo de Reserva      object\n",
       "Número de Plazas      int64\n",
       "Longitud            float64\n",
       "Latitud             float64\n",
       "Direccion            object\n",
       "dtype: object"
      ]
     },
     "execution_count": 7,
     "metadata": {},
     "output_type": "execute_result"
    }
   ],
   "source": [
    "bases.dtypes"
   ]
  },
  {
   "cell_type": "markdown",
   "metadata": {},
   "source": [
    "**NaN check**: don't exist"
   ]
  },
  {
   "cell_type": "code",
   "execution_count": 8,
   "metadata": {},
   "outputs": [
    {
     "data": {
      "text/plain": [
       "Número              0\n",
       "Gis_X               0\n",
       "Gis_Y               0\n",
       "Fecha de Alta       0\n",
       "Distrito            0\n",
       "Barrio              0\n",
       "Calle               0\n",
       "Nº Finca            0\n",
       "Tipo de Reserva     0\n",
       "Número de Plazas    0\n",
       "Longitud            0\n",
       "Latitud             0\n",
       "Direccion           0\n",
       "dtype: int64"
      ]
     },
     "execution_count": 8,
     "metadata": {},
     "output_type": "execute_result"
    }
   ],
   "source": [
    "bases.isna().sum()"
   ]
  },
  {
   "cell_type": "markdown",
   "metadata": {},
   "source": [
    "#### **2. DATA EXPLORATION**"
   ]
  },
  {
   "cell_type": "markdown",
   "metadata": {},
   "source": [
    "Variable **\"Tipo de Reserva\"** has only one category: irrelevant"
   ]
  },
  {
   "cell_type": "code",
   "execution_count": 9,
   "metadata": {},
   "outputs": [
    {
     "data": {
      "text/plain": [
       "BiciMAD    269\n",
       "Name: Tipo de Reserva, dtype: int64"
      ]
     },
     "execution_count": 9,
     "metadata": {},
     "output_type": "execute_result"
    }
   ],
   "source": [
    "bases[\"Tipo de Reserva\"].value_counts()"
   ]
  },
  {
   "cell_type": "markdown",
   "metadata": {},
   "source": [
    "**Número de Plazas distribution**:an 81% of bases have 24 docks. "
   ]
  },
  {
   "cell_type": "code",
   "execution_count": 10,
   "metadata": {},
   "outputs": [
    {
     "data": {
      "application/vnd.plotly.v1+json": {
       "config": {
        "plotlyServerURL": "https://plot.ly"
       },
       "data": [
        {
         "alignmentgroup": "True",
         "bingroup": "x",
         "histnorm": "probability density",
         "hovertemplate": "Número de Plazas=%{x}<br>probability density=%{y}<extra></extra>",
         "legendgroup": "",
         "marker": {
          "color": "darkorange",
          "pattern": {
           "shape": ""
          }
         },
         "name": "",
         "nbinsx": 30,
         "offsetgroup": "",
         "orientation": "v",
         "showlegend": false,
         "type": "histogram",
         "x": [
          30,
          30,
          24,
          18,
          24,
          27,
          24,
          21,
          24,
          24,
          24,
          24,
          24,
          24,
          24,
          21,
          21,
          24,
          24,
          24,
          24,
          6,
          24,
          24,
          24,
          24,
          24,
          24,
          27,
          24,
          24,
          27,
          27,
          18,
          21,
          24,
          24,
          24,
          24,
          24,
          27,
          24,
          18,
          24,
          24,
          21,
          21,
          24,
          24,
          24,
          24,
          24,
          27,
          24,
          24,
          21,
          24,
          24,
          24,
          24,
          21,
          24,
          24,
          24,
          24,
          24,
          24,
          21,
          27,
          24,
          24,
          24,
          24,
          24,
          24,
          24,
          22,
          24,
          24,
          24,
          27,
          24,
          24,
          24,
          24,
          27,
          21,
          24,
          24,
          24,
          24,
          6,
          24,
          24,
          24,
          21,
          24,
          27,
          27,
          24,
          24,
          24,
          24,
          24,
          24,
          21,
          24,
          18,
          18,
          24,
          27,
          24,
          24,
          24,
          24,
          24,
          24,
          24,
          24,
          24,
          24,
          24,
          24,
          24,
          24,
          24,
          24,
          24,
          24,
          24,
          24,
          24,
          24,
          3,
          24,
          20,
          24,
          24,
          24,
          24,
          24,
          24,
          24,
          24,
          24,
          24,
          3,
          12,
          24,
          24,
          24,
          24,
          18,
          24,
          24,
          24,
          24,
          24,
          24,
          24,
          24,
          24,
          24,
          24,
          24,
          24,
          24,
          24,
          3,
          24,
          21,
          24,
          27,
          24,
          24,
          24,
          24,
          24,
          24,
          24,
          24,
          27,
          21,
          24,
          24,
          24,
          24,
          24,
          27,
          24,
          24,
          24,
          24,
          24,
          24,
          27,
          24,
          24,
          18,
          27,
          24,
          24,
          24,
          24,
          24,
          24,
          27,
          24,
          24,
          24,
          24,
          24,
          24,
          24,
          18,
          24,
          24,
          27,
          24,
          24,
          24,
          24,
          24,
          24,
          24,
          24,
          24,
          24,
          24,
          24,
          24,
          24,
          24,
          24,
          24,
          24,
          24,
          24,
          24,
          24,
          24,
          24,
          24,
          24,
          24,
          24,
          24,
          24,
          24,
          24,
          24,
          24,
          24,
          24,
          24,
          24,
          24,
          24,
          24,
          24,
          24,
          24,
          24,
          24,
          24,
          24,
          24,
          24,
          24
         ],
         "xaxis": "x",
         "yaxis": "y"
        }
       ],
       "layout": {
        "barmode": "relative",
        "legend": {
         "tracegroupgap": 0
        },
        "margin": {
         "t": 60
        },
        "template": {
         "data": {
          "bar": [
           {
            "error_x": {
             "color": "#2a3f5f"
            },
            "error_y": {
             "color": "#2a3f5f"
            },
            "marker": {
             "line": {
              "color": "#E5ECF6",
              "width": 0.5
             },
             "pattern": {
              "fillmode": "overlay",
              "size": 10,
              "solidity": 0.2
             }
            },
            "type": "bar"
           }
          ],
          "barpolar": [
           {
            "marker": {
             "line": {
              "color": "#E5ECF6",
              "width": 0.5
             },
             "pattern": {
              "fillmode": "overlay",
              "size": 10,
              "solidity": 0.2
             }
            },
            "type": "barpolar"
           }
          ],
          "carpet": [
           {
            "aaxis": {
             "endlinecolor": "#2a3f5f",
             "gridcolor": "white",
             "linecolor": "white",
             "minorgridcolor": "white",
             "startlinecolor": "#2a3f5f"
            },
            "baxis": {
             "endlinecolor": "#2a3f5f",
             "gridcolor": "white",
             "linecolor": "white",
             "minorgridcolor": "white",
             "startlinecolor": "#2a3f5f"
            },
            "type": "carpet"
           }
          ],
          "choropleth": [
           {
            "colorbar": {
             "outlinewidth": 0,
             "ticks": ""
            },
            "type": "choropleth"
           }
          ],
          "contour": [
           {
            "colorbar": {
             "outlinewidth": 0,
             "ticks": ""
            },
            "colorscale": [
             [
              0,
              "#0d0887"
             ],
             [
              0.1111111111111111,
              "#46039f"
             ],
             [
              0.2222222222222222,
              "#7201a8"
             ],
             [
              0.3333333333333333,
              "#9c179e"
             ],
             [
              0.4444444444444444,
              "#bd3786"
             ],
             [
              0.5555555555555556,
              "#d8576b"
             ],
             [
              0.6666666666666666,
              "#ed7953"
             ],
             [
              0.7777777777777778,
              "#fb9f3a"
             ],
             [
              0.8888888888888888,
              "#fdca26"
             ],
             [
              1,
              "#f0f921"
             ]
            ],
            "type": "contour"
           }
          ],
          "contourcarpet": [
           {
            "colorbar": {
             "outlinewidth": 0,
             "ticks": ""
            },
            "type": "contourcarpet"
           }
          ],
          "heatmap": [
           {
            "colorbar": {
             "outlinewidth": 0,
             "ticks": ""
            },
            "colorscale": [
             [
              0,
              "#0d0887"
             ],
             [
              0.1111111111111111,
              "#46039f"
             ],
             [
              0.2222222222222222,
              "#7201a8"
             ],
             [
              0.3333333333333333,
              "#9c179e"
             ],
             [
              0.4444444444444444,
              "#bd3786"
             ],
             [
              0.5555555555555556,
              "#d8576b"
             ],
             [
              0.6666666666666666,
              "#ed7953"
             ],
             [
              0.7777777777777778,
              "#fb9f3a"
             ],
             [
              0.8888888888888888,
              "#fdca26"
             ],
             [
              1,
              "#f0f921"
             ]
            ],
            "type": "heatmap"
           }
          ],
          "heatmapgl": [
           {
            "colorbar": {
             "outlinewidth": 0,
             "ticks": ""
            },
            "colorscale": [
             [
              0,
              "#0d0887"
             ],
             [
              0.1111111111111111,
              "#46039f"
             ],
             [
              0.2222222222222222,
              "#7201a8"
             ],
             [
              0.3333333333333333,
              "#9c179e"
             ],
             [
              0.4444444444444444,
              "#bd3786"
             ],
             [
              0.5555555555555556,
              "#d8576b"
             ],
             [
              0.6666666666666666,
              "#ed7953"
             ],
             [
              0.7777777777777778,
              "#fb9f3a"
             ],
             [
              0.8888888888888888,
              "#fdca26"
             ],
             [
              1,
              "#f0f921"
             ]
            ],
            "type": "heatmapgl"
           }
          ],
          "histogram": [
           {
            "marker": {
             "pattern": {
              "fillmode": "overlay",
              "size": 10,
              "solidity": 0.2
             }
            },
            "type": "histogram"
           }
          ],
          "histogram2d": [
           {
            "colorbar": {
             "outlinewidth": 0,
             "ticks": ""
            },
            "colorscale": [
             [
              0,
              "#0d0887"
             ],
             [
              0.1111111111111111,
              "#46039f"
             ],
             [
              0.2222222222222222,
              "#7201a8"
             ],
             [
              0.3333333333333333,
              "#9c179e"
             ],
             [
              0.4444444444444444,
              "#bd3786"
             ],
             [
              0.5555555555555556,
              "#d8576b"
             ],
             [
              0.6666666666666666,
              "#ed7953"
             ],
             [
              0.7777777777777778,
              "#fb9f3a"
             ],
             [
              0.8888888888888888,
              "#fdca26"
             ],
             [
              1,
              "#f0f921"
             ]
            ],
            "type": "histogram2d"
           }
          ],
          "histogram2dcontour": [
           {
            "colorbar": {
             "outlinewidth": 0,
             "ticks": ""
            },
            "colorscale": [
             [
              0,
              "#0d0887"
             ],
             [
              0.1111111111111111,
              "#46039f"
             ],
             [
              0.2222222222222222,
              "#7201a8"
             ],
             [
              0.3333333333333333,
              "#9c179e"
             ],
             [
              0.4444444444444444,
              "#bd3786"
             ],
             [
              0.5555555555555556,
              "#d8576b"
             ],
             [
              0.6666666666666666,
              "#ed7953"
             ],
             [
              0.7777777777777778,
              "#fb9f3a"
             ],
             [
              0.8888888888888888,
              "#fdca26"
             ],
             [
              1,
              "#f0f921"
             ]
            ],
            "type": "histogram2dcontour"
           }
          ],
          "mesh3d": [
           {
            "colorbar": {
             "outlinewidth": 0,
             "ticks": ""
            },
            "type": "mesh3d"
           }
          ],
          "parcoords": [
           {
            "line": {
             "colorbar": {
              "outlinewidth": 0,
              "ticks": ""
             }
            },
            "type": "parcoords"
           }
          ],
          "pie": [
           {
            "automargin": true,
            "type": "pie"
           }
          ],
          "scatter": [
           {
            "fillpattern": {
             "fillmode": "overlay",
             "size": 10,
             "solidity": 0.2
            },
            "type": "scatter"
           }
          ],
          "scatter3d": [
           {
            "line": {
             "colorbar": {
              "outlinewidth": 0,
              "ticks": ""
             }
            },
            "marker": {
             "colorbar": {
              "outlinewidth": 0,
              "ticks": ""
             }
            },
            "type": "scatter3d"
           }
          ],
          "scattercarpet": [
           {
            "marker": {
             "colorbar": {
              "outlinewidth": 0,
              "ticks": ""
             }
            },
            "type": "scattercarpet"
           }
          ],
          "scattergeo": [
           {
            "marker": {
             "colorbar": {
              "outlinewidth": 0,
              "ticks": ""
             }
            },
            "type": "scattergeo"
           }
          ],
          "scattergl": [
           {
            "marker": {
             "colorbar": {
              "outlinewidth": 0,
              "ticks": ""
             }
            },
            "type": "scattergl"
           }
          ],
          "scattermapbox": [
           {
            "marker": {
             "colorbar": {
              "outlinewidth": 0,
              "ticks": ""
             }
            },
            "type": "scattermapbox"
           }
          ],
          "scatterpolar": [
           {
            "marker": {
             "colorbar": {
              "outlinewidth": 0,
              "ticks": ""
             }
            },
            "type": "scatterpolar"
           }
          ],
          "scatterpolargl": [
           {
            "marker": {
             "colorbar": {
              "outlinewidth": 0,
              "ticks": ""
             }
            },
            "type": "scatterpolargl"
           }
          ],
          "scatterternary": [
           {
            "marker": {
             "colorbar": {
              "outlinewidth": 0,
              "ticks": ""
             }
            },
            "type": "scatterternary"
           }
          ],
          "surface": [
           {
            "colorbar": {
             "outlinewidth": 0,
             "ticks": ""
            },
            "colorscale": [
             [
              0,
              "#0d0887"
             ],
             [
              0.1111111111111111,
              "#46039f"
             ],
             [
              0.2222222222222222,
              "#7201a8"
             ],
             [
              0.3333333333333333,
              "#9c179e"
             ],
             [
              0.4444444444444444,
              "#bd3786"
             ],
             [
              0.5555555555555556,
              "#d8576b"
             ],
             [
              0.6666666666666666,
              "#ed7953"
             ],
             [
              0.7777777777777778,
              "#fb9f3a"
             ],
             [
              0.8888888888888888,
              "#fdca26"
             ],
             [
              1,
              "#f0f921"
             ]
            ],
            "type": "surface"
           }
          ],
          "table": [
           {
            "cells": {
             "fill": {
              "color": "#EBF0F8"
             },
             "line": {
              "color": "white"
             }
            },
            "header": {
             "fill": {
              "color": "#C8D4E3"
             },
             "line": {
              "color": "white"
             }
            },
            "type": "table"
           }
          ]
         },
         "layout": {
          "annotationdefaults": {
           "arrowcolor": "#2a3f5f",
           "arrowhead": 0,
           "arrowwidth": 1
          },
          "autotypenumbers": "strict",
          "coloraxis": {
           "colorbar": {
            "outlinewidth": 0,
            "ticks": ""
           }
          },
          "colorscale": {
           "diverging": [
            [
             0,
             "#8e0152"
            ],
            [
             0.1,
             "#c51b7d"
            ],
            [
             0.2,
             "#de77ae"
            ],
            [
             0.3,
             "#f1b6da"
            ],
            [
             0.4,
             "#fde0ef"
            ],
            [
             0.5,
             "#f7f7f7"
            ],
            [
             0.6,
             "#e6f5d0"
            ],
            [
             0.7,
             "#b8e186"
            ],
            [
             0.8,
             "#7fbc41"
            ],
            [
             0.9,
             "#4d9221"
            ],
            [
             1,
             "#276419"
            ]
           ],
           "sequential": [
            [
             0,
             "#0d0887"
            ],
            [
             0.1111111111111111,
             "#46039f"
            ],
            [
             0.2222222222222222,
             "#7201a8"
            ],
            [
             0.3333333333333333,
             "#9c179e"
            ],
            [
             0.4444444444444444,
             "#bd3786"
            ],
            [
             0.5555555555555556,
             "#d8576b"
            ],
            [
             0.6666666666666666,
             "#ed7953"
            ],
            [
             0.7777777777777778,
             "#fb9f3a"
            ],
            [
             0.8888888888888888,
             "#fdca26"
            ],
            [
             1,
             "#f0f921"
            ]
           ],
           "sequentialminus": [
            [
             0,
             "#0d0887"
            ],
            [
             0.1111111111111111,
             "#46039f"
            ],
            [
             0.2222222222222222,
             "#7201a8"
            ],
            [
             0.3333333333333333,
             "#9c179e"
            ],
            [
             0.4444444444444444,
             "#bd3786"
            ],
            [
             0.5555555555555556,
             "#d8576b"
            ],
            [
             0.6666666666666666,
             "#ed7953"
            ],
            [
             0.7777777777777778,
             "#fb9f3a"
            ],
            [
             0.8888888888888888,
             "#fdca26"
            ],
            [
             1,
             "#f0f921"
            ]
           ]
          },
          "colorway": [
           "#636efa",
           "#EF553B",
           "#00cc96",
           "#ab63fa",
           "#FFA15A",
           "#19d3f3",
           "#FF6692",
           "#B6E880",
           "#FF97FF",
           "#FECB52"
          ],
          "font": {
           "color": "#2a3f5f"
          },
          "geo": {
           "bgcolor": "white",
           "lakecolor": "white",
           "landcolor": "#E5ECF6",
           "showlakes": true,
           "showland": true,
           "subunitcolor": "white"
          },
          "hoverlabel": {
           "align": "left"
          },
          "hovermode": "closest",
          "mapbox": {
           "style": "light"
          },
          "paper_bgcolor": "white",
          "plot_bgcolor": "#E5ECF6",
          "polar": {
           "angularaxis": {
            "gridcolor": "white",
            "linecolor": "white",
            "ticks": ""
           },
           "bgcolor": "#E5ECF6",
           "radialaxis": {
            "gridcolor": "white",
            "linecolor": "white",
            "ticks": ""
           }
          },
          "scene": {
           "xaxis": {
            "backgroundcolor": "#E5ECF6",
            "gridcolor": "white",
            "gridwidth": 2,
            "linecolor": "white",
            "showbackground": true,
            "ticks": "",
            "zerolinecolor": "white"
           },
           "yaxis": {
            "backgroundcolor": "#E5ECF6",
            "gridcolor": "white",
            "gridwidth": 2,
            "linecolor": "white",
            "showbackground": true,
            "ticks": "",
            "zerolinecolor": "white"
           },
           "zaxis": {
            "backgroundcolor": "#E5ECF6",
            "gridcolor": "white",
            "gridwidth": 2,
            "linecolor": "white",
            "showbackground": true,
            "ticks": "",
            "zerolinecolor": "white"
           }
          },
          "shapedefaults": {
           "line": {
            "color": "#2a3f5f"
           }
          },
          "ternary": {
           "aaxis": {
            "gridcolor": "white",
            "linecolor": "white",
            "ticks": ""
           },
           "baxis": {
            "gridcolor": "white",
            "linecolor": "white",
            "ticks": ""
           },
           "bgcolor": "#E5ECF6",
           "caxis": {
            "gridcolor": "white",
            "linecolor": "white",
            "ticks": ""
           }
          },
          "title": {
           "x": 0.05
          },
          "xaxis": {
           "automargin": true,
           "gridcolor": "white",
           "linecolor": "white",
           "ticks": "",
           "title": {
            "standoff": 15
           },
           "zerolinecolor": "white",
           "zerolinewidth": 2
          },
          "yaxis": {
           "automargin": true,
           "gridcolor": "white",
           "linecolor": "white",
           "ticks": "",
           "title": {
            "standoff": 15
           },
           "zerolinecolor": "white",
           "zerolinewidth": 2
          }
         }
        },
        "xaxis": {
         "anchor": "y",
         "domain": [
          0,
          1
         ],
         "title": {
          "text": "Número de Plazas"
         }
        },
        "yaxis": {
         "anchor": "x",
         "domain": [
          0,
          1
         ],
         "title": {
          "text": "probability density"
         }
        }
       }
      }
     },
     "metadata": {},
     "output_type": "display_data"
    }
   ],
   "source": [
    "fig = px.histogram(bases, x=\"Número de Plazas\", nbins = 30, histnorm='probability density')\n",
    "fig.update_traces(marker_color = \"darkorange\")\n",
    "fig.show()"
   ]
  },
  {
   "cell_type": "markdown",
   "metadata": {},
   "source": [
    "**Distrito distribution**: Half the number of stations are concentrated in CENTRO, SALAMANCA and CHAMBERÍ"
   ]
  },
  {
   "cell_type": "code",
   "execution_count": 11,
   "metadata": {},
   "outputs": [
    {
     "data": {
      "application/vnd.plotly.v1+json": {
       "config": {
        "plotlyServerURL": "https://plot.ly"
       },
       "data": [
        {
         "customdata": [
          [
           "01  CENTRO"
          ],
          [
           "04  SALAMANCA"
          ],
          [
           "07  CHAMBERÍ"
          ],
          [
           "02  ARGANZUELA"
          ],
          [
           "05  CHAMARTÍN"
          ],
          [
           "03  RETIRO"
          ],
          [
           "09  MONCLOA-ARAVACA"
          ],
          [
           "06  TETUÁN"
          ],
          [
           "15  CIUDAD LINEAL"
          ],
          [
           "13  PUENTE DE VALLECAS"
          ],
          [
           "14  MORATALAZ"
          ],
          [
           "10  LATINA"
          ],
          [
           "11  CARABANCHEL"
          ],
          [
           "12  USERA"
          ],
          [
           "08  FUENCARRAL-EL PARDO"
          ]
         ],
         "domain": {
          "x": [
           0,
           1
          ],
          "y": [
           0,
           1
          ]
         },
         "hovertemplate": "label=%{label}<br>value=%{value}<br>color=%{customdata[0]}<extra></extra>",
         "labels": [
          "01  CENTRO",
          "04  SALAMANCA",
          "07  CHAMBERÍ",
          "02  ARGANZUELA",
          "05  CHAMARTÍN",
          "03  RETIRO",
          "09  MONCLOA-ARAVACA",
          "06  TETUÁN",
          "15  CIUDAD LINEAL",
          "13  PUENTE DE VALLECAS",
          "14  MORATALAZ",
          "10  LATINA",
          "11  CARABANCHEL",
          "12  USERA",
          "08  FUENCARRAL-EL PARDO"
         ],
         "legendgroup": "",
         "marker": {
          "colors": [
           "rgb(103,0,31)",
           "rgb(178,24,43)",
           "rgb(214,96,77)",
           "rgb(244,165,130)",
           "rgb(253,219,199)",
           "rgb(247,247,247)",
           "rgb(209,229,240)",
           "rgb(146,197,222)",
           "rgb(67,147,195)",
           "rgb(33,102,172)",
           "rgb(5,48,97)",
           "rgb(103,0,31)",
           "rgb(178,24,43)",
           "rgb(214,96,77)",
           "rgb(244,165,130)"
          ]
         },
         "name": "",
         "showlegend": true,
         "type": "pie",
         "values": [
          61,
          43,
          30,
          26,
          26,
          25,
          17,
          14,
          10,
          4,
          4,
          3,
          2,
          2,
          2
         ]
        }
       ],
       "layout": {
        "legend": {
         "tracegroupgap": 0
        },
        "margin": {
         "t": 60
        },
        "piecolorway": [
         "rgb(103,0,31)",
         "rgb(178,24,43)",
         "rgb(214,96,77)",
         "rgb(244,165,130)",
         "rgb(253,219,199)",
         "rgb(247,247,247)",
         "rgb(209,229,240)",
         "rgb(146,197,222)",
         "rgb(67,147,195)",
         "rgb(33,102,172)",
         "rgb(5,48,97)"
        ],
        "template": {
         "data": {
          "bar": [
           {
            "error_x": {
             "color": "#2a3f5f"
            },
            "error_y": {
             "color": "#2a3f5f"
            },
            "marker": {
             "line": {
              "color": "#E5ECF6",
              "width": 0.5
             },
             "pattern": {
              "fillmode": "overlay",
              "size": 10,
              "solidity": 0.2
             }
            },
            "type": "bar"
           }
          ],
          "barpolar": [
           {
            "marker": {
             "line": {
              "color": "#E5ECF6",
              "width": 0.5
             },
             "pattern": {
              "fillmode": "overlay",
              "size": 10,
              "solidity": 0.2
             }
            },
            "type": "barpolar"
           }
          ],
          "carpet": [
           {
            "aaxis": {
             "endlinecolor": "#2a3f5f",
             "gridcolor": "white",
             "linecolor": "white",
             "minorgridcolor": "white",
             "startlinecolor": "#2a3f5f"
            },
            "baxis": {
             "endlinecolor": "#2a3f5f",
             "gridcolor": "white",
             "linecolor": "white",
             "minorgridcolor": "white",
             "startlinecolor": "#2a3f5f"
            },
            "type": "carpet"
           }
          ],
          "choropleth": [
           {
            "colorbar": {
             "outlinewidth": 0,
             "ticks": ""
            },
            "type": "choropleth"
           }
          ],
          "contour": [
           {
            "colorbar": {
             "outlinewidth": 0,
             "ticks": ""
            },
            "colorscale": [
             [
              0,
              "#0d0887"
             ],
             [
              0.1111111111111111,
              "#46039f"
             ],
             [
              0.2222222222222222,
              "#7201a8"
             ],
             [
              0.3333333333333333,
              "#9c179e"
             ],
             [
              0.4444444444444444,
              "#bd3786"
             ],
             [
              0.5555555555555556,
              "#d8576b"
             ],
             [
              0.6666666666666666,
              "#ed7953"
             ],
             [
              0.7777777777777778,
              "#fb9f3a"
             ],
             [
              0.8888888888888888,
              "#fdca26"
             ],
             [
              1,
              "#f0f921"
             ]
            ],
            "type": "contour"
           }
          ],
          "contourcarpet": [
           {
            "colorbar": {
             "outlinewidth": 0,
             "ticks": ""
            },
            "type": "contourcarpet"
           }
          ],
          "heatmap": [
           {
            "colorbar": {
             "outlinewidth": 0,
             "ticks": ""
            },
            "colorscale": [
             [
              0,
              "#0d0887"
             ],
             [
              0.1111111111111111,
              "#46039f"
             ],
             [
              0.2222222222222222,
              "#7201a8"
             ],
             [
              0.3333333333333333,
              "#9c179e"
             ],
             [
              0.4444444444444444,
              "#bd3786"
             ],
             [
              0.5555555555555556,
              "#d8576b"
             ],
             [
              0.6666666666666666,
              "#ed7953"
             ],
             [
              0.7777777777777778,
              "#fb9f3a"
             ],
             [
              0.8888888888888888,
              "#fdca26"
             ],
             [
              1,
              "#f0f921"
             ]
            ],
            "type": "heatmap"
           }
          ],
          "heatmapgl": [
           {
            "colorbar": {
             "outlinewidth": 0,
             "ticks": ""
            },
            "colorscale": [
             [
              0,
              "#0d0887"
             ],
             [
              0.1111111111111111,
              "#46039f"
             ],
             [
              0.2222222222222222,
              "#7201a8"
             ],
             [
              0.3333333333333333,
              "#9c179e"
             ],
             [
              0.4444444444444444,
              "#bd3786"
             ],
             [
              0.5555555555555556,
              "#d8576b"
             ],
             [
              0.6666666666666666,
              "#ed7953"
             ],
             [
              0.7777777777777778,
              "#fb9f3a"
             ],
             [
              0.8888888888888888,
              "#fdca26"
             ],
             [
              1,
              "#f0f921"
             ]
            ],
            "type": "heatmapgl"
           }
          ],
          "histogram": [
           {
            "marker": {
             "pattern": {
              "fillmode": "overlay",
              "size": 10,
              "solidity": 0.2
             }
            },
            "type": "histogram"
           }
          ],
          "histogram2d": [
           {
            "colorbar": {
             "outlinewidth": 0,
             "ticks": ""
            },
            "colorscale": [
             [
              0,
              "#0d0887"
             ],
             [
              0.1111111111111111,
              "#46039f"
             ],
             [
              0.2222222222222222,
              "#7201a8"
             ],
             [
              0.3333333333333333,
              "#9c179e"
             ],
             [
              0.4444444444444444,
              "#bd3786"
             ],
             [
              0.5555555555555556,
              "#d8576b"
             ],
             [
              0.6666666666666666,
              "#ed7953"
             ],
             [
              0.7777777777777778,
              "#fb9f3a"
             ],
             [
              0.8888888888888888,
              "#fdca26"
             ],
             [
              1,
              "#f0f921"
             ]
            ],
            "type": "histogram2d"
           }
          ],
          "histogram2dcontour": [
           {
            "colorbar": {
             "outlinewidth": 0,
             "ticks": ""
            },
            "colorscale": [
             [
              0,
              "#0d0887"
             ],
             [
              0.1111111111111111,
              "#46039f"
             ],
             [
              0.2222222222222222,
              "#7201a8"
             ],
             [
              0.3333333333333333,
              "#9c179e"
             ],
             [
              0.4444444444444444,
              "#bd3786"
             ],
             [
              0.5555555555555556,
              "#d8576b"
             ],
             [
              0.6666666666666666,
              "#ed7953"
             ],
             [
              0.7777777777777778,
              "#fb9f3a"
             ],
             [
              0.8888888888888888,
              "#fdca26"
             ],
             [
              1,
              "#f0f921"
             ]
            ],
            "type": "histogram2dcontour"
           }
          ],
          "mesh3d": [
           {
            "colorbar": {
             "outlinewidth": 0,
             "ticks": ""
            },
            "type": "mesh3d"
           }
          ],
          "parcoords": [
           {
            "line": {
             "colorbar": {
              "outlinewidth": 0,
              "ticks": ""
             }
            },
            "type": "parcoords"
           }
          ],
          "pie": [
           {
            "automargin": true,
            "type": "pie"
           }
          ],
          "scatter": [
           {
            "fillpattern": {
             "fillmode": "overlay",
             "size": 10,
             "solidity": 0.2
            },
            "type": "scatter"
           }
          ],
          "scatter3d": [
           {
            "line": {
             "colorbar": {
              "outlinewidth": 0,
              "ticks": ""
             }
            },
            "marker": {
             "colorbar": {
              "outlinewidth": 0,
              "ticks": ""
             }
            },
            "type": "scatter3d"
           }
          ],
          "scattercarpet": [
           {
            "marker": {
             "colorbar": {
              "outlinewidth": 0,
              "ticks": ""
             }
            },
            "type": "scattercarpet"
           }
          ],
          "scattergeo": [
           {
            "marker": {
             "colorbar": {
              "outlinewidth": 0,
              "ticks": ""
             }
            },
            "type": "scattergeo"
           }
          ],
          "scattergl": [
           {
            "marker": {
             "colorbar": {
              "outlinewidth": 0,
              "ticks": ""
             }
            },
            "type": "scattergl"
           }
          ],
          "scattermapbox": [
           {
            "marker": {
             "colorbar": {
              "outlinewidth": 0,
              "ticks": ""
             }
            },
            "type": "scattermapbox"
           }
          ],
          "scatterpolar": [
           {
            "marker": {
             "colorbar": {
              "outlinewidth": 0,
              "ticks": ""
             }
            },
            "type": "scatterpolar"
           }
          ],
          "scatterpolargl": [
           {
            "marker": {
             "colorbar": {
              "outlinewidth": 0,
              "ticks": ""
             }
            },
            "type": "scatterpolargl"
           }
          ],
          "scatterternary": [
           {
            "marker": {
             "colorbar": {
              "outlinewidth": 0,
              "ticks": ""
             }
            },
            "type": "scatterternary"
           }
          ],
          "surface": [
           {
            "colorbar": {
             "outlinewidth": 0,
             "ticks": ""
            },
            "colorscale": [
             [
              0,
              "#0d0887"
             ],
             [
              0.1111111111111111,
              "#46039f"
             ],
             [
              0.2222222222222222,
              "#7201a8"
             ],
             [
              0.3333333333333333,
              "#9c179e"
             ],
             [
              0.4444444444444444,
              "#bd3786"
             ],
             [
              0.5555555555555556,
              "#d8576b"
             ],
             [
              0.6666666666666666,
              "#ed7953"
             ],
             [
              0.7777777777777778,
              "#fb9f3a"
             ],
             [
              0.8888888888888888,
              "#fdca26"
             ],
             [
              1,
              "#f0f921"
             ]
            ],
            "type": "surface"
           }
          ],
          "table": [
           {
            "cells": {
             "fill": {
              "color": "#EBF0F8"
             },
             "line": {
              "color": "white"
             }
            },
            "header": {
             "fill": {
              "color": "#C8D4E3"
             },
             "line": {
              "color": "white"
             }
            },
            "type": "table"
           }
          ]
         },
         "layout": {
          "annotationdefaults": {
           "arrowcolor": "#2a3f5f",
           "arrowhead": 0,
           "arrowwidth": 1
          },
          "autotypenumbers": "strict",
          "coloraxis": {
           "colorbar": {
            "outlinewidth": 0,
            "ticks": ""
           }
          },
          "colorscale": {
           "diverging": [
            [
             0,
             "#8e0152"
            ],
            [
             0.1,
             "#c51b7d"
            ],
            [
             0.2,
             "#de77ae"
            ],
            [
             0.3,
             "#f1b6da"
            ],
            [
             0.4,
             "#fde0ef"
            ],
            [
             0.5,
             "#f7f7f7"
            ],
            [
             0.6,
             "#e6f5d0"
            ],
            [
             0.7,
             "#b8e186"
            ],
            [
             0.8,
             "#7fbc41"
            ],
            [
             0.9,
             "#4d9221"
            ],
            [
             1,
             "#276419"
            ]
           ],
           "sequential": [
            [
             0,
             "#0d0887"
            ],
            [
             0.1111111111111111,
             "#46039f"
            ],
            [
             0.2222222222222222,
             "#7201a8"
            ],
            [
             0.3333333333333333,
             "#9c179e"
            ],
            [
             0.4444444444444444,
             "#bd3786"
            ],
            [
             0.5555555555555556,
             "#d8576b"
            ],
            [
             0.6666666666666666,
             "#ed7953"
            ],
            [
             0.7777777777777778,
             "#fb9f3a"
            ],
            [
             0.8888888888888888,
             "#fdca26"
            ],
            [
             1,
             "#f0f921"
            ]
           ],
           "sequentialminus": [
            [
             0,
             "#0d0887"
            ],
            [
             0.1111111111111111,
             "#46039f"
            ],
            [
             0.2222222222222222,
             "#7201a8"
            ],
            [
             0.3333333333333333,
             "#9c179e"
            ],
            [
             0.4444444444444444,
             "#bd3786"
            ],
            [
             0.5555555555555556,
             "#d8576b"
            ],
            [
             0.6666666666666666,
             "#ed7953"
            ],
            [
             0.7777777777777778,
             "#fb9f3a"
            ],
            [
             0.8888888888888888,
             "#fdca26"
            ],
            [
             1,
             "#f0f921"
            ]
           ]
          },
          "colorway": [
           "#636efa",
           "#EF553B",
           "#00cc96",
           "#ab63fa",
           "#FFA15A",
           "#19d3f3",
           "#FF6692",
           "#B6E880",
           "#FF97FF",
           "#FECB52"
          ],
          "font": {
           "color": "#2a3f5f"
          },
          "geo": {
           "bgcolor": "white",
           "lakecolor": "white",
           "landcolor": "#E5ECF6",
           "showlakes": true,
           "showland": true,
           "subunitcolor": "white"
          },
          "hoverlabel": {
           "align": "left"
          },
          "hovermode": "closest",
          "mapbox": {
           "style": "light"
          },
          "paper_bgcolor": "white",
          "plot_bgcolor": "#E5ECF6",
          "polar": {
           "angularaxis": {
            "gridcolor": "white",
            "linecolor": "white",
            "ticks": ""
           },
           "bgcolor": "#E5ECF6",
           "radialaxis": {
            "gridcolor": "white",
            "linecolor": "white",
            "ticks": ""
           }
          },
          "scene": {
           "xaxis": {
            "backgroundcolor": "#E5ECF6",
            "gridcolor": "white",
            "gridwidth": 2,
            "linecolor": "white",
            "showbackground": true,
            "ticks": "",
            "zerolinecolor": "white"
           },
           "yaxis": {
            "backgroundcolor": "#E5ECF6",
            "gridcolor": "white",
            "gridwidth": 2,
            "linecolor": "white",
            "showbackground": true,
            "ticks": "",
            "zerolinecolor": "white"
           },
           "zaxis": {
            "backgroundcolor": "#E5ECF6",
            "gridcolor": "white",
            "gridwidth": 2,
            "linecolor": "white",
            "showbackground": true,
            "ticks": "",
            "zerolinecolor": "white"
           }
          },
          "shapedefaults": {
           "line": {
            "color": "#2a3f5f"
           }
          },
          "ternary": {
           "aaxis": {
            "gridcolor": "white",
            "linecolor": "white",
            "ticks": ""
           },
           "baxis": {
            "gridcolor": "white",
            "linecolor": "white",
            "ticks": ""
           },
           "bgcolor": "#E5ECF6",
           "caxis": {
            "gridcolor": "white",
            "linecolor": "white",
            "ticks": ""
           }
          },
          "title": {
           "x": 0.05
          },
          "xaxis": {
           "automargin": true,
           "gridcolor": "white",
           "linecolor": "white",
           "ticks": "",
           "title": {
            "standoff": 15
           },
           "zerolinecolor": "white",
           "zerolinewidth": 2
          },
          "yaxis": {
           "automargin": true,
           "gridcolor": "white",
           "linecolor": "white",
           "ticks": "",
           "title": {
            "standoff": 15
           },
           "zerolinecolor": "white",
           "zerolinewidth": 2
          }
         }
        },
        "title": {
         "text": "Distribución número de bases por distrito"
        }
       }
      }
     },
     "metadata": {},
     "output_type": "display_data"
    }
   ],
   "source": [
    "count_distrito = bases[\"Distrito\"].value_counts() \n",
    "labels_distrito = count_distrito.index\n",
    "\n",
    "fig = px.pie(bases, values=count_distrito, names=labels_distrito, color=labels_distrito,\n",
    "             color_discrete_sequence=px.colors.sequential.RdBu)\n",
    "\n",
    "fig.update_layout(title = \"Distribución número de bases por distrito\")\n",
    "fig.show()"
   ]
  },
  {
   "cell_type": "markdown",
   "metadata": {},
   "source": [
    "**Barrio distribution**: irregular distribution between neighborhoods. Number of bases range from 1 to 14 by neigborhood "
   ]
  },
  {
   "cell_type": "code",
   "execution_count": 13,
   "metadata": {},
   "outputs": [
    {
     "data": {
      "application/vnd.plotly.v1+json": {
       "config": {
        "plotlyServerURL": "https://plot.ly"
       },
       "data": [
        {
         "showlegend": false,
         "type": "bar",
         "x": [
          "04-01 RECOLETOS",
          "01-05 UNIVERSIDAD",
          "05-01 EL VISO",
          "01-04 JUSTICIA",
          "01-02 EMBAJADORES",
          "01-06 SOL",
          "01-01 PALACIO",
          "03-05 JERÓNIMOS",
          "07-05 RÍOS ROSAS",
          "04-02 GOYA",
          "04-04 GUINDALERA",
          "02-02 ACACIAS",
          "09-02 ARGÜELLES",
          "01-03 CORTES",
          "06-02 CUATRO CAMINOS",
          "07-01 GAZTAMBIDE",
          "09-03 CIUDAD UNIVERSITARIA",
          "04-06 CASTELLANA",
          "02-06 PALOS DE MOGUER",
          "07-04 ALMAGRO",
          "02-07 ATOCHA",
          "03-04 IBIZA",
          "15-01 VENTAS",
          "02-05 DELICIAS",
          "05-05 NUEVA ESPAÑA",
          "04-05 LISTA",
          "07-02 ARAPILES",
          "03-06 NIÑO JESÚS",
          "09-01 CASA DE CAMPO",
          "05-04 HISPANOAMÉRICA",
          "07-03 TRAFALGAR",
          "03-03 ESTRELLA",
          "15-05 SAN PASCUAL",
          "03-01 PACÍFICO",
          "06-01 BELLAS VISTAS",
          "07-06 VALLEHERMOSO",
          "05-06 CASTILLA",
          "04-03 FUENTE DEL BERRO",
          "15-04 CONCEPCIÓN",
          "12-05 MOSCARDÓ",
          "13-06 NUMANCIA",
          "14-04 MEDIA LEGUA",
          "08-05 LA PAZ",
          "10-02 PUERTA DEL ÁNGEL",
          "03-02 ADELFAS",
          "02-03 CHOPERA",
          "02-01 IMPERIAL",
          "13-02 SAN DIEGO",
          "05-02 PROSPERIDAD",
          "06-06 BERRUGUETE",
          "11-03 SAN ISIDRO",
          "06-05 VALDEACEDERAS",
          "15-02 PUEBLO NUEVO",
          "06-03 CASTILLEJOS",
          "05-03 CIUDAD JARDÍN",
          "14-03 MARROQUINA",
          "14-01 PAVONES",
          "10-01 CÁRMENES",
          "11-01 COMILLA",
          "02-04 LEGAZPI"
         ],
         "y": [
          14,
          12,
          12,
          11,
          11,
          10,
          10,
          9,
          9,
          9,
          8,
          8,
          7,
          7,
          7,
          6,
          6,
          5,
          5,
          5,
          4,
          4,
          4,
          4,
          4,
          4,
          4,
          4,
          4,
          4,
          3,
          3,
          3,
          3,
          3,
          3,
          3,
          3,
          2,
          2,
          2,
          2,
          2,
          2,
          2,
          2,
          2,
          2,
          2,
          2,
          1,
          1,
          1,
          1,
          1,
          1,
          1,
          1,
          1,
          1
         ]
        }
       ],
       "layout": {
        "template": {
         "data": {
          "bar": [
           {
            "error_x": {
             "color": "#2a3f5f"
            },
            "error_y": {
             "color": "#2a3f5f"
            },
            "marker": {
             "line": {
              "color": "#E5ECF6",
              "width": 0.5
             },
             "pattern": {
              "fillmode": "overlay",
              "size": 10,
              "solidity": 0.2
             }
            },
            "type": "bar"
           }
          ],
          "barpolar": [
           {
            "marker": {
             "line": {
              "color": "#E5ECF6",
              "width": 0.5
             },
             "pattern": {
              "fillmode": "overlay",
              "size": 10,
              "solidity": 0.2
             }
            },
            "type": "barpolar"
           }
          ],
          "carpet": [
           {
            "aaxis": {
             "endlinecolor": "#2a3f5f",
             "gridcolor": "white",
             "linecolor": "white",
             "minorgridcolor": "white",
             "startlinecolor": "#2a3f5f"
            },
            "baxis": {
             "endlinecolor": "#2a3f5f",
             "gridcolor": "white",
             "linecolor": "white",
             "minorgridcolor": "white",
             "startlinecolor": "#2a3f5f"
            },
            "type": "carpet"
           }
          ],
          "choropleth": [
           {
            "colorbar": {
             "outlinewidth": 0,
             "ticks": ""
            },
            "type": "choropleth"
           }
          ],
          "contour": [
           {
            "colorbar": {
             "outlinewidth": 0,
             "ticks": ""
            },
            "colorscale": [
             [
              0,
              "#0d0887"
             ],
             [
              0.1111111111111111,
              "#46039f"
             ],
             [
              0.2222222222222222,
              "#7201a8"
             ],
             [
              0.3333333333333333,
              "#9c179e"
             ],
             [
              0.4444444444444444,
              "#bd3786"
             ],
             [
              0.5555555555555556,
              "#d8576b"
             ],
             [
              0.6666666666666666,
              "#ed7953"
             ],
             [
              0.7777777777777778,
              "#fb9f3a"
             ],
             [
              0.8888888888888888,
              "#fdca26"
             ],
             [
              1,
              "#f0f921"
             ]
            ],
            "type": "contour"
           }
          ],
          "contourcarpet": [
           {
            "colorbar": {
             "outlinewidth": 0,
             "ticks": ""
            },
            "type": "contourcarpet"
           }
          ],
          "heatmap": [
           {
            "colorbar": {
             "outlinewidth": 0,
             "ticks": ""
            },
            "colorscale": [
             [
              0,
              "#0d0887"
             ],
             [
              0.1111111111111111,
              "#46039f"
             ],
             [
              0.2222222222222222,
              "#7201a8"
             ],
             [
              0.3333333333333333,
              "#9c179e"
             ],
             [
              0.4444444444444444,
              "#bd3786"
             ],
             [
              0.5555555555555556,
              "#d8576b"
             ],
             [
              0.6666666666666666,
              "#ed7953"
             ],
             [
              0.7777777777777778,
              "#fb9f3a"
             ],
             [
              0.8888888888888888,
              "#fdca26"
             ],
             [
              1,
              "#f0f921"
             ]
            ],
            "type": "heatmap"
           }
          ],
          "heatmapgl": [
           {
            "colorbar": {
             "outlinewidth": 0,
             "ticks": ""
            },
            "colorscale": [
             [
              0,
              "#0d0887"
             ],
             [
              0.1111111111111111,
              "#46039f"
             ],
             [
              0.2222222222222222,
              "#7201a8"
             ],
             [
              0.3333333333333333,
              "#9c179e"
             ],
             [
              0.4444444444444444,
              "#bd3786"
             ],
             [
              0.5555555555555556,
              "#d8576b"
             ],
             [
              0.6666666666666666,
              "#ed7953"
             ],
             [
              0.7777777777777778,
              "#fb9f3a"
             ],
             [
              0.8888888888888888,
              "#fdca26"
             ],
             [
              1,
              "#f0f921"
             ]
            ],
            "type": "heatmapgl"
           }
          ],
          "histogram": [
           {
            "marker": {
             "pattern": {
              "fillmode": "overlay",
              "size": 10,
              "solidity": 0.2
             }
            },
            "type": "histogram"
           }
          ],
          "histogram2d": [
           {
            "colorbar": {
             "outlinewidth": 0,
             "ticks": ""
            },
            "colorscale": [
             [
              0,
              "#0d0887"
             ],
             [
              0.1111111111111111,
              "#46039f"
             ],
             [
              0.2222222222222222,
              "#7201a8"
             ],
             [
              0.3333333333333333,
              "#9c179e"
             ],
             [
              0.4444444444444444,
              "#bd3786"
             ],
             [
              0.5555555555555556,
              "#d8576b"
             ],
             [
              0.6666666666666666,
              "#ed7953"
             ],
             [
              0.7777777777777778,
              "#fb9f3a"
             ],
             [
              0.8888888888888888,
              "#fdca26"
             ],
             [
              1,
              "#f0f921"
             ]
            ],
            "type": "histogram2d"
           }
          ],
          "histogram2dcontour": [
           {
            "colorbar": {
             "outlinewidth": 0,
             "ticks": ""
            },
            "colorscale": [
             [
              0,
              "#0d0887"
             ],
             [
              0.1111111111111111,
              "#46039f"
             ],
             [
              0.2222222222222222,
              "#7201a8"
             ],
             [
              0.3333333333333333,
              "#9c179e"
             ],
             [
              0.4444444444444444,
              "#bd3786"
             ],
             [
              0.5555555555555556,
              "#d8576b"
             ],
             [
              0.6666666666666666,
              "#ed7953"
             ],
             [
              0.7777777777777778,
              "#fb9f3a"
             ],
             [
              0.8888888888888888,
              "#fdca26"
             ],
             [
              1,
              "#f0f921"
             ]
            ],
            "type": "histogram2dcontour"
           }
          ],
          "mesh3d": [
           {
            "colorbar": {
             "outlinewidth": 0,
             "ticks": ""
            },
            "type": "mesh3d"
           }
          ],
          "parcoords": [
           {
            "line": {
             "colorbar": {
              "outlinewidth": 0,
              "ticks": ""
             }
            },
            "type": "parcoords"
           }
          ],
          "pie": [
           {
            "automargin": true,
            "type": "pie"
           }
          ],
          "scatter": [
           {
            "fillpattern": {
             "fillmode": "overlay",
             "size": 10,
             "solidity": 0.2
            },
            "type": "scatter"
           }
          ],
          "scatter3d": [
           {
            "line": {
             "colorbar": {
              "outlinewidth": 0,
              "ticks": ""
             }
            },
            "marker": {
             "colorbar": {
              "outlinewidth": 0,
              "ticks": ""
             }
            },
            "type": "scatter3d"
           }
          ],
          "scattercarpet": [
           {
            "marker": {
             "colorbar": {
              "outlinewidth": 0,
              "ticks": ""
             }
            },
            "type": "scattercarpet"
           }
          ],
          "scattergeo": [
           {
            "marker": {
             "colorbar": {
              "outlinewidth": 0,
              "ticks": ""
             }
            },
            "type": "scattergeo"
           }
          ],
          "scattergl": [
           {
            "marker": {
             "colorbar": {
              "outlinewidth": 0,
              "ticks": ""
             }
            },
            "type": "scattergl"
           }
          ],
          "scattermapbox": [
           {
            "marker": {
             "colorbar": {
              "outlinewidth": 0,
              "ticks": ""
             }
            },
            "type": "scattermapbox"
           }
          ],
          "scatterpolar": [
           {
            "marker": {
             "colorbar": {
              "outlinewidth": 0,
              "ticks": ""
             }
            },
            "type": "scatterpolar"
           }
          ],
          "scatterpolargl": [
           {
            "marker": {
             "colorbar": {
              "outlinewidth": 0,
              "ticks": ""
             }
            },
            "type": "scatterpolargl"
           }
          ],
          "scatterternary": [
           {
            "marker": {
             "colorbar": {
              "outlinewidth": 0,
              "ticks": ""
             }
            },
            "type": "scatterternary"
           }
          ],
          "surface": [
           {
            "colorbar": {
             "outlinewidth": 0,
             "ticks": ""
            },
            "colorscale": [
             [
              0,
              "#0d0887"
             ],
             [
              0.1111111111111111,
              "#46039f"
             ],
             [
              0.2222222222222222,
              "#7201a8"
             ],
             [
              0.3333333333333333,
              "#9c179e"
             ],
             [
              0.4444444444444444,
              "#bd3786"
             ],
             [
              0.5555555555555556,
              "#d8576b"
             ],
             [
              0.6666666666666666,
              "#ed7953"
             ],
             [
              0.7777777777777778,
              "#fb9f3a"
             ],
             [
              0.8888888888888888,
              "#fdca26"
             ],
             [
              1,
              "#f0f921"
             ]
            ],
            "type": "surface"
           }
          ],
          "table": [
           {
            "cells": {
             "fill": {
              "color": "#EBF0F8"
             },
             "line": {
              "color": "white"
             }
            },
            "header": {
             "fill": {
              "color": "#C8D4E3"
             },
             "line": {
              "color": "white"
             }
            },
            "type": "table"
           }
          ]
         },
         "layout": {
          "annotationdefaults": {
           "arrowcolor": "#2a3f5f",
           "arrowhead": 0,
           "arrowwidth": 1
          },
          "autotypenumbers": "strict",
          "coloraxis": {
           "colorbar": {
            "outlinewidth": 0,
            "ticks": ""
           }
          },
          "colorscale": {
           "diverging": [
            [
             0,
             "#8e0152"
            ],
            [
             0.1,
             "#c51b7d"
            ],
            [
             0.2,
             "#de77ae"
            ],
            [
             0.3,
             "#f1b6da"
            ],
            [
             0.4,
             "#fde0ef"
            ],
            [
             0.5,
             "#f7f7f7"
            ],
            [
             0.6,
             "#e6f5d0"
            ],
            [
             0.7,
             "#b8e186"
            ],
            [
             0.8,
             "#7fbc41"
            ],
            [
             0.9,
             "#4d9221"
            ],
            [
             1,
             "#276419"
            ]
           ],
           "sequential": [
            [
             0,
             "#0d0887"
            ],
            [
             0.1111111111111111,
             "#46039f"
            ],
            [
             0.2222222222222222,
             "#7201a8"
            ],
            [
             0.3333333333333333,
             "#9c179e"
            ],
            [
             0.4444444444444444,
             "#bd3786"
            ],
            [
             0.5555555555555556,
             "#d8576b"
            ],
            [
             0.6666666666666666,
             "#ed7953"
            ],
            [
             0.7777777777777778,
             "#fb9f3a"
            ],
            [
             0.8888888888888888,
             "#fdca26"
            ],
            [
             1,
             "#f0f921"
            ]
           ],
           "sequentialminus": [
            [
             0,
             "#0d0887"
            ],
            [
             0.1111111111111111,
             "#46039f"
            ],
            [
             0.2222222222222222,
             "#7201a8"
            ],
            [
             0.3333333333333333,
             "#9c179e"
            ],
            [
             0.4444444444444444,
             "#bd3786"
            ],
            [
             0.5555555555555556,
             "#d8576b"
            ],
            [
             0.6666666666666666,
             "#ed7953"
            ],
            [
             0.7777777777777778,
             "#fb9f3a"
            ],
            [
             0.8888888888888888,
             "#fdca26"
            ],
            [
             1,
             "#f0f921"
            ]
           ]
          },
          "colorway": [
           "#636efa",
           "#EF553B",
           "#00cc96",
           "#ab63fa",
           "#FFA15A",
           "#19d3f3",
           "#FF6692",
           "#B6E880",
           "#FF97FF",
           "#FECB52"
          ],
          "font": {
           "color": "#2a3f5f"
          },
          "geo": {
           "bgcolor": "white",
           "lakecolor": "white",
           "landcolor": "#E5ECF6",
           "showlakes": true,
           "showland": true,
           "subunitcolor": "white"
          },
          "hoverlabel": {
           "align": "left"
          },
          "hovermode": "closest",
          "mapbox": {
           "style": "light"
          },
          "paper_bgcolor": "white",
          "plot_bgcolor": "#E5ECF6",
          "polar": {
           "angularaxis": {
            "gridcolor": "white",
            "linecolor": "white",
            "ticks": ""
           },
           "bgcolor": "#E5ECF6",
           "radialaxis": {
            "gridcolor": "white",
            "linecolor": "white",
            "ticks": ""
           }
          },
          "scene": {
           "xaxis": {
            "backgroundcolor": "#E5ECF6",
            "gridcolor": "white",
            "gridwidth": 2,
            "linecolor": "white",
            "showbackground": true,
            "ticks": "",
            "zerolinecolor": "white"
           },
           "yaxis": {
            "backgroundcolor": "#E5ECF6",
            "gridcolor": "white",
            "gridwidth": 2,
            "linecolor": "white",
            "showbackground": true,
            "ticks": "",
            "zerolinecolor": "white"
           },
           "zaxis": {
            "backgroundcolor": "#E5ECF6",
            "gridcolor": "white",
            "gridwidth": 2,
            "linecolor": "white",
            "showbackground": true,
            "ticks": "",
            "zerolinecolor": "white"
           }
          },
          "shapedefaults": {
           "line": {
            "color": "#2a3f5f"
           }
          },
          "ternary": {
           "aaxis": {
            "gridcolor": "white",
            "linecolor": "white",
            "ticks": ""
           },
           "baxis": {
            "gridcolor": "white",
            "linecolor": "white",
            "ticks": ""
           },
           "bgcolor": "#E5ECF6",
           "caxis": {
            "gridcolor": "white",
            "linecolor": "white",
            "ticks": ""
           }
          },
          "title": {
           "x": 0.05
          },
          "xaxis": {
           "automargin": true,
           "gridcolor": "white",
           "linecolor": "white",
           "ticks": "",
           "title": {
            "standoff": 15
           },
           "zerolinecolor": "white",
           "zerolinewidth": 2
          },
          "yaxis": {
           "automargin": true,
           "gridcolor": "white",
           "linecolor": "white",
           "ticks": "",
           "title": {
            "standoff": 15
           },
           "zerolinecolor": "white",
           "zerolinewidth": 2
          }
         }
        },
        "title": {
         "text": "Distribución Número de número de bases por barrio"
        },
        "xaxis": {
         "title": {
          "text": "Barrio"
         }
        },
        "yaxis": {
         "title": {
          "text": "Número absoluto de estaciones"
         }
        }
       }
      }
     },
     "metadata": {},
     "output_type": "display_data"
    }
   ],
   "source": [
    "count_barrio = bases[\"Barrio\"].value_counts() \n",
    "labels_barrio = count_barrio.index\n",
    "\n",
    "fig = go.Figure()\n",
    "fig.add_trace(\n",
    "    go.Bar(\n",
    "        x = labels_barrio,\n",
    "        y = count_barrio,\n",
    "        showlegend = False\n",
    "    )\n",
    ")\n",
    "fig.update_layout(title = \"Distribución Número de número de bases por barrio\",\n",
    "                  xaxis_title = \"Barrio\", yaxis_title = \"Número absoluto de estaciones\")\n",
    "fig.show()"
   ]
  },
  {
   "cell_type": "markdown",
   "metadata": {},
   "source": [
    "**Location of Bases - Latitude and Longitude**: all bases located in Madrid. Correct data."
   ]
  },
  {
   "cell_type": "markdown",
   "metadata": {},
   "source": [
    "#### **3. RESHAPING DATA**"
   ]
  },
  {
   "cell_type": "markdown",
   "metadata": {},
   "source": [
    "1. With the purpose of optimizing space, variables that are irrelevant for the model are deleted - bases_clean\n",
    "\n",
    "** Delete CALLE and Nº de FINCA as these to variables concatenated form variable DIRECCION. "
   ]
  },
  {
   "cell_type": "code",
   "execution_count": 53,
   "metadata": {},
   "outputs": [
    {
     "data": {
      "text/html": [
       "<div>\n",
       "<style scoped>\n",
       "    .dataframe tbody tr th:only-of-type {\n",
       "        vertical-align: middle;\n",
       "    }\n",
       "\n",
       "    .dataframe tbody tr th {\n",
       "        vertical-align: top;\n",
       "    }\n",
       "\n",
       "    .dataframe thead th {\n",
       "        text-align: right;\n",
       "    }\n",
       "</style>\n",
       "<table border=\"1\" class=\"dataframe\">\n",
       "  <thead>\n",
       "    <tr style=\"text-align: right;\">\n",
       "      <th></th>\n",
       "      <th>Número</th>\n",
       "      <th>Distrito</th>\n",
       "      <th>Barrio</th>\n",
       "      <th>Calle</th>\n",
       "      <th>Nº Finca</th>\n",
       "      <th>Número de Plazas</th>\n",
       "      <th>Longitud</th>\n",
       "      <th>Latitud</th>\n",
       "    </tr>\n",
       "  </thead>\n",
       "  <tbody>\n",
       "    <tr>\n",
       "      <th>0</th>\n",
       "      <td>001 a</td>\n",
       "      <td>01  CENTRO</td>\n",
       "      <td>01-06 SOL</td>\n",
       "      <td>ALCALA, CALLE, DE</td>\n",
       "      <td>2</td>\n",
       "      <td>30</td>\n",
       "      <td>-3.701998</td>\n",
       "      <td>40.417111</td>\n",
       "    </tr>\n",
       "    <tr>\n",
       "      <th>1</th>\n",
       "      <td>001 b</td>\n",
       "      <td>01  CENTRO</td>\n",
       "      <td>01-06 SOL</td>\n",
       "      <td>ALCALA, CALLE, DE</td>\n",
       "      <td>6</td>\n",
       "      <td>30</td>\n",
       "      <td>-3.701564</td>\n",
       "      <td>40.417213</td>\n",
       "    </tr>\n",
       "    <tr>\n",
       "      <th>2</th>\n",
       "      <td>2</td>\n",
       "      <td>01  CENTRO</td>\n",
       "      <td>01-05 UNIVERSIDAD</td>\n",
       "      <td>MIGUEL MOYA, CALLE, DE</td>\n",
       "      <td>1</td>\n",
       "      <td>24</td>\n",
       "      <td>-3.705674</td>\n",
       "      <td>40.420580</td>\n",
       "    </tr>\n",
       "    <tr>\n",
       "      <th>3</th>\n",
       "      <td>3</td>\n",
       "      <td>07  CHAMBERÍ</td>\n",
       "      <td>07-02 ARAPILES</td>\n",
       "      <td>CONDE DEL VALLE DE SUCHIL, PLAZA, DEL</td>\n",
       "      <td>2</td>\n",
       "      <td>18</td>\n",
       "      <td>-3.707212</td>\n",
       "      <td>40.430322</td>\n",
       "    </tr>\n",
       "    <tr>\n",
       "      <th>4</th>\n",
       "      <td>4</td>\n",
       "      <td>01  CENTRO</td>\n",
       "      <td>01-05 UNIVERSIDAD</td>\n",
       "      <td>MANUELA MALASAÑA, CALLE, DE</td>\n",
       "      <td>3</td>\n",
       "      <td>24</td>\n",
       "      <td>-3.702674</td>\n",
       "      <td>40.428590</td>\n",
       "    </tr>\n",
       "  </tbody>\n",
       "</table>\n",
       "</div>"
      ],
      "text/plain": [
       "  Número      Distrito             Barrio  \\\n",
       "0  001 a    01  CENTRO          01-06 SOL   \n",
       "1  001 b    01  CENTRO          01-06 SOL   \n",
       "2      2    01  CENTRO  01-05 UNIVERSIDAD   \n",
       "3      3  07  CHAMBERÍ     07-02 ARAPILES   \n",
       "4      4    01  CENTRO  01-05 UNIVERSIDAD   \n",
       "\n",
       "                                   Calle Nº Finca  Número de Plazas  Longitud  \\\n",
       "0                      ALCALA, CALLE, DE        2                30 -3.701998   \n",
       "1                      ALCALA, CALLE, DE        6                30 -3.701564   \n",
       "2                 MIGUEL MOYA, CALLE, DE        1                24 -3.705674   \n",
       "3  CONDE DEL VALLE DE SUCHIL, PLAZA, DEL        2                18 -3.707212   \n",
       "4            MANUELA MALASAÑA, CALLE, DE        3                24 -3.702674   \n",
       "\n",
       "     Latitud  \n",
       "0  40.417111  \n",
       "1  40.417213  \n",
       "2  40.420580  \n",
       "3  40.430322  \n",
       "4  40.428590  "
      ]
     },
     "execution_count": 53,
     "metadata": {},
     "output_type": "execute_result"
    }
   ],
   "source": [
    "bases_clean = bases.drop(columns = [\"Gis_X\", \"Gis_Y\", \"Fecha de Alta\", \"Direccion\", \"Tipo de Reserva\"], axis = 1)\n",
    "bases_clean.head()"
   ]
  },
  {
   "cell_type": "markdown",
   "metadata": {},
   "source": [
    "2. Join bases that have two stations (a and b) under the same station. Add the number of docks."
   ]
  },
  {
   "cell_type": "code",
   "execution_count": 54,
   "metadata": {},
   "outputs": [
    {
     "data": {
      "text/html": [
       "<div>\n",
       "<style scoped>\n",
       "    .dataframe tbody tr th:only-of-type {\n",
       "        vertical-align: middle;\n",
       "    }\n",
       "\n",
       "    .dataframe tbody tr th {\n",
       "        vertical-align: top;\n",
       "    }\n",
       "\n",
       "    .dataframe thead th {\n",
       "        text-align: right;\n",
       "    }\n",
       "</style>\n",
       "<table border=\"1\" class=\"dataframe\">\n",
       "  <thead>\n",
       "    <tr style=\"text-align: right;\">\n",
       "      <th></th>\n",
       "      <th>Número</th>\n",
       "      <th>Distrito</th>\n",
       "      <th>Barrio</th>\n",
       "      <th>Calle</th>\n",
       "      <th>Nº Finca</th>\n",
       "      <th>Número de Plazas</th>\n",
       "      <th>Longitud</th>\n",
       "      <th>Latitud</th>\n",
       "    </tr>\n",
       "  </thead>\n",
       "  <tbody>\n",
       "    <tr>\n",
       "      <th>0</th>\n",
       "      <td>001 a</td>\n",
       "      <td>01  CENTRO</td>\n",
       "      <td>01-06 SOL</td>\n",
       "      <td>ALCALA, CALLE, DE</td>\n",
       "      <td>2</td>\n",
       "      <td>30</td>\n",
       "      <td>-3.701998</td>\n",
       "      <td>40.417111</td>\n",
       "    </tr>\n",
       "    <tr>\n",
       "      <th>1</th>\n",
       "      <td>001 b</td>\n",
       "      <td>01  CENTRO</td>\n",
       "      <td>01-06 SOL</td>\n",
       "      <td>ALCALA, CALLE, DE</td>\n",
       "      <td>6</td>\n",
       "      <td>30</td>\n",
       "      <td>-3.701564</td>\n",
       "      <td>40.417213</td>\n",
       "    </tr>\n",
       "    <tr>\n",
       "      <th>21</th>\n",
       "      <td>020 ampliacion</td>\n",
       "      <td>01  CENTRO</td>\n",
       "      <td>01-04 JUSTICIA</td>\n",
       "      <td>ALCALA, CALLE, DE</td>\n",
       "      <td>49</td>\n",
       "      <td>6</td>\n",
       "      <td>-3.695290</td>\n",
       "      <td>40.419186</td>\n",
       "    </tr>\n",
       "    <tr>\n",
       "      <th>25</th>\n",
       "      <td>025 a</td>\n",
       "      <td>01  CENTRO</td>\n",
       "      <td>01-06 SOL</td>\n",
       "      <td>CELENQUE, PLAZA, DEL</td>\n",
       "      <td>1</td>\n",
       "      <td>24</td>\n",
       "      <td>-3.705998</td>\n",
       "      <td>40.417342</td>\n",
       "    </tr>\n",
       "    <tr>\n",
       "      <th>26</th>\n",
       "      <td>025 b</td>\n",
       "      <td>01  CENTRO</td>\n",
       "      <td>01-06 SOL</td>\n",
       "      <td>CELENQUE, PLAZA, DEL</td>\n",
       "      <td>1</td>\n",
       "      <td>24</td>\n",
       "      <td>-3.706024</td>\n",
       "      <td>40.417259</td>\n",
       "    </tr>\n",
       "    <tr>\n",
       "      <th>79</th>\n",
       "      <td>080 a</td>\n",
       "      <td>02  ARGANZUELA</td>\n",
       "      <td>02-07 ATOCHA</td>\n",
       "      <td>CIUDAD DE BARCELONA, AVENIDA, DE LA</td>\n",
       "      <td>S/N</td>\n",
       "      <td>24</td>\n",
       "      <td>-3.690482</td>\n",
       "      <td>40.407412</td>\n",
       "    </tr>\n",
       "    <tr>\n",
       "      <th>80</th>\n",
       "      <td>080 b</td>\n",
       "      <td>02  ARGANZUELA</td>\n",
       "      <td>02-07 ATOCHA</td>\n",
       "      <td>CIUDAD DE BARCELONA, AVENIDA, DE LA</td>\n",
       "      <td>S/N</td>\n",
       "      <td>27</td>\n",
       "      <td>-3.690724</td>\n",
       "      <td>40.407626</td>\n",
       "    </tr>\n",
       "    <tr>\n",
       "      <th>91</th>\n",
       "      <td>090 ampliacion</td>\n",
       "      <td>04  SALAMANCA</td>\n",
       "      <td>04-01 RECOLETOS</td>\n",
       "      <td>GOYA, CALLE, DE</td>\n",
       "      <td>20</td>\n",
       "      <td>6</td>\n",
       "      <td>-3.683561</td>\n",
       "      <td>40.425079</td>\n",
       "    </tr>\n",
       "    <tr>\n",
       "      <th>107</th>\n",
       "      <td>106 a</td>\n",
       "      <td>04  SALAMANCA</td>\n",
       "      <td>04-01 RECOLETOS</td>\n",
       "      <td>SERRANO, CALLE, DE</td>\n",
       "      <td>32</td>\n",
       "      <td>18</td>\n",
       "      <td>-3.687887</td>\n",
       "      <td>40.424864</td>\n",
       "    </tr>\n",
       "    <tr>\n",
       "      <th>108</th>\n",
       "      <td>106 b</td>\n",
       "      <td>04  SALAMANCA</td>\n",
       "      <td>04-01 RECOLETOS</td>\n",
       "      <td>SERRANO, CALLE, DE</td>\n",
       "      <td>34</td>\n",
       "      <td>18</td>\n",
       "      <td>-3.687860</td>\n",
       "      <td>40.425008</td>\n",
       "    </tr>\n",
       "    <tr>\n",
       "      <th>113</th>\n",
       "      <td>111 a</td>\n",
       "      <td>07  CHAMBERÍ</td>\n",
       "      <td>07-01 GAZTAMBIDE</td>\n",
       "      <td>ARCIPRESTE DE HITA, CALLE, DEL</td>\n",
       "      <td>8</td>\n",
       "      <td>24</td>\n",
       "      <td>-3.717490</td>\n",
       "      <td>40.433574</td>\n",
       "    </tr>\n",
       "    <tr>\n",
       "      <th>114</th>\n",
       "      <td>111 b</td>\n",
       "      <td>07  CHAMBERÍ</td>\n",
       "      <td>07-01 GAZTAMBIDE</td>\n",
       "      <td>ARCIPRESTE DE HITA, CALLE, DEL</td>\n",
       "      <td>12</td>\n",
       "      <td>24</td>\n",
       "      <td>-3.717778</td>\n",
       "      <td>40.433982</td>\n",
       "    </tr>\n",
       "    <tr>\n",
       "      <th>119</th>\n",
       "      <td>116 a</td>\n",
       "      <td>09  MONCLOA-ARAVACA</td>\n",
       "      <td>09-02 ARGÜELLES</td>\n",
       "      <td>ESPAÑA, PLAZA, DE</td>\n",
       "      <td>S/N</td>\n",
       "      <td>24</td>\n",
       "      <td>-3.711759</td>\n",
       "      <td>40.424063</td>\n",
       "    </tr>\n",
       "    <tr>\n",
       "      <th>120</th>\n",
       "      <td>116 b</td>\n",
       "      <td>09  MONCLOA-ARAVACA</td>\n",
       "      <td>09-02 ARGÜELLES</td>\n",
       "      <td>ESPAÑA, PLAZA, DE</td>\n",
       "      <td>S/N</td>\n",
       "      <td>24</td>\n",
       "      <td>-3.711846</td>\n",
       "      <td>40.424189</td>\n",
       "    </tr>\n",
       "    <tr>\n",
       "      <th>133</th>\n",
       "      <td>128 ampliacion</td>\n",
       "      <td>07  CHAMBERÍ</td>\n",
       "      <td>07-01 GAZTAMBIDE</td>\n",
       "      <td>CEA BERMUDEZ, CALLE, DE</td>\n",
       "      <td>59</td>\n",
       "      <td>3</td>\n",
       "      <td>-3.715692</td>\n",
       "      <td>40.439039</td>\n",
       "    </tr>\n",
       "    <tr>\n",
       "      <th>146</th>\n",
       "      <td>140 ampliación</td>\n",
       "      <td>05  CHAMARTÍN</td>\n",
       "      <td>05-01 EL VISO</td>\n",
       "      <td>VELAZQUEZ, CALLE, DE</td>\n",
       "      <td>134</td>\n",
       "      <td>3</td>\n",
       "      <td>-3.682913</td>\n",
       "      <td>40.438520</td>\n",
       "    </tr>\n",
       "    <tr>\n",
       "      <th>168</th>\n",
       "      <td>161 ampliacion</td>\n",
       "      <td>09  MONCLOA-ARAVACA</td>\n",
       "      <td>09-01 CASA DE CAMPO</td>\n",
       "      <td>FLORIDA, PASEO, DE LA</td>\n",
       "      <td>6</td>\n",
       "      <td>3</td>\n",
       "      <td>-3.721966</td>\n",
       "      <td>40.422057</td>\n",
       "    </tr>\n",
       "  </tbody>\n",
       "</table>\n",
       "</div>"
      ],
      "text/plain": [
       "             Número             Distrito               Barrio  \\\n",
       "0             001 a           01  CENTRO            01-06 SOL   \n",
       "1             001 b           01  CENTRO            01-06 SOL   \n",
       "21   020 ampliacion           01  CENTRO       01-04 JUSTICIA   \n",
       "25            025 a           01  CENTRO            01-06 SOL   \n",
       "26            025 b           01  CENTRO            01-06 SOL   \n",
       "79            080 a       02  ARGANZUELA         02-07 ATOCHA   \n",
       "80            080 b       02  ARGANZUELA         02-07 ATOCHA   \n",
       "91   090 ampliacion        04  SALAMANCA      04-01 RECOLETOS   \n",
       "107           106 a        04  SALAMANCA      04-01 RECOLETOS   \n",
       "108           106 b        04  SALAMANCA      04-01 RECOLETOS   \n",
       "113           111 a         07  CHAMBERÍ     07-01 GAZTAMBIDE   \n",
       "114           111 b         07  CHAMBERÍ     07-01 GAZTAMBIDE   \n",
       "119           116 a  09  MONCLOA-ARAVACA      09-02 ARGÜELLES   \n",
       "120           116 b  09  MONCLOA-ARAVACA      09-02 ARGÜELLES   \n",
       "133  128 ampliacion         07  CHAMBERÍ     07-01 GAZTAMBIDE   \n",
       "146  140 ampliación        05  CHAMARTÍN        05-01 EL VISO   \n",
       "168  161 ampliacion  09  MONCLOA-ARAVACA  09-01 CASA DE CAMPO   \n",
       "\n",
       "                                   Calle Nº Finca  Número de Plazas  Longitud  \\\n",
       "0                      ALCALA, CALLE, DE        2                30 -3.701998   \n",
       "1                      ALCALA, CALLE, DE        6                30 -3.701564   \n",
       "21                     ALCALA, CALLE, DE       49                 6 -3.695290   \n",
       "25                  CELENQUE, PLAZA, DEL        1                24 -3.705998   \n",
       "26                  CELENQUE, PLAZA, DEL        1                24 -3.706024   \n",
       "79   CIUDAD DE BARCELONA, AVENIDA, DE LA      S/N                24 -3.690482   \n",
       "80   CIUDAD DE BARCELONA, AVENIDA, DE LA      S/N                27 -3.690724   \n",
       "91                       GOYA, CALLE, DE       20                 6 -3.683561   \n",
       "107                   SERRANO, CALLE, DE       32                18 -3.687887   \n",
       "108                   SERRANO, CALLE, DE       34                18 -3.687860   \n",
       "113       ARCIPRESTE DE HITA, CALLE, DEL        8                24 -3.717490   \n",
       "114       ARCIPRESTE DE HITA, CALLE, DEL       12                24 -3.717778   \n",
       "119                    ESPAÑA, PLAZA, DE      S/N                24 -3.711759   \n",
       "120                    ESPAÑA, PLAZA, DE      S/N                24 -3.711846   \n",
       "133              CEA BERMUDEZ, CALLE, DE       59                 3 -3.715692   \n",
       "146                 VELAZQUEZ, CALLE, DE      134                 3 -3.682913   \n",
       "168                FLORIDA, PASEO, DE LA        6                 3 -3.721966   \n",
       "\n",
       "       Latitud  \n",
       "0    40.417111  \n",
       "1    40.417213  \n",
       "21   40.419186  \n",
       "25   40.417342  \n",
       "26   40.417259  \n",
       "79   40.407412  \n",
       "80   40.407626  \n",
       "91   40.425079  \n",
       "107  40.424864  \n",
       "108  40.425008  \n",
       "113  40.433574  \n",
       "114  40.433982  \n",
       "119  40.424063  \n",
       "120  40.424189  \n",
       "133  40.439039  \n",
       "146  40.438520  \n",
       "168  40.422057  "
      ]
     },
     "execution_count": 54,
     "metadata": {},
     "output_type": "execute_result"
    }
   ],
   "source": [
    "bases_repeat = bases_clean[(bases_clean['Número'].str.len() > 3 )]\n",
    "bases_repeat"
   ]
  },
  {
   "cell_type": "code",
   "execution_count": 55,
   "metadata": {},
   "outputs": [
    {
     "data": {
      "text/plain": [
       "Número               object\n",
       "Distrito             object\n",
       "Barrio               object\n",
       "Calle                object\n",
       "Nº Finca             object\n",
       "Número de Plazas      int64\n",
       "Longitud            float64\n",
       "Latitud             float64\n",
       "dtype: object"
      ]
     },
     "execution_count": 55,
     "metadata": {},
     "output_type": "execute_result"
    }
   ],
   "source": [
    "bases_clean.loc[0:1, \"Número\"] = 1\n",
    "bases_clean.loc[21, \"Número\"] = 20\n",
    "bases_clean.loc[25:26, \"Número\"] = 25\n",
    "bases_clean.loc[79:80, \"Número\"] = 80\n",
    "bases_clean.loc[91, \"Número\"] = 90\n",
    "bases_clean.loc[107:108, \"Número\"] = 106\n",
    "bases_clean.loc[113:114, \"Número\"] = 111\n",
    "bases_clean.loc[119:120, \"Número\"] = 116\n",
    "bases_clean.loc[133, \"Número\"] = 128\n",
    "bases_clean.loc[146, \"Número\"] = 140\n",
    "bases_clean.loc[168, \"Número\"] = 161\n",
    "\n",
    "bases_clean.dtypes"
   ]
  },
  {
   "cell_type": "code",
   "execution_count": 57,
   "metadata": {},
   "outputs": [],
   "source": [
    "bases_final = bases_clean.groupby([\"Número\", 'Distrito', 'Barrio', 'Calle'], as_index=False).agg({ 'Nº Finca':pd.Series.mode, 'Número de Plazas':'sum', 'Longitud': 'min', 'Latitud': 'min'})"
   ]
  },
  {
   "cell_type": "markdown",
   "metadata": {},
   "source": [
    "#### **Save data**"
   ]
  },
  {
   "cell_type": "code",
   "execution_count": 59,
   "metadata": {},
   "outputs": [],
   "source": [
    "bases_final.to_csv('../Data/Bases/bases.csv')"
   ]
  }
 ],
 "metadata": {
  "kernelspec": {
   "display_name": "Python 3",
   "language": "python",
   "name": "python3"
  },
  "language_info": {
   "codemirror_mode": {
    "name": "ipython",
    "version": 3
   },
   "file_extension": ".py",
   "mimetype": "text/x-python",
   "name": "python",
   "nbconvert_exporter": "python",
   "pygments_lexer": "ipython3",
   "version": "3.8.5"
  },
  "vscode": {
   "interpreter": {
    "hash": "39050fd8cc4c22f6490bdf197f27ef40698f8c053aaa90441856e399e2244469"
   }
  }
 },
 "nbformat": 4,
 "nbformat_minor": 2
}
